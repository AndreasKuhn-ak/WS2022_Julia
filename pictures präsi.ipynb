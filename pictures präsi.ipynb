{
 "cells": [
  {
   "cell_type": "code",
   "execution_count": 2,
   "id": "0455d451-5d1e-4978-8c80-91da8a413fd5",
   "metadata": {},
   "outputs": [
    {
     "data": {
      "text/plain": [
       "3×3 Matrix{Int64}:\n",
       " 0  -5  43\n",
       " 1  -2   0\n",
       " 0  -9   2"
      ]
     },
     "execution_count": 2,
     "metadata": {},
     "output_type": "execute_result"
    }
   ],
   "source": [
    "mat = [0 -5 43 ; 1 -2 0 ; 0 -9 2]"
   ]
  },
  {
   "cell_type": "code",
   "execution_count": 5,
   "id": "01fbfe6d-786f-4864-9842-c12e7f5ee6aa",
   "metadata": {},
   "outputs": [
    {
     "data": {
      "text/plain": [
       "3-element Vector{Int64}:\n",
       " 5\n",
       " 1\n",
       " 0"
      ]
     },
     "execution_count": 5,
     "metadata": {},
     "output_type": "execute_result"
    }
   ],
   "source": [
    "vec = [5, 1, 0]"
   ]
  },
  {
   "cell_type": "code",
   "execution_count": 6,
   "id": "34e7c0ba-cee2-4779-b29c-7c4fdf7ef829",
   "metadata": {},
   "outputs": [
    {
     "data": {
      "text/plain": [
       "3-element Vector{Int64}:\n",
       " -5\n",
       "  3\n",
       " -9"
      ]
     },
     "execution_count": 6,
     "metadata": {},
     "output_type": "execute_result"
    }
   ],
   "source": [
    "mat*vec"
   ]
  },
  {
   "cell_type": "code",
   "execution_count": null,
   "id": "41a5f63d-98ca-4f32-a5c2-f232e118db01",
   "metadata": {},
   "outputs": [],
   "source": []
  }
 ],
 "metadata": {
  "kernelspec": {
   "display_name": "Julia 1.9.0",
   "language": "julia",
   "name": "julia-1.9"
  },
  "language_info": {
   "file_extension": ".jl",
   "mimetype": "application/julia",
   "name": "julia",
   "version": "1.9.0"
  }
 },
 "nbformat": 4,
 "nbformat_minor": 5
}
