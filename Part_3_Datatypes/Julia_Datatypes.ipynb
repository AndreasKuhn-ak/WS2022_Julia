{
 "cells": [
  {
   "cell_type": "markdown",
   "metadata": {},
   "source": [
    "<p style='text-align: center'><a href=https://www.biozentrum.uni-wuerzburg.de/cctb/research/supramolecular-and-cellular-simulations/>Supramolecular and Cellular Simulations</a> (Prof. Fischer)<br>Center for Computational and Theoretical Biology - CCTB<br>Faculty of Biology, University of Würzburg</p>\n",
    "\n",
    "<p style='text-align: center'><br><br>We are looking forward to your comments and suggestions. Please send them to: <br><br></p>\n",
    "    \n",
    " <p style='text-align: center'>   <a href=andreas.kuhn@uni.wuerzburg.de>andreas.kuhn@uni.wuerzburg.de</a> or <a href=sabine.fischer@uni.wuerzburg.de>sabine.fischer@uni.wuerzburg.de</a></p>\n",
    "\n",
    "<h1><p style='text-align: center'> Introduction to Julia </p></h1>\n"
   ]
  },
  {
   "cell_type": "markdown",
   "metadata": {},
   "source": [
    "## 3. Datatypes\n",
    "\n",
    "In the following lecture and exercises, you will learn the most important datatypes that are used in Julia."
   ]
  },
  {
   "cell_type": "markdown",
   "metadata": {},
   "source": [
    "### 1. Basics:  Dynamic types\n",
    "\n",
    "Julia is a dynamically typed language. That means, that the programmer does not have to specify the type of an object when it is created. Therefore, we do not need to type `int a = 10` like in languages such as `C/C++` or `Java`. Instead, we just type `a = 10 ` and the compiler (the translater between Julia and machine code, the language that your processor actually speaks) assigns the data types automatically. In most cases, this works perfectly fine, but if you run into some type related problems or are note sure about the type of a variable you can check its type by `typeof(variable)`. \n",
    "\n",
    "It is also possible to assign every variable a type during its creation, which makes Julia an optionally statically typed language as well. But in the beginning, this is typically not worth the effort and introduces a lot of complexity. Therefore, we skip this for now.\n",
    "\n",
    "Comment: Modern compilers are quite smart, so you should really know what you are doing if you force the compiler to use static types or behave in a certain way. The `C++` wiki even lists [outsmarting the compiler](https://wiki.c2.com/?OutsmartingTheCompiler) as a common antipattern that should be avoided.   \n"
   ]
  },
  {
   "cell_type": "markdown",
   "metadata": {},
   "source": [
    "### 2. Numerical Datatypes:\n",
    "#### 2.1 Int64 - Integers\n",
    "\n",
    "Integers are basically made of digits from 0 to 9 without any fractional component and can be positive or negative. They can be used for mathematical operations or as values for variables. For mathematical operations, integers can be connected by operators like `+, -, *,/, ^ `. The results of these operations can also be assigned to a variable. The standard integer type is `Int64`, which means that 8 bytes (64 Bit) are used to represent numbers from  $−(2^{63})$ to $2^{63} − 1$.    $(2^{63} \\approx  9.223 \\cdot 10^{18})$.\n",
    "\n",
    "\n"
   ]
  },
  {
   "cell_type": "code",
   "execution_count": null,
   "metadata": {},
   "outputs": [],
   "source": [
    "5+7"
   ]
  },
  {
   "cell_type": "code",
   "execution_count": null,
   "metadata": {},
   "outputs": [],
   "source": [
    "typeof(5+7)"
   ]
  },
  {
   "cell_type": "code",
   "execution_count": null,
   "metadata": {},
   "outputs": [],
   "source": [
    "a=34\n",
    "b=17\n",
    "c=9\n",
    "println(a,b,c)"
   ]
  },
  {
   "cell_type": "code",
   "execution_count": null,
   "metadata": {},
   "outputs": [],
   "source": [
    "println(a+b*c)"
   ]
  },
  {
   "cell_type": "code",
   "execution_count": null,
   "metadata": {},
   "outputs": [],
   "source": [
    "d=a+b+c\n",
    "e=a-b+c\n",
    "f=a*b/c\n",
    "println(d)\n",
    "println(e)\n",
    "println(f)"
   ]
  },
  {
   "cell_type": "markdown",
   "metadata": {},
   "source": [
    "#### 2.2 Float64 - Floating point numbers\n",
    "\n",
    "The datatype `Float64` represents non-integer numbers. In Julia the whole number part of a floating number is separated from the decimal part by a `.` . The datatype `Float64` can be used just as the datatype `Int64`.\n",
    "As you may have seen in the previous cell, Julia automatically casts the results of `Int64` operations to a `Float64`, if the result is not an integer."
   ]
  },
  {
   "cell_type": "code",
   "execution_count": null,
   "metadata": {},
   "outputs": [],
   "source": [
    "println(typeof(d))\n",
    "println(typeof(e))\n",
    "println(typeof(f))"
   ]
  },
  {
   "cell_type": "markdown",
   "metadata": {},
   "source": [
    "You can round `Float64` variables with the `round()` function. The first argument is the value to be rounded and the second optional argument is the number of digits. If digits is not given, the default value is zero.  "
   ]
  },
  {
   "cell_type": "code",
   "execution_count": null,
   "metadata": {},
   "outputs": [],
   "source": [
    "round(f)"
   ]
  },
  {
   "cell_type": "code",
   "execution_count": null,
   "metadata": {},
   "outputs": [],
   "source": [
    "println(round(f))\n",
    "println(round(f,digits = 3))"
   ]
  },
  {
   "cell_type": "markdown",
   "metadata": {},
   "source": [
    "If you want to cast a `Float64` to an `Int64`, you can specify the datatype of the output as the first argument of the `round` function. The default value is the original datatype of the given variable."
   ]
  },
  {
   "cell_type": "code",
   "execution_count": null,
   "metadata": {},
   "outputs": [],
   "source": [
    "println(round(Int64,f))\n",
    "println(typeof(round(Int64,f)))"
   ]
  },
  {
   "cell_type": "markdown",
   "metadata": {},
   "source": [
    "As mentioned previously, Julia automatically assigns the datatype to variables. You can use this to your advantage and just add a `.0` to an integer value if you want to create a `Float64` instead. "
   ]
  },
  {
   "cell_type": "code",
   "execution_count": null,
   "metadata": {},
   "outputs": [],
   "source": [
    "g = 10.0\n",
    "h = 10\n",
    "println(typeof(g))\n",
    "println(typeof(h))"
   ]
  },
  {
   "cell_type": "markdown",
   "metadata": {},
   "source": [
    "Note: There are also smaller and biger integer/float types in Julia like `Int32`, `Float32`, `Int16`, `Int128`... . However, unless memory usage becomes a problem or you need really and i mean really big numbers you should not bother using them. "
   ]
  },
  {
   "cell_type": "markdown",
   "metadata": {},
   "source": [
    "### 3. str - Strings:\n",
    "\n",
    "A string is a sequence of symbols  within `\"` . Almost every Julia object can be converted to a string  with `string(object)`. Strings can be concatenated with `*` or repeated by multiplication with an integer with `^`. The length of a string can be  determined with `length(string)`. \n",
    "\n",
    "To get individual symbols from a string, you have to work with indices. For example from the `sentence = \"this is a string\"`,  `sentence[1]` returns the first symbol, which in this case is a `'t'`. Indices of strings start with 1 and end with the length of the string. To get the length of a string, the   `length(string)` function can be used. \n"
   ]
  },
  {
   "cell_type": "code",
   "execution_count": null,
   "metadata": {},
   "outputs": [],
   "source": [
    "string1 = \"Hello\"\n",
    "string2 = \"World\"\n",
    "println(string1)\n",
    "println(string2)"
   ]
  },
  {
   "cell_type": "code",
   "execution_count": null,
   "metadata": {},
   "outputs": [],
   "source": [
    "string3 = string1 * string2\n",
    "println(string3)"
   ]
  },
  {
   "cell_type": "code",
   "execution_count": null,
   "metadata": {},
   "outputs": [],
   "source": [
    "string_multiply = string1 ^5\n",
    "println(string_multiply)"
   ]
  },
  {
   "cell_type": "code",
   "execution_count": null,
   "metadata": {},
   "outputs": [],
   "source": [
    "string4 = string1 * \" \" * string2 * \"!\"\n",
    "println(string4)"
   ]
  },
  {
   "cell_type": "code",
   "execution_count": null,
   "metadata": {},
   "outputs": [],
   "source": [
    "A = 9\n",
    "string5 = \"The value of A is: \" * string(A)\n",
    "println(string5)"
   ]
  },
  {
   "cell_type": "code",
   "execution_count": null,
   "metadata": {},
   "outputs": [],
   "source": [
    "println(string1[1])"
   ]
  },
  {
   "cell_type": "markdown",
   "metadata": {},
   "source": [
    "With indices it is also possible to get parts (so called slices) of strings. E.g. `string[1:5]` returns a new string with the first to fifth symbol or `string[6:10]` returns a string containing the 6th to 10th symbol. If you add a third parameter to the slicing syntax, the second value defines the increment (default value = 1) e.g. `string[1:2:5]` returns the symbols from the first to the fith in steps of 2, i.e. the first, third and fifth symbol. "
   ]
  },
  {
   "cell_type": "code",
   "execution_count": null,
   "metadata": {},
   "outputs": [],
   "source": [
    "string4"
   ]
  },
  {
   "cell_type": "code",
   "execution_count": null,
   "metadata": {},
   "outputs": [],
   "source": [
    "string4[1:5]"
   ]
  },
  {
   "cell_type": "code",
   "execution_count": null,
   "metadata": {},
   "outputs": [],
   "source": [
    "println(string4[1:1:12])\n",
    "println(string4[1:2:12])\n",
    "# you can also make the increment negative and go backwards\n",
    "println(string4[12:-1:1])"
   ]
  },
  {
   "cell_type": "markdown",
   "metadata": {},
   "source": [
    "### 4. Array, tuple and set:\n",
    "\n",
    "#### 4.1 Array\n",
    "An array in Julia is an ordered sequence of objects inside of square brackets `[]`, separated by commas `,` . Arrays can contain objects of every type even other arrays. Ordered means, that all elements stay in the order that they were initially given, when the array was created. \n",
    "\n",
    "Arrays are exceptionally versatile and easy to handle datatypes. To access single items from an array, you can use the square bracket notation `array[index]` like you did with strings. Like strings, arrays start with index `[1]` and end with `[length(array)]`. Arrays are mutable, i.e. values of items cannot only be accessed, but also changed with the square bracket notation e.g. `array[index] = 2`.\n",
    "\n",
    "Arrays always have a type. This type is automatically assigned by the compiler based on the given values eg. `[1,3,67,100]` will become an `Int64` array and `[2.0,1.0,1]` will become a `Float64` array. It is also possible to assign the type of an array manually by typing the type in front of it, like `Int64[1,6,43]`.\n",
    "\n",
    "If the compiler cannot find a common type of the given values, like in `[\"hans\",1,'e',6.0]`, it will create an `Any` array, which can contain anything ;). Computations with `Any` arrays are slower than with arrays with a fixed type. Hence, even though `Any` arrays are quite convenient to use, they should be avoided in computational heavy workloads. "
   ]
  },
  {
   "cell_type": "code",
   "execution_count": null,
   "metadata": {},
   "outputs": [],
   "source": [
    "array0 = [1,2,3,4,5,6]\n",
    "println(array0[1])\n",
    "array0"
   ]
  },
  {
   "cell_type": "markdown",
   "metadata": {},
   "source": [
    "You can also access multiple elements of an array, using the same slicing notation as for `strings`. If you do not know the length of an array (or `String`), you can use the keyword `end`, which always points to the last element of an array. "
   ]
  },
  {
   "cell_type": "code",
   "execution_count": null,
   "metadata": {},
   "outputs": [],
   "source": [
    "println(array0[1:4])\n",
    "println(array0[end])\n",
    "println(array0[1:2:end])\n"
   ]
  },
  {
   "cell_type": "markdown",
   "metadata": {},
   "source": [
    "Note: Julia follows the math convention to call a one-dimensional array a `Vector` and a two-dimensional array a `Matrix`. But it does not stop there. The basic Julia arrays can perform many linear algebra operations like matrix multiplication, scalar product, ... out of the box. "
   ]
  },
  {
   "cell_type": "code",
   "execution_count": null,
   "metadata": {},
   "outputs": [],
   "source": [
    "array0"
   ]
  },
  {
   "cell_type": "markdown",
   "metadata": {},
   "source": [
    "A 2D-array can be created using nested square brackets. "
   ]
  },
  {
   "cell_type": "code",
   "execution_count": null,
   "metadata": {},
   "outputs": [],
   "source": [
    "twoD_array = [[1,2] [3,4]]"
   ]
  },
  {
   "cell_type": "markdown",
   "metadata": {},
   "source": [
    "If we want to add elements to an array, we can use the `push!()` function, which takes two or more arguments. The first argument is the array we want to expand. The next arguments are the elements we want to add to the array. If we want to concatenate arrays, we can use the `append!()` function.\n",
    "\n",
    "Side Note: The Julia standard library uses the convention to end all functions which modify the first input argument with an `!`. "
   ]
  },
  {
   "cell_type": "code",
   "execution_count": null,
   "metadata": {},
   "outputs": [],
   "source": [
    "# create an empty Int64 array\n",
    "array_empty = Int64[]\n",
    "push!(array_empty, 9,19)\n",
    "\n",
    "\n",
    "\n",
    "array_empty"
   ]
  },
  {
   "cell_type": "code",
   "execution_count": null,
   "metadata": {},
   "outputs": [],
   "source": [
    "# pushing a Float64 to an Int64 array causes an error\n",
    "push!(array_empty, 33.2)"
   ]
  },
  {
   "cell_type": "code",
   "execution_count": null,
   "metadata": {},
   "outputs": [],
   "source": [
    "# create an empty Any array\n",
    "array_empty_any = []\n",
    "push!(array_empty_any, 9,19.3)\n",
    "\n",
    "array_empty_any"
   ]
  },
  {
   "cell_type": "code",
   "execution_count": null,
   "metadata": {},
   "outputs": [],
   "source": [
    "println(append!(array0,[1,3,2]))"
   ]
  },
  {
   "cell_type": "markdown",
   "metadata": {},
   "source": [
    "To remove elements from an array, we can either use the `pop!` function to remove the last element or the `deleteat!` function to remove an element at a given index. "
   ]
  },
  {
   "cell_type": "code",
   "execution_count": null,
   "metadata": {},
   "outputs": [],
   "source": [
    "println(array0)\n",
    "pop!(array0)\n",
    "println(array0)\n",
    "deleteat!(array0,3)\n",
    "println(array0)"
   ]
  },
  {
   "cell_type": "markdown",
   "metadata": {},
   "source": [
    "Both functions modify the first argument, i.e. the input array. `pop!` returns the removed value. "
   ]
  },
  {
   "cell_type": "code",
   "execution_count": null,
   "metadata": {},
   "outputs": [],
   "source": [
    "println(array0)\n",
    "popi = pop!(array0)\n",
    "println(popi)\n",
    "println(array0)"
   ]
  },
  {
   "cell_type": "markdown",
   "metadata": {},
   "source": [
    "`deleteat!`returns the modified array."
   ]
  },
  {
   "cell_type": "code",
   "execution_count": null,
   "metadata": {},
   "outputs": [],
   "source": [
    "array1 = Float64[1.0,2.0,3.0,543.0]\n",
    "println(array1)\n",
    "deleti = deleteat!(array1,2)\n",
    "println(array1, deleti , array1 == deleti)"
   ]
  },
  {
   "cell_type": "markdown",
   "metadata": {},
   "source": [
    "If we want to create an array, it can be annoying to always write out the `[,]` notation. If we want to create an array with a given size, but only zeros or ones as elements, we can use the `zeros()` or `ones()` functions. Their input arguments are the size of the array.   "
   ]
  },
  {
   "cell_type": "code",
   "execution_count": null,
   "metadata": {},
   "outputs": [],
   "source": [
    "# if no type is given zeros returns a float array\n",
    "array2 = zeros(10)\n",
    "array2_int = zeros(Int64, 10)\n",
    "println(array2)\n",
    "println(array2_int)"
   ]
  },
  {
   "cell_type": "code",
   "execution_count": null,
   "metadata": {},
   "outputs": [],
   "source": [
    "#it is very easy to create multidimensional arrays this way.\n",
    "array3 = ones(3,4)"
   ]
  },
  {
   "cell_type": "markdown",
   "metadata": {},
   "source": [
    "If we want to access single elements and modify them, we use `[]` . "
   ]
  },
  {
   "cell_type": "code",
   "execution_count": null,
   "metadata": {},
   "outputs": [],
   "source": [
    "array2[4] = 10\n",
    "println(array2)"
   ]
  },
  {
   "cell_type": "code",
   "execution_count": null,
   "metadata": {},
   "outputs": [],
   "source": [
    "array3[2,2] = 5\n",
    "array3"
   ]
  },
  {
   "cell_type": "markdown",
   "metadata": {},
   "source": [
    "Another way to create big arrays is to use the `collect` function. This function can create arrays with the syntax `start:step:end` known from strings or array access. But this time, the object created by the `start:step:end` notation (a so called iterator) is not used as indices but as values for a new array.  "
   ]
  },
  {
   "cell_type": "code",
   "execution_count": null,
   "metadata": {},
   "outputs": [],
   "source": [
    "array4 = collect(1:10)\n",
    "array5 = collect(1000:-10:1)\n",
    "println(array4)\n",
    "println(array5)"
   ]
  },
  {
   "cell_type": "markdown",
   "metadata": {},
   "source": [
    "##### 4.1.1 Array operations"
   ]
  },
  {
   "cell_type": "markdown",
   "metadata": {},
   "source": [
    "Arrays can interact with the basic numeric datatypes `Int64` and `Float64` and the basic operators `+,-,*,/,=,==,<,>,>=,<=` through a method called broadcasting (sometimes also vectorization). \n",
    "Broadcasting means, that an operation is applied elementwise to every element of an array. This can be done by using the `.` in front of many operators e.g. `.+`. "
   ]
  },
  {
   "cell_type": "code",
   "execution_count": null,
   "metadata": {},
   "outputs": [],
   "source": [
    "array6 = collect(1:5)\n",
    "println(array6)\n",
    "println(array6 .+5)\n",
    "println(array6.*3)"
   ]
  },
  {
   "cell_type": "markdown",
   "metadata": {},
   "source": [
    "Some special operations can act on an array as one entity like vector-vector/matrix-matrix addition or matrix-vector/matrix-matrix multiplication. In these cases, we can just use the `+ ,*` operators without an `.`. But be careful, these operations are only possible if the arrays have the right sizes. "
   ]
  },
  {
   "cell_type": "code",
   "execution_count": null,
   "metadata": {},
   "outputs": [],
   "source": [
    "vector1 = collect(1:5)\n",
    "vector2 = collect(40:2:49)\n",
    "println(vector1)\n",
    "println(vector2)\n",
    "matrix1 = ones(5,5)"
   ]
  },
  {
   "cell_type": "code",
   "execution_count": null,
   "metadata": {},
   "outputs": [],
   "source": [
    "# vector-vector addition \n",
    "vector1 + vector2"
   ]
  },
  {
   "cell_type": "code",
   "execution_count": null,
   "metadata": {},
   "outputs": [],
   "source": [
    "#matrix vector multiplication\n",
    "matrix1 * vector1"
   ]
  },
  {
   "cell_type": "code",
   "execution_count": null,
   "metadata": {},
   "outputs": [],
   "source": [
    "matrix2 = zeros(5,5)"
   ]
  },
  {
   "cell_type": "code",
   "execution_count": null,
   "metadata": {},
   "outputs": [],
   "source": [
    "matrix2[2,3] = 123\n",
    "#Matrix matrix multiplication\n",
    "matrix2*matrix1"
   ]
  },
  {
   "cell_type": "markdown",
   "metadata": {},
   "source": [
    "##### 4.1.1 Array functions"
   ]
  },
  {
   "cell_type": "markdown",
   "metadata": {},
   "source": [
    "There are many functions available, which work on arrays. You have already used the `push!, append!, pop!` and `deletat!` functions to manipulate the size of arrays. But there are also other functions, which return properties of an array. Just to name the two most important ones: \n",
    "`length()` returns the length of an array, `sum()` the sum of all elements of an array (only works on arrays containing `Integers` or `Floats`). "
   ]
  },
  {
   "cell_type": "code",
   "execution_count": null,
   "metadata": {},
   "outputs": [],
   "source": [
    "sum([1,2,3,2,3])"
   ]
  },
  {
   "cell_type": "code",
   "execution_count": null,
   "metadata": {},
   "outputs": [],
   "source": [
    "len_vec1 = length(vector1)"
   ]
  },
  {
   "cell_type": "markdown",
   "metadata": {},
   "source": [
    "Hint: Other functions and array operations (and much more) can be found on the [Julia cheat sheet](https://juliadocs.github.io/Julia-Cheat-Sheet/)."
   ]
  },
  {
   "cell_type": "markdown",
   "metadata": {},
   "source": [
    "#### 4.2 Tuple\n",
    "Tuples are ordered sequences of items inside of round brackets `()`, separated by commas. They are handled like arrays with one exception. Tuples are immutable, i.e. once created, the content cannot be modified.\n",
    "Therefore, tuples are mostly used to create write-protected data and computations using tuples are in most cases faster than for arrays, as they are not dynamic."
   ]
  },
  {
   "cell_type": "code",
   "execution_count": null,
   "metadata": {},
   "outputs": [],
   "source": [
    "tuple1=(5,2,7,2)\n",
    "println(tuple1)\n",
    "println(tuple1[3])"
   ]
  },
  {
   "cell_type": "markdown",
   "metadata": {},
   "source": [
    "Trying to change an element of a tuple will result in an error message."
   ]
  },
  {
   "cell_type": "code",
   "execution_count": null,
   "metadata": {},
   "outputs": [],
   "source": [
    "tuple1[1] = 1"
   ]
  },
  {
   "cell_type": "markdown",
   "metadata": {},
   "source": [
    "#### 4.4 Interchanging these datatypes\n",
    "If you want to convert a tuple to an array, you can use the already known `collect()` function. To do the opposite, you can use the function `Tuple()`:"
   ]
  },
  {
   "cell_type": "code",
   "execution_count": null,
   "metadata": {},
   "outputs": [],
   "source": [
    "testobject1 = [1,1,1,2,5,5,5]\n",
    "print(Tuple(testobject1))"
   ]
  },
  {
   "cell_type": "code",
   "execution_count": null,
   "metadata": {},
   "outputs": [],
   "source": [
    "testobject2 = (1,1,1,2,5,5,5)\n",
    "print(collect(testobject2))"
   ]
  },
  {
   "cell_type": "markdown",
   "metadata": {},
   "source": [
    "If it is necessary to check whether a certain item is part of an array or a tuple, the `in-operator` can be utilized.\n"
   ]
  },
  {
   "cell_type": "code",
   "execution_count": null,
   "metadata": {},
   "outputs": [],
   "source": [
    "4 in vector1"
   ]
  },
  {
   "cell_type": "code",
   "execution_count": null,
   "metadata": {},
   "outputs": [],
   "source": [
    "4 in tuple1"
   ]
  },
  {
   "cell_type": "markdown",
   "metadata": {},
   "source": [
    "### 5. dict - Dictionaries:\n",
    "A dictionary is an unordered collection of key-value pairs, where keys and values can be of any type. They are created with the `Dict` function, which needs at least one key and one value that are seperated by `=>` , e.g. `Dict(key1=>value1, key2=>value2)`. Strings are most commonly used as keys. Dictionaries are optimized for retrieving data, but instead of an index, the keys are used for accessing data `dict[key]=value` ."
   ]
  },
  {
   "cell_type": "code",
   "execution_count": null,
   "metadata": {},
   "outputs": [],
   "source": [
    "dict_1=Dict(\"key\"=>3,\n",
    "        \"another_key\"=>[4,7],\n",
    "        1=>'x',\n",
    "        (1,2)=>\"value\")\n",
    "println(dict_1)"
   ]
  },
  {
   "cell_type": "code",
   "execution_count": null,
   "metadata": {},
   "outputs": [],
   "source": [
    "# str as key, int as value\n",
    "println(dict_1[\"key\"])"
   ]
  },
  {
   "cell_type": "code",
   "execution_count": null,
   "metadata": {},
   "outputs": [],
   "source": [
    "dict_1[\"key\"] = 2"
   ]
  },
  {
   "cell_type": "code",
   "execution_count": null,
   "metadata": {},
   "outputs": [],
   "source": [
    "dict_1"
   ]
  },
  {
   "cell_type": "code",
   "execution_count": null,
   "metadata": {},
   "outputs": [],
   "source": [
    "# str as key, Int64[]array as value\n",
    "print(dict_1[\"another_key\"])"
   ]
  },
  {
   "cell_type": "code",
   "execution_count": null,
   "metadata": {},
   "outputs": [],
   "source": [
    "# int as key, char as value\n",
    "println(dict_1[1])"
   ]
  },
  {
   "cell_type": "code",
   "execution_count": null,
   "metadata": {},
   "outputs": [],
   "source": [
    "# tuple as key, tuple as value\n",
    "print(dict_1[(1,2)])"
   ]
  },
  {
   "cell_type": "markdown",
   "metadata": {},
   "source": [
    "New key-value pairs can easily be added by simply defining them like this `dict[NewKey] = NewValue`, regardless of their datatype."
   ]
  },
  {
   "cell_type": "code",
   "execution_count": null,
   "metadata": {},
   "outputs": [],
   "source": [
    "dict_1[\"new_key\"] = 4\n",
    "print(dict_1)"
   ]
  },
  {
   "cell_type": "code",
   "execution_count": null,
   "metadata": {},
   "outputs": [],
   "source": [
    "dict_1[(1,2,3,4,5)] = [5,4,3,2,1]\n",
    "print(dict_1)"
   ]
  },
  {
   "cell_type": "markdown",
   "metadata": {},
   "source": [
    "##  Short  Summary\n",
    "- Each variable/object in Julia possesses a specific type\n",
    "- Numbers are categorized as either `Integers` or `Floats` if they include decimals\n",
    "- Text is stored as `Strings`\n",
    "- `Arrays` and `Tuples` are ordered collections of elements which can have various types\n",
    "- `Dictionaries` are unordered collections, but every values is bound to a key\n"
   ]
  },
  {
   "cell_type": "markdown",
   "metadata": {},
   "source": [
    "## Exercises"
   ]
  },
  {
   "cell_type": "markdown",
   "metadata": {},
   "source": [
    "All exercises in this course are divided into 3 different difficulty categories: <span style=\"color:green\">easy</span>, <span style=\"color:orange\">medium</span> and <span style=\"color:red\">hard</span>. <span style=\"color:green\">Easy</span> exercises should be solvable solely with the contents of the respective notebook. <span style=\"color:orange\">Medium</span> often require the transfer of known concepts to new problems. Therefore, it might be necessary to look up some old notebooks or to use your creativity and curiosity to combine seemingly unrelated stuff. <span style=\"color:red\">Hard</span> exercises take this concept one step further and might require you to use additional resources like the official documentation, google, StackOverflow,... . \n",
    "\n",
    "\n"
   ]
  },
  {
   "cell_type": "markdown",
   "metadata": {
    "tags": []
   },
   "source": [
    "### <p style='color: green'>easy</p>\n",
    "\n",
    "1. Perform various calculations. Add, subtract, divide, multiply, exponentiate. Use integers and floats. <br>"
   ]
  },
  {
   "cell_type": "markdown",
   "metadata": {},
   "source": [
    "2. Assign values to variables and perform calculations using the variables."
   ]
  },
  {
   "cell_type": "markdown",
   "metadata": {},
   "source": [
    "3. Create two strings and assign them to the variables `string1` and `string2`. Print both, separated by a blank space.\n"
   ]
  },
  {
   "cell_type": "markdown",
   "metadata": {},
   "source": [
    "4. Only print the first three symbols of `string1`."
   ]
  },
  {
   "cell_type": "markdown",
   "metadata": {},
   "source": [
    "5. Only print every second symbol of `string2`."
   ]
  },
  {
   "cell_type": "markdown",
   "metadata": {},
   "source": [
    "6. Create the following arrays/tuples:\n",
    "\n",
    "```julia\n",
    "array1 = [1, \"Hello\", 3, \"World!\", 5]\n",
    "array2 = [3/7, 4/9, 27/64]\n",
    "array3 = [6, 7, 8]\n",
    "tuple4 = (3,1,1)\n",
    "```\n"
   ]
  },
  {
   "cell_type": "markdown",
   "metadata": {},
   "source": [
    "7. Print `'Hello World!'` out of `array1` using the `[]`-operator."
   ]
  },
  {
   "cell_type": "markdown",
   "metadata": {},
   "source": [
    "8. Change `'Hello'` to `2` and `'World!'` to `4` in `array1`."
   ]
  },
  {
   "cell_type": "markdown",
   "metadata": {},
   "source": [
    "9. Append `array3` to `array1` and call the result `array4`. "
   ]
  },
  {
   "cell_type": "markdown",
   "metadata": {},
   "source": [
    "10. Make a copy of `array4` named `array4_2` using the `[]`-operator."
   ]
  },
  {
   "cell_type": "markdown",
   "metadata": {},
   "source": [
    "11. Delete the second element from `array4_2`."
   ]
  },
  {
   "cell_type": "markdown",
   "metadata": {},
   "source": [
    "12. Test if `27/63` is in `array2`."
   ]
  },
  {
   "cell_type": "markdown",
   "metadata": {},
   "source": [
    "13. Test if `2/5` is in `array2`."
   ]
  },
  {
   "cell_type": "markdown",
   "metadata": {},
   "source": [
    "14. Test if `\"Hello\"` is in `array1`."
   ]
  },
  {
   "cell_type": "markdown",
   "metadata": {},
   "source": [
    "15. Slice `[3,4,5,6]` out of `array4` and call the new array `array5`."
   ]
  },
  {
   "cell_type": "markdown",
   "metadata": {},
   "source": [
    "16. Multiply `array5` with an integer number, assign the result to a new variable called `array6` and print out its length."
   ]
  },
  {
   "cell_type": "markdown",
   "metadata": {},
   "source": [
    "17. Make a dictionary `dict1` with the keys `\"House\"`, `\"Garden\"` and `7`. Assign three values in the form of arrays to each key."
   ]
  },
  {
   "cell_type": "markdown",
   "metadata": {},
   "source": [
    "18. Add another key to `dict1` with some values."
   ]
  },
  {
   "cell_type": "markdown",
   "metadata": {},
   "source": [
    "19. Create a matrix named ``mat1`` with all entries 1. Coose the size, such that you can multiply it with ``array5``. Name the product ``mat_array``. \n",
    "Hint: The matrix has to be of the right size to make this work. If you need some refreshment of your math skills, click [here](https://www.varsitytutors.com/hotmath/hotmath_help/topics/multiplying-vector-by-a-matrix)."
   ]
  },
  {
   "cell_type": "markdown",
   "metadata": {},
   "source": [
    "### <p style='color: orange'>medium</p>"
   ]
  },
  {
   "cell_type": "markdown",
   "metadata": {},
   "source": [
    "20. Create a new array called `mixture` which elements are the elementwise sums `array3` and `tuple4`.   "
   ]
  },
  {
   "cell_type": "markdown",
   "metadata": {},
   "source": [
    "21. Reverse the order of `array4` and print it.\n"
   ]
  },
  {
   "cell_type": "markdown",
   "metadata": {},
   "source": [
    "22. Create `array7` and `array8` as `[1,2,3]`. Append `[5,6,7]` to `array7` and push `array8` with 5,6 and 7. Compare `array7` and `array8`."
   ]
  },
  {
   "cell_type": "markdown",
   "metadata": {},
   "source": [
    "\n",
    "### <p style='color: red'>hard</p>"
   ]
  },
  {
   "cell_type": "markdown",
   "metadata": {},
   "source": [
    "23. How often does `3` occur in all arrays (`array1`, `array2`, `array3`, `array4`, `array4_2`, `array5`, `array6`)?"
   ]
  },
  {
   "cell_type": "code",
   "execution_count": null,
   "metadata": {},
   "outputs": [],
   "source": []
  }
 ],
 "metadata": {
  "kernelspec": {
   "display_name": "Julia 1.9.1",
   "language": "julia",
   "name": "julia-1.9"
  },
  "language_info": {
   "file_extension": ".jl",
   "mimetype": "application/julia",
   "name": "julia",
   "version": "1.9.1"
  }
 },
 "nbformat": 4,
 "nbformat_minor": 4
}
