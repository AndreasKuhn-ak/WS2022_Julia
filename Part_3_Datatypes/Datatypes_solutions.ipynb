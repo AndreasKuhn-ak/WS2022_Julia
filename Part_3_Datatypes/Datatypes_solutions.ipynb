{
 "cells": [
  {
   "cell_type": "markdown",
   "id": "88ad6355-a8be-4f0c-8fb1-089ddc05f836",
   "metadata": {},
   "source": [
    "## 2. Datatypes\n",
    "\n",
    "###  Sample Solutions "
   ]
  },
  {
   "cell_type": "markdown",
   "id": "031a9b93-e51c-4aa1-8296-d65918ec0425",
   "metadata": {},
   "source": [
    "### <p style='color: green'>easy</p>"
   ]
  },
  {
   "cell_type": "markdown",
   "id": "3d50ecea-eafb-4c67-853d-3ec286e767bb",
   "metadata": {},
   "source": [
    "#### Exercise 1 \n",
    "Perform various calculations. Add, subtract, divide, multiply, exponentiate. Use integers and floats."
   ]
  },
  {
   "cell_type": "markdown",
   "id": "857bbb78",
   "metadata": {},
   "source": [
    "#### Solution 1 "
   ]
  },
  {
   "cell_type": "code",
   "execution_count": 33,
   "id": "e9f1e730",
   "metadata": {},
   "outputs": [
    {
     "data": {
      "text/plain": [
       "30"
      ]
     },
     "execution_count": 33,
     "metadata": {},
     "output_type": "execute_result"
    }
   ],
   "source": [
    "3+3^3"
   ]
  },
  {
   "cell_type": "code",
   "execution_count": 34,
   "id": "f7173b46",
   "metadata": {},
   "outputs": [
    {
     "data": {
      "text/plain": [
       "-10.2"
      ]
     },
     "execution_count": 34,
     "metadata": {},
     "output_type": "execute_result"
    }
   ],
   "source": [
    "5.10/2*-4"
   ]
  },
  {
   "cell_type": "markdown",
   "id": "76f625d6-fea9-4358-b65e-1a33165413d6",
   "metadata": {},
   "source": [
    "#### Exercise 2 \n",
    " Assign values to variables and perform calculations using the variables.\n"
   ]
  },
  {
   "cell_type": "code",
   "execution_count": 35,
   "id": "98f97996",
   "metadata": {},
   "outputs": [
    {
     "data": {
      "text/plain": [
       "2.3126228396503223"
      ]
     },
     "execution_count": 35,
     "metadata": {},
     "output_type": "execute_result"
    }
   ],
   "source": [
    "hans = 3\n",
    "dieter = 4.3436\n",
    "egon = 2.1\n",
    "\n",
    "hans^egon/dieter\n"
   ]
  },
  {
   "cell_type": "markdown",
   "id": "69739799-4038-44e3-802e-d3ed30d794d9",
   "metadata": {},
   "source": [
    "#### Exercise 3\n",
    "Create two strings and assign them to the variables `string1` and `string2`. Print both, separated by a blank space."
   ]
  },
  {
   "cell_type": "markdown",
   "id": "66a76e90-aaa6-4cf0-8666-166cbb43f081",
   "metadata": {},
   "source": [
    "#### Solution 3 "
   ]
  },
  {
   "cell_type": "code",
   "execution_count": 36,
   "id": "20d9cc3b",
   "metadata": {},
   "outputs": [
    {
     "name": "stdout",
     "output_type": "stream",
     "text": [
      "hello my beloved friend\n"
     ]
    }
   ],
   "source": [
    "string1 = \"hello my\"\n",
    "string2 = \"beloved friend\"\n",
    "\n",
    "println(string1, \" \", string2)"
   ]
  },
  {
   "cell_type": "markdown",
   "id": "11a24d18",
   "metadata": {},
   "source": [
    "#### Exercise 4\n",
    "Only print the first three symbols of `string1`."
   ]
  },
  {
   "cell_type": "markdown",
   "id": "1878536f",
   "metadata": {},
   "source": [
    "#### Solution 4"
   ]
  },
  {
   "cell_type": "code",
   "execution_count": 37,
   "id": "7ff089f7",
   "metadata": {},
   "outputs": [
    {
     "name": "stdout",
     "output_type": "stream",
     "text": [
      "hel\n"
     ]
    }
   ],
   "source": [
    "println(string1[1:3])"
   ]
  },
  {
   "cell_type": "markdown",
   "id": "4fdd893e",
   "metadata": {},
   "source": [
    "#### Exercise 5\n",
    "Only print every second symbol of `string2`."
   ]
  },
  {
   "cell_type": "markdown",
   "id": "41fc67c8",
   "metadata": {},
   "source": [
    "#### Solution 5"
   ]
  },
  {
   "cell_type": "code",
   "execution_count": 38,
   "id": "bff9f7ee",
   "metadata": {},
   "outputs": [
    {
     "name": "stdout",
     "output_type": "stream",
     "text": [
      "eoe red\n"
     ]
    }
   ],
   "source": [
    "println(string2[2:2:end])"
   ]
  },
  {
   "cell_type": "markdown",
   "id": "f6a10ab4",
   "metadata": {},
   "source": [
    "#### Exercise 6\n",
    "Create the following arrays:\n",
    "\n",
    "```julia\n",
    "array1 = [1, \"Hello\", 3, \"World!\", 5]\n",
    "array2 = [3/7, 4/9, 27/64]\n",
    "array3 = [6, 7, 8]\n",
    "```\n"
   ]
  },
  {
   "cell_type": "markdown",
   "id": "976b8ddb",
   "metadata": {},
   "source": [
    "#### Solution 6"
   ]
  },
  {
   "cell_type": "code",
   "execution_count": 39,
   "id": "9cdc8cb3",
   "metadata": {},
   "outputs": [
    {
     "data": {
      "text/plain": [
       "(3, 1, 1)"
      ]
     },
     "execution_count": 39,
     "metadata": {},
     "output_type": "execute_result"
    }
   ],
   "source": [
    "array1 = [1, \"Hello\", 3, \"World!\", 5]\n",
    "array2 = [3/7, 4/9, 27/64]\n",
    "array3 = [6, 7, 8]\n",
    "tuple4 = (3,1,1)"
   ]
  },
  {
   "cell_type": "markdown",
   "id": "7c8c363f",
   "metadata": {},
   "source": [
    "#### Exercise 7\n",
    "Print `'Hello World!'` out of `array1` using the `[]`-operator."
   ]
  },
  {
   "cell_type": "markdown",
   "id": "d940a4b3",
   "metadata": {},
   "source": [
    "#### Solution 7"
   ]
  },
  {
   "cell_type": "code",
   "execution_count": 40,
   "id": "2fc476fb",
   "metadata": {},
   "outputs": [
    {
     "name": "stdout",
     "output_type": "stream",
     "text": [
      "Hello World!\n"
     ]
    }
   ],
   "source": [
    "println(array1[2], \" \", array1[4])"
   ]
  },
  {
   "cell_type": "markdown",
   "id": "16408fad",
   "metadata": {},
   "source": [
    "#### Exercise 8\n",
    "Change `'Hello'` to `2` and `'World!'` to `4` in `array1`."
   ]
  },
  {
   "cell_type": "markdown",
   "id": "45d94710",
   "metadata": {},
   "source": [
    "#### Solution 8"
   ]
  },
  {
   "cell_type": "code",
   "execution_count": 41,
   "id": "20e28df4",
   "metadata": {},
   "outputs": [
    {
     "data": {
      "text/plain": [
       "5-element Vector{Any}:\n",
       " 1\n",
       " 2\n",
       " 3\n",
       " 4\n",
       " 5"
      ]
     },
     "execution_count": 41,
     "metadata": {},
     "output_type": "execute_result"
    }
   ],
   "source": [
    "array1[2] = 2\n",
    "array1[4] = 4\n",
    "array1"
   ]
  },
  {
   "cell_type": "markdown",
   "id": "1520f989",
   "metadata": {},
   "source": [
    "#### Exercise 9\n",
    "Append `array3` and `array1` and call the result `array4`."
   ]
  },
  {
   "cell_type": "markdown",
   "id": "b6f71f4a-3e6d-4890-894b-df56ff03bcf1",
   "metadata": {},
   "source": [
    "#### Solution 9"
   ]
  },
  {
   "cell_type": "code",
   "execution_count": 42,
   "id": "c75d38ba-8a7d-496d-a40e-14c2b4b44d14",
   "metadata": {},
   "outputs": [
    {
     "data": {
      "text/plain": [
       "8-element Vector{Any}:\n",
       " 1\n",
       " 2\n",
       " 3\n",
       " 4\n",
       " 5\n",
       " 6\n",
       " 7\n",
       " 8"
      ]
     },
     "execution_count": 42,
     "metadata": {},
     "output_type": "execute_result"
    }
   ],
   "source": [
    "array4 = append!(array1,array3)"
   ]
  },
  {
   "cell_type": "markdown",
   "id": "a171d65c",
   "metadata": {},
   "source": [
    "#### Exercise 10\n",
    "Make a copy of `array4` named `array4_2` using the `[]`-operator."
   ]
  },
  {
   "cell_type": "markdown",
   "id": "727bce6f-c2c3-4ba0-8d1c-b5da926b5b67",
   "metadata": {},
   "source": [
    "#### Solution 10"
   ]
  },
  {
   "cell_type": "code",
   "execution_count": 43,
   "id": "b9fb93ab-5154-438c-bea4-992fdc13909c",
   "metadata": {},
   "outputs": [
    {
     "data": {
      "text/plain": [
       "8-element Vector{Any}:\n",
       " 1\n",
       " 2\n",
       " 3\n",
       " 4\n",
       " 5\n",
       " 6\n",
       " 7\n",
       " 8"
      ]
     },
     "execution_count": 43,
     "metadata": {},
     "output_type": "execute_result"
    }
   ],
   "source": [
    "array4_2 = array4[1:end]\n",
    "#or we can omitte the start stop values completely when they are at there default values of 1 and end\n",
    "array4_2 = array4[:]"
   ]
  },
  {
   "cell_type": "markdown",
   "id": "69638093",
   "metadata": {},
   "source": [
    "#### Exercise 11\n",
    "Delete the second element from `array4_2`."
   ]
  },
  {
   "cell_type": "markdown",
   "id": "7347bad7-5bd8-48f0-8155-4546ff905ab7",
   "metadata": {},
   "source": [
    "#### Solution 11\n"
   ]
  },
  {
   "cell_type": "code",
   "execution_count": 44,
   "id": "458c2ce2-2fd4-4124-a86f-f1b42986f8c4",
   "metadata": {},
   "outputs": [
    {
     "data": {
      "text/plain": [
       "7-element Vector{Any}:\n",
       " 1\n",
       " 3\n",
       " 4\n",
       " 5\n",
       " 6\n",
       " 7\n",
       " 8"
      ]
     },
     "execution_count": 44,
     "metadata": {},
     "output_type": "execute_result"
    }
   ],
   "source": [
    "deleteat!(array4_2,2)"
   ]
  },
  {
   "cell_type": "markdown",
   "id": "f3b78f67",
   "metadata": {},
   "source": [
    "#### Exercise 12\n",
    "Test if `27/63` is in `array2`."
   ]
  },
  {
   "cell_type": "markdown",
   "id": "c578b97f-ac43-4882-a655-bfe9d3912f44",
   "metadata": {},
   "source": [
    "#### Solution 12"
   ]
  },
  {
   "cell_type": "code",
   "execution_count": 45,
   "id": "1c0c8b74-c9b3-4542-91d0-204bc18cf9ae",
   "metadata": {},
   "outputs": [
    {
     "data": {
      "text/plain": [
       "true"
      ]
     },
     "execution_count": 45,
     "metadata": {},
     "output_type": "execute_result"
    }
   ],
   "source": [
    "27/64 in array2"
   ]
  },
  {
   "cell_type": "markdown",
   "id": "153e43c2-4818-4050-ba5d-8f1cb0d397d8",
   "metadata": {},
   "source": [
    "#### Exercise 13\n",
    "Test if `2/5` is in `array2`."
   ]
  },
  {
   "cell_type": "markdown",
   "id": "73662156-17c2-441b-84af-84a5f3c312a7",
   "metadata": {},
   "source": [
    "#### Solution 13"
   ]
  },
  {
   "cell_type": "code",
   "execution_count": 46,
   "id": "0ae2d7e2-a377-4631-a78f-7c539e676ec0",
   "metadata": {},
   "outputs": [
    {
     "data": {
      "text/plain": [
       "false"
      ]
     },
     "execution_count": 46,
     "metadata": {},
     "output_type": "execute_result"
    }
   ],
   "source": [
    "2/5 in array2"
   ]
  },
  {
   "cell_type": "markdown",
   "id": "99058e5e-3c7e-411d-a8f2-09431dae4457",
   "metadata": {},
   "source": [
    "#### Exercise 14\n",
    "Test if `\"Hello\"` is in `array1`."
   ]
  },
  {
   "cell_type": "markdown",
   "id": "257fd6a8-8756-4f92-a70f-979af9d0e3e4",
   "metadata": {},
   "source": [
    "#### Solution 14"
   ]
  },
  {
   "cell_type": "code",
   "execution_count": 47,
   "id": "80fdc31d-8f2a-4e40-aa0e-3ac2eee42beb",
   "metadata": {},
   "outputs": [
    {
     "data": {
      "text/plain": [
       "false"
      ]
     },
     "execution_count": 47,
     "metadata": {},
     "output_type": "execute_result"
    }
   ],
   "source": [
    "\"Hello\" in array1"
   ]
  },
  {
   "cell_type": "markdown",
   "id": "8801098b-6d87-4774-b1fd-853b7c7c4583",
   "metadata": {},
   "source": [
    "#### Exercise 15\n",
    " Slice `[3,4,5,6]` out of `array4` and call the new array `array5`."
   ]
  },
  {
   "cell_type": "markdown",
   "id": "131dac73-52f3-4d56-990d-b916d3243801",
   "metadata": {},
   "source": [
    "#### Solution 15"
   ]
  },
  {
   "cell_type": "code",
   "execution_count": 48,
   "id": "013a9ed6-6cfa-48c5-a19d-baf47d72b759",
   "metadata": {},
   "outputs": [
    {
     "name": "stdout",
     "output_type": "stream",
     "text": [
      "Any[1, 2, 3, 4, 5, 6, 7, 8]\n"
     ]
    },
    {
     "data": {
      "text/plain": [
       "4-element Vector{Any}:\n",
       " 3\n",
       " 4\n",
       " 5\n",
       " 6"
      ]
     },
     "execution_count": 48,
     "metadata": {},
     "output_type": "execute_result"
    }
   ],
   "source": [
    "println(array4)\n",
    "array5 = array4[3:6]"
   ]
  },
  {
   "cell_type": "markdown",
   "id": "d1964c02-9cb5-462c-ae6d-0631776a6dab",
   "metadata": {},
   "source": [
    "#### Exercise 16 \n",
    "Multiply `array5` with an integer number, assign the result to a new variable called `array6` and print out its length."
   ]
  },
  {
   "cell_type": "markdown",
   "id": "26713ebb-3ef2-4e45-83c8-41cc5398e515",
   "metadata": {},
   "source": [
    "#### Solution 16"
   ]
  },
  {
   "cell_type": "code",
   "execution_count": 49,
   "id": "cbd548a4-ff8c-4348-8d2b-46ec9f6e5e21",
   "metadata": {},
   "outputs": [
    {
     "name": "stdout",
     "output_type": "stream",
     "text": [
      "4\n",
      "[9, 12, 15, 18]\n"
     ]
    }
   ],
   "source": [
    "array6 = array5 *3\n",
    "\n",
    "println(length(array6))\n",
    "\n",
    "println(array6)"
   ]
  },
  {
   "cell_type": "markdown",
   "id": "87214d4a-60c6-4d02-9815-a6d8a35adc07",
   "metadata": {},
   "source": [
    "#### Exercise 17\n",
    "Make a dictionary `dict1` with the keys `\"House\"`, `\"Garden\"` and `7` with three values for each key in the form of lists."
   ]
  },
  {
   "cell_type": "markdown",
   "id": "309e8a13-2975-459a-98a9-42a7cc90a3d4",
   "metadata": {},
   "source": [
    "#### Solution 17"
   ]
  },
  {
   "cell_type": "code",
   "execution_count": 50,
   "id": "3fade482-d921-4c78-ba7f-1c392c89f46f",
   "metadata": {},
   "outputs": [
    {
     "data": {
      "text/plain": [
       "Dict{Any, Vector} with 3 entries:\n",
       "  7        => Any[7.0, 7, \"seven\"]\n",
       "  \"Garden\" => [\"green\", \"dry\", \"earth\"]\n",
       "  \"House\"  => [\"big\", \"small\"]"
      ]
     },
     "execution_count": 50,
     "metadata": {},
     "output_type": "execute_result"
    }
   ],
   "source": [
    "dict1 = Dict(\"House\" =>[\"big\", \"small\"], \"Garden\" =>[\"green\", \"dry\",\"earth\"],7 => [7.0,7,\"seven\"])"
   ]
  },
  {
   "cell_type": "markdown",
   "id": "839f1430-bbaf-480e-8933-4e14986ca45a",
   "metadata": {},
   "source": [
    "#### Exercise 18\n",
    "Add another key to `dict1` with some values."
   ]
  },
  {
   "cell_type": "markdown",
   "id": "60dd1b94-c830-460a-a7b0-6c2c042e9a70",
   "metadata": {},
   "source": [
    "#### Solution 18"
   ]
  },
  {
   "cell_type": "code",
   "execution_count": 51,
   "id": "22e6fd26-18de-487d-85fc-f09e2a4ea5e3",
   "metadata": {},
   "outputs": [
    {
     "data": {
      "text/plain": [
       "3-element Vector{String}:\n",
       " \"Hans\"\n",
       " \"Dieter\"\n",
       " \"Egon\""
      ]
     },
     "execution_count": 51,
     "metadata": {},
     "output_type": "execute_result"
    }
   ],
   "source": [
    "dict1[\"beautiful\"] = [\"Hans\", \"Dieter\",\"Egon\"]"
   ]
  },
  {
   "cell_type": "code",
   "execution_count": 52,
   "id": "89925fe7-dabd-4afe-b6ff-988437cd9a30",
   "metadata": {},
   "outputs": [
    {
     "name": "stdout",
     "output_type": "stream",
     "text": [
      "[\"green\", \"dry\", \"earth\"]\n"
     ]
    }
   ],
   "source": [
    "println(dict1[\"Garden\"])"
   ]
  },
  {
   "cell_type": "markdown",
   "id": "c38cecde",
   "metadata": {},
   "source": [
    "#### Exercise 19\n",
    "Create a matrix named ``mat1`` and multiply it with ``array5``, name the result ``mat_array``. \n",
    "Hint: The matrix has to be of the right size to make this work. If you need some refreshment of your math skills  click [here](https://www.varsitytutors.com/hotmath/hotmath_help/topics/multiplying-vector-by-a-matrix).\n",
    "#### Solution 19"
   ]
  },
  {
   "cell_type": "code",
   "execution_count": 53,
   "id": "8bbd9d85",
   "metadata": {},
   "outputs": [
    {
     "name": "stdout",
     "output_type": "stream",
     "text": [
      "4\n"
     ]
    },
    {
     "data": {
      "text/plain": [
       "5-element Vector{Any}:\n",
       " 18.0\n",
       " 18.0\n",
       " 18.0\n",
       " 18.0\n",
       " 18.0"
      ]
     },
     "execution_count": 53,
     "metadata": {},
     "output_type": "execute_result"
    }
   ],
   "source": [
    "println(length(array5))\n",
    "# Matrix has to have 4 colums\n",
    "mat1 = ones(5,4)\n",
    "mat_array = mat1*array5"
   ]
  },
  {
   "cell_type": "markdown",
   "id": "cea91a07-f4bb-4dce-b87f-c79ebc9d8308",
   "metadata": {},
   "source": [
    "### <p style='color: orange'>medium</p>"
   ]
  },
  {
   "cell_type": "markdown",
   "id": "fac0f1ac-45bf-4080-a803-27e365759f78",
   "metadata": {
    "jp-MarkdownHeadingCollapsed": true,
    "tags": []
   },
   "source": [
    "#### Exercise 20\n",
    "Create a new array called `mixture` which elements are the elementwise sums of `array3` and `tuple4`.  "
   ]
  },
  {
   "cell_type": "markdown",
   "id": "66a50ad5-f6ab-4439-966e-28b5ec0ee22e",
   "metadata": {
    "tags": []
   },
   "source": [
    "#### Solution 20"
   ]
  },
  {
   "cell_type": "code",
   "execution_count": 54,
   "id": "68e547e1-3369-40a1-af1a-c7dee8cfba0d",
   "metadata": {},
   "outputs": [
    {
     "data": {
      "text/plain": [
       "(3, 1, 1)"
      ]
     },
     "execution_count": 54,
     "metadata": {},
     "output_type": "execute_result"
    }
   ],
   "source": [
    "tuple4"
   ]
  },
  {
   "cell_type": "code",
   "execution_count": 55,
   "id": "f97d3038-1d01-4547-8ebf-82fb83c39633",
   "metadata": {},
   "outputs": [
    {
     "data": {
      "text/plain": [
       "3-element Vector{Int64}:\n",
       " 9\n",
       " 8\n",
       " 9"
      ]
     },
     "execution_count": 55,
     "metadata": {},
     "output_type": "execute_result"
    }
   ],
   "source": [
    "mixture = array3 + collect(tuple4)"
   ]
  },
  {
   "cell_type": "code",
   "execution_count": 56,
   "id": "89d142d3-283b-4ced-9757-4083ade6165a",
   "metadata": {},
   "outputs": [
    {
     "data": {
      "text/plain": [
       "3-element Vector{Int64}:\n",
       " 9\n",
       " 8\n",
       " 9"
      ]
     },
     "execution_count": 56,
     "metadata": {},
     "output_type": "execute_result"
    }
   ],
   "source": [
    "# as array3 and tuple4 both have the same size,\n",
    "# the . is not neccessary but can be used anyway\n",
    "# in this case the collect can be omitted, as the . deconstructs tuple4 into \n",
    "# single Int64 values before the calculation\n",
    "mixture_dot = array3 .+ tuple4"
   ]
  },
  {
   "cell_type": "markdown",
   "id": "1f0a52bf",
   "metadata": {},
   "source": [
    "#### Exercise 21\n",
    "Reverse the order of `array4` and print it."
   ]
  },
  {
   "cell_type": "markdown",
   "id": "e4a03d78-31df-49ea-9388-d1b8b4a34b45",
   "metadata": {},
   "source": [
    "#### Solution 21"
   ]
  },
  {
   "cell_type": "code",
   "execution_count": 57,
   "id": "ef260f96-c42a-4a5c-b10a-0a309b7e4e9f",
   "metadata": {},
   "outputs": [
    {
     "name": "stdout",
     "output_type": "stream",
     "text": [
      "Any[1, 2, 3, 4, 5, 6, 7, 8]\n"
     ]
    },
    {
     "data": {
      "text/plain": [
       "8-element Vector{Any}:\n",
       " 8\n",
       " 7\n",
       " 6\n",
       " 5\n",
       " 4\n",
       " 3\n",
       " 2\n",
       " 1"
      ]
     },
     "execution_count": 57,
     "metadata": {},
     "output_type": "execute_result"
    }
   ],
   "source": [
    "println(array4)\n",
    "array4 = array4[end:-1:1]"
   ]
  },
  {
   "cell_type": "markdown",
   "id": "474590b2-561c-4fb4-a1ff-878d103e86d1",
   "metadata": {},
   "source": [
    "You could also use the `reverse()` function.\n"
   ]
  },
  {
   "cell_type": "code",
   "execution_count": 58,
   "id": "3aa1ff59-6afb-418f-9c85-18fbed21cbbc",
   "metadata": {},
   "outputs": [
    {
     "data": {
      "text/plain": [
       "8-element Vector{Any}:\n",
       " 1\n",
       " 2\n",
       " 3\n",
       " 4\n",
       " 5\n",
       " 6\n",
       " 7\n",
       " 8"
      ]
     },
     "execution_count": 58,
     "metadata": {},
     "output_type": "execute_result"
    }
   ],
   "source": [
    "array4_1 = reverse(array4)"
   ]
  },
  {
   "cell_type": "markdown",
   "id": "12e7f71e-fe95-4cf7-8106-0e9957781e21",
   "metadata": {},
   "source": [
    "#### Exercise 22\n",
    "21. Create `array7` and `array8` with `[1,2,3]`. Append `[5,6,7]` to `array7` and push `array8` with `5,6 and 7`. Compare `array7` and `array_8`.\n",
    "\n",
    "#### Solution 22"
   ]
  },
  {
   "cell_type": "code",
   "execution_count": 59,
   "id": "ffb1055a-53fc-45ff-b40a-d7fc03c151b1",
   "metadata": {},
   "outputs": [
    {
     "name": "stdout",
     "output_type": "stream",
     "text": [
      "[1, 2, 3, 5, 6, 7]\n",
      "[1, 2, 3, 5, 6, 7]\n"
     ]
    },
    {
     "data": {
      "text/plain": [
       "true"
      ]
     },
     "execution_count": 59,
     "metadata": {},
     "output_type": "execute_result"
    }
   ],
   "source": [
    "array_7 = [1,2,3]\n",
    "array_8 = [1,2,3]\n",
    "append!(array_7,[5,6,7])\n",
    "push!(array_8,5,6,7) \n",
    "\n",
    "println(array_7)\n",
    "println(array_8)\n",
    "array_7 == array_8"
   ]
  },
  {
   "cell_type": "markdown",
   "id": "7d76ca80-d9cd-4f51-8369-aaa1675eacfc",
   "metadata": {},
   "source": [
    "#### Exercise 23\n",
    "How often does `3` occur in all arrays (`array1`, `array2`, `array3`, `array4`, `array4_2`, `array5`, `array6`)?\n",
    "\n",
    "#### Solution 23"
   ]
  },
  {
   "cell_type": "code",
   "execution_count": 60,
   "id": "39ecf806-e7f8-42fb-923a-89975dd318d3",
   "metadata": {},
   "outputs": [
    {
     "data": {
      "text/plain": [
       "4"
      ]
     },
     "execution_count": 60,
     "metadata": {},
     "output_type": "execute_result"
    }
   ],
   "source": [
    "# Solution 1 with only using already known stuff\n",
    "counter_3 = 0\n",
    "counter_3 += sum(3 .== array1)\n",
    "counter_3 += sum(3 .== array2)\n",
    "counter_3 += sum(3 .== array3)\n",
    "counter_3 += sum(3 .== array4)\n",
    "counter_3 += sum(3 .== array4_2)\n",
    "counter_3 += sum(3 .== array5)\n",
    "counter_3 += sum(3 .== array6)\n",
    "\n",
    "counter_3\n"
   ]
  },
  {
   "cell_type": "markdown",
   "id": "2e086897-c408-43b1-9251-68e389fca3fc",
   "metadata": {},
   "source": [
    "If you have used Google you might be stumbled across the count function. This function can also be used to solve this exercise in a more compact manner. "
   ]
  },
  {
   "cell_type": "code",
   "execution_count": 61,
   "id": "34530662-73a4-44f1-b1c5-35b7057dcdb9",
   "metadata": {},
   "outputs": [
    {
     "data": {
      "text/plain": [
       "37-element Vector{Any}:\n",
       "  1\n",
       "  2\n",
       "  3\n",
       "  4\n",
       "  5\n",
       "  6\n",
       "  7\n",
       "  8\n",
       "  0.42857142857142855\n",
       "  0.4444444444444444\n",
       "  0.421875\n",
       "  6\n",
       "  7\n",
       "  ⋮\n",
       "  5\n",
       "  6\n",
       "  7\n",
       "  8\n",
       "  3\n",
       "  4\n",
       "  5\n",
       "  6\n",
       "  9\n",
       " 12\n",
       " 15\n",
       " 18"
      ]
     },
     "execution_count": 61,
     "metadata": {},
     "output_type": "execute_result"
    }
   ],
   "source": [
    "longArray=append!(array1,array2,array3,array4,array4_2,array5,array6)"
   ]
  },
  {
   "cell_type": "code",
   "execution_count": 62,
   "id": "7ff20c8a-9f09-473b-947d-03fff93b6ad3",
   "metadata": {},
   "outputs": [
    {
     "data": {
      "text/plain": [
       "4"
      ]
     },
     "execution_count": 62,
     "metadata": {},
     "output_type": "execute_result"
    }
   ],
   "source": [
    "count(i ->(i ==3),longArray)"
   ]
  },
  {
   "cell_type": "code",
   "execution_count": null,
   "id": "f27f441d-b1ac-4b9c-a2d0-f6b54033de57",
   "metadata": {},
   "outputs": [],
   "source": []
  }
 ],
 "metadata": {
  "kernelspec": {
   "display_name": "Julia 1.9.0",
   "language": "julia",
   "name": "julia-1.9"
  },
  "language_info": {
   "file_extension": ".jl",
   "mimetype": "application/julia",
   "name": "julia",
   "version": "1.9.0"
  }
 },
 "nbformat": 4,
 "nbformat_minor": 5
}
