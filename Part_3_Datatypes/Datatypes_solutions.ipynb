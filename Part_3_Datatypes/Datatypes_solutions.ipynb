{
 "cells": [
  {
   "attachments": {},
   "cell_type": "markdown",
   "id": "88ad6355-a8be-4f0c-8fb1-089ddc05f836",
   "metadata": {},
   "source": [
    "## 2. Datatypes\n",
    "\n",
    "###  Sample Solutions"
   ]
  },
  {
   "attachments": {},
   "cell_type": "markdown",
   "id": "3d50ecea-eafb-4c67-853d-3ec286e767bb",
   "metadata": {},
   "source": [
    "#### Exercise 1 \n",
    "Perform various calculations. Add, subtract, divide, multiply, exponentiate. Use integers and floats."
   ]
  },
  {
   "attachments": {},
   "cell_type": "markdown",
   "id": "857bbb78",
   "metadata": {},
   "source": [
    "#### Solution 1 "
   ]
  },
  {
   "cell_type": "code",
   "execution_count": 1,
   "id": "e9f1e730",
   "metadata": {},
   "outputs": [
    {
     "data": {
      "text/plain": [
       "30"
      ]
     },
     "metadata": {},
     "output_type": "display_data"
    }
   ],
   "source": [
    "3+3^3"
   ]
  },
  {
   "cell_type": "code",
   "execution_count": 2,
   "id": "f7173b46",
   "metadata": {},
   "outputs": [
    {
     "data": {
      "text/plain": [
       "-10.2"
      ]
     },
     "metadata": {},
     "output_type": "display_data"
    }
   ],
   "source": [
    "5.10/2*-4"
   ]
  },
  {
   "attachments": {},
   "cell_type": "markdown",
   "id": "76f625d6-fea9-4358-b65e-1a33165413d6",
   "metadata": {},
   "source": [
    "#### Exercise 2 \n",
    " Assign values to variables and perform calculations using the variables.\n"
   ]
  },
  {
   "cell_type": "code",
   "execution_count": 3,
   "id": "98f97996",
   "metadata": {},
   "outputs": [
    {
     "data": {
      "text/plain": [
       "2.3126228396503223"
      ]
     },
     "metadata": {},
     "output_type": "display_data"
    }
   ],
   "source": [
    "hans = 3\n",
    "dieter = 4.3436\n",
    "egon = 2.1\n",
    "\n",
    "hans^egon/dieter\n"
   ]
  },
  {
   "attachments": {},
   "cell_type": "markdown",
   "id": "69739799-4038-44e3-802e-d3ed30d794d9",
   "metadata": {},
   "source": [
    "#### Exercise 3\n",
    "Create two strings and assign them to the variables `string1` and `string2`. Print both, separated by a blank space."
   ]
  },
  {
   "attachments": {},
   "cell_type": "markdown",
   "id": "66a76e90-aaa6-4cf0-8666-166cbb43f081",
   "metadata": {},
   "source": [
    "#### Solution 3 "
   ]
  },
  {
   "cell_type": "code",
   "execution_count": 4,
   "id": "20d9cc3b",
   "metadata": {},
   "outputs": [
    {
     "name": "stdout",
     "output_type": "stream",
     "text": [
      "hello my beloved friend\n"
     ]
    }
   ],
   "source": [
    "string1 = \"hello my\"\n",
    "string2 = \"beloved friend\"\n",
    "\n",
    "println(string1, \" \", string2)"
   ]
  },
  {
   "attachments": {},
   "cell_type": "markdown",
   "id": "11a24d18",
   "metadata": {},
   "source": [
    "#### Exercise 4\n",
    "Only print the first three symbols of `string1`."
   ]
  },
  {
   "cell_type": "markdown",
   "id": "1878536f",
   "metadata": {},
   "source": [
    "#### Solution 4"
   ]
  },
  {
   "cell_type": "code",
   "execution_count": 5,
   "id": "7ff089f7",
   "metadata": {},
   "outputs": [
    {
     "name": "stdout",
     "output_type": "stream",
     "text": [
      "hel\n"
     ]
    }
   ],
   "source": [
    "println(string1[1:3])"
   ]
  },
  {
   "attachments": {},
   "cell_type": "markdown",
   "id": "4fdd893e",
   "metadata": {},
   "source": [
    "#### Exercise 5\n",
    "Only print every second symbol of `string2`."
   ]
  },
  {
   "attachments": {},
   "cell_type": "markdown",
   "id": "41fc67c8",
   "metadata": {},
   "source": [
    "#### Solution 5"
   ]
  },
  {
   "cell_type": "code",
   "execution_count": 8,
   "id": "bff9f7ee",
   "metadata": {},
   "outputs": [
    {
     "name": "stdout",
     "output_type": "stream",
     "text": [
      "blvdfin\n"
     ]
    }
   ],
   "source": [
    "println(string2[1:2:end])"
   ]
  },
  {
   "attachments": {},
   "cell_type": "markdown",
   "id": "f6a10ab4",
   "metadata": {},
   "source": [
    "#### Exercise 6\n",
    "Create the following arrays:\n",
    "\n",
    "```julia\n",
    "array1 = [1, \"Hello\", 3, \"World!\", 5]\n",
    "array2 = [3/7, 4/9, 27/64]\n",
    "array3 = [6, 7, 8]\n",
    "```\n"
   ]
  },
  {
   "attachments": {},
   "cell_type": "markdown",
   "id": "976b8ddb",
   "metadata": {},
   "source": [
    "#### Solution 6"
   ]
  },
  {
   "cell_type": "code",
   "execution_count": 13,
   "id": "9cdc8cb3",
   "metadata": {},
   "outputs": [
    {
     "data": {
      "text/plain": [
       "3-element Vector{Int64}:\n",
       " 6\n",
       " 7\n",
       " 8"
      ]
     },
     "metadata": {},
     "output_type": "display_data"
    }
   ],
   "source": [
    "array1 = [1, \"Hello\", 3, \"World!\", 5]\n",
    "array2 = [3/7, 4/9, 27/64]\n",
    "array3 = [6, 7, 8]"
   ]
  },
  {
   "attachments": {},
   "cell_type": "markdown",
   "id": "7c8c363f",
   "metadata": {},
   "source": [
    "#### Exercise 7\n",
    "Print `'Hello World!'` out of `array1` using the `[]`-operator."
   ]
  },
  {
   "cell_type": "markdown",
   "id": "d940a4b3",
   "metadata": {},
   "source": [
    "#### Solution 7"
   ]
  },
  {
   "cell_type": "code",
   "execution_count": 16,
   "id": "2fc476fb",
   "metadata": {},
   "outputs": [
    {
     "name": "stdout",
     "output_type": "stream",
     "text": [
      "Any"
     ]
    },
    {
     "name": "stdout",
     "output_type": "stream",
     "text": [
      "[\"Hello\", \"World!\"]\n"
     ]
    }
   ],
   "source": [
    "println(array1[2:2:end])"
   ]
  },
  {
   "attachments": {},
   "cell_type": "markdown",
   "id": "16408fad",
   "metadata": {},
   "source": [
    "#### Exercise 8\n",
    "Change `'Hello'` to `2` and `'World!'` to `4` in `array1`."
   ]
  },
  {
   "cell_type": "markdown",
   "id": "45d94710",
   "metadata": {},
   "source": [
    "#### Solution 8"
   ]
  },
  {
   "cell_type": "code",
   "execution_count": 17,
   "id": "20e28df4",
   "metadata": {},
   "outputs": [
    {
     "data": {
      "text/plain": [
       "5-element Vector{Any}:\n",
       " 1\n",
       " 2\n",
       " 3\n",
       " 4\n",
       " 5"
      ]
     },
     "metadata": {},
     "output_type": "display_data"
    }
   ],
   "source": [
    "array1[2] = 2\n",
    "array1[4] = 4\n",
    "array1"
   ]
  },
  {
   "cell_type": "markdown",
   "id": "1520f989",
   "metadata": {},
   "source": [
    "#### Exercise 3\n",
    "Create two strings and assign them to the variables `string1` and `string2`. Print both, separated by a blank space."
   ]
  },
  {
   "cell_type": "markdown",
   "id": "a171d65c",
   "metadata": {},
   "source": [
    "#### Exercise 3\n",
    "Create two strings and assign them to the variables `string1` and `string2`. Print both, separated by a blank space."
   ]
  },
  {
   "cell_type": "markdown",
   "id": "69638093",
   "metadata": {},
   "source": [
    "#### Exercise 3\n",
    "Create two strings and assign them to the variables `string1` and `string2`. Print both, separated by a blank space."
   ]
  },
  {
   "attachments": {},
   "cell_type": "markdown",
   "id": "f4bdd3b0",
   "metadata": {},
   "source": []
  },
  {
   "attachments": {},
   "cell_type": "markdown",
   "id": "f3b78f67",
   "metadata": {},
   "source": []
  },
  {
   "attachments": {},
   "cell_type": "markdown",
   "id": "b2aea599",
   "metadata": {},
   "source": []
  },
  {
   "cell_type": "markdown",
   "id": "1f0a52bf",
   "metadata": {},
   "source": [
    "#### Solution 3 "
   ]
  },
  {
   "cell_type": "markdown",
   "id": "060391ec",
   "metadata": {},
   "source": [
    "#### Solution 3 "
   ]
  },
  {
   "cell_type": "markdown",
   "id": "aa32110d",
   "metadata": {},
   "source": [
    "#### Solution 3 "
   ]
  },
  {
   "cell_type": "markdown",
   "id": "5c5f319e",
   "metadata": {},
   "source": [
    "#### Solution 3 "
   ]
  },
  {
   "cell_type": "markdown",
   "id": "f38282d6",
   "metadata": {},
   "source": [
    "#### Solution 3 "
   ]
  }
 ],
 "metadata": {
  "kernelspec": {
   "display_name": "Julia 1.8.5",
   "language": "julia",
   "name": "julia-1.8"
  },
  "language_info": {
   "file_extension": ".jl",
   "mimetype": "application/julia",
   "name": "julia",
   "version": "1.8.5"
  }
 },
 "nbformat": 4,
 "nbformat_minor": 5
}
