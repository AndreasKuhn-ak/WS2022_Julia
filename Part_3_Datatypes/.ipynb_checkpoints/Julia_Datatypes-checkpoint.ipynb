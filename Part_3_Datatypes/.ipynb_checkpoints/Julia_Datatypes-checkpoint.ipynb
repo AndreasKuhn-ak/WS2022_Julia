{
 "cells": [
  {
   "cell_type": "markdown",
   "metadata": {},
   "source": [
    "<p style='text-align: center'><a href=https://www.biozentrum.uni-wuerzburg.de/cctb/research/supramolecular-and-cellular-simulations/>Supramolecular and Cellular Simulations</a> (Prof. Fischer)<br>Center for Computational and Theoretical Biology - CCTB<br>Faculty of Biology, University of Würzburg</p>\n",
    "\n",
    "<p style='text-align: center'><br><br>We are looking forward to your comments and suggestions. Please send them to: <br><br></p>\n",
    "    \n",
    " <p style='text-align: center'>   <a href=andreas.kuhn@uni.wuerzburg.de>andreas.kuhn@uni.wuerzburg.de</a> or <a href=sabine.fischer@uni.wuerzburg.de>sabine.fischer@uni.wuerzburg.de</a></p>\n",
    "\n",
    "<h1><p style='text-align: center'> Introduction to Julia </p></h1>\n"
   ]
  },
  {
   "cell_type": "markdown",
   "metadata": {},
   "source": [
    "## Datatypes\n",
    "\n",
    "In the following lecture and execises, you will get to know different datatypes that are commonly used in Julia."
   ]
  },
  {
   "cell_type": "markdown",
   "metadata": {},
   "source": [
    "### 1. Basics:  Dynamic types\n",
    "\n",
    "Julia is a dynamically typed language. That means the programmer does not have to specify the type of an object when it is created. In practice that means we don't need to type `int a = 10` like in languages like C/C++ or Java. Instead we just type `a = 10 ` and the compiler (the translater from Julia code to executable machine code on your processor) assigns the data types automatically. In most cases this works perfectly fine, but if you run into some type related problems you can check the type of any variable by `typeof(variable)`. \n",
    "There are also ways to force Julia to use certain types, but normally this is not worth the effort, apart from a few exceptions which we will discuss later.\n",
    "\n",
    "Note: If you are not an experienced programmer it can often makes things worse if you force the compiler to behave in a certain way .  (https://wiki.c2.com/?OutsmartingTheCompiler) \n"
   ]
  },
  {
   "cell_type": "markdown",
   "metadata": {},
   "source": [
    "### 2. Numerical Datatypes:\n",
    "#### 2.1 Int64 - Integers\n",
    "\n",
    "Integers are represented by the datatype `Int` in Julia. Integers can be used for mathematical operations or as values for variables. Basically, integers are made of digits from 0 to 9 without any fractional component and can be positive or negative. For mathematical operations integers can be connected with operators like +, -, * or /.  The results of this operations can also be assigned to a variable. The standard integer type is `Int64` which means that 8 bytes (64 Bit) are used to represent numbers from  $−(2^{63})$ to $2^{63} − 1$.    $(2^{63} \\approx  9.223 \\cdot 10^{18})$.\n"
   ]
  },
  {
   "cell_type": "code",
   "execution_count": 2,
   "metadata": {},
   "outputs": [
    {
     "data": {
      "text/plain": [
       "12"
      ]
     },
     "execution_count": 2,
     "metadata": {},
     "output_type": "execute_result"
    }
   ],
   "source": [
    "5+7"
   ]
  },
  {
   "cell_type": "code",
   "execution_count": 3,
   "metadata": {},
   "outputs": [
    {
     "data": {
      "text/plain": [
       "Int64"
      ]
     },
     "execution_count": 3,
     "metadata": {},
     "output_type": "execute_result"
    }
   ],
   "source": [
    "typeof(5+7)"
   ]
  },
  {
   "cell_type": "code",
   "execution_count": 4,
   "metadata": {},
   "outputs": [
    {
     "name": "stdout",
     "output_type": "stream",
     "text": [
      "34179\n"
     ]
    }
   ],
   "source": [
    "a=34\n",
    "b=17\n",
    "c=9\n",
    "println(a,b,c)"
   ]
  },
  {
   "cell_type": "code",
   "execution_count": 5,
   "metadata": {},
   "outputs": [
    {
     "name": "stdout",
     "output_type": "stream",
     "text": [
      "35.888888888888886\n"
     ]
    }
   ],
   "source": [
    "println(a+b/c)"
   ]
  },
  {
   "cell_type": "code",
   "execution_count": 6,
   "metadata": {},
   "outputs": [
    {
     "name": "stdout",
     "output_type": "stream",
     "text": [
      "60\n",
      "26\n",
      "64.22222222222223\n"
     ]
    }
   ],
   "source": [
    "d=a+b+c\n",
    "e=a-b+c\n",
    "f=a*b/c\n",
    "println(d)\n",
    "println(e)\n",
    "println(f)"
   ]
  },
  {
   "cell_type": "markdown",
   "metadata": {},
   "source": [
    "#### 2.2 Float64 - Floating point numbers\n",
    "\n",
    "The datatype `Float64` represents non-integer numbers. In Julia the whole number part of a floating number is separated from the decimal part by a `.` not by a `,`. The datatype `Float64` can be used just as the datatype `Int64`.\n",
    "As you may have seen in the previous cells, Julia automatically casts the results of `Int64` operations to a `Float64`, if the result is not a whole number."
   ]
  },
  {
   "cell_type": "code",
   "execution_count": 7,
   "metadata": {},
   "outputs": [
    {
     "name": "stdout",
     "output_type": "stream",
     "text": [
      "Int64\n",
      "Int64\n",
      "Float64\n"
     ]
    }
   ],
   "source": [
    "println(typeof(d))\n",
    "println(typeof(e))\n",
    "println(typeof(f))"
   ]
  },
  {
   "cell_type": "markdown",
   "metadata": {},
   "source": [
    "You can round `Float64` variables with the `round()` function. The first argument is the to be rounded value and the second optional argument is the number of digits. If digits is not given the default value is zero.  "
   ]
  },
  {
   "cell_type": "code",
   "execution_count": 8,
   "metadata": {},
   "outputs": [
    {
     "data": {
      "text/plain": [
       "64.0"
      ]
     },
     "execution_count": 8,
     "metadata": {},
     "output_type": "execute_result"
    }
   ],
   "source": [
    "round(f)"
   ]
  },
  {
   "cell_type": "code",
   "execution_count": 9,
   "metadata": {},
   "outputs": [
    {
     "name": "stdout",
     "output_type": "stream",
     "text": [
      "64.0\n",
      "64.222\n"
     ]
    }
   ],
   "source": [
    "println(round(f))\n",
    "println(round(f,digits = 3))"
   ]
  },
  {
   "cell_type": "markdown",
   "metadata": {},
   "source": [
    "If you want to cast an `Float64` to an `Int64` you can give the `round` another argument at the beginning. The datatype you wish to be cast to. The default value is the orginal datatype of the given variable."
   ]
  },
  {
   "cell_type": "code",
   "execution_count": 10,
   "metadata": {},
   "outputs": [
    {
     "name": "stdout",
     "output_type": "stream",
     "text": [
      "64\n",
      "Int64\n"
     ]
    }
   ],
   "source": [
    "println(round(Int64,f))\n",
    "println(typeof(round(Int64,f)))"
   ]
  },
  {
   "cell_type": "markdown",
   "metadata": {},
   "source": [
    "As said previously, Julia automatically asigns the datatype to variables. If needed you can use this to your advantage and just add a `.0` to an integer value to create a `Float64` instead. "
   ]
  },
  {
   "cell_type": "code",
   "execution_count": 11,
   "metadata": {},
   "outputs": [
    {
     "name": "stdout",
     "output_type": "stream",
     "text": [
      "Float64\n",
      "Int64\n"
     ]
    }
   ],
   "source": [
    "g = 10.0\n",
    "h = 10\n",
    "println(typeof(g))\n",
    "println(typeof(h))"
   ]
  },
  {
   "cell_type": "markdown",
   "metadata": {},
   "source": [
    "### 3. str - Strings:\n",
    "\n",
    "A string is a sequence of symbols  within `\"` . Almost every Julia object can be converted to a string  with `string(object)`. Strings can be combined with `*` or multiplied with an integer with `^`. The length of a string can be  determined with `length(str)`. To get certain symbols from a string you have to work with indices. For example from the `string = \"this is a string\"`,  `string[1]` returns `'t'`. Indices of strings always start with 1 and end with `lenght(str)`.  By using indices it is also possible to get slices of strings e.g. `string[1:5]` returns `\"this\"` or `string[6:10]` returns `\"is a\"`. When you add a thrid parameter to the slicing syntax the second number defines the increment (default value = 1) e.g. `string[1:2:14]` returns `'ti sasr'`. \n",
    "\n"
   ]
  },
  {
   "cell_type": "code",
   "execution_count": 12,
   "metadata": {},
   "outputs": [
    {
     "name": "stdout",
     "output_type": "stream",
     "text": [
      "Hello\n",
      "World\n"
     ]
    }
   ],
   "source": [
    "string1 = \"Hello\"\n",
    "string2 = \"World\"\n",
    "println(string1)\n",
    "println(string2)"
   ]
  },
  {
   "cell_type": "code",
   "execution_count": 13,
   "metadata": {},
   "outputs": [
    {
     "name": "stdout",
     "output_type": "stream",
     "text": [
      "HelloWorld\n"
     ]
    }
   ],
   "source": [
    "string3 = string1 * string2\n",
    "println(string3)"
   ]
  },
  {
   "cell_type": "code",
   "execution_count": 14,
   "metadata": {},
   "outputs": [
    {
     "name": "stdout",
     "output_type": "stream",
     "text": [
      "HelloHelloHelloHelloHello\n"
     ]
    }
   ],
   "source": [
    "string_multiply = string1 ^5\n",
    "println(string_multiply)"
   ]
  },
  {
   "cell_type": "code",
   "execution_count": 15,
   "metadata": {},
   "outputs": [
    {
     "name": "stdout",
     "output_type": "stream",
     "text": [
      "Hello World!\n"
     ]
    }
   ],
   "source": [
    "string4 = string1 * \" \" * string2 * \"!\"\n",
    "println(string4)"
   ]
  },
  {
   "cell_type": "code",
   "execution_count": 16,
   "metadata": {},
   "outputs": [
    {
     "name": "stdout",
     "output_type": "stream",
     "text": [
      "The value of A is: 9\n"
     ]
    }
   ],
   "source": [
    "A = 9\n",
    "string5 = \"The value of A is: \" * string(A)\n",
    "println(string5)"
   ]
  },
  {
   "cell_type": "code",
   "execution_count": 17,
   "metadata": {},
   "outputs": [
    {
     "name": "stdout",
     "output_type": "stream",
     "text": [
      "H\n"
     ]
    }
   ],
   "source": [
    "println(string1[1])"
   ]
  },
  {
   "cell_type": "code",
   "execution_count": 18,
   "metadata": {},
   "outputs": [
    {
     "name": "stdout",
     "output_type": "stream",
     "text": [
      "Hello World\n",
      "Hello World\n",
      "HloWrd\n",
      "dlroW olleH\n"
     ]
    }
   ],
   "source": [
    "println(string4[1:11])\n",
    "println(string4[1:1:11])\n",
    "println(string4[1:2:11])\n",
    "# you can also make the increment negative and go backwards\n",
    "println(string4[11:-1:1])"
   ]
  },
  {
   "cell_type": "markdown",
   "metadata": {},
   "source": [
    "### 4. Array, tuple and set:\n",
    "\n",
    "#### 4.1 Array\n",
    "An array in Julia is an ordered sequence of items inside of square brackets `[]` separated by commas. Arrays can contain items of every type and even inside of one array different types are possible. Also arrays in an array are possible, which can be very helpful when storing complexe datastructures.\n",
    "Arrays are exceptionally versatile and easy to handle datatypes. To access items from an array you can use the `slice operator [:]` like you did with the strings. As string arrays start with index `[1]` and end with `[length(array)]`.  Arrays are mutable, i.e. values of items can be altered using `[]`.\n",
    "Arrays always have a type. This type is automatically asigned by the compliler based on the given values eg. `[1,3,67,100]` will become an `Int64` array and `[2.0,1.0,1]` will become a `Float64` array. It is also possible to asign the type of an array manually by typing the type in front of it like `Int64[1,6,43]`.\n",
    "If the compiler cannot find a common type of the given values like in `[\"hans\",1,'e',6.0]` it will create an `Any` array, which can contain anything ;). Even though `Any` arrays are quite convenient to use, they should be avoided in computational heavy workloads as they are slower than an array with one specifiy type. "
   ]
  },
  {
   "cell_type": "markdown",
   "metadata": {},
   "source": [
    "Note: This is one of the execeptions where it can make sense to assign the type manually.  "
   ]
  },
  {
   "cell_type": "code",
   "execution_count": 19,
   "metadata": {},
   "outputs": [
    {
     "name": "stdout",
     "output_type": "stream",
     "text": [
      "1\n"
     ]
    },
    {
     "data": {
      "text/plain": [
       "6-element Vector{Int64}:\n",
       " 1\n",
       " 2\n",
       " 3\n",
       " 4\n",
       " 5\n",
       " 6"
      ]
     },
     "execution_count": 19,
     "metadata": {},
     "output_type": "execute_result"
    }
   ],
   "source": [
    "array0 = [1,2,3,4,5,6]\n",
    "println(array0[1])\n",
    "# Julia prints out the contents of the last line in a cell automatically in a jupyter notebook\n",
    "array0"
   ]
  },
  {
   "cell_type": "markdown",
   "metadata": {},
   "source": [
    "You can also access multiple elemtents of an array using the same slicing notation as for `strings`. If you don't know the length of an array can also use the keyword `end` which always points to the last element of an array. "
   ]
  },
  {
   "cell_type": "code",
   "execution_count": 20,
   "metadata": {},
   "outputs": [
    {
     "name": "stdout",
     "output_type": "stream",
     "text": [
      "[1, 2, 3, 4]\n",
      "6\n",
      "[1, 3, 5]\n"
     ]
    }
   ],
   "source": [
    "println(array0[1:4])\n",
    "println(array0[end])\n",
    "println(array0[1:2:end])\n"
   ]
  },
  {
   "cell_type": "markdown",
   "metadata": {},
   "source": [
    "Fun fact: As Julia was created from scientists for scientists it follows the math convention to call a one dimensional array a `Vector` and a two dimensional array a `Matrix`."
   ]
  },
  {
   "cell_type": "code",
   "execution_count": 21,
   "metadata": {},
   "outputs": [
    {
     "data": {
      "text/plain": [
       "2×2 Matrix{Int64}:\n",
       " 1  3\n",
       " 2  4"
      ]
     },
     "execution_count": 21,
     "metadata": {},
     "output_type": "execute_result"
    }
   ],
   "source": [
    "twoD_array = [[1,2] [3,4]]"
   ]
  },
  {
   "cell_type": "markdown",
   "metadata": {},
   "source": [
    "If we want to add elements to an array we can use the `push!()` function which takes two arguments, the first argument is the array we want to expand and the second is the element we want to add. When we want to join whole arrays together we can use he `append!()` function.\n",
    "\n",
    "Hint: The Julia standard libary uses the convention to end all function which modify the input arguments with an `!`. "
   ]
  },
  {
   "cell_type": "code",
   "execution_count": 22,
   "metadata": {},
   "outputs": [
    {
     "name": "stdout",
     "output_type": "stream",
     "text": [
      "[1, 2, 3, 4, 5, 6, 9, 19]\n"
     ]
    }
   ],
   "source": [
    "push!(array0, 9,19)\n",
    "\n",
    "println(array0)"
   ]
  },
  {
   "cell_type": "code",
   "execution_count": 23,
   "metadata": {},
   "outputs": [
    {
     "name": "stdout",
     "output_type": "stream",
     "text": [
      "[1, 2, 3, 4, 5, 6, 9, 19, 1, 3, 2]\n"
     ]
    }
   ],
   "source": [
    "println(append!(array0,[1,3,2]))"
   ]
  },
  {
   "cell_type": "markdown",
   "metadata": {},
   "source": [
    "To remove elements from an array we can either use the `pop!` function to remove the last element or the `deleteat!` function to remove an element at a given index. "
   ]
  },
  {
   "cell_type": "code",
   "execution_count": 24,
   "metadata": {},
   "outputs": [
    {
     "name": "stdout",
     "output_type": "stream",
     "text": [
      "[1, 2, 3, 4, 5, 6, 9, 19, 1, 3]\n"
     ]
    }
   ],
   "source": [
    "pop!(array0)\n",
    "println(array0)"
   ]
  },
  {
   "cell_type": "markdown",
   "metadata": {},
   "source": [
    "`pop!()` also returns the removed element"
   ]
  },
  {
   "cell_type": "code",
   "execution_count": 25,
   "metadata": {},
   "outputs": [
    {
     "name": "stdout",
     "output_type": "stream",
     "text": [
      "3\n",
      "[1, 2, 3, 4, 5, 6, 9, 19, 1]\n"
     ]
    }
   ],
   "source": [
    "popi = pop!(array0)\n",
    "println(popi)\n",
    "println(array0)"
   ]
  },
  {
   "cell_type": "code",
   "execution_count": 26,
   "metadata": {},
   "outputs": [
    {
     "name": "stdout",
     "output_type": "stream",
     "text": [
      "[1.0, 2.0, 3.0, 543.0]\n",
      "[1.0, 3.0, 543.0]\n"
     ]
    }
   ],
   "source": [
    "array1 = Float64[1.0,2.0,3.0,543.0]\n",
    "println(array1)\n",
    "deleteat!(array1,2)\n",
    "println(array1)"
   ]
  },
  {
   "cell_type": "markdown",
   "metadata": {},
   "source": [
    "If we want to create an array it can be annoying to always write out the `[,]` notation. If we want to create an array with a given size but only zeros or ones as elements we can use the `zeros()` or `ones()` functions. Their input agruments are the size of the array.   "
   ]
  },
  {
   "cell_type": "code",
   "execution_count": 27,
   "metadata": {},
   "outputs": [
    {
     "name": "stdout",
     "output_type": "stream",
     "text": [
      "[0.0, 0.0, 0.0, 0.0, 0.0, 0.0, 0.0, 0.0, 0.0, 0.0]\n"
     ]
    }
   ],
   "source": [
    "array2 = zeros(10)\n",
    "println(array2)"
   ]
  },
  {
   "cell_type": "code",
   "execution_count": 28,
   "metadata": {},
   "outputs": [
    {
     "data": {
      "text/plain": [
       "3×4 Matrix{Float64}:\n",
       " 1.0  1.0  1.0  1.0\n",
       " 1.0  1.0  1.0  1.0\n",
       " 1.0  1.0  1.0  1.0"
      ]
     },
     "execution_count": 28,
     "metadata": {},
     "output_type": "execute_result"
    }
   ],
   "source": [
    "#it is very easy to create multidimensional arrays this way.\n",
    "array3 = ones(3,4)"
   ]
  },
  {
   "cell_type": "markdown",
   "metadata": {},
   "source": [
    "When we want to acess single elements and modify them we use `[]` . "
   ]
  },
  {
   "cell_type": "code",
   "execution_count": 29,
   "metadata": {},
   "outputs": [
    {
     "name": "stdout",
     "output_type": "stream",
     "text": [
      "[0.0, 0.0, 0.0, 10.0, 0.0, 0.0, 0.0, 0.0, 0.0, 0.0]\n"
     ]
    }
   ],
   "source": [
    "array2[4] = 10\n",
    "println(array2)"
   ]
  },
  {
   "cell_type": "code",
   "execution_count": 30,
   "metadata": {},
   "outputs": [
    {
     "data": {
      "text/plain": [
       "3×4 Matrix{Float64}:\n",
       " 1.0  1.0  1.0  1.0\n",
       " 1.0  5.0  1.0  1.0\n",
       " 1.0  1.0  1.0  1.0"
      ]
     },
     "execution_count": 30,
     "metadata": {},
     "output_type": "execute_result"
    }
   ],
   "source": [
    "array3[2,2] = 5\n",
    "array3"
   ]
  },
  {
   "cell_type": "markdown",
   "metadata": {},
   "source": [
    "Another way to fastly create big arrays is to use the `collect` function. This function can create arrays with  the same slicing syntax `start:step:end`, known from strings. "
   ]
  },
  {
   "cell_type": "code",
   "execution_count": 31,
   "metadata": {},
   "outputs": [
    {
     "name": "stdout",
     "output_type": "stream",
     "text": [
      "[1, 2, 3, 4, 5, 6, 7, 8, 9, 10]\n",
      "[1000, 990, 980, 970, 960, 950, 940, 930, 920, 910, 900, 890, 880, 870, 860, 850, 840, 830, 820, 810, 800, 790, 780, 770, 760, 750, 740, 730, 720, 710, 700, 690, 680, 670, 660, 650, 640, 630, 620, 610, 600, 590, 580, 570, 560, 550, 540, 530, 520, 510, 500, 490, 480, 470, 460, 450, 440, 430, 420, 410, 400, 390, 380, 370, 360, 350, 340, 330, 320, 310, 300, 290, 280, 270, 260, 250, 240, 230, 220, 210, 200, 190, 180, 170, 160, 150, 140, 130, 120, 110, 100, 90, 80, 70, 60, 50, 40, 30, 20, 10]\n"
     ]
    }
   ],
   "source": [
    "array4 = collect(1:1:10)\n",
    "array5 = collect(1000:-10:1)\n",
    "println(array4)\n",
    "println(array5)"
   ]
  },
  {
   "cell_type": "markdown",
   "metadata": {},
   "source": [
    "##### 4.1.1 Array operations"
   ]
  },
  {
   "cell_type": "markdown",
   "metadata": {},
   "source": [
    "Arrays can interact with the basic numeric datatypes Int64 and Float64 and the basic operator `+,-,*,/,=,==,<,>,>=,<=` through a method called broadcasting. \n",
    "Broadcasting essentially means apply this operation elementwise. This can be done by using the `.` infront of an operation like `.+` which means that this operation is applied to every element of the array. "
   ]
  },
  {
   "cell_type": "code",
   "execution_count": 32,
   "metadata": {},
   "outputs": [
    {
     "name": "stdout",
     "output_type": "stream",
     "text": [
      "[1, 2, 3, 4, 5]\n",
      "[6, 7, 8, 9, 10]\n",
      "[3, 6, 9, 12, 15]\n"
     ]
    }
   ],
   "source": [
    "array6 = collect(1:5)\n",
    "println(array6)\n",
    "println(array6 .+5)\n",
    "println(array6.*3)"
   ]
  },
  {
   "cell_type": "markdown",
   "metadata": {},
   "source": [
    "Some special operations can act on an arrays as one entity like matrix-vector or matrix-matrix multiplication. In these cases we can just use the `*` operator without an `.`. But be carefull , as these operations are only possible if the arrays have the right sizes. "
   ]
  },
  {
   "cell_type": "code",
   "execution_count": 33,
   "metadata": {},
   "outputs": [
    {
     "name": "stdout",
     "output_type": "stream",
     "text": [
      "[1, 2, 3, 4, 5]\n"
     ]
    },
    {
     "data": {
      "text/plain": [
       "5×5 Matrix{Float64}:\n",
       " 1.0  1.0  1.0  1.0  1.0\n",
       " 1.0  1.0  1.0  1.0  1.0\n",
       " 1.0  1.0  1.0  1.0  1.0\n",
       " 1.0  1.0  1.0  1.0  1.0\n",
       " 1.0  1.0  1.0  1.0  1.0"
      ]
     },
     "execution_count": 33,
     "metadata": {},
     "output_type": "execute_result"
    }
   ],
   "source": [
    "vector1 = collect(1:5)\n",
    "println(vector1)\n",
    "matrix1 = ones(5,5)"
   ]
  },
  {
   "cell_type": "code",
   "execution_count": 34,
   "metadata": {},
   "outputs": [
    {
     "data": {
      "text/plain": [
       "5-element Vector{Float64}:\n",
       " 15.0\n",
       " 15.0\n",
       " 15.0\n",
       " 15.0\n",
       " 15.0"
      ]
     },
     "execution_count": 34,
     "metadata": {},
     "output_type": "execute_result"
    }
   ],
   "source": [
    "#matrix vector multiplication\n",
    "matrix1 * vector1"
   ]
  },
  {
   "cell_type": "code",
   "execution_count": 35,
   "metadata": {},
   "outputs": [
    {
     "data": {
      "text/plain": [
       "5×5 Matrix{Float64}:\n",
       " 0.0  0.0  0.0  0.0  0.0\n",
       " 0.0  0.0  0.0  0.0  0.0\n",
       " 0.0  0.0  0.0  0.0  0.0\n",
       " 0.0  0.0  0.0  0.0  0.0\n",
       " 0.0  0.0  0.0  0.0  0.0"
      ]
     },
     "execution_count": 35,
     "metadata": {},
     "output_type": "execute_result"
    }
   ],
   "source": [
    "matrix2 = zeros(5,5)"
   ]
  },
  {
   "cell_type": "code",
   "execution_count": 36,
   "metadata": {},
   "outputs": [
    {
     "data": {
      "text/plain": [
       "5×5 Matrix{Float64}:\n",
       "   0.0    0.0    0.0    0.0    0.0\n",
       " 123.0  123.0  123.0  123.0  123.0\n",
       "   0.0    0.0    0.0    0.0    0.0\n",
       "   0.0    0.0    0.0    0.0    0.0\n",
       "   0.0    0.0    0.0    0.0    0.0"
      ]
     },
     "execution_count": 36,
     "metadata": {},
     "output_type": "execute_result"
    }
   ],
   "source": [
    "matrix2[2,3] = 123\n",
    "#Matrix matrix multiplication\n",
    "matrix2*matrix1"
   ]
  },
  {
   "cell_type": "markdown",
   "metadata": {},
   "source": [
    "If it is necessary to check, wether a certain item is within a list the `in-operator` can be utilized."
   ]
  },
  {
   "cell_type": "code",
   "execution_count": 37,
   "metadata": {},
   "outputs": [
    {
     "data": {
      "text/plain": [
       "true"
      ]
     },
     "execution_count": 37,
     "metadata": {},
     "output_type": "execute_result"
    }
   ],
   "source": [
    "4 in vector1"
   ]
  },
  {
   "cell_type": "markdown",
   "metadata": {},
   "source": [
    "There are many other functions that can be used on arrays like, length, rand, apend, sort etc. You can find the most import ones (and much more) on the Julia cheatsheet: https://juliadocs.github.io/Julia-Cheat-Sheet/ <br>"
   ]
  },
  {
   "cell_type": "markdown",
   "metadata": {},
   "source": [
    "#### 4.2 tuple\n",
    "Similar to lists, tuples are an ordered sequence of items inside of round brackets `()` separated by commas. They are handled like arrays with one exception. Tuples are immutable, i.e. once created, its content cannot be modified.\n",
    "<br> Therefore, tuples are mostly used to write-protect data and are usually faster than arrays, because they are not dynamic."
   ]
  },
  {
   "cell_type": "code",
   "execution_count": 38,
   "metadata": {},
   "outputs": [
    {
     "name": "stdout",
     "output_type": "stream",
     "text": [
      "(5, 2, 7, 2)\n",
      "7\n"
     ]
    }
   ],
   "source": [
    "tuple1=(5,2,7,2)\n",
    "println(tuple1)\n",
    "println(tuple1[3])"
   ]
  },
  {
   "cell_type": "markdown",
   "metadata": {},
   "source": [
    "Trying to change an element of a tuple will result in an error message."
   ]
  },
  {
   "cell_type": "code",
   "execution_count": 39,
   "metadata": {},
   "outputs": [
    {
     "ename": "LoadError",
     "evalue": "MethodError: no method matching setindex!(::NTuple{4, Int64}, ::Int64, ::Int64)",
     "output_type": "error",
     "traceback": [
      "MethodError: no method matching setindex!(::NTuple{4, Int64}, ::Int64, ::Int64)",
      "",
      "Stacktrace:",
      " [1] top-level scope",
      "   @ In[39]:1",
      " [2] eval",
      "   @ .\\boot.jl:373 [inlined]",
      " [3] include_string(mapexpr::typeof(REPL.softscope), mod::Module, code::String, filename::String)",
      "   @ Base .\\loading.jl:1196"
     ]
    }
   ],
   "source": [
    "tuple1[1] = 1"
   ]
  },
  {
   "cell_type": "markdown",
   "metadata": {},
   "source": [
    "#### 4.4 Interchanging these datatypes\n",
    "If we want to convert an tuple to an array, we can use the already known `collect` function. To do it the other way round we can use the function `Tuple`:"
   ]
  },
  {
   "cell_type": "code",
   "execution_count": 40,
   "metadata": {},
   "outputs": [
    {
     "name": "stdout",
     "output_type": "stream",
     "text": [
      "(1, 1, 1, 2, 5, 5, 5)"
     ]
    }
   ],
   "source": [
    "testobject1 = [1,1,1,2,5,5,5]\n",
    "print(Tuple(testobject1))"
   ]
  },
  {
   "cell_type": "code",
   "execution_count": 41,
   "metadata": {},
   "outputs": [
    {
     "name": "stdout",
     "output_type": "stream",
     "text": [
      "[1, 1, 1, 2, 5, 5, 5]"
     ]
    }
   ],
   "source": [
    "testobject2 = (1,1,1,2,5,5,5)\n",
    "print(collect(testobject2))"
   ]
  },
  {
   "cell_type": "markdown",
   "metadata": {},
   "source": [
    "### 5. dict - Dictionaries:\n",
    "A dictionary in Julia is an unorderd collection of key-value pairs where key and value can be of any type and one key can have several values. They are defined the `Dict` keyword with a key and a value that are seperated by `=>` , e.g. `Dict(key1=>value1, key2=>value2)`. Keys and values can be of various datatypes. However, strings are most commonly used as keys. Dictionaries are optimized for retrieving data, but you have to know the key to retrieve its data `dict[key]=value` of the key`."
   ]
  },
  {
   "cell_type": "code",
   "execution_count": 42,
   "metadata": {},
   "outputs": [
    {
     "name": "stdout",
     "output_type": "stream",
     "text": [
      "Dict{Any, Any}(\"key\" => 3, (1, 2) => \"value\", \"another_key\" => [4, 7], 1 => 'x')\n"
     ]
    }
   ],
   "source": [
    "dict_1=Dict(\"key\"=>3,\n",
    "        \"another_key\"=>[4,7],\n",
    "        1=>'x',\n",
    "        (1,2)=>\"value\")\n",
    "println(dict_1)"
   ]
  },
  {
   "cell_type": "code",
   "execution_count": 43,
   "metadata": {},
   "outputs": [
    {
     "name": "stdout",
     "output_type": "stream",
     "text": [
      "3\n"
     ]
    }
   ],
   "source": [
    "# str as key, int as value\n",
    "println(dict_1[\"key\"])"
   ]
  },
  {
   "cell_type": "code",
   "execution_count": 44,
   "metadata": {},
   "outputs": [
    {
     "name": "stdout",
     "output_type": "stream",
     "text": [
      "[4, 7]"
     ]
    }
   ],
   "source": [
    "# str as key, int as value\n",
    "print(dict_1[\"another_key\"])"
   ]
  },
  {
   "cell_type": "code",
   "execution_count": 45,
   "metadata": {},
   "outputs": [
    {
     "name": "stdout",
     "output_type": "stream",
     "text": [
      "x\n"
     ]
    }
   ],
   "source": [
    "# int as key, char as value\n",
    "println(dict_1[1])"
   ]
  },
  {
   "cell_type": "code",
   "execution_count": 46,
   "metadata": {},
   "outputs": [
    {
     "name": "stdout",
     "output_type": "stream",
     "text": [
      "value"
     ]
    }
   ],
   "source": [
    "# tuple as key, tuple as value\n",
    "print(dict_1[(1,2)])"
   ]
  },
  {
   "cell_type": "markdown",
   "metadata": {},
   "source": [
    "New key-value pairs can easily be added by simply defining them like this `dict[NewKey] = NewValue`, regardless of their datatype."
   ]
  },
  {
   "cell_type": "code",
   "execution_count": 47,
   "metadata": {},
   "outputs": [
    {
     "name": "stdout",
     "output_type": "stream",
     "text": [
      "Dict{Any, Any}(\"key\" => 3, (1, 2) => \"value\", \"another_key\" => [4, 7], 1 => 'x', \"new_key\" => 4)"
     ]
    }
   ],
   "source": [
    "dict_1[\"new_key\"] = 4\n",
    "print(dict_1)"
   ]
  },
  {
   "cell_type": "code",
   "execution_count": 48,
   "metadata": {},
   "outputs": [
    {
     "name": "stdout",
     "output_type": "stream",
     "text": [
      "Dict{Any, Any}(\"key\" => 3, (1, 2) => \"value\", \"another_key\" => [4, 7], (1, 2, 3, 4, 5) => [5, 4, 3, 2, 1], 1 => 'x', \"new_key\" => 4)"
     ]
    }
   ],
   "source": [
    "dict_1[(1,2,3,4,5)] = [5,4,3,2,1]\n",
    "print(dict_1)"
   ]
  },
  {
   "cell_type": "markdown",
   "metadata": {},
   "source": [
    "## Exercises"
   ]
  },
  {
   "cell_type": "markdown",
   "metadata": {},
   "source": [
    "Always check your results with `println(result)`"
   ]
  },
  {
   "cell_type": "markdown",
   "metadata": {},
   "source": [
    "### <p style='color: green'>easy</p>\n",
    "\n",
    "1. Perform various calculations. Add, subtract, divide, multiply, exponentiate. Use integers and floats. <br>"
   ]
  },
  {
   "cell_type": "markdown",
   "metadata": {},
   "source": [
    "2. Assign values to variables and perform calculations using the variables."
   ]
  },
  {
   "cell_type": "markdown",
   "metadata": {},
   "source": [
    "3. Create two strings and assign them to the variables `string1` and `string2`. Print both, separated by a blank space.\n"
   ]
  },
  {
   "cell_type": "markdown",
   "metadata": {},
   "source": [
    "4. Only print the first three symbols of `string1`."
   ]
  },
  {
   "cell_type": "markdown",
   "metadata": {},
   "source": [
    "5. Only print every second symbol of `string2`."
   ]
  },
  {
   "cell_type": "markdown",
   "metadata": {},
   "source": [
    "6. Create the following arrays:\n",
    "\n",
    "```julia\n",
    "array1 = [1, \"Hello\", 3, \"World!\", 5]\n",
    "array2 = [3/7, 4/9, 27/64]\n",
    "array3 = [6, 7, 8]\n",
    "```\n"
   ]
  },
  {
   "cell_type": "markdown",
   "metadata": {},
   "source": [
    "7. Print `'Hello World!'` out of `array1` using the `[]`-operator."
   ]
  },
  {
   "cell_type": "markdown",
   "metadata": {},
   "source": [
    "8. Change `'Hello'` to `2` and `'World!'` to `4` in `array1`."
   ]
  },
  {
   "cell_type": "markdown",
   "metadata": {},
   "source": [
    "9. Join `array1` and `array3` and call the result `array4`."
   ]
  },
  {
   "cell_type": "markdown",
   "metadata": {},
   "source": [
    "10. Make a copy of `array4` named `array4_2` using the `[]`-operator."
   ]
  },
  {
   "cell_type": "markdown",
   "metadata": {},
   "source": [
    "11. Delete `8` from `array4_2`."
   ]
  },
  {
   "cell_type": "markdown",
   "metadata": {},
   "source": [
    "12. Test if `27/63` is in `array2`."
   ]
  },
  {
   "cell_type": "markdown",
   "metadata": {},
   "source": [
    "13. Test if `2/5` is in `array2`."
   ]
  },
  {
   "cell_type": "markdown",
   "metadata": {},
   "source": [
    "14. Test if `'Hello'` is in `array1`."
   ]
  },
  {
   "cell_type": "markdown",
   "metadata": {},
   "source": [
    "15. Slice `[3,4,5,6]` out of `array4` and call the new list `array5`."
   ]
  },
  {
   "cell_type": "markdown",
   "metadata": {},
   "source": [
    "16. Multiply `array5` with an integer number and print the length of the result which you should give the name `array6`."
   ]
  },
  {
   "cell_type": "markdown",
   "metadata": {},
   "source": [
    "17. Make a dictionary `dict1` with the keys `'House'`, `'Garden'` and `7` with three values for each key in the form of lists."
   ]
  },
  {
   "cell_type": "markdown",
   "metadata": {},
   "source": [
    "18. Add another key to `dict1` with some values."
   ]
  },
  {
   "cell_type": "markdown",
   "metadata": {},
   "source": [
    "19. Print the values of `dict1` with the key `'Garden'`"
   ]
  },
  {
   "cell_type": "markdown",
   "metadata": {},
   "source": [
    "### <p style='color: orange'>medium</p>\n",
    "20. What are the indices of `3`, `5` and `7` in `array4`? Delete them."
   ]
  },
  {
   "cell_type": "markdown",
   "metadata": {},
   "source": [
    "21. How often does `3` occur in all lists (`array1`, `array2`, `array3`, `array4`, `array4_2`, `array5`, `array6`)?"
   ]
  },
  {
   "cell_type": "markdown",
   "metadata": {},
   "source": [
    "22. Create `array7` and `array7_1` with `[1,2,3]`. Append `[5,6,7]` to `array7` and push `array7_1` with `5,6 and 7`. Compare `array7` and `array7_1`."
   ]
  },
  {
   "cell_type": "markdown",
   "metadata": {},
   "source": [
    "23. Insert `4` in `array7_1` between `3` and `5`."
   ]
  },
  {
   "cell_type": "markdown",
   "metadata": {},
   "source": [
    "24. Remove the element with index `3` from `array7_1` and assign that element to a variable."
   ]
  },
  {
   "cell_type": "markdown",
   "metadata": {},
   "source": [
    "25. Remove `5` from `array7_1`."
   ]
  },
  {
   "cell_type": "markdown",
   "metadata": {},
   "source": [
    "26. Reverse the order of `array7_1` and print it."
   ]
  },
  {
   "cell_type": "markdown",
   "metadata": {},
   "source": [
    "27. Now sort `array7_1` and print it again."
   ]
  }
 ],
 "metadata": {
  "kernelspec": {
   "display_name": "Julia 1.7.3",
   "language": "julia",
   "name": "julia-1.7"
  },
  "language_info": {
   "file_extension": ".jl",
   "mimetype": "application/julia",
   "name": "julia",
   "version": "1.7.3"
  }
 },
 "nbformat": 4,
 "nbformat_minor": 4
}
