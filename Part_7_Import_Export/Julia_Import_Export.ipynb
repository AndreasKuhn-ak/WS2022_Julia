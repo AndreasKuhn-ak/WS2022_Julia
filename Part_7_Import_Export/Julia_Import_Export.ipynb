{
 "cells": [
  {
   "cell_type": "markdown",
   "metadata": {},
   "source": [
    "<p style='text-align: center'><a href=https://www.biozentrum.uni-wuerzburg.de/cctb/research/supramolecular-and-cellular-simulations/>Supramolecular and Cellular Simulations</a> (Prof. Fischer)<br>Center for Computational and Theoretical Biology - CCTB<br>Faculty of Biology, University of Würzburg</p>\n",
    "\n",
    "<p style='text-align: center'><br><br>We are looking forward to your comments and suggestions. Please send them to: <br><br></p>\n",
    "    \n",
    " <p style='text-align: center'>   <a href=andreas.kuhn@uni.wuerzburg.de>andreas.kuhn@uni.wuerzburg.de</a> or <a href=sabine.fischer@uni.wuerzburg.de>sabine.fischer@uni.wuerzburg.de</a></p>\n",
    "\n",
    "<h1><p style='text-align: center'> Introduction to Julia </p></h1>\n"
   ]
  },
  {
   "cell_type": "markdown",
   "metadata": {},
   "source": [
    "## File management"
   ]
  },
  {
   "cell_type": "markdown",
   "metadata": {},
   "source": [
    "This notebook gives you a short introduction how to  manage paths, create/delete folders and to import/export data with Julia.   "
   ]
  },
  {
   "cell_type": "markdown",
   "metadata": {},
   "source": [
    "### 1. Paths or where are we ? "
   ]
  },
  {
   "cell_type": "markdown",
   "metadata": {},
   "source": [
    "Paths are the address of every file on the harddrive on a pc. Paths can either be given in absolute terms or relative towards other paths. The function `pwd()` returns the absolute path of this notebook/the current Julia session. "
   ]
  },
  {
   "cell_type": "code",
   "execution_count": 1,
   "metadata": {},
   "outputs": [
    {
     "data": {
      "text/plain": [
       "\"C:\\\\Users\\\\ank10ki\\\\Dropbox\\\\phd\\\\Courses\\\\WS2022_Julia\\\\Part_7_Import_Export\""
      ]
     },
     "execution_count": 1,
     "metadata": {},
     "output_type": "execute_result"
    }
   ],
   "source": [
    "path_notebook = pwd()"
   ]
  },
  {
   "cell_type": "markdown",
   "metadata": {},
   "source": [
    "Relative paths are always given in relation to the absolute path of the current notebook/Julia session (the return value of `pwd()`). It is possible to change this path, but we strongly advice you not to and always keep `pwd()` at its default value. \n",
    "\n",
    "If we want to get the contents a folder we can use the  `readdir()` function with a valid path string as argument .  `readdir` returns the relative paths of all contents of a folder as Vector of `Strings`. "
   ]
  },
  {
   "cell_type": "code",
   "execution_count": 2,
   "metadata": {},
   "outputs": [
    {
     "data": {
      "text/plain": [
       "15-element Vector{String}:\n",
       " \".ipynb_checkpoints\"\n",
       " \"AliceInWonderland.txt\"\n",
       " \"DrugScreen1.csv\"\n",
       " \"DrugScreen2.csv\"\n",
       " \"Julia_Import_Export.ipynb\"\n",
       " \"Weights.csv\"\n",
       " \"hansi.txt\"\n",
       " \"list3D.csv\"\n",
       " \"matrix1.jls\"\n",
       " \"matrix3.txt\"\n",
       " \"matrix4.txt\"\n",
       " \"numbers.csv\"\n",
       " \"numbers.txt\"\n",
       " \"oh_shit.webp\"\n",
       " \"rockets.txt\""
      ]
     },
     "execution_count": 2,
     "metadata": {},
     "output_type": "execute_result"
    }
   ],
   "source": [
    "readdir(path_notebook)  # absolute path"
   ]
  },
  {
   "cell_type": "markdown",
   "metadata": {},
   "source": [
    "As the relative path is always given in relation to the notebook path, the corresponding relative path is just a blank space. "
   ]
  },
  {
   "cell_type": "code",
   "execution_count": 3,
   "metadata": {},
   "outputs": [
    {
     "data": {
      "text/plain": [
       "15-element Vector{String}:\n",
       " \".ipynb_checkpoints\"\n",
       " \"AliceInWonderland.txt\"\n",
       " \"DrugScreen1.csv\"\n",
       " \"DrugScreen2.csv\"\n",
       " \"Julia_Import_Export.ipynb\"\n",
       " \"Weights.csv\"\n",
       " \"hansi.txt\"\n",
       " \"list3D.csv\"\n",
       " \"matrix1.jls\"\n",
       " \"matrix3.txt\"\n",
       " \"matrix4.txt\"\n",
       " \"numbers.csv\"\n",
       " \"numbers.txt\"\n",
       " \"oh_shit.webp\"\n",
       " \"rockets.txt\""
      ]
     },
     "execution_count": 3,
     "metadata": {},
     "output_type": "execute_result"
    }
   ],
   "source": [
    "readdir()              # relative path    "
   ]
  },
  {
   "cell_type": "markdown",
   "metadata": {},
   "source": [
    "As you can see an absolute path is quite long, annoying to deal with and depends on your machine and operation system.  Therefore, if possible you should always work with relative paths, as they are smaller and easily portable."
   ]
  },
  {
   "cell_type": "markdown",
   "metadata": {},
   "source": [
    "If we want to create a folder we can use the `mkpath()` function which creates folder(s) at the given path. "
   ]
  },
  {
   "cell_type": "code",
   "execution_count": 4,
   "metadata": {},
   "outputs": [
    {
     "data": {
      "text/plain": [
       "\"test_folder2/sub_folder/data\""
      ]
     },
     "execution_count": 4,
     "metadata": {},
     "output_type": "execute_result"
    }
   ],
   "source": [
    "mkpath(\"test_folder1\")\n",
    "mkpath(\"test_folder2/sub_folder/data\")"
   ]
  },
  {
   "cell_type": "code",
   "execution_count": 5,
   "metadata": {},
   "outputs": [
    {
     "data": {
      "text/plain": [
       "17-element Vector{String}:\n",
       " \".ipynb_checkpoints\"\n",
       " \"AliceInWonderland.txt\"\n",
       " \"DrugScreen1.csv\"\n",
       " \"DrugScreen2.csv\"\n",
       " \"Julia_Import_Export.ipynb\"\n",
       " \"Weights.csv\"\n",
       " \"hansi.txt\"\n",
       " \"list3D.csv\"\n",
       " \"matrix1.jls\"\n",
       " \"matrix3.txt\"\n",
       " \"matrix4.txt\"\n",
       " \"numbers.csv\"\n",
       " \"numbers.txt\"\n",
       " \"oh_shit.webp\"\n",
       " \"rockets.txt\"\n",
       " \"test_folder1\"\n",
       " \"test_folder2\""
      ]
     },
     "execution_count": 5,
     "metadata": {},
     "output_type": "execute_result"
    }
   ],
   "source": [
    "readdir()"
   ]
  },
  {
   "cell_type": "markdown",
   "metadata": {},
   "source": [
    "As you can see the return value of `readdir()` has changed because we have created the folder `test_folder` inside our notebook folder. When we want to see what inside `test_folder` we just use its relative path as argument for `readdir()` and so on. "
   ]
  },
  {
   "cell_type": "code",
   "execution_count": 6,
   "metadata": {},
   "outputs": [
    {
     "data": {
      "text/plain": [
       "String[]"
      ]
     },
     "execution_count": 6,
     "metadata": {},
     "output_type": "execute_result"
    }
   ],
   "source": [
    "readdir(\"test_folder1\")"
   ]
  },
  {
   "cell_type": "code",
   "execution_count": 7,
   "metadata": {},
   "outputs": [
    {
     "data": {
      "text/plain": [
       "1-element Vector{String}:\n",
       " \"data\""
      ]
     },
     "execution_count": 7,
     "metadata": {},
     "output_type": "execute_result"
    }
   ],
   "source": [
    "readdir(\"test_folder2/sub_folder/\")"
   ]
  },
  {
   "cell_type": "markdown",
   "metadata": {},
   "source": [
    "####  The slash or backslash question\n",
    "If you are using this notebook and Windows it probably has returned paths like this `\"C:\\\\Users\\\\hanswurst\\\\sfw_stuff\\\\Julia_course\\\\Part_7_Import_Export\"` with `\\\\` instead of `/` . Therefore, you could use double backslash instead of slashes in your code as well. On Windows this would work perfectly fine, but as soon as you would use the notebook on Linux or Mac everything would break. Therefore, we strongly advice you to always use `/`  as they work perfectly everywhere. \n",
    "\n"
   ]
  },
  {
   "cell_type": "markdown",
   "metadata": {},
   "source": [
    "If you want to delete a file or a folder you can use the `rm()` function. "
   ]
  },
  {
   "cell_type": "code",
   "execution_count": 8,
   "metadata": {},
   "outputs": [],
   "source": [
    "rm(\"test_folder1\")"
   ]
  },
  {
   "cell_type": "markdown",
   "metadata": {},
   "source": [
    "To remove all files/subfolders in a folder as well we can add the keyword argument `recursive = true`.\n",
    "\n",
    "Note: You should only use this if you exactly know what you are doing and where you are, because if you are in the wrong folder it can happen very easily that you delete half your harddrive in an instant.  \n"
   ]
  },
  {
   "cell_type": "code",
   "execution_count": 9,
   "metadata": {},
   "outputs": [],
   "source": [
    "rm(\"test_folder2\",recursive = true)"
   ]
  },
  {
   "cell_type": "markdown",
   "metadata": {},
   "source": [
    "![title](oh_shit.webp)"
   ]
  },
  {
   "cell_type": "code",
   "execution_count": 10,
   "metadata": {},
   "outputs": [
    {
     "data": {
      "text/plain": [
       "15-element Vector{String}:\n",
       " \".ipynb_checkpoints\"\n",
       " \"AliceInWonderland.txt\"\n",
       " \"DrugScreen1.csv\"\n",
       " \"DrugScreen2.csv\"\n",
       " \"Julia_Import_Export.ipynb\"\n",
       " \"Weights.csv\"\n",
       " \"hansi.txt\"\n",
       " \"list3D.csv\"\n",
       " \"matrix1.jls\"\n",
       " \"matrix3.txt\"\n",
       " \"matrix4.txt\"\n",
       " \"numbers.csv\"\n",
       " \"numbers.txt\"\n",
       " \"oh_shit.webp\"\n",
       " \"rockets.txt\""
      ]
     },
     "execution_count": 10,
     "metadata": {},
     "output_type": "execute_result"
    }
   ],
   "source": [
    "readdir()"
   ]
  },
  {
   "cell_type": "markdown",
   "metadata": {},
   "source": [
    "Note: There are a lot more functions regarding the filesystem in Julia which provide a functionabilty almost as powerful as the Linux command line: ( https://docs.julialang.org/en/v1/base/file/)"
   ]
  },
  {
   "cell_type": "markdown",
   "metadata": {},
   "source": [
    "### 2. Import/Export data"
   ]
  },
  {
   "cell_type": "markdown",
   "metadata": {},
   "source": [
    "When exporting/importing data there are essential two questions to ask: \n",
    "\n",
    "#### Should the data be human readable  ? \n",
    "\n",
    "#### Will the data be used outside of Julia with other languages/programms ? \n"
   ]
  },
  {
   "cell_type": "markdown",
   "metadata": {},
   "source": [
    "####  2.1 If the answer to both questions is `no`, Julia provides a very useful package for this purpose in its standard libary called `Serialization`."
   ]
  },
  {
   "cell_type": "code",
   "execution_count": 2,
   "metadata": {},
   "outputs": [],
   "source": [
    "using Serialization"
   ]
  },
  {
   "cell_type": "markdown",
   "metadata": {},
   "source": [
    "This package provides two functions `serialize()` and `deserialize()`. \n",
    "\n",
    "`serialize()` takes two arguments the first argument is a name of the file (=its path) that we want to create and the Julia object we want to save. We can save every possible Julia object this way no matter if it is a `String` an `array` a `dictionary` or arbitarly more complicated nested objects like `array of arrays, ...`  .  `serialize()` then creates a `.jls` file at the given path.  \n"
   ]
  },
  {
   "cell_type": "code",
   "execution_count": 3,
   "metadata": {},
   "outputs": [
    {
     "data": {
      "text/plain": [
       "100×100 Matrix{Float64}:\n",
       " 0.913823   0.495448   0.313782    …  0.319418   0.439859   0.708935\n",
       " 0.187266   0.459249   0.0452869      0.332767   0.760821   0.670541\n",
       " 0.0374306  0.647167   0.520203       0.248132   0.775152   0.717104\n",
       " 0.437236   0.306025   0.944309       0.970459   0.844118   0.487975\n",
       " 0.148569   0.305205   0.163232       0.306938   0.198564   0.539762\n",
       " 0.396966   0.103773   0.19634     …  0.483355   0.562339   0.8515\n",
       " 0.525741   0.950681   0.297704       0.18405    0.595041   0.67006\n",
       " 0.420411   0.698364   0.161794       0.229044   0.931707   0.532526\n",
       " 0.686216   0.366384   0.0523677      0.899531   0.374992   0.262767\n",
       " 0.859767   0.125395   0.715746       0.74226    0.0122771  0.304477\n",
       " 0.557347   0.515072   0.854605    …  0.66246    0.200616   0.617438\n",
       " 0.784319   0.911629   0.639122       0.533299   0.0386025  0.324328\n",
       " 0.183741   0.428174   0.477402       0.0228798  0.63126    0.29078\n",
       " ⋮                                 ⋱                        \n",
       " 0.869232   0.562165   0.173694       0.216502   0.448988   0.979271\n",
       " 0.461431   0.549093   0.229418       0.582475   0.0163641  0.849767\n",
       " 0.060879   0.855542   0.00103109  …  0.0484688  0.764292   0.59036\n",
       " 0.685772   0.538595   0.811479       0.84569    0.62719    0.667748\n",
       " 0.324115   0.272431   0.01902        0.598983   0.761504   0.146503\n",
       " 0.825036   0.56838    0.669176       0.338396   0.248411   0.0807956\n",
       " 0.275755   0.0187378  0.078425       0.196177   0.714776   0.401818\n",
       " 0.786585   0.586629   0.411843    …  0.657124   0.491128   0.173893\n",
       " 0.165303   0.97481    0.0630267      0.412545   0.369      0.970912\n",
       " 0.0151396  0.0511165  0.627057       0.223368   0.81123    0.885999\n",
       " 0.698221   0.802646   0.757408       0.265982   0.075666   0.816946\n",
       " 0.924246   0.543703   0.48794        0.642472   0.0577256  0.0340864"
      ]
     },
     "execution_count": 3,
     "metadata": {},
     "output_type": "execute_result"
    }
   ],
   "source": [
    "matrix1 = rand(100,100)"
   ]
  },
  {
   "cell_type": "code",
   "execution_count": 13,
   "metadata": {},
   "outputs": [
    {
     "data": {
      "text/plain": [
       "15-element Vector{String}:\n",
       " \".ipynb_checkpoints\"\n",
       " \"AliceInWonderland.txt\"\n",
       " \"DrugScreen1.csv\"\n",
       " \"DrugScreen2.csv\"\n",
       " \"Julia_Import_Export.ipynb\"\n",
       " \"Weights.csv\"\n",
       " \"hansi.txt\"\n",
       " \"list3D.csv\"\n",
       " \"matrix1.jls\"\n",
       " \"matrix3.txt\"\n",
       " \"matrix4.txt\"\n",
       " \"numbers.csv\"\n",
       " \"numbers.txt\"\n",
       " \"oh_shit.webp\"\n",
       " \"rockets.txt\""
      ]
     },
     "execution_count": 13,
     "metadata": {},
     "output_type": "execute_result"
    }
   ],
   "source": [
    "serialize(\"matrix1.jls\",matrix1)  \n",
    "readdir()"
   ]
  },
  {
   "cell_type": "markdown",
   "metadata": {},
   "source": [
    "When we want to import our created `jls` file we use `deserialize()`. This function takes only one argument, the path of the file we want to import and return the restored Julia object. "
   ]
  },
  {
   "cell_type": "code",
   "execution_count": 14,
   "metadata": {},
   "outputs": [
    {
     "data": {
      "text/plain": [
       "100×100 Matrix{Float64}:\n",
       " 0.900633   0.093128    0.571175    …  0.152947    0.840242   0.577433\n",
       " 0.764272   0.532241    0.186093       0.400658    0.414848   0.0511643\n",
       " 0.903205   0.984038    0.569608       0.839395    0.866839   0.133912\n",
       " 0.189913   0.861639    0.0159423      0.976015    0.164097   0.837177\n",
       " 0.294181   0.00461329  0.196797       0.72952     0.434135   0.0363073\n",
       " 0.190761   0.351954    0.133716    …  0.0496599   0.178352   0.478961\n",
       " 0.865842   0.735916    0.735234       0.00183841  0.465027   0.897298\n",
       " 0.9797     0.0939917   0.770575       0.681674    0.356322   0.491563\n",
       " 0.315895   0.351212    0.745918       0.359697    0.516435   0.270288\n",
       " 0.830726   0.583821    0.666944       0.637735    0.271986   0.216368\n",
       " 0.750299   0.627663    0.534094    …  0.0417514   0.221355   0.88063\n",
       " 0.70225    0.431783    0.00209221     0.622863    0.608515   0.480824\n",
       " 0.992091   0.670031    0.437754       0.352495    0.1538     0.209916\n",
       " ⋮                                  ⋱                         \n",
       " 0.788123   0.313281    0.310953       0.535614    0.602526   0.122204\n",
       " 0.0175882  0.950635    0.128403       0.00337158  0.12392    0.443218\n",
       " 0.454711   0.433373    0.285686    …  0.260428    0.350708   0.0597989\n",
       " 0.459648   0.327262    0.25397        0.846616    0.717925   0.952592\n",
       " 0.20123    0.69851     0.0174978      0.504946    0.37006    0.489768\n",
       " 0.83548    0.290853    0.284809       0.0617072   0.0394469  0.808504\n",
       " 0.370471   0.224025    0.459533       0.369794    0.564774   0.809835\n",
       " 0.950357   0.781004    0.207322    …  0.478107    0.184912   0.184307\n",
       " 0.760171   0.566703    0.785976       0.76167     0.733496   0.426586\n",
       " 0.971342   0.975366    0.969312       0.546039    0.0620104  0.681858\n",
       " 0.823248   0.477943    0.822512       0.938576    0.879479   0.0682837\n",
       " 0.0197224  0.433048    0.152115       0.995281    0.0601633  0.367135"
      ]
     },
     "execution_count": 14,
     "metadata": {},
     "output_type": "execute_result"
    }
   ],
   "source": [
    "matrix1_restored = deserialize(\"matrix1.jls\")"
   ]
  },
  {
   "cell_type": "markdown",
   "metadata": {},
   "source": [
    "`jls` file can only be read by Julia itself and cannot be opened by programms like text editor or excel. But `Serialization` is by far (~10 -1000 times) the fasted way to import/export data.  Therefore, if you work on your data in Julia exclusively and want to share it with only people that have/know Julia, `Serialization` is the way to go."
   ]
  },
  {
   "cell_type": "markdown",
   "metadata": {},
   "source": [
    "Note: Serialization is mainly used in the internals of Julia to exchange objects between different processes/ Julia sessions, ... . Therefore, it is optimized for maximum performance but not necessarily for backwards compatibility. The devs have promised that it won't break between 1.xx versions of Julia, but if at some point a new x.0 version of Julia comes out, there could be some issues with old stored data. But as even packages, that are focused on long term storage, can have some compatibilty issues: https://discourse.julialang.org/t/jld-jl-vs-jld2-jl/15287, we believe that the `Serialization` package is your best and for sure fastest option right now ;). "
   ]
  },
  {
   "cell_type": "markdown",
   "metadata": {},
   "source": [
    "####  2.2 Human readable data"
   ]
  },
  {
   "cell_type": "markdown",
   "metadata": {},
   "source": [
    "Humanreadable data means that the exported data can be opened with other programms like text editor, excel, etc,... and then be interpreted by humans in a meaningful way.  \n",
    "\n",
    "Therefore we have to cast our data to a `String` and then save the data as a `String` in a readable `.txt` file. There are many different ways to do this (`parse, JSON, JSON3,...`) one worse than the other. We will show you one way that is the least painful way to do that. But saving your data as `Strings` is never fun/fast or desirable in any way and you should avoid it if possible. "
   ]
  },
  {
   "cell_type": "markdown",
   "metadata": {},
   "source": [
    "In oder to make any variable a `String` we can use a function that we already know:  `print()` but this time we have to combine it with another function `open()` which can open/create file. We have to give the `print()` function a first optional argument which defines the target of the print order. In this case the file where we want to print. \n",
    "\n",
    "The `open()` function takes two arguments the first is the path of the file and the second is either `w` for write, `r` for read or `a` for append. "
   ]
  },
  {
   "cell_type": "code",
   "execution_count": 15,
   "metadata": {},
   "outputs": [],
   "source": [
    "print(open(\"matrix3.txt\",\"w\"),matrix1)"
   ]
  },
  {
   "cell_type": "markdown",
   "metadata": {},
   "source": [
    "We can also use another syntax construct that is often used when providing functions as arguments to functions. The `do` construct: \n",
    "\n",
    "``` julia\n",
    "function1(argument1,...) do name\n",
    "    \n",
    "    function2(name,argument2,...)\n",
    "    \n",
    "end\n",
    "    \n",
    "```\n",
    "\n",
    "which is essentially the same as \n",
    "\n",
    "``` julia\n",
    "function2(function1(argument1,...), argument2,...)\n",
    "    \n",
    "  \n",
    "```"
   ]
  },
  {
   "cell_type": "code",
   "execution_count": 16,
   "metadata": {},
   "outputs": [],
   "source": [
    "open(\"matrix4.txt\",\"w\") do file\n",
    "    print(file,matrix1)\n",
    "end"
   ]
  },
  {
   "cell_type": "markdown",
   "metadata": {},
   "source": [
    "We can `print` different datatypes with this method into a file: "
   ]
  },
  {
   "cell_type": "code",
   "execution_count": 17,
   "metadata": {},
   "outputs": [],
   "source": [
    "rockets_dic = Dict(\"SpaceX\" =>\"Starship\", \"NASA\" =>\"SLS\",\"ULA\" => \"AtlasV\")\n",
    "number_vec = collect(1:50)\n",
    "hansi = \"hansi geht in die hütten\" \n",
    "\n",
    "open(\"hansi.txt\",\"w\") do file\n",
    "    print(file,hansi)\n",
    "end\n",
    "\n",
    "open(\"rockets.txt\",\"w\") do file\n",
    "    print(file,rockets_dic)\n",
    "end\n",
    "\n",
    "open(\"numbers.txt\",\"w\") do file\n",
    "    print(file,number_vec)\n",
    "end"
   ]
  },
  {
   "cell_type": "markdown",
   "metadata": {},
   "source": [
    "If we want to retrive the printed data we can either use the `read()` function together with `open()`."
   ]
  },
  {
   "cell_type": "code",
   "execution_count": 18,
   "metadata": {},
   "outputs": [
    {
     "data": {
      "text/plain": [
       "\"hansi geht in die hütten\""
      ]
     },
     "execution_count": 18,
     "metadata": {},
     "output_type": "execute_result"
    }
   ],
   "source": [
    "open(\"hansi.txt\",\"r\") do file\n",
    "    read(file,String)\n",
    "end "
   ]
  },
  {
   "cell_type": "markdown",
   "metadata": {},
   "source": [
    "But the more convinient way to do that is to use the function `readline()` which we can provide a path as an optional argument. "
   ]
  },
  {
   "cell_type": "code",
   "execution_count": 19,
   "metadata": {},
   "outputs": [
    {
     "data": {
      "text/plain": [
       "\"hansi geht in die hütten\""
      ]
     },
     "execution_count": 19,
     "metadata": {},
     "output_type": "execute_result"
    }
   ],
   "source": [
    "hansi_restored = readline(\"hansi.txt\")"
   ]
  },
  {
   "cell_type": "markdown",
   "metadata": {},
   "source": [
    "In the case of `Strings` everything works perfectly fine, but what do we do in when we want to restore data that wasn't originally a string ? "
   ]
  },
  {
   "cell_type": "code",
   "execution_count": 20,
   "metadata": {},
   "outputs": [
    {
     "data": {
      "text/plain": [
       "\"[1, 2, 3, 4, 5, 6, 7, 8, 9, 10, 11, 12, 13, 14, 15, 16, 17, 18, 19, 20, 21, 22, 23, 24, 25, 26, 27, 28, 29, 30, 31, 32, 33, 34, 35, 36, 37, 38, 39, 40, 41, 42, 43, 44, 45, 46, 47, 48, 49, 50]\""
      ]
     },
     "execution_count": 20,
     "metadata": {},
     "output_type": "execute_result"
    }
   ],
   "source": [
    "number_vec_restored_string = readline(\"numbers.txt\")"
   ]
  },
  {
   "cell_type": "markdown",
   "metadata": {},
   "source": [
    "This `Int64[]` array  is now a `String`. How can we transform it back to a array of `Int64`. One way to do that would be to use the know `parse()` function. \n"
   ]
  },
  {
   "cell_type": "code",
   "execution_count": 21,
   "metadata": {},
   "outputs": [
    {
     "data": {
      "text/plain": [
       "1"
      ]
     },
     "execution_count": 21,
     "metadata": {},
     "output_type": "execute_result"
    }
   ],
   "source": [
    "parse(Int64,number_vec_restored_string[2])"
   ]
  },
  {
   "cell_type": "code",
   "execution_count": 22,
   "metadata": {},
   "outputs": [
    {
     "data": {
      "text/plain": [
       "10"
      ]
     },
     "execution_count": 22,
     "metadata": {},
     "output_type": "execute_result"
    }
   ],
   "source": [
    "parse(Int64,number_vec_restored_string[29:30])"
   ]
  },
  {
   "cell_type": "code",
   "execution_count": 23,
   "metadata": {},
   "outputs": [
    {
     "ename": "LoadError",
     "evalue": "ArgumentError: invalid base 10 digit '[' in \"[1, 2, 3, 4, 5, 6, 7, 8, 9, 10, 11, 12, 13, 14, 15, 16, 17, 18, 19, 20, 21, 22, 23, 24, 25, 26, 27, 28, 29, 30, 31, 32, 33, 34, 35, 36, 37, 38, 39, 40, 41, 42, 43, 44, 45, 46, 47, 48, 49, 50]\"",
     "output_type": "error",
     "traceback": [
      "ArgumentError: invalid base 10 digit '[' in \"[1, 2, 3, 4, 5, 6, 7, 8, 9, 10, 11, 12, 13, 14, 15, 16, 17, 18, 19, 20, 21, 22, 23, 24, 25, 26, 27, 28, 29, 30, 31, 32, 33, 34, 35, 36, 37, 38, 39, 40, 41, 42, 43, 44, 45, 46, 47, 48, 49, 50]\"",
      "",
      "Stacktrace:",
      " [1] tryparse_internal(#unused#::Type{Int64}, s::String, startpos::Int64, endpos::Int64, base_::Int64, raise::Bool)",
      "   @ Base .\\parse.jl:137",
      " [2] parse(::Type{Int64}, s::String; base::Nothing)",
      "   @ Base .\\parse.jl:241",
      " [3] parse(::Type{Int64}, s::String)",
      "   @ Base .\\parse.jl:241",
      " [4] top-level scope",
      "   @ In[23]:1",
      " [5] eval",
      "   @ .\\boot.jl:373 [inlined]",
      " [6] include_string(mapexpr::typeof(REPL.softscope), mod::Module, code::String, filename::String)",
      "   @ Base .\\loading.jl:1196"
     ]
    }
   ],
   "source": [
    "parse(Int64,number_vec_restored_string)"
   ]
  },
  {
   "cell_type": "markdown",
   "metadata": {},
   "source": [
    "This only works for parts of the string that resemble one `Int64`. As we can parse `Strings` to other primitive datatypes like `Int64` or `Float64` but not to composite data types like `array` or e.g. `dicts` . In this case, the fun starts and we have to transform the string to sth. that is \"parseable\" ."
   ]
  },
  {
   "cell_type": "markdown",
   "metadata": {},
   "source": [
    "One possible solution is to, first cut of the brakets at the start and end. In the second step the `String` is transformed into a array of `Strings` with the `split()` function. Whereas the `,` is symbol that indicated a \"spliting point\" for the `split()` function. Thirdly, we can broadcast the `parse()` function with the `.` operator to every entries of the vector to create an `Int64` array.    "
   ]
  },
  {
   "cell_type": "code",
   "execution_count": 24,
   "metadata": {},
   "outputs": [
    {
     "name": "stdout",
     "output_type": "stream",
     "text": [
      "[1, 2, 3, 4, 5, 6, 7, 8, 9, 10, 11, 12, 13, 14, 15, 16, 17, 18, 19, 20, 21, 22, 23, 24, 25, 26, 27, 28, 29, 30, 31, 32, 33, 34, 35, 36, 37, 38, 39, 40, 41, 42, 43, 44, 45, 46, 47, 48, 49, 50]\n"
     ]
    }
   ],
   "source": [
    "numb_vec_restored1 = parse.(Int64, split(number_vec_restored_string[2:end-1],\",\"))\n",
    "println(numb_vec_restored1)"
   ]
  },
  {
   "cell_type": "markdown",
   "metadata": {},
   "source": [
    "Overall this procedure is lengthy and annoying and would need to be changed for every different different datatype. For example it wouldn't be possible to parse a `Matrix` in that way.  \n",
    "\n",
    "This arises the obvious question: Isn't there a better way to do this ? In many programming languages you would need external packages like `JSON` (https://docs.juliahub.com/JSON/uf6oy/0.21.0/) for that purpose. These enforce a certain way how data is printed and then read out again. In the `JSON` case, all data is transformed into a `String` representation of a JavaScript Object. This can be handy when you need to use the data in a different language that also has a `JSON` package but produces a lot of overhead. \n",
    "\n",
    "`Julia` offers a more natural alternative which is part of one of the languages core features called `metaprogramming`. Which essentially means that \"Julia represents its own code as a data structure of the language itself\" (https://docs.julialang.org/en/v1/manual/metaprogramming/). Or in more understable terms, when a Julia programm is executed, it can generate additional Julia source code on the fly and instantly execute it. We won't use such an advance feature here, except for one small part: Julia can evaluate every `String` as sourcecode.  \n"
   ]
  },
  {
   "cell_type": "markdown",
   "metadata": {},
   "source": [
    "We are doing this with the `Meta.pase()` function which transform a `String` into a `Julia` expression which then can be evaluated with `eval()`. "
   ]
  },
  {
   "cell_type": "code",
   "execution_count": 25,
   "metadata": {},
   "outputs": [
    {
     "data": {
      "text/plain": [
       "100"
      ]
     },
     "execution_count": 25,
     "metadata": {},
     "output_type": "execute_result"
    }
   ],
   "source": [
    "test_expression = \"z = 100\"\n",
    "eval(Meta.parse(test_expression))\n",
    "z"
   ]
  },
  {
   "cell_type": "markdown",
   "metadata": {},
   "source": [
    "This an obviously very complicated way to create a variable `z` with content `100`, but it also offers a nice alternative to parse a `String` if the string represents correct Julia source code. In this case the String `number_vec_restored_string` is correct source code as it describes an array. Therefore it can be evaluated: "
   ]
  },
  {
   "cell_type": "code",
   "execution_count": 26,
   "metadata": {},
   "outputs": [
    {
     "data": {
      "text/plain": [
       "50-element Vector{Int64}:\n",
       "  1\n",
       "  2\n",
       "  3\n",
       "  4\n",
       "  5\n",
       "  6\n",
       "  7\n",
       "  8\n",
       "  9\n",
       " 10\n",
       " 11\n",
       " 12\n",
       " 13\n",
       "  ⋮\n",
       " 39\n",
       " 40\n",
       " 41\n",
       " 42\n",
       " 43\n",
       " 44\n",
       " 45\n",
       " 46\n",
       " 47\n",
       " 48\n",
       " 49\n",
       " 50"
      ]
     },
     "execution_count": 26,
     "metadata": {},
     "output_type": "execute_result"
    }
   ],
   "source": [
    "number_vec_restored2 = eval(Meta.parse(number_vec_restored_string))\n",
    "number_vec_restored2"
   ]
  },
  {
   "cell_type": "markdown",
   "metadata": {},
   "source": [
    "With this syntax we can import everything we have printed to a file with `print`. "
   ]
  },
  {
   "cell_type": "code",
   "execution_count": 27,
   "metadata": {},
   "outputs": [
    {
     "data": {
      "text/plain": [
       "\"Dict(\\\"ULA\\\" => \\\"AtlasV\\\", \\\"SpaceX\\\" => \\\"Starship\\\", \\\"NASA\\\" => \\\"SLS\\\")\""
      ]
     },
     "execution_count": 27,
     "metadata": {},
     "output_type": "execute_result"
    }
   ],
   "source": [
    "rocket_string = readline(\"rockets.txt\")"
   ]
  },
  {
   "cell_type": "code",
   "execution_count": 28,
   "metadata": {},
   "outputs": [
    {
     "data": {
      "text/plain": [
       "Dict{String, String} with 3 entries:\n",
       "  \"ULA\"    => \"AtlasV\"\n",
       "  \"SpaceX\" => \"Starship\"\n",
       "  \"NASA\"   => \"SLS\""
      ]
     },
     "execution_count": 28,
     "metadata": {},
     "output_type": "execute_result"
    }
   ],
   "source": [
    "eval(Meta.parse(rocket_string))"
   ]
  },
  {
   "cell_type": "code",
   "execution_count": 29,
   "metadata": {},
   "outputs": [
    {
     "data": {
      "text/plain": [
       "\"[0.9006325066936863 0.09312798330662986 0.5711750574452116 0.2864576757505284 0.5401970395561331 0.4096512247101668 0.6049560775929722 0.5958994215986445 0.3268608325711848 0.04966483683493639 0.9371181996630913 0.65492905964872 0.5320410102527239 0.9320800167452906 0.\" ⋯ 192249 bytes ⋯ \" 0.06421794234780653 0.2984140205451261 0.7358318599148262 0.8407748019081589 0.223994740369323 0.38452995700111836 0.9696881255534622 0.6376060571380353 0.2636341457085647 0.1748335189661363 0.9158318275402026 0.9952811777896594 0.06016325277824919 0.3671349861584191]\""
      ]
     },
     "execution_count": 29,
     "metadata": {},
     "output_type": "execute_result"
    }
   ],
   "source": [
    "matrix_string = readline(\"matrix4.txt\")"
   ]
  },
  {
   "cell_type": "code",
   "execution_count": 30,
   "metadata": {},
   "outputs": [
    {
     "data": {
      "text/plain": [
       "100×100 Matrix{Float64}:\n",
       " 0.900633   0.093128    0.571175    …  0.152947    0.840242   0.577433\n",
       " 0.764272   0.532241    0.186093       0.400658    0.414848   0.0511643\n",
       " 0.903205   0.984038    0.569608       0.839395    0.866839   0.133912\n",
       " 0.189913   0.861639    0.0159423      0.976015    0.164097   0.837177\n",
       " 0.294181   0.00461329  0.196797       0.72952     0.434135   0.0363073\n",
       " 0.190761   0.351954    0.133716    …  0.0496599   0.178352   0.478961\n",
       " 0.865842   0.735916    0.735234       0.00183841  0.465027   0.897298\n",
       " 0.9797     0.0939917   0.770575       0.681674    0.356322   0.491563\n",
       " 0.315895   0.351212    0.745918       0.359697    0.516435   0.270288\n",
       " 0.830726   0.583821    0.666944       0.637735    0.271986   0.216368\n",
       " 0.750299   0.627663    0.534094    …  0.0417514   0.221355   0.88063\n",
       " 0.70225    0.431783    0.00209221     0.622863    0.608515   0.480824\n",
       " 0.992091   0.670031    0.437754       0.352495    0.1538     0.209916\n",
       " ⋮                                  ⋱                         \n",
       " 0.788123   0.313281    0.310953       0.535614    0.602526   0.122204\n",
       " 0.0175882  0.950635    0.128403       0.00337158  0.12392    0.443218\n",
       " 0.454711   0.433373    0.285686    …  0.260428    0.350708   0.0597989\n",
       " 0.459648   0.327262    0.25397        0.846616    0.717925   0.952592\n",
       " 0.20123    0.69851     0.0174978      0.504946    0.37006    0.489768\n",
       " 0.83548    0.290853    0.284809       0.0617072   0.0394469  0.808504\n",
       " 0.370471   0.224025    0.459533       0.369794    0.564774   0.809835\n",
       " 0.950357   0.781004    0.207322    …  0.478107    0.184912   0.184307\n",
       " 0.760171   0.566703    0.785976       0.76167     0.733496   0.426586\n",
       " 0.971342   0.975366    0.969312       0.546039    0.0620104  0.681858\n",
       " 0.823248   0.477943    0.822512       0.938576    0.879479   0.0682837\n",
       " 0.0197224  0.433048    0.152115       0.995281    0.0601633  0.367135"
      ]
     },
     "execution_count": 30,
     "metadata": {},
     "output_type": "execute_result"
    }
   ],
   "source": [
    "eval(Meta.parse(matrix_string))"
   ]
  },
  {
   "cell_type": "markdown",
   "metadata": {},
   "source": [
    "##### Final Note: Even though we have shown you various ways to write/read data from .txt files in Julia, you should never do any of that unless you are forced to by powers out of your control.  "
   ]
  },
  {
   "cell_type": "markdown",
   "metadata": {},
   "source": [
    "####  2.3 Human readable data and usable -> DataFrames.jl and CSV.jl"
   ]
  },
  {
   "cell_type": "markdown",
   "metadata": {},
   "source": [
    "But what is the right way to save data in an humanredable and usable way without needing to do all the tedious stuff in the previous chapter ?  \n",
    "The solution are the packages `DataFrames` and `CSV` . "
   ]
  },
  {
   "cell_type": "code",
   "execution_count": 31,
   "metadata": {},
   "outputs": [],
   "source": [
    "using DataFrames, CSV"
   ]
  },
  {
   "cell_type": "markdown",
   "metadata": {},
   "source": [
    "In scientific circles data is usally shared in the `.csv` (comma separated values) format. Therefore, if you want to share your data you should always provide it as `.csv` files. The `CSV` package provides an simple interface to import and export csv formated data into Julia. This comes with the limitation/benefit that you are forced to format your data as a `DataFrame` object provided by the `DataFrames` package. "
   ]
  },
  {
   "cell_type": "markdown",
   "metadata": {},
   "source": [
    "If we want to save a vector would need to convert it to a `Dataframe` with one colum. "
   ]
  },
  {
   "cell_type": "code",
   "execution_count": 32,
   "metadata": {},
   "outputs": [
    {
     "data": {
      "text/html": [
       "<div class=\"data-frame\"><p>12 rows × 1 columns</p><table class=\"data-frame\"><thead><tr><th></th><th>number</th></tr><tr><th></th><th title=\"Int64\">Int64</th></tr></thead><tbody><tr><th>1</th><td>10</td></tr><tr><th>2</th><td>20</td></tr><tr><th>3</th><td>30</td></tr><tr><th>4</th><td>40</td></tr><tr><th>5</th><td>50</td></tr><tr><th>6</th><td>60</td></tr><tr><th>7</th><td>70</td></tr><tr><th>8</th><td>80</td></tr><tr><th>9</th><td>90</td></tr><tr><th>10</th><td>100</td></tr><tr><th>11</th><td>110</td></tr><tr><th>12</th><td>120</td></tr></tbody></table></div>"
      ],
      "text/latex": [
       "\\begin{tabular}{r|c}\n",
       "\t& number\\\\\n",
       "\t\\hline\n",
       "\t& Int64\\\\\n",
       "\t\\hline\n",
       "\t1 & 10 \\\\\n",
       "\t2 & 20 \\\\\n",
       "\t3 & 30 \\\\\n",
       "\t4 & 40 \\\\\n",
       "\t5 & 50 \\\\\n",
       "\t6 & 60 \\\\\n",
       "\t7 & 70 \\\\\n",
       "\t8 & 80 \\\\\n",
       "\t9 & 90 \\\\\n",
       "\t10 & 100 \\\\\n",
       "\t11 & 110 \\\\\n",
       "\t12 & 120 \\\\\n",
       "\\end{tabular}\n"
      ],
      "text/plain": [
       "\u001b[1m12×1 DataFrame\u001b[0m\n",
       "\u001b[1m Row \u001b[0m│\u001b[1m number \u001b[0m\n",
       "\u001b[1m     \u001b[0m│\u001b[90m Int64  \u001b[0m\n",
       "─────┼────────\n",
       "   1 │     10\n",
       "   2 │     20\n",
       "   3 │     30\n",
       "   4 │     40\n",
       "   5 │     50\n",
       "   6 │     60\n",
       "   7 │     70\n",
       "   8 │     80\n",
       "   9 │     90\n",
       "  10 │    100\n",
       "  11 │    110\n",
       "  12 │    120"
      ]
     },
     "execution_count": 32,
     "metadata": {},
     "output_type": "execute_result"
    }
   ],
   "source": [
    "number_vec = collect(10:10:120)\n",
    "Number_df = DataFrame(number = number_vec)"
   ]
  },
  {
   "cell_type": "markdown",
   "metadata": {},
   "source": [
    "Then we can use the `CSV.write()` function to save our dataframe on the given path. "
   ]
  },
  {
   "cell_type": "code",
   "execution_count": 33,
   "metadata": {},
   "outputs": [
    {
     "data": {
      "text/plain": [
       "\"numbers.csv\""
      ]
     },
     "execution_count": 33,
     "metadata": {},
     "output_type": "execute_result"
    }
   ],
   "source": [
    "CSV.write(\"numbers.csv\",Number_df)"
   ]
  },
  {
   "cell_type": "markdown",
   "metadata": {},
   "source": [
    "The function `CSV.File(path)` return a table object that can be transformed into a Dataframe by the  `DataFrame()` function."
   ]
  },
  {
   "cell_type": "code",
   "execution_count": 34,
   "metadata": {},
   "outputs": [
    {
     "data": {
      "text/plain": [
       "12-element CSV.File:\n",
       " CSV.Row: (number = 10,)\n",
       " CSV.Row: (number = 20,)\n",
       " CSV.Row: (number = 30,)\n",
       " CSV.Row: (number = 40,)\n",
       " CSV.Row: (number = 50,)\n",
       " CSV.Row: (number = 60,)\n",
       " CSV.Row: (number = 70,)\n",
       " CSV.Row: (number = 80,)\n",
       " CSV.Row: (number = 90,)\n",
       " CSV.Row: (number = 100,)\n",
       " CSV.Row: (number = 110,)\n",
       " CSV.Row: (number = 120,)"
      ]
     },
     "execution_count": 34,
     "metadata": {},
     "output_type": "execute_result"
    }
   ],
   "source": [
    "numbers_table = CSV.File(\"numbers.csv\")"
   ]
  },
  {
   "cell_type": "code",
   "execution_count": 35,
   "metadata": {},
   "outputs": [
    {
     "data": {
      "text/html": [
       "<div class=\"data-frame\"><p>12 rows × 1 columns</p><table class=\"data-frame\"><thead><tr><th></th><th>number</th></tr><tr><th></th><th title=\"Int64\">Int64</th></tr></thead><tbody><tr><th>1</th><td>10</td></tr><tr><th>2</th><td>20</td></tr><tr><th>3</th><td>30</td></tr><tr><th>4</th><td>40</td></tr><tr><th>5</th><td>50</td></tr><tr><th>6</th><td>60</td></tr><tr><th>7</th><td>70</td></tr><tr><th>8</th><td>80</td></tr><tr><th>9</th><td>90</td></tr><tr><th>10</th><td>100</td></tr><tr><th>11</th><td>110</td></tr><tr><th>12</th><td>120</td></tr></tbody></table></div>"
      ],
      "text/latex": [
       "\\begin{tabular}{r|c}\n",
       "\t& number\\\\\n",
       "\t\\hline\n",
       "\t& Int64\\\\\n",
       "\t\\hline\n",
       "\t1 & 10 \\\\\n",
       "\t2 & 20 \\\\\n",
       "\t3 & 30 \\\\\n",
       "\t4 & 40 \\\\\n",
       "\t5 & 50 \\\\\n",
       "\t6 & 60 \\\\\n",
       "\t7 & 70 \\\\\n",
       "\t8 & 80 \\\\\n",
       "\t9 & 90 \\\\\n",
       "\t10 & 100 \\\\\n",
       "\t11 & 110 \\\\\n",
       "\t12 & 120 \\\\\n",
       "\\end{tabular}\n"
      ],
      "text/plain": [
       "\u001b[1m12×1 DataFrame\u001b[0m\n",
       "\u001b[1m Row \u001b[0m│\u001b[1m number \u001b[0m\n",
       "\u001b[1m     \u001b[0m│\u001b[90m Int64  \u001b[0m\n",
       "─────┼────────\n",
       "   1 │     10\n",
       "   2 │     20\n",
       "   3 │     30\n",
       "   4 │     40\n",
       "   5 │     50\n",
       "   6 │     60\n",
       "   7 │     70\n",
       "   8 │     80\n",
       "   9 │     90\n",
       "  10 │    100\n",
       "  11 │    110\n",
       "  12 │    120"
      ]
     },
     "execution_count": 35,
     "metadata": {},
     "output_type": "execute_result"
    }
   ],
   "source": [
    "numers_df = DataFrame(numbers_table)"
   ]
  },
  {
   "cell_type": "markdown",
   "metadata": {},
   "source": [
    "You can also use this two functions nested and give them additonal keyword arguments like wich row should be read as the `header` of the table."
   ]
  },
  {
   "cell_type": "code",
   "execution_count": 36,
   "metadata": {},
   "outputs": [
    {
     "data": {
      "text/html": [
       "<div class=\"data-frame\"><p>58 rows × 15 columns (omitted printing of 10 columns)</p><table class=\"data-frame\"><thead><tr><th></th><th>ObjectID</th><th>Label</th><th>Centroid</th><th>MeanIntensity</th><th>StandardDeviationIntensity</th></tr><tr><th></th><th title=\"Int64\">Int64</th><th title=\"Int64\">Int64</th><th title=\"String\">String</th><th title=\"Float64\">Float64</th><th title=\"Float64\">Float64</th></tr></thead><tbody><tr><th>1</th><td>5</td><td>5</td><td>{448.72869022869025. 497.8035343035343}</td><td>0.0156262</td><td>0.000931721</td></tr><tr><th>2</th><td>6</td><td>6</td><td>{583.3871165644172. 490.18957055214725}</td><td>0.0118093</td><td>0.000430682</td></tr><tr><th>3</th><td>7</td><td>7</td><td>{186.3943661971831. 478.2588028169014}</td><td>0.0140465</td><td>0.000527996</td></tr><tr><th>4</th><td>8</td><td>8</td><td>{267.6122047244094. 475.48228346456693}</td><td>0.0144502</td><td>0.00083672</td></tr><tr><th>5</th><td>9</td><td>9</td><td>{535.6371841155235. 472.5667870036101}</td><td>0.0119992</td><td>0.000430933</td></tr><tr><th>6</th><td>11</td><td>11</td><td>{83.59574468085107. 460.04255319148933}</td><td>0.0137119</td><td>0.000525546</td></tr><tr><th>7</th><td>12</td><td>12</td><td>{625.704938271605. 449.7320987654321}</td><td>0.0127423</td><td>0.000449244</td></tr><tr><th>8</th><td>13</td><td>13</td><td>{391.2029411764706. 437.6617647058823}</td><td>0.013694</td><td>0.000698744</td></tr><tr><th>9</th><td>14</td><td>14</td><td>{312.9381338742393. 434.6926977687627}</td><td>0.0135983</td><td>0.000792033</td></tr><tr><th>10</th><td>15</td><td>15</td><td>{551.75. 414.6264367816092}</td><td>0.0137262</td><td>0.000480942</td></tr><tr><th>11</th><td>16</td><td>16</td><td>{182.86402569593147. 410.1509635974304}</td><td>0.0146057</td><td>0.000549528</td></tr><tr><th>12</th><td>17</td><td>17</td><td>{426.71067415730334. 400.70786516853934}</td><td>0.0147574</td><td>0.000744104</td></tr><tr><th>13</th><td>18</td><td>18</td><td>{674.656862745098. 397.0098039215686}</td><td>0.0131775</td><td>0.000358297</td></tr><tr><th>14</th><td>19</td><td>19</td><td>{320.51162790697674. 381.9922480620155}</td><td>0.0180094</td><td>0.00137402</td></tr><tr><th>15</th><td>20</td><td>20</td><td>{517.9803370786517. 376.5716292134831}</td><td>0.0125666</td><td>0.000378411</td></tr><tr><th>16</th><td>22</td><td>22</td><td>{450.6508875739645. 370.26331360946745}</td><td>0.0125189</td><td>0.000530268</td></tr><tr><th>17</th><td>23</td><td>23</td><td>{138.77799736495388. 370.8254281949934}</td><td>0.0182409</td><td>0.000949424</td></tr><tr><th>18</th><td>24</td><td>24</td><td>{243.50695652173914. 366.0304347826087}</td><td>0.0156679</td><td>0.000668653</td></tr><tr><th>19</th><td>25</td><td>25</td><td>{379.33430799220275. 364.0477582846004}</td><td>0.0125758</td><td>0.000435801</td></tr><tr><th>20</th><td>26</td><td>26</td><td>{633.9547038327526. 347.6411149825784}</td><td>0.0186974</td><td>0.0010006</td></tr><tr><th>21</th><td>28</td><td>28</td><td>{478.704628501827. 334.19305724725945}</td><td>0.0119986</td><td>0.000368206</td></tr><tr><th>22</th><td>29</td><td>29</td><td>{197.56311637080867. 327.7011834319527}</td><td>0.0135031</td><td>0.00042158</td></tr><tr><th>23</th><td>30</td><td>30</td><td>{536.1111111111111. 323.70833333333337}</td><td>0.0140326</td><td>0.000587693</td></tr><tr><th>24</th><td>31</td><td>31</td><td>{311.98387096774195. 319.0268817204301}</td><td>0.0166439</td><td>0.00169053</td></tr><tr><th>25</th><td>32</td><td>32</td><td>{655.773137697517. 302.8702031602709}</td><td>0.0135659</td><td>0.000660132</td></tr><tr><th>26</th><td>34</td><td>34</td><td>{69.88276181649675. 282.73354958294715}</td><td>0.0130058</td><td>0.000575099</td></tr><tr><th>27</th><td>35</td><td>35</td><td>{164.3576923076923. 288.1096153846154}</td><td>0.0173742</td><td>0.00112814</td></tr><tr><th>28</th><td>36</td><td>36</td><td>{558.1938405797101. 275.40579710144925}</td><td>0.0135796</td><td>0.00069164</td></tr><tr><th>29</th><td>37</td><td>37</td><td>{374.2142857142857. 265.4769585253456}</td><td>0.0126431</td><td>0.000423016</td></tr><tr><th>30</th><td>38</td><td>38</td><td>{227.44586894586894. 251.64814814814815}</td><td>0.0124358</td><td>0.000660208</td></tr><tr><th>&vellip;</th><td>&vellip;</td><td>&vellip;</td><td>&vellip;</td><td>&vellip;</td><td>&vellip;</td></tr></tbody></table></div>"
      ],
      "text/latex": [
       "\\begin{tabular}{r|cccccc}\n",
       "\t& ObjectID & Label & Centroid & MeanIntensity & StandardDeviationIntensity & \\\\\n",
       "\t\\hline\n",
       "\t& Int64 & Int64 & String & Float64 & Float64 & \\\\\n",
       "\t\\hline\n",
       "\t1 & 5 & 5 & \\{448.72869022869025. 497.8035343035343\\} & 0.0156262 & 0.000931721 & $\\dots$ \\\\\n",
       "\t2 & 6 & 6 & \\{583.3871165644172. 490.18957055214725\\} & 0.0118093 & 0.000430682 & $\\dots$ \\\\\n",
       "\t3 & 7 & 7 & \\{186.3943661971831. 478.2588028169014\\} & 0.0140465 & 0.000527996 & $\\dots$ \\\\\n",
       "\t4 & 8 & 8 & \\{267.6122047244094. 475.48228346456693\\} & 0.0144502 & 0.00083672 & $\\dots$ \\\\\n",
       "\t5 & 9 & 9 & \\{535.6371841155235. 472.5667870036101\\} & 0.0119992 & 0.000430933 & $\\dots$ \\\\\n",
       "\t6 & 11 & 11 & \\{83.59574468085107. 460.04255319148933\\} & 0.0137119 & 0.000525546 & $\\dots$ \\\\\n",
       "\t7 & 12 & 12 & \\{625.704938271605. 449.7320987654321\\} & 0.0127423 & 0.000449244 & $\\dots$ \\\\\n",
       "\t8 & 13 & 13 & \\{391.2029411764706. 437.6617647058823\\} & 0.013694 & 0.000698744 & $\\dots$ \\\\\n",
       "\t9 & 14 & 14 & \\{312.9381338742393. 434.6926977687627\\} & 0.0135983 & 0.000792033 & $\\dots$ \\\\\n",
       "\t10 & 15 & 15 & \\{551.75. 414.6264367816092\\} & 0.0137262 & 0.000480942 & $\\dots$ \\\\\n",
       "\t11 & 16 & 16 & \\{182.86402569593147. 410.1509635974304\\} & 0.0146057 & 0.000549528 & $\\dots$ \\\\\n",
       "\t12 & 17 & 17 & \\{426.71067415730334. 400.70786516853934\\} & 0.0147574 & 0.000744104 & $\\dots$ \\\\\n",
       "\t13 & 18 & 18 & \\{674.656862745098. 397.0098039215686\\} & 0.0131775 & 0.000358297 & $\\dots$ \\\\\n",
       "\t14 & 19 & 19 & \\{320.51162790697674. 381.9922480620155\\} & 0.0180094 & 0.00137402 & $\\dots$ \\\\\n",
       "\t15 & 20 & 20 & \\{517.9803370786517. 376.5716292134831\\} & 0.0125666 & 0.000378411 & $\\dots$ \\\\\n",
       "\t16 & 22 & 22 & \\{450.6508875739645. 370.26331360946745\\} & 0.0125189 & 0.000530268 & $\\dots$ \\\\\n",
       "\t17 & 23 & 23 & \\{138.77799736495388. 370.8254281949934\\} & 0.0182409 & 0.000949424 & $\\dots$ \\\\\n",
       "\t18 & 24 & 24 & \\{243.50695652173914. 366.0304347826087\\} & 0.0156679 & 0.000668653 & $\\dots$ \\\\\n",
       "\t19 & 25 & 25 & \\{379.33430799220275. 364.0477582846004\\} & 0.0125758 & 0.000435801 & $\\dots$ \\\\\n",
       "\t20 & 26 & 26 & \\{633.9547038327526. 347.6411149825784\\} & 0.0186974 & 0.0010006 & $\\dots$ \\\\\n",
       "\t21 & 28 & 28 & \\{478.704628501827. 334.19305724725945\\} & 0.0119986 & 0.000368206 & $\\dots$ \\\\\n",
       "\t22 & 29 & 29 & \\{197.56311637080867. 327.7011834319527\\} & 0.0135031 & 0.00042158 & $\\dots$ \\\\\n",
       "\t23 & 30 & 30 & \\{536.1111111111111. 323.70833333333337\\} & 0.0140326 & 0.000587693 & $\\dots$ \\\\\n",
       "\t24 & 31 & 31 & \\{311.98387096774195. 319.0268817204301\\} & 0.0166439 & 0.00169053 & $\\dots$ \\\\\n",
       "\t25 & 32 & 32 & \\{655.773137697517. 302.8702031602709\\} & 0.0135659 & 0.000660132 & $\\dots$ \\\\\n",
       "\t26 & 34 & 34 & \\{69.88276181649675. 282.73354958294715\\} & 0.0130058 & 0.000575099 & $\\dots$ \\\\\n",
       "\t27 & 35 & 35 & \\{164.3576923076923. 288.1096153846154\\} & 0.0173742 & 0.00112814 & $\\dots$ \\\\\n",
       "\t28 & 36 & 36 & \\{558.1938405797101. 275.40579710144925\\} & 0.0135796 & 0.00069164 & $\\dots$ \\\\\n",
       "\t29 & 37 & 37 & \\{374.2142857142857. 265.4769585253456\\} & 0.0126431 & 0.000423016 & $\\dots$ \\\\\n",
       "\t30 & 38 & 38 & \\{227.44586894586894. 251.64814814814815\\} & 0.0124358 & 0.000660208 & $\\dots$ \\\\\n",
       "\t$\\dots$ & $\\dots$ & $\\dots$ & $\\dots$ & $\\dots$ & $\\dots$ &  \\\\\n",
       "\\end{tabular}\n"
      ],
      "text/plain": [
       "\u001b[1m58×15 DataFrame\u001b[0m\n",
       "\u001b[1m Row \u001b[0m│\u001b[1m ObjectID \u001b[0m\u001b[1m Label \u001b[0m\u001b[1m Centroid                          \u001b[0m\u001b[1m MeanIntensity \u001b[0m\u001b[1m Stan\u001b[0m ⋯\n",
       "\u001b[1m     \u001b[0m│\u001b[90m Int64    \u001b[0m\u001b[90m Int64 \u001b[0m\u001b[90m String                            \u001b[0m\u001b[90m Float64       \u001b[0m\u001b[90m Floa\u001b[0m ⋯\n",
       "─────┼──────────────────────────────────────────────────────────────────────────\n",
       "   1 │        5      5  {448.72869022869025. 497.8035343…      0.0156262       ⋯\n",
       "   2 │        6      6  {583.3871165644172. 490.18957055…      0.0118093\n",
       "   3 │        7      7  {186.3943661971831. 478.25880281…      0.0140465\n",
       "   4 │        8      8  {267.6122047244094. 475.48228346…      0.0144502\n",
       "   5 │        9      9  {535.6371841155235. 472.56678700…      0.0119992       ⋯\n",
       "   6 │       11     11  {83.59574468085107. 460.04255319…      0.0137119\n",
       "   7 │       12     12  {625.704938271605. 449.732098765…      0.0127423\n",
       "   8 │       13     13  {391.2029411764706. 437.66176470…      0.013694\n",
       "   9 │       14     14  {312.9381338742393. 434.69269776…      0.0135983       ⋯\n",
       "  10 │       15     15  {551.75. 414.6264367816092}            0.0137262\n",
       "  11 │       16     16  {182.86402569593147. 410.1509635…      0.0146057\n",
       "  ⋮  │    ⋮        ⋮                    ⋮                        ⋮             ⋱\n",
       "  49 │       59     59  {540.9107142857143. 81.023809523…      0.0126988\n",
       "  50 │       60     60  {68.77067669172932. 72.853383458…      0.0126657       ⋯\n",
       "  51 │       61     61  {131.25937904269082. 71.43272962…      0.014208\n",
       "  52 │       62     62  {383.0037037037037. 61.023456790…      0.0149761\n",
       "  53 │       63     63  {206.94444444444446. 57.42784992…      0.0119122\n",
       "  54 │       64     64  {587.6505524861878. 49.280386740…      0.0130116       ⋯\n",
       "  55 │       65     65  {660.8967611336033. 36.605263157…      0.0140233\n",
       "  56 │       66     66  {448.05263157894734. 27.12719298…      0.0129651\n",
       "  57 │       67     67  {304.6867881548975. 22.910022779…      0.0131118\n",
       "  58 │       68     68  {257.79778672032194. 17.84205231…      0.0136089       ⋯\n",
       "\u001b[36m                                                  11 columns and 37 rows omitted\u001b[0m"
      ]
     },
     "execution_count": 36,
     "metadata": {},
     "output_type": "execute_result"
    }
   ],
   "source": [
    "DataFrame(CSV.File(\"DrugScreen1.csv\",header = 1)) "
   ]
  },
  {
   "cell_type": "markdown",
   "metadata": {},
   "source": [
    "Note: If not all colums are displayed, you can change the number of vertical displayed characters in a jupyter notebook by the command: `ENV[\"COLUMNS\"] = 250`. Default value is 100, can be increased to a number that fit good to your screen. "
   ]
  },
  {
   "cell_type": "code",
   "execution_count": 37,
   "metadata": {},
   "outputs": [
    {
     "data": {
      "text/html": [
       "<div class=\"data-frame\"><p>500 rows × 7 columns (omitted printing of 2 columns)</p><table class=\"data-frame\"><thead><tr><th></th><th>Column1</th><th>0</th><th>1</th><th>2</th><th>3</th></tr><tr><th></th><th title=\"Int64\">Int64</th><th title=\"Int64\">Int64</th><th title=\"Int64\">Int64</th><th title=\"Int64\">Int64</th><th title=\"String\">String</th></tr></thead><tbody><tr><th>1</th><td>0</td><td>1</td><td>500</td><td>1</td><td>[16.70828029922483, 13.868553757227511, 11.318761265247739]</td></tr><tr><th>2</th><td>1</td><td>1</td><td>500</td><td>2</td><td>[17.824286183314427, 20.263867851125152, 9.778457454229168]</td></tr><tr><th>3</th><td>2</td><td>1</td><td>500</td><td>3</td><td>[9.406143976123007, 11.226401417223862, 9.4282192927851]</td></tr><tr><th>4</th><td>3</td><td>1</td><td>500</td><td>4</td><td>[13.569180767089106, 8.782800719314455, 15.317873049490633]</td></tr><tr><th>5</th><td>4</td><td>1</td><td>500</td><td>5</td><td>[6.941439520993351, 20.02045329026919, 6.530043006871796]</td></tr><tr><th>6</th><td>5</td><td>1</td><td>500</td><td>6</td><td>[9.45465988517179, 6.146984703590558, 2.75099327439276]</td></tr><tr><th>7</th><td>6</td><td>1</td><td>500</td><td>7</td><td>[1.9911999167052312, 12.412597037180841, 11.99622717507754]</td></tr><tr><th>8</th><td>7</td><td>1</td><td>500</td><td>8</td><td>[14.853137396184435, 10.618412896966946, 8.950511606720433]</td></tr><tr><th>9</th><td>8</td><td>1</td><td>500</td><td>9</td><td>[17.216869236489284, 1.6986275108414297, 14.895239843424187]</td></tr><tr><th>10</th><td>9</td><td>1</td><td>500</td><td>10</td><td>[14.437914518766966, 25.58320671673563, 13.391193753593376]</td></tr><tr><th>11</th><td>10</td><td>1</td><td>500</td><td>11</td><td>[9.575766843539162, 15.784823230609035, 19.756872931888427]</td></tr><tr><th>12</th><td>11</td><td>1</td><td>500</td><td>12</td><td>[22.95011860473473, 10.95374879917795, 9.571746923305156]</td></tr><tr><th>13</th><td>12</td><td>1</td><td>500</td><td>13</td><td>[19.14708677182407, 10.891754759934841, 1.7481705568364128]</td></tr><tr><th>14</th><td>13</td><td>1</td><td>500</td><td>14</td><td>[1.2417589027430247, 13.71987848395289, 10.65695164108774]</td></tr><tr><th>15</th><td>14</td><td>1</td><td>500</td><td>15</td><td>[11.392154917414889, 21.224216220536146, 12.833218874217026]</td></tr><tr><th>16</th><td>15</td><td>1</td><td>500</td><td>16</td><td>[12.203558158947867, 14.429802143055515, 25.692958970533287]</td></tr><tr><th>17</th><td>16</td><td>1</td><td>500</td><td>17</td><td>[19.84571316353608, 14.757186724718645, 6.212299070134025]</td></tr><tr><th>18</th><td>17</td><td>1</td><td>500</td><td>18</td><td>[16.94741708984721, 9.07270260589555, 22.253649599993665]</td></tr><tr><th>19</th><td>18</td><td>1</td><td>500</td><td>19</td><td>[2.829087765230736, 14.125548998573974, 17.486075937919335]</td></tr><tr><th>20</th><td>19</td><td>1</td><td>500</td><td>20</td><td>[15.249718835119424, 19.891448799859614, 6.908360793407607]</td></tr><tr><th>21</th><td>20</td><td>1</td><td>500</td><td>21</td><td>[7.199180776202523, 11.816459480116201, 2.09039930986656]</td></tr><tr><th>22</th><td>21</td><td>1</td><td>500</td><td>22</td><td>[15.758976387151185, 17.068638277046205, 25.04674616522074]</td></tr><tr><th>23</th><td>22</td><td>1</td><td>500</td><td>23</td><td>[13.62018336646974, 20.613313957996596, 12.442379623519294]</td></tr><tr><th>24</th><td>23</td><td>1</td><td>500</td><td>24</td><td>[18.53482764003178, 16.419762347347405, 21.96642639746772]</td></tr><tr><th>25</th><td>24</td><td>1</td><td>500</td><td>25</td><td>[17.376093892204988, 7.044922406947557, 18.824633541410186]</td></tr><tr><th>26</th><td>25</td><td>1</td><td>500</td><td>26</td><td>[13.778062142077959, 17.474243640357205, 20.12514603673999]</td></tr><tr><th>27</th><td>26</td><td>1</td><td>500</td><td>27</td><td>[5.6219223935647, 19.086943759427985, 9.881547863609741]</td></tr><tr><th>28</th><td>27</td><td>1</td><td>500</td><td>28</td><td>[6.878282644017813, 16.856235504017068, 2.8097917739156792]</td></tr><tr><th>29</th><td>28</td><td>1</td><td>500</td><td>29</td><td>[21.961021711660234, 15.874250410738714, 20.815077703605255]</td></tr><tr><th>30</th><td>29</td><td>1</td><td>500</td><td>30</td><td>[20.085619067764537, 18.08132716597848, 7.271390375621]</td></tr><tr><th>&vellip;</th><td>&vellip;</td><td>&vellip;</td><td>&vellip;</td><td>&vellip;</td><td>&vellip;</td></tr></tbody></table></div>"
      ],
      "text/latex": [
       "\\begin{tabular}{r|cccccc}\n",
       "\t& Column1 & 0 & 1 & 2 & 3 & \\\\\n",
       "\t\\hline\n",
       "\t& Int64 & Int64 & Int64 & Int64 & String & \\\\\n",
       "\t\\hline\n",
       "\t1 & 0 & 1 & 500 & 1 & [16.70828029922483, 13.868553757227511, 11.318761265247739] & $\\dots$ \\\\\n",
       "\t2 & 1 & 1 & 500 & 2 & [17.824286183314427, 20.263867851125152, 9.778457454229168] & $\\dots$ \\\\\n",
       "\t3 & 2 & 1 & 500 & 3 & [9.406143976123007, 11.226401417223862, 9.4282192927851] & $\\dots$ \\\\\n",
       "\t4 & 3 & 1 & 500 & 4 & [13.569180767089106, 8.782800719314455, 15.317873049490633] & $\\dots$ \\\\\n",
       "\t5 & 4 & 1 & 500 & 5 & [6.941439520993351, 20.02045329026919, 6.530043006871796] & $\\dots$ \\\\\n",
       "\t6 & 5 & 1 & 500 & 6 & [9.45465988517179, 6.146984703590558, 2.75099327439276] & $\\dots$ \\\\\n",
       "\t7 & 6 & 1 & 500 & 7 & [1.9911999167052312, 12.412597037180841, 11.99622717507754] & $\\dots$ \\\\\n",
       "\t8 & 7 & 1 & 500 & 8 & [14.853137396184435, 10.618412896966946, 8.950511606720433] & $\\dots$ \\\\\n",
       "\t9 & 8 & 1 & 500 & 9 & [17.216869236489284, 1.6986275108414297, 14.895239843424187] & $\\dots$ \\\\\n",
       "\t10 & 9 & 1 & 500 & 10 & [14.437914518766966, 25.58320671673563, 13.391193753593376] & $\\dots$ \\\\\n",
       "\t11 & 10 & 1 & 500 & 11 & [9.575766843539162, 15.784823230609035, 19.756872931888427] & $\\dots$ \\\\\n",
       "\t12 & 11 & 1 & 500 & 12 & [22.95011860473473, 10.95374879917795, 9.571746923305156] & $\\dots$ \\\\\n",
       "\t13 & 12 & 1 & 500 & 13 & [19.14708677182407, 10.891754759934841, 1.7481705568364128] & $\\dots$ \\\\\n",
       "\t14 & 13 & 1 & 500 & 14 & [1.2417589027430247, 13.71987848395289, 10.65695164108774] & $\\dots$ \\\\\n",
       "\t15 & 14 & 1 & 500 & 15 & [11.392154917414889, 21.224216220536146, 12.833218874217026] & $\\dots$ \\\\\n",
       "\t16 & 15 & 1 & 500 & 16 & [12.203558158947867, 14.429802143055515, 25.692958970533287] & $\\dots$ \\\\\n",
       "\t17 & 16 & 1 & 500 & 17 & [19.84571316353608, 14.757186724718645, 6.212299070134025] & $\\dots$ \\\\\n",
       "\t18 & 17 & 1 & 500 & 18 & [16.94741708984721, 9.07270260589555, 22.253649599993665] & $\\dots$ \\\\\n",
       "\t19 & 18 & 1 & 500 & 19 & [2.829087765230736, 14.125548998573974, 17.486075937919335] & $\\dots$ \\\\\n",
       "\t20 & 19 & 1 & 500 & 20 & [15.249718835119424, 19.891448799859614, 6.908360793407607] & $\\dots$ \\\\\n",
       "\t21 & 20 & 1 & 500 & 21 & [7.199180776202523, 11.816459480116201, 2.09039930986656] & $\\dots$ \\\\\n",
       "\t22 & 21 & 1 & 500 & 22 & [15.758976387151185, 17.068638277046205, 25.04674616522074] & $\\dots$ \\\\\n",
       "\t23 & 22 & 1 & 500 & 23 & [13.62018336646974, 20.613313957996596, 12.442379623519294] & $\\dots$ \\\\\n",
       "\t24 & 23 & 1 & 500 & 24 & [18.53482764003178, 16.419762347347405, 21.96642639746772] & $\\dots$ \\\\\n",
       "\t25 & 24 & 1 & 500 & 25 & [17.376093892204988, 7.044922406947557, 18.824633541410186] & $\\dots$ \\\\\n",
       "\t26 & 25 & 1 & 500 & 26 & [13.778062142077959, 17.474243640357205, 20.12514603673999] & $\\dots$ \\\\\n",
       "\t27 & 26 & 1 & 500 & 27 & [5.6219223935647, 19.086943759427985, 9.881547863609741] & $\\dots$ \\\\\n",
       "\t28 & 27 & 1 & 500 & 28 & [6.878282644017813, 16.856235504017068, 2.8097917739156792] & $\\dots$ \\\\\n",
       "\t29 & 28 & 1 & 500 & 29 & [21.961021711660234, 15.874250410738714, 20.815077703605255] & $\\dots$ \\\\\n",
       "\t30 & 29 & 1 & 500 & 30 & [20.085619067764537, 18.08132716597848, 7.271390375621] & $\\dots$ \\\\\n",
       "\t$\\dots$ & $\\dots$ & $\\dots$ & $\\dots$ & $\\dots$ & $\\dots$ &  \\\\\n",
       "\\end{tabular}\n"
      ],
      "text/plain": [
       "\u001b[1m500×7 DataFrame\u001b[0m\n",
       "\u001b[1m Row \u001b[0m│\u001b[1m Column1 \u001b[0m\u001b[1m 0     \u001b[0m\u001b[1m 1     \u001b[0m\u001b[1m 2     \u001b[0m\u001b[1m 3                                 \u001b[0m\u001b[1m 4     \u001b[0m\u001b[1m\u001b[0m ⋯\n",
       "\u001b[1m     \u001b[0m│\u001b[90m Int64   \u001b[0m\u001b[90m Int64 \u001b[0m\u001b[90m Int64 \u001b[0m\u001b[90m Int64 \u001b[0m\u001b[90m String                            \u001b[0m\u001b[90m Int64 \u001b[0m\u001b[90m\u001b[0m ⋯\n",
       "─────┼──────────────────────────────────────────────────────────────────────────\n",
       "   1 │       0      1    500      1  [16.70828029922483, 13.868553757…     18  ⋯\n",
       "   2 │       1      1    500      2  [17.824286183314427, 20.26386785…     15\n",
       "   3 │       2      1    500      3  [9.406143976123007, 11.226401417…     17\n",
       "   4 │       3      1    500      4  [13.569180767089106, 8.782800719…     15\n",
       "   5 │       4      1    500      5  [6.941439520993351, 20.020453290…     14  ⋯\n",
       "   6 │       5      1    500      6  [9.45465988517179, 6.14698470359…     13\n",
       "   7 │       6      1    500      7  [1.9911999167052312, 12.41259703…     12\n",
       "   8 │       7      1    500      8  [14.853137396184435, 10.61841289…     13\n",
       "   9 │       8      1    500      9  [17.216869236489284, 1.698627510…      9  ⋯\n",
       "  10 │       9      1    500     10  [14.437914518766966, 25.58320671…     12\n",
       "  11 │      10      1    500     11  [9.575766843539162, 15.784823230…     15\n",
       "  ⋮  │    ⋮       ⋮      ⋮      ⋮                    ⋮                    ⋮    ⋱\n",
       " 491 │     490      1    500    491  [1.3620102203136444, 10.08407914…     13\n",
       " 492 │     491      1    500    492  [20.64644492491547, 8.5652240830…     15  ⋯\n",
       " 493 │     492      1    500    493  [23.179942974268194, 11.90388771…     10\n",
       " 494 │     493      1    500    494  [18.208082244384084, 4.924897934…     15\n",
       " 495 │     494      1    500    495  [2.1613351273846013, 11.96957153…     12\n",
       " 496 │     495      1    500    496  [8.713239547981063, 13.145296540…     13  ⋯\n",
       " 497 │     496      1    500    497  [11.200193540811975, 13.51315026…     13\n",
       " 498 │     497      1    500    498  [17.637214818670873, 6.338296185…     12\n",
       " 499 │     498      1    500    499  [21.274378670302852, 13.44119634…     14\n",
       " 500 │     499      1    500    500  [20.176727000330892, 11.27162974…     12  ⋯\n",
       "\u001b[36m                                                   1 column and 479 rows omitted\u001b[0m"
      ]
     },
     "execution_count": 37,
     "metadata": {},
     "output_type": "execute_result"
    }
   ],
   "source": [
    "list_3d = DataFrame(CSV.File(\"list3D.csv\"))"
   ]
  },
  {
   "cell_type": "markdown",
   "metadata": {},
   "source": [
    "Normally the datatype of column will be automatically determined by the `DataFrame` package, in the case of the list_3d this did not work properly as the datatype is no primitive julia datatype. Therefore, it was interpreted as a `String`. We can use the same Metaprogramming functions `eval(Meta.parse())` to cast the strings on valid Julia datatypes.   "
   ]
  },
  {
   "cell_type": "code",
   "execution_count": 38,
   "metadata": {},
   "outputs": [
    {
     "data": {
      "text/html": [
       "<div class=\"data-frame\"><p>500 rows × 7 columns</p><table class=\"data-frame\"><thead><tr><th></th><th>Column1</th><th>0</th><th>1</th><th>2</th><th>3</th><th>4</th><th>5</th></tr><tr><th></th><th title=\"Int64\">Int64</th><th title=\"Int64\">Int64</th><th title=\"Int64\">Int64</th><th title=\"Int64\">Int64</th><th title=\"Vector{Float64}\">Array…</th><th title=\"Int64\">Int64</th><th title=\"Vector{Tuple{Float64, Float64, Float64}}\">Array…</th></tr></thead><tbody><tr><th>1</th><td>0</td><td>1</td><td>500</td><td>1</td><td>[16.7083, 13.8686, 11.3188]</td><td>18</td><td>[(19.6675, 13.7076, 10.2558), (17.2419, 17.4506, 11.9823), (17.5186, 10.6623, 11.2303), (20.185, 15.2265, 14.0335), (14.4141, 11.8746, 13.3405), (15.505, 17.0959, 14.6003), (14.8531, 10.6184, 8.95051), (15.5611, 14.5203, 15.765), (13.0388, 11.0912, 10.9859), (18.3615, 13.466, 8.40211), (16.3718, 16.7629, 9.68455), (19.045, 13.1494, 15.1013), (17.0443, 11.9511, 13.9292), (20.6583, 13.0755, 13.1613), (14.2003, 14.538, 11.2028), (14.5763, 12.8338, 8.6478), (16.9565, 11.37, 8.71876), (19.2521, 11.2559, 12.4352)]</td></tr><tr><th>2</th><td>1</td><td>1</td><td>500</td><td>2</td><td>[17.8243, 20.2639, 9.77846]</td><td>15</td><td>[(17.2419, 17.4506, 11.9823), (18.7276, 18.7546, 12.9105), (21.2254, 17.1077, 9.46826), (16.2066, 22.2475, 10.5848), (16.3718, 16.7629, 9.68455), (16.126, 18.8105, 9.52112), (15.2497, 19.8914, 6.90836), (20.122, 22.2405, 8.87621), (15.2089, 19.4107, 11.3432), (17.5561, 21.4277, 7.09113), (20.1276, 22.3453, 12.6144), (22.6349, 19.7213, 8.80492), (18.3874, 19.1983, 7.14881), (20.0856, 18.0813, 7.27139), (17.4985, 21.0706, 12.3416)]</td></tr><tr><th>3</th><td>2</td><td>1</td><td>500</td><td>3</td><td>[9.40614, 11.2264, 9.42822]</td><td>17</td><td>[(7.81614, 9.25503, 7.56084), (10.513, 11.3931, 5.09949), (8.15876, 12.5212, 12.1416), (12.6082, 9.9498, 9.2388), (10.0428, 7.4808, 9.61462), (11.1386, 11.9007, 10.7587), (7.98497, 13.7797, 10.1825), (7.69978, 8.33068, 9.52179), (7.71862, 10.1502, 12.7597), (7.89289, 12.6467, 7.24624), (10.1458, 10.2507, 11.6944), (9.17938, 8.99829, 6.02125), (8.69701, 8.38138, 11.2799), (6.65377, 10.2486, 9.06384), (11.6462, 12.8076, 7.86761), (5.95711, 12.0023, 10.3071), (9.89063, 13.5187, 9.29702)]</td></tr><tr><th>4</th><td>3</td><td>1</td><td>500</td><td>4</td><td>[13.5692, 8.7828, 15.3179]</td><td>15</td><td>[(17.0449, 9.97289, 17.9735), (11.3157, 8.19489, 13.5799), (16.5698, 9.98623, 13.2123), (14.6508, 9.83449, 18.7672), (14.4141, 11.8746, 13.3405), (14.0706, 11.3624, 16.3371), (13.4959, 8.43457, 17.9087), (15.9955, 9.28821, 11.2817), (12.2243, 12.381, 15.9503), (13.293, 6.95116, 13.7266), (9.85215, 7.97316, 15.7633), (10.2247, 11.5558, 16.8026), (13.0388, 11.0912, 10.9859), (11.9922, 5.69629, 16.5576), (16.1556, 7.35468, 15.5616)]</td></tr><tr><th>5</th><td>4</td><td>1</td><td>500</td><td>5</td><td>[6.94144, 20.0205, 6.53004]</td><td>14</td><td>[(10.5014, 19.5419, 3.28028), (8.23179, 16.1086, 4.51316), (3.93537, 18.4663, 6.85256), (8.53566, 19.4953, 10.4464), (9.65017, 17.7262, 7.67492), (8.82479, 21.9196, 5.39857), (7.86557, 23.3178, 9.38423), (7.05459, 17.3192, 7.61341), (10.3126, 19.2751, 6.49922), (8.29704, 21.2313, 9.12617), (5.62192, 19.0869, 9.88155), (6.87828, 16.8562, 2.80979), (4.98811, 19.7836, 7.94851), (8.63816, 17.8623, 1.91837)]</td></tr><tr><th>6</th><td>5</td><td>1</td><td>500</td><td>6</td><td>[9.45466, 6.14698, 2.75099]</td><td>13</td><td>[(13.747, 10.0128, 0.991005), (11.9211, 14.5375, 0.352456), (6.24115, 6.41415, 5.08804), (10.7823, 2.04274, 6.65398), (11.5968, 7.86713, 3.98918), (10.0453, 6.23601, 5.04167), (9.75399, 8.6086, 3.22183), (5.83015, 8.81254, 3.78562), (7.19918, 11.8165, 2.0904), (11.267, 4.35868, 3.67304), (8.09001, 4.82782, 5.97559), (13.0302, 6.45331, 3.64867), (5.29258, 11.9669, 2.95101)]</td></tr><tr><th>7</th><td>6</td><td>1</td><td>500</td><td>7</td><td>[1.9912, 12.4126, 11.9962]</td><td>12</td><td>[(5.95711, 12.0023, 10.3071), (4.42255, 10.6519, 12.7057), (1.24176, 13.7199, 10.657), (0.309762, 11.0693, 13.4908), (3.27143, 10.2888, 10.688), (1.94381, 12.0507, 8.75705), (3.3541, 9.87308, 14.6917), (1.11216, 9.93152, 11.9653), (5.22032, 12.7094, 12.6732), (1.02164, 15.277, 14.8458), (2.90362, 13.7699, 13.8908), (3.85668, 14.576, 10.2132)]</td></tr><tr><th>8</th><td>7</td><td>1</td><td>500</td><td>8</td><td>[14.8531, 10.6184, 8.95051]</td><td>13</td><td>[(16.7083, 13.8686, 11.3188), (13.6569, 11.0488, 5.01754), (17.1397, 9.15679, 7.48044), (16.7126, 9.68253, 4.92135), (12.6082, 9.9498, 9.2388), (17.5186, 10.6623, 11.2303), (12.667, 7.78538, 6.63048), (15.9955, 9.28821, 11.2817), (13.171, 11.471, 7.74393), (13.0388, 11.0912, 10.9859), (15.47, 8.05377, 9.29133), (14.5763, 12.8338, 8.6478), (16.9565, 11.37, 8.71876)]</td></tr><tr><th>9</th><td>8</td><td>1</td><td>500</td><td>9</td><td>[17.2169, 1.69863, 14.8952]</td><td>9</td><td>[(16.3109, 4.14948, 13.9808), (20.392, 2.5974, 16.4237), (19.1161, 1.88361, 13.9297), (16.0975, 2.43559, 16.8119), (14.2747, 1.79665, 12.7997), (17.0636, 2.62525, 11.3011), (18.8843, 4.20424, 15.0173), (14.5736, 1.03693, 16.3214), (15.2786, 0.591417, 14.1474)]</td></tr><tr><th>10</th><td>9</td><td>1</td><td>500</td><td>10</td><td>[14.4379, 25.5832, 13.3912]</td><td>12</td><td>[(11.92, 26.2552, 13.1814), (16.4639, 24.1256, 11.882), (19.1727, 24.0894, 15.3955), (16.1401, 25.2411, 17.1287), (11.9209, 23.4976, 13.4243), (16.9474, 24.5137, 7.36101), (19.373, 24.4659, 13.0255), (14.3004, 22.9243, 13.1648), (14.6305, 24.5704, 11.098), (11.1418, 25.4377, 8.41431), (16.926, 23.0282, 13.636), (14.6647, 24.5409, 15.581)]</td></tr><tr><th>11</th><td>10</td><td>1</td><td>500</td><td>11</td><td>[9.57577, 15.7848, 19.7569]</td><td>15</td><td>[(9.06115, 15.6761, 17.7053), (9.13151, 18.7932, 21.3187), (10.6109, 11.7334, 19.16), (8.2408, 12.2552, 19.3502), (5.73546, 14.1136, 20.4595), (11.6646, 14.5713, 22.4071), (7.08671, 18.4971, 19.9686), (8.35234, 15.9638, 21.7576), (8.26368, 11.6311, 22.1348), (11.8626, 17.9014, 21.3419), (12.0159, 16.5992, 18.2354), (9.64897, 13.4766, 17.4655), (11.6869, 13.7098, 18.8518), (9.66274, 17.8356, 18.3637), (7.05678, 15.0146, 17.7551)]</td></tr><tr><th>12</th><td>11</td><td>1</td><td>500</td><td>12</td><td>[22.9501, 10.9537, 9.57175]</td><td>12</td><td>[(25.2614, 11.3017, 11.1292), (22.3588, 7.40933, 10.0293), (23.9342, 9.1318, 11.1353), (21.9704, 14.5386, 8.65753), (20.4402, 11.0365, 9.77629), (20.6464, 8.56522, 7.84388), (23.1799, 11.9039, 7.58649), (24.7021, 14.4064, 9.81426), (21.8912, 10.4803, 12.2321), (22.6486, 9.94628, 6.96595), (23.4113, 12.4894, 11.0135), (21.1416, 12.3519, 7.19922)]</td></tr><tr><th>13</th><td>12</td><td>1</td><td>500</td><td>13</td><td>[19.1471, 10.8918, 1.74817]</td><td>14</td><td>[(18.1527, 12.5244, 6.55099), (13.747, 10.0128, 0.991005), (16.4335, 12.468, 4.19683), (16.7126, 9.68253, 4.92135), (16.7214, 8.44581, 2.33702), (20.7027, 8.80645, 3.63104), (21.5463, 15.2677, 3.19004), (17.8192, 18.2521, 2.25411), (21.6103, 12.3348, 3.55484), (14.927, 12.18, 0.27963), (16.7534, 11.836, 1.28081), (22.3945, 8.90444, 4.80066), (17.8805, 13.3155, 2.43232), (23.1313, 10.8997, 4.9153)]</td></tr><tr><th>14</th><td>13</td><td>1</td><td>500</td><td>14</td><td>[1.24176, 13.7199, 10.657]</td><td>11</td><td>[(1.89568, 13.3845, 6.95636), (0.927113, 15.7278, 9.88179), (1.9912, 12.4126, 11.9962), (0.309762, 11.0693, 13.4908), (1.94381, 12.0507, 8.75705), (1.11216, 9.93152, 11.9653), (2.54054, 14.402, 8.57367), (3.37543, 16.4026, 12.8969), (1.02164, 15.277, 14.8458), (2.90362, 13.7699, 13.8908), (3.85668, 14.576, 10.2132)]</td></tr><tr><th>15</th><td>14</td><td>1</td><td>500</td><td>15</td><td>[11.3922, 21.2242, 12.8332]</td><td>14</td><td>[(13.877, 22.3845, 15.3355), (12.2873, 23.606, 10.0503), (8.53566, 19.4953, 10.4464), (9.72573, 23.0419, 13.4195), (11.7315, 20.4592, 10.5373), (11.9366, 18.8131, 12.0852), (11.9209, 23.4976, 13.4243), (11.7618, 19.2699, 15.4118), (14.3004, 22.9243, 13.1648), (13.6202, 20.6133, 12.4424), (9.62176, 24.2083, 9.77986), (8.29704, 21.2313, 9.12617), (8.71514, 19.7085, 12.8446), (10.7545, 21.7201, 14.9546)]</td></tr><tr><th>16</th><td>15</td><td>1</td><td>500</td><td>16</td><td>[12.2036, 14.4298, 25.693]</td><td>11</td><td>[(17.2443, 12.6802, 25.8786), (11.8422, 10.4015, 25.1402), (10.0588, 11.6062, 24.0275), (11.971, 17.5874, 23.9713), (11.6646, 14.5713, 22.4071), (9.44526, 15.3998, 25.2078), (14.3315, 11.1159, 25.5887), (14.3995, 14.635, 23.756), (8.5857, 13.358, 24.0149), (7.61619, 10.5293, 24.8823), (14.4728, 15.4949, 25.57)]</td></tr><tr><th>17</th><td>16</td><td>1</td><td>500</td><td>17</td><td>[19.8457, 14.7572, 6.2123]</td><td>16</td><td>[(18.1527, 12.5244, 6.55099), (21.9704, 14.5386, 8.65753), (22.1863, 18.6471, 6.34099), (21.2254, 17.1077, 9.46826), (20.3324, 16.5688, 4.23224), (21.5463, 15.2677, 3.19004), (16.2754, 17.7319, 7.70714), (24.0388, 14.8779, 7.6146), (18.3615, 13.466, 8.40211), (18.2742, 17.6129, 5.66199), (21.6103, 12.3348, 3.55484), (21.1416, 12.3519, 7.19922), (23.4551, 16.8106, 7.50812), (17.8805, 13.3155, 2.43232), (20.0856, 18.0813, 7.27139), (17.771, 15.3688, 5.34928)]</td></tr><tr><th>18</th><td>17</td><td>1</td><td>500</td><td>18</td><td>[16.9474, 9.0727, 22.2536]</td><td>11</td><td>[(14.6508, 9.83449, 18.7672), (18.8539, 10.4244, 20.1614), (16.2286, 10.8378, 20.5262), (18.3972, 7.63601, 21.9924), (19.1693, 9.48745, 23.3456), (18.4993, 11.4654, 22.0557), (15.9205, 10.1329, 23.709), (16.4321, 7.45402, 24.4613), (14.7527, 9.70657, 22.0683), (17.3761, 7.04492, 18.8246), (15.9466, 6.82966, 21.941)]</td></tr><tr><th>19</th><td>18</td><td>1</td><td>500</td><td>19</td><td>[2.82909, 14.1255, 17.4861]</td><td>12</td><td>[(6.18688, 10.6763, 15.3724), (2.52651, 13.9893, 19.5445), (7.33763, 13.181, 16.5032), (4.71675, 14.887, 13.3002), (3.39306, 15.9196, 19.5975), (5.73546, 14.1136, 20.4595), (2.16134, 11.9696, 17.2793), (1.94103, 17.3489, 15.3265), (4.68001, 15.8864, 17.5039), (4.43847, 11.7631, 18.5664), (1.02164, 15.277, 14.8458), (2.90362, 13.7699, 13.8908)]</td></tr><tr><th>20</th><td>19</td><td>1</td><td>500</td><td>20</td><td>[15.2497, 19.8914, 6.90836]</td><td>17</td><td>[(15.9547, 21.653, 5.6867), (13.4513, 19.2849, 10.2926), (17.8243, 20.2639, 9.77846), (15.0858, 18.3296, 4.73797), (13.7001, 21.5524, 5.79713), (17.4998, 20.1745, 4.05171), (16.2066, 22.2475, 10.5848), (14.1025, 18.26, 7.95597), (16.2754, 17.7319, 7.70714), (14.1775, 22.557, 10.1076), (13.2434, 18.4192, 5.54687), (16.126, 18.8105, 9.52112), (18.2742, 17.6129, 5.66199), (11.9971, 20.4742, 7.61563), (15.0866, 23.577, 7.48822), (17.5561, 21.4277, 7.09113), (18.3874, 19.1983, 7.14881)]</td></tr><tr><th>21</th><td>20</td><td>1</td><td>500</td><td>21</td><td>[7.19918, 11.8165, 2.0904]</td><td>12</td><td>[(13.747, 10.0128, 0.991005), (11.9211, 14.5375, 0.352456), (9.45466, 6.14698, 2.75099), (5.83015, 8.81254, 3.78562), (9.75399, 8.6086, 3.22183), (6.78812, 13.8022, 4.75014), (7.86169, 10.7481, 4.71676), (8.71324, 13.1453, 2.31929), (5.45626, 14.4345, 3.36488), (6.87828, 16.8562, 2.80979), (8.63816, 17.8623, 1.91837), (5.29258, 11.9669, 2.95101)]</td></tr><tr><th>22</th><td>21</td><td>1</td><td>500</td><td>22</td><td>[15.759, 17.0686, 25.0467]</td><td>13</td><td>[(15.7957, 20.1995, 23.1861), (16.5833, 17.6021, 21.6372), (17.2443, 12.6802, 25.8786), (19.2177, 14.3465, 22.7284), (14.391, 17.5396, 22.5885), (11.971, 17.5874, 23.9713), (10.446, 20.7002, 23.1509), (18.5348, 16.4198, 21.9664), (17.9044, 18.1354, 24.6867), (9.44526, 15.3998, 25.2078), (14.3995, 14.635, 23.756), (16.0779, 12.4195, 23.9256), (14.4728, 15.4949, 25.57)]</td></tr><tr><th>23</th><td>22</td><td>1</td><td>500</td><td>23</td><td>[13.6202, 20.6133, 12.4424]</td><td>14</td><td>[(13.4513, 19.2849, 10.2926), (13.877, 22.3845, 15.3355), (12.2873, 23.606, 10.0503), (16.2066, 22.2475, 10.5848), (11.7315, 20.4592, 10.5373), (14.0666, 18.687, 14.0556), (11.9366, 18.8131, 12.0852), (11.3922, 21.2242, 12.8332), (14.1775, 22.557, 10.1076), (11.7618, 19.2699, 15.4118), (14.3004, 22.9243, 13.1648), (16.926, 23.0282, 13.636), (15.2089, 19.4107, 11.3432), (17.4985, 21.0706, 12.3416)]</td></tr><tr><th>24</th><td>23</td><td>1</td><td>500</td><td>24</td><td>[18.5348, 16.4198, 21.9664]</td><td>16</td><td>[(18.2287, 15.1566, 18.0381), (19.6745, 14.6249, 20.3143), (22.5738, 17.8354, 21.4213), (16.5833, 17.6021, 21.6372), (19.2177, 14.3465, 22.7284), (20.5426, 16.4912, 23.6791), (16.7202, 18.7068, 19.797), (14.4953, 14.5462, 20.1647), (19.4708, 17.3563, 18.4246), (17.8988, 19.2244, 21.4333), (17.9044, 18.1354, 24.6867), (19.3915, 19.0406, 19.554), (16.3725, 15.7225, 18.9044), (15.759, 17.0686, 25.0467), (21.961, 15.8743, 20.8151), (14.3995, 14.635, 23.756)]</td></tr><tr><th>25</th><td>24</td><td>1</td><td>500</td><td>25</td><td>[17.3761, 7.04492, 18.8246]</td><td>19</td><td>[(17.0449, 9.97289, 17.9735), (14.6508, 9.83449, 18.7672), (18.8539, 10.4244, 20.1614), (18.3972, 7.63601, 21.9924), (18.5284, 4.59529, 18.7731), (16.9474, 9.0727, 22.2536), (15.9466, 6.82966, 21.941), (16.1556, 7.35468, 15.5616), (18.7331, 6.3221, 15.9099), (20.18, 9.43368, 19.0111), (17.054, 4.96479, 20.1148), (13.4959, 8.43457, 17.9087), (16.5492, 5.31869, 16.7007), (20.1349, 6.91491, 17.6094), (16.2286, 10.8378, 20.5262), (14.7703, 5.39269, 21.1564), (18.2296, 8.7717, 15.9318), (13.4048, 6.99556, 19.9462), (19.7398, 6.40995, 20.2344)]</td></tr><tr><th>26</th><td>25</td><td>1</td><td>500</td><td>26</td><td>[13.7781, 17.4742, 20.1251]</td><td>15</td><td>[(12.7301, 20.6971, 22.3798), (13.6224, 20.2946, 17.9084), (16.5833, 17.6021, 21.6372), (14.4448, 21.0952, 19.8143), (14.4953, 14.5462, 20.1647), (14.391, 17.5396, 22.5885), (16.7202, 18.7068, 19.797), (11.6646, 14.5713, 22.4071), (15.5057, 16.6552, 17.2731), (12.6425, 17.3386, 16.4041), (11.8626, 17.9014, 21.3419), (16.3725, 15.7225, 18.9044), (12.0159, 16.5992, 18.2354), (11.3614, 20.1877, 18.0193), (13.4338, 14.7977, 18.4313)]</td></tr><tr><th>27</th><td>26</td><td>1</td><td>500</td><td>27</td><td>[5.62192, 19.0869, 9.88155]</td><td>12</td><td>[(6.94144, 20.0205, 6.53004), (8.53566, 19.4953, 10.4464), (3.9591, 17.763, 8.89523), (5.19975, 20.2882, 12.0389), (7.86557, 23.3178, 9.38423), (4.91586, 15.9482, 9.08671), (5.9305, 17.6665, 11.277), (8.76752, 16.6432, 10.6297), (7.05459, 17.3192, 7.61341), (8.29704, 21.2313, 9.12617), (4.98811, 19.7836, 7.94851), (2.26695, 18.8433, 10.8602)]</td></tr><tr><th>28</th><td>27</td><td>1</td><td>500</td><td>28</td><td>[6.87828, 16.8562, 2.80979]</td><td>12</td><td>[(8.23179, 16.1086, 4.51316), (3.93537, 18.4663, 6.85256), (6.94144, 20.0205, 6.53004), (8.71324, 13.1453, 2.31929), (8.82479, 21.9196, 5.39857), (7.19918, 11.8165, 2.0904), (9.34298, 15.0906, 2.70437), (7.05459, 17.3192, 7.61341), (5.21869, 14.7553, 7.25855), (5.45626, 14.4345, 3.36488), (8.63816, 17.8623, 1.91837), (5.29258, 11.9669, 2.95101)]</td></tr><tr><th>29</th><td>28</td><td>1</td><td>500</td><td>29</td><td>[21.961, 15.8743, 20.8151]</td><td>13</td><td>[(25.1099, 15.2439, 18.2473), (21.0493, 15.4881, 17.5773), (21.7225, 12.896, 21.1924), (19.6745, 14.6249, 20.3143), (22.5738, 17.8354, 21.4213), (19.2177, 14.3465, 22.7284), (20.5426, 16.4912, 23.6791), (23.0578, 15.8252, 17.9412), (19.4708, 17.3563, 18.4246), (19.3915, 19.0406, 19.554), (18.5348, 16.4198, 21.9664), (22.0303, 17.6107, 19.0455), (23.9604, 13.7828, 19.1617)]</td></tr><tr><th>30</th><td>29</td><td>1</td><td>500</td><td>30</td><td>[20.0856, 18.0813, 7.27139]</td><td>16</td><td>[(17.8243, 20.2639, 9.77846), (21.6573, 20.7467, 6.66774), (22.1863, 18.6471, 6.34099), (21.9704, 14.5386, 8.65753), (21.2254, 17.1077, 9.46826), (20.3324, 16.5688, 4.23224), (16.2754, 17.7319, 7.70714), (16.3718, 16.7629, 9.68455), (18.3615, 13.466, 8.40211), (20.24, 21.2321, 5.31041), (19.8457, 14.7572, 6.2123), (18.2742, 17.6129, 5.66199), (20.122, 22.2405, 8.87621), (23.4551, 16.8106, 7.50812), (22.6349, 19.7213, 8.80492), (18.3874, 19.1983, 7.14881)]</td></tr><tr><th>&vellip;</th><td>&vellip;</td><td>&vellip;</td><td>&vellip;</td><td>&vellip;</td><td>&vellip;</td><td>&vellip;</td><td>&vellip;</td></tr></tbody></table></div>"
      ],
      "text/latex": [
       "\\begin{tabular}{r|ccccccc}\n",
       "\t& Column1 & 0 & 1 & 2 & 3 & 4 & 5\\\\\n",
       "\t\\hline\n",
       "\t& Int64 & Int64 & Int64 & Int64 & Array… & Int64 & Array…\\\\\n",
       "\t\\hline\n",
       "\t1 & 0 & 1 & 500 & 1 & [16.7083, 13.8686, 11.3188] & 18 & [(19.6675, 13.7076, 10.2558), (17.2419, 17.4506, 11.9823), (17.5186, 10.6623, 11.2303), (20.185, 15.2265, 14.0335), (14.4141, 11.8746, 13.3405), (15.505, 17.0959, 14.6003), (14.8531, 10.6184, 8.95051), (15.5611, 14.5203, 15.765), (13.0388, 11.0912, 10.9859), (18.3615, 13.466, 8.40211), (16.3718, 16.7629, 9.68455), (19.045, 13.1494, 15.1013), (17.0443, 11.9511, 13.9292), (20.6583, 13.0755, 13.1613), (14.2003, 14.538, 11.2028), (14.5763, 12.8338, 8.6478), (16.9565, 11.37, 8.71876), (19.2521, 11.2559, 12.4352)] \\\\\n",
       "\t2 & 1 & 1 & 500 & 2 & [17.8243, 20.2639, 9.77846] & 15 & [(17.2419, 17.4506, 11.9823), (18.7276, 18.7546, 12.9105), (21.2254, 17.1077, 9.46826), (16.2066, 22.2475, 10.5848), (16.3718, 16.7629, 9.68455), (16.126, 18.8105, 9.52112), (15.2497, 19.8914, 6.90836), (20.122, 22.2405, 8.87621), (15.2089, 19.4107, 11.3432), (17.5561, 21.4277, 7.09113), (20.1276, 22.3453, 12.6144), (22.6349, 19.7213, 8.80492), (18.3874, 19.1983, 7.14881), (20.0856, 18.0813, 7.27139), (17.4985, 21.0706, 12.3416)] \\\\\n",
       "\t3 & 2 & 1 & 500 & 3 & [9.40614, 11.2264, 9.42822] & 17 & [(7.81614, 9.25503, 7.56084), (10.513, 11.3931, 5.09949), (8.15876, 12.5212, 12.1416), (12.6082, 9.9498, 9.2388), (10.0428, 7.4808, 9.61462), (11.1386, 11.9007, 10.7587), (7.98497, 13.7797, 10.1825), (7.69978, 8.33068, 9.52179), (7.71862, 10.1502, 12.7597), (7.89289, 12.6467, 7.24624), (10.1458, 10.2507, 11.6944), (9.17938, 8.99829, 6.02125), (8.69701, 8.38138, 11.2799), (6.65377, 10.2486, 9.06384), (11.6462, 12.8076, 7.86761), (5.95711, 12.0023, 10.3071), (9.89063, 13.5187, 9.29702)] \\\\\n",
       "\t4 & 3 & 1 & 500 & 4 & [13.5692, 8.7828, 15.3179] & 15 & [(17.0449, 9.97289, 17.9735), (11.3157, 8.19489, 13.5799), (16.5698, 9.98623, 13.2123), (14.6508, 9.83449, 18.7672), (14.4141, 11.8746, 13.3405), (14.0706, 11.3624, 16.3371), (13.4959, 8.43457, 17.9087), (15.9955, 9.28821, 11.2817), (12.2243, 12.381, 15.9503), (13.293, 6.95116, 13.7266), (9.85215, 7.97316, 15.7633), (10.2247, 11.5558, 16.8026), (13.0388, 11.0912, 10.9859), (11.9922, 5.69629, 16.5576), (16.1556, 7.35468, 15.5616)] \\\\\n",
       "\t5 & 4 & 1 & 500 & 5 & [6.94144, 20.0205, 6.53004] & 14 & [(10.5014, 19.5419, 3.28028), (8.23179, 16.1086, 4.51316), (3.93537, 18.4663, 6.85256), (8.53566, 19.4953, 10.4464), (9.65017, 17.7262, 7.67492), (8.82479, 21.9196, 5.39857), (7.86557, 23.3178, 9.38423), (7.05459, 17.3192, 7.61341), (10.3126, 19.2751, 6.49922), (8.29704, 21.2313, 9.12617), (5.62192, 19.0869, 9.88155), (6.87828, 16.8562, 2.80979), (4.98811, 19.7836, 7.94851), (8.63816, 17.8623, 1.91837)] \\\\\n",
       "\t6 & 5 & 1 & 500 & 6 & [9.45466, 6.14698, 2.75099] & 13 & [(13.747, 10.0128, 0.991005), (11.9211, 14.5375, 0.352456), (6.24115, 6.41415, 5.08804), (10.7823, 2.04274, 6.65398), (11.5968, 7.86713, 3.98918), (10.0453, 6.23601, 5.04167), (9.75399, 8.6086, 3.22183), (5.83015, 8.81254, 3.78562), (7.19918, 11.8165, 2.0904), (11.267, 4.35868, 3.67304), (8.09001, 4.82782, 5.97559), (13.0302, 6.45331, 3.64867), (5.29258, 11.9669, 2.95101)] \\\\\n",
       "\t7 & 6 & 1 & 500 & 7 & [1.9912, 12.4126, 11.9962] & 12 & [(5.95711, 12.0023, 10.3071), (4.42255, 10.6519, 12.7057), (1.24176, 13.7199, 10.657), (0.309762, 11.0693, 13.4908), (3.27143, 10.2888, 10.688), (1.94381, 12.0507, 8.75705), (3.3541, 9.87308, 14.6917), (1.11216, 9.93152, 11.9653), (5.22032, 12.7094, 12.6732), (1.02164, 15.277, 14.8458), (2.90362, 13.7699, 13.8908), (3.85668, 14.576, 10.2132)] \\\\\n",
       "\t8 & 7 & 1 & 500 & 8 & [14.8531, 10.6184, 8.95051] & 13 & [(16.7083, 13.8686, 11.3188), (13.6569, 11.0488, 5.01754), (17.1397, 9.15679, 7.48044), (16.7126, 9.68253, 4.92135), (12.6082, 9.9498, 9.2388), (17.5186, 10.6623, 11.2303), (12.667, 7.78538, 6.63048), (15.9955, 9.28821, 11.2817), (13.171, 11.471, 7.74393), (13.0388, 11.0912, 10.9859), (15.47, 8.05377, 9.29133), (14.5763, 12.8338, 8.6478), (16.9565, 11.37, 8.71876)] \\\\\n",
       "\t9 & 8 & 1 & 500 & 9 & [17.2169, 1.69863, 14.8952] & 9 & [(16.3109, 4.14948, 13.9808), (20.392, 2.5974, 16.4237), (19.1161, 1.88361, 13.9297), (16.0975, 2.43559, 16.8119), (14.2747, 1.79665, 12.7997), (17.0636, 2.62525, 11.3011), (18.8843, 4.20424, 15.0173), (14.5736, 1.03693, 16.3214), (15.2786, 0.591417, 14.1474)] \\\\\n",
       "\t10 & 9 & 1 & 500 & 10 & [14.4379, 25.5832, 13.3912] & 12 & [(11.92, 26.2552, 13.1814), (16.4639, 24.1256, 11.882), (19.1727, 24.0894, 15.3955), (16.1401, 25.2411, 17.1287), (11.9209, 23.4976, 13.4243), (16.9474, 24.5137, 7.36101), (19.373, 24.4659, 13.0255), (14.3004, 22.9243, 13.1648), (14.6305, 24.5704, 11.098), (11.1418, 25.4377, 8.41431), (16.926, 23.0282, 13.636), (14.6647, 24.5409, 15.581)] \\\\\n",
       "\t11 & 10 & 1 & 500 & 11 & [9.57577, 15.7848, 19.7569] & 15 & [(9.06115, 15.6761, 17.7053), (9.13151, 18.7932, 21.3187), (10.6109, 11.7334, 19.16), (8.2408, 12.2552, 19.3502), (5.73546, 14.1136, 20.4595), (11.6646, 14.5713, 22.4071), (7.08671, 18.4971, 19.9686), (8.35234, 15.9638, 21.7576), (8.26368, 11.6311, 22.1348), (11.8626, 17.9014, 21.3419), (12.0159, 16.5992, 18.2354), (9.64897, 13.4766, 17.4655), (11.6869, 13.7098, 18.8518), (9.66274, 17.8356, 18.3637), (7.05678, 15.0146, 17.7551)] \\\\\n",
       "\t12 & 11 & 1 & 500 & 12 & [22.9501, 10.9537, 9.57175] & 12 & [(25.2614, 11.3017, 11.1292), (22.3588, 7.40933, 10.0293), (23.9342, 9.1318, 11.1353), (21.9704, 14.5386, 8.65753), (20.4402, 11.0365, 9.77629), (20.6464, 8.56522, 7.84388), (23.1799, 11.9039, 7.58649), (24.7021, 14.4064, 9.81426), (21.8912, 10.4803, 12.2321), (22.6486, 9.94628, 6.96595), (23.4113, 12.4894, 11.0135), (21.1416, 12.3519, 7.19922)] \\\\\n",
       "\t13 & 12 & 1 & 500 & 13 & [19.1471, 10.8918, 1.74817] & 14 & [(18.1527, 12.5244, 6.55099), (13.747, 10.0128, 0.991005), (16.4335, 12.468, 4.19683), (16.7126, 9.68253, 4.92135), (16.7214, 8.44581, 2.33702), (20.7027, 8.80645, 3.63104), (21.5463, 15.2677, 3.19004), (17.8192, 18.2521, 2.25411), (21.6103, 12.3348, 3.55484), (14.927, 12.18, 0.27963), (16.7534, 11.836, 1.28081), (22.3945, 8.90444, 4.80066), (17.8805, 13.3155, 2.43232), (23.1313, 10.8997, 4.9153)] \\\\\n",
       "\t14 & 13 & 1 & 500 & 14 & [1.24176, 13.7199, 10.657] & 11 & [(1.89568, 13.3845, 6.95636), (0.927113, 15.7278, 9.88179), (1.9912, 12.4126, 11.9962), (0.309762, 11.0693, 13.4908), (1.94381, 12.0507, 8.75705), (1.11216, 9.93152, 11.9653), (2.54054, 14.402, 8.57367), (3.37543, 16.4026, 12.8969), (1.02164, 15.277, 14.8458), (2.90362, 13.7699, 13.8908), (3.85668, 14.576, 10.2132)] \\\\\n",
       "\t15 & 14 & 1 & 500 & 15 & [11.3922, 21.2242, 12.8332] & 14 & [(13.877, 22.3845, 15.3355), (12.2873, 23.606, 10.0503), (8.53566, 19.4953, 10.4464), (9.72573, 23.0419, 13.4195), (11.7315, 20.4592, 10.5373), (11.9366, 18.8131, 12.0852), (11.9209, 23.4976, 13.4243), (11.7618, 19.2699, 15.4118), (14.3004, 22.9243, 13.1648), (13.6202, 20.6133, 12.4424), (9.62176, 24.2083, 9.77986), (8.29704, 21.2313, 9.12617), (8.71514, 19.7085, 12.8446), (10.7545, 21.7201, 14.9546)] \\\\\n",
       "\t16 & 15 & 1 & 500 & 16 & [12.2036, 14.4298, 25.693] & 11 & [(17.2443, 12.6802, 25.8786), (11.8422, 10.4015, 25.1402), (10.0588, 11.6062, 24.0275), (11.971, 17.5874, 23.9713), (11.6646, 14.5713, 22.4071), (9.44526, 15.3998, 25.2078), (14.3315, 11.1159, 25.5887), (14.3995, 14.635, 23.756), (8.5857, 13.358, 24.0149), (7.61619, 10.5293, 24.8823), (14.4728, 15.4949, 25.57)] \\\\\n",
       "\t17 & 16 & 1 & 500 & 17 & [19.8457, 14.7572, 6.2123] & 16 & [(18.1527, 12.5244, 6.55099), (21.9704, 14.5386, 8.65753), (22.1863, 18.6471, 6.34099), (21.2254, 17.1077, 9.46826), (20.3324, 16.5688, 4.23224), (21.5463, 15.2677, 3.19004), (16.2754, 17.7319, 7.70714), (24.0388, 14.8779, 7.6146), (18.3615, 13.466, 8.40211), (18.2742, 17.6129, 5.66199), (21.6103, 12.3348, 3.55484), (21.1416, 12.3519, 7.19922), (23.4551, 16.8106, 7.50812), (17.8805, 13.3155, 2.43232), (20.0856, 18.0813, 7.27139), (17.771, 15.3688, 5.34928)] \\\\\n",
       "\t18 & 17 & 1 & 500 & 18 & [16.9474, 9.0727, 22.2536] & 11 & [(14.6508, 9.83449, 18.7672), (18.8539, 10.4244, 20.1614), (16.2286, 10.8378, 20.5262), (18.3972, 7.63601, 21.9924), (19.1693, 9.48745, 23.3456), (18.4993, 11.4654, 22.0557), (15.9205, 10.1329, 23.709), (16.4321, 7.45402, 24.4613), (14.7527, 9.70657, 22.0683), (17.3761, 7.04492, 18.8246), (15.9466, 6.82966, 21.941)] \\\\\n",
       "\t19 & 18 & 1 & 500 & 19 & [2.82909, 14.1255, 17.4861] & 12 & [(6.18688, 10.6763, 15.3724), (2.52651, 13.9893, 19.5445), (7.33763, 13.181, 16.5032), (4.71675, 14.887, 13.3002), (3.39306, 15.9196, 19.5975), (5.73546, 14.1136, 20.4595), (2.16134, 11.9696, 17.2793), (1.94103, 17.3489, 15.3265), (4.68001, 15.8864, 17.5039), (4.43847, 11.7631, 18.5664), (1.02164, 15.277, 14.8458), (2.90362, 13.7699, 13.8908)] \\\\\n",
       "\t20 & 19 & 1 & 500 & 20 & [15.2497, 19.8914, 6.90836] & 17 & [(15.9547, 21.653, 5.6867), (13.4513, 19.2849, 10.2926), (17.8243, 20.2639, 9.77846), (15.0858, 18.3296, 4.73797), (13.7001, 21.5524, 5.79713), (17.4998, 20.1745, 4.05171), (16.2066, 22.2475, 10.5848), (14.1025, 18.26, 7.95597), (16.2754, 17.7319, 7.70714), (14.1775, 22.557, 10.1076), (13.2434, 18.4192, 5.54687), (16.126, 18.8105, 9.52112), (18.2742, 17.6129, 5.66199), (11.9971, 20.4742, 7.61563), (15.0866, 23.577, 7.48822), (17.5561, 21.4277, 7.09113), (18.3874, 19.1983, 7.14881)] \\\\\n",
       "\t21 & 20 & 1 & 500 & 21 & [7.19918, 11.8165, 2.0904] & 12 & [(13.747, 10.0128, 0.991005), (11.9211, 14.5375, 0.352456), (9.45466, 6.14698, 2.75099), (5.83015, 8.81254, 3.78562), (9.75399, 8.6086, 3.22183), (6.78812, 13.8022, 4.75014), (7.86169, 10.7481, 4.71676), (8.71324, 13.1453, 2.31929), (5.45626, 14.4345, 3.36488), (6.87828, 16.8562, 2.80979), (8.63816, 17.8623, 1.91837), (5.29258, 11.9669, 2.95101)] \\\\\n",
       "\t22 & 21 & 1 & 500 & 22 & [15.759, 17.0686, 25.0467] & 13 & [(15.7957, 20.1995, 23.1861), (16.5833, 17.6021, 21.6372), (17.2443, 12.6802, 25.8786), (19.2177, 14.3465, 22.7284), (14.391, 17.5396, 22.5885), (11.971, 17.5874, 23.9713), (10.446, 20.7002, 23.1509), (18.5348, 16.4198, 21.9664), (17.9044, 18.1354, 24.6867), (9.44526, 15.3998, 25.2078), (14.3995, 14.635, 23.756), (16.0779, 12.4195, 23.9256), (14.4728, 15.4949, 25.57)] \\\\\n",
       "\t23 & 22 & 1 & 500 & 23 & [13.6202, 20.6133, 12.4424] & 14 & [(13.4513, 19.2849, 10.2926), (13.877, 22.3845, 15.3355), (12.2873, 23.606, 10.0503), (16.2066, 22.2475, 10.5848), (11.7315, 20.4592, 10.5373), (14.0666, 18.687, 14.0556), (11.9366, 18.8131, 12.0852), (11.3922, 21.2242, 12.8332), (14.1775, 22.557, 10.1076), (11.7618, 19.2699, 15.4118), (14.3004, 22.9243, 13.1648), (16.926, 23.0282, 13.636), (15.2089, 19.4107, 11.3432), (17.4985, 21.0706, 12.3416)] \\\\\n",
       "\t24 & 23 & 1 & 500 & 24 & [18.5348, 16.4198, 21.9664] & 16 & [(18.2287, 15.1566, 18.0381), (19.6745, 14.6249, 20.3143), (22.5738, 17.8354, 21.4213), (16.5833, 17.6021, 21.6372), (19.2177, 14.3465, 22.7284), (20.5426, 16.4912, 23.6791), (16.7202, 18.7068, 19.797), (14.4953, 14.5462, 20.1647), (19.4708, 17.3563, 18.4246), (17.8988, 19.2244, 21.4333), (17.9044, 18.1354, 24.6867), (19.3915, 19.0406, 19.554), (16.3725, 15.7225, 18.9044), (15.759, 17.0686, 25.0467), (21.961, 15.8743, 20.8151), (14.3995, 14.635, 23.756)] \\\\\n",
       "\t25 & 24 & 1 & 500 & 25 & [17.3761, 7.04492, 18.8246] & 19 & [(17.0449, 9.97289, 17.9735), (14.6508, 9.83449, 18.7672), (18.8539, 10.4244, 20.1614), (18.3972, 7.63601, 21.9924), (18.5284, 4.59529, 18.7731), (16.9474, 9.0727, 22.2536), (15.9466, 6.82966, 21.941), (16.1556, 7.35468, 15.5616), (18.7331, 6.3221, 15.9099), (20.18, 9.43368, 19.0111), (17.054, 4.96479, 20.1148), (13.4959, 8.43457, 17.9087), (16.5492, 5.31869, 16.7007), (20.1349, 6.91491, 17.6094), (16.2286, 10.8378, 20.5262), (14.7703, 5.39269, 21.1564), (18.2296, 8.7717, 15.9318), (13.4048, 6.99556, 19.9462), (19.7398, 6.40995, 20.2344)] \\\\\n",
       "\t26 & 25 & 1 & 500 & 26 & [13.7781, 17.4742, 20.1251] & 15 & [(12.7301, 20.6971, 22.3798), (13.6224, 20.2946, 17.9084), (16.5833, 17.6021, 21.6372), (14.4448, 21.0952, 19.8143), (14.4953, 14.5462, 20.1647), (14.391, 17.5396, 22.5885), (16.7202, 18.7068, 19.797), (11.6646, 14.5713, 22.4071), (15.5057, 16.6552, 17.2731), (12.6425, 17.3386, 16.4041), (11.8626, 17.9014, 21.3419), (16.3725, 15.7225, 18.9044), (12.0159, 16.5992, 18.2354), (11.3614, 20.1877, 18.0193), (13.4338, 14.7977, 18.4313)] \\\\\n",
       "\t27 & 26 & 1 & 500 & 27 & [5.62192, 19.0869, 9.88155] & 12 & [(6.94144, 20.0205, 6.53004), (8.53566, 19.4953, 10.4464), (3.9591, 17.763, 8.89523), (5.19975, 20.2882, 12.0389), (7.86557, 23.3178, 9.38423), (4.91586, 15.9482, 9.08671), (5.9305, 17.6665, 11.277), (8.76752, 16.6432, 10.6297), (7.05459, 17.3192, 7.61341), (8.29704, 21.2313, 9.12617), (4.98811, 19.7836, 7.94851), (2.26695, 18.8433, 10.8602)] \\\\\n",
       "\t28 & 27 & 1 & 500 & 28 & [6.87828, 16.8562, 2.80979] & 12 & [(8.23179, 16.1086, 4.51316), (3.93537, 18.4663, 6.85256), (6.94144, 20.0205, 6.53004), (8.71324, 13.1453, 2.31929), (8.82479, 21.9196, 5.39857), (7.19918, 11.8165, 2.0904), (9.34298, 15.0906, 2.70437), (7.05459, 17.3192, 7.61341), (5.21869, 14.7553, 7.25855), (5.45626, 14.4345, 3.36488), (8.63816, 17.8623, 1.91837), (5.29258, 11.9669, 2.95101)] \\\\\n",
       "\t29 & 28 & 1 & 500 & 29 & [21.961, 15.8743, 20.8151] & 13 & [(25.1099, 15.2439, 18.2473), (21.0493, 15.4881, 17.5773), (21.7225, 12.896, 21.1924), (19.6745, 14.6249, 20.3143), (22.5738, 17.8354, 21.4213), (19.2177, 14.3465, 22.7284), (20.5426, 16.4912, 23.6791), (23.0578, 15.8252, 17.9412), (19.4708, 17.3563, 18.4246), (19.3915, 19.0406, 19.554), (18.5348, 16.4198, 21.9664), (22.0303, 17.6107, 19.0455), (23.9604, 13.7828, 19.1617)] \\\\\n",
       "\t30 & 29 & 1 & 500 & 30 & [20.0856, 18.0813, 7.27139] & 16 & [(17.8243, 20.2639, 9.77846), (21.6573, 20.7467, 6.66774), (22.1863, 18.6471, 6.34099), (21.9704, 14.5386, 8.65753), (21.2254, 17.1077, 9.46826), (20.3324, 16.5688, 4.23224), (16.2754, 17.7319, 7.70714), (16.3718, 16.7629, 9.68455), (18.3615, 13.466, 8.40211), (20.24, 21.2321, 5.31041), (19.8457, 14.7572, 6.2123), (18.2742, 17.6129, 5.66199), (20.122, 22.2405, 8.87621), (23.4551, 16.8106, 7.50812), (22.6349, 19.7213, 8.80492), (18.3874, 19.1983, 7.14881)] \\\\\n",
       "\t$\\dots$ & $\\dots$ & $\\dots$ & $\\dots$ & $\\dots$ & $\\dots$ & $\\dots$ & $\\dots$ \\\\\n",
       "\\end{tabular}\n"
      ],
      "text/plain": [
       "\u001b[1m500×7 DataFrame\u001b[0m\n",
       "\u001b[1m Row \u001b[0m│\u001b[1m Column1 \u001b[0m\u001b[1m 0     \u001b[0m\u001b[1m 1     \u001b[0m\u001b[1m 2     \u001b[0m\u001b[1m 3                           \u001b[0m\u001b[1m 4     \u001b[0m\u001b[1m 5    \u001b[0m ⋯\n",
       "\u001b[1m     \u001b[0m│\u001b[90m Int64   \u001b[0m\u001b[90m Int64 \u001b[0m\u001b[90m Int64 \u001b[0m\u001b[90m Int64 \u001b[0m\u001b[90m Array…                      \u001b[0m\u001b[90m Int64 \u001b[0m\u001b[90m Array\u001b[0m ⋯\n",
       "─────┼──────────────────────────────────────────────────────────────────────────\n",
       "   1 │       0      1    500      1  [16.7083, 13.8686, 11.3188]     18  [(19. ⋯\n",
       "   2 │       1      1    500      2  [17.8243, 20.2639, 9.77846]     15  [(17.\n",
       "   3 │       2      1    500      3  [9.40614, 11.2264, 9.42822]     17  [(7.8\n",
       "   4 │       3      1    500      4  [13.5692, 8.7828, 15.3179]      15  [(17.\n",
       "   5 │       4      1    500      5  [6.94144, 20.0205, 6.53004]     14  [(10. ⋯\n",
       "   6 │       5      1    500      6  [9.45466, 6.14698, 2.75099]     13  [(13.\n",
       "   7 │       6      1    500      7  [1.9912, 12.4126, 11.9962]      12  [(5.9\n",
       "   8 │       7      1    500      8  [14.8531, 10.6184, 8.95051]     13  [(16.\n",
       "   9 │       8      1    500      9  [17.2169, 1.69863, 14.8952]      9  [(16. ⋯\n",
       "  10 │       9      1    500     10  [14.4379, 25.5832, 13.3912]     12  [(11.\n",
       "  11 │      10      1    500     11  [9.57577, 15.7848, 19.7569]     15  [(9.0\n",
       "  ⋮  │    ⋮       ⋮      ⋮      ⋮                 ⋮                 ⋮          ⋱\n",
       " 491 │     490      1    500    491  [1.36201, 10.0841, 17.7065]     13  [(4.7\n",
       " 492 │     491      1    500    492  [20.6464, 8.56522, 7.84388]     15  [(18. ⋯\n",
       " 493 │     492      1    500    493  [23.1799, 11.9039, 7.58649]     10  [(25.\n",
       " 494 │     493      1    500    494  [18.2081, 4.9249, 10.0192]      15  [(20.\n",
       " 495 │     494      1    500    495  [2.16134, 11.9696, 17.2793]     12  [(6.1\n",
       " 496 │     495      1    500    496  [8.71324, 13.1453, 2.31929]     13  [(10. ⋯\n",
       " 497 │     496      1    500    497  [11.2002, 13.5132, 3.58157]     13  [(10.\n",
       " 498 │     497      1    500    498  [17.6372, 6.3383, 4.19229]      12  [(17.\n",
       " 499 │     498      1    500    499  [21.2744, 13.4412, 15.7991]     14  [(25.\n",
       " 500 │     499      1    500    500  [20.1767, 11.2716, 24.2008]     12  [(21. ⋯\n",
       "\u001b[36m                                                   1 column and 479 rows omitted\u001b[0m"
      ]
     },
     "execution_count": 38,
     "metadata": {},
     "output_type": "execute_result"
    }
   ],
   "source": [
    "# We have to use the broadcasted versions of the functions with . as we want to parse every single entry and not the whole column. \n",
    "list_3d.\"3\" = eval.(Meta.parse.(list_3d.\"3\"))\n",
    "list_3d.\"5\" = eval.(Meta.parse.(list_3d.\"5\"))\n",
    "list_3d"
   ]
  },
  {
   "cell_type": "markdown",
   "metadata": {},
   "source": [
    "Note: The `DataFrames` package provides a lot more functionabilty to manipulate/evaluate/reshape,... your data. Some can be found here on the cheatsheet: https://www.ahsmart.com/assets/pages/data-wrangling-with-data-frames-jl-cheat-sheet/DataFramesCheatSheet_v1.x_rev1.pdf"
   ]
  },
  {
   "cell_type": "markdown",
   "metadata": {},
   "source": [
    "## 3. Summary"
   ]
  },
  {
   "cell_type": "markdown",
   "metadata": {},
   "source": [
    "- Julia uses paths to navigate on your harddrive it can create/load/delete folders and files at given paths.\n",
    "- Use `Serialization` to import and export data when only using Julia\n",
    "- Printing/Reading Data into `.txt` files is painful and should be avoided if possible\n",
    "- Use `DataFrames` and the `CSV` package to save and share your data in `.csv` files"
   ]
  },
  {
   "cell_type": "markdown",
   "metadata": {},
   "source": [
    "## Exercises"
   ]
  },
  {
   "cell_type": "markdown",
   "metadata": {},
   "source": [
    "<p style='color: green'>easy</p>\n",
    "1. Get the number of files in the current working directory."
   ]
  },
  {
   "cell_type": "markdown",
   "metadata": {},
   "source": [
    "<p style='color: green'>easy</p>\n",
    "2. Count the number of .txt files in the current working directory."
   ]
  },
  {
   "cell_type": "markdown",
   "metadata": {},
   "source": [
    "<p style='color: green'>easy</p>\n",
    "3. Create a subfolder named \"data\" inside the folder of the notebook"
   ]
  },
  {
   "cell_type": "markdown",
   "metadata": {},
   "source": [
    "<p style='color: green'>easy</p>\n",
    "4. Create and save a vector of Float64 as a `jls` file inside data "
   ]
  },
  {
   "cell_type": "markdown",
   "metadata": {},
   "source": [
    "<p style='color: green'>easy</p>\n",
    "5.Load the `jls` file and delete it afterwards. "
   ]
  },
  {
   "cell_type": "markdown",
   "metadata": {},
   "source": [
    "<p style='color: green'>easy</p>\n",
    "6. Create  20 vectors that each contain 30 ascending numbers like ` vec1 = [1,...,30] vec2 = [31,...,60],...`. Save each vector as seperate `jls` file into the data folder. "
   ]
  },
  {
   "cell_type": "markdown",
   "metadata": {},
   "source": [
    "<p style='color: orange'>medium </p>\n",
    "7. Write a function called import_Vectors that imports all vectors from the datafolder and creates one big vector called HUGE that contains all the numbers in ascending order.   "
   ]
  },
  {
   "cell_type": "markdown",
   "metadata": {},
   "source": [
    "<p style='color: green'>easy</p>\n",
    "8. Apply the sinus function to Huge and plot it as a line plot with CairoMakie. Save the plot in the data folder. "
   ]
  },
  {
   "cell_type": "markdown",
   "metadata": {},
   "source": [
    "<p style='color: green'>easy</p>\n",
    "9. Make sure that the import_Vector functions still works eventhought there is now a plot file as well in the data folder. "
   ]
  },
  {
   "cell_type": "markdown",
   "metadata": {},
   "source": [
    "<p style='color: orange'>medium</p>\n",
    "10. Import the dataset drugScreen2 from the file DrugScreen2.csv. Check that the import worked correctly. If not, adjust the import parameters."
   ]
  },
  {
   "cell_type": "markdown",
   "metadata": {},
   "source": [
    "<p style='color: red'>hard</p>\n",
    "11. Create a new folder called weights. Move the file  Weights.csv to that folder, only using Julia. Import the dataset \"Weights\" (Weights.csv). Check that the import worked correctly. If not, adjust the import parameters. Plot a histogram of the weights and save it as a PDF in a new subfolder in weights called plots."
   ]
  },
  {
   "cell_type": "markdown",
   "metadata": {},
   "source": [
    "<p style='color: red '>Hard: </p> \n",
    "\n",
    "\n",
    "\n",
    "12. Import the file AliceInWonderland.txt and count the number of words in the file. \n",
    "\n",
    "\n",
    "\n"
   ]
  },
  {
   "cell_type": "code",
   "execution_count": null,
   "metadata": {},
   "outputs": [],
   "source": []
  }
 ],
 "metadata": {
  "kernelspec": {
   "display_name": "Julia 1.8.1",
   "language": "julia",
   "name": "julia-1.8"
  },
  "language_info": {
   "file_extension": ".jl",
   "mimetype": "application/julia",
   "name": "julia",
   "version": "1.8.1"
  }
 },
 "nbformat": 4,
 "nbformat_minor": 4
}
