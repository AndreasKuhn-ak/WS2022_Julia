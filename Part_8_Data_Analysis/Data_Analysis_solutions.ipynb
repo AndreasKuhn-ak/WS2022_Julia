{
 "cells": [
  {
   "cell_type": "markdown",
   "id": "88ad6355-a8be-4f0c-8fb1-089ddc05f836",
   "metadata": {},
   "source": [
    "## 8. Data Analysis\n",
    "###  Sample Solutions "
   ]
  },
  {
   "cell_type": "markdown",
   "id": "dc6292eb-82d6-4ac2-9cf8-73d34b2d9b57",
   "metadata": {},
   "source": [
    "Import and filter the data as in the lesson notebook"
   ]
  },
  {
   "cell_type": "code",
   "execution_count": null,
   "id": "b146e144-6705-4d28-a9b6-ff0d149cfc94",
   "metadata": {},
   "outputs": [],
   "source": [
    "using DataFrames, Statistics\n",
    "using CSV,Chain, DataFramesMeta, Dates\n",
    "using CairoMakie\n",
    "\n",
    "data = DataFrame(CSV.File(\"dc.csv\",normalizenames = true))\n",
    "data.Datum = @chain data.Datum begin\n",
    "    # as columns of dataframes are arrays, you need to use the broadcasted `.` version of function which normally only work on scalar types\n",
    "    replace.(\"/\" => \"-\") \n",
    "    Date.()\n",
    "end\n",
    "\n",
    "@chain data begin\n",
    "    rename!(:Temperatur_Min => :temp_min,:Temperatur_Max => :temp_max ,:Luftfeuchtigkeit => :humidity, :Niederschlag => :rain, :Niederschlagsart =>:preci_type)\n",
    "    rename!(:Temperatur => :temp,:Bedeckung => :cover, :Sonnenscheindauer => :sun, :Datum => :date, :Kategorie => :weather)\n",
    "end\n",
    "\n",
    "data = @chain data begin \n",
    "    @transform(:year = year.(:date))\n",
    "    @transform(:month = month.(:date))\n",
    "    @transform(:day = day.(:date))\n",
    "    @transform(:monthday = monthday.(:date))\n",
    "end\n",
    "\n",
    "data.monthday = string.(data.monthday)\n",
    "# cut februar the 29th in every year and the year 2022 all together to make data analysis easier \n",
    "data = @subset(data,:monthday .!= \"(2, 29)\",:year .!= 2022)\n",
    "\n",
    "data"
   ]
  },
  {
   "cell_type": "markdown",
   "id": "031a9b93-e51c-4aa1-8296-d65918ec0425",
   "metadata": {},
   "source": [
    "### <p style='color: green'>easy</p>"
   ]
  },
  {
   "cell_type": "markdown",
   "id": "3d50ecea-eafb-4c67-853d-3ec286e767bb",
   "metadata": {},
   "source": [
    "#### Exercise 1 \n",
    " Create a dataframe named `millenium` only containing the values since 2000\n",
    "#### Solution 1 "
   ]
  },
  {
   "cell_type": "code",
   "execution_count": null,
   "id": "7968519b-af75-4336-b46a-45e210ec5b52",
   "metadata": {},
   "outputs": [],
   "source": [
    "millenium = @subset(data, :year .> 1999)"
   ]
  },
  {
   "cell_type": "markdown",
   "id": "6db6c781-2b3c-4c7d-80bc-3f1d942aaa25",
   "metadata": {},
   "source": [
    "#### Exercise 2\n",
    "Filter the `millenium` so that it only contains your birthdays. \n",
    "- in which year did you have the best/worst weather to celebrate (in Würzburg ;) ) ? \n",
    "\n",
    "#### Solution 2 "
   ]
  },
  {
   "cell_type": "code",
   "execution_count": null,
   "id": "e9f1e730",
   "metadata": {},
   "outputs": [],
   "source": [
    "my_birthday = \"(5, 29)\"\n",
    "birthday = @subset(millenium, :monthday .== my_birthday)\n",
    "sort(birthday, :sun, rev =true)\n",
    "#most sunny in 2011"
   ]
  },
  {
   "cell_type": "code",
   "execution_count": null,
   "id": "31b60196-6cd4-4973-9176-b6545f3517dd",
   "metadata": {},
   "outputs": [],
   "source": [
    "sort(birthday, :temp, rev = true)\n",
    "# coldest in 2007\n",
    "# warmest in 2005"
   ]
  },
  {
   "cell_type": "markdown",
   "id": "c9de4020-a9c1-483b-8d4b-233c94104c56",
   "metadata": {},
   "source": [
    "#### Exercise 3\n",
    "Find out how many times since 2000 has been a \"white christmas\" in Würzburg (snowfall on christmas eve or the day before and temperatures below 0).\n",
    "#### Solution 3 "
   ]
  },
  {
   "cell_type": "code",
   "execution_count": null,
   "id": "19e809ad-a161-4b81-bf56-09c68a8cdf46",
   "metadata": {},
   "outputs": [],
   "source": [
    "christmas_eve = @subset(millenium, :monthday .== \"(12, 24)\" .|| :monthday .==\"(12, 23)\",  :temp_max .< 0.0)"
   ]
  },
  {
   "cell_type": "markdown",
   "id": "df84c1ee-cc2f-485b-b346-cf8d178a86d4",
   "metadata": {},
   "source": [
    "Only the years 2001 and 2007 had a white christmas in Würzburg. "
   ]
  },
  {
   "cell_type": "markdown",
   "id": "9b907895-2dc2-451d-b031-de6b29f899b8",
   "metadata": {},
   "source": [
    "### <p style='color: orange'>medium</p>"
   ]
  },
  {
   "cell_type": "markdown",
   "id": "9af1ce48-b823-44ee-b3da-ee5f356de50e",
   "metadata": {},
   "source": [
    "#### Exercise 4\n",
    "Write a function that checks if a year is a leapyear and returns a bool. \n",
    "#### Solution 4 "
   ]
  },
  {
   "cell_type": "code",
   "execution_count": null,
   "id": "61020e5f-d508-4cab-b8fe-21d1a85e3be0",
   "metadata": {},
   "outputs": [],
   "source": [
    "function leapyear(year)\n",
    "    if year % 4 == 0\n",
    "        if year % 400 == 0\n",
    "            return true\n",
    "        elseif year % 100 == 0\n",
    "            return false\n",
    "        else\n",
    "            return true\n",
    "        end\n",
    "    else \n",
    "        return false\n",
    "    end\n",
    "end\n",
    "    "
   ]
  },
  {
   "cell_type": "markdown",
   "id": "11f7f019-c8eb-4c5e-97b2-0b88edcf0c13",
   "metadata": {},
   "source": [
    "#### Exercise 5\n",
    "Calculate the average temperatur per month for all years before 1973, from 1974-1999 and from 2000 onwards. Plot them into one graph. Compare these values with the values from figure `f6`. What trend can you observe? \n",
    "#### Solution 5\n"
   ]
  },
  {
   "cell_type": "code",
   "execution_count": null,
   "id": "14671a6a-f354-483c-b305-93a1e872dd5f",
   "metadata": {},
   "outputs": [],
   "source": [
    "months = split(\"Jan Feb Mar Apr May Jun Jul Aug Sep Okt Nov Dez\")\n",
    "\n",
    "# copy and past from f6\n",
    "temp_per_month =  @chain data begin\n",
    "    groupby(:month) \n",
    "    @combine(:avg_temp = mean(:temp),:avg_temp_max = mean(:temp_max),:avg_temp_min = mean(:temp_min),:avg_humi = mean(:humidity))\n",
    "end\n",
    "\n",
    "before_1973 = @chain data begin \n",
    "    @subset(:year .< 1972)\n",
    "    groupby(:month)\n",
    "    @combine(:avg_temp = mean(:temp))\n",
    "end\n",
    "\n",
    "after_1973 = @chain data begin \n",
    "    @subset(:year .> 1972)\n",
    "    groupby(:month)\n",
    "    @combine(:avg_temp = mean(:temp))\n",
    "end\n",
    "\n",
    "# set a nice looking theme\n",
    "set_theme!(theme_dark())\n",
    "\n",
    "\n",
    "fig_1 = Figure()\n",
    "ax1 = Axis(fig_1[1,1], xticks = (1:12, months), ylabel = \"Temperature[°C]\")\n",
    "lines!(ax1,temp_per_month.avg_temp, label = \"Mean 1948-2021\")\n",
    "lines!(ax1,before_1973.avg_temp, label = \"Mean 1948-1971\")\n",
    "lines!(ax1,after_1973.avg_temp, label = \"Mean 1972-2021\")\n",
    "axislegend(ax1)\n",
    "fig_1\n",
    "\n"
   ]
  },
  {
   "cell_type": "markdown",
   "id": "62b8275d-517a-48ae-89c7-193cde9d99e7",
   "metadata": {},
   "source": [
    "As seen many times before, the temperature is rising. "
   ]
  },
  {
   "cell_type": "markdown",
   "id": "8d1eef9c-f271-427e-b55e-2b9d65cedc07",
   "metadata": {},
   "source": [
    "### <p style='color: red'>hard</p>"
   ]
  },
  {
   "cell_type": "markdown",
   "id": "a192fc3e-9d6e-4037-b9b3-f5dd720c36e9",
   "metadata": {
    "tags": []
   },
   "source": [
    "#### Exercise 6\n",
    "Find out what the column \"Bedeckung\"/\"cover/cloudcover\" means. Plot its monthly and yearly average since the year it has been measured. Interpret the data to your best ability. \n",
    "    Hint: There are some NaN values in the dataset (even after cover has first been measured). Use the function `isnan()` to find the NaN values and remove them from the data. \n",
    "#### Solution 6"
   ]
  },
  {
   "cell_type": "markdown",
   "id": "461822db-4cfb-4c45-b470-26051a2218b5",
   "metadata": {},
   "source": [
    "Find the first datapoint, where cover has been measured. "
   ]
  },
  {
   "cell_type": "code",
   "execution_count": null,
   "id": "a745c37c-53fd-4c15-a611-65df1261b384",
   "metadata": {},
   "outputs": [],
   "source": [
    "# dataframes can be accessed via slicing similar to 2D-arrays\n",
    "first_cover = data[1,:]\n",
    "for (i,cover) in enumerate(data.cover)\n",
    "    if isnan(cover) == false\n",
    "        first_cover = data[i,:]\n",
    "        break\n",
    "    end\n",
    "end\n",
    "first_cover\n",
    "        \n",
    "    "
   ]
  },
  {
   "cell_type": "markdown",
   "id": "7ff0c432-039a-40f3-8a31-2fcfa6f1afdb",
   "metadata": {},
   "source": [
    "Cover has been measured since 1949. According to [wikipedia](https://de.wikipedia.org/wiki/Bew%C3%B6lkung), cover measures the amount of clouds on the sky in steps from 0-9.  "
   ]
  },
  {
   "cell_type": "markdown",
   "id": "7267182d-82d9-4742-891e-3656f636bd86",
   "metadata": {},
   "source": [
    "Make a subset of the data starting from 1949 with measured cover. "
   ]
  },
  {
   "cell_type": "code",
   "execution_count": null,
   "id": "fb8831d3-867e-4b26-ba9a-67f2cd48d04c",
   "metadata": {},
   "outputs": [],
   "source": [
    "cover_year = @chain data begin \n",
    "    @subset(:year .>= 1949, isnan.(:cover) .== false)\n",
    "    groupby(:year)\n",
    "    @combine(:cover = mean(:cover))\n",
    "end\n",
    "\n",
    "cover_month =  @chain data begin \n",
    "    @subset(:year .>= 1949, isnan.(:cover) .== false)\n",
    "    groupby(:month)\n",
    "    @combine(:cover = mean(:cover))\n",
    "end\n"
   ]
  },
  {
   "cell_type": "code",
   "execution_count": null,
   "id": "61488204-31fd-4ec0-8dc8-46630ad1429a",
   "metadata": {},
   "outputs": [],
   "source": [
    "fig_2  = Figure(resolution = (1400,500))\n",
    "ax2_1 = Axis(fig_2[1,1], title = \"Mean monthly cover\", xticks = (1:12, months), ylabel = \"Cover []\")\n",
    "lines!(ax2_1, cover_month.cover)\n",
    "ax2_2 = Axis(fig_2[1,2], title = \"Mean yearly cover\" ,ylabel = \"Cover []\")\n",
    "lines!(ax2_2,collect(1949:2021), cover_year.cover)\n",
    "fig_2"
   ]
  },
  {
   "cell_type": "markdown",
   "id": "866052c8-e40a-4290-9ac5-f79c1a05ef0b",
   "metadata": {},
   "source": [
    "In the summer months, there are less cloulds in the sky than in the winter months. The yearly mean cover shows an interesting trend, as it increases with time. Maybe climate change is also responsible there?  "
   ]
  },
  {
   "cell_type": "markdown",
   "id": "9ee2f99f-a90d-428c-9383-713afd67aa20",
   "metadata": {
    "tags": []
   },
   "source": [
    "#### Exercise 7\n",
    "Calculate the standard deviation of the yearly temperatures (column temp). Is there a significant difference between years? If so, how can we interpret this?  \n",
    "#### Solution 7"
   ]
  },
  {
   "cell_type": "code",
   "execution_count": null,
   "id": "84c04e09-5ec6-4d68-9aae-1fdaccc6fae9",
   "metadata": {},
   "outputs": [],
   "source": [
    "stdd_temp = @chain data begin \n",
    "    groupby(:year)\n",
    "    @combine(:stdd_temp = std(:temp))\n",
    "end\n",
    "\n",
    "fig_3  = Figure()\n",
    "ax3 = Axis(fig_3[1,1], title = \"Stdd of yearly temperatures\" ,ylabel = \"Temperature_Diff [°C]\")\n",
    "lines!(ax3,collect(1948:2021), stdd_temp.stdd_temp)\n",
    "fig_3"
   ]
  },
  {
   "cell_type": "markdown",
   "id": "6868485c-a9ed-4423-8cd3-2792e0725a70",
   "metadata": {},
   "source": [
    "There is a huge variance between the distribution of yearly temperatures from year to year, but there is no clear change over time. "
   ]
  },
  {
   "cell_type": "markdown",
   "id": "56b31b87-195b-451a-ab32-125610baa58d",
   "metadata": {},
   "source": [
    "#### Exercise 8\n",
    "Split the original dataset (before the filter of the 29th of february) in two datasets using your function definied in exercise 4. One dataset should only contain leap years and the other one should only contain normal years.  \n",
    "#### Solution 8"
   ]
  },
  {
   "cell_type": "code",
   "execution_count": null,
   "id": "dea4797d-92d7-4bbc-86fe-99a6eae5182b",
   "metadata": {},
   "outputs": [],
   "source": [
    "# copy and paste import code from above with different names for dataframe\n",
    "data_2 = DataFrame(CSV.File(\"dc.csv\"))\n",
    "data_2.Datum = @chain data_2.Datum begin\n",
    "    # as columns of dataframes are arrays, you need to use the broadcasted `.` version of function which normally only work on scalar types\n",
    "    replace.(\"/\" => \"-\") \n",
    "    Date.()\n",
    "end\n",
    "\n",
    "@chain data_2 begin\n",
    "    # \"Temperatur Min\" and \"Temerpatur Max\" have to be renamed separately as they are Strings and not Symbols due to the space  \n",
    "    # never use Strings as colums names, as they always cause problems like this\n",
    "    rename!(:\"Temperatur Min\" => :temp_min)\n",
    "    rename!(:\"Temperatur Max\" => :temp_max)\n",
    "    rename!(:Luftfeuchtigkeit => :humidity, :Niederschlag => :rain, :Niederschlagsart =>:preci_type, :Temperatur => :temp)\n",
    "    rename!(:Bedeckung => :cover, :Sonnenscheindauer => :sun, :Datum => :date, :Kategorie => :weather)\n",
    "end\n",
    "\n",
    "\n",
    "data_2 = @chain data_2 begin \n",
    "    @transform(:year = year.(:date))\n",
    "    @transform(:month = month.(:date))\n",
    "    @transform(:day = day.(:date))\n",
    "    @transform(:monthday = monthday.(:date))\n",
    "end\n",
    "\n",
    "data_2.monthday = string.(data_2.monthday)\n",
    "\n",
    "data_2 = @subset(data_2,:year .!= 2022)\n",
    "\n",
    "#use own defined function with the . operator to broadcast\n",
    "leap_years = @subset(data_2, leapyear.(:year) .== true)\n",
    "normal_years = @subset(data_2, leapyear.(:year) .== false);"
   ]
  },
  {
   "cell_type": "markdown",
   "id": "551c58f3-5f64-49d9-9b83-14eed35ed4a5",
   "metadata": {},
   "source": [
    "#### Exercise 9\n",
    "Compare the average temperatures per month between leap and normal years and the distribution of temps between all leap years and all non leap years. Is there a difference? \n",
    "#### Solution 9"
   ]
  },
  {
   "cell_type": "code",
   "execution_count": null,
   "id": "a887e63d-9351-4a90-9e94-c8f7566639e3",
   "metadata": {},
   "outputs": [],
   "source": [
    "years_leap = @chain leap_years begin \n",
    "    groupby(:year)\n",
    "    @combine(:temp = mean(:temp))\n",
    "end\n",
    "\n",
    "years_normal = @chain normal_years begin \n",
    "    groupby(:year)\n",
    "    @combine(:temp = mean(:temp))\n",
    "end\n",
    "\n",
    "months_leap = @chain leap_years begin \n",
    "    groupby(:month)\n",
    "    @combine(:temp = mean(:temp))\n",
    "end\n",
    "\n",
    "months_normal = @chain normal_years begin \n",
    "    groupby(:month)\n",
    "    @combine(:temp = mean(:temp))\n",
    "end\n",
    "\n",
    "\n",
    "fig_4  = Figure(resolution = (1400,500))\n",
    "ax4_1 = Axis(fig_4[1,1], title = \"Monthly temps\", xticks = (1:12, months), ylabel = \"Temperature [°C]\")\n",
    "lines!(ax4_1,months_leap.temp,label =\"Leap years\")\n",
    "lines!(ax4_1,months_normal.temp,label =\"Normal years\")\n",
    "axislegend(ax4_1)\n",
    "\n",
    "ax4_2 = Axis(fig_4[1,2], title = \"Distribution of temps\" ,xlabel = \"Temperature [°C]\")\n",
    "hist!(ax4_2,years_normal.temp, normalization = :pdf,label =\"Leap years\", bins = 8)\n",
    "hist!(ax4_2, years_leap.temp, normalization = :pdf, label =\"Normal years\", bins = 8)\n",
    "axislegend(ax4_2)\n",
    "\n",
    "fig_4\n",
    "    "
   ]
  },
  {
   "cell_type": "markdown",
   "id": "cd5879fa-0e3e-45ab-ba94-957d04eaa37f",
   "metadata": {},
   "source": [
    "This simple analysis reveals no clear visible difference between leap and normal years in their monthly and yearly temperatures. But the sample size is quite small and the noise in the data quite high, which could mask a bias that exists, at least in [theory](https://agupubs.onlinelibrary.wiley.com/doi/pdf/10.1029/2008GL035209).   "
   ]
  },
  {
   "cell_type": "code",
   "execution_count": null,
   "id": "1f94de80-a07e-41c5-bb4b-38a9d6b55a48",
   "metadata": {},
   "outputs": [],
   "source": []
  },
  {
   "cell_type": "code",
   "execution_count": null,
   "id": "5c77b6b3-fa9b-4f86-88d1-fffb7b650981",
   "metadata": {},
   "outputs": [],
   "source": []
  },
  {
   "cell_type": "code",
   "execution_count": null,
   "id": "15779406-a47e-4a96-ac10-999c0f23c5cd",
   "metadata": {},
   "outputs": [],
   "source": []
  },
  {
   "cell_type": "code",
   "execution_count": null,
   "id": "2ca8cb89",
   "metadata": {},
   "outputs": [],
   "source": []
  },
  {
   "cell_type": "code",
   "execution_count": null,
   "id": "cf2d59c9",
   "metadata": {},
   "outputs": [],
   "source": []
  },
  {
   "cell_type": "code",
   "execution_count": null,
   "id": "5892f1eb",
   "metadata": {},
   "outputs": [],
   "source": []
  }
 ],
 "metadata": {
  "kernelspec": {
   "display_name": "Julia 1.9.2",
   "language": "julia",
   "name": "julia-1.9"
  },
  "language_info": {
   "file_extension": ".jl",
   "mimetype": "application/julia",
   "name": "julia",
   "version": "1.9.2"
  }
 },
 "nbformat": 4,
 "nbformat_minor": 5
}
