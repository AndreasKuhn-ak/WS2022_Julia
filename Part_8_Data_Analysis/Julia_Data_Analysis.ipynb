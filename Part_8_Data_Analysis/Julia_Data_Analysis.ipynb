{
 "cells": [
  {
   "cell_type": "markdown",
   "metadata": {},
   "source": [
    "<p style='text-align: center'><a href=https://www.biozentrum.uni-wuerzburg.de/cctb/research/supramolecular-and-cellular-simulations/>Supramolecular and Cellular Simulations</a> (Prof. Fischer)<br>Center for Computational and Theoretical Biology - CCTB<br>Faculty of Biology, University of Würzburg</p>\n",
    "\n",
    "<p style='text-align: center'><br><br>We are looking forward to your comments and suggestions. Please send them to: <br><br></p>\n",
    "    \n",
    " <p style='text-align: center'>   <a href=andreas.kuhn@uni.wuerzburg.de>andreas.kuhn@uni.wuerzburg.de</a> or <a href=sabine.fischer@uni.wuerzburg.de>sabine.fischer@uni.wuerzburg.de</a></p>\n",
    "\n",
    "<h1><p style='text-align: center'> Introduction to Julia </p></h1>\n"
   ]
  },
  {
   "cell_type": "markdown",
   "metadata": {},
   "source": [
    "# Data analysis\n",
    "\n",
    "Data is typically analyzed in either arrays or DataFrames.\n",
    "\n",
    "Arrays are often used when the data is not high-dimensional and high performance is important e.g. because the amount of data is large. A good example for such data would be a time series of 2D/3D positions of e.g. cells, particles ,... . Such data is not very complex by itself as it is \"only\" coordinates over time,  but can be huge in size. \n",
    "\n",
    "`Julia` has a very powerful array implementation. As you have already learned the necessary basics of arrays in the data structure chapter, we will not focus too much on arrays here.\n",
    "\n",
    "More complex high-dimensional data is typically represented in the form of tables called `DataFrames`. `R` and `Python` both have powerful package collections, called `tidyverse` and `pandas/scipy` respectively, for working with `DataFrames`.  \n",
    "\n",
    "`Julia` is also well-equipped for working with `DataFrames`. The packages `DataFrames` and `Statistics` provide similar functionality as the mentioned packages of `R` and `Python`. The package `CSV` is used for importing/exporting tabular data, the packages `Chain` and `DataFramesMeta` for a more convenient syntax, the `Dates` package for dealing with dates and of course `CairoMakie` for plotting.\n",
    "\n"
   ]
  },
  {
   "cell_type": "markdown",
   "metadata": {},
   "source": [
    "Comment: Julia has a different approach than R or Python when it comes to package functionality.  Python or R packages like `numpy`, `pandas` or the `tidyverse` are so huge and introduce so many new features that you could argue that they are not really packages but new languages inside a language. For Python, this is especially true as numpy and pandas are internally written in C and the Python code between numpy/panda functions acts more like an interface/glue than doing actual computations. The advantage of this approach is, that in many cases you just need to import one package, and it just works.\n",
    "\n",
    "Julia's packages are much smaller and often only serve one specific purpose. Therefore, you almost always have to import a number of packages to get all the functionality you need. But, as the packages themselves are written in Julia, it is quite easy to share functions between packages or to extend/modify them with self-written, equally fast functions."
   ]
  },
  {
   "cell_type": "code",
   "execution_count": 2,
   "metadata": {},
   "outputs": [],
   "source": [
    "using DataFrames, Statistics\n",
    "using CSV,Chain, DataFramesMeta, Dates\n",
    "using CairoMakie"
   ]
  },
  {
   "cell_type": "markdown",
   "metadata": {},
   "source": [
    "### 1. Data set\n",
    "\n",
    "In this notebook, we are going to analyse the weather of our beautiful home town Würzburg from 1948 until 2021. The data we are using (and much more) is freely available on the website of the [Deutscher Wetterdienst](https://cdc.dwd.de/portal/)."
   ]
  },
  {
   "cell_type": "markdown",
   "metadata": {},
   "source": [
    "The first step is to import the data in the file dc.csv as a `DataFrame` using the `CSV` and `DataFrame` package. The keyword argument `normalizenames` is used to cast all column names to valid Julia identifiers without spaces. So that the syntax `data.columnname` always works to access single columns.  "
   ]
  },
  {
   "cell_type": "code",
   "execution_count": 5,
   "metadata": {},
   "outputs": [
    {
     "data": {
      "text/html": [
       "<div><div style = \"float: left;\"><span>27062×11 DataFrame</span></div><div style = \"float: right;\"><span style = \"font-style: italic;\">27037 rows omitted</span></div><div style = \"clear: both;\"></div></div><div class = \"data-frame\" style = \"overflow-x: scroll;\"><table class = \"data-frame\" style = \"margin-bottom: 6px;\"><thead><tr class = \"header\"><th class = \"rowNumber\" style = \"font-weight: bold; text-align: right;\">Row</th><th style = \"text-align: left;\">Zeit</th><th style = \"text-align: left;\">Temperatur_Min</th><th style = \"text-align: left;\">Temperatur_Max</th><th style = \"text-align: left;\">Temperatur</th><th style = \"text-align: left;\">Luftfeuchtigkeit</th><th style = \"text-align: left;\">Niederschlag</th><th style = \"text-align: left;\">Niederschlagsart</th><th style = \"text-align: left;\">Bedeckung</th><th style = \"text-align: left;\">Sonnenscheindauer</th><th style = \"text-align: left;\">Datum</th><th style = \"text-align: left;\">Kategorie</th></tr><tr class = \"subheader headerLastRow\"><th class = \"rowNumber\" style = \"font-weight: bold; text-align: right;\"></th><th title = \"String31\" style = \"text-align: left;\">String31</th><th title = \"Float64\" style = \"text-align: left;\">Float64</th><th title = \"Float64\" style = \"text-align: left;\">Float64</th><th title = \"Float64\" style = \"text-align: left;\">Float64</th><th title = \"Float64\" style = \"text-align: left;\">Float64</th><th title = \"Float64\" style = \"text-align: left;\">Float64</th><th title = \"Union{Missing, String7}\" style = \"text-align: left;\">String7?</th><th title = \"Float64\" style = \"text-align: left;\">Float64</th><th title = \"Int64\" style = \"text-align: left;\">Int64</th><th title = \"String15\" style = \"text-align: left;\">String15</th><th title = \"String31\" style = \"text-align: left;\">String31</th></tr></thead><tbody><tr><td class = \"rowNumber\" style = \"font-weight: bold; text-align: right;\">1</td><td style = \"text-align: left;\">1947-12-31T23:00Z</td><td style = \"text-align: right;\">-2.6</td><td style = \"text-align: right;\">2.9</td><td style = \"text-align: right;\">0.27</td><td style = \"text-align: right;\">88.91</td><td style = \"text-align: right;\">0.0</td><td style = \"font-style: italic; text-align: left;\">missing</td><td style = \"text-align: right;\">NaN</td><td style = \"text-align: right;\">0</td><td style = \"text-align: left;\">1948/01/01</td><td style = \"text-align: left;\">Overcast</td></tr><tr><td class = \"rowNumber\" style = \"font-weight: bold; text-align: right;\">2</td><td style = \"text-align: left;\">1948-01-01T23:00Z</td><td style = \"text-align: right;\">2.8</td><td style = \"text-align: right;\">10.0</td><td style = \"text-align: right;\">6.46</td><td style = \"text-align: right;\">91.46</td><td style = \"text-align: right;\">0.0</td><td style = \"font-style: italic; text-align: left;\">missing</td><td style = \"text-align: right;\">NaN</td><td style = \"text-align: right;\">0</td><td style = \"text-align: left;\">1948/01/02</td><td style = \"text-align: left;\">Overcast</td></tr><tr><td class = \"rowNumber\" style = \"font-weight: bold; text-align: right;\">3</td><td style = \"text-align: left;\">1948-01-02T23:00Z</td><td style = \"text-align: right;\">10.7</td><td style = \"text-align: right;\">12.4</td><td style = \"text-align: right;\">11.7</td><td style = \"text-align: right;\">89.08</td><td style = \"text-align: right;\">0.0</td><td style = \"font-style: italic; text-align: left;\">missing</td><td style = \"text-align: right;\">NaN</td><td style = \"text-align: right;\">0</td><td style = \"text-align: left;\">1948/01/03</td><td style = \"text-align: left;\">Overcast</td></tr><tr><td class = \"rowNumber\" style = \"font-weight: bold; text-align: right;\">4</td><td style = \"text-align: left;\">1948-01-03T23:00Z</td><td style = \"text-align: right;\">5.5</td><td style = \"text-align: right;\">11.7</td><td style = \"text-align: right;\">9.81</td><td style = \"text-align: right;\">78.96</td><td style = \"text-align: right;\">0.0</td><td style = \"font-style: italic; text-align: left;\">missing</td><td style = \"text-align: right;\">NaN</td><td style = \"text-align: right;\">0</td><td style = \"text-align: left;\">1948/01/04</td><td style = \"text-align: left;\">Overcast</td></tr><tr><td class = \"rowNumber\" style = \"font-weight: bold; text-align: right;\">5</td><td style = \"text-align: left;\">1948-01-04T23:00Z</td><td style = \"text-align: right;\">4.7</td><td style = \"text-align: right;\">11.8</td><td style = \"text-align: right;\">7.88</td><td style = \"text-align: right;\">80.33</td><td style = \"text-align: right;\">0.0</td><td style = \"font-style: italic; text-align: left;\">missing</td><td style = \"text-align: right;\">NaN</td><td style = \"text-align: right;\">0</td><td style = \"text-align: left;\">1948/01/05</td><td style = \"text-align: left;\">Overcast</td></tr><tr><td class = \"rowNumber\" style = \"font-weight: bold; text-align: right;\">6</td><td style = \"text-align: left;\">1948-01-05T23:00Z</td><td style = \"text-align: right;\">1.6</td><td style = \"text-align: right;\">5.4</td><td style = \"text-align: right;\">3.23</td><td style = \"text-align: right;\">76.08</td><td style = \"text-align: right;\">0.0</td><td style = \"font-style: italic; text-align: left;\">missing</td><td style = \"text-align: right;\">NaN</td><td style = \"text-align: right;\">0</td><td style = \"text-align: left;\">1948/01/06</td><td style = \"text-align: left;\">Overcast</td></tr><tr><td class = \"rowNumber\" style = \"font-weight: bold; text-align: right;\">7</td><td style = \"text-align: left;\">1948-01-06T23:00Z</td><td style = \"text-align: right;\">1.8</td><td style = \"text-align: right;\">10.4</td><td style = \"text-align: right;\">6.75</td><td style = \"text-align: right;\">90.33</td><td style = \"text-align: right;\">0.0</td><td style = \"font-style: italic; text-align: left;\">missing</td><td style = \"text-align: right;\">NaN</td><td style = \"text-align: right;\">0</td><td style = \"text-align: left;\">1948/01/07</td><td style = \"text-align: left;\">Overcast</td></tr><tr><td class = \"rowNumber\" style = \"font-weight: bold; text-align: right;\">8</td><td style = \"text-align: left;\">1948-01-07T23:00Z</td><td style = \"text-align: right;\">3.5</td><td style = \"text-align: right;\">9.6</td><td style = \"text-align: right;\">5.76</td><td style = \"text-align: right;\">73.0</td><td style = \"text-align: right;\">0.0</td><td style = \"font-style: italic; text-align: left;\">missing</td><td style = \"text-align: right;\">NaN</td><td style = \"text-align: right;\">0</td><td style = \"text-align: left;\">1948/01/08</td><td style = \"text-align: left;\">Overcast</td></tr><tr><td class = \"rowNumber\" style = \"font-weight: bold; text-align: right;\">9</td><td style = \"text-align: left;\">1948-01-08T23:00Z</td><td style = \"text-align: right;\">1.9</td><td style = \"text-align: right;\">5.6</td><td style = \"text-align: right;\">3.43</td><td style = \"text-align: right;\">73.75</td><td style = \"text-align: right;\">0.0</td><td style = \"font-style: italic; text-align: left;\">missing</td><td style = \"text-align: right;\">NaN</td><td style = \"text-align: right;\">0</td><td style = \"text-align: left;\">1948/01/09</td><td style = \"text-align: left;\">Overcast</td></tr><tr><td class = \"rowNumber\" style = \"font-weight: bold; text-align: right;\">10</td><td style = \"text-align: left;\">1948-01-09T23:00Z</td><td style = \"text-align: right;\">2.5</td><td style = \"text-align: right;\">8.5</td><td style = \"text-align: right;\">4.87</td><td style = \"text-align: right;\">72.17</td><td style = \"text-align: right;\">0.0</td><td style = \"font-style: italic; text-align: left;\">missing</td><td style = \"text-align: right;\">NaN</td><td style = \"text-align: right;\">0</td><td style = \"text-align: left;\">1948/01/10</td><td style = \"text-align: left;\">Overcast</td></tr><tr><td class = \"rowNumber\" style = \"font-weight: bold; text-align: right;\">11</td><td style = \"text-align: left;\">1948-01-10T23:00Z</td><td style = \"text-align: right;\">2.6</td><td style = \"text-align: right;\">7.3</td><td style = \"text-align: right;\">4.47</td><td style = \"text-align: right;\">79.92</td><td style = \"text-align: right;\">0.0</td><td style = \"font-style: italic; text-align: left;\">missing</td><td style = \"text-align: right;\">NaN</td><td style = \"text-align: right;\">0</td><td style = \"text-align: left;\">1948/01/11</td><td style = \"text-align: left;\">Overcast</td></tr><tr><td class = \"rowNumber\" style = \"font-weight: bold; text-align: right;\">12</td><td style = \"text-align: left;\">1948-01-11T23:00Z</td><td style = \"text-align: right;\">2.4</td><td style = \"text-align: right;\">9.5</td><td style = \"text-align: right;\">6.89</td><td style = \"text-align: right;\">80.13</td><td style = \"text-align: right;\">0.0</td><td style = \"font-style: italic; text-align: left;\">missing</td><td style = \"text-align: right;\">NaN</td><td style = \"text-align: right;\">0</td><td style = \"text-align: left;\">1948/01/12</td><td style = \"text-align: left;\">Overcast</td></tr><tr><td class = \"rowNumber\" style = \"font-weight: bold; text-align: right;\">13</td><td style = \"text-align: left;\">1948-01-12T23:00Z</td><td style = \"text-align: right;\">6.6</td><td style = \"text-align: right;\">12.1</td><td style = \"text-align: right;\">10.14</td><td style = \"text-align: right;\">84.58</td><td style = \"text-align: right;\">0.0</td><td style = \"font-style: italic; text-align: left;\">missing</td><td style = \"text-align: right;\">NaN</td><td style = \"text-align: right;\">0</td><td style = \"text-align: left;\">1948/01/13</td><td style = \"text-align: left;\">Overcast</td></tr><tr><td style = \"text-align: right;\">&vellip;</td><td style = \"text-align: right;\">&vellip;</td><td style = \"text-align: right;\">&vellip;</td><td style = \"text-align: right;\">&vellip;</td><td style = \"text-align: right;\">&vellip;</td><td style = \"text-align: right;\">&vellip;</td><td style = \"text-align: right;\">&vellip;</td><td style = \"text-align: right;\">&vellip;</td><td style = \"text-align: right;\">&vellip;</td><td style = \"text-align: right;\">&vellip;</td><td style = \"text-align: right;\">&vellip;</td><td style = \"text-align: right;\">&vellip;</td></tr><tr><td class = \"rowNumber\" style = \"font-weight: bold; text-align: right;\">27051</td><td style = \"text-align: left;\">2022-01-21T23:00Z</td><td style = \"text-align: right;\">2.8</td><td style = \"text-align: right;\">4.6</td><td style = \"text-align: right;\">3.73</td><td style = \"text-align: right;\">87.71</td><td style = \"text-align: right;\">0.2</td><td style = \"font-style: italic; text-align: left;\">Regen</td><td style = \"text-align: right;\">7.92</td><td style = \"text-align: right;\">0</td><td style = \"text-align: left;\">2022/01/22</td><td style = \"text-align: left;\">Rain</td></tr><tr><td class = \"rowNumber\" style = \"font-weight: bold; text-align: right;\">27052</td><td style = \"text-align: left;\">2022-01-22T23:00Z</td><td style = \"text-align: right;\">3.4</td><td style = \"text-align: right;\">5.2</td><td style = \"text-align: right;\">4.09</td><td style = \"text-align: right;\">81.5</td><td style = \"text-align: right;\">0.0</td><td style = \"font-style: italic; text-align: left;\">Regen</td><td style = \"text-align: right;\">8.0</td><td style = \"text-align: right;\">0</td><td style = \"text-align: left;\">2022/01/23</td><td style = \"text-align: left;\">Overcast</td></tr><tr><td class = \"rowNumber\" style = \"font-weight: bold; text-align: right;\">27053</td><td style = \"text-align: left;\">2022-01-23T23:00Z</td><td style = \"text-align: right;\">0.7</td><td style = \"text-align: right;\">4.0</td><td style = \"text-align: right;\">3.35</td><td style = \"text-align: right;\">81.17</td><td style = \"text-align: right;\">0.0</td><td style = \"font-style: italic; text-align: left;\">missing</td><td style = \"text-align: right;\">7.58</td><td style = \"text-align: right;\">0</td><td style = \"text-align: left;\">2022/01/24</td><td style = \"text-align: left;\">Overcast</td></tr><tr><td class = \"rowNumber\" style = \"font-weight: bold; text-align: right;\">27054</td><td style = \"text-align: left;\">2022-01-24T23:00Z</td><td style = \"text-align: right;\">-3.0</td><td style = \"text-align: right;\">0.4</td><td style = \"text-align: right;\">-0.84</td><td style = \"text-align: right;\">97.88</td><td style = \"text-align: right;\">0.0</td><td style = \"font-style: italic; text-align: left;\">missing</td><td style = \"text-align: right;\">5.29</td><td style = \"text-align: right;\">0</td><td style = \"text-align: left;\">2022/01/25</td><td style = \"text-align: left;\">Overcast</td></tr><tr><td class = \"rowNumber\" style = \"font-weight: bold; text-align: right;\">27055</td><td style = \"text-align: left;\">2022-01-25T23:00Z</td><td style = \"text-align: right;\">-0.1</td><td style = \"text-align: right;\">0.3</td><td style = \"text-align: right;\">0.03</td><td style = \"text-align: right;\">89.13</td><td style = \"text-align: right;\">0.0</td><td style = \"font-style: italic; text-align: left;\">Schnee</td><td style = \"text-align: right;\">7.96</td><td style = \"text-align: right;\">0</td><td style = \"text-align: left;\">2022/01/26</td><td style = \"text-align: left;\">Snow</td></tr><tr><td class = \"rowNumber\" style = \"font-weight: bold; text-align: right;\">27056</td><td style = \"text-align: left;\">2022-01-26T23:00Z</td><td style = \"text-align: right;\">-1.0</td><td style = \"text-align: right;\">3.6</td><td style = \"text-align: right;\">0.25</td><td style = \"text-align: right;\">88.29</td><td style = \"text-align: right;\">0.2</td><td style = \"font-style: italic; text-align: left;\">Regen</td><td style = \"text-align: right;\">7.88</td><td style = \"text-align: right;\">0</td><td style = \"text-align: left;\">2022/01/27</td><td style = \"text-align: left;\">Rain</td></tr><tr><td class = \"rowNumber\" style = \"font-weight: bold; text-align: right;\">27057</td><td style = \"text-align: left;\">2022-01-27T23:00Z</td><td style = \"text-align: right;\">2.4</td><td style = \"text-align: right;\">6.1</td><td style = \"text-align: right;\">3.4</td><td style = \"text-align: right;\">79.79</td><td style = \"text-align: right;\">0.0</td><td style = \"font-style: italic; text-align: left;\">Schnee</td><td style = \"text-align: right;\">6.04</td><td style = \"text-align: right;\">195</td><td style = \"text-align: left;\">2022/01/28</td><td style = \"text-align: left;\">Snow</td></tr><tr><td class = \"rowNumber\" style = \"font-weight: bold; text-align: right;\">27058</td><td style = \"text-align: left;\">2022-01-28T23:00Z</td><td style = \"text-align: right;\">2.2</td><td style = \"text-align: right;\">6.6</td><td style = \"text-align: right;\">3.88</td><td style = \"text-align: right;\">87.21</td><td style = \"text-align: right;\">0.4</td><td style = \"font-style: italic; text-align: left;\">Regen</td><td style = \"text-align: right;\">7.96</td><td style = \"text-align: right;\">0</td><td style = \"text-align: left;\">2022/01/29</td><td style = \"text-align: left;\">Rain</td></tr><tr><td class = \"rowNumber\" style = \"font-weight: bold; text-align: right;\">27059</td><td style = \"text-align: left;\">2022-01-29T23:00Z</td><td style = \"text-align: right;\">0.9</td><td style = \"text-align: right;\">6.8</td><td style = \"text-align: right;\">4.79</td><td style = \"text-align: right;\">67.63</td><td style = \"text-align: right;\">0.7</td><td style = \"font-style: italic; text-align: left;\">Regen</td><td style = \"text-align: right;\">6.58</td><td style = \"text-align: right;\">86</td><td style = \"text-align: left;\">2022/01/30</td><td style = \"text-align: left;\">Rain</td></tr><tr><td class = \"rowNumber\" style = \"font-weight: bold; text-align: right;\">27060</td><td style = \"text-align: left;\">2022-01-30T23:00Z</td><td style = \"text-align: right;\">0.7</td><td style = \"text-align: right;\">4.0</td><td style = \"text-align: right;\">2.55</td><td style = \"text-align: right;\">85.33</td><td style = \"text-align: right;\">5.5</td><td style = \"font-style: italic; text-align: left;\">Schnee</td><td style = \"text-align: right;\">7.33</td><td style = \"text-align: right;\">5</td><td style = \"text-align: left;\">2022/01/31</td><td style = \"text-align: left;\">Snow</td></tr><tr><td class = \"rowNumber\" style = \"font-weight: bold; text-align: right;\">27061</td><td style = \"text-align: left;\">2022-01-31T23:00Z</td><td style = \"text-align: right;\">1.6</td><td style = \"text-align: right;\">5.8</td><td style = \"text-align: right;\">2.93</td><td style = \"text-align: right;\">81.88</td><td style = \"text-align: right;\">1.4</td><td style = \"font-style: italic; text-align: left;\">Schnee</td><td style = \"text-align: right;\">7.54</td><td style = \"text-align: right;\">0</td><td style = \"text-align: left;\">2022/02/01</td><td style = \"text-align: left;\">Snow</td></tr><tr><td class = \"rowNumber\" style = \"font-weight: bold; text-align: right;\">27062</td><td style = \"text-align: left;\">2022-02-01T23:00Z</td><td style = \"text-align: right;\">3.0</td><td style = \"text-align: right;\">8.3</td><td style = \"text-align: right;\">5.65</td><td style = \"text-align: right;\">74.21</td><td style = \"text-align: right;\">1.3</td><td style = \"font-style: italic; text-align: left;\">Regen</td><td style = \"text-align: right;\">6.46</td><td style = \"text-align: right;\">205</td><td style = \"text-align: left;\">2022/02/02</td><td style = \"text-align: left;\">Rain</td></tr></tbody></table></div>"
      ],
      "text/latex": [
       "\\begin{tabular}{r|cccccc}\n",
       "\t& Zeit & Temperatur\\_Min & Temperatur\\_Max & Temperatur & Luftfeuchtigkeit & \\\\\n",
       "\t\\hline\n",
       "\t& String31 & Float64 & Float64 & Float64 & Float64 & \\\\\n",
       "\t\\hline\n",
       "\t1 & 1947-12-31T23:00Z & -2.6 & 2.9 & 0.27 & 88.91 & $\\dots$ \\\\\n",
       "\t2 & 1948-01-01T23:00Z & 2.8 & 10.0 & 6.46 & 91.46 & $\\dots$ \\\\\n",
       "\t3 & 1948-01-02T23:00Z & 10.7 & 12.4 & 11.7 & 89.08 & $\\dots$ \\\\\n",
       "\t4 & 1948-01-03T23:00Z & 5.5 & 11.7 & 9.81 & 78.96 & $\\dots$ \\\\\n",
       "\t5 & 1948-01-04T23:00Z & 4.7 & 11.8 & 7.88 & 80.33 & $\\dots$ \\\\\n",
       "\t6 & 1948-01-05T23:00Z & 1.6 & 5.4 & 3.23 & 76.08 & $\\dots$ \\\\\n",
       "\t7 & 1948-01-06T23:00Z & 1.8 & 10.4 & 6.75 & 90.33 & $\\dots$ \\\\\n",
       "\t8 & 1948-01-07T23:00Z & 3.5 & 9.6 & 5.76 & 73.0 & $\\dots$ \\\\\n",
       "\t9 & 1948-01-08T23:00Z & 1.9 & 5.6 & 3.43 & 73.75 & $\\dots$ \\\\\n",
       "\t10 & 1948-01-09T23:00Z & 2.5 & 8.5 & 4.87 & 72.17 & $\\dots$ \\\\\n",
       "\t11 & 1948-01-10T23:00Z & 2.6 & 7.3 & 4.47 & 79.92 & $\\dots$ \\\\\n",
       "\t12 & 1948-01-11T23:00Z & 2.4 & 9.5 & 6.89 & 80.13 & $\\dots$ \\\\\n",
       "\t13 & 1948-01-12T23:00Z & 6.6 & 12.1 & 10.14 & 84.58 & $\\dots$ \\\\\n",
       "\t14 & 1948-01-13T23:00Z & 1.6 & 11.7 & 5.06 & 90.71 & $\\dots$ \\\\\n",
       "\t15 & 1948-01-14T23:00Z & 1.6 & 5.2 & 3.35 & 91.67 & $\\dots$ \\\\\n",
       "\t16 & 1948-01-15T23:00Z & 0.5 & 2.6 & 1.73 & 89.25 & $\\dots$ \\\\\n",
       "\t17 & 1948-01-16T23:00Z & -1.1 & 2.1 & 1.09 & 87.5 & $\\dots$ \\\\\n",
       "\t18 & 1948-01-17T23:00Z & 0.0 & 4.3 & 2.24 & 81.08 & $\\dots$ \\\\\n",
       "\t19 & 1948-01-18T23:00Z & 0.9 & 4.3 & 2.3 & 86.75 & $\\dots$ \\\\\n",
       "\t20 & 1948-01-19T23:00Z & -0.7 & 2.3 & 1.08 & 83.29 & $\\dots$ \\\\\n",
       "\t21 & 1948-01-20T23:00Z & -1.6 & -0.1 & -0.64 & 73.79 & $\\dots$ \\\\\n",
       "\t22 & 1948-01-21T23:00Z & -1.6 & 2.3 & 0.26 & 83.54 & $\\dots$ \\\\\n",
       "\t23 & 1948-01-22T23:00Z & -0.7 & 5.1 & 1.74 & 81.13 & $\\dots$ \\\\\n",
       "\t24 & 1948-01-23T23:00Z & 0.4 & 3.0 & 1.52 & 90.5 & $\\dots$ \\\\\n",
       "\t$\\dots$ & $\\dots$ & $\\dots$ & $\\dots$ & $\\dots$ & $\\dots$ &  \\\\\n",
       "\\end{tabular}\n"
      ],
      "text/plain": [
       "\u001b[1m27062×11 DataFrame\u001b[0m\n",
       "\u001b[1m   Row \u001b[0m│\u001b[1m Zeit              \u001b[0m\u001b[1m Temperatur_Min \u001b[0m\u001b[1m Temperatur_Max \u001b[0m\u001b[1m Temperatur \u001b[0m\u001b[1m Luftfe\u001b[0m ⋯\n",
       "       │\u001b[90m String31          \u001b[0m\u001b[90m Float64        \u001b[0m\u001b[90m Float64        \u001b[0m\u001b[90m Float64    \u001b[0m\u001b[90m Float6\u001b[0m ⋯\n",
       "───────┼────────────────────────────────────────────────────────────────────────\n",
       "     1 │ 1947-12-31T23:00Z            -2.6             2.9        0.27         ⋯\n",
       "     2 │ 1948-01-01T23:00Z             2.8            10.0        6.46\n",
       "     3 │ 1948-01-02T23:00Z            10.7            12.4       11.7\n",
       "     4 │ 1948-01-03T23:00Z             5.5            11.7        9.81\n",
       "     5 │ 1948-01-04T23:00Z             4.7            11.8        7.88         ⋯\n",
       "     6 │ 1948-01-05T23:00Z             1.6             5.4        3.23\n",
       "     7 │ 1948-01-06T23:00Z             1.8            10.4        6.75\n",
       "     8 │ 1948-01-07T23:00Z             3.5             9.6        5.76\n",
       "   ⋮   │         ⋮                ⋮               ⋮             ⋮              ⋱\n",
       " 27056 │ 2022-01-26T23:00Z            -1.0             3.6        0.25         ⋯\n",
       " 27057 │ 2022-01-27T23:00Z             2.4             6.1        3.4\n",
       " 27058 │ 2022-01-28T23:00Z             2.2             6.6        3.88\n",
       " 27059 │ 2022-01-29T23:00Z             0.9             6.8        4.79\n",
       " 27060 │ 2022-01-30T23:00Z             0.7             4.0        2.55         ⋯\n",
       " 27061 │ 2022-01-31T23:00Z             1.6             5.8        2.93\n",
       " 27062 │ 2022-02-01T23:00Z             3.0             8.3        5.65\n",
       "\u001b[36m                                                7 columns and 27047 rows omitted\u001b[0m"
      ]
     },
     "metadata": {},
     "output_type": "display_data"
    }
   ],
   "source": [
    "data = DataFrame(CSV.File(\"dc.csv\",normalizenames = true))"
   ]
  },
  {
   "cell_type": "markdown",
   "metadata": {},
   "source": [
    "Note: If not all columns are displayed, you can change the number of vertically displayed characters in a jupyter notebook by the command: `ENV[\"COLUMNS\"] = 250`. The default value is 100, but can be increased to a number that fits well to your screen. "
   ]
  },
  {
   "cell_type": "markdown",
   "metadata": {},
   "source": [
    "### Comment: \n",
    "Observing the DataFrame presented above, it's evident that this data set is messy. Incorrect type detection, numerous missing values, incomplete records for the year 2022, German column names... To effectively engage with this data, necessary trimming and adjustments are imperative. This procedure, known as data cleaning, can be quite challenging but is an indispensable aspect of working with real world data. Consequently, this course will not bypass this crucial step; instead, it will equip you with essential techniques to navigate this process."
   ]
  },
  {
   "cell_type": "code",
   "execution_count": 6,
   "metadata": {},
   "outputs": [],
   "source": [
    "ENV[\"COLUMNS\"] = 350;"
   ]
  },
  {
   "cell_type": "markdown",
   "metadata": {},
   "source": [
    "### 2. Chained operations\n",
    "\n",
    "Chained operations on the same data set are quite common in data analysis. The `@chain` macro from the `chain` package allows us to use a more compact and readable syntax :\n",
    "\n",
    "``` julia\n",
    "# 1.nested version\n",
    "\n",
    "modified_data = operation3(operation2(operation1(data,...),...),...)\n",
    "\n",
    "# 2. which could be written out as \n",
    "\n",
    "modified_data = operation1(data,...)\n",
    "modified_data = operation2(modified_data,...)\n",
    "modified_data = operation3(modified_data,...)\n",
    "\n",
    "\n",
    "# 3. which is the same as: \n",
    "\n",
    "modified_data = @chain data begin\n",
    "    operation1(...)\n",
    "    operation2(...)\n",
    "    operation3(...)\n",
    "end\n",
    "    \n",
    "```"
   ]
  },
  {
   "cell_type": "markdown",
   "metadata": {},
   "source": [
    "To give you a short example below. Firstly an array named hans is created with the `collect()` function. Then the first operation is the `cos.()` which is applied elementwise on that array. Then as the second operation the array is squared with `.^2`. The third operation is to `round.()` the elements to the next integer. And the fourth and last operation is to make a line plot with the `lines()` function from `CairoMakie`. "
   ]
  },
  {
   "cell_type": "code",
   "execution_count": 7,
   "metadata": {},
   "outputs": [],
   "source": [
    "hans = collect(1:0.01:8);"
   ]
  },
  {
   "cell_type": "markdown",
   "metadata": {},
   "source": [
    "The first version is quite hard to read, as the order of execution goes from the inside out. "
   ]
  },
  {
   "cell_type": "code",
   "execution_count": 8,
   "metadata": {},
   "outputs": [
    {
     "data": {
      "image/png": "[encoded data removed]"
     },
     "metadata": {},
     "output_type": "display_data"
    }
   ],
   "source": [
    "lines(round.(Int,cos.(hans).^2))"
   ]
  },
  {
   "cell_type": "markdown",
   "metadata": {},
   "source": [
    "The second version has the disadvantage, that intermediate variables have to be created that are passed on to the next operation. "
   ]
  },
  {
   "cell_type": "code",
   "execution_count": 9,
   "metadata": {},
   "outputs": [
    {
     "ename": "UndefVarError",
     "evalue": "UndefVarError: `a` not defined",
     "output_type": "error",
     "traceback": [
      "UndefVarError: `a` not defined\n"
     ]
    }
   ],
   "source": [
    "hans1 = cos.(hans)\n",
    "hans2  = hans1.^2\n",
    "hans3 = round.(Int,hans2)\n",
    "lines(hans3)\n",
    "a\n"
   ]
  },
  {
   "cell_type": "markdown",
   "metadata": {},
   "source": [
    "The `@chain` version solves both problems, as no intermediate variables have to be created and the order of execution goes from top to bottom, which makes it very readable. Two key feature of `@chain` stand out, if the variable thats passed through is the first argument of a function you can just omit it. And if its not the first argument of a function, you can replace it with an underscore `_`. "
   ]
  },
  {
   "cell_type": "code",
   "execution_count": 10,
   "metadata": {},
   "outputs": [
    {
     "data": {
      "image/png": "[encoded data removed]"
     },
     "metadata": {},
     "output_type": "display_data"
    }
   ],
   "source": [
    "@chain hans begin\n",
    "    cos.()\n",
    "    _.^2\n",
    "    round.(Int,_)\n",
    "    lines()\n",
    "end"
   ]
  },
  {
   "cell_type": "markdown",
   "metadata": {},
   "source": [
    "Note: `Macros` are a special and very powerful part of the metaprogramming capabilities of Julia. You have already used metaprogramming in the import export notebook, where strings have been evaluated as Julia sourcecode. Macros take this concept one step futher and generate and execute source code during runtime. In the example above the `@chain` macro in the third case takes the three operations/functions as input and then generates and runs the code as shown in the first nested case. \n",
    "\n",
    "This makes macros very powerful as they can generate and instantly execute basically anything, from single functions, complex nested functions, data structures, whole sub-programs, ... . If not mentioned otherwise all of the macros you will see in this course can be used in a similar way as functions. However, if you use different macros in your own coding, you should always make sure you know what they are doing.   \n"
   ]
  },
  {
   "cell_type": "markdown",
   "metadata": {},
   "source": [
    "#### 2.1 Detect dates "
   ]
  },
  {
   "cell_type": "markdown",
   "metadata": {},
   "source": [
    "Not all data types are detected correctly in this data set. The `Datum` column has been interpreted as a `String`, but should be interpreted as a `Date` object from the `Dates` package. \n",
    "To do this, you first have to replace the delimiter `/` with `-` and then call the `Date()` function on the `String`. It is possible to do this step by step or in one step with two nested functions."
   ]
  },
  {
   "cell_type": "code",
   "execution_count": 11,
   "metadata": {},
   "outputs": [
    {
     "data": {
      "text/html": [
       "<div><div style = \"float: left;\"><span>27062×11 DataFrame</span></div><div style = \"float: right;\"><span style = \"font-style: italic;\">27037 rows omitted</span></div><div style = \"clear: both;\"></div></div><div class = \"data-frame\" style = \"overflow-x: scroll;\"><table class = \"data-frame\" style = \"margin-bottom: 6px;\"><thead><tr class = \"header\"><th class = \"rowNumber\" style = \"font-weight: bold; text-align: right;\">Row</th><th style = \"text-align: left;\">Zeit</th><th style = \"text-align: left;\">Temperatur_Min</th><th style = \"text-align: left;\">Temperatur_Max</th><th style = \"text-align: left;\">Temperatur</th><th style = \"text-align: left;\">Luftfeuchtigkeit</th><th style = \"text-align: left;\">Niederschlag</th><th style = \"text-align: left;\">Niederschlagsart</th><th style = \"text-align: left;\">Bedeckung</th><th style = \"text-align: left;\">Sonnenscheindauer</th><th style = \"text-align: left;\">Datum</th><th style = \"text-align: left;\">Kategorie</th></tr><tr class = \"subheader headerLastRow\"><th class = \"rowNumber\" style = \"font-weight: bold; text-align: right;\"></th><th title = \"String31\" style = \"text-align: left;\">String31</th><th title = \"Float64\" style = \"text-align: left;\">Float64</th><th title = \"Float64\" style = \"text-align: left;\">Float64</th><th title = \"Float64\" style = \"text-align: left;\">Float64</th><th title = \"Float64\" style = \"text-align: left;\">Float64</th><th title = \"Float64\" style = \"text-align: left;\">Float64</th><th title = \"Union{Missing, String7}\" style = \"text-align: left;\">String7?</th><th title = \"Float64\" style = \"text-align: left;\">Float64</th><th title = \"Int64\" style = \"text-align: left;\">Int64</th><th title = \"Date\" style = \"text-align: left;\">Date</th><th title = \"String31\" style = \"text-align: left;\">String31</th></tr></thead><tbody><tr><td class = \"rowNumber\" style = \"font-weight: bold; text-align: right;\">1</td><td style = \"text-align: left;\">1947-12-31T23:00Z</td><td style = \"text-align: right;\">-2.6</td><td style = \"text-align: right;\">2.9</td><td style = \"text-align: right;\">0.27</td><td style = \"text-align: right;\">88.91</td><td style = \"text-align: right;\">0.0</td><td style = \"font-style: italic; text-align: left;\">missing</td><td style = \"text-align: right;\">NaN</td><td style = \"text-align: right;\">0</td><td style = \"text-align: left;\">1948-01-01</td><td style = \"text-align: left;\">Overcast</td></tr><tr><td class = \"rowNumber\" style = \"font-weight: bold; text-align: right;\">2</td><td style = \"text-align: left;\">1948-01-01T23:00Z</td><td style = \"text-align: right;\">2.8</td><td style = \"text-align: right;\">10.0</td><td style = \"text-align: right;\">6.46</td><td style = \"text-align: right;\">91.46</td><td style = \"text-align: right;\">0.0</td><td style = \"font-style: italic; text-align: left;\">missing</td><td style = \"text-align: right;\">NaN</td><td style = \"text-align: right;\">0</td><td style = \"text-align: left;\">1948-01-02</td><td style = \"text-align: left;\">Overcast</td></tr><tr><td class = \"rowNumber\" style = \"font-weight: bold; text-align: right;\">3</td><td style = \"text-align: left;\">1948-01-02T23:00Z</td><td style = \"text-align: right;\">10.7</td><td style = \"text-align: right;\">12.4</td><td style = \"text-align: right;\">11.7</td><td style = \"text-align: right;\">89.08</td><td style = \"text-align: right;\">0.0</td><td style = \"font-style: italic; text-align: left;\">missing</td><td style = \"text-align: right;\">NaN</td><td style = \"text-align: right;\">0</td><td style = \"text-align: left;\">1948-01-03</td><td style = \"text-align: left;\">Overcast</td></tr><tr><td class = \"rowNumber\" style = \"font-weight: bold; text-align: right;\">4</td><td style = \"text-align: left;\">1948-01-03T23:00Z</td><td style = \"text-align: right;\">5.5</td><td style = \"text-align: right;\">11.7</td><td style = \"text-align: right;\">9.81</td><td style = \"text-align: right;\">78.96</td><td style = \"text-align: right;\">0.0</td><td style = \"font-style: italic; text-align: left;\">missing</td><td style = \"text-align: right;\">NaN</td><td style = \"text-align: right;\">0</td><td style = \"text-align: left;\">1948-01-04</td><td style = \"text-align: left;\">Overcast</td></tr><tr><td class = \"rowNumber\" style = \"font-weight: bold; text-align: right;\">5</td><td style = \"text-align: left;\">1948-01-04T23:00Z</td><td style = \"text-align: right;\">4.7</td><td style = \"text-align: right;\">11.8</td><td style = \"text-align: right;\">7.88</td><td style = \"text-align: right;\">80.33</td><td style = \"text-align: right;\">0.0</td><td style = \"font-style: italic; text-align: left;\">missing</td><td style = \"text-align: right;\">NaN</td><td style = \"text-align: right;\">0</td><td style = \"text-align: left;\">1948-01-05</td><td style = \"text-align: left;\">Overcast</td></tr><tr><td class = \"rowNumber\" style = \"font-weight: bold; text-align: right;\">6</td><td style = \"text-align: left;\">1948-01-05T23:00Z</td><td style = \"text-align: right;\">1.6</td><td style = \"text-align: right;\">5.4</td><td style = \"text-align: right;\">3.23</td><td style = \"text-align: right;\">76.08</td><td style = \"text-align: right;\">0.0</td><td style = \"font-style: italic; text-align: left;\">missing</td><td style = \"text-align: right;\">NaN</td><td style = \"text-align: right;\">0</td><td style = \"text-align: left;\">1948-01-06</td><td style = \"text-align: left;\">Overcast</td></tr><tr><td class = \"rowNumber\" style = \"font-weight: bold; text-align: right;\">7</td><td style = \"text-align: left;\">1948-01-06T23:00Z</td><td style = \"text-align: right;\">1.8</td><td style = \"text-align: right;\">10.4</td><td style = \"text-align: right;\">6.75</td><td style = \"text-align: right;\">90.33</td><td style = \"text-align: right;\">0.0</td><td style = \"font-style: italic; text-align: left;\">missing</td><td style = \"text-align: right;\">NaN</td><td style = \"text-align: right;\">0</td><td style = \"text-align: left;\">1948-01-07</td><td style = \"text-align: left;\">Overcast</td></tr><tr><td class = \"rowNumber\" style = \"font-weight: bold; text-align: right;\">8</td><td style = \"text-align: left;\">1948-01-07T23:00Z</td><td style = \"text-align: right;\">3.5</td><td style = \"text-align: right;\">9.6</td><td style = \"text-align: right;\">5.76</td><td style = \"text-align: right;\">73.0</td><td style = \"text-align: right;\">0.0</td><td style = \"font-style: italic; text-align: left;\">missing</td><td style = \"text-align: right;\">NaN</td><td style = \"text-align: right;\">0</td><td style = \"text-align: left;\">1948-01-08</td><td style = \"text-align: left;\">Overcast</td></tr><tr><td class = \"rowNumber\" style = \"font-weight: bold; text-align: right;\">9</td><td style = \"text-align: left;\">1948-01-08T23:00Z</td><td style = \"text-align: right;\">1.9</td><td style = \"text-align: right;\">5.6</td><td style = \"text-align: right;\">3.43</td><td style = \"text-align: right;\">73.75</td><td style = \"text-align: right;\">0.0</td><td style = \"font-style: italic; text-align: left;\">missing</td><td style = \"text-align: right;\">NaN</td><td style = \"text-align: right;\">0</td><td style = \"text-align: left;\">1948-01-09</td><td style = \"text-align: left;\">Overcast</td></tr><tr><td class = \"rowNumber\" style = \"font-weight: bold; text-align: right;\">10</td><td style = \"text-align: left;\">1948-01-09T23:00Z</td><td style = \"text-align: right;\">2.5</td><td style = \"text-align: right;\">8.5</td><td style = \"text-align: right;\">4.87</td><td style = \"text-align: right;\">72.17</td><td style = \"text-align: right;\">0.0</td><td style = \"font-style: italic; text-align: left;\">missing</td><td style = \"text-align: right;\">NaN</td><td style = \"text-align: right;\">0</td><td style = \"text-align: left;\">1948-01-10</td><td style = \"text-align: left;\">Overcast</td></tr><tr><td class = \"rowNumber\" style = \"font-weight: bold; text-align: right;\">11</td><td style = \"text-align: left;\">1948-01-10T23:00Z</td><td style = \"text-align: right;\">2.6</td><td style = \"text-align: right;\">7.3</td><td style = \"text-align: right;\">4.47</td><td style = \"text-align: right;\">79.92</td><td style = \"text-align: right;\">0.0</td><td style = \"font-style: italic; text-align: left;\">missing</td><td style = \"text-align: right;\">NaN</td><td style = \"text-align: right;\">0</td><td style = \"text-align: left;\">1948-01-11</td><td style = \"text-align: left;\">Overcast</td></tr><tr><td class = \"rowNumber\" style = \"font-weight: bold; text-align: right;\">12</td><td style = \"text-align: left;\">1948-01-11T23:00Z</td><td style = \"text-align: right;\">2.4</td><td style = \"text-align: right;\">9.5</td><td style = \"text-align: right;\">6.89</td><td style = \"text-align: right;\">80.13</td><td style = \"text-align: right;\">0.0</td><td style = \"font-style: italic; text-align: left;\">missing</td><td style = \"text-align: right;\">NaN</td><td style = \"text-align: right;\">0</td><td style = \"text-align: left;\">1948-01-12</td><td style = \"text-align: left;\">Overcast</td></tr><tr><td class = \"rowNumber\" style = \"font-weight: bold; text-align: right;\">13</td><td style = \"text-align: left;\">1948-01-12T23:00Z</td><td style = \"text-align: right;\">6.6</td><td style = \"text-align: right;\">12.1</td><td style = \"text-align: right;\">10.14</td><td style = \"text-align: right;\">84.58</td><td style = \"text-align: right;\">0.0</td><td style = \"font-style: italic; text-align: left;\">missing</td><td style = \"text-align: right;\">NaN</td><td style = \"text-align: right;\">0</td><td style = \"text-align: left;\">1948-01-13</td><td style = \"text-align: left;\">Overcast</td></tr><tr><td style = \"text-align: right;\">&vellip;</td><td style = \"text-align: right;\">&vellip;</td><td style = \"text-align: right;\">&vellip;</td><td style = \"text-align: right;\">&vellip;</td><td style = \"text-align: right;\">&vellip;</td><td style = \"text-align: right;\">&vellip;</td><td style = \"text-align: right;\">&vellip;</td><td style = \"text-align: right;\">&vellip;</td><td style = \"text-align: right;\">&vellip;</td><td style = \"text-align: right;\">&vellip;</td><td style = \"text-align: right;\">&vellip;</td><td style = \"text-align: right;\">&vellip;</td></tr><tr><td class = \"rowNumber\" style = \"font-weight: bold; text-align: right;\">27051</td><td style = \"text-align: left;\">2022-01-21T23:00Z</td><td style = \"text-align: right;\">2.8</td><td style = \"text-align: right;\">4.6</td><td style = \"text-align: right;\">3.73</td><td style = \"text-align: right;\">87.71</td><td style = \"text-align: right;\">0.2</td><td style = \"font-style: italic; text-align: left;\">Regen</td><td style = \"text-align: right;\">7.92</td><td style = \"text-align: right;\">0</td><td style = \"text-align: left;\">2022-01-22</td><td style = \"text-align: left;\">Rain</td></tr><tr><td class = \"rowNumber\" style = \"font-weight: bold; text-align: right;\">27052</td><td style = \"text-align: left;\">2022-01-22T23:00Z</td><td style = \"text-align: right;\">3.4</td><td style = \"text-align: right;\">5.2</td><td style = \"text-align: right;\">4.09</td><td style = \"text-align: right;\">81.5</td><td style = \"text-align: right;\">0.0</td><td style = \"font-style: italic; text-align: left;\">Regen</td><td style = \"text-align: right;\">8.0</td><td style = \"text-align: right;\">0</td><td style = \"text-align: left;\">2022-01-23</td><td style = \"text-align: left;\">Overcast</td></tr><tr><td class = \"rowNumber\" style = \"font-weight: bold; text-align: right;\">27053</td><td style = \"text-align: left;\">2022-01-23T23:00Z</td><td style = \"text-align: right;\">0.7</td><td style = \"text-align: right;\">4.0</td><td style = \"text-align: right;\">3.35</td><td style = \"text-align: right;\">81.17</td><td style = \"text-align: right;\">0.0</td><td style = \"font-style: italic; text-align: left;\">missing</td><td style = \"text-align: right;\">7.58</td><td style = \"text-align: right;\">0</td><td style = \"text-align: left;\">2022-01-24</td><td style = \"text-align: left;\">Overcast</td></tr><tr><td class = \"rowNumber\" style = \"font-weight: bold; text-align: right;\">27054</td><td style = \"text-align: left;\">2022-01-24T23:00Z</td><td style = \"text-align: right;\">-3.0</td><td style = \"text-align: right;\">0.4</td><td style = \"text-align: right;\">-0.84</td><td style = \"text-align: right;\">97.88</td><td style = \"text-align: right;\">0.0</td><td style = \"font-style: italic; text-align: left;\">missing</td><td style = \"text-align: right;\">5.29</td><td style = \"text-align: right;\">0</td><td style = \"text-align: left;\">2022-01-25</td><td style = \"text-align: left;\">Overcast</td></tr><tr><td class = \"rowNumber\" style = \"font-weight: bold; text-align: right;\">27055</td><td style = \"text-align: left;\">2022-01-25T23:00Z</td><td style = \"text-align: right;\">-0.1</td><td style = \"text-align: right;\">0.3</td><td style = \"text-align: right;\">0.03</td><td style = \"text-align: right;\">89.13</td><td style = \"text-align: right;\">0.0</td><td style = \"font-style: italic; text-align: left;\">Schnee</td><td style = \"text-align: right;\">7.96</td><td style = \"text-align: right;\">0</td><td style = \"text-align: left;\">2022-01-26</td><td style = \"text-align: left;\">Snow</td></tr><tr><td class = \"rowNumber\" style = \"font-weight: bold; text-align: right;\">27056</td><td style = \"text-align: left;\">2022-01-26T23:00Z</td><td style = \"text-align: right;\">-1.0</td><td style = \"text-align: right;\">3.6</td><td style = \"text-align: right;\">0.25</td><td style = \"text-align: right;\">88.29</td><td style = \"text-align: right;\">0.2</td><td style = \"font-style: italic; text-align: left;\">Regen</td><td style = \"text-align: right;\">7.88</td><td style = \"text-align: right;\">0</td><td style = \"text-align: left;\">2022-01-27</td><td style = \"text-align: left;\">Rain</td></tr><tr><td class = \"rowNumber\" style = \"font-weight: bold; text-align: right;\">27057</td><td style = \"text-align: left;\">2022-01-27T23:00Z</td><td style = \"text-align: right;\">2.4</td><td style = \"text-align: right;\">6.1</td><td style = \"text-align: right;\">3.4</td><td style = \"text-align: right;\">79.79</td><td style = \"text-align: right;\">0.0</td><td style = \"font-style: italic; text-align: left;\">Schnee</td><td style = \"text-align: right;\">6.04</td><td style = \"text-align: right;\">195</td><td style = \"text-align: left;\">2022-01-28</td><td style = \"text-align: left;\">Snow</td></tr><tr><td class = \"rowNumber\" style = \"font-weight: bold; text-align: right;\">27058</td><td style = \"text-align: left;\">2022-01-28T23:00Z</td><td style = \"text-align: right;\">2.2</td><td style = \"text-align: right;\">6.6</td><td style = \"text-align: right;\">3.88</td><td style = \"text-align: right;\">87.21</td><td style = \"text-align: right;\">0.4</td><td style = \"font-style: italic; text-align: left;\">Regen</td><td style = \"text-align: right;\">7.96</td><td style = \"text-align: right;\">0</td><td style = \"text-align: left;\">2022-01-29</td><td style = \"text-align: left;\">Rain</td></tr><tr><td class = \"rowNumber\" style = \"font-weight: bold; text-align: right;\">27059</td><td style = \"text-align: left;\">2022-01-29T23:00Z</td><td style = \"text-align: right;\">0.9</td><td style = \"text-align: right;\">6.8</td><td style = \"text-align: right;\">4.79</td><td style = \"text-align: right;\">67.63</td><td style = \"text-align: right;\">0.7</td><td style = \"font-style: italic; text-align: left;\">Regen</td><td style = \"text-align: right;\">6.58</td><td style = \"text-align: right;\">86</td><td style = \"text-align: left;\">2022-01-30</td><td style = \"text-align: left;\">Rain</td></tr><tr><td class = \"rowNumber\" style = \"font-weight: bold; text-align: right;\">27060</td><td style = \"text-align: left;\">2022-01-30T23:00Z</td><td style = \"text-align: right;\">0.7</td><td style = \"text-align: right;\">4.0</td><td style = \"text-align: right;\">2.55</td><td style = \"text-align: right;\">85.33</td><td style = \"text-align: right;\">5.5</td><td style = \"font-style: italic; text-align: left;\">Schnee</td><td style = \"text-align: right;\">7.33</td><td style = \"text-align: right;\">5</td><td style = \"text-align: left;\">2022-01-31</td><td style = \"text-align: left;\">Snow</td></tr><tr><td class = \"rowNumber\" style = \"font-weight: bold; text-align: right;\">27061</td><td style = \"text-align: left;\">2022-01-31T23:00Z</td><td style = \"text-align: right;\">1.6</td><td style = \"text-align: right;\">5.8</td><td style = \"text-align: right;\">2.93</td><td style = \"text-align: right;\">81.88</td><td style = \"text-align: right;\">1.4</td><td style = \"font-style: italic; text-align: left;\">Schnee</td><td style = \"text-align: right;\">7.54</td><td style = \"text-align: right;\">0</td><td style = \"text-align: left;\">2022-02-01</td><td style = \"text-align: left;\">Snow</td></tr><tr><td class = \"rowNumber\" style = \"font-weight: bold; text-align: right;\">27062</td><td style = \"text-align: left;\">2022-02-01T23:00Z</td><td style = \"text-align: right;\">3.0</td><td style = \"text-align: right;\">8.3</td><td style = \"text-align: right;\">5.65</td><td style = \"text-align: right;\">74.21</td><td style = \"text-align: right;\">1.3</td><td style = \"font-style: italic; text-align: left;\">Regen</td><td style = \"text-align: right;\">6.46</td><td style = \"text-align: right;\">205</td><td style = \"text-align: left;\">2022-02-02</td><td style = \"text-align: left;\">Rain</td></tr></tbody></table></div>"
      ],
      "text/latex": [
       "\\begin{tabular}{r|ccccccccccc}\n",
       "\t& Zeit & Temperatur\\_Min & Temperatur\\_Max & Temperatur & Luftfeuchtigkeit & Niederschlag & Niederschlagsart & Bedeckung & Sonnenscheindauer & Datum & Kategorie\\\\\n",
       "\t\\hline\n",
       "\t& String31 & Float64 & Float64 & Float64 & Float64 & Float64 & String7? & Float64 & Int64 & Date & String31\\\\\n",
       "\t\\hline\n",
       "\t1 & 1947-12-31T23:00Z & -2.6 & 2.9 & 0.27 & 88.91 & 0.0 & \\emph{missing} & NaN & 0 & 1948-01-01 & Overcast \\\\\n",
       "\t2 & 1948-01-01T23:00Z & 2.8 & 10.0 & 6.46 & 91.46 & 0.0 & \\emph{missing} & NaN & 0 & 1948-01-02 & Overcast \\\\\n",
       "\t3 & 1948-01-02T23:00Z & 10.7 & 12.4 & 11.7 & 89.08 & 0.0 & \\emph{missing} & NaN & 0 & 1948-01-03 & Overcast \\\\\n",
       "\t4 & 1948-01-03T23:00Z & 5.5 & 11.7 & 9.81 & 78.96 & 0.0 & \\emph{missing} & NaN & 0 & 1948-01-04 & Overcast \\\\\n",
       "\t5 & 1948-01-04T23:00Z & 4.7 & 11.8 & 7.88 & 80.33 & 0.0 & \\emph{missing} & NaN & 0 & 1948-01-05 & Overcast \\\\\n",
       "\t6 & 1948-01-05T23:00Z & 1.6 & 5.4 & 3.23 & 76.08 & 0.0 & \\emph{missing} & NaN & 0 & 1948-01-06 & Overcast \\\\\n",
       "\t7 & 1948-01-06T23:00Z & 1.8 & 10.4 & 6.75 & 90.33 & 0.0 & \\emph{missing} & NaN & 0 & 1948-01-07 & Overcast \\\\\n",
       "\t8 & 1948-01-07T23:00Z & 3.5 & 9.6 & 5.76 & 73.0 & 0.0 & \\emph{missing} & NaN & 0 & 1948-01-08 & Overcast \\\\\n",
       "\t9 & 1948-01-08T23:00Z & 1.9 & 5.6 & 3.43 & 73.75 & 0.0 & \\emph{missing} & NaN & 0 & 1948-01-09 & Overcast \\\\\n",
       "\t10 & 1948-01-09T23:00Z & 2.5 & 8.5 & 4.87 & 72.17 & 0.0 & \\emph{missing} & NaN & 0 & 1948-01-10 & Overcast \\\\\n",
       "\t11 & 1948-01-10T23:00Z & 2.6 & 7.3 & 4.47 & 79.92 & 0.0 & \\emph{missing} & NaN & 0 & 1948-01-11 & Overcast \\\\\n",
       "\t12 & 1948-01-11T23:00Z & 2.4 & 9.5 & 6.89 & 80.13 & 0.0 & \\emph{missing} & NaN & 0 & 1948-01-12 & Overcast \\\\\n",
       "\t13 & 1948-01-12T23:00Z & 6.6 & 12.1 & 10.14 & 84.58 & 0.0 & \\emph{missing} & NaN & 0 & 1948-01-13 & Overcast \\\\\n",
       "\t14 & 1948-01-13T23:00Z & 1.6 & 11.7 & 5.06 & 90.71 & 0.0 & \\emph{missing} & NaN & 0 & 1948-01-14 & Overcast \\\\\n",
       "\t15 & 1948-01-14T23:00Z & 1.6 & 5.2 & 3.35 & 91.67 & 0.0 & \\emph{missing} & NaN & 0 & 1948-01-15 & Overcast \\\\\n",
       "\t16 & 1948-01-15T23:00Z & 0.5 & 2.6 & 1.73 & 89.25 & 0.0 & \\emph{missing} & NaN & 0 & 1948-01-16 & Overcast \\\\\n",
       "\t17 & 1948-01-16T23:00Z & -1.1 & 2.1 & 1.09 & 87.5 & 0.0 & \\emph{missing} & NaN & 0 & 1948-01-17 & Overcast \\\\\n",
       "\t18 & 1948-01-17T23:00Z & 0.0 & 4.3 & 2.24 & 81.08 & 0.0 & \\emph{missing} & NaN & 0 & 1948-01-18 & Overcast \\\\\n",
       "\t19 & 1948-01-18T23:00Z & 0.9 & 4.3 & 2.3 & 86.75 & 0.0 & \\emph{missing} & NaN & 0 & 1948-01-19 & Overcast \\\\\n",
       "\t20 & 1948-01-19T23:00Z & -0.7 & 2.3 & 1.08 & 83.29 & 0.0 & \\emph{missing} & NaN & 0 & 1948-01-20 & Overcast \\\\\n",
       "\t21 & 1948-01-20T23:00Z & -1.6 & -0.1 & -0.64 & 73.79 & 0.0 & \\emph{missing} & NaN & 0 & 1948-01-21 & Overcast \\\\\n",
       "\t22 & 1948-01-21T23:00Z & -1.6 & 2.3 & 0.26 & 83.54 & 0.0 & \\emph{missing} & NaN & 0 & 1948-01-22 & Overcast \\\\\n",
       "\t23 & 1948-01-22T23:00Z & -0.7 & 5.1 & 1.74 & 81.13 & 0.0 & \\emph{missing} & NaN & 0 & 1948-01-23 & Overcast \\\\\n",
       "\t24 & 1948-01-23T23:00Z & 0.4 & 3.0 & 1.52 & 90.5 & 0.0 & \\emph{missing} & NaN & 0 & 1948-01-24 & Overcast \\\\\n",
       "\t$\\dots$ & $\\dots$ & $\\dots$ & $\\dots$ & $\\dots$ & $\\dots$ & $\\dots$ & $\\dots$ & $\\dots$ & $\\dots$ & $\\dots$ & $\\dots$ \\\\\n",
       "\\end{tabular}\n"
      ],
      "text/plain": [
       "\u001b[1m27062×11 DataFrame\u001b[0m\n",
       "\u001b[1m   Row \u001b[0m│\u001b[1m Zeit              \u001b[0m\u001b[1m Temperatur_Min \u001b[0m\u001b[1m Temperatur_Max \u001b[0m\u001b[1m Temperatur \u001b[0m\u001b[1m Luftfeuchtigkeit \u001b[0m\u001b[1m Niederschlag \u001b[0m\u001b[1m Niederschlagsart \u001b[0m\u001b[1m Bedeckung \u001b[0m\u001b[1m Sonnenscheindauer \u001b[0m\u001b[1m Datum      \u001b[0m\u001b[1m Kategorie \u001b[0m\n",
       "       │\u001b[90m String31          \u001b[0m\u001b[90m Float64        \u001b[0m\u001b[90m Float64        \u001b[0m\u001b[90m Float64    \u001b[0m\u001b[90m Float64          \u001b[0m\u001b[90m Float64      \u001b[0m\u001b[90m String7?         \u001b[0m\u001b[90m Float64   \u001b[0m\u001b[90m Int64             \u001b[0m\u001b[90m Date       \u001b[0m\u001b[90m String31  \u001b[0m\n",
       "───────┼──────────────────────────────────────────────────────────────────────────────────────────────────────────────────────────────────────────────────────────────────────\n",
       "     1 │ 1947-12-31T23:00Z            -2.6             2.9        0.27             88.91           0.0 \u001b[90m missing          \u001b[0m    NaN                     0  1948-01-01  Overcast\n",
       "     2 │ 1948-01-01T23:00Z             2.8            10.0        6.46             91.46           0.0 \u001b[90m missing          \u001b[0m    NaN                     0  1948-01-02  Overcast\n",
       "     3 │ 1948-01-02T23:00Z            10.7            12.4       11.7              89.08           0.0 \u001b[90m missing          \u001b[0m    NaN                     0  1948-01-03  Overcast\n",
       "     4 │ 1948-01-03T23:00Z             5.5            11.7        9.81             78.96           0.0 \u001b[90m missing          \u001b[0m    NaN                     0  1948-01-04  Overcast\n",
       "     5 │ 1948-01-04T23:00Z             4.7            11.8        7.88             80.33           0.0 \u001b[90m missing          \u001b[0m    NaN                     0  1948-01-05  Overcast\n",
       "     6 │ 1948-01-05T23:00Z             1.6             5.4        3.23             76.08           0.0 \u001b[90m missing          \u001b[0m    NaN                     0  1948-01-06  Overcast\n",
       "     7 │ 1948-01-06T23:00Z             1.8            10.4        6.75             90.33           0.0 \u001b[90m missing          \u001b[0m    NaN                     0  1948-01-07  Overcast\n",
       "     8 │ 1948-01-07T23:00Z             3.5             9.6        5.76             73.0            0.0 \u001b[90m missing          \u001b[0m    NaN                     0  1948-01-08  Overcast\n",
       "   ⋮   │         ⋮                ⋮               ⋮             ⋮              ⋮               ⋮               ⋮              ⋮              ⋮              ⋮           ⋮\n",
       " 27056 │ 2022-01-26T23:00Z            -1.0             3.6        0.25             88.29           0.2  Regen                  7.88                  0  2022-01-27  Rain\n",
       " 27057 │ 2022-01-27T23:00Z             2.4             6.1        3.4              79.79           0.0  Schnee                 6.04                195  2022-01-28  Snow\n",
       " 27058 │ 2022-01-28T23:00Z             2.2             6.6        3.88             87.21           0.4  Regen                  7.96                  0  2022-01-29  Rain\n",
       " 27059 │ 2022-01-29T23:00Z             0.9             6.8        4.79             67.63           0.7  Regen                  6.58                 86  2022-01-30  Rain\n",
       " 27060 │ 2022-01-30T23:00Z             0.7             4.0        2.55             85.33           5.5  Schnee                 7.33                  5  2022-01-31  Snow\n",
       " 27061 │ 2022-01-31T23:00Z             1.6             5.8        2.93             81.88           1.4  Schnee                 7.54                  0  2022-02-01  Snow\n",
       " 27062 │ 2022-02-01T23:00Z             3.0             8.3        5.65             74.21           1.3  Regen                  6.46                205  2022-02-02  Rain\n",
       "\u001b[36m                                                                                                                                                            27047 rows omitted\u001b[0m"
      ]
     },
     "metadata": {},
     "output_type": "display_data"
    }
   ],
   "source": [
    "#cast datum to date\n",
    "data.Datum = @chain data.Datum begin\n",
    "    # as columns of DataFrames are arrays, you need to use the broadcasted `.` version of function which normally only works on scalar types\n",
    "    replace.(\"/\" => \"-\") \n",
    "    Date.()\n",
    "end\n",
    "data"
   ]
  },
  {
   "cell_type": "markdown",
   "metadata": {},
   "source": [
    "### 3. Cleaning and structuring data"
   ]
  },
  {
   "cell_type": "markdown",
   "metadata": {},
   "source": [
    "In order to make your life easier and to stay consistent with the used language, let's rename the columns to shorter English terms. The function `rename!` toegther with the `@chain` macro can be used for this purpose as well. Column names are `Symbols` in Julia, these are special types of `Strings` that don't allow mutations and start with an `:`. "
   ]
  },
  {
   "cell_type": "code",
   "execution_count": 3,
   "metadata": {},
   "outputs": [
    {
     "ename": "UndefVarError",
     "evalue": "UndefVarError: `data` not defined",
     "output_type": "error",
     "traceback": [
      "UndefVarError: `data` not defined\n",
      "\n",
      "Stacktrace:\n",
      " [1] top-level scope\n",
      "   @ c:\\Users\\Andreas\\Dropbox\\phd\\Courses\\WS2022_Julia\\Part_8_Data_Analysis\\Julia_Data_Analysis.ipynb:1"
     ]
    }
   ],
   "source": [
    "@chain data begin\n",
    "    rename!(:Temperatur_Min => :temp_min,:Temperatur_Max => :temp_max ,:Luftfeuchtigkeit => :humidity, :Niederschlag => :rain, :Niederschlagsart =>:preci_type)\n",
    "    rename!(:Temperatur => :temp,:Bedeckung => :cover, :Sonnenscheindauer => :sun, :Datum => :date, :Kategorie => :weather)\n",
    "end\n"
   ]
  },
  {
   "cell_type": "markdown",
   "metadata": {},
   "source": [
    "Let's add columns for year, month ,day and a combines colum for days and month. This can be done using the function `year(), month(), day() and monthday()` on the `Date` column and the `@transform` macro from `DataFramesMeta`. The `@transform` macro creates a new DataFrame which contains the old DataFrame together with newly defined columns. The new columns are often calculated by applying some functions on already existing colums. If you are applying a function to each element of a column you need to use the broadcasted (`.`) version of the function. "
   ]
  },
  {
   "cell_type": "code",
   "execution_count": 4,
   "metadata": {},
   "outputs": [
    {
     "ename": "UndefVarError",
     "evalue": "UndefVarError: `data` not defined",
     "output_type": "error",
     "traceback": [
      "UndefVarError: `data` not defined\n",
      "\n",
      "Stacktrace:\n",
      " [1] top-level scope\n",
      "   @ c:\\Users\\Andreas\\Dropbox\\phd\\Courses\\WS2022_Julia\\Part_8_Data_Analysis\\Julia_Data_Analysis.ipynb:2"
     ]
    }
   ],
   "source": [
    "#add columns for year, month, day and day of month\n",
    "data = @chain data begin \n",
    "    @transform(:year = year.(:date))\n",
    "    @transform(:month = month.(:date))\n",
    "    @transform(:day = day.(:date))\n",
    "    @transform(:monthday = monthday.(:date))\n",
    "end\n",
    "data"
   ]
  },
  {
   "cell_type": "markdown",
   "metadata": {},
   "source": [
    "In order to make the following data analysis easier, let's cut out all the 29th of February and the incomplete year 2022, so that every year is 365 days long (shame on the authors for not finding a better workaround;). The `@subset` macro  from the `DataFramesMeta` package can be used here. It creates a subset of the input data which fullfils a given condition. "
   ]
  },
  {
   "cell_type": "code",
   "execution_count": 5,
   "metadata": {},
   "outputs": [
    {
     "ename": "UndefVarError",
     "evalue": "UndefVarError: `data` not defined",
     "output_type": "error",
     "traceback": [
      "UndefVarError: `data` not defined\n",
      "\n",
      "Stacktrace:\n",
      " [1] top-level scope\n",
      "   @ c:\\Users\\Andreas\\Dropbox\\phd\\Courses\\WS2022_Julia\\Part_8_Data_Analysis\\Julia_Data_Analysis.ipynb:1"
     ]
    }
   ],
   "source": [
    "data.monthday = string.(data.monthday)\n",
    "# cut february the 29th in every year and the year 2022 altogether to make data analysis easier \n",
    "data = @subset(data,:monthday .!= \"(2, 29)\",:year .!= 2022)"
   ]
  },
  {
   "cell_type": "markdown",
   "metadata": {},
   "source": [
    "### 4. Plotting"
   ]
  },
  {
   "cell_type": "markdown",
   "metadata": {},
   "source": [
    "Now we can plot the average Temperatur on each day in Würzburg since 1948 using `CairoMakie`. Each column of a `DataFrame` is a vector which can be accessed with the syntax `DataFrame.column_name` and directly used as x and y input for plotting. "
   ]
  },
  {
   "cell_type": "code",
   "execution_count": 6,
   "metadata": {},
   "outputs": [
    {
     "ename": "UndefVarError",
     "evalue": "UndefVarError: `data` not defined",
     "output_type": "error",
     "traceback": [
      "UndefVarError: `data` not defined\n",
      "\n",
      "Stacktrace:\n",
      " [1] top-level scope\n",
      "   @ c:\\Users\\Andreas\\Dropbox\\phd\\Courses\\WS2022_Julia\\Part_8_Data_Analysis\\Julia_Data_Analysis.ipynb:6"
     ]
    }
   ],
   "source": [
    "#set a nice looking theme\n",
    "set_theme!(theme_ggplot2())\n",
    "f1 = Figure()\n",
    "#custom axis where a datapoint every 10 years is mapped to its corresponding year. For a refresh on \n",
    "#custom axis in CairoMakie revisit the chapter on Plotting. \n",
    "ax1_1 = Axis(f1[1, 1],xticks = (1:10*365:nrow(data), string.(data.year)[1:10*365:nrow(data)] ))\n",
    "line1 = lines!(ax1_1,data.temp)\n",
    "f1"
   ]
  },
  {
   "cell_type": "markdown",
   "metadata": {},
   "source": [
    "Or the humidity on each day. "
   ]
  },
  {
   "cell_type": "code",
   "execution_count": 7,
   "metadata": {},
   "outputs": [
    {
     "ename": "UndefVarError",
     "evalue": "UndefVarError: `data` not defined",
     "output_type": "error",
     "traceback": [
      "UndefVarError: `data` not defined\n",
      "\n",
      "Stacktrace:\n",
      " [1] top-level scope\n",
      "   @ c:\\Users\\Andreas\\Dropbox\\phd\\Courses\\WS2022_Julia\\Part_8_Data_Analysis\\Julia_Data_Analysis.ipynb:2"
     ]
    }
   ],
   "source": [
    "f2 = Figure()\n",
    "ax2_1 = Axis(f2[1, 1],xticks = (1:10*365:nrow(data), string.(data.year)[1:10*365:nrow(data)] ))\n",
    "line2 = lines!(ax2_1,data.humidity)\n",
    "f2"
   ]
  },
  {
   "cell_type": "markdown",
   "metadata": {},
   "source": [
    "Plots with 27010 oscillating datapoints are not very useful. Therefore, some manipulations on the data have to be performed to extract interesting features. \n",
    "For example, what is the average over all datapoints? For this purpose, the `@combine` macro from the `DataFramesMeta` package together with the `mean` function from the `Statistics` package can be used to  create a new DataFrame only containing that information."
   ]
  },
  {
   "cell_type": "code",
   "execution_count": 8,
   "metadata": {},
   "outputs": [
    {
     "ename": "UndefVarError",
     "evalue": "UndefVarError: `data` not defined",
     "output_type": "error",
     "traceback": [
      "UndefVarError: `data` not defined\n",
      "\n",
      "Stacktrace:\n",
      " [1] top-level scope\n",
      "   @ C:\\Users\\Andreas\\.julia\\packages\\DataFramesMeta\\hLirN\\src\\macros.jl:2133"
     ]
    }
   ],
   "source": [
    "data_sum = @combine(data,:avg_temp = mean(:temp),:avg_temp_max = mean(:temp_max),:avg_temp_min = mean(:temp_min),:avg_humi = mean(:humidity))"
   ]
  },
  {
   "cell_type": "markdown",
   "metadata": {},
   "source": [
    "Now you know the average temperature over all years, but wouldn't it also be interesting to know the average temperature per year ? For this case, you can use the `groupby(DataFrame,:columnname )` function which creates a `GroupedDataFrame`. You can think of a `GroupedDataFrame` as an ordered dictionary of `sub-DataFrames`.  All `sub-DataFrames` in one group share the same value in the specified column name."
   ]
  },
  {
   "cell_type": "code",
   "execution_count": 9,
   "metadata": {},
   "outputs": [
    {
     "ename": "UndefVarError",
     "evalue": "UndefVarError: `data` not defined",
     "output_type": "error",
     "traceback": [
      "UndefVarError: `data` not defined\n",
      "\n",
      "Stacktrace:\n",
      " [1] top-level scope\n",
      "   @ c:\\Users\\Andreas\\Dropbox\\phd\\Courses\\WS2022_Julia\\Part_8_Data_Analysis\\Julia_Data_Analysis.ipynb:1"
     ]
    }
   ],
   "source": [
    "g_data_year = groupby(data,:year) "
   ]
  },
  {
   "cell_type": "markdown",
   "metadata": {},
   "source": [
    "In this case a `GroupedDataFrame` with 74 groups is returned, one for each year between 1948 and 2021."
   ]
  },
  {
   "cell_type": "markdown",
   "metadata": {},
   "source": [
    "The `@combine` macro can be used on this `GroupedDataFrame` as well and creates a new DataFrame with 74 rows, one for each group/year. The `mean` function from the `Statistics` package calculates the mean of the given values. "
   ]
  },
  {
   "cell_type": "code",
   "execution_count": 10,
   "metadata": {},
   "outputs": [
    {
     "ename": "UndefVarError",
     "evalue": "UndefVarError: `g_data_year` not defined",
     "output_type": "error",
     "traceback": [
      "UndefVarError: `g_data_year` not defined\n",
      "\n",
      "Stacktrace:\n",
      " [1] top-level scope\n",
      "   @ C:\\Users\\Andreas\\.julia\\packages\\DataFramesMeta\\hLirN\\src\\macros.jl:2133"
     ]
    }
   ],
   "source": [
    "temp_per_year = @combine(g_data_year,:avg_temp = mean(:temp),:avg_temp_max = mean(:temp_max),:avg_temp_min = mean(:temp_min),:avg_humi = mean(:humidity))"
   ]
  },
  {
   "cell_type": "markdown",
   "metadata": {},
   "source": [
    "Let's plot this together with the average temp over all years. "
   ]
  },
  {
   "cell_type": "code",
   "execution_count": 11,
   "metadata": {},
   "outputs": [
    {
     "ename": "UndefVarError",
     "evalue": "UndefVarError: `temp_per_year` not defined",
     "output_type": "error",
     "traceback": [
      "UndefVarError: `temp_per_year` not defined\n",
      "\n",
      "Stacktrace:\n",
      " [1] top-level scope\n",
      "   @ c:\\Users\\Andreas\\Dropbox\\phd\\Courses\\WS2022_Julia\\Part_8_Data_Analysis\\Julia_Data_Analysis.ipynb:3"
     ]
    }
   ],
   "source": [
    "f3 = Figure(resolution = ( 1500,500))\n",
    "ax3_1 = Axis(f3[1, 1],title = \"Average Temperatur\") \n",
    "line3_1_1 = lines!(ax3_1, temp_per_year.year,temp_per_year.avg_temp)\n",
    "line3_1_2 = hlines!(ax3_1, data_sum.avg_temp,color = \"red\", linestyle = :dot)\n",
    "\n",
    "ax3_2 = Axis(f3[1, 2],title = \"Average Temperatur Max\") \n",
    "line3_2_1 = lines!(ax3_2, temp_per_year.year,temp_per_year.avg_temp_max)\n",
    "line3_2_2 = hlines!(ax3_2, data_sum.avg_temp_max,color = \"red\",linestyle = :dot)\n",
    "\n",
    "ax3_3 = Axis(f3[1, 3],title = \"Average Temperatur Min\") \n",
    "line3_3_1 = lines!(ax3_3, temp_per_year.year,temp_per_year.avg_temp_min)\n",
    "line3_3_2 = hlines!(ax3_3, data_sum.avg_temp_min,color = \"red\",linestyle = :dot)\n",
    "\n",
    "f3"
   ]
  },
  {
   "cell_type": "markdown",
   "metadata": {},
   "source": [
    "Well, climate change is happening in Würzburg as well. "
   ]
  },
  {
   "cell_type": "code",
   "execution_count": 12,
   "metadata": {},
   "outputs": [
    {
     "ename": "UndefVarError",
     "evalue": "UndefVarError: `temp_per_year` not defined",
     "output_type": "error",
     "traceback": [
      "UndefVarError: `temp_per_year` not defined\n",
      "\n",
      "Stacktrace:\n",
      " [1] top-level scope\n",
      "   @ c:\\Users\\Andreas\\Dropbox\\phd\\Courses\\WS2022_Julia\\Part_8_Data_Analysis\\Julia_Data_Analysis.ipynb:3"
     ]
    }
   ],
   "source": [
    "f4 = Figure(resolution = (500,500))\n",
    "ax4_1 = Axis(f4[1, 1],title = \"Average Humidity\") \n",
    "line4_1_1 = lines!(ax4_1, temp_per_year.year,temp_per_year.avg_humi)\n",
    "line4_1_2 = hlines!(ax4_1, data_sum.avg_humi,color = \"red\",linestyle = :dot)\n",
    "f4"
   ]
  },
  {
   "cell_type": "markdown",
   "metadata": {},
   "source": [
    "The same plot for the humidity does not give a clear picture of a change over the years. But maybe the authors are just not educated enough on climate science to interpret this data accordingly. "
   ]
  },
  {
   "cell_type": "markdown",
   "metadata": {},
   "source": [
    "Note: This way of doing data analysis is called the [\"Split-Apply-Combine Strategy\"](https://www.jstatsoft.org/article/view/v040i01) and is based on a paper of Hadely Wickham."
   ]
  },
  {
   "cell_type": "markdown",
   "metadata": {},
   "source": [
    "Another way of grouping the data would be by month: "
   ]
  },
  {
   "cell_type": "code",
   "execution_count": 13,
   "metadata": {},
   "outputs": [
    {
     "ename": "UndefVarError",
     "evalue": "UndefVarError: `data` not defined",
     "output_type": "error",
     "traceback": [
      "UndefVarError: `data` not defined\n",
      "\n",
      "Stacktrace:\n",
      " [1] top-level scope\n",
      "   @ c:\\Users\\Andreas\\Dropbox\\phd\\Courses\\WS2022_Julia\\Part_8_Data_Analysis\\Julia_Data_Analysis.ipynb:1"
     ]
    }
   ],
   "source": [
    "temp_per_month =  @chain data begin\n",
    "    groupby(:month) \n",
    "    @combine(:avg_temp = mean(:temp),:avg_temp_max = mean(:temp_max),:avg_temp_min = mean(:temp_min),:avg_humi = mean(:humidity))\n",
    "end"
   ]
  },
  {
   "cell_type": "markdown",
   "metadata": {},
   "source": [
    "This gives a DataFrame with 12 columns - One for each month. Now you can plot the average humidity per month. "
   ]
  },
  {
   "cell_type": "code",
   "execution_count": 14,
   "metadata": {},
   "outputs": [
    {
     "data": {
      "text/plain": [
       "12-element Vector{SubString{String}}:\n",
       " \"Jan\"\n",
       " \"Feb\"\n",
       " \"Mar\"\n",
       " \"Apr\"\n",
       " \"May\"\n",
       " \"Jun\"\n",
       " \"Jul\"\n",
       " \"Aug\"\n",
       " \"Sep\"\n",
       " \"Okt\"\n",
       " \"Nov\"\n",
       " \"Dez\""
      ]
     },
     "metadata": {},
     "output_type": "display_data"
    }
   ],
   "source": [
    "#small trick : \n",
    "months = [\"Jan\",\"Feb\",\"Mar\",\"Apr\",\"May\",\"Jun\",\"Jul\",\"Aug\",\"Sep\",\"Okt\",\"Nov\",\"Dez\"]\n",
    "# can be written faster as : \n",
    "months = split(\"Jan Feb Mar Apr May Jun Jul Aug Sep Okt Nov Dez\")"
   ]
  },
  {
   "cell_type": "code",
   "execution_count": 15,
   "metadata": {},
   "outputs": [
    {
     "ename": "UndefVarError",
     "evalue": "UndefVarError: `temp_per_month` not defined",
     "output_type": "error",
     "traceback": [
      "UndefVarError: `temp_per_month` not defined\n",
      "\n",
      "Stacktrace:\n",
      " [1] top-level scope\n",
      "   @ c:\\Users\\Andreas\\Dropbox\\phd\\Courses\\WS2022_Julia\\Part_8_Data_Analysis\\Julia_Data_Analysis.ipynb:3"
     ]
    }
   ],
   "source": [
    "f5 = Figure(resolution = (500,500))\n",
    "ax5_1 = Axis(f5[1, 1],title = \"Average Humidity over the year\" ,xticks = (1:12, months))\n",
    "line5_1_1 = lines!(ax5_1, temp_per_month.month,temp_per_month.avg_humi)\n",
    "line5_1_2 = hlines!(ax5_1, data_sum.avg_humi,color = \"red\", linestyle = :dot)\n",
    "f5"
   ]
  },
  {
   "cell_type": "markdown",
   "metadata": {},
   "source": [
    "The humidity is higher in the winter than in the summer. With the help of some [googling](https://en.wikipedia.org/wiki/Humidity) this can be interpreted in the following way: There are two values for humidtiy: relative and absolute humidity. The absolute humidity is the amount of water vapor in the air. The maximum amount of storable water vapor in the air is temperature dependent and lower for lower temperatures. Assuming constant absolute humidity over a year, then the relative humiditiy (which was measured here) should be lower in the summer and higher in the winter, which is exactly what we see in our data.  "
   ]
  },
  {
   "cell_type": "markdown",
   "metadata": {},
   "source": [
    "Let's make the same plot for the temperature values:"
   ]
  },
  {
   "cell_type": "code",
   "execution_count": 16,
   "metadata": {},
   "outputs": [
    {
     "ename": "UndefVarError",
     "evalue": "UndefVarError: `temp_per_month` not defined",
     "output_type": "error",
     "traceback": [
      "UndefVarError: `temp_per_month` not defined\n",
      "\n",
      "Stacktrace:\n",
      " [1] top-level scope\n",
      "   @ c:\\Users\\Andreas\\Dropbox\\phd\\Courses\\WS2022_Julia\\Part_8_Data_Analysis\\Julia_Data_Analysis.ipynb:3"
     ]
    }
   ],
   "source": [
    "f6 = Figure(resolution = ( 1500,500))\n",
    "ax6_1 = Axis(f6[1, 1],title = \"Average Temperature\",xticks = (1:12, months )) \n",
    "line6_1_1 = lines!(ax6_1, temp_per_month.month,temp_per_month.avg_temp)\n",
    "line6_1_2 = hlines!(ax6_1, data_sum.avg_temp,color = \"red\",linestyle = :dot)\n",
    "\n",
    "ax6_2 = Axis(f6[1, 2],title = \"Average Temperature Max\",xticks = (1:12, months )) \n",
    "line6_2_1 = lines!(ax6_2, temp_per_month.month,temp_per_month.avg_temp_max)\n",
    "line6_2_2 = hlines!(ax6_2, data_sum.avg_temp_max,color = \"red\",linestyle = :dot)\n",
    "\n",
    "ax6_3 = Axis(f6[1, 3],title = \"Average Temperature Min\",xticks = (1:12, months )) \n",
    "line6_3_1 = lines!(ax6_3, temp_per_month.month,temp_per_month.avg_temp_min)\n",
    "line6_3_2 = hlines!(ax6_3, data_sum.avg_temp_min,color = \"red\",linestyle = :dot)\n",
    "\n",
    "f6"
   ]
  },
  {
   "cell_type": "markdown",
   "metadata": {},
   "source": [
    "This looks very familiar, as it is the temperature part of a climate diagramm. A similar diagram (with probably the same underlying data) can be found on the german [wikipedia page](https://de.wikipedia.org/wiki/W%C3%BCrzburg#Klima) of Würzburg. "
   ]
  },
  {
   "cell_type": "markdown",
   "metadata": {},
   "source": [
    "### 5. Sorting data"
   ]
  },
  {
   "cell_type": "markdown",
   "metadata": {},
   "source": [
    "Now, it is possible to compare the weather between different years. The most interesting ones are of course the most extreme ones. \n",
    "\n",
    "The `sort` function can be used to sort the data in ascending or descending order with regard to one column.    "
   ]
  },
  {
   "cell_type": "code",
   "execution_count": 17,
   "metadata": {},
   "outputs": [
    {
     "ename": "UndefVarError",
     "evalue": "UndefVarError: `temp_per_year` not defined",
     "output_type": "error",
     "traceback": [
      "UndefVarError: `temp_per_year` not defined\n",
      "\n",
      "Stacktrace:\n",
      " [1] top-level scope\n",
      "   @ c:\\Users\\Andreas\\Dropbox\\phd\\Courses\\WS2022_Julia\\Part_8_Data_Analysis\\Julia_Data_Analysis.ipynb:2"
     ]
    }
   ],
   "source": [
    "# hottest first\n",
    "sort(temp_per_year,:avg_temp,rev = true)"
   ]
  },
  {
   "cell_type": "code",
   "execution_count": 18,
   "metadata": {},
   "outputs": [
    {
     "ename": "UndefVarError",
     "evalue": "UndefVarError: `temp_per_year` not defined",
     "output_type": "error",
     "traceback": [
      "UndefVarError: `temp_per_year` not defined\n",
      "\n",
      "Stacktrace:\n",
      " [1] top-level scope\n",
      "   @ c:\\Users\\Andreas\\Dropbox\\phd\\Courses\\WS2022_Julia\\Part_8_Data_Analysis\\Julia_Data_Analysis.ipynb:2"
     ]
    }
   ],
   "source": [
    "# coldest first\n",
    "sort(temp_per_year,:avg_temp,rev = false)"
   ]
  },
  {
   "cell_type": "markdown",
   "metadata": {},
   "source": [
    "The hottest year has been 2018 and the coldest 1956. Let's create DataFrames with the average values per month for specific years. The `@chain` macro can be used here, too. One year can then be plotted together with the average over all years.  "
   ]
  },
  {
   "cell_type": "code",
   "execution_count": 19,
   "metadata": {},
   "outputs": [
    {
     "ename": "UndefVarError",
     "evalue": "UndefVarError: `data` not defined",
     "output_type": "error",
     "traceback": [
      "UndefVarError: `data` not defined\n",
      "\n",
      "Stacktrace:\n",
      " [1] top-level scope\n",
      "   @ c:\\Users\\Andreas\\Dropbox\\phd\\Courses\\WS2022_Julia\\Part_8_Data_Analysis\\Julia_Data_Analysis.ipynb:2"
     ]
    }
   ],
   "source": [
    "example_year = 2018\n",
    "temp_per_month_example =  @chain data begin\n",
    "    @subset(:year .== example_year)\n",
    "    groupby(:month) \n",
    "    @combine(:avg_temp = mean(:temp),:avg_temp_max = mean(:temp_max),:avg_temp_min = mean(:temp_min),:avg_humi = mean(:humidity))\n",
    "end\n",
    "\n",
    "f7 = Figure(resolution = ( 1500,500))\n",
    "ax7_1 = Axis(f7[1, 1],title = \"Average Temperatur\",xticks = (1:12, months )) \n",
    "line7_1_1 = lines!(ax7_1, temp_per_month.month,temp_per_month.avg_temp, label = \"Mean 48-21\")\n",
    "line7_1_2 = lines!(ax7_1, temp_per_month_example.month,temp_per_month_example.avg_temp,label = \"$(example_year)\")\n",
    "axislegend(ax7_1)\n",
    "\n",
    "ax7_2 = Axis(f7[1, 2],title = \"Average Temperatur Max\",xticks = (1:12, months )) \n",
    "line7_2_1 = lines!(ax7_2, temp_per_month.month,temp_per_month.avg_temp_max,label = \"Mean 48-21\")\n",
    "line7_2_2 = lines!(ax7_2, temp_per_month_example.month,temp_per_month_example.avg_temp_max,label = \"$(example_year)\")\n",
    "axislegend(ax7_2)\n",
    "\n",
    "ax7_3 = Axis(f7[1, 3],title = \"Average Temperatur Min\",xticks = (1:12, months )) \n",
    "line7_3_1 = lines!(ax7_3, temp_per_month.month,temp_per_month.avg_temp_min,label = \"Mean 48-21\")\n",
    "line7_3_2 = lines!(ax7_3, temp_per_month_example.month,temp_per_month_example.avg_temp_min,label = \"$(example_year)\")\n",
    "axislegend(ax7_3)\n",
    "f7"
   ]
  },
  {
   "cell_type": "markdown",
   "metadata": {},
   "source": [
    "It is possible to average over days instead of months: "
   ]
  },
  {
   "cell_type": "code",
   "execution_count": 20,
   "metadata": {},
   "outputs": [
    {
     "ename": "UndefVarError",
     "evalue": "UndefVarError: `data` not defined",
     "output_type": "error",
     "traceback": [
      "UndefVarError: `data` not defined\n",
      "\n",
      "Stacktrace:\n",
      " [1] top-level scope\n",
      "   @ c:\\Users\\Andreas\\Dropbox\\phd\\Courses\\WS2022_Julia\\Part_8_Data_Analysis\\Julia_Data_Analysis.ipynb:1"
     ]
    }
   ],
   "source": [
    "temp_per_day = @chain data begin \n",
    "    groupby(:monthday)\n",
    "    @combine(:avg_temp = mean(:temp),:avg_temp_max = mean(:temp_max),:avg_temp_min = mean(:temp_min),:avg_humi = mean(:humidity))\n",
    "end\n",
    "\n",
    "f17 = Figure(resolution = ( 1000,500))\n",
    "ax17_1 = Axis(f17[1, 1],title = \"Average Temperatur\",xticks = (15:31:365, months  )) \n",
    "line17_1_1 = lines!(ax17_1, temp_per_day.avg_temp, label = \"Average_temp\")\n",
    "line17_1_2 = lines!(ax17_1, temp_per_day.avg_temp_max, label = \"Average_temp_max\")\n",
    "line17_1_2 = lines!(ax17_1, temp_per_day.avg_temp_min, label = \"Average_temp_min\")\n",
    "axislegend(ax17_1)\n",
    "f17"
   ]
  },
  {
   "cell_type": "markdown",
   "metadata": {},
   "source": [
    "This result is similar to the monthly average, but surprisingly \"unsmooth\". Apparently the average of 74 days for each date is a sample size too small and/or the weather has strong inherent noise.  "
   ]
  },
  {
   "cell_type": "markdown",
   "metadata": {},
   "source": [
    "Another fun question to ask would be: What has been the hottest and coldest day on average ?  "
   ]
  },
  {
   "cell_type": "code",
   "execution_count": 21,
   "metadata": {},
   "outputs": [
    {
     "ename": "UndefVarError",
     "evalue": "UndefVarError: `temp_per_day` not defined",
     "output_type": "error",
     "traceback": [
      "UndefVarError: `temp_per_day` not defined\n",
      "\n",
      "Stacktrace:\n",
      " [1] top-level scope\n",
      "   @ c:\\Users\\Andreas\\Dropbox\\phd\\Courses\\WS2022_Julia\\Part_8_Data_Analysis\\Julia_Data_Analysis.ipynb:1"
     ]
    }
   ],
   "source": [
    "extreme_days_average = sort(temp_per_day,:avg_temp_min, rev = false)\n",
    "\n",
    "f10 = Figure(resolution = (1500,500))\n",
    "ax10_1 = Axis(f10[1,1], xticks = (1:12,string.(extreme_days_average.monthday[1:12])), title = \" Average Temp per day \", titlesize = 20, xlabel = \"Day of the Year\", ylabel = \"Temp\", xlabelsize = 15, ylabelsize = 15)\n",
    "bar10_1 = barplot!(ax10_1, extreme_days_average.:avg_temp_min[1:12],color = :blue )\n",
    "\n",
    "\n",
    "extreme_days_average = sort(temp_per_day,:avg_temp_max, rev = true)\n",
    "\n",
    "ax10_2 = Axis(f10[2,1], xticks = (1:12,string.(extreme_days_average.monthday[1:12])), title = \" Average Temp per day \", titlesize = 20, xlabel = \"Day of the Year\", ylabel = \"Temp\", xlabelsize = 15, ylabelsize = 15)\n",
    "bar10_2 = barplot!(ax10_2, extreme_days_average.:avg_temp_max[1:12],color = :orange )\n",
    "f10 "
   ]
  },
  {
   "cell_type": "markdown",
   "metadata": {},
   "source": [
    "The on average coldest and warmest days do not all line up next to each other. In the case of the coldest days, there are two periods, one in the middle of January and one in the middle of February, that have historically been very cold. Whereas the warmest days are grouped together at the end of July and the beginning of August. "
   ]
  },
  {
   "cell_type": "markdown",
   "metadata": {},
   "source": [
    "But enough about averages, let's find the hottest and coldest days ever recorded in Würzburg. The `sort` function can be used for this purpose, too. But this time on the whole data set.  "
   ]
  },
  {
   "cell_type": "code",
   "execution_count": 22,
   "metadata": {},
   "outputs": [
    {
     "ename": "UndefVarError",
     "evalue": "UndefVarError: `data` not defined",
     "output_type": "error",
     "traceback": [
      "UndefVarError: `data` not defined\n",
      "\n",
      "Stacktrace:\n",
      " [1] top-level scope\n",
      "   @ c:\\Users\\Andreas\\Dropbox\\phd\\Courses\\WS2022_Julia\\Part_8_Data_Analysis\\Julia_Data_Analysis.ipynb:1"
     ]
    }
   ],
   "source": [
    "extreme_days = sort(data,:temp_min, rev = false)\n",
    "f8 = Figure(resolution = (1500,500))\n",
    "ax8_1 = Axis(f8[1,1], xticks = (1:12,string.(extreme_days.date[1:12])), title = \" Temp per day \", titlesize = 20, xlabel = \"Date\", ylabel = \"Temp\", xlabelsize = 15, ylabelsize = 15)\n",
    "bar8_1 = barplot!(ax8_1, extreme_days.temp_min[1:12],color = :darkblue )\n",
    "\n",
    "f8"
   ]
  },
  {
   "cell_type": "code",
   "execution_count": 23,
   "metadata": {},
   "outputs": [
    {
     "ename": "UndefVarError",
     "evalue": "UndefVarError: `data` not defined",
     "output_type": "error",
     "traceback": [
      "UndefVarError: `data` not defined\n",
      "\n",
      "Stacktrace:\n",
      " [1] top-level scope\n",
      "   @ c:\\Users\\Andreas\\Dropbox\\phd\\Courses\\WS2022_Julia\\Part_8_Data_Analysis\\Julia_Data_Analysis.ipynb:1"
     ]
    }
   ],
   "source": [
    "extreme_days = sort(data,:temp_max, rev = true)\n",
    "f9 = Figure(resolution = (1500,500))\n",
    "ax9_1 = Axis(f9[1,1], xticks = (1:12,string.(extreme_days.date[1:12])), title = \" Temp per day \", titlesize = 20, xlabel = \"Date\", ylabel = \"Temp\", xlabelsize = 15, ylabelsize = 15)\n",
    "bar9_1 = barplot!(ax9_1, extreme_days.:temp_max[1:12], color = :red )\n",
    "\n",
    "f9"
   ]
  },
  {
   "cell_type": "markdown",
   "metadata": {},
   "source": [
    "Apart from the year 1952, which had a crazy hot July, 9 of the 12 hottest days are less than 20 years ago. And 11 of the 12 coldest days are more than 37 years ago. This is a further indicator for the ongoing climate change. "
   ]
  },
  {
   "cell_type": "markdown",
   "metadata": {},
   "source": [
    "### 6. Transforming Data\n",
    "\n",
    "So far, you have only calculated averages of already existing parameters and/or sorted the data. A big part of data analysis is to come up with new metrics to further quantify the underlying data. For example, let's find the days with the biggest temperature difference. The `@transfom` macro can be used to add new columns to a DataFrame. The content of these new columns can depend on the existing columns, but can also be independent of them.   \n",
    "\n"
   ]
  },
  {
   "cell_type": "code",
   "execution_count": 24,
   "metadata": {},
   "outputs": [
    {
     "ename": "UndefVarError",
     "evalue": "UndefVarError: `data` not defined",
     "output_type": "error",
     "traceback": [
      "UndefVarError: `data` not defined\n",
      "\n",
      "Stacktrace:\n",
      " [1] top-level scope\n",
      "   @ c:\\Users\\Andreas\\Dropbox\\phd\\Courses\\WS2022_Julia\\Part_8_Data_Analysis\\Julia_Data_Analysis.ipynb:1"
     ]
    }
   ],
   "source": [
    "data_delta =  @chain data begin \n",
    "    @transform(:delta_t = :temp_max - :temp_min)\n",
    "    sort!( :delta_t, rev = true)\n",
    "end\n",
    "\n",
    "f10 = Figure(resolution = (1500,500))\n",
    "ax10_1 = Axis(f10[1,1], xticks = (1:12,string.(data_delta.date[1:12])), title = \" Delta Temp per day \", titlesize = \n",
    "    20, xlabel = \"Date\", ylabel = \"Temp\", xlabelsize = 15, ylabelsize = 15)\n",
    "bar10_1 = crossbar!(ax10_1,[1:12;], data_delta.:delta_t[1:12],data_delta.:temp_min[1:12],data_delta.:temp_max[1:12], label = \"Temperature Range\",\n",
    "    color =:green)\n",
    "axislegend(ax10_1, position = :rb)\n",
    "f10"
   ]
  },
  {
   "cell_type": "markdown",
   "metadata": {},
   "source": [
    "A cross bar plot is a possible way to display this kind of data. Whereas the black lines indicate the absolute temperature difference, the beginning and the end of the blocks indicates the values of minimum and maximum temperature on this day. Surprisingly, days with big temperature differences can happen in every season. "
   ]
  },
  {
   "cell_type": "markdown",
   "metadata": {},
   "source": [
    "### 7.Using subset of data"
   ]
  },
  {
   "cell_type": "markdown",
   "metadata": {},
   "source": [
    "Unfortunately, not all measured values go back to 1948. For example, daily minutes of sunshine have only been measured since 1951. To make an analysis on this parameter, the data must be filtered first. The `@subset` macro can be used for that purpose as well. "
   ]
  },
  {
   "cell_type": "code",
   "execution_count": 25,
   "metadata": {},
   "outputs": [
    {
     "ename": "UndefVarError",
     "evalue": "UndefVarError: `data` not defined",
     "output_type": "error",
     "traceback": [
      "UndefVarError: `data` not defined\n",
      "\n",
      "Stacktrace:\n",
      " [1] top-level scope\n",
      "   @ c:\\Users\\Andreas\\Dropbox\\phd\\Courses\\WS2022_Julia\\Part_8_Data_Analysis\\Julia_Data_Analysis.ipynb:1"
     ]
    }
   ],
   "source": [
    "sunhine_per_month = @chain data begin\n",
    "    @subset(:year .>= 1951)\n",
    "    groupby(:month)\n",
    "    @combine(:sunhours = mean(:sun)/60)\n",
    "end\n",
    "\n",
    "\n",
    "f11 = Figure(resolution = (1500,500))\n",
    "ax11_1 = Axis(f11[1,1], xticks = (1:12,months), title = \" Average daily sunshine hours \", titlesize = 20, xlabel = \"Month\", ylabel = \"Hours\")\n",
    "bar11_1 = barplot!(ax11_1, sunhine_per_month.sunhours,color =:gold2 )\n",
    "\n",
    "f11\n"
   ]
  },
  {
   "cell_type": "markdown",
   "metadata": {},
   "source": [
    "Precipitation has only been measured since 1996 (why?). It can be analysed the same way as the sunshine hours and added to the plot. "
   ]
  },
  {
   "cell_type": "code",
   "execution_count": 26,
   "metadata": {},
   "outputs": [
    {
     "ename": "UndefVarError",
     "evalue": "UndefVarError: `data` not defined",
     "output_type": "error",
     "traceback": [
      "UndefVarError: `data` not defined\n",
      "\n",
      "Stacktrace:\n",
      " [1] top-level scope\n",
      "   @ c:\\Users\\Andreas\\Dropbox\\phd\\Courses\\WS2022_Julia\\Part_8_Data_Analysis\\Julia_Data_Analysis.ipynb:1"
     ]
    }
   ],
   "source": [
    "rain_per_month = @chain data begin\n",
    "    @subset(:year .>= 1996)\n",
    "    groupby(:month)\n",
    "    @combine(:rain = mean(:rain))\n",
    "end\n",
    "\n",
    "\n",
    "f12 = Figure(resolution = (1500,500))\n",
    "ax12_1 = Axis(f12[1,1], xticks = (1:12,months), title = \" Average daily sunshine hours & rain\", titlesize = 20, xlabel = \"Month\", ylabel = \"Hours\")\n",
    "ax12_2 = Axis(f12[1,1], ylabel = \"precipitation[mm] \",yticklabelcolor = :blue, yaxisposition = :right,xgridvisible = false,\n",
    "        ygridvisible = false)\n",
    "\n",
    "hidespines!(ax12_2)\n",
    "hidexdecorations!(ax12_2,minorgrid = true)\n",
    "ylims!(ax12_2, 0, 3)\n",
    "ylims!(ax12_1, 0, 9)\n",
    "bar12_1 = barplot!(ax12_1, sunhine_per_month.sunhours,color =color =:gold2, label = \"Sunshine\" )\n",
    "line12_2 = lines!(ax12_2, rain_per_month.rain,color =\"blue\" ,label = \"rain\", linewidth = 5)\n",
    "\n",
    "Legend( f12[1,2], [bar12_1,line12_2],[\"Sunshine\",\"Rain\"])\n",
    "\n",
    "f12\n"
   ]
  },
  {
   "cell_type": "markdown",
   "metadata": {},
   "source": [
    "It is also possible to group a DataFrame by more than one shared column value. In this case the `groupby()` function expects a vector of columnnames. \n",
    "This way, it is easy to calculate the average sunshine hours in every month in the last 10 years."
   ]
  },
  {
   "cell_type": "code",
   "execution_count": 27,
   "metadata": {},
   "outputs": [
    {
     "ename": "UndefVarError",
     "evalue": "UndefVarError: `data` not defined",
     "output_type": "error",
     "traceback": [
      "UndefVarError: `data` not defined\n",
      "\n",
      "Stacktrace:\n",
      " [1] top-level scope\n",
      "   @ c:\\Users\\Andreas\\Dropbox\\phd\\Courses\\WS2022_Julia\\Part_8_Data_Analysis\\Julia_Data_Analysis.ipynb:1"
     ]
    }
   ],
   "source": [
    "sunshine_10_years = @chain data begin\n",
    "    @subset(:year .> 2010)\n",
    "    groupby([:year, :month])\n",
    "    @combine(:mean_sun_year = mean(:sun)/60)\n",
    "end\n"
   ]
  },
  {
   "cell_type": "markdown",
   "metadata": {},
   "source": [
    "This DataFrame can be grouped by years. It is possible to iterate over this grouped DataFrame with a loop or to access single years via their index or their key. We can now create a figure similar to f11 but add also single or multiple individual years with a loop."
   ]
  },
  {
   "cell_type": "code",
   "execution_count": 28,
   "metadata": {},
   "outputs": [
    {
     "ename": "UndefVarError",
     "evalue": "UndefVarError: `sunshine_10_years` not defined",
     "output_type": "error",
     "traceback": [
      "UndefVarError: `sunshine_10_years` not defined\n",
      "\n",
      "Stacktrace:\n",
      " [1] top-level scope\n",
      "   @ c:\\Users\\Andreas\\Dropbox\\phd\\Courses\\WS2022_Julia\\Part_8_Data_Analysis\\Julia_Data_Analysis.ipynb:1"
     ]
    }
   ],
   "source": [
    "sunshine_per_year = groupby(sunshine_10_years, :year)"
   ]
  },
  {
   "cell_type": "markdown",
   "metadata": {},
   "source": [
    "With this data, single years can be added to the plot for average sunshine hours. "
   ]
  },
  {
   "cell_type": "code",
   "execution_count": 29,
   "metadata": {},
   "outputs": [
    {
     "ename": "UndefVarError",
     "evalue": "UndefVarError: `sunhine_per_month` not defined",
     "output_type": "error",
     "traceback": [
      "UndefVarError: `sunhine_per_month` not defined\n",
      "\n",
      "Stacktrace:\n",
      " [1] top-level scope\n",
      "   @ c:\\Users\\Andreas\\Dropbox\\phd\\Courses\\WS2022_Julia\\Part_8_Data_Analysis\\Julia_Data_Analysis.ipynb:3"
     ]
    }
   ],
   "source": [
    "f13 = Figure(resolution = (1500,500))\n",
    "ax13_1 = Axis(f13[1,1], xticks = (1:12,months), title = \" Average daily sunshine hours \", titlesize = 20, xlabel = \"Month\", ylabel = \"Hours\")\n",
    "bar13_1 = barplot!(ax13_1, sunhine_per_month.sunhours,color = :gold2, label = \"Average\" )\n",
    "\n",
    "# choose years by changing iterator/index \n",
    "for i in 10:1:length(sunshine_per_year)\n",
    "    lines!(ax13_1, sunshine_per_year[i].mean_sun_year, label = \"$(sunshine_per_year[i].year[1])\" , linewidth = 5)  \n",
    "end\n",
    "## access per key \n",
    "lines!(ax13_1, sunshine_per_year[(:2014,)].mean_sun_year, label = \"$(sunshine_per_year[(:2014,)].year[1])\",linewidth = 5 )  \n",
    "\n",
    "\n",
    "Legend( f13[1,2],ax13_1, \"Sunshine per months\")\n",
    "f13\n"
   ]
  },
  {
   "cell_type": "markdown",
   "metadata": {},
   "source": [
    "And it appears climate change has also some positive aspects, as the average daily sunshine hours of the last years have typically been higher than the average in the last 70 years. "
   ]
  },
  {
   "cell_type": "markdown",
   "metadata": {},
   "source": [
    "## Exercises"
   ]
  },
  {
   "cell_type": "markdown",
   "metadata": {},
   "source": [
    "All exercises in this course are divided into three different difficulty categories: <span style=\"color:green\">easy</span>, <span style=\"color:orange\">medium</span> and <span style=\"color:red\">hard</span>. <span style=\"color:green\">Easy</span> exercises should be solvable solely with the contents of the respective notebook. <span style=\"color:orange\">Medium</span> often require the transfer of known concepts to new problems. Therefore, it might be necessary to look up some old notebooks or to use your creativity and curiosity to combine seemingly unrelated stuff. <span style=\"color:red\">Hard</span> exercises take this concept one step further and might require you to use additional resources like the official documentation, google, StackOverflow,... . \n"
   ]
  },
  {
   "cell_type": "markdown",
   "metadata": {},
   "source": [
    "### <p style='color: green'>easy</p>\n"
   ]
  },
  {
   "cell_type": "markdown",
   "metadata": {},
   "source": [
    "1. Create a DataFrame named `millenium` only containing the values since 2000"
   ]
  },
  {
   "cell_type": "markdown",
   "metadata": {},
   "source": [
    "2. Filter the `millenium` so that it only contains your birthdays. \n",
    "    - in which year did you have the best/worst weather to celebrate (in Würzburg ;) ) ? \n"
   ]
  },
  {
   "cell_type": "markdown",
   "metadata": {},
   "source": [
    "3. Find out how many times since 2000 has been a \"white christmas\" in Würzburg (snowfall on christmas eve or the day before and temperatures below 0).\n",
    " "
   ]
  },
  {
   "cell_type": "markdown",
   "metadata": {},
   "source": [
    "### <p style='color: orange'>medium</p>"
   ]
  },
  {
   "cell_type": "markdown",
   "metadata": {},
   "source": [
    "4. Write a function that checks if a year is a leapyear and returns a bool. \n"
   ]
  },
  {
   "cell_type": "markdown",
   "metadata": {},
   "source": [
    "5. Calculate the average temperatur per month for all years before 1973, from 1974-1999 and from 2000 onwards. Plot them into one graph. Compare these values with the values from figure `f6`. What trend can you observe? "
   ]
  },
  {
   "cell_type": "markdown",
   "metadata": {},
   "source": [
    "### <p style='color: red'>hard</p>"
   ]
  },
  {
   "cell_type": "markdown",
   "metadata": {},
   "source": [
    "6. Find out what the column \"Bedeckung\"/\"cover/cloudcover\" means. Plot its monthly and yearly average since the year it has been measured. Interpret the data to your best ability. \n",
    "    Hint: There are some NaN values in the data set (even after cover has first been measured). Use the function `isnan()` to find the NaN values and remove them from the data. "
   ]
  },
  {
   "cell_type": "markdown",
   "metadata": {},
   "source": [
    "7. Calculate the standard deviation of the yearly temperatures (column temp). Is there a significant difference between years? If so, how can this be interpreted?  "
   ]
  },
  {
   "cell_type": "markdown",
   "metadata": {},
   "source": [
    "8. Split the original data set (before the filter of the 29th of february) in two data sets using your function defined in exercise 4. One data set should only contain leap years and the other one should only contain normal years.  "
   ]
  },
  {
   "cell_type": "markdown",
   "metadata": {},
   "source": [
    "9. Compare the average temperatures per month and per year between the leap and normal years. Is there a difference? \n"
   ]
  },
  {
   "cell_type": "code",
   "execution_count": 30,
   "metadata": {},
   "outputs": [],
   "source": []
  },
  {
   "cell_type": "code",
   "execution_count": null,
   "metadata": {},
   "outputs": [],
   "source": []
  }
 ],
 "metadata": {
  "kernelspec": {
   "display_name": "Julia 1.9.2",
   "language": "julia",
   "name": "julia-1.9"
  },
  "language_info": {
   "file_extension": ".jl",
   "mimetype": "application/julia",
   "name": "julia",
   "version": "1.9.2"
  }
 },
 "nbformat": 4,
 "nbformat_minor": 4
}
