{
 "cells": [
  {
   "cell_type": "markdown",
   "metadata": {},
   "source": [
    "<p style='text-align: center'><a href=https://www.biozentrum.uni-wuerzburg.de/cctb/research/supramolecular-and-cellular-simulations/>Supramolecular and Cellular Simulations</a> (Prof. Fischer)<br>Center for Computational and Theoretical Biology - CCTB<br>Faculty of Biology, University of Würzburg</p>\n",
    "\n",
    "<p style='text-align: center'><br><br>We are looking forward to your comments and suggestions. Please send them to <a href=sabine.fischer@uni.wuerzburg.de>sabine.fischer@uni.wuerzburg.de</a><br><br></p>\n",
    "\n",
    "<h1><p style='text-align: center'> Introduction to Julia </p></h1>"
   ]
  },
  {
   "cell_type": "markdown",
   "metadata": {},
   "source": [
    "## Structs and Functions part two\n"
   ]
  },
  {
   "cell_type": "markdown",
   "metadata": {},
   "source": [
    "### Introduction \n",
    "\n",
    "Until now, you have learned to create various different data types, to write your own functions, to import/export data and how to create beautiful plots. The question that you might be asking yourself is: \"What is this good for ? \". \n",
    "The answer comes now. Here we show you a small exemplary simulation of moving cells using all the stuff you have learned.  \n"
   ]
  },
  {
   "cell_type": "markdown",
   "metadata": {},
   "source": [
    "#### Structs"
   ]
  },
  {
   "cell_type": "markdown",
   "metadata": {},
   "source": [
    "Before we start we have to introduced one more thing: `structs` which are self created composite datatypes. "
   ]
  },
  {
   "cell_type": "code",
   "execution_count": 15,
   "metadata": {},
   "outputs": [],
   "source": [
    "struct tree_1\n",
    "    species\n",
    "    height\n",
    "    age\n",
    "end"
   ]
  },
  {
   "cell_type": "markdown",
   "metadata": {},
   "source": [
    "Now we have defined a so called construtor for a new object of type tree. We can call this constructor by typing the name of the type and the right number of assoicated fields  in this case 3. Which then creates an object (sometimes also referred to as an instance) of type `tree_1`.  "
   ]
  },
  {
   "cell_type": "code",
   "execution_count": 16,
   "metadata": {},
   "outputs": [
    {
     "data": {
      "text/plain": [
       "tree_1(\"Oak\", 30.0, 150)"
      ]
     },
     "execution_count": 16,
     "metadata": {},
     "output_type": "execute_result"
    }
   ],
   "source": [
    "oky = tree_1(\"Oak\",30.0,150)"
   ]
  },
  {
   "cell_type": "code",
   "execution_count": 17,
   "metadata": {},
   "outputs": [
    {
     "data": {
      "text/plain": [
       "tree_1"
      ]
     },
     "execution_count": 17,
     "metadata": {},
     "output_type": "execute_result"
    }
   ],
   "source": [
    "typeof(oky)"
   ]
  },
  {
   "cell_type": "markdown",
   "metadata": {},
   "source": [
    "Now we have an object/instace of the type `tree_1`. If you know the type of the fields in advance (which you should;) you can specify them with the `::` operator. "
   ]
  },
  {
   "cell_type": "code",
   "execution_count": 18,
   "metadata": {},
   "outputs": [],
   "source": [
    "struct tree_2\n",
    "    species::String\n",
    "    height::Float64\n",
    "    age::Int64\n",
    "end"
   ]
  },
  {
   "cell_type": "code",
   "execution_count": 19,
   "metadata": {},
   "outputs": [
    {
     "data": {
      "text/plain": [
       "tree_2(\"Oak\", 30.0, 150)"
      ]
     },
     "execution_count": 19,
     "metadata": {},
     "output_type": "execute_result"
    }
   ],
   "source": [
    "oky2 = tree_2(\"Oak\",30.0,150)"
   ]
  },
  {
   "cell_type": "markdown",
   "metadata": {},
   "source": [
    "When we want to access the individual fields you can use the `.` syntax and the name of the field."
   ]
  },
  {
   "cell_type": "code",
   "execution_count": 20,
   "metadata": {},
   "outputs": [
    {
     "data": {
      "text/plain": [
       "30.0"
      ]
     },
     "execution_count": 20,
     "metadata": {},
     "output_type": "execute_result"
    }
   ],
   "source": [
    "oky2.height"
   ]
  },
  {
   "cell_type": "markdown",
   "metadata": {},
   "source": [
    "With this simple syntax quite complex types with e.g.  struct of structs can be created: "
   ]
  },
  {
   "cell_type": "code",
   "execution_count": 21,
   "metadata": {},
   "outputs": [],
   "source": [
    "struct engine\n",
    "    Name::String\n",
    "    Type::String\n",
    "    Weight::Float64\n",
    "end\n",
    "\n",
    "struct car\n",
    "    Name::String\n",
    "    Manufacturer::String\n",
    "    Power::Int64\n",
    "    Top_speed::Int64\n",
    "    Engine::engine\n",
    "    Countries::Vector{String}\n",
    "end\n",
    "    "
   ]
  },
  {
   "cell_type": "code",
   "execution_count": 22,
   "metadata": {},
   "outputs": [
    {
     "data": {
      "text/plain": [
       "car(\"A8\", \"Audi\", 435, 250, engine(\"VW EA898\", \"Diesel\", 201.3), [\"EU\", \"NA\", \"China\", \"OC\"])"
      ]
     },
     "execution_count": 22,
     "metadata": {},
     "output_type": "execute_result"
    }
   ],
   "source": [
    "v8_d = engine(\"VW EA898\",\"Diesel\",201.3)\n",
    "v8_p = engine(\"VW EA825\",\"Petrol\",160.4)\n",
    "\n",
    "car_1 = car(\"Panamera\",\"Porsche\",422,285,v8_d,[\"EU\",\"China\"])\n",
    "car_2 = car(\"Panamera\",\"Porsche\",550,306,v8_p,[\"EU\",\"NA\",\"China\"])\n",
    "car_3 = car(\"A8\",\"Audi\",435,250,v8_d,[\"EU\",\"NA\",\"China\",\"OC\"])"
   ]
  },
  {
   "cell_type": "markdown",
   "metadata": {},
   "source": [
    "Structs are imutable, that means they cannot be changed after creation: "
   ]
  },
  {
   "cell_type": "code",
   "execution_count": 23,
   "metadata": {},
   "outputs": [
    {
     "ename": "LoadError",
     "evalue": "setfield!: immutable struct of type car cannot be changed",
     "output_type": "error",
     "traceback": [
      "setfield!: immutable struct of type car cannot be changed",
      "",
      "Stacktrace:",
      " [1] setproperty!(x::car, f::Symbol, v::String)",
      "   @ Base .\\Base.jl:43",
      " [2] top-level scope",
      "   @ In[23]:1",
      " [3] eval",
      "   @ .\\boot.jl:373 [inlined]",
      " [4] include_string(mapexpr::typeof(REPL.softscope), mod::Module, code::String, filename::String)",
      "   @ Base .\\loading.jl:1196"
     ]
    }
   ],
   "source": [
    "car_1.Name = \"911\""
   ]
  },
  {
   "cell_type": "markdown",
   "metadata": {},
   "source": [
    "If we want that flexibilty we have to write `mutable struct` instead of `struct` during definiton. But as nothing comes without a price, `mutable structs` are slower in execution that normal `structs`.   "
   ]
  },
  {
   "cell_type": "code",
   "execution_count": 24,
   "metadata": {},
   "outputs": [],
   "source": [
    "mutable struct car_mut\n",
    "    Name::String\n",
    "    Manufacturer::String\n",
    "    Power::Int64\n",
    "    Top_speed::Int64\n",
    "    Engine::engine\n",
    "    Countries::Vector{String}\n",
    "end"
   ]
  },
  {
   "cell_type": "code",
   "execution_count": 25,
   "metadata": {},
   "outputs": [
    {
     "data": {
      "text/plain": [
       "car_mut(\"Panamera\", \"Porsche\", 422, 285, engine(\"VW EA898\", \"Diesel\", 201.3), [\"EU\", \"China\"])"
      ]
     },
     "execution_count": 25,
     "metadata": {},
     "output_type": "execute_result"
    }
   ],
   "source": [
    "car_4 = car_mut(\"Panamera\",\"Porsche\",422,285,v8_d,[\"EU\",\"China\"])"
   ]
  },
  {
   "cell_type": "code",
   "execution_count": 11,
   "metadata": {},
   "outputs": [
    {
     "data": {
      "text/plain": [
       "\"911\""
      ]
     },
     "execution_count": 11,
     "metadata": {},
     "output_type": "execute_result"
    }
   ],
   "source": [
    "car_4.Name = \"911\""
   ]
  },
  {
   "cell_type": "code",
   "execution_count": 12,
   "metadata": {},
   "outputs": [
    {
     "data": {
      "text/plain": [
       "car_mut(\"911\", \"Porsche\", 422, 285, engine(\"VW EA898\", \"Diesel\", 201.3), [\"EU\", \"China\"])"
      ]
     },
     "execution_count": 12,
     "metadata": {},
     "output_type": "execute_result"
    }
   ],
   "source": [
    "car_4"
   ]
  },
  {
   "cell_type": "markdown",
   "metadata": {},
   "source": [
    "### Cell movement"
   ]
  },
  {
   "cell_type": "markdown",
   "metadata": {},
   "source": [
    "As we now have learned what `structs` are good for, we can use them to simulate a very simple discretizied version of cell/particle movement on a 2D Grid. \n",
    "\n",
    "The first step in such problems is to define the objects we want to simulate. In this case we can use `structs` to represent the cells."
   ]
  },
  {
   "cell_type": "code",
   "execution_count": 93,
   "metadata": {},
   "outputs": [
    {
     "ename": "LoadError",
     "evalue": "invalid redefinition of type cell",
     "output_type": "error",
     "traceback": [
      "invalid redefinition of type cell",
      "",
      "Stacktrace:",
      " [1] top-level scope",
      "   @ In[93]:1",
      " [2] eval",
      "   @ .\\boot.jl:373 [inlined]",
      " [3] include_string(mapexpr::typeof(REPL.softscope), mod::Module, code::String, filename::String)",
      "   @ Base .\\loading.jl:1196"
     ]
    }
   ],
   "source": [
    "struct cell \n",
    "    id::Int64\n",
    "    x_pos::Int64\n",
    "    y_pos::Int64\n",
    "end"
   ]
  },
  {
   "cell_type": "code",
   "execution_count": 119,
   "metadata": {},
   "outputs": [
    {
     "data": {
      "text/plain": [
       "cell[]"
      ]
     },
     "execution_count": 119,
     "metadata": {},
     "output_type": "execute_result"
    }
   ],
   "source": [
    "cells = Vector{cell}()"
   ]
  },
  {
   "cell_type": "markdown",
   "metadata": {},
   "source": [
    "Now we have to define all relevant parameters for the simulation like how big will the grid be, how long should it run, how many cells we want to simulate, what is the starting configuration of the system ?"
   ]
  },
  {
   "cell_type": "code",
   "execution_count": 94,
   "metadata": {},
   "outputs": [
    {
     "data": {
      "text/plain": [
       "\"square\""
      ]
     },
     "execution_count": 94,
     "metadata": {},
     "output_type": "execute_result"
    }
   ],
   "source": [
    "Grid_size = 100 # we are using a square grid so x and y dim are equal \n",
    "Time_steps = 100\n",
    "Cell_number = 1000\n",
    "Starting_config = \"square\" # "
   ]
  },
  {
   "cell_type": "code",
   "execution_count": 107,
   "metadata": {},
   "outputs": [
    {
     "data": {
      "text/plain": [
       "32"
      ]
     },
     "execution_count": 107,
     "metadata": {},
     "output_type": "execute_result"
    }
   ],
   "source": [
    "round(Int64,sqrt(Cell_number))"
   ]
  },
  {
   "cell_type": "markdown",
   "metadata": {},
   "source": [
    "The next step would be to initialized the simulation, create the grid, populate the grid, save the cell positions. This is best done inside a function.  "
   ]
  },
  {
   "cell_type": "code",
   "execution_count": 120,
   "metadata": {},
   "outputs": [
    {
     "data": {
      "text/plain": [
       "create_world (generic function with 1 method)"
      ]
     },
     "execution_count": 120,
     "metadata": {},
     "output_type": "execute_result"
    }
   ],
   "source": [
    "function create_world(grid_size,cell_number,starting_config)\n",
    "    #create empty grid\n",
    "    grid = zeros(Int64,(grid_size,grid_size))\n",
    "    #create empty cell_array\n",
    "    cells = Vector{cell}\n",
    "    #depending on starting configuration cells have to be created and written into cells and grid\n",
    "    if starting_config == \"square\"\n",
    "        # for a square config we want to create an square of cells in the middle of the grid space\n",
    "        center = round(Int64,grid_size/2)\n",
    "        #calculate edge length of square of cells\n",
    "        edge_length = round(Int64, sqrt(cell_number))\n",
    "        edge_start = round(Int64,(center-edge_length/2))\n",
    "        for y in 1:edge_length\n",
    "                for x in 1:edge_length\n",
    "                    grid[edge_start+y,edge_start+x] = 1\n",
    "                end\n",
    "            end\n",
    "        end\n",
    "    return grid\n",
    "end\n",
    "            \n",
    "                \n",
    "                \n",
    "        \n",
    "    \n",
    "    \n",
    "    \n",
    "    \n",
    "    "
   ]
  },
  {
   "cell_type": "code",
   "execution_count": 121,
   "metadata": {},
   "outputs": [
    {
     "data": {
      "text/plain": [
       "100×100 Matrix{Int64}:\n",
       " 0  0  0  0  0  0  0  0  0  0  0  0  0  …  0  0  0  0  0  0  0  0  0  0  0  0\n",
       " 0  0  0  0  0  0  0  0  0  0  0  0  0     0  0  0  0  0  0  0  0  0  0  0  0\n",
       " 0  0  0  0  0  0  0  0  0  0  0  0  0     0  0  0  0  0  0  0  0  0  0  0  0\n",
       " 0  0  0  0  0  0  0  0  0  0  0  0  0     0  0  0  0  0  0  0  0  0  0  0  0\n",
       " 0  0  0  0  0  0  0  0  0  0  0  0  0     0  0  0  0  0  0  0  0  0  0  0  0\n",
       " 0  0  0  0  0  0  0  0  0  0  0  0  0  …  0  0  0  0  0  0  0  0  0  0  0  0\n",
       " 0  0  0  0  0  0  0  0  0  0  0  0  0     0  0  0  0  0  0  0  0  0  0  0  0\n",
       " 0  0  0  0  0  0  0  0  0  0  0  0  0     0  0  0  0  0  0  0  0  0  0  0  0\n",
       " 0  0  0  0  0  0  0  0  0  0  0  0  0     0  0  0  0  0  0  0  0  0  0  0  0\n",
       " 0  0  0  0  0  0  0  0  0  0  0  0  0     0  0  0  0  0  0  0  0  0  0  0  0\n",
       " 0  0  0  0  0  0  0  0  0  0  0  0  0  …  0  0  0  0  0  0  0  0  0  0  0  0\n",
       " 0  0  0  0  0  0  0  0  0  0  0  0  0     0  0  0  0  0  0  0  0  0  0  0  0\n",
       " 0  0  0  0  0  0  0  0  0  0  0  0  0     0  0  0  0  0  0  0  0  0  0  0  0\n",
       " ⋮              ⋮              ⋮        ⋱        ⋮              ⋮           \n",
       " 0  0  0  0  0  0  0  0  0  0  0  0  0     0  0  0  0  0  0  0  0  0  0  0  0\n",
       " 0  0  0  0  0  0  0  0  0  0  0  0  0     0  0  0  0  0  0  0  0  0  0  0  0\n",
       " 0  0  0  0  0  0  0  0  0  0  0  0  0  …  0  0  0  0  0  0  0  0  0  0  0  0\n",
       " 0  0  0  0  0  0  0  0  0  0  0  0  0     0  0  0  0  0  0  0  0  0  0  0  0\n",
       " 0  0  0  0  0  0  0  0  0  0  0  0  0     0  0  0  0  0  0  0  0  0  0  0  0\n",
       " 0  0  0  0  0  0  0  0  0  0  0  0  0     0  0  0  0  0  0  0  0  0  0  0  0\n",
       " 0  0  0  0  0  0  0  0  0  0  0  0  0     0  0  0  0  0  0  0  0  0  0  0  0\n",
       " 0  0  0  0  0  0  0  0  0  0  0  0  0  …  0  0  0  0  0  0  0  0  0  0  0  0\n",
       " 0  0  0  0  0  0  0  0  0  0  0  0  0     0  0  0  0  0  0  0  0  0  0  0  0\n",
       " 0  0  0  0  0  0  0  0  0  0  0  0  0     0  0  0  0  0  0  0  0  0  0  0  0\n",
       " 0  0  0  0  0  0  0  0  0  0  0  0  0     0  0  0  0  0  0  0  0  0  0  0  0\n",
       " 0  0  0  0  0  0  0  0  0  0  0  0  0     0  0  0  0  0  0  0  0  0  0  0  0"
      ]
     },
     "execution_count": 121,
     "metadata": {},
     "output_type": "execute_result"
    }
   ],
   "source": [
    "grid = create_world(Grid_size,Cell_number,\"square\")"
   ]
  },
  {
   "cell_type": "code",
   "execution_count": 123,
   "metadata": {},
   "outputs": [
    {
     "data": {
      "text/plain": [
       "31×21 Matrix{Int64}:\n",
       " 0  0  0  0  0  0  0  0  0  0  0  0  0  0  0  0  0  0  0  0  0\n",
       " 0  0  0  0  0  0  0  0  0  0  0  0  0  0  0  0  0  0  0  0  0\n",
       " 0  0  0  0  0  0  0  0  0  0  0  0  0  0  0  0  0  0  0  0  0\n",
       " 0  0  0  0  0  0  0  0  0  0  0  0  0  0  0  0  0  0  0  0  0\n",
       " 0  0  0  0  0  0  0  0  0  0  0  0  0  0  0  0  0  0  0  0  0\n",
       " 1  1  1  1  1  1  1  1  1  1  1  1  1  1  1  1  1  1  1  1  1\n",
       " 1  1  1  1  1  1  1  1  1  1  1  1  1  1  1  1  1  1  1  1  1\n",
       " 1  1  1  1  1  1  1  1  1  1  1  1  1  1  1  1  1  1  1  1  1\n",
       " 1  1  1  1  1  1  1  1  1  1  1  1  1  1  1  1  1  1  1  1  1\n",
       " 1  1  1  1  1  1  1  1  1  1  1  1  1  1  1  1  1  1  1  1  1\n",
       " 1  1  1  1  1  1  1  1  1  1  1  1  1  1  1  1  1  1  1  1  1\n",
       " 1  1  1  1  1  1  1  1  1  1  1  1  1  1  1  1  1  1  1  1  1\n",
       " 1  1  1  1  1  1  1  1  1  1  1  1  1  1  1  1  1  1  1  1  1\n",
       " ⋮              ⋮              ⋮              ⋮              ⋮\n",
       " 1  1  1  1  1  1  1  1  1  1  1  1  1  1  1  1  1  1  1  1  1\n",
       " 1  1  1  1  1  1  1  1  1  1  1  1  1  1  1  1  1  1  1  1  1\n",
       " 1  1  1  1  1  1  1  1  1  1  1  1  1  1  1  1  1  1  1  1  1\n",
       " 1  1  1  1  1  1  1  1  1  1  1  1  1  1  1  1  1  1  1  1  1\n",
       " 1  1  1  1  1  1  1  1  1  1  1  1  1  1  1  1  1  1  1  1  1\n",
       " 1  1  1  1  1  1  1  1  1  1  1  1  1  1  1  1  1  1  1  1  1\n",
       " 1  1  1  1  1  1  1  1  1  1  1  1  1  1  1  1  1  1  1  1  1\n",
       " 1  1  1  1  1  1  1  1  1  1  1  1  1  1  1  1  1  1  1  1  1\n",
       " 1  1  1  1  1  1  1  1  1  1  1  1  1  1  1  1  1  1  1  1  1\n",
       " 1  1  1  1  1  1  1  1  1  1  1  1  1  1  1  1  1  1  1  1  1\n",
       " 1  1  1  1  1  1  1  1  1  1  1  1  1  1  1  1  1  1  1  1  1\n",
       " 1  1  1  1  1  1  1  1  1  1  1  1  1  1  1  1  1  1  1  1  1"
      ]
     },
     "execution_count": 123,
     "metadata": {},
     "output_type": "execute_result"
    }
   ],
   "source": [
    "grid[30:60,40:60]"
   ]
  },
  {
   "cell_type": "code",
   "execution_count": 27,
   "metadata": {},
   "outputs": [],
   "source": [
    "using Distributions"
   ]
  },
  {
   "cell_type": "code",
   "execution_count": 91,
   "metadata": {},
   "outputs": [
    {
     "data": {
      "text/plain": [
       "2-element Vector{Float64}:\n",
       " -0.6163371130840472\n",
       " -1.170619836235338"
      ]
     },
     "execution_count": 91,
     "metadata": {},
     "output_type": "execute_result"
    }
   ],
   "source": [
    "rand(MvNormal(2,1.0))"
   ]
  },
  {
   "cell_type": "code",
   "execution_count": 92,
   "metadata": {},
   "outputs": [
    {
     "data": {
      "text/plain": [
       "true"
      ]
     },
     "execution_count": 92,
     "metadata": {},
     "output_type": "execute_result"
    }
   ],
   "source": [
    "MvNormal(2,1.0) == MvNormal([0.0,0.0],[1.0 0.0;0.0 1.0])"
   ]
  },
  {
   "cell_type": "code",
   "execution_count": 71,
   "metadata": {},
   "outputs": [
    {
     "ename": "LoadError",
     "evalue": "MethodError: no method matching MvNormal()\n\u001b[0mClosest candidates are:\n\u001b[0m  MvNormal(\u001b[91m::Int64\u001b[39m, \u001b[91m::Real\u001b[39m) at C:\\Users\\ank10ki\\AppData\\Local\\Programs\\Julia-1.7.0\\share\\julia\\base\\deprecated.jl:70\n\u001b[0m  MvNormal(\u001b[91m::AbstractVector{<:Real}\u001b[39m) at C:\\Users\\ank10ki\\AppData\\Local\\Programs\\Julia-1.7.0\\share\\julia\\base\\deprecated.jl:70\n\u001b[0m  MvNormal(\u001b[91m::AbstractVector{<:Real}\u001b[39m, \u001b[91m::Real\u001b[39m) at C:\\Users\\ank10ki\\AppData\\Local\\Programs\\Julia-1.7.0\\share\\julia\\base\\deprecated.jl:70\n\u001b[0m  ...",
     "output_type": "error",
     "traceback": [
      "MethodError: no method matching MvNormal()\n\u001b[0mClosest candidates are:\n\u001b[0m  MvNormal(\u001b[91m::Int64\u001b[39m, \u001b[91m::Real\u001b[39m) at C:\\Users\\ank10ki\\AppData\\Local\\Programs\\Julia-1.7.0\\share\\julia\\base\\deprecated.jl:70\n\u001b[0m  MvNormal(\u001b[91m::AbstractVector{<:Real}\u001b[39m) at C:\\Users\\ank10ki\\AppData\\Local\\Programs\\Julia-1.7.0\\share\\julia\\base\\deprecated.jl:70\n\u001b[0m  MvNormal(\u001b[91m::AbstractVector{<:Real}\u001b[39m, \u001b[91m::Real\u001b[39m) at C:\\Users\\ank10ki\\AppData\\Local\\Programs\\Julia-1.7.0\\share\\julia\\base\\deprecated.jl:70\n\u001b[0m  ...",
      "",
      "Stacktrace:",
      " [1] top-level scope",
      "   @ In[71]:1",
      " [2] eval",
      "   @ .\\boot.jl:373 [inlined]",
      " [3] include_string(mapexpr::typeof(REPL.softscope), mod::Module, code::String, filename::String)",
      "   @ Base .\\loading.jl:1196"
     ]
    }
   ],
   "source": [
    "MvNormal()"
   ]
  },
  {
   "cell_type": "code",
   "execution_count": 46,
   "metadata": {},
   "outputs": [
    {
     "data": {
      "text/plain": [
       "2-element Vector{Float64}:\n",
       "  0.38271912173497985\n",
       " -0.8743866121149289"
      ]
     },
     "execution_count": 46,
     "metadata": {},
     "output_type": "execute_result"
    }
   ],
   "source": [
    "rand(MvNormal([1.0,1.0],))"
   ]
  },
  {
   "cell_type": "code",
   "execution_count": 61,
   "metadata": {},
   "outputs": [
    {
     "data": {
      "text/plain": [
       "2-element Vector{Float64}:\n",
       " -0.5619655133191211\n",
       " -2.3383100582545775"
      ]
     },
     "execution_count": 61,
     "metadata": {},
     "output_type": "execute_result"
    }
   ],
   "source": [
    "rand(MvNormal([0.0,0.0],[1.0 0.0;0.0 1.0]))"
   ]
  },
  {
   "cell_type": "code",
   "execution_count": 60,
   "metadata": {},
   "outputs": [
    {
     "name": "stdout",
     "output_type": "stream",
     "text": [
      "[1.0 1.0; 1.0 1.0]\n"
     ]
    }
   ],
   "source": [
    "println(ones(2,2))"
   ]
  },
  {
   "cell_type": "code",
   "execution_count": null,
   "metadata": {},
   "outputs": [],
   "source": []
  },
  {
   "cell_type": "code",
   "execution_count": null,
   "metadata": {},
   "outputs": [],
   "source": []
  },
  {
   "cell_type": "code",
   "execution_count": null,
   "metadata": {},
   "outputs": [],
   "source": [
    "account1 = {\"owner\": \"Donald Duck\", \n",
    "           \"account_number\" : 3826936, \n",
    "           \"balance\" : 10000.0, \n",
    "           \"withdrawal_limit\" : 1000}\n",
    "\n",
    "account2 = {\"owner\": \"Mickey Mouse\", \n",
    "           \"account_number\" : 8360001, \n",
    "           \"balance\" : 2000.0, \n",
    "           \"withdrawal_limit\" : 1000}\n",
    "\n",
    "def deposit(account, amount):\n",
    "    if amount > 0:\n",
    "        account[\"balance\"] += amount\n",
    "        print(\"Deposited {} € to account {}.\".format(amount, account[\"account_number\"]))\n",
    "    else:\n",
    "        print(\"Operation not possible\")\n",
    "    return \n",
    "\n",
    "def withdraw(account, amount):\n",
    "    if amount > account[\"withdrawal_limit\"]:\n",
    "        print(\"Amount exceeds limit for withdrawal.\")\n",
    "    else:\n",
    "        account[\"balance\"] -= amount\n",
    "        print(\"{} € withdrawn from account {}.\".format(amount, account[\"account_number\"]))\n",
    "    return\n",
    "\n",
    "def transfer(source, target, amount):\n",
    "    if amount < 0:\n",
    "        print(\"Tranfer not possible.\")\n",
    "    else:\n",
    "        source[\"balance\"] -= amount\n",
    "        target[\"balance\"] += amount\n",
    "        print(\"{} € transferred from account {} to account {}.\".format(amount, source[\"account_number\"], target[\"account_number\"]))\n",
    "    return\n",
    "\n",
    "def status(account):\n",
    "    print(\"Owner: {}\".format(account[\"owner\"]))\n",
    "    print(\"Account Number: {}\".format(account[\"account_number\"]))\n",
    "    print(\"Balance: {}\".format(account[\"balance\"]))"
   ]
  },
  {
   "cell_type": "code",
   "execution_count": null,
   "metadata": {},
   "outputs": [],
   "source": [
    "deposit(account1, 50)\n",
    "withdraw(account2, 200)\n",
    "transfer(account1, account2, 30)\n",
    "status(account1)"
   ]
  },
  {
   "cell_type": "markdown",
   "metadata": {},
   "source": [
    "**Object-Oriented Approach:** <br>\n",
    "Using a class to instantiate objects that fulfil the same functionality as the program above."
   ]
  },
  {
   "cell_type": "code",
   "execution_count": null,
   "metadata": {},
   "outputs": [],
   "source": [
    "class BankAccount:\n",
    "    \n",
    "    # at first, the attributes of this class are defined:\n",
    "    def __init__(self, owner, account_number, balance):\n",
    "        self.Owner = owner\n",
    "        self.ID = account_number\n",
    "        self.Balance = balance\n",
    "    \n",
    "    # then, methods are defined:\n",
    "    def deposit(self, amount):\n",
    "        if amount > 0:\n",
    "            self.Balance += amount\n",
    "            print(\"Deposited {} € to account {}.\".format(amount, self.ID))\n",
    "        else:\n",
    "            print(\"Deposit not possible\")\n",
    "    \n",
    "    def withdraw(self, amount):\n",
    "        if amount < 0:\n",
    "            print(\"Withdrawal not possible\")\n",
    "        else:\n",
    "            self.Balance -= amount\n",
    "            print(\"{} € withdrawn from account {}.\".format(amount, self.ID))\n",
    "    \n",
    "    def transfer(self, target, amount):\n",
    "        if amount < 0:\n",
    "            print(\"Tranfer not possible.\")\n",
    "        else:\n",
    "            self.Balance -= amount\n",
    "            target.Balance += amount\n",
    "            print(\"{} € transferred from account {} to account {}.\".format(amount, self.ID, target.ID))\n",
    "        \n",
    "    def status(self):\n",
    "        print(\"Owner: {}\".format(self.Owner))\n",
    "        print(\"Account Number: {}\".format(self.ID))\n",
    "        print(\"Balance: {} €\".format(self.Balance))"
   ]
  },
  {
   "cell_type": "code",
   "execution_count": null,
   "metadata": {},
   "outputs": [],
   "source": [
    "acc1 = BankAccount(\"Donald Duck\", 3826936, 10000.0)\n",
    "acc2 = BankAccount(\"Mickey Mouse\", 8360001, 2000.0)\n",
    "\n",
    "acc1.deposit(50)\n",
    "acc2.withdraw(200)\n",
    "acc1.transfer(acc2, 30)\n",
    "acc2.status()"
   ]
  },
  {
   "cell_type": "markdown",
   "metadata": {},
   "source": [
    "The functionality is defined once in the class `BankAccount`. All instances that are created with this class (like the accounts \"acc1\" and \"acc2\") have the same structure: they contain the attributes `Owner`, `ID` and `Balance` and the methods `deposit`, `withdraw`, `transfer` and `status`. Commonly, attributes start with a capital letter and methods with a small letter. They can be accessed in combination with the respective object, seperated by a \".\"."
   ]
  },
  {
   "cell_type": "code",
   "execution_count": null,
   "metadata": {},
   "outputs": [],
   "source": [
    "acc1.Owner"
   ]
  },
  {
   "cell_type": "markdown",
   "metadata": {},
   "source": [
    "<br>\n",
    "<br>\n",
    "\n",
    "##  ```__init__``` and other methods"
   ]
  },
  {
   "cell_type": "markdown",
   "metadata": {},
   "source": [
    "There is a special method, that is called automatically when an object is instantiated from a class: The constructor. The constructor performs tasks like initializing (assigning values to) any variables that the object will need. To assign a constructor, you need to define a method with the name `__init__()`. "
   ]
  },
  {
   "cell_type": "code",
   "execution_count": null,
   "metadata": {},
   "outputs": [],
   "source": [
    "class Empty:\n",
    "    def __init__(self):\n",
    "        print(\"This is the constructor.\")\n",
    "        \n",
    "Empty()"
   ]
  },
  {
   "cell_type": "markdown",
   "metadata": {},
   "source": [
    "<br>\n",
    "<br>\n",
    "The constructor method is used to define the initial state of an object that is instantiated from this class - this is why all attributes should be defined here:\n",
    "\n",
    "```python\n",
    "class BankAccount:\n",
    "    \n",
    "    def __init__(self, owner, account_number, balance):\n",
    "        self.Owner = owner\n",
    "        self.ID = account_number\n",
    "        self.Balance = balance\n",
    "```\n",
    "`self` is a reference to the object that will be instantiated and is used to assign the attributes.\n",
    "\n",
    "<br>\n",
    "\n",
    "To initialize an object from the class BankAccount, you will need the arguments owner, account_number and balance. This way the constructor ensures that all instances from this class have the same shape and this in turn improves the overall consistency of your data."
   ]
  },
  {
   "cell_type": "code",
   "execution_count": null,
   "metadata": {},
   "outputs": [],
   "source": [
    "BankAccount(owner=\"Minnie Mouse\", balance=8000)"
   ]
  },
  {
   "cell_type": "markdown",
   "metadata": {},
   "source": [
    "<br>\n",
    "<br>\n",
    "\n",
    "Similarly, all other functions you want to include as methods in your class are defined with reference to `self` and, if needed, other variables:\n",
    "\n",
    "```python\n",
    "def deposit(self, amount):\n",
    "        if amount > 0:\n",
    "            self.Balance += amount\n",
    "            print(\"Deposited {} € to account {}.\".format(amount, self.ID))\n",
    "        else:\n",
    "            print(\"Operation not possible\")```\n",
    "            \n",
    "<br>\n",
    "<br>"
   ]
  },
  {
   "cell_type": "markdown",
   "metadata": {},
   "source": [
    "## Inheritance"
   ]
  },
  {
   "cell_type": "markdown",
   "metadata": {},
   "source": [
    "You have already learned, how object-oriented programming increases the consistency of your data. Another important motivation behind this approach is the improvement of the reusability of code. Reusabililty describes how easy the code can be adapted to problems related to the one the program was written for. At this point, the concept of inheritance should be presented:"
   ]
  },
  {
   "cell_type": "markdown",
   "metadata": {},
   "source": [
    "You can derive a new class `Child` from another class `Parent` that inherits all attributes and methods - It therefore first resembles a copy of the parent.  "
   ]
  },
  {
   "cell_type": "code",
   "execution_count": null,
   "metadata": {},
   "outputs": [],
   "source": [
    "class Parent:\n",
    "    def __init__(self):\n",
    "        self.X = 0\n",
    "        print(\"This is the parent constructor\")\n",
    "    \n",
    "    def parent_method(self):\n",
    "        print(\"method of parent. self.X is {}\".format(self.X))\n",
    "        "
   ]
  },
  {
   "cell_type": "code",
   "execution_count": null,
   "metadata": {},
   "outputs": [],
   "source": [
    "class Child(Parent):\n",
    "    def child_method(self):\n",
    "        print(\"method of child\")"
   ]
  },
  {
   "cell_type": "markdown",
   "metadata": {},
   "source": [
    "`Child(Parent)` means that the new child class inherits from the parent class. It thus contains the parent constructor with its attribute as well as other methods defined in the parent class. Additionally, it is extended to a new method (\"child_method\")."
   ]
  },
  {
   "cell_type": "code",
   "execution_count": null,
   "metadata": {},
   "outputs": [],
   "source": [
    "c = Child()\n",
    "c.parent_method()\n",
    "c.child_method()"
   ]
  },
  {
   "cell_type": "markdown",
   "metadata": {},
   "source": [
    "<br><br>\n",
    "\n",
    "In this case, there was no constructor defined for the child class, which is why it just adapted the parent constructor. In most cases, you would however need a new constructor, e.g. :"
   ]
  },
  {
   "cell_type": "code",
   "execution_count": null,
   "metadata": {},
   "outputs": [],
   "source": [
    "class Child(Parent):\n",
    "    def __init__(self):\n",
    "        self.Y = 1\n",
    "        print(\"This is the child constructor\")\n",
    "    \n",
    "    def child_method(self):\n",
    "        print(\"method of child. self.Y = {}\".format(self.Y))"
   ]
  },
  {
   "cell_type": "code",
   "execution_count": null,
   "metadata": {},
   "outputs": [],
   "source": [
    "c = Child()\n",
    "c.parent_method()\n",
    "c.child_method()"
   ]
  },
  {
   "cell_type": "markdown",
   "metadata": {},
   "source": [
    "It seems that the parent constructor has been overwritten, since only \"This is the child constructor\" is printed and parent_method triggers an error as there is no attribute `X`. \n",
    "<br><br>\n",
    "To avoid this, you have to explicitly call the parent constructor while you define your new constructor (this applies to all other functions that exist in your parent class and you want to complement in your child class). The built-in function `super()` identifies the respective parent class."
   ]
  },
  {
   "cell_type": "code",
   "execution_count": null,
   "metadata": {},
   "outputs": [],
   "source": [
    "class Child(Parent):\n",
    "    def __init__(self):\n",
    "        super().__init__()\n",
    "        self.Y = 1\n",
    "        print(\"This is the child constructor\")\n",
    "    \n",
    "    def child_method(self):\n",
    "        print(\"method of child. self.Y = {}\".format(self.Y))"
   ]
  },
  {
   "cell_type": "code",
   "execution_count": null,
   "metadata": {},
   "outputs": [],
   "source": [
    "c = Child()\n",
    "c.parent_method()\n",
    "c.child_method()"
   ]
  },
  {
   "cell_type": "markdown",
   "metadata": {},
   "source": [
    "<br><br>\n",
    "To illustrate this, we will create a new class `BankAccount_DailyTurnover` that inherits from our example class `BankAccount`. Objects created with this class will have a new funtionality: they will track the daily turnover and only allow a certain volume per day."
   ]
  },
  {
   "cell_type": "code",
   "execution_count": null,
   "metadata": {},
   "outputs": [],
   "source": [
    "class BankAccount_DailyTurnover(BankAccount):\n",
    "    def __init__(self, owner, account_number, balance, maxTurnover=1000):\n",
    "        super().__init__(owner, account_number, balance)\n",
    "        \n",
    "        self.TurnoverToday = 0\n",
    "        self.MaxTurnover = maxTurnover\n",
    "        \n",
    "    def operation_possible(self, amount):\n",
    "        return self.TurnoverToday + amount <= self.MaxTurnover\n",
    "    \n",
    "    def deposit(self, amount):\n",
    "        if self.operation_possible(amount):\n",
    "            super().deposit(amount)\n",
    "            self.TurnoverToday += amount\n",
    "            return True\n",
    "        else:\n",
    "            print(\"Daily turnover limit exeeded.\")\n",
    "            return False\n",
    "    \n",
    "    def withdraw(self, amount):\n",
    "        if self.operation_possible(amount):\n",
    "            super().withdraw(amount)\n",
    "            self.TurnoverToday += amount\n",
    "            return True\n",
    "        else:\n",
    "            print(\"Daily turnover limit exeeded.\")\n",
    "            return False\n",
    "        \n",
    "    def transfer(self, target, amount):\n",
    "        if self.operation_possible(amount)  and target.operation_possible(amount): \n",
    "            super().transfer(target, amount)\n",
    "            self.TurnoverToday += amount\n",
    "            target.TurnoverToday += amount\n",
    "            return True\n",
    "        else:\n",
    "            print(\"Daily turnover limit exeeded.\")\n",
    "            return False\n",
    "    \n",
    "    def status(self):\n",
    "        super().status()\n",
    "        print(\"Turnover today: {:.2f} € ({:.2f} permitted per day)\".format(self.TurnoverToday, self.MaxTurnover))"
   ]
  },
  {
   "cell_type": "code",
   "execution_count": null,
   "metadata": {},
   "outputs": [],
   "source": [
    "acc3 = BankAccount_DailyTurnover(\"Pluto\", 73047289, 2000)\n",
    "acc4 = BankAccount_DailyTurnover(\"Goofy\", 63061734, 15000)\n",
    "\n",
    "acc3.status()"
   ]
  },
  {
   "cell_type": "code",
   "execution_count": null,
   "metadata": {},
   "outputs": [],
   "source": [
    "acc4.transfer(acc3, 1500)"
   ]
  },
  {
   "cell_type": "code",
   "execution_count": null,
   "metadata": {},
   "outputs": [],
   "source": [
    "acc4.transfer(acc3, 100)\n",
    "acc3.status()"
   ]
  },
  {
   "cell_type": "markdown",
   "metadata": {},
   "source": [
    "# Exercises"
   ]
  },
  {
   "cell_type": "markdown",
   "metadata": {},
   "source": [
    "### <p style='color: green'>easy</p>\n",
    "\n",
    "1. Create a class `Plant` that has the attributes `Size` and `Waterlevel` and the method `water(liter)` that raises the water level by the given value. Another method `grow()` is depending on the water level (e.g. 1 cm growth per liter water available). Create an object from this class: a little tree, that is `20` cm tall and has no water. Make it grow by `3` cm."
   ]
  },
  {
   "cell_type": "markdown",
   "metadata": {},
   "source": [
    "2. Create a class `Animals` that has the keys from the dictionary below as attributes. Instantiate an object from this class with the values from the dictionary."
   ]
  },
  {
   "cell_type": "code",
   "execution_count": null,
   "metadata": {},
   "outputs": [],
   "source": [
    "animals = {\"bulls\": 1, \"cows\" : 5, \"chicken\": 200}"
   ]
  },
  {
   "cell_type": "markdown",
   "metadata": {},
   "source": [
    "3. Add the attribute `Strength` to `Animals` which is initially set to 0 to your class. Then define a method `feed(food)` that takes the value of food and adds it to `Strength`."
   ]
  },
  {
   "cell_type": "markdown",
   "metadata": {},
   "source": [
    "### <p style='color: orange'>medium</p>\n",
    "\n",
    "4. Create a new class `Breeding` that inherits from `Animals`. Think of new attributes and methods that generates calves or eggs depending on the attribute `Strength` (e.g. that breeding consumes 10 strength points) and if appropriate mates can be formed."
   ]
  },
  {
   "cell_type": "markdown",
   "metadata": {},
   "source": [
    "5. Create a new class `Farm`. This new class should be constructed to fulfil the following functionality: it should keep track of a farm that breeds cattle and chicken, this farm has food and money resources. Animals and eggs can be sold, the money can be used to buy food, and food is needed to get strength points for breeding.\n",
    "    - Create this class as a child class that inherits from `Breeding`\n",
    "    - Create this class as a new class, that takes an object instanced from `Breeding` as an argument."
   ]
  },
  {
   "cell_type": "markdown",
   "metadata": {},
   "source": [
    "### <p style='color: red'>hard</p>\n",
    "\n",
    "6. Adapt the method `breed()`, so that it counts the time and after `30` seconds, calves grow up into either bulls or cows (50:50 chance)"
   ]
  },
  {
   "cell_type": "markdown",
   "metadata": {},
   "source": [
    "### <p style='color: green'>easy</p>\n",
    "\n",
    "7. Create a class `Phone` and instantiate an object from it that holds the same information as the dictionary below.\n",
    "\n",
    "```python\n",
    "# contract = €/min, invoice = €\n",
    "phone = {\"number\": \"09313184952\", \"contract\": 0.1, \"invoice\" : 0}\n",
    "```\n"
   ]
  },
  {
   "cell_type": "markdown",
   "metadata": {},
   "source": [
    "8. Write a method `call(number, duration)` that simulates a phone call from your object to the respective number (adjust the invoice respectively)."
   ]
  },
  {
   "cell_type": "markdown",
   "metadata": {},
   "source": [
    "9. The Class `Prepaid` should inherit everything from `Phone`, however, it has a new attribute `Credit`. Add methods to add credit and to query the credit status."
   ]
  },
  {
   "cell_type": "markdown",
   "metadata": {},
   "source": [
    "### <p style='color: orange'>medium</p>\n",
    "\n",
    "10. Adapt the call method in your prepaid class, so that calls are charged from the credit, which cannot be negative."
   ]
  }
 ],
 "metadata": {
  "kernelspec": {
   "display_name": "Julia 1.7.0",
   "language": "julia",
   "name": "julia-1.7"
  },
  "language_info": {
   "file_extension": ".jl",
   "mimetype": "application/julia",
   "name": "julia",
   "version": "1.7.0"
  }
 },
 "nbformat": 4,
 "nbformat_minor": 4
}
