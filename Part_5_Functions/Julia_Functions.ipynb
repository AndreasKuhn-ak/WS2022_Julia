{
 "cells": [
  {
   "cell_type": "markdown",
   "metadata": {},
   "source": [
    "<p style='text-align: center'><a href=https://www.biozentrum.uni-wuerzburg.de/cctb/research/supramolecular-and-cellular-simulations/>Supramolecular and Cellular Simulations</a> (Prof. Fischer)<br>Center for Computational and Theoretical Biology - CCTB<br>Faculty of Biology, University of Würzburg</p>\n",
    "\n",
    "<p style='text-align: center'><br><br>We are looking forward to your comments and suggestions. Please send them to: <br><br></p>\n",
    "    \n",
    " <p style='text-align: center'>   <a href=andreas.kuhn@uni.wuerzburg.de>andreas.kuhn@uni.wuerzburg.de</a> or <a href=sabine.fischer@uni.wuerzburg.de>sabine.fischer@uni.wuerzburg.de</a></p>\n",
    "\n",
    "<h1><p style='text-align: center'> Introduction to Julia </p></h1>\n"
   ]
  },
  {
   "cell_type": "markdown",
   "metadata": {},
   "source": [
    "## Functions\n",
    "Functions are the backbone of every Julia programm. A function is piece of code that can be executed to solve a task. They can range from only some lines of code to whole scripts. This executable code is called by an identifier. For many general tasks Julia has built-in functions, in fact you have already used some of them. Only for complex and specific tasks you need to write your own function.\n",
    "\n",
    "### 1. Built-in Functions\n",
    "The huge amount of built-in functions in Julia covers the basic needs for programming. To call a function you need to know its identifier.\n",
    "\n",
    "The `println()` function is our first example, as it was used several times by now."
   ]
  },
  {
   "cell_type": "code",
   "execution_count": 1,
   "metadata": {},
   "outputs": [
    {
     "name": "stdout",
     "output_type": "stream",
     "text": [
      "Hello world!\n"
     ]
    }
   ],
   "source": [
    "println(\"Hello world!\")"
   ]
  },
  {
   "cell_type": "markdown",
   "metadata": {},
   "source": [
    "Besides the identifier `println()` this function needs an argument. <p style='text-align: justify;'>The argument has to be added between the brackets. This function will print its argument as the scripts output. Strings will be printed directly. In contrast, variables will not be printed themselves, instead their content is printed. "
   ]
  },
  {
   "cell_type": "code",
   "execution_count": 2,
   "metadata": {},
   "outputs": [
    {
     "name": "stdout",
     "output_type": "stream",
     "text": [
      "[1, 2]\n",
      "String\n"
     ]
    }
   ],
   "source": [
    "v1 = [1,2]\n",
    "v2 = \"String\"\n",
    "\n",
    "println(v1)\n",
    "println(v2)\n"
   ]
  },
  {
   "cell_type": "markdown",
   "metadata": {},
   "source": [
    "If `println()` is given more than one argument, the arguments are printed out in the order of their position. Therefore, these types of arguments are also called positional arguments. "
   ]
  },
  {
   "cell_type": "code",
   "execution_count": 3,
   "metadata": {},
   "outputs": [
    {
     "name": "stdout",
     "output_type": "stream",
     "text": [
      "[1, 2]String\n",
      "[1, 2]String  Weißkohl 2\n"
     ]
    }
   ],
   "source": [
    "println(v1, v2)\n",
    "println(v1,v2, \"  Weißkohl \", 2)"
   ]
  },
  {
   "cell_type": "markdown",
   "metadata": {},
   "source": [
    "There are ways to integrate the content of variables into strings. You have to use `$()` infront of a variable name in your string to mark the place were the variables content should be added. \n",
    "Or you choose to do it the simple route and just put you variable in between separate strings. "
   ]
  },
  {
   "cell_type": "code",
   "execution_count": 4,
   "metadata": {},
   "outputs": [
    {
     "name": "stdout",
     "output_type": "stream",
     "text": [
      "I have 2 variables, but you can see just 1\n",
      "I have2variables, but you can see just1\n",
      "I have 2 variables, but you can see just 1\n"
     ]
    }
   ],
   "source": [
    "println(\"I have $(v1[2]) variables, but you can see just $(v1[1])\")\n",
    "println(\"I have\" ,v1[2], \"variables, but you can see just\", v1[1])\n",
    "println(\"I have \" ,v1[2], \" variables, but you can see just \", v1[1])\n",
    "\n"
   ]
  },
  {
   "cell_type": "markdown",
   "metadata": {},
   "source": [
    "Hint: In the second case, it can become quite tedious to take care about blank spaces in between strings as Julia does print out strings without any spaces in between them. "
   ]
  },
  {
   "cell_type": "markdown",
   "metadata": {},
   "source": [
    " To work properly with Julia you have to learn the basic functions or at least know where to find them. A good source to find specific built-in functions is either the Julia documentation (https://docs.julialang.org/en/v1/manual/functions/), when you have an idea of the functions name/identifier. Otherwise an internet search or forums can be a great help. \n",
    "\n",
    "##### Opinion: We believe good google/ general internet search skills are an essential, if not one of the most important skills of being a good programmer. You should not waste your time solving the same problem again that somebody else has already solved. "
   ]
  },
  {
   "cell_type": "markdown",
   "metadata": {},
   "source": [
    "![title](3y8ca1.jpg)"
   ]
  },
  {
   "cell_type": "markdown",
   "metadata": {},
   "source": [
    "\n",
    "In order to use the offical Julia documentation inside Julia, just add a `?` infront of the function name and hit enter."
   ]
  },
  {
   "cell_type": "code",
   "execution_count": 5,
   "metadata": {},
   "outputs": [
    {
     "name": "stdout",
     "output_type": "stream",
     "text": [
      "search: \u001b[0m\u001b[1mp\u001b[22m\u001b[0m\u001b[1mr\u001b[22m\u001b[0m\u001b[1mi\u001b[22m\u001b[0m\u001b[1mn\u001b[22m\u001b[0m\u001b[1mt\u001b[22m\u001b[0m\u001b[1ml\u001b[22m\u001b[0m\u001b[1mn\u001b[22m \u001b[0m\u001b[1mp\u001b[22m\u001b[0m\u001b[1mr\u001b[22m\u001b[0m\u001b[1mi\u001b[22m\u001b[0m\u001b[1mn\u001b[22m\u001b[0m\u001b[1mt\u001b[22msty\u001b[0m\u001b[1ml\u001b[22med \u001b[0m\u001b[1mp\u001b[22m\u001b[0m\u001b[1mr\u001b[22m\u001b[0m\u001b[1mi\u001b[22m\u001b[0m\u001b[1mn\u001b[22m\u001b[0m\u001b[1mt\u001b[22m s\u001b[0m\u001b[1mp\u001b[22m\u001b[0m\u001b[1mr\u001b[22m\u001b[0m\u001b[1mi\u001b[22m\u001b[0m\u001b[1mn\u001b[22m\u001b[0m\u001b[1mt\u001b[22m is\u001b[0m\u001b[1mp\u001b[22m\u001b[0m\u001b[1mr\u001b[22m\u001b[0m\u001b[1mi\u001b[22m\u001b[0m\u001b[1mn\u001b[22m\u001b[0m\u001b[1mt\u001b[22m\n",
      "\n"
     ]
    },
    {
     "data": {
      "text/latex": [
       "\\begin{verbatim}\n",
       "println([io::IO], xs...)\n",
       "\\end{verbatim}\n",
       "Print (using \\href{@ref}{\\texttt{print}}) \\texttt{xs} to \\texttt{io} followed by a newline. If \\texttt{io} is not supplied, prints to the default output stream \\href{@ref}{\\texttt{stdout}}.\n",
       "\n",
       "See also \\href{@ref}{\\texttt{printstyled}} to add colors etc.\n",
       "\n",
       "\\section{Examples}\n",
       "\\begin{verbatim}\n",
       "julia> println(\"Hello, world\")\n",
       "Hello, world\n",
       "\n",
       "julia> io = IOBuffer();\n",
       "\n",
       "julia> println(io, \"Hello\", ',', \" world.\")\n",
       "\n",
       "julia> String(take!(io))\n",
       "\"Hello, world.\\n\"\n",
       "\\end{verbatim}\n"
      ],
      "text/markdown": [
       "```\n",
       "println([io::IO], xs...)\n",
       "```\n",
       "\n",
       "Print (using [`print`](@ref)) `xs` to `io` followed by a newline. If `io` is not supplied, prints to the default output stream [`stdout`](@ref).\n",
       "\n",
       "See also [`printstyled`](@ref) to add colors etc.\n",
       "\n",
       "# Examples\n",
       "\n",
       "```jldoctest\n",
       "julia> println(\"Hello, world\")\n",
       "Hello, world\n",
       "\n",
       "julia> io = IOBuffer();\n",
       "\n",
       "julia> println(io, \"Hello\", ',', \" world.\")\n",
       "\n",
       "julia> String(take!(io))\n",
       "\"Hello, world.\\n\"\n",
       "```\n"
      ],
      "text/plain": [
       "\u001b[36m  println([io::IO], xs...)\u001b[39m\n",
       "\n",
       "  Print (using \u001b[36mprint\u001b[39m) \u001b[36mxs\u001b[39m to \u001b[36mio\u001b[39m followed by a newline. If \u001b[36mio\u001b[39m is not supplied,\n",
       "  prints to the default output stream \u001b[36mstdout\u001b[39m.\n",
       "\n",
       "  See also \u001b[36mprintstyled\u001b[39m to add colors etc.\n",
       "\n",
       "\u001b[1m  Examples\u001b[22m\n",
       "\u001b[1m  ≡≡≡≡≡≡≡≡≡≡\u001b[22m\n",
       "\n",
       "\u001b[36m  julia> println(\"Hello, world\")\u001b[39m\n",
       "\u001b[36m  Hello, world\u001b[39m\n",
       "\u001b[36m  \u001b[39m\n",
       "\u001b[36m  julia> io = IOBuffer();\u001b[39m\n",
       "\u001b[36m  \u001b[39m\n",
       "\u001b[36m  julia> println(io, \"Hello\", ',', \" world.\")\u001b[39m\n",
       "\u001b[36m  \u001b[39m\n",
       "\u001b[36m  julia> String(take!(io))\u001b[39m\n",
       "\u001b[36m  \"Hello, world.\\n\"\u001b[39m"
      ]
     },
     "execution_count": 5,
     "metadata": {},
     "output_type": "execute_result"
    }
   ],
   "source": [
    "?println"
   ]
  },
  {
   "cell_type": "markdown",
   "metadata": {},
   "source": [
    "This will give you a short rounddown of the function, its arguments and a few examples. \n",
    "\n",
    "Comment: Reading the offical documentation can be intimitating at first, as the information is often expressed in a compact manner using very technical terms. But don't worry this is normal, once you have adjusted to the style of writting/thinking and memorized the most common technical terms, you will able to comprehend almost everything by just using the documentation.  "
   ]
  },
  {
   "cell_type": "markdown",
   "metadata": {},
   "source": [
    "### Example functions \n",
    "Following we will present some of the most used functions in Julia."
   ]
  },
  {
   "cell_type": "markdown",
   "metadata": {},
   "source": [
    "#### 1.1. rand()\n",
    "Then rand function is a very useful function and mainly serves two purposes. Firstly, it can randomly sample an object out of a given collection. "
   ]
  },
  {
   "cell_type": "code",
   "execution_count": 7,
   "metadata": {},
   "outputs": [
    {
     "data": {
      "text/plain": [
       "\"dieter\""
      ]
     },
     "execution_count": 7,
     "metadata": {},
     "output_type": "execute_result"
    }
   ],
   "source": [
    "any_vec = [\"hans\", \"dieter\", 4.3, 2]\n",
    "rand(any_vec)"
   ]
  },
  {
   "cell_type": "markdown",
   "metadata": {},
   "source": [
    "You can also create the object in place with the slicing notation `:`. "
   ]
  },
  {
   "cell_type": "code",
   "execution_count": 8,
   "metadata": {},
   "outputs": [
    {
     "data": {
      "text/plain": [
       "6"
      ]
     },
     "execution_count": 8,
     "metadata": {},
     "output_type": "execute_result"
    }
   ],
   "source": [
    "rand(1:10)"
   ]
  },
  {
   "cell_type": "markdown",
   "metadata": {},
   "source": [
    "If you don't give `rand()` a collection where it can sample from it will sample uniformly distributed random `Float64` values between `0.0 - 1.0`. "
   ]
  },
  {
   "cell_type": "code",
   "execution_count": 9,
   "metadata": {},
   "outputs": [
    {
     "data": {
      "text/plain": [
       "0.3328439932875207"
      ]
     },
     "execution_count": 9,
     "metadata": {},
     "output_type": "execute_result"
    }
   ],
   "source": [
    "rand()"
   ]
  },
  {
   "cell_type": "markdown",
   "metadata": {},
   "source": [
    "You can also create an array of randomly sampled objects by providing `rand()` the dimensionality of the desired array."
   ]
  },
  {
   "cell_type": "code",
   "execution_count": 10,
   "metadata": {},
   "outputs": [
    {
     "data": {
      "text/plain": [
       "5-element Vector{Float64}:\n",
       " 0.9722738663738644\n",
       " 0.3660307745072836\n",
       " 0.47772558591747594\n",
       " 0.384215267707528\n",
       " 0.8757532465755166"
      ]
     },
     "execution_count": 10,
     "metadata": {},
     "output_type": "execute_result"
    }
   ],
   "source": [
    "# creating vector\n",
    "randi_vec = rand(5)"
   ]
  },
  {
   "cell_type": "code",
   "execution_count": 11,
   "metadata": {},
   "outputs": [
    {
     "data": {
      "text/plain": [
       "3×4 Matrix{Float64}:\n",
       " 0.045075  0.625833  0.160257  0.183574\n",
       " 0.993043  0.881405  0.852236  0.857972\n",
       " 0.574138  0.815175  0.752576  0.626811"
      ]
     },
     "execution_count": 11,
     "metadata": {},
     "output_type": "execute_result"
    }
   ],
   "source": [
    "# creating matrix \n",
    "randi_matrix = rand(3,4)"
   ]
  },
  {
   "cell_type": "markdown",
   "metadata": {},
   "source": [
    "You can also create an array with objects that are sampled out of your given collection. "
   ]
  },
  {
   "cell_type": "code",
   "execution_count": 12,
   "metadata": {},
   "outputs": [
    {
     "data": {
      "text/plain": [
       "5×4 Matrix{Any}:\n",
       "  \"hans\"     \"dieter\"   \"dieter\"  4.3\n",
       " 2           \"hans\"     \"dieter\"   \"hans\"\n",
       "  \"dieter\"  2          4.3         \"dieter\"\n",
       " 2          4.3         \"hans\"    2\n",
       " 2           \"dieter\"  4.3         \"hans\""
      ]
     },
     "execution_count": 12,
     "metadata": {},
     "output_type": "execute_result"
    }
   ],
   "source": [
    "any_randi_matrix = rand(any_vec, 5,4)"
   ]
  },
  {
   "cell_type": "markdown",
   "metadata": {
    "tags": []
   },
   "source": [
    "#### 1.2 using \n",
    "The `using` keyword is used to load additional packages for specific tasks. You have already seen`using` in the second notebook where we used the `Pkg` package to install additional packages.  \n"
   ]
  },
  {
   "cell_type": "markdown",
   "metadata": {},
   "source": [
    "In this case we gone use the `using` keyword to load the `Random` package, which provides some additionally functionality regarding random sampling. Loading of packages only has to be done once in programm execution. Therefore, for clarity reasons, it is common practice to load all neccessary packages at the begining of a programm. "
   ]
  },
  {
   "cell_type": "code",
   "execution_count": 14,
   "metadata": {},
   "outputs": [],
   "source": [
    "using Random "
   ]
  },
  {
   "cell_type": "markdown",
   "metadata": {},
   "source": [
    "Note: If you have payed attention very closey, you might be wondering why we can load the `Random` package without prior installation through the package manager `Pkg`. This is possible because the `Random` package is part of the standard libary of `Julia`, along other useful packages like(`LinearAlgebra, Statistics,...`), which always get installed alongside base `Julia`. "
   ]
  },
  {
   "cell_type": "markdown",
   "metadata": {},
   "source": [
    "##### 1.2.1 randn() "
   ]
  },
  {
   "cell_type": "markdown",
   "metadata": {},
   "source": [
    "Now we can use some of its functions like `randn()` which works very similarly to `rand()` but returns normaly distributed random numbers (mean = 0, std = 1) instead of uniformly distributed ones.   "
   ]
  },
  {
   "cell_type": "code",
   "execution_count": 15,
   "metadata": {},
   "outputs": [
    {
     "data": {
      "text/plain": [
       "-0.6701583425016875"
      ]
     },
     "execution_count": 15,
     "metadata": {},
     "output_type": "execute_result"
    }
   ],
   "source": [
    "randi_norm = randn()\n",
    "randi_norm"
   ]
  },
  {
   "cell_type": "markdown",
   "metadata": {},
   "source": [
    "You can also create an array of random numbers by providing `randn()` its dimensionality."
   ]
  },
  {
   "cell_type": "code",
   "execution_count": 16,
   "metadata": {},
   "outputs": [
    {
     "data": {
      "text/plain": [
       "3×4 Matrix{Float64}:\n",
       " -0.779003   0.834881  -0.343129  1.94035\n",
       "  1.47491   -1.12354   -0.928463  2.13405\n",
       "  2.35803   -0.202732   0.464664  0.689928"
      ]
     },
     "execution_count": 16,
     "metadata": {},
     "output_type": "execute_result"
    }
   ],
   "source": [
    "randi_norm_matrix  = randn(3,4)"
   ]
  },
  {
   "cell_type": "code",
   "execution_count": 17,
   "metadata": {},
   "outputs": [
    {
     "data": {
      "text/plain": [
       "5-element Vector{Float64}:\n",
       " -0.4152969700575553\n",
       " -0.43970418491038954\n",
       " -0.12885812957428147\n",
       "  0.04143695691361735\n",
       " -1.529970991487361"
      ]
     },
     "execution_count": 17,
     "metadata": {},
     "output_type": "execute_result"
    }
   ],
   "source": [
    "randi_norm_vec = randn(5)"
   ]
  },
  {
   "cell_type": "markdown",
   "metadata": {},
   "source": [
    "##### 1.2.2 shuffle() / shuffle!()"
   ]
  },
  {
   "cell_type": "markdown",
   "metadata": {},
   "source": [
    "But the `Random` packages does not only provide functions that create random values/arrays, you can also randomize the position of values inside an array with `shuffle()` and `shuffle!()`. The difference between `shuffle()` and `shuffle!()` is that `shuffle()` creates a newly shuffled array and returns it, whereas `shuffle!()` modifies the input array and returns it.\n"
   ]
  },
  {
   "cell_type": "markdown",
   "metadata": {},
   "source": [
    "Note: The syntax convention to differentiate mutating (`!`) from non mutating functions, is strictly followed throughout all function in the standard library of Julia. In fact you have already seen it when using the `push!()` function, which adds new elements to an already existing array.  We encourage you to strictly follow this convention in your selfwritten code as well.   "
   ]
  },
  {
   "cell_type": "code",
   "execution_count": 18,
   "metadata": {},
   "outputs": [
    {
     "data": {
      "text/plain": [
       "3×4 Matrix{Float64}:\n",
       " -1.12354   -0.343129  0.689928  1.94035\n",
       " -0.928463  -0.779003  2.35803   0.464664\n",
       " -0.202732   0.834881  2.13405   1.47491"
      ]
     },
     "execution_count": 18,
     "metadata": {},
     "output_type": "execute_result"
    }
   ],
   "source": [
    "randi_norm_matrix2 = shuffle(randi_norm_matrix)"
   ]
  },
  {
   "cell_type": "code",
   "execution_count": 19,
   "metadata": {},
   "outputs": [
    {
     "data": {
      "text/plain": [
       "4-element Vector{Any}:\n",
       "  \"hans\"\n",
       "  \"dieter\"\n",
       " 4.3\n",
       " 2"
      ]
     },
     "execution_count": 19,
     "metadata": {},
     "output_type": "execute_result"
    }
   ],
   "source": [
    "any_vec"
   ]
  },
  {
   "cell_type": "code",
   "execution_count": 20,
   "metadata": {},
   "outputs": [
    {
     "data": {
      "text/plain": [
       "4-element Vector{Any}:\n",
       "  \"dieter\"\n",
       " 2\n",
       "  \"hans\"\n",
       " 4.3"
      ]
     },
     "execution_count": 20,
     "metadata": {},
     "output_type": "execute_result"
    }
   ],
   "source": [
    "shuffle!(any_vec)\n",
    "any_vec"
   ]
  },
  {
   "cell_type": "markdown",
   "metadata": {},
   "source": [
    "#### 1.3 minimum() / maximum()\n",
    "The functions `minimum()` and `maximum()` are able to find the smallest / shortest respectively largest / longest component of their argument, as example an array."
   ]
  },
  {
   "cell_type": "code",
   "execution_count": 21,
   "metadata": {},
   "outputs": [
    {
     "name": "stdout",
     "output_type": "stream",
     "text": [
      "min: 1, max: 6 \n",
      "min: a, max: ghij \n"
     ]
    }
   ],
   "source": [
    "array1 = [1,2,3,4,5,6]\n",
    "maximum(array1)\n",
    "println(\"min: $(minimum(array1)), max: $(maximum(array1)) \")\n",
    "array2 = [\"a\",\"bc\",\"def\",\"ghij\"]\n",
    "println(\"min: $(minimum(array2)), max: $(maximum(array2)) \")"
   ]
  },
  {
   "cell_type": "markdown",
   "metadata": {},
   "source": [
    "#### 1.4 range, collect()\n",
    "\n",
    "The `range(start =1,step = 2,stop = 10 )` function is an alias for the slimer `:` notation to create iterables. But it also provides additional functionality as instead of `stop` there can also be an `length` keyword given: `range(start = 5, step =2, length = 15 )`. \n",
    "\n",
    "The `collect` function creates arrays out of other collections or iterables. Together this a convient way to create arrays. "
   ]
  },
  {
   "cell_type": "code",
   "execution_count": 22,
   "metadata": {},
   "outputs": [
    {
     "name": "stdout",
     "output_type": "stream",
     "text": [
      "UnitRange{Int64}\n",
      "1:10\n"
     ]
    }
   ],
   "source": [
    "println(typeof(1:10))\n",
    "println(1:10)"
   ]
  },
  {
   "cell_type": "code",
   "execution_count": 23,
   "metadata": {},
   "outputs": [
    {
     "name": "stdout",
     "output_type": "stream",
     "text": [
      "Vector{Int64}\n",
      "[1, 2, 3, 4, 5, 6, 7, 8, 9, 10]\n"
     ]
    }
   ],
   "source": [
    "println(typeof(collect(1:10)))\n",
    "println(collect(1:10))"
   ]
  },
  {
   "cell_type": "code",
   "execution_count": 24,
   "metadata": {},
   "outputs": [
    {
     "name": "stdout",
     "output_type": "stream",
     "text": [
      "\n",
      "[1, 2, 3, 4, 5, 6, 7, 8, 9, 10]\n",
      "[5, 6, 7, 8, 9, 10]\n",
      "[2.0, 1.5, 1.0, 0.5, 0.0, -0.5, -1.0, -1.5, -2.0, -2.5, -3.0, -3.5, -4.0, -4.5, -5.0, -5.5, -6.0, -6.5, -7.0, -7.5, -8.0, -8.5, -9.0, -9.5, -10.0, -10.5, -11.0, -11.5, -12.0, -12.5, -13.0, -13.5, -14.0, -14.5, -15.0, -15.5, -16.0, -16.5, -17.0, -17.5, -18.0, -18.5, -19.0, -19.5, -20.0, -20.5, -21.0, -21.5, -22.0, -22.5, -23.0, -23.5, -24.0, -24.5, -25.0, -25.5, -26.0, -26.5, -27.0, -27.5, -28.0, -28.5, -29.0, -29.5, -30.0, -30.5, -31.0, -31.5, -32.0, -32.5, -33.0, -33.5, -34.0, -34.5, -35.0, -35.5, -36.0, -36.5, -37.0, -37.5, -38.0, -38.5, -39.0, -39.5, -40.0, -40.5, -41.0, -41.5, -42.0, -42.5, -43.0, -43.5, -44.0, -44.5, -45.0, -45.5, -46.0, -46.5, -47.0, -47.5]\n"
     ]
    }
   ],
   "source": [
    "println()\n",
    "println(collect(1:10))\n",
    "println(collect(range(5,10)))\n",
    "println(collect(range(start = 2, step =-0.5, length =100)))"
   ]
  },
  {
   "cell_type": "markdown",
   "metadata": {},
   "source": [
    "#### 1.5 length()\n",
    "The function `length()` counts the length of an object. The argument needs to be an iterable object."
   ]
  },
  {
   "cell_type": "code",
   "execution_count": 25,
   "metadata": {},
   "outputs": [
    {
     "name": "stdout",
     "output_type": "stream",
     "text": [
      "6\n",
      "4\n",
      "2\n",
      "10\n"
     ]
    }
   ],
   "source": [
    "println(length(\"dieter\"))\n",
    "println(length([1,2,3,4]))\n",
    "println(length(Dict(\"animal\"=>\"snake\",\"number\" =>7)))\n",
    "println(length(1:10))"
   ]
  },
  {
   "cell_type": "markdown",
   "metadata": {},
   "source": [
    "Hint: Many function can also be broadcasted (sometimes also refered to as vectorized) by the `.` operator to each element when used on a collection. The returning object is then an array with the same dimension as the object but with the return value of the function as entries.  "
   ]
  },
  {
   "cell_type": "code",
   "execution_count": 26,
   "metadata": {},
   "outputs": [
    {
     "data": {
      "text/plain": [
       "10-element Vector{Vector{Float64}}:\n",
       " [0.55325132685251, 0.1073268495084364, 0.1587092643206195, 0.7755145606779527]\n",
       " [0.09413272969536801, 0.6414922465618657, 0.18634243930871297, 0.2918996319833994, 0.299672036074629, 0.30378424320783715, 0.8230201682393146]\n",
       " [0.8596881568613798, 0.5237907209808036, 0.5733378258849645, 0.9136281563145594, 0.3938792939046748, 0.3154384333164071, 0.8178380348662705, 0.23408551229589591, 0.25018443094492615, 0.24467803017334966]\n",
       " [0.5733713262734602, 0.8659197247758901, 0.34467160599260704, 0.05493259253219662]\n",
       " [0.6186907370765858, 0.6899226337352432, 0.9597154976559985, 0.2854044455598378]\n",
       " [0.7713838080032265, 0.08964727924557514, 0.15726286985044802]\n",
       " [0.002300786930937382, 0.25196715107927203]\n",
       " [0.9546580730162463, 0.4849069573927287, 0.9758202193558612, 0.8121336722800568, 0.44865341289186145, 0.35020863831176985, 0.4991368621166976, 0.46365538698593833, 0.29832081261626175, 0.5862311308982123]\n",
       " [0.15084328872840735, 0.8947689864408734, 0.2864613061841452, 0.6473006306640425, 0.641110276450326, 0.9212509194007938, 0.602374402149521]\n",
       " [0.11011381925407238, 0.2443521957337832, 0.2668679035950383, 0.6123722252449991, 0.5231612514075549, 0.6204439673790096, 0.332724461458213, 0.04110860422990581]"
      ]
     },
     "execution_count": 26,
     "metadata": {},
     "output_type": "execute_result"
    }
   ],
   "source": [
    "array_of_arrays = [y = [x = rand() for x in 1:rand(1:10)] for y in 1:10]"
   ]
  },
  {
   "cell_type": "code",
   "execution_count": 29,
   "metadata": {},
   "outputs": [
    {
     "name": "stdout",
     "output_type": "stream",
     "text": [
      "10\n",
      "[4, 7, 10, 4, 4, 3, 2, 10, 7, 8]\n"
     ]
    }
   ],
   "source": [
    "println(length(array_of_arrays))\n",
    "println(length.(array_of_arrays))"
   ]
  },
  {
   "cell_type": "markdown",
   "metadata": {},
   "source": [
    "#### 1.6 readline()\n",
    "If you need an user to type in some informations use the `readline()` function. This function will open a field to input text."
   ]
  },
  {
   "cell_type": "code",
   "execution_count": 30,
   "metadata": {},
   "outputs": [
    {
     "name": "stdin",
     "output_type": "stream",
     "text": [
      "stdin>  23\n"
     ]
    },
    {
     "data": {
      "text/plain": [
       "\"23\""
      ]
     },
     "execution_count": 30,
     "metadata": {},
     "output_type": "execute_result"
    }
   ],
   "source": [
    "input = readline()"
   ]
  },
  {
   "cell_type": "markdown",
   "metadata": {},
   "source": [
    "If you are in Jupyter notebook you also use the `IJulia.readprompt()` function which also allows you to print out a message to the user.  "
   ]
  },
  {
   "cell_type": "code",
   "execution_count": 31,
   "metadata": {},
   "outputs": [
    {
     "name": "stdin",
     "output_type": "stream",
     "text": [
      "Please input a number 123\n"
     ]
    },
    {
     "data": {
      "text/plain": [
       "\"123\""
      ]
     },
     "execution_count": 31,
     "metadata": {},
     "output_type": "execute_result"
    }
   ],
   "source": [
    "input = IJulia.readprompt(\"Please input a number\")"
   ]
  },
  {
   "cell_type": "markdown",
   "metadata": {},
   "source": [
    "#### 1.7 parse()\n",
    "All input is interpreted as a string, in order to create Int64 or Float64 from input we can use the `parse` function. The first argument is the datatype we want to create and the second one is the string we want to parse. "
   ]
  },
  {
   "cell_type": "code",
   "execution_count": 32,
   "metadata": {},
   "outputs": [
    {
     "name": "stdin",
     "output_type": "stream",
     "text": [
      "Please input a number 13\n"
     ]
    },
    {
     "name": "stdout",
     "output_type": "stream",
     "text": [
      "13 String\n",
      "13 Int64\n"
     ]
    }
   ],
   "source": [
    "input = IJulia.readprompt(\"Please input a number\")\n",
    "number_input = parse(Int64,input)\n",
    "println(input,\" \",typeof(input))\n",
    "println(number_input,\" \",typeof(number_input))"
   ]
  },
  {
   "cell_type": "markdown",
   "metadata": {
    "tags": []
   },
   "source": [
    "#### 1.8 sort() / sort!()\n",
    "To sort an iterable object you can use the function `sort()` or `sort!()`. Just add the object to sort as argument. Similar to `shuffle()` and `shuffle!()`, `sort()` creates a new array and returns it, whereas `sort!()` modifies the input array and returns it. "
   ]
  },
  {
   "cell_type": "code",
   "execution_count": 33,
   "metadata": {
    "tags": []
   },
   "outputs": [
    {
     "name": "stdout",
     "output_type": "stream",
     "text": [
      "[0, 1, 3, 4, 8, 9]\n",
      "[1, 0, 9, 4, 3, 8]\n",
      "[0, 1, 3, 4, 8, 9]\n",
      "[0, 1, 3, 4, 8, 9]\n"
     ]
    }
   ],
   "source": [
    "array2 = [1,0,9,4,3,8]\n",
    "println(sort(array2))\n",
    "#original array is not changed\n",
    "println(array2)\n",
    "\n",
    "println(sort!(array2))\n",
    "#original array is changed \n",
    "println(array2)\n"
   ]
  },
  {
   "cell_type": "markdown",
   "metadata": {
    "tags": []
   },
   "source": [
    " #### 1.9 keyword arguments\n",
    "The two `sort() /sort!()` functions also have some optional arguments so called keyword arguments. These arguments are given by calling their respective keyword and always have a default value. In contrast to positional arguments their position does not matter.  One important keyword argument for the `sort` function is `rev` which means reversed order. This can be true or false, whereas the default value is false.  "
   ]
  },
  {
   "cell_type": "code",
   "execution_count": 34,
   "metadata": {},
   "outputs": [
    {
     "name": "stdout",
     "output_type": "stream",
     "text": [
      "[9, 8, 4, 3, 1, 0]\n"
     ]
    }
   ],
   "source": [
    "println(sort(array2,rev = true))"
   ]
  },
  {
   "cell_type": "code",
   "execution_count": 35,
   "metadata": {},
   "outputs": [
    {
     "data": {
      "text/plain": [
       "true"
      ]
     },
     "execution_count": 35,
     "metadata": {},
     "output_type": "execute_result"
    }
   ],
   "source": [
    "## position of keyword argument does not matter: \n",
    "sort(array2,rev = true) == sort(rev = true,array2) "
   ]
  },
  {
   "cell_type": "markdown",
   "metadata": {},
   "source": [
    "Note: Even though the position of keyword arguments does not matter, it is common practice to provide them after all positional arguments. So always try to write : \n",
    "``` julia\n",
    "func1( a,b,c, rev = true, hans = 10, color = \"green\")\n",
    "```\n",
    "instead of :\n",
    "``` julia\n",
    "func1( hans = 10, a,b,color = \"green\",c, rev = true)\n",
    "```\n",
    "as the second variant becomes very confusing very fast :). \n",
    "\n"
   ]
  },
  {
   "cell_type": "markdown",
   "metadata": {},
   "source": [
    "When we take a look at the offical documentation for sort by calling `?sort` or going to the respective webpage (https://docs.julialang.org/en/v1/base/sort/) we can see that `sort` has overall 5 keyword arguments. One of these 5 keyword arguments is called `by`. According to the documention : \"The by keyword lets you provide a custom function that will be applied to each element before comparison\" . The question is now how do we provide a custom function ? This leads us smoothly to the next big section in this chapter:  How to write your own function."
   ]
  },
  {
   "cell_type": "markdown",
   "metadata": {},
   "source": [
    "### 2. Self written Functions\n",
    "\n",
    "There are three ways to define a function in Julia. \n",
    "The first, quickest and dirtiest way is to use the `->` operator:"
   ]
  },
  {
   "cell_type": "code",
   "execution_count": 36,
   "metadata": {},
   "outputs": [
    {
     "data": {
      "text/plain": [
       "#5 (generic function with 1 method)"
      ]
     },
     "execution_count": 36,
     "metadata": {},
     "output_type": "execute_result"
    }
   ],
   "source": [
    "firstfunc = x-> x^2"
   ]
  },
  {
   "cell_type": "markdown",
   "metadata": {},
   "source": [
    "This is a function with the identifier `firstfunc` that operates on the input argument x and raises x to the power of 2 and returns the new value. "
   ]
  },
  {
   "cell_type": "markdown",
   "metadata": {},
   "source": [
    "There is also another more mathematical inspired way to define a function in one line by using the `identifier(argument) = operation ` syntax."
   ]
  },
  {
   "cell_type": "code",
   "execution_count": 38,
   "metadata": {},
   "outputs": [
    {
     "data": {
      "text/plain": [
       "fourthfunc (generic function with 1 method)"
      ]
     },
     "execution_count": 38,
     "metadata": {},
     "output_type": "execute_result"
    }
   ],
   "source": [
    "secondfunc(x) = x^3\n",
    "#arguments can also be empty\n",
    "thirdfunc() = rand(1:10)\n",
    "#also multiple arguments are possible\n",
    "fourthfunc(t,u) = t*u +4"
   ]
  },
  {
   "cell_type": "markdown",
   "metadata": {},
   "source": [
    "We can call these functions by their identifier together with the right number of arguments. "
   ]
  },
  {
   "cell_type": "code",
   "execution_count": 39,
   "metadata": {},
   "outputs": [
    {
     "name": "stdout",
     "output_type": "stream",
     "text": [
      "100\n",
      "27\n",
      "10\n",
      "14\n"
     ]
    }
   ],
   "source": [
    "println(firstfunc(10))\n",
    "println(secondfunc(3))\n",
    "println(thirdfunc())\n",
    "println(fourthfunc(2,5))"
   ]
  },
  {
   "cell_type": "markdown",
   "metadata": {},
   "source": [
    "#### 2.1 Anonymous functions"
   ]
  },
  {
   "cell_type": "code",
   "execution_count": 40,
   "metadata": {},
   "outputs": [
    {
     "data": {
      "text/plain": [
       "#7 (generic function with 1 method)"
      ]
     },
     "execution_count": 40,
     "metadata": {},
     "output_type": "execute_result"
    }
   ],
   "source": [
    "x-> x^2"
   ]
  },
  {
   "cell_type": "markdown",
   "metadata": {},
   "source": [
    "With the `->` syntax we can even omitting the identifier. But why would you define a function without an identifier so cannot even call it ?  \n",
    "These so called anonymous functions are very useful when they are used as an argument to another function.\n",
    "\n",
    "Now, we come back to the `sort` function where we can give such an anonymous function to the `by` keyword.  "
   ]
  },
  {
   "cell_type": "code",
   "execution_count": 41,
   "metadata": {},
   "outputs": [
    {
     "name": "stdout",
     "output_type": "stream",
     "text": [
      "[\"bbb\", \"cccccc\", \"aaaaaaaaa\"]\n"
     ]
    }
   ],
   "source": [
    "println(sort( [\"bbb\",\"aaaaaaaaa\",\"cccccc\"],by = x->length(x)))"
   ]
  },
  {
   "cell_type": "markdown",
   "metadata": {},
   "source": [
    "##### 2.1.1 Map"
   ]
  },
  {
   "cell_type": "markdown",
   "metadata": {},
   "source": [
    "The map function is another very useful function that takes a function  and a collection as arguments. The function is then applied to all elements of the collection. "
   ]
  },
  {
   "cell_type": "code",
   "execution_count": 42,
   "metadata": {},
   "outputs": [
    {
     "name": "stdout",
     "output_type": "stream",
     "text": [
      "[1, 4, 9, 16, 25, 36, 49, 64, 81, 100]\n",
      "[1, 4, 9, 16, 25, 36, 49, 64, 81, 100]\n"
     ]
    }
   ],
   "source": [
    "println(map(firstfunc,collect(1:10)))\n",
    "# whe could also use the . notation to achieve the same\n",
    "println(firstfunc.(collect(1:10)))"
   ]
  },
  {
   "cell_type": "markdown",
   "metadata": {},
   "source": [
    "We can also apply a function to every element of a collection by using the previously shown `.` notation for broadcasting operators like `.+`. But the big advantage of the `map` function compared to the `.` notation is that we also define an anonymous function right in place.  "
   ]
  },
  {
   "cell_type": "code",
   "execution_count": 43,
   "metadata": {},
   "outputs": [
    {
     "data": {
      "text/plain": [
       "10-element Vector{Int64}:\n",
       "    3\n",
       "   14\n",
       "   39\n",
       "   84\n",
       "  155\n",
       "  258\n",
       "  399\n",
       "  584\n",
       "  819\n",
       " 1110"
      ]
     },
     "execution_count": 43,
     "metadata": {},
     "output_type": "execute_result"
    }
   ],
   "source": [
    "map(x->x^3+x^2+x,collect(1:10))"
   ]
  },
  {
   "cell_type": "markdown",
   "metadata": {},
   "source": [
    "We can also define quite complex functions with the `->` notation. "
   ]
  },
  {
   "cell_type": "code",
   "execution_count": 44,
   "metadata": {},
   "outputs": [
    {
     "data": {
      "text/plain": [
       "10-element Vector{Int64}:\n",
       "     0\n",
       "    16\n",
       "    39\n",
       "   256\n",
       "     0\n",
       "   258\n",
       "     0\n",
       "  4096\n",
       "   819\n",
       " 10000"
      ]
     },
     "execution_count": 44,
     "metadata": {},
     "output_type": "execute_result"
    }
   ],
   "source": [
    "map(x->if x%3 == 0 x^3+x^2+x  elseif x%2 == 0 x =x^4 else x = 0  end,collect(1:10))"
   ]
  },
  {
   "cell_type": "markdown",
   "metadata": {},
   "source": [
    "But as seen in the cell above, it can get messy very fast when a  bigger function is defined in one line with the  `->` syntax. The same is also true for the `identifier(argument) = operation ` syntax. "
   ]
  },
  {
   "cell_type": "markdown",
   "metadata": {
    "tags": []
   },
   "source": [
    "### 2.2 Complex functions\n",
    "\n",
    "When we want to define big and complex functions we should use the third and most powerful way Julia provides us to define functions:\n",
    "``` julia\n",
    "function identifier(arguments,...)\n",
    "    \n",
    "    operations...\n",
    "    \n",
    "    return result,...\n",
    "    \n",
    "end\n",
    "```\n",
    "\n"
   ]
  },
  {
   "cell_type": "markdown",
   "metadata": {},
   "source": [
    "For example we can define a function in this way that adds two numbers together but only if the two numbers are even. If one or both numbers aren't even an error is printed and 0 is returned."
   ]
  },
  {
   "cell_type": "code",
   "execution_count": 45,
   "metadata": {},
   "outputs": [
    {
     "data": {
      "text/plain": [
       "add_only_even (generic function with 1 method)"
      ]
     },
     "execution_count": 45,
     "metadata": {},
     "output_type": "execute_result"
    }
   ],
   "source": [
    "function add_only_even(num1,num2)\n",
    "    \n",
    "    if num1%2 ==0 && num2%2 ==0\n",
    "        return num1*num2\n",
    "    else\n",
    "        println(\"ERROR ERROR ERROR\")\n",
    "        return 0\n",
    "    end\n",
    "end"
   ]
  },
  {
   "cell_type": "code",
   "execution_count": 46,
   "metadata": {},
   "outputs": [
    {
     "data": {
      "text/plain": [
       "8"
      ]
     },
     "execution_count": 46,
     "metadata": {},
     "output_type": "execute_result"
    }
   ],
   "source": [
    "add_only_even(2,4)"
   ]
  },
  {
   "cell_type": "code",
   "execution_count": 47,
   "metadata": {},
   "outputs": [
    {
     "name": "stdout",
     "output_type": "stream",
     "text": [
      "ERROR ERROR ERROR\n"
     ]
    },
    {
     "data": {
      "text/plain": [
       "0"
      ]
     },
     "execution_count": 47,
     "metadata": {},
     "output_type": "execute_result"
    }
   ],
   "source": [
    "add_only_even(2,5)"
   ]
  },
  {
   "cell_type": "markdown",
   "metadata": {},
   "source": [
    "With this syntax it is also possible to modify the return value. E.g. we don't need to return aynthing. \n",
    "\n",
    "This function for example make the elements of the input array smaller when they exceeds the given max size.  "
   ]
  },
  {
   "cell_type": "code",
   "execution_count": 48,
   "metadata": {},
   "outputs": [
    {
     "data": {
      "text/plain": [
       "make_elements_smaller! (generic function with 1 method)"
      ]
     },
     "execution_count": 48,
     "metadata": {},
     "output_type": "execute_result"
    }
   ],
   "source": [
    "function make_elements_smaller!(vector,max_size)\n",
    "    for i in 1:length(vector)\n",
    "        if vector[i] > max_size\n",
    "            vector[i] = max_size\n",
    "        end\n",
    "    end\n",
    "end    "
   ]
  },
  {
   "cell_type": "markdown",
   "metadata": {},
   "source": [
    "As we want to follow the syntax convention regarding mutating and non mutation functions, the function name ends with a `!`.  "
   ]
  },
  {
   "cell_type": "code",
   "execution_count": 49,
   "metadata": {},
   "outputs": [
    {
     "data": {
      "text/plain": [
       "10-element Vector{Int64}:\n",
       " 9\n",
       " 7\n",
       " 7\n",
       " 1\n",
       " 3\n",
       " 3\n",
       " 9\n",
       " 4\n",
       " 4\n",
       " 6"
      ]
     },
     "execution_count": 49,
     "metadata": {},
     "output_type": "execute_result"
    }
   ],
   "source": [
    "test_vec = rand(1:10,10)"
   ]
  },
  {
   "cell_type": "code",
   "execution_count": 50,
   "metadata": {},
   "outputs": [],
   "source": [
    "#no return value\n",
    "make_elements_smaller!(test_vec,5)"
   ]
  },
  {
   "cell_type": "code",
   "execution_count": 51,
   "metadata": {},
   "outputs": [
    {
     "data": {
      "text/plain": [
       "10-element Vector{Int64}:\n",
       " 5\n",
       " 5\n",
       " 5\n",
       " 1\n",
       " 3\n",
       " 3\n",
       " 5\n",
       " 4\n",
       " 4\n",
       " 5"
      ]
     },
     "execution_count": 51,
     "metadata": {},
     "output_type": "execute_result"
    }
   ],
   "source": [
    "test_vec"
   ]
  },
  {
   "cell_type": "markdown",
   "metadata": {},
   "source": [
    "The original test_vec has been changed."
   ]
  },
  {
   "cell_type": "markdown",
   "metadata": {},
   "source": [
    "#### 2.3 Keyword arguments in own functions. \n",
    "Keyword arguments offer a possibility to provide function arguments with a default value. The argument is replaced by a keyword and a default value like this `keyword = default`. Keyword arguments have to be put after normal arguments with an `;`. The function can then be called either without argument, then the default value will be chosen, or with the number of keyarguments you need."
   ]
  },
  {
   "cell_type": "markdown",
   "metadata": {},
   "source": [
    "Note: In the documentations of many programming languages/packages it is common to use the abbreviation `args` for positional arguments and `kwargs` for keyword arguments.  "
   ]
  },
  {
   "cell_type": "code",
   "execution_count": 52,
   "metadata": {},
   "outputs": [
    {
     "data": {
      "text/plain": [
       "make_elements_smaller2! (generic function with 1 method)"
      ]
     },
     "execution_count": 52,
     "metadata": {},
     "output_type": "execute_result"
    }
   ],
   "source": [
    "function make_elements_smaller2!(vector;max_size = 5)\n",
    "    for i in 1:length(vector)\n",
    "        if vector[i] > max_size\n",
    "            vector[i] = max_size\n",
    "        end\n",
    "    end\n",
    "end    "
   ]
  },
  {
   "cell_type": "code",
   "execution_count": 53,
   "metadata": {},
   "outputs": [
    {
     "data": {
      "text/plain": [
       "10-element Vector{Int64}:\n",
       " 21\n",
       " 83\n",
       " 87\n",
       " 68\n",
       " 62\n",
       " 99\n",
       " 62\n",
       " 35\n",
       " 65\n",
       " 42"
      ]
     },
     "execution_count": 53,
     "metadata": {},
     "output_type": "execute_result"
    }
   ],
   "source": [
    "test_vec_2 = rand(1:10,10)\n",
    "test_vec_3 = rand(1:100,10) "
   ]
  },
  {
   "cell_type": "code",
   "execution_count": 54,
   "metadata": {},
   "outputs": [],
   "source": [
    "#now we can either use the default value 5 of the keyword argument or change the value by using the keyword. \n",
    "make_elements_smaller2!(test_vec_2)\n",
    "make_elements_smaller2!(test_vec_3, max_size = 50)"
   ]
  },
  {
   "cell_type": "code",
   "execution_count": 55,
   "metadata": {},
   "outputs": [
    {
     "data": {
      "text/plain": [
       "10-element Vector{Int64}:\n",
       " 3\n",
       " 1\n",
       " 5\n",
       " 4\n",
       " 3\n",
       " 1\n",
       " 5\n",
       " 5\n",
       " 2\n",
       " 3"
      ]
     },
     "execution_count": 55,
     "metadata": {},
     "output_type": "execute_result"
    }
   ],
   "source": [
    "test_vec_2"
   ]
  },
  {
   "cell_type": "code",
   "execution_count": 56,
   "metadata": {},
   "outputs": [
    {
     "data": {
      "text/plain": [
       "10-element Vector{Int64}:\n",
       " 21\n",
       " 50\n",
       " 50\n",
       " 50\n",
       " 50\n",
       " 50\n",
       " 50\n",
       " 35\n",
       " 50\n",
       " 42"
      ]
     },
     "execution_count": 56,
     "metadata": {},
     "output_type": "execute_result"
    }
   ],
   "source": [
    "test_vec_3"
   ]
  },
  {
   "cell_type": "markdown",
   "metadata": {},
   "source": [
    "## Exercises:\n",
    "Execute the following cell, to create the variables `a_1` - `a_4. `"
   ]
  },
  {
   "cell_type": "code",
   "execution_count": 61,
   "metadata": {},
   "outputs": [],
   "source": [
    "a_1=[10, 39, 34, 35, 20, 32,  3,  9, 29, 35,  0, 27, 36, 40, 33,  5, 12, 24, 11, 50,  1,  7, 14, 22,  9]\n",
    "a_2=[15,  2, 11, 16, 14,  1, 12, 14,  3,  7,  0,  4,  6, 13, 18, 19,  3,  9, 15, 16,  0, 19, 12, 13, 13]\n",
    "a_3=[   4,   5,   1,   6,  3,  -3,  -6,  -1, -5,   -4]\n",
    "a_4=[\"lizard\",\"cat\",\"mouse\",\"bird\",\"butterfly\"];"
   ]
  },
  {
   "cell_type": "markdown",
   "metadata": {},
   "source": [
    "### <p style='color: green'>easy</p>\n",
    "1. Check all arrays for their length, print it and save the length of `a_1` in a variable."
   ]
  },
  {
   "cell_type": "markdown",
   "metadata": {},
   "source": [
    "2. Find the minimum and maximum of `a_1` and `a_3`, save the min and max of `a_1` in variables.\n"
   ]
  },
  {
   "cell_type": "markdown",
   "metadata": {},
   "source": [
    "3. Print the sentence: `\"A_1 is x elements long. Its maximum is x and its minimum y.\"` In place of `x` and `y` add the actual values. Use your saved values."
   ]
  },
  {
   "cell_type": "markdown",
   "metadata": {},
   "source": [
    "4. Sort `a_1` and `a_4`."
   ]
  },
  {
   "cell_type": "markdown",
   "metadata": {},
   "source": [
    "### <p style='color: orange'>medium</p>\n"
   ]
  },
  {
   "cell_type": "markdown",
   "metadata": {},
   "source": [
    "5. You might have used `1:(length(array1))` in one of your loops, there is a better solution for this task. Search for the function `enumerate()`. Familiarize yourself with this function and use it to improve the following code:\n",
    "````Julia\n",
    "hansus = [1,5,8,2,7,8,3,2,8,2,9,7,4]\n",
    "for i in 1:(length(hansus))\n",
    "       println(\"The element with index $(i) is $(hansus[i])\")\n",
    "end\n",
    "````"
   ]
  },
  {
   "cell_type": "markdown",
   "metadata": {},
   "source": [
    "6. Write & execute a function that asks to input a number, multiplies it by `10` and prints the result. The script should ask for more input till you type in: `stop`.\n",
    "\n",
    "Hint: If you are struggling with that problem, take a look at the number guesser in the first jupyter notebook called \"Julia_Notebooks\".   "
   ]
  },
  {
   "cell_type": "markdown",
   "metadata": {},
   "source": [
    "\n",
    "        "
   ]
  },
  {
   "cell_type": "markdown",
   "metadata": {},
   "source": [
    "7. Install the package `Distributions` so that you are able to execute the following cell. What is the difference between `rand()` and `rand(Uniform(-1,1))`?"
   ]
  },
  {
   "cell_type": "code",
   "execution_count": 64,
   "metadata": {},
   "outputs": [],
   "source": [
    "using Distributions"
   ]
  },
  {
   "cell_type": "markdown",
   "metadata": {},
   "source": [
    "8. Use the `scatter()` function from the `CairoMakie` ploting package and make a scatter plot with the created values for x and y below. \n"
   ]
  },
  {
   "cell_type": "code",
   "execution_count": 67,
   "metadata": {},
   "outputs": [],
   "source": [
    "x = collect(1:100)\n",
    "y = [ (x^1.2+x*0.5rand(Uniform(-1,1))+rand(Uniform(-1,1)*5)) for x in 1:100];"
   ]
  },
  {
   "cell_type": "markdown",
   "metadata": {},
   "source": [
    "Hint: The `;` at the end of the last line surpresses the output of the last variable in a cell. "
   ]
  },
  {
   "cell_type": "markdown",
   "metadata": {},
   "source": [
    "9. Add a line plot to your scatter plot with the `lines!` function that plots x and y_truth.\n",
    "\n",
    "Hint: The lines!() function always modifies the last used plot, but does not give an output. If you want an output you should give your scatter plot a name and call it after it was modified"
   ]
  },
  {
   "cell_type": "code",
   "execution_count": 69,
   "metadata": {},
   "outputs": [],
   "source": [
    "y_truth = [ x^1.2 for x in 1:100];"
   ]
  },
  {
   "cell_type": "markdown",
   "metadata": {},
   "source": [
    "### <p style='color: red'>hard</p>\n"
   ]
  },
  {
   "cell_type": "markdown",
   "metadata": {},
   "source": [
    "10. Now we have a plot containing the measured data and the ground truth but not the error.  Take a look at the documentation of Makies errorbar (https://makie.juliaplots.org/stable/examples/plotting_functions/errorbars/) and add errorbars to every plotted point of the measured data with the `errorbar!()` function.  \n",
    "\n"
   ]
  },
  {
   "cell_type": "code",
   "execution_count": 71,
   "metadata": {},
   "outputs": [],
   "source": [
    "y_error = [0.5*x+5 for x in 1:100];"
   ]
  },
  {
   "cell_type": "markdown",
   "metadata": {},
   "source": [
    "11. Read the section of the Julia documentation regarding `Varargs Functions` (https://docs.julialang.org/en/v1/manual/functions/#Varargs-Functions). Write your own function with variable arguments. The function should perform various calculations:\n",
    "- It should take two numbers and any count of additional numbers\n",
    "- It should sum up all arguments\n",
    "- A switch should allow to instead multiply all arguments.\n",
    "- If less then 2 numbers are provided an error message should be provided"
   ]
  },
  {
   "cell_type": "markdown",
   "metadata": {},
   "source": [
    "12. Write & execute a function, that processes an array. The function should test if the array is filled with numbers or strings.\n",
    "    - If the array contains only one data type, the appropriate function should be used: \n",
    "        - If it is a array of numbers, it should display the minimum and maximum\n",
    "        - If it is a array of strings, use a built-in function to sort it by length.\n",
    "     - If the array contains both numbers and strings (or anythingelse= an error message should be displayed."
   ]
  },
  {
   "cell_type": "code",
   "execution_count": null,
   "metadata": {},
   "outputs": [],
   "source": []
  }
 ],
 "metadata": {
  "kernelspec": {
   "display_name": "Julia 1.8.5",
   "language": "julia",
   "name": "julia-1.8"
  },
  "language_info": {
   "file_extension": ".jl",
   "mimetype": "application/julia",
   "name": "julia",
   "version": "1.8.5"
  }
 },
 "nbformat": 4,
 "nbformat_minor": 4
}
