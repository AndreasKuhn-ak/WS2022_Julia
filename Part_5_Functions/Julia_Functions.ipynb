{
 "cells": [
  {
   "cell_type": "markdown",
   "metadata": {},
   "source": [
    "<p style='text-align: center'><a href=https://www.biozentrum.uni-wuerzburg.de/cctb/research/supramolecular-and-cellular-simulations/>Supramolecular and Cellular Simulations</a> (Prof. Fischer)<br>Center for Computational and Theoretical Biology - CCTB<br>Faculty of Biology, University of Würzburg</p>\n",
    "\n",
    "<p style='text-align: center'><br><br>We are looking forward to your comments and suggestions. Please send them to: <br><br></p>\n",
    "    \n",
    " <p style='text-align: center'>   <a href=andreas.kuhn@uni.wuerzburg.de>andreas.kuhn@uni.wuerzburg.de</a> or <a href=sabine.fischer@uni.wuerzburg.de>sabine.fischer@uni.wuerzburg.de</a></p>\n",
    "\n",
    "<h1><p style='text-align: center'> Introduction to Julia </p></h1>\n"
   ]
  },
  {
   "cell_type": "markdown",
   "metadata": {},
   "source": [
    "## Functions\n",
    "Functions are the backbone of every Julia programm. A function is a piece of code that can be executed to solve a task. They can range from only some lines of code to whole scripts. This executable code is called by an identifier. For many general tasks Julia has built-in functions, in fact you have already used some of them. Only for complex and specific tasks you need to write your own function.\n",
    "\n",
    "### 1. Built-in Functions\n",
    "The huge amount of built-in functions in Julia covers the basic needs for programming. To call a function you need to know its identifier.\n",
    "\n",
    "The `println()` function is our first example, as it has been used several times by now."
   ]
  },
  {
   "cell_type": "code",
   "execution_count": 2,
   "metadata": {},
   "outputs": [
    {
     "name": "stdout",
     "output_type": "stream",
     "text": [
      "Hello world!\n"
     ]
    }
   ],
   "source": [
    "println(\"Hello world!\")"
   ]
  },
  {
   "cell_type": "markdown",
   "metadata": {},
   "source": [
    "Besides the identifier `println()`, this function needs an argument. The argument has to be added between the brackets. In a JupyterNotebook `println()` will print its argument under the cell where it is executed.  Strings will be printed directly. In contrast, variables will not be printed themselves, instead their content is printed. "
   ]
  },
  {
   "cell_type": "code",
   "execution_count": 5,
   "metadata": {},
   "outputs": [
    {
     "name": "stdout",
     "output_type": "stream",
     "text": [
      "[1, 2]\n",
      "String\n"
     ]
    }
   ],
   "source": [
    "v1 = [1,2]\n",
    "v2 = \"String\"\n",
    "\n",
    "println(v1)\n",
    "println(v2)\n"
   ]
  },
  {
   "cell_type": "markdown",
   "metadata": {},
   "source": [
    "If `println()` is given more than one argument, the arguments are printed out in the order of their position. Therefore, such types of arguments are called __positional arguments__. "
   ]
  },
  {
   "cell_type": "code",
   "execution_count": 4,
   "metadata": {},
   "outputs": [
    {
     "name": "stdout",
     "output_type": "stream",
     "text": [
      "[1, 2]String\n",
      "[1, 2]String  Weißkohl 2\n"
     ]
    }
   ],
   "source": [
    "println(v1, v2)\n",
    "println(v1,v2, \"  Weißkohl \", 2)"
   ]
  },
  {
   "cell_type": "markdown",
   "metadata": {},
   "source": [
    "There are two basic ways to integrate the content of variables into strings. You can either use `$()` infront of a variable name in your string. This signals Julia to transform the variables content into a string. Or you choose the simpler route and put you variable in between separate strings. "
   ]
  },
  {
   "cell_type": "code",
   "execution_count": 6,
   "metadata": {},
   "outputs": [
    {
     "name": "stdout",
     "output_type": "stream",
     "text": [
      "I have 2 variables, but you can see just 1\n",
      "I have2variables, but you can see just1\n",
      "I have 2 variables, but you can see just 1\n"
     ]
    }
   ],
   "source": [
    "println(\"I have $(v1[2]) variables, but you can see just $(v1[1])\")\n",
    "println(\"I have\" ,v1[2], \"variables, but you can see just\", v1[1])\n",
    "println(\"I have \" ,v1[2], \" variables, but you can see just \", v1[1])\n",
    "\n"
   ]
  },
  {
   "cell_type": "markdown",
   "metadata": {},
   "source": [
    "Comment: In the second case, it can become quite tedious to take care about blank spaces in between strings as Julia prints out strings without any spaces in between them. "
   ]
  },
  {
   "cell_type": "markdown",
   "metadata": {},
   "source": [
    " To work properly with Julia, you have to learn the basic functions or at least know where to find them. A good source to find specific built-in functions is either the Julia documentation (https://docs.julialang.org/en/v1/manual/functions/), when you have an rough idea about the functions name/identifier or purpose. Otherwise an internet search or forums can be a great help. \n",
    "\n",
    "##### Opinion: We believe good google/ general internet search skills are an essential, if not one of the most important skills of being a good programmer. You should not waste your time solving the same problem again that somebody else has already solved. "
   ]
  },
  {
   "cell_type": "markdown",
   "metadata": {},
   "source": [
    "![title](3y8ca1.jpg)"
   ]
  },
  {
   "cell_type": "markdown",
   "metadata": {},
   "source": [
    "\n",
    "In order to use the offical Julia documentation inside Julia, just add a `?` infront of the function name and hit enter."
   ]
  },
  {
   "cell_type": "code",
   "execution_count": 7,
   "metadata": {},
   "outputs": [
    {
     "name": "stdout",
     "output_type": "stream",
     "text": [
      "search: \u001b[0m\u001b[1mp\u001b[22m\u001b[0m\u001b[1mr\u001b[22m\u001b[0m\u001b[1mi\u001b[22m\u001b[0m\u001b[1mn\u001b[22m\u001b[0m\u001b[1mt\u001b[22m\u001b[0m\u001b[1ml\u001b[22m\u001b[0m\u001b[1mn\u001b[22m \u001b[0m\u001b[1mp\u001b[22m\u001b[0m\u001b[1mr\u001b[22m\u001b[0m\u001b[1mi\u001b[22m\u001b[0m\u001b[1mn\u001b[22m\u001b[0m\u001b[1mt\u001b[22msty\u001b[0m\u001b[1ml\u001b[22med \u001b[0m\u001b[1mp\u001b[22m\u001b[0m\u001b[1mr\u001b[22m\u001b[0m\u001b[1mi\u001b[22m\u001b[0m\u001b[1mn\u001b[22m\u001b[0m\u001b[1mt\u001b[22m s\u001b[0m\u001b[1mp\u001b[22m\u001b[0m\u001b[1mr\u001b[22m\u001b[0m\u001b[1mi\u001b[22m\u001b[0m\u001b[1mn\u001b[22m\u001b[0m\u001b[1mt\u001b[22m is\u001b[0m\u001b[1mp\u001b[22m\u001b[0m\u001b[1mr\u001b[22m\u001b[0m\u001b[1mi\u001b[22m\u001b[0m\u001b[1mn\u001b[22m\u001b[0m\u001b[1mt\u001b[22m\n",
      "\n"
     ]
    },
    {
     "data": {
      "text/latex": [
       "\\begin{verbatim}\n",
       "println([io::IO], xs...)\n",
       "\\end{verbatim}\n",
       "Print (using \\href{@ref}{\\texttt{print}}) \\texttt{xs} to \\texttt{io} followed by a newline. If \\texttt{io} is not supplied, prints to the default output stream \\href{@ref}{\\texttt{stdout}}.\n",
       "\n",
       "See also \\href{@ref}{\\texttt{printstyled}} to add colors etc.\n",
       "\n",
       "\\section{Examples}\n",
       "\\begin{verbatim}\n",
       "julia> println(\"Hello, world\")\n",
       "Hello, world\n",
       "\n",
       "julia> io = IOBuffer();\n",
       "\n",
       "julia> println(io, \"Hello\", ',', \" world.\")\n",
       "\n",
       "julia> String(take!(io))\n",
       "\"Hello, world.\\n\"\n",
       "\\end{verbatim}\n"
      ],
      "text/markdown": [
       "```\n",
       "println([io::IO], xs...)\n",
       "```\n",
       "\n",
       "Print (using [`print`](@ref)) `xs` to `io` followed by a newline. If `io` is not supplied, prints to the default output stream [`stdout`](@ref).\n",
       "\n",
       "See also [`printstyled`](@ref) to add colors etc.\n",
       "\n",
       "# Examples\n",
       "\n",
       "```jldoctest\n",
       "julia> println(\"Hello, world\")\n",
       "Hello, world\n",
       "\n",
       "julia> io = IOBuffer();\n",
       "\n",
       "julia> println(io, \"Hello\", ',', \" world.\")\n",
       "\n",
       "julia> String(take!(io))\n",
       "\"Hello, world.\\n\"\n",
       "```\n"
      ],
      "text/plain": [
       "\u001b[36m  println([io::IO], xs...)\u001b[39m\n",
       "\n",
       "  Print (using \u001b[36mprint\u001b[39m) \u001b[36mxs\u001b[39m to \u001b[36mio\u001b[39m followed by a newline. If \u001b[36mio\u001b[39m is not supplied,\n",
       "  prints to the default output stream \u001b[36mstdout\u001b[39m.\n",
       "\n",
       "  See also \u001b[36mprintstyled\u001b[39m to add colors etc.\n",
       "\n",
       "\u001b[1m  Examples\u001b[22m\n",
       "\u001b[1m  ≡≡≡≡≡≡≡≡≡≡\u001b[22m\n",
       "\n",
       "\u001b[36m  julia> println(\"Hello, world\")\u001b[39m\n",
       "\u001b[36m  Hello, world\u001b[39m\n",
       "\u001b[36m  \u001b[39m\n",
       "\u001b[36m  julia> io = IOBuffer();\u001b[39m\n",
       "\u001b[36m  \u001b[39m\n",
       "\u001b[36m  julia> println(io, \"Hello\", ',', \" world.\")\u001b[39m\n",
       "\u001b[36m  \u001b[39m\n",
       "\u001b[36m  julia> String(take!(io))\u001b[39m\n",
       "\u001b[36m  \"Hello, world.\\n\"\u001b[39m"
      ]
     },
     "execution_count": 7,
     "metadata": {},
     "output_type": "execute_result"
    }
   ],
   "source": [
    "?println"
   ]
  },
  {
   "cell_type": "markdown",
   "metadata": {},
   "source": [
    "This will give you a short summary of the function, its arguments and a few examples. \n",
    "\n",
    "Comment: Reading the offical documentation can be intimitating at first, as the information is often expressed in a compact manner using very technical terms. But don't worry, this is normal. Once you have adjusted to the style of writing/thinking and memorized the most common technical terms, you will be able to comprehend almost everything by just using the documentation.  "
   ]
  },
  {
   "cell_type": "markdown",
   "metadata": {},
   "source": [
    "### Example functions \n",
    "In the following we will present some of the most used functions in Julia."
   ]
  },
  {
   "cell_type": "markdown",
   "metadata": {},
   "source": [
    "#### 1.1. rand()\n",
    "The rand function is a very useful function and mainly serves two purposes. Firstly, it can randomly sample an object out of a given collection. "
   ]
  },
  {
   "cell_type": "code",
   "execution_count": 31,
   "metadata": {},
   "outputs": [
    {
     "data": {
      "text/plain": [
       "4.3"
      ]
     },
     "execution_count": 31,
     "metadata": {},
     "output_type": "execute_result"
    }
   ],
   "source": [
    "any_vec = [\"hans\", \"dieter\", 4.3, 2]\n",
    "rand(any_vec)"
   ]
  },
  {
   "cell_type": "markdown",
   "metadata": {},
   "source": [
    "You can also create the object in place with the slicing notation `:`. "
   ]
  },
  {
   "cell_type": "code",
   "execution_count": 33,
   "metadata": {},
   "outputs": [
    {
     "data": {
      "text/plain": [
       "8"
      ]
     },
     "execution_count": 33,
     "metadata": {},
     "output_type": "execute_result"
    }
   ],
   "source": [
    "rand(1:10)"
   ]
  },
  {
   "cell_type": "markdown",
   "metadata": {},
   "source": [
    "If you don't give `rand()` a collection where it can sample from, it will sample uniformly distributed random `Float64` values between `0.0 - 1.0`. "
   ]
  },
  {
   "cell_type": "code",
   "execution_count": 34,
   "metadata": {},
   "outputs": [
    {
     "data": {
      "text/plain": [
       "0.3896759279523032"
      ]
     },
     "execution_count": 34,
     "metadata": {},
     "output_type": "execute_result"
    }
   ],
   "source": [
    "rand()"
   ]
  },
  {
   "cell_type": "markdown",
   "metadata": {},
   "source": [
    "You can also create an array of randomly sampled objects by providing `rand()` the dimensionality of the desired array."
   ]
  },
  {
   "cell_type": "code",
   "execution_count": 35,
   "metadata": {},
   "outputs": [
    {
     "data": {
      "text/plain": [
       "5-element Vector{Float64}:\n",
       " 0.48723667777443014\n",
       " 0.23192498330537914\n",
       " 0.04619983482502621\n",
       " 0.424368145354724\n",
       " 0.6949768323785054"
      ]
     },
     "execution_count": 35,
     "metadata": {},
     "output_type": "execute_result"
    }
   ],
   "source": [
    "# creating vector\n",
    "randi_vec = rand(5)"
   ]
  },
  {
   "cell_type": "code",
   "execution_count": 36,
   "metadata": {},
   "outputs": [
    {
     "data": {
      "text/plain": [
       "3×4 Matrix{Float64}:\n",
       " 0.986314    0.178163  0.0729793  0.377214\n",
       " 0.543387    0.22284   0.969253   0.120598\n",
       " 0.00767772  0.939654  0.510572   0.666106"
      ]
     },
     "execution_count": 36,
     "metadata": {},
     "output_type": "execute_result"
    }
   ],
   "source": [
    "# creating matrix \n",
    "randi_matrix = rand(3,4)"
   ]
  },
  {
   "cell_type": "markdown",
   "metadata": {},
   "source": [
    "You can also create an array with objects that are sampled out of your given collection. "
   ]
  },
  {
   "cell_type": "code",
   "execution_count": 37,
   "metadata": {},
   "outputs": [
    {
     "data": {
      "text/plain": [
       "5×4 Matrix{Any}:\n",
       "  \"dieter\"  4.3        2    2\n",
       "  \"dieter\"  2          4.3   \"dieter\"\n",
       "  \"dieter\"  4.3        2     \"dieter\"\n",
       " 4.3         \"dieter\"  2     \"dieter\"\n",
       " 4.3        2          2    2"
      ]
     },
     "execution_count": 37,
     "metadata": {},
     "output_type": "execute_result"
    }
   ],
   "source": [
    "any_randi_matrix = rand(any_vec, 5,4)"
   ]
  },
  {
   "cell_type": "markdown",
   "metadata": {
    "tags": []
   },
   "source": [
    "#### 1.2 Random Package\n",
    "The `using` keyword is used to load additional packages for specific tasks. You have already seen`using` in the second notebook.  \n"
   ]
  },
  {
   "cell_type": "markdown",
   "metadata": {},
   "source": [
    "In this case the `Random` package is loaded, which provides additionally functionality regarding random sampling. The loading of a package needs to be done only once in programm execution. Therefore, for clarity reasons, it is common practice to load all neccessary packages at the begining of a programm/Jupyter Notebook. "
   ]
  },
  {
   "cell_type": "code",
   "execution_count": 44,
   "metadata": {},
   "outputs": [],
   "source": [
    "using Random "
   ]
  },
  {
   "cell_type": "markdown",
   "metadata": {},
   "source": [
    "Note: If you have payed attention very closey, you might be wondering why we can load the `Random` package without prior installation through the package manager `Pkg`. This is possible because the `Random` package is part of the standard libary of `Julia`, along other useful packages like(`LinearAlgebra, Statistics,...`), which are always installed alongside base `Julia`. "
   ]
  },
  {
   "cell_type": "markdown",
   "metadata": {},
   "source": [
    "##### 1.2.1 randn() "
   ]
  },
  {
   "cell_type": "markdown",
   "metadata": {},
   "source": [
    "Now you can use all the additional functions which are provided by the `Random` package. One of these is the `randn()` function, which works very similarly to `rand()` but returns normally distributed random numbers (mean = 0, std = 1) instead of uniformly distributed ones.   "
   ]
  },
  {
   "cell_type": "code",
   "execution_count": 45,
   "metadata": {},
   "outputs": [
    {
     "data": {
      "text/plain": [
       "0.8856850657653603"
      ]
     },
     "execution_count": 45,
     "metadata": {},
     "output_type": "execute_result"
    }
   ],
   "source": [
    "randi_norm = randn()\n",
    "randi_norm"
   ]
  },
  {
   "cell_type": "markdown",
   "metadata": {},
   "source": [
    "You can also create an array of random numbers with `randn()` by specifying the desired dimensionality."
   ]
  },
  {
   "cell_type": "code",
   "execution_count": 48,
   "metadata": {},
   "outputs": [
    {
     "data": {
      "text/plain": [
       "3×4 Matrix{Float64}:\n",
       "  1.29561   1.07872    0.552664  -1.55865\n",
       " -0.40623   1.86689    1.08801    1.08348\n",
       " -0.106128  0.733178  -0.523794   0.853832"
      ]
     },
     "execution_count": 48,
     "metadata": {},
     "output_type": "execute_result"
    }
   ],
   "source": [
    "randi_norm_matrix  = randn(3,4)"
   ]
  },
  {
   "cell_type": "code",
   "execution_count": 49,
   "metadata": {},
   "outputs": [
    {
     "data": {
      "text/plain": [
       "5-element Vector{Float64}:\n",
       "  0.4102728116301187\n",
       " -1.4110690010642164\n",
       "  3.089283569846776\n",
       " -1.5098960024037682\n",
       "  0.9304041288388034"
      ]
     },
     "execution_count": 49,
     "metadata": {},
     "output_type": "execute_result"
    }
   ],
   "source": [
    "randi_norm_vec = randn(5)"
   ]
  },
  {
   "cell_type": "markdown",
   "metadata": {},
   "source": [
    "##### 1.2.2 shuffle() / shuffle!()"
   ]
  },
  {
   "cell_type": "markdown",
   "metadata": {},
   "source": [
    "The `Random` package does not only provide functions that create random values/arrays. You can also randomize the position of values inside an array with `shuffle()` and `shuffle!()`. The difference between `shuffle()` and `shuffle!()` is that `shuffle()` creates a newly shuffled array and returns it, whereas `shuffle!()` modifies the input array and returns it.\n"
   ]
  },
  {
   "cell_type": "markdown",
   "metadata": {},
   "source": [
    "Note: The syntax convention to differentiate mutating (`!`) from non mutating functions, is strictly followed throughout all functions in the standard library of Julia. In fact, you have already seen examples like the `push!()` function, which adds new elements to an already existing array. We encourage you to strictly follow this convention in your selfwritten code as well.   "
   ]
  },
  {
   "cell_type": "code",
   "execution_count": 50,
   "metadata": {},
   "outputs": [
    {
     "data": {
      "text/plain": [
       "3×4 Matrix{Float64}:\n",
       "  1.08348   1.86689    0.733178  0.853832\n",
       "  1.07872  -0.106128   1.29561   0.552664\n",
       " -1.55865  -0.523794  -0.40623   1.08801"
      ]
     },
     "execution_count": 50,
     "metadata": {},
     "output_type": "execute_result"
    }
   ],
   "source": [
    "randi_norm_matrix2 = shuffle(randi_norm_matrix)"
   ]
  },
  {
   "cell_type": "code",
   "execution_count": 51,
   "metadata": {},
   "outputs": [
    {
     "data": {
      "text/plain": [
       "4-element Vector{Any}:\n",
       "  \"hans\"\n",
       "  \"dieter\"\n",
       " 4.3\n",
       " 2"
      ]
     },
     "execution_count": 51,
     "metadata": {},
     "output_type": "execute_result"
    }
   ],
   "source": [
    "any_vec"
   ]
  },
  {
   "cell_type": "code",
   "execution_count": 52,
   "metadata": {},
   "outputs": [
    {
     "data": {
      "text/plain": [
       "4-element Vector{Any}:\n",
       "  \"dieter\"\n",
       "  \"hans\"\n",
       " 2\n",
       " 4.3"
      ]
     },
     "execution_count": 52,
     "metadata": {},
     "output_type": "execute_result"
    }
   ],
   "source": [
    "shuffle!(any_vec)\n",
    "any_vec"
   ]
  },
  {
   "cell_type": "markdown",
   "metadata": {},
   "source": [
    "#### 1.3 minimum() / maximum()\n",
    "The functions `minimum()` and `maximum()` are able to find the smallest / shortest and largest / longest component of an iterable (e.g. an array) respectively."
   ]
  },
  {
   "cell_type": "code",
   "execution_count": 59,
   "metadata": {},
   "outputs": [
    {
     "name": "stdout",
     "output_type": "stream",
     "text": [
      "min: 1, max: 6 \n",
      "min: a, max: ghij \n"
     ]
    }
   ],
   "source": [
    "array1 = [1,2,3,4,5,6]\n",
    "maximum(array1)\n",
    "println(\"min: $(minimum(array1)), max: $(maximum(array1)) \")\n",
    "array2 = [\"a\",\"bc\",\"def\",\"ghij\"]\n",
    "println(\"min: $(minimum(array2)), max: $(maximum(array2)) \")"
   ]
  },
  {
   "cell_type": "markdown",
   "metadata": {},
   "source": [
    "#### 1.4 range, collect()\n",
    "\n",
    "The `range(start =1,step = 2,stop = 10 )` function is an alias for the slimmer `:` notation to create iterables. But it also provides additional functionality as instead of `stop` there can also be an `length` keyword given: `range(start = 5, step =2, length = 15 )`. \n",
    "\n",
    "The `collect` function creates arrays out of other collections or iterables. Together this a convient way to create arrays. "
   ]
  },
  {
   "cell_type": "code",
   "execution_count": 61,
   "metadata": {},
   "outputs": [
    {
     "name": "stdout",
     "output_type": "stream",
     "text": [
      "UnitRange{Int64}\n",
      "1:10\n"
     ]
    }
   ],
   "source": [
    "println(typeof(1:10))\n",
    "println(1:10)"
   ]
  },
  {
   "cell_type": "code",
   "execution_count": 62,
   "metadata": {},
   "outputs": [
    {
     "name": "stdout",
     "output_type": "stream",
     "text": [
      "Vector{Int64}\n",
      "[1, 2, 3, 4, 5, 6, 7, 8, 9, 10]\n"
     ]
    }
   ],
   "source": [
    "println(typeof(collect(1:10)))\n",
    "println(collect(1:10))"
   ]
  },
  {
   "cell_type": "code",
   "execution_count": 63,
   "metadata": {},
   "outputs": [
    {
     "name": "stdout",
     "output_type": "stream",
     "text": [
      "\n",
      "[1, 2, 3, 4, 5, 6, 7, 8, 9, 10]\n",
      "[5, 6, 7, 8, 9, 10]\n",
      "[2.0, 1.5, 1.0, 0.5, 0.0, -0.5, -1.0, -1.5, -2.0, -2.5, -3.0, -3.5, -4.0, -4.5, -5.0, -5.5, -6.0, -6.5, -7.0, -7.5, -8.0, -8.5, -9.0, -9.5, -10.0, -10.5, -11.0, -11.5, -12.0, -12.5, -13.0, -13.5, -14.0, -14.5, -15.0, -15.5, -16.0, -16.5, -17.0, -17.5, -18.0, -18.5, -19.0, -19.5, -20.0, -20.5, -21.0, -21.5, -22.0, -22.5, -23.0, -23.5, -24.0, -24.5, -25.0, -25.5, -26.0, -26.5, -27.0, -27.5, -28.0, -28.5, -29.0, -29.5, -30.0, -30.5, -31.0, -31.5, -32.0, -32.5, -33.0, -33.5, -34.0, -34.5, -35.0, -35.5, -36.0, -36.5, -37.0, -37.5, -38.0, -38.5, -39.0, -39.5, -40.0, -40.5, -41.0, -41.5, -42.0, -42.5, -43.0, -43.5, -44.0, -44.5, -45.0, -45.5, -46.0, -46.5, -47.0, -47.5]\n"
     ]
    }
   ],
   "source": [
    "println()\n",
    "println(collect(1:10))\n",
    "println(collect(range(5,10)))\n",
    "println(collect(range(start = 2, step =-0.5, length =100)))"
   ]
  },
  {
   "cell_type": "markdown",
   "metadata": {},
   "source": [
    "#### 1.5 length(), sum(), prod()\n",
    "The functions `length()`, `sum()` and `prod()` all work on iterable objects like arrays and return one value.  `length()` returns the numbers of elements, `sum()` the sum of the elements and `prod()` the product of its elements. "
   ]
  },
  {
   "cell_type": "code",
   "execution_count": 64,
   "metadata": {},
   "outputs": [
    {
     "name": "stdout",
     "output_type": "stream",
     "text": [
      "6\n",
      "4\n",
      "2\n",
      "10\n"
     ]
    }
   ],
   "source": [
    "println(length(\"dieter\"))\n",
    "println(length([1,2,3,4]))\n",
    "println(length(Dict(\"animal\"=>\"snake\",\"number\" =>7)))\n",
    "println(length(1:10))"
   ]
  },
  {
   "cell_type": "code",
   "execution_count": 84,
   "metadata": {},
   "outputs": [
    {
     "data": {
      "text/plain": [
       "15"
      ]
     },
     "execution_count": 84,
     "metadata": {},
     "output_type": "execute_result"
    }
   ],
   "source": [
    "sum(collect(1:5))"
   ]
  },
  {
   "cell_type": "code",
   "execution_count": null,
   "metadata": {},
   "outputs": [
    {
     "data": {
      "text/plain": [
       "120"
      ]
     },
     "execution_count": 85,
     "metadata": {},
     "output_type": "execute_result"
    }
   ],
   "source": [
    "prod(collect(1:5))"
   ]
  },
  {
   "cell_type": "markdown",
   "metadata": {},
   "source": [
    "`sum()` and `prod()` will only work if there is common method of adding or multipling for all elements defined. "
   ]
  },
  {
   "cell_type": "code",
   "execution_count": 87,
   "metadata": {},
   "outputs": [
    {
     "ename": "LoadError",
     "evalue": "MethodError: no method matching +(::Float64, ::String)\n\u001b[0mClosest candidates are:\n\u001b[0m  +(::Any, ::Any, \u001b[91m::Any\u001b[39m, \u001b[91m::Any...\u001b[39m) at operators.jl:591\n\u001b[0m  +(::T, \u001b[91m::T\u001b[39m) where T<:Union{Float16, Float32, Float64} at float.jl:383\n\u001b[0m  +(::Union{Float16, Float32, Float64}, \u001b[91m::BigFloat\u001b[39m) at mpfr.jl:414\n\u001b[0m  ...",
     "output_type": "error",
     "traceback": [
      "MethodError: no method matching +(::Float64, ::String)\n\u001b[0mClosest candidates are:\n\u001b[0m  +(::Any, ::Any, \u001b[91m::Any\u001b[39m, \u001b[91m::Any...\u001b[39m) at operators.jl:591\n\u001b[0m  +(::T, \u001b[91m::T\u001b[39m) where T<:Union{Float16, Float32, Float64} at float.jl:383\n\u001b[0m  +(::Union{Float16, Float32, Float64}, \u001b[91m::BigFloat\u001b[39m) at mpfr.jl:414\n\u001b[0m  ...",
      "",
      "Stacktrace:",
      "  [1] add_sum(x::Float64, y::String)",
      "    @ Base .\\reduce.jl:24",
      "  [2] _mapreduce(f::typeof(identity), op::typeof(Base.add_sum), #unused#::IndexLinear, A::Vector{Any})",
      "    @ Base .\\reduce.jl:438",
      "  [3] _mapreduce_dim",
      "    @ .\\reducedim.jl:365 [inlined]",
      "  [4] #mapreduce#765",
      "    @ .\\reducedim.jl:357 [inlined]",
      "  [5] mapreduce",
      "    @ .\\reducedim.jl:357 [inlined]",
      "  [6] #_sum#775",
      "    @ .\\reducedim.jl:999 [inlined]",
      "  [7] _sum",
      "    @ .\\reducedim.jl:999 [inlined]",
      "  [8] #_sum#774",
      "    @ .\\reducedim.jl:998 [inlined]",
      "  [9] _sum",
      "    @ .\\reducedim.jl:998 [inlined]",
      " [10] #sum#772",
      "    @ .\\reducedim.jl:994 [inlined]",
      " [11] sum(a::Vector{Any})",
      "    @ Base .\\reducedim.jl:994",
      " [12] top-level scope",
      "    @ In[87]:1"
     ]
    }
   ],
   "source": [
    "sum([1,1.0,\"hans\"])"
   ]
  },
  {
   "cell_type": "markdown",
   "metadata": {},
   "source": [
    "Similar to basic operators, functions can also be broadcasted (sometimes also referred to as vectorized) by the `.` operator to each element when used on a collection. The returning object is then an array with the same dimension as the object but with the return value of the function as elements.  "
   ]
  },
  {
   "cell_type": "code",
   "execution_count": 68,
   "metadata": {},
   "outputs": [
    {
     "data": {
      "text/plain": [
       "10-element Vector{Vector{Float64}}:\n",
       " [0.6925025488304911, 0.42515138881803827, 0.3585629929623382, 0.9320789709553322, 0.9251305771350714, 0.7955627086843089, 0.29856521813606474, 0.7380123948165705]\n",
       " [0.7625723365046855]\n",
       " [0.7079061608161111, 0.8873474038721944]\n",
       " [0.9735976735291757, 0.73463964462371, 0.3134859566478828, 0.8508446049266939]\n",
       " [0.9259128210310815, 0.825739975979311, 0.9820853763721366, 0.3709189098256793, 0.00034317470129374694]\n",
       " [0.7035038388451776, 0.5969456998583865, 0.025759465117949798, 0.5054149119932302]\n",
       " [0.334987183344277, 0.6479655651774753, 0.6988710096745754, 0.8306047505753344, 0.6673221149953511]\n",
       " [0.5482695369976974]\n",
       " [0.3583242302774947, 0.012785157457317009]\n",
       " [0.8017477545670803, 0.07147866492044319, 0.28673347257916226, 0.3371100430207613, 0.7289958822481278]"
      ]
     },
     "execution_count": 68,
     "metadata": {},
     "output_type": "execute_result"
    }
   ],
   "source": [
    "array_of_arrays = [y = [x = rand() for x in 1:rand(1:10)] for y in 1:10]"
   ]
  },
  {
   "cell_type": "code",
   "execution_count": 69,
   "metadata": {},
   "outputs": [
    {
     "name": "stdout",
     "output_type": "stream",
     "text": [
      "10\n",
      "[8, 1, 2, 4, 5, 4, 5, 1, 2, 5]\n"
     ]
    }
   ],
   "source": [
    "println(length(array_of_arrays))\n",
    "println(length.(array_of_arrays))"
   ]
  },
  {
   "cell_type": "markdown",
   "metadata": {},
   "source": [
    "#### 1.6 readline()\n",
    "If you want an user to input some information use the `readline()` function. This function will open a field to input text."
   ]
  },
  {
   "cell_type": "code",
   "execution_count": 73,
   "metadata": {},
   "outputs": [
    {
     "name": "stdin",
     "output_type": "stream",
     "text": [
      "stdin>  23\n"
     ]
    },
    {
     "data": {
      "text/plain": [
       "\"23\""
      ]
     },
     "execution_count": 73,
     "metadata": {},
     "output_type": "execute_result"
    }
   ],
   "source": [
    "input = readline()"
   ]
  },
  {
   "cell_type": "markdown",
   "metadata": {},
   "source": [
    "If you are using a Jupyter notebook you also use the `IJulia.readprompt()` function thatallows you to print out a message to the user at the same time.  "
   ]
  },
  {
   "cell_type": "code",
   "execution_count": 75,
   "metadata": {},
   "outputs": [
    {
     "name": "stdin",
     "output_type": "stream",
     "text": [
      "Please input a number 34\n"
     ]
    },
    {
     "data": {
      "text/plain": [
       "\"34\""
      ]
     },
     "execution_count": 75,
     "metadata": {},
     "output_type": "execute_result"
    }
   ],
   "source": [
    "input = IJulia.readprompt(\"Please input a number\")"
   ]
  },
  {
   "cell_type": "markdown",
   "metadata": {},
   "source": [
    "#### 1.7 parse()\n",
    "All input is interpreted as a string. In order to create `Int64` or `Float64` values from the input, you can use the `parse` function. The first argument is the datatype we want to create and the second one is the string we want to parse. "
   ]
  },
  {
   "cell_type": "code",
   "execution_count": 82,
   "metadata": {},
   "outputs": [
    {
     "name": "stdin",
     "output_type": "stream",
     "text": [
      "Please input a number 23\n"
     ]
    },
    {
     "name": "stdout",
     "output_type": "stream",
     "text": [
      "23 String\n",
      "23.0 Float64\n"
     ]
    }
   ],
   "source": [
    "input = IJulia.readprompt(\"Please input a number\")\n",
    "number_input = parse(Float64,input)\n",
    "println(input,\" \",typeof(input))\n",
    "println(number_input,\" \",typeof(number_input))"
   ]
  },
  {
   "cell_type": "markdown",
   "metadata": {
    "tags": []
   },
   "source": [
    "#### 1.8 sort() / sort!()\n",
    "To sort an iterable object, you can use the function `sort()` or `sort!()`.  Similar to `shuffle()` and `shuffle!()`, `sort()` creates a new array and returns it, whereas `sort!()` modifies the input array and returns it. "
   ]
  },
  {
   "cell_type": "code",
   "execution_count": 84,
   "metadata": {
    "tags": []
   },
   "outputs": [
    {
     "name": "stdout",
     "output_type": "stream",
     "text": [
      "[0, 1, 3, 4, 8, 9]\n",
      "[1, 0, 9, 4, 3, 8]\n",
      "[0, 1, 3, 4, 8, 9]\n",
      "[0, 1, 3, 4, 8, 9]\n"
     ]
    }
   ],
   "source": [
    "array2 = [1,0,9,4,3,8]\n",
    "println(sort(array2))\n",
    "#original array is not changed\n",
    "println(array2)\n",
    "\n",
    "println(sort!(array2))\n",
    "#original array is changed \n",
    "println(array2)\n"
   ]
  },
  {
   "cell_type": "markdown",
   "metadata": {
    "tags": []
   },
   "source": [
    " #### 1.9 Keyword arguments\n",
    "The two `sort() /sort!()` functions have optional arguments, so called __keyword arguments__. These arguments are given by providing their respective keyword and always have a default value. In contrast to positional arguments their position does not matter. One important keyword argument for the `sort` function is `rev` which means reversed order. This can be true or false, with the default value being false.  "
   ]
  },
  {
   "cell_type": "code",
   "execution_count": 85,
   "metadata": {},
   "outputs": [
    {
     "name": "stdout",
     "output_type": "stream",
     "text": [
      "[9, 8, 4, 3, 1, 0]\n"
     ]
    }
   ],
   "source": [
    "println(sort(array2,rev = true))"
   ]
  },
  {
   "cell_type": "code",
   "execution_count": 86,
   "metadata": {},
   "outputs": [
    {
     "data": {
      "text/plain": [
       "true"
      ]
     },
     "execution_count": 86,
     "metadata": {},
     "output_type": "execute_result"
    }
   ],
   "source": [
    "## position of keyword argument does not matter: \n",
    "sort(array2,rev = true) == sort(rev = true,array2) "
   ]
  },
  {
   "cell_type": "markdown",
   "metadata": {},
   "source": [
    "Note: Even though the position of keyword arguments does not matter, it is common practice to provide them after all positional arguments. So always try to write : \n",
    "``` julia\n",
    "func1( a,b,c, rev = true, hans = 10, color = \"green\")\n",
    "```\n",
    "instead of :\n",
    "``` julia\n",
    "func1( hans = 10, a,b,color = \"green\",c, rev = true)\n",
    "```\n",
    "as the second variant becomes very confusing very fast :). \n",
    "\n"
   ]
  },
  {
   "cell_type": "markdown",
   "metadata": {},
   "source": [
    "When you take a look at the offical documentation for sort (by typing `?sort` or on to the respective [webpage](https://docs.julialang.org/en/v1/base/sort/)), you can see that `sort` has overall 5 keyword arguments. One of these 5 keyword arguments is called `by`. According to the documention  \"The by keyword lets you provide a custom function that will be applied to each element before comparison\" . The question is now how do you provide a custom function ? This leads you smoothly to the next big section in this chapter:  How to write your own function."
   ]
  },
  {
   "cell_type": "markdown",
   "metadata": {},
   "source": [
    "### 2. Self written functions\n",
    "\n",
    "There are three ways to define a function in Julia. \n",
    "The quickest and dirtiest way is to use the `->` operator:"
   ]
  },
  {
   "cell_type": "code",
   "execution_count": 6,
   "metadata": {},
   "outputs": [
    {
     "data": {
      "text/plain": [
       "#7 (generic function with 1 method)"
      ]
     },
     "execution_count": 6,
     "metadata": {},
     "output_type": "execute_result"
    }
   ],
   "source": [
    "firstfunc = x-> x^2"
   ]
  },
  {
   "cell_type": "markdown",
   "metadata": {},
   "source": [
    "This is a function with the identifier `firstfunc` that operates on the input argument x and raises x to the power of 2 and returns the new value. "
   ]
  },
  {
   "cell_type": "markdown",
   "metadata": {},
   "source": [
    "There is also another, more mathematical inspired way to define a function in one line by using the `identifier(argument) = operation ` syntax."
   ]
  },
  {
   "cell_type": "code",
   "execution_count": 7,
   "metadata": {},
   "outputs": [
    {
     "data": {
      "text/plain": [
       "fourthfunc (generic function with 1 method)"
      ]
     },
     "execution_count": 7,
     "metadata": {},
     "output_type": "execute_result"
    }
   ],
   "source": [
    "secondfunc(x) = x^3\n",
    "#arguments can also be empty\n",
    "thirdfunc() = rand(1:10)\n",
    "#also multiple arguments are possible\n",
    "fourthfunc(t,u) = t*u +4"
   ]
  },
  {
   "cell_type": "markdown",
   "metadata": {},
   "source": [
    "We can call these functions by their identifier together with the right number of arguments. "
   ]
  },
  {
   "cell_type": "code",
   "execution_count": 8,
   "metadata": {},
   "outputs": [
    {
     "name": "stdout",
     "output_type": "stream",
     "text": [
      "100\n",
      "27\n",
      "1\n",
      "14\n"
     ]
    }
   ],
   "source": [
    "println(firstfunc(10))\n",
    "println(secondfunc(3))\n",
    "println(thirdfunc())\n",
    "println(fourthfunc(2,5))"
   ]
  },
  {
   "cell_type": "markdown",
   "metadata": {},
   "source": [
    "#### 2.1 Anonymous functions"
   ]
  },
  {
   "cell_type": "code",
   "execution_count": 9,
   "metadata": {},
   "outputs": [
    {
     "data": {
      "text/plain": [
       "#9 (generic function with 1 method)"
      ]
     },
     "execution_count": 9,
     "metadata": {},
     "output_type": "execute_result"
    }
   ],
   "source": [
    "x-> x^2"
   ]
  },
  {
   "cell_type": "markdown",
   "metadata": {},
   "source": [
    "With the `->` syntax you can even omit the identifier. But why would you define a function without an identifier so cannot even call it ?  \n",
    "These so called anonymous functions are very useful, when they are used as an argument to another function\n",
    "\n",
    "The previously mentioned `sort` function is such a function, where an anonymous function can be used as keyword argument (`by = function()`).  "
   ]
  },
  {
   "cell_type": "code",
   "execution_count": 14,
   "metadata": {},
   "outputs": [
    {
     "name": "stdout",
     "output_type": "stream",
     "text": [
      "[\"bbb\", \"cccccc\", \"aaaaaaaaa\"]\n"
     ]
    }
   ],
   "source": [
    "println(sort( [\"bbb\",\"aaaaaaaaa\",\"cccccc\"],by = x->length(x)))"
   ]
  },
  {
   "cell_type": "markdown",
   "metadata": {},
   "source": [
    "##### 2.1.1 Map"
   ]
  },
  {
   "cell_type": "markdown",
   "metadata": {},
   "source": [
    "The map function is another function that takes a function as an argument. Addtionally a collection is needed as the second positional arguments. The function is then applied to all elements of the collection. "
   ]
  },
  {
   "cell_type": "code",
   "execution_count": 15,
   "metadata": {},
   "outputs": [
    {
     "name": "stdout",
     "output_type": "stream",
     "text": [
      "[1, 4, 9, 16, 25, 36, 49, 64, 81, 100]\n",
      "[1, 4, 9, 16, 25, 36, 49, 64, 81, 100]\n"
     ]
    }
   ],
   "source": [
    "println(map(firstfunc,collect(1:10)))\n",
    "# whe could also use the . notation to achieve the same\n",
    "println(firstfunc.(collect(1:10)))"
   ]
  },
  {
   "cell_type": "markdown",
   "metadata": {},
   "source": [
    "As you have seen above, it is also possible to apply a function to every element of a collection by using the previously shown `.` notation for operator broadcasting like `.+`. But the big advantage of the `map` function compared to the `.` notation is that you can define an anonymous function right in place.  "
   ]
  },
  {
   "cell_type": "code",
   "execution_count": 16,
   "metadata": {},
   "outputs": [
    {
     "data": {
      "text/plain": [
       "10-element Vector{Int64}:\n",
       "    3\n",
       "   14\n",
       "   39\n",
       "   84\n",
       "  155\n",
       "  258\n",
       "  399\n",
       "  584\n",
       "  819\n",
       " 1110"
      ]
     },
     "execution_count": 16,
     "metadata": {},
     "output_type": "execute_result"
    }
   ],
   "source": [
    "map(x->x^3+x^2+x,collect(1:10))"
   ]
  },
  {
   "cell_type": "markdown",
   "metadata": {},
   "source": [
    "We can also define quite complex functions with the `->` notation. "
   ]
  },
  {
   "cell_type": "code",
   "execution_count": 17,
   "metadata": {},
   "outputs": [
    {
     "data": {
      "text/plain": [
       "10-element Vector{Int64}:\n",
       "     0\n",
       "    16\n",
       "    39\n",
       "   256\n",
       "     0\n",
       "   258\n",
       "     0\n",
       "  4096\n",
       "   819\n",
       " 10000"
      ]
     },
     "execution_count": 17,
     "metadata": {},
     "output_type": "execute_result"
    }
   ],
   "source": [
    "map(x->if x%3 == 0 x^3+x^2+x  elseif x%2 == 0 x =x^4 else x = 0  end,collect(1:10))"
   ]
  },
  {
   "cell_type": "markdown",
   "metadata": {},
   "source": [
    "But as seen in the cell above, it can get messy very fast when a  bigger function is defined in one line with the  `->` syntax. The same is also true for the `identifier(argument) = operation ` syntax. "
   ]
  },
  {
   "cell_type": "markdown",
   "metadata": {
    "tags": []
   },
   "source": [
    "### 2.2 Complex functions\n",
    "\n",
    "When you want to define big and complex functions you should use the third and most powerful way to define functions:\n",
    "``` julia\n",
    "function identifier(arguments,...)\n",
    "    \n",
    "    operations...\n",
    "    \n",
    "    return result,...\n",
    "    \n",
    "end\n",
    "```\n",
    "\n"
   ]
  },
  {
   "cell_type": "markdown",
   "metadata": {},
   "source": [
    "This way you can define a function that adds two numbers together, but only if the two numbers are even. If one or both numbers aren't even an error is printed and 0 is returned."
   ]
  },
  {
   "cell_type": "code",
   "execution_count": 18,
   "metadata": {},
   "outputs": [
    {
     "data": {
      "text/plain": [
       "add_only_even (generic function with 1 method)"
      ]
     },
     "execution_count": 18,
     "metadata": {},
     "output_type": "execute_result"
    }
   ],
   "source": [
    "function add_only_even(num1,num2)\n",
    "    \n",
    "    if num1%2 ==0 && num2%2 ==0\n",
    "        return num1*num2\n",
    "    else\n",
    "        println(\"ERROR ERROR ERROR\")\n",
    "        return 0\n",
    "    end\n",
    "end"
   ]
  },
  {
   "cell_type": "code",
   "execution_count": 19,
   "metadata": {},
   "outputs": [
    {
     "data": {
      "text/plain": [
       "8"
      ]
     },
     "execution_count": 19,
     "metadata": {},
     "output_type": "execute_result"
    }
   ],
   "source": [
    "add_only_even(2,4)"
   ]
  },
  {
   "cell_type": "code",
   "execution_count": 20,
   "metadata": {},
   "outputs": [
    {
     "name": "stdout",
     "output_type": "stream",
     "text": [
      "ERROR ERROR ERROR\n"
     ]
    },
    {
     "data": {
      "text/plain": [
       "0"
      ]
     },
     "execution_count": 20,
     "metadata": {},
     "output_type": "execute_result"
    }
   ],
   "source": [
    "add_only_even(2,5)"
   ]
  },
  {
   "cell_type": "markdown",
   "metadata": {},
   "source": [
    "With this syntax, it is possible to modify the return value. For example, you don't need return aynthing. \n",
    "\n",
    "The function below makes the elements of the input array smaller, if they exceeds a given max size.  "
   ]
  },
  {
   "cell_type": "code",
   "execution_count": 22,
   "metadata": {},
   "outputs": [
    {
     "data": {
      "text/plain": [
       "make_elements_smaller! (generic function with 1 method)"
      ]
     },
     "execution_count": 22,
     "metadata": {},
     "output_type": "execute_result"
    }
   ],
   "source": [
    "function make_elements_smaller!(vector,max_size)\n",
    "    for i in 1:length(vector)\n",
    "        if vector[i] > max_size\n",
    "            vector[i] = max_size\n",
    "        end\n",
    "    end\n",
    "end    "
   ]
  },
  {
   "cell_type": "markdown",
   "metadata": {},
   "source": [
    "As you should always follow the syntax convention regarding mutating and non mutation functions, the function name ends with a `!`.  "
   ]
  },
  {
   "cell_type": "code",
   "execution_count": 23,
   "metadata": {},
   "outputs": [
    {
     "data": {
      "text/plain": [
       "10-element Vector{Int64}:\n",
       " 3\n",
       " 3\n",
       " 5\n",
       " 1\n",
       " 8\n",
       " 7\n",
       " 9\n",
       " 8\n",
       " 7\n",
       " 4"
      ]
     },
     "execution_count": 23,
     "metadata": {},
     "output_type": "execute_result"
    }
   ],
   "source": [
    "test_vec = rand(1:10,10)"
   ]
  },
  {
   "cell_type": "code",
   "execution_count": 24,
   "metadata": {},
   "outputs": [],
   "source": [
    "#no return value\n",
    "make_elements_smaller!(test_vec,5)"
   ]
  },
  {
   "cell_type": "code",
   "execution_count": 25,
   "metadata": {},
   "outputs": [
    {
     "data": {
      "text/plain": [
       "10-element Vector{Int64}:\n",
       " 3\n",
       " 3\n",
       " 5\n",
       " 1\n",
       " 5\n",
       " 5\n",
       " 5\n",
       " 5\n",
       " 5\n",
       " 4"
      ]
     },
     "execution_count": 25,
     "metadata": {},
     "output_type": "execute_result"
    }
   ],
   "source": [
    "test_vec"
   ]
  },
  {
   "cell_type": "markdown",
   "metadata": {},
   "source": [
    "The original test_vec has been changed."
   ]
  },
  {
   "cell_type": "markdown",
   "metadata": {},
   "source": [
    "#### 2.3 Keyword arguments in own functions. \n",
    "Keyword arguments offer a possibility to provide function arguments with a default value. The argument is replaced by a keyword and a default value like `keyword = default`. Keyword arguments have to be positioned after normal arguments with an `;`. The function can then be called either without the keyword argument, in which case the default value is chosen, or with explicit specification of the keyword arguments."
   ]
  },
  {
   "cell_type": "markdown",
   "metadata": {},
   "source": [
    "Note: In the documentations of many programming languages/packages, it is common to use the abbreviation `args` for positional arguments and `kwargs` for keyword arguments.  "
   ]
  },
  {
   "cell_type": "code",
   "execution_count": 26,
   "metadata": {},
   "outputs": [
    {
     "data": {
      "text/plain": [
       "make_elements_smaller2! (generic function with 1 method)"
      ]
     },
     "execution_count": 26,
     "metadata": {},
     "output_type": "execute_result"
    }
   ],
   "source": [
    "function make_elements_smaller2!(vector;max_size = 5)\n",
    "    for i in 1:length(vector)\n",
    "        if vector[i] > max_size\n",
    "            vector[i] = max_size\n",
    "        end\n",
    "    end\n",
    "end    "
   ]
  },
  {
   "cell_type": "code",
   "execution_count": 31,
   "metadata": {},
   "outputs": [
    {
     "data": {
      "text/plain": [
       "10-element Vector{Int64}:\n",
       " 100\n",
       "  79\n",
       "  73\n",
       "   7\n",
       "  91\n",
       "  63\n",
       "  52\n",
       "  79\n",
       "  40\n",
       "  42"
      ]
     },
     "execution_count": 31,
     "metadata": {},
     "output_type": "execute_result"
    }
   ],
   "source": [
    "test_vec_2 = rand(1:10,10)\n",
    "test_vec_3 = rand(1:100,10) "
   ]
  },
  {
   "cell_type": "code",
   "execution_count": 32,
   "metadata": {},
   "outputs": [],
   "source": [
    "#now we can either use the default value 5 of the keyword argument or change the value by using the keyword. \n",
    "make_elements_smaller2!(test_vec_2)\n",
    "make_elements_smaller2!(test_vec_3, max_size = 50)"
   ]
  },
  {
   "cell_type": "code",
   "execution_count": 33,
   "metadata": {},
   "outputs": [
    {
     "data": {
      "text/plain": [
       "10-element Vector{Int64}:\n",
       " 5\n",
       " 1\n",
       " 4\n",
       " 5\n",
       " 5\n",
       " 5\n",
       " 2\n",
       " 3\n",
       " 2\n",
       " 3"
      ]
     },
     "execution_count": 33,
     "metadata": {},
     "output_type": "execute_result"
    }
   ],
   "source": [
    "test_vec_2"
   ]
  },
  {
   "cell_type": "code",
   "execution_count": 34,
   "metadata": {},
   "outputs": [
    {
     "data": {
      "text/plain": [
       "10-element Vector{Int64}:\n",
       " 50\n",
       " 50\n",
       " 50\n",
       "  7\n",
       " 50\n",
       " 50\n",
       " 50\n",
       " 50\n",
       " 40\n",
       " 42"
      ]
     },
     "execution_count": 34,
     "metadata": {},
     "output_type": "execute_result"
    }
   ],
   "source": [
    "test_vec_3"
   ]
  },
  {
   "cell_type": "markdown",
   "metadata": {},
   "source": [
    "#### 2.4 Scope of functions"
   ]
  },
  {
   "cell_type": "markdown",
   "metadata": {},
   "source": [
    "Similar to loops, functions also create local scopes. Variables that are created within a function do not exist outside a function. The only way, to make a local variable inside a function visible to the outside, is by returning its value and assinging it to a new variable. "
   ]
  },
  {
   "cell_type": "code",
   "execution_count": 67,
   "metadata": {},
   "outputs": [
    {
     "data": {
      "text/plain": [
       "hans_peter (generic function with 1 method)"
      ]
     },
     "execution_count": 67,
     "metadata": {},
     "output_type": "execute_result"
    }
   ],
   "source": [
    "function hans_peter()\n",
    "    c1 = \"Hans Peter\"\n",
    "end"
   ]
  },
  {
   "cell_type": "code",
   "execution_count": 61,
   "metadata": {},
   "outputs": [
    {
     "ename": "LoadError",
     "evalue": "UndefVarError: c1 not defined",
     "output_type": "error",
     "traceback": [
      "UndefVarError: c1 not defined",
      ""
     ]
    }
   ],
   "source": [
    "hans_peter()\n",
    "c1"
   ]
  },
  {
   "cell_type": "markdown",
   "metadata": {},
   "source": [
    "The variable c1 does not exist outside the function `hans_peter()`. "
   ]
  },
  {
   "cell_type": "code",
   "execution_count": 71,
   "metadata": {},
   "outputs": [
    {
     "data": {
      "text/plain": [
       "hans_peter2 (generic function with 1 method)"
      ]
     },
     "execution_count": 71,
     "metadata": {},
     "output_type": "execute_result"
    }
   ],
   "source": [
    "function hans_peter2()\n",
    "    c2 = \"Hans Peter\"\n",
    "    return c2\n",
    "end"
   ]
  },
  {
   "cell_type": "code",
   "execution_count": 72,
   "metadata": {},
   "outputs": [
    {
     "data": {
      "text/plain": [
       "\"Hans Peter\""
      ]
     },
     "execution_count": 72,
     "metadata": {},
     "output_type": "execute_result"
    }
   ],
   "source": [
    "c2_outside = hans_peter2()\n",
    "c2_outside"
   ]
  },
  {
   "cell_type": "markdown",
   "metadata": {},
   "source": [
    "`c2_outside` holds now the value of c2. \n"
   ]
  },
  {
   "cell_type": "markdown",
   "metadata": {},
   "source": [
    "## Exercises:\n",
    "Execute the following cell, to create the variables `a_1` - `a_4. `"
   ]
  },
  {
   "cell_type": "code",
   "execution_count": 74,
   "metadata": {},
   "outputs": [],
   "source": [
    "a_1=[10, 39, 34, 35, 20, 32,  3,  9, 29, 35,  0, 27, 36, 40, 33,  5, 12, 24, 11, 50,  1,  7, 14, 22,  9]\n",
    "a_2=[15,  2, 11, 16, 14,  1, 12, 14,  3,  7,  0,  4,  6, 13, 18, 19,  3,  9, 15, 16,  0, 19, 12, 13, 13]\n",
    "a_3=[   4,   5,   1,   6,  3,  -3,  -6,  -1, -5,   -4]\n",
    "a_4=[\"lizard\",\"cat\",\"mouse\",\"bird\",\"butterfly\"];"
   ]
  },
  {
   "cell_type": "markdown",
   "metadata": {},
   "source": [
    "### <p style='color: green'>easy</p>\n",
    "1. Check all arrays for their length, print it and save the length of `a_1` in a variable."
   ]
  },
  {
   "cell_type": "markdown",
   "metadata": {},
   "source": [
    "2. Find the minimum and maximum of `a_1` and `a_3`, save them in variables .\n"
   ]
  },
  {
   "cell_type": "markdown",
   "metadata": {},
   "source": [
    "3. Print the sentence: `\"A_1 is x elements long. Its maximum is x and its minimum y.\"` In place of `x` and `y` add the actual values. Use your saved values."
   ]
  },
  {
   "cell_type": "markdown",
   "metadata": {},
   "source": [
    "4. Sort `a_1` and `a_4`."
   ]
  },
  {
   "cell_type": "markdown",
   "metadata": {},
   "source": [
    "### <p style='color: orange'>medium</p>\n"
   ]
  },
  {
   "cell_type": "markdown",
   "metadata": {},
   "source": [
    "5. You might have used `1:(length(array1))` in one of your loops, there is a better solution for this task. Search for the function `enumerate()`. Familiarize yourself with this function and use it to improve the following code:\n",
    "````Julia\n",
    "hansus = [1,5,8,2,7,8,3,2,8,2,9,7,4]\n",
    "for i in 1:(length(hansus))\n",
    "       println(\"The element with index $(i) is $(hansus[i])\")\n",
    "end\n",
    "````"
   ]
  },
  {
   "cell_type": "markdown",
   "metadata": {},
   "source": [
    "6. Write & execute a function that take a number as argument multiplies it by `10` and prints the result.   "
   ]
  },
  {
   "cell_type": "markdown",
   "metadata": {},
   "source": [
    "7. Write & execute a function that asks to input a number, multiplies it by `10` and prints the result. The function should ask for more input till you type in: `stop`.\n",
    "\n",
    "Hint: If you are struggling with that problem, take a look at the number guesser in the first jupyter notebook called \"Julia_Notebooks\".   "
   ]
  },
  {
   "cell_type": "markdown",
   "metadata": {},
   "source": [
    "\n",
    "        "
   ]
  },
  {
   "cell_type": "markdown",
   "metadata": {},
   "source": [
    "8. Install the package `Distributions` so that you are able to execute the following cell. What is the difference between `rand()` and `rand(Uniform(-1,1))`?"
   ]
  },
  {
   "cell_type": "code",
   "execution_count": 75,
   "metadata": {},
   "outputs": [],
   "source": [
    "using Distributions"
   ]
  },
  {
   "cell_type": "markdown",
   "metadata": {},
   "source": [
    "9. Use the `scatter(x,y)` function from the `CairoMakie` ploting package and make a scatter plot with the created values for x and y below. \n"
   ]
  },
  {
   "cell_type": "code",
   "execution_count": 78,
   "metadata": {},
   "outputs": [],
   "source": [
    "x = collect(1:100)\n",
    "y = [ (x^1.2+x*0.5rand(Uniform(-1,1))+rand(Uniform(-1,1)*5)) for x in 1:100];"
   ]
  },
  {
   "cell_type": "markdown",
   "metadata": {},
   "source": [
    "Hint: The `;` at the end of the last line surpresses the output of the last variable in a cell. "
   ]
  },
  {
   "cell_type": "markdown",
   "metadata": {},
   "source": [
    "10. Add a line plot to your scatter plot with the `lines!` function that plots x against y_truth.\n",
    "\n",
    "Hint: The `lines!()` function adds a line to the last used plot, but does not give an output. If you want an output you should give your scatter plot (created by `scatter()`) a name and call it after it was modified."
   ]
  },
  {
   "cell_type": "code",
   "execution_count": 77,
   "metadata": {},
   "outputs": [],
   "source": [
    "y_truth = [ x^1.2 for x in 1:100];"
   ]
  },
  {
   "cell_type": "markdown",
   "metadata": {},
   "source": [
    "### <p style='color: red'>hard</p>\n"
   ]
  },
  {
   "cell_type": "markdown",
   "metadata": {},
   "source": [
    "11. Now you have a plot containing the measured data and the ground truth but not an error.  Take a look at the documentation of [Makies errorbar](https://makie.juliaplots.org/stable/examples/plotting_functions/errorbars/) and add errorbars to every plotted point of the measured data with the mutating `errorbar!()` function.  \n",
    "\n"
   ]
  },
  {
   "cell_type": "code",
   "execution_count": 79,
   "metadata": {},
   "outputs": [],
   "source": [
    "y_error = [0.5*x+5 for x in 1:100];"
   ]
  },
  {
   "cell_type": "markdown",
   "metadata": {},
   "source": [
    "12. Read the section of the Julia documentation regarding [Varargs Functions](https://docs.julialang.org/en/v1/manual/functions/#Varargs-Functions). Write & execute your own function with variable arguments. The function should perform various calculations:\n",
    "- It should take two numbers and any count of additional numbers\n",
    "- It should sum up all arguments\n",
    "- A switch should allow to instead multiply all arguments.\n",
    "- If less then 2 numbers are provided an error message should be provided"
   ]
  },
  {
   "cell_type": "markdown",
   "metadata": {},
   "source": [
    "13. Write & execute a function, that processes an array. The function should test if the array is filled with numbers or strings.\n",
    "    - If the array contains only one data type, the appropriate function should be used: \n",
    "        - If it is a array of numbers, it should display the minimum and maximum\n",
    "        - If it is a array of strings, sort it by length.\n",
    "     - If the array contains both numbers and strings (or anything else) an error message should be displayed."
   ]
  },
  {
   "cell_type": "code",
   "execution_count": null,
   "metadata": {},
   "outputs": [],
   "source": []
  }
 ],
 "metadata": {
  "kernelspec": {
   "display_name": "Julia 1.9.0",
   "language": "julia",
   "name": "julia-1.9"
  },
  "language_info": {
   "file_extension": ".jl",
   "mimetype": "application/julia",
   "name": "julia",
   "version": "1.8.5"
  }
 },
 "nbformat": 4,
 "nbformat_minor": 4
}
