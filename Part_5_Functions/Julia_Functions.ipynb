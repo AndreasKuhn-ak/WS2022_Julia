{
 "cells": [
  {
   "cell_type": "markdown",
   "metadata": {},
   "source": [
    "<p style='text-align: center'><a href=https://www.biozentrum.uni-wuerzburg.de/cctb/research/supramolecular-and-cellular-simulations/>Supramolecular and Cellular Simulations</a> (Prof. Fischer)<br>Center for Computational and Theoretical Biology - CCTB<br>Faculty of Biology, University of Würzburg</p>\n",
    "\n",
    "<p style='text-align: center'><br><br>We are looking forward to your comments and suggestions. Please send them to: <br><br></p>\n",
    "    \n",
    " <p style='text-align: center'>   <a href=andreas.kuhn@uni.wuerzburg.de>andreas.kuhn@uni.wuerzburg.de</a> or <a href=sabine.fischer@uni.wuerzburg.de>sabine.fischer@uni.wuerzburg.de</a></p>\n",
    "\n",
    "<h1><p style='text-align: center'> Introduction to Julia </p></h1>\n"
   ]
  },
  {
   "cell_type": "markdown",
   "metadata": {},
   "source": [
    "## Functions\n",
    "Functions are the backbone of every Julia programm. A function is a piece of code that can be executed to solve a task. They can range from only some lines of code to whole scripts. This executable code is called by an identifier. For many general tasks, Julia has built-in functions. In fact, you have already used some of them. Only for complex and specific tasks, you need to write your own function.\n",
    "\n",
    "### 1. Built-in Functions\n",
    "The huge amount of built-in functions in Julia covers the basic needs for programming. To call a function you need to know its identifier.\n",
    "\n",
    "The `println()` function is our first example, as it has been used several times by now."
   ]
  },
  {
   "cell_type": "code",
   "execution_count": null,
   "metadata": {},
   "outputs": [],
   "source": [
    "println(\"Hello world!\")"
   ]
  },
  {
   "cell_type": "markdown",
   "metadata": {},
   "source": [
    "Besides the identifier `println()`, this function needs an argument. The argument has to be added between the brackets. In a JupyterNotebook `println()` will print its argument under the cell where it is executed. The output of the `println()` function is always a String. Strings will be printed directly and numbers will be converted to Strings and then printed. In contrast, variables will not be printed themselves, instead their content is printed. "
   ]
  },
  {
   "cell_type": "code",
   "execution_count": null,
   "metadata": {},
   "outputs": [],
   "source": [
    "v1 = [1,2]\n",
    "v2 = \"String\"\n",
    "\n",
    "println(4)\n",
    "println(v1)\n",
    "println(v2)\n"
   ]
  },
  {
   "cell_type": "markdown",
   "metadata": {},
   "source": [
    "If `println()` is given more than one argument, the arguments are printed out in the order of their position. Such types of arguments are called __positional arguments__. "
   ]
  },
  {
   "cell_type": "code",
   "execution_count": null,
   "metadata": {},
   "outputs": [],
   "source": [
    "println(v1, v2)\n",
    "println(v1,v2, \"  Weißkohl \", 2)"
   ]
  },
  {
   "cell_type": "markdown",
   "metadata": {},
   "source": [
    "There are two basic ways to integrate the content of variables into strings. You can either use `$()` in front of a variable name in your string. This signals Julia to transform the variables content into a string. Or you choose the simpler route and put you variable in between separate strings. "
   ]
  },
  {
   "cell_type": "code",
   "execution_count": null,
   "metadata": {},
   "outputs": [],
   "source": [
    "println(\"I have $(v1[2]) variables, but you can see just $(v1[1])\")\n",
    "println(\"I have\" ,v1[2], \"variables, but you can see just\", v1[1])\n",
    "println(\"I have \" ,v1[2], \" variables, but you can see just \", v1[1])"
   ]
  },
  {
   "cell_type": "markdown",
   "metadata": {},
   "source": [
    "Comment: In the second case, it can become quite tedious to take care about blank spaces in between strings, as Julia prints out strings without any spaces in between them. "
   ]
  },
  {
   "cell_type": "markdown",
   "metadata": {},
   "source": [
    " To work properly with Julia, you have to learn the basic functions or at least know where to find them. A good source to find specific built-in functions is the Julia documentation (https://docs.julialang.org/en/v1/manual/functions/), if you have a rough idea about the functions name/identifier or purpose. Otherwise, an internet search or forums can be a great help. \n",
    "\n",
    "##### Opinion: We believe good google/ general internet search skills are an essential, if not one of the most important skills of being a good programmer. You should not waste your time solving the same problem again that somebody else has already solved. "
   ]
  },
  {
   "cell_type": "markdown",
   "metadata": {},
   "source": [
    "![title](3y8ca1.jpg)"
   ]
  },
  {
   "cell_type": "markdown",
   "metadata": {},
   "source": [
    "\n",
    "In order to use the offical Julia documentation inside Julia, just add a `?` infront of the function name and hit enter."
   ]
  },
  {
   "cell_type": "code",
   "execution_count": null,
   "metadata": {},
   "outputs": [],
   "source": [
    "?println"
   ]
  },
  {
   "cell_type": "markdown",
   "metadata": {},
   "source": [
    "This will give you a short summary of the function, its arguments and a few examples. \n",
    "\n",
    "Comment: Reading the offical documentation can be intimitating at first, as the information is often expressed in a compact manner using very technical terms. But don't worry, this is normal. Once you have adjusted to the style of writing/thinking and memorized the most common technical terms, you will be able to comprehend almost everything by just using the documentation.  "
   ]
  },
  {
   "cell_type": "markdown",
   "metadata": {},
   "source": [
    "### Example functions \n",
    "In the following, some of the most used functions in Julia are shown. "
   ]
  },
  {
   "cell_type": "markdown",
   "metadata": {},
   "source": [
    "#### 1.1. rand()\n",
    "The `rand()` function is a useful and very versatile function and will show you a lot of the concepts that functions in `Julia` can use. \n",
    "\n",
    " `rand()` mainly serves two purposes. Firstly, it can randomly sample an object out of a given collection. "
   ]
  },
  {
   "cell_type": "code",
   "execution_count": null,
   "metadata": {},
   "outputs": [],
   "source": [
    "any_vec = [\"hans\", \"dieter\", 4.3, 2]\n",
    "rand(any_vec)"
   ]
  },
  {
   "cell_type": "markdown",
   "metadata": {},
   "source": [
    "You can also create a temporary iterable with the known `start:step:end` notation, directly inside the `rand()` function. In the case below a random number between 1 and 10 is sampled this way."
   ]
  },
  {
   "cell_type": "code",
   "execution_count": null,
   "metadata": {},
   "outputs": [],
   "source": [
    "rand(1:10)"
   ]
  },
  {
   "cell_type": "markdown",
   "metadata": {},
   "source": [
    "If you don't give `rand()` a collection or an iterable that it can sample from, it will sample uniformly distributed random `Float64` values between `0.0 - 1.0`. "
   ]
  },
  {
   "cell_type": "code",
   "execution_count": null,
   "metadata": {},
   "outputs": [],
   "source": [
    "rand()"
   ]
  },
  {
   "cell_type": "markdown",
   "metadata": {},
   "source": [
    "You can also create an array of randomly sampled objects by providing `rand()` the dimensionality of the desired array."
   ]
  },
  {
   "cell_type": "code",
   "execution_count": null,
   "metadata": {},
   "outputs": [],
   "source": [
    "# creating vector\n",
    "randi_vec = rand(5)"
   ]
  },
  {
   "cell_type": "code",
   "execution_count": null,
   "metadata": {},
   "outputs": [],
   "source": [
    "# creating matrix \n",
    "randi_matrix = rand(3,4)"
   ]
  },
  {
   "cell_type": "markdown",
   "metadata": {},
   "source": [
    "You can also create an array with objects that are sampled out of your given collection. "
   ]
  },
  {
   "cell_type": "code",
   "execution_count": null,
   "metadata": {},
   "outputs": [],
   "source": [
    "any_randi_matrix = rand(any_vec, 5,4)"
   ]
  },
  {
   "cell_type": "markdown",
   "metadata": {},
   "source": [
    "As you have seen above, the `rand()` function is very powerful and can do a lot of things depeding on the given arguments. But let's not end it here, and continue with some additonal random features. \n",
    "\n",
    "\n",
    "\n",
    "\n"
   ]
  },
  {
   "cell_type": "markdown",
   "metadata": {},
   "source": [
    "#### Comment: \n",
    "If you are new to programming, you might be wondering, why does this course focus so much on randomness ? Isn't the point of a computer to make precise calculations ? This is true for many fields but not for all.  Take the authors' primary field: modeling complex biological systems. Such systems are messy, with a lot of unknown parameters and effects. Randomly generated numbers are used to model this noisy in simulations. Beyond this, random numbers play a pivotal role in diverse computational domains like machine learning, cryptography, game development, testing, and debugging,..."
   ]
  },
  {
   "cell_type": "markdown",
   "metadata": {
    "tags": []
   },
   "source": [
    "#### 1.2 Random Package\n",
    "\n",
    "The `using` keyword is used to load additional packages for specific tasks. You have already seen `using` in the second notebook.  \n"
   ]
  },
  {
   "cell_type": "markdown",
   "metadata": {},
   "source": [
    "In this case the `Random` package is loaded, which provides additionally functionality regarding random sampling. The loading of a package needs to be done only once in programm execution. Therefore, for clarity reasons, it is common practice to load all neccessary packages at the begining of a programm/Jupyter Notebook. "
   ]
  },
  {
   "cell_type": "code",
   "execution_count": null,
   "metadata": {},
   "outputs": [],
   "source": [
    "using Random "
   ]
  },
  {
   "cell_type": "markdown",
   "metadata": {},
   "source": [
    "Note: If you have payed attention very closey, you might be wondering why we can load the `Random` package without prior installation through the package manager `Pkg`. This is possible because the `Random` package is part of the standard libary of `Julia`, along other useful packages like(`LinearAlgebra, Statistics,...`), which are always installed alongside base `Julia`. "
   ]
  },
  {
   "cell_type": "markdown",
   "metadata": {},
   "source": [
    "##### 1.2.1 randn() "
   ]
  },
  {
   "cell_type": "markdown",
   "metadata": {},
   "source": [
    "Now you can use all the additional functions which are provided by the `Random` package. One of these is the `randn()` function, which works very similarly to `rand()` but returns normally distributed random numbers (mean = 0, std = 1) instead of uniformly distributed ones.   "
   ]
  },
  {
   "cell_type": "code",
   "execution_count": null,
   "metadata": {},
   "outputs": [],
   "source": [
    "randi_norm = randn()\n",
    "randi_norm"
   ]
  },
  {
   "cell_type": "markdown",
   "metadata": {},
   "source": [
    "You can also create an array of random numbers with `randn()` by specifying the desired dimensionality."
   ]
  },
  {
   "cell_type": "code",
   "execution_count": null,
   "metadata": {},
   "outputs": [],
   "source": [
    "randi_norm_matrix  = randn(3,4)"
   ]
  },
  {
   "cell_type": "code",
   "execution_count": null,
   "metadata": {},
   "outputs": [],
   "source": [
    "randi_norm_vec = randn(5)"
   ]
  },
  {
   "cell_type": "markdown",
   "metadata": {},
   "source": [
    "##### 1.2.2 shuffle() / shuffle!()"
   ]
  },
  {
   "cell_type": "markdown",
   "metadata": {},
   "source": [
    "The `Random` package does not only provide functions that create random values/arrays. You can also randomize the position of values inside an array with `shuffle()` and `shuffle!()`. The difference between `shuffle()` and `shuffle!()` is that `shuffle()` creates a newly shuffled array and returns it, whereas `shuffle!()` modifies the input array and returns it.\n"
   ]
  },
  {
   "cell_type": "markdown",
   "metadata": {},
   "source": [
    "Note: The syntax convention to differentiate mutating (`!`) from non mutating functions, is strictly followed throughout all functions in the standard library of Julia. In fact, you have already seen examples like the `push!()` function, which adds new elements to an already existing array. We encourage you to strictly follow this convention in your selfwritten code as well.   "
   ]
  },
  {
   "cell_type": "code",
   "execution_count": null,
   "metadata": {},
   "outputs": [],
   "source": [
    "randi_norm_matrix2 = shuffle(randi_norm_matrix)"
   ]
  },
  {
   "cell_type": "code",
   "execution_count": null,
   "metadata": {},
   "outputs": [],
   "source": [
    "any_vec"
   ]
  },
  {
   "cell_type": "code",
   "execution_count": null,
   "metadata": {},
   "outputs": [],
   "source": [
    "shuffle!(any_vec)\n",
    "any_vec"
   ]
  },
  {
   "cell_type": "markdown",
   "metadata": {},
   "source": [
    "#### 1.3 minimum() / maximum()\n",
    "The functions `minimum()` and `maximum()` are able to find the smallest / shortest and largest / longest component of an iterable (e.g. an array), respectively."
   ]
  },
  {
   "cell_type": "code",
   "execution_count": null,
   "metadata": {},
   "outputs": [],
   "source": [
    "array1 = [1,2,3,4,5,6]\n",
    "maximum(array1)\n",
    "println(\"min: $(minimum(array1)), max: $(maximum(array1)) \")\n",
    "array2 = [\"a\",\"bc\",\"def\",\"ghij\"]\n",
    "println(\"min: $(minimum(array2)), max: $(maximum(array2)) \")"
   ]
  },
  {
   "cell_type": "markdown",
   "metadata": {},
   "source": [
    "#### 1.4 range, collect()\n",
    "\n",
    "The `range(start =1,step = 2,stop = 10 )` function is an alias for the slimmer `:` notation to create iterables. But it also provides additional functionality as instead of `stop` there can also be a `length` keyword given: `range(start = 5, step =2, length = 15 )`. \n",
    "\n",
    "The `collect` function creates arrays out of other collections or iterables. Together, this is a convient way to create arrays. "
   ]
  },
  {
   "cell_type": "code",
   "execution_count": null,
   "metadata": {},
   "outputs": [],
   "source": [
    "println(typeof(1:10))\n",
    "println(1:10)"
   ]
  },
  {
   "cell_type": "code",
   "execution_count": null,
   "metadata": {},
   "outputs": [],
   "source": [
    "println(typeof(collect(1:10)))\n",
    "println(collect(1:10))"
   ]
  },
  {
   "cell_type": "code",
   "execution_count": null,
   "metadata": {},
   "outputs": [],
   "source": [
    "println()\n",
    "println(collect(1:10))\n",
    "println(collect(range(5,10)))\n",
    "println(collect(range(start = 2, step =-0.5, length =100)))"
   ]
  },
  {
   "cell_type": "markdown",
   "metadata": {},
   "source": [
    "#### 1.5 length(), sum(), prod()\n",
    "The functions `length()`, `sum()` and `prod()` all work on iterable objects like arrays and return one value.  `length()` returns the numbers of elements, `sum()` the sum of the elements and `prod()` the product of its elements. "
   ]
  },
  {
   "cell_type": "code",
   "execution_count": null,
   "metadata": {},
   "outputs": [],
   "source": [
    "println(length(\"dieter\"))\n",
    "println(length([1,2,3,4]))\n",
    "println(length(Dict(\"animal\"=>\"snake\",\"number\" =>7)))\n",
    "println(length(1:10))"
   ]
  },
  {
   "cell_type": "code",
   "execution_count": null,
   "metadata": {},
   "outputs": [],
   "source": [
    "sum(collect(1:5))"
   ]
  },
  {
   "cell_type": "code",
   "execution_count": null,
   "metadata": {},
   "outputs": [],
   "source": [
    "prod(collect(1:5))"
   ]
  },
  {
   "cell_type": "markdown",
   "metadata": {},
   "source": [
    "`sum()` and `prod()` will only work if there is a common method of adding or multipling for all elements defined. "
   ]
  },
  {
   "cell_type": "code",
   "execution_count": null,
   "metadata": {},
   "outputs": [],
   "source": [
    "sum([1,1.0,\"hans\"])"
   ]
  },
  {
   "cell_type": "markdown",
   "metadata": {},
   "source": [
    "Similar to basic operators, functions can also be broadcasted (sometimes also referred to as vectorized) by the `.` operator to each element when used on a collection. The returning object is then an array with the same dimension as the object but with the return value of the function as elements.  "
   ]
  },
  {
   "cell_type": "markdown",
   "metadata": {},
   "source": [
    "First, we define an example array:"
   ]
  },
  {
   "cell_type": "code",
   "execution_count": null,
   "metadata": {},
   "outputs": [],
   "source": [
    "array_of_arrays = [y = [x = rand() for x in 1:rand(1:10)] for y in 1:10]"
   ]
  },
  {
   "cell_type": "markdown",
   "metadata": {},
   "source": [
    "and then, use the broadcasting:"
   ]
  },
  {
   "cell_type": "code",
   "execution_count": null,
   "metadata": {},
   "outputs": [],
   "source": [
    "println(length(array_of_arrays))\n",
    "println(length.(array_of_arrays))"
   ]
  },
  {
   "cell_type": "markdown",
   "metadata": {},
   "source": [
    "#### 1.6 readline()\n",
    "If you want an user to input some information, use the `readline()` function. This function will open a field to input text."
   ]
  },
  {
   "cell_type": "code",
   "execution_count": null,
   "metadata": {},
   "outputs": [],
   "source": [
    "input = readline()"
   ]
  },
  {
   "cell_type": "markdown",
   "metadata": {},
   "source": [
    "If you are using a Jupyter notebook, you can also use the `IJulia.readprompt()` function that allows you to print out a message to the user at the same time.  "
   ]
  },
  {
   "cell_type": "code",
   "execution_count": null,
   "metadata": {},
   "outputs": [],
   "source": [
    "input = IJulia.readprompt(\"Please input a number\")"
   ]
  },
  {
   "cell_type": "markdown",
   "metadata": {},
   "source": [
    "#### 1.7 parse()\n",
    "All input is interpreted as a string. In order to create `Int64` or `Float64` values from the input, you can use the `parse` function. The first argument is the datatype we want to create and the second one is the string we want to parse. "
   ]
  },
  {
   "cell_type": "code",
   "execution_count": null,
   "metadata": {},
   "outputs": [],
   "source": [
    "input = IJulia.readprompt(\"Please input a number\")\n",
    "number_input = parse(Float64,input)\n",
    "println(input,\" \",typeof(input))\n",
    "println(number_input,\" \",typeof(number_input))"
   ]
  },
  {
   "cell_type": "markdown",
   "metadata": {
    "tags": []
   },
   "source": [
    "#### 1.8 sort() / sort!()\n",
    "To sort an iterable object, you can use the function `sort()` or `sort!()`.  Similar to `shuffle()` and `shuffle!()`, `sort()` creates a new array and returns it, whereas `sort!()` modifies the input array and returns it. "
   ]
  },
  {
   "cell_type": "code",
   "execution_count": null,
   "metadata": {
    "tags": []
   },
   "outputs": [],
   "source": [
    "array2 = [1,0,9,4,3,8]\n",
    "println(sort(array2))\n",
    "#original array is not changed\n",
    "println(array2)\n",
    "\n",
    "println(sort!(array2))\n",
    "#original array is changed \n",
    "println(array2)\n"
   ]
  },
  {
   "cell_type": "markdown",
   "metadata": {
    "tags": []
   },
   "source": [
    " #### 1.9 Keyword arguments\n",
    "The two `sort() /sort!()` functions have optional arguments, so called __keyword arguments__. These arguments are given by providing their respective keyword and always have a default value. In contrast to positional arguments their position does not matter. One important keyword argument for the `sort` function is `rev` which means reversed order. This can be `true` or `false`, with the default value being `false`.  "
   ]
  },
  {
   "cell_type": "code",
   "execution_count": null,
   "metadata": {},
   "outputs": [],
   "source": [
    "println(sort(array2,rev = true))"
   ]
  },
  {
   "cell_type": "code",
   "execution_count": null,
   "metadata": {},
   "outputs": [],
   "source": [
    "## position of keyword argument does not matter: \n",
    "sort(array2,rev = true) == sort(rev = true,array2) "
   ]
  },
  {
   "cell_type": "markdown",
   "metadata": {},
   "source": [
    "Note: Even though the positions of keyword arguments do not matter, it is common practice to provide them after all positional arguments. So always try to write : \n",
    "``` julia\n",
    "func1( a,b,c, rev = true, hans = 10, color = \"green\")\n",
    "```\n",
    "instead of :\n",
    "``` julia\n",
    "func1( hans = 10, a,b,color = \"green\",c, rev = true)\n",
    "```\n",
    "as the second variant becomes very confusing, very fast :). \n",
    "\n"
   ]
  },
  {
   "cell_type": "markdown",
   "metadata": {},
   "source": [
    "If you take a look at the offical documentation for `sort` (by typing `?sort` or on to the respective [webpage](https://docs.julialang.org/en/v1/base/sort/)), you can see the 5 keyword arguments of `sort` togehter with their default value. One of these 5 keyword arguments is called `by`. According to the documention  \"The by keyword lets you provide a custom function that will be applied to each element before comparison\" . The question is now how do you provide a custom function ? This leads you smoothly to the next big section in this chapter:  How to write your own function."
   ]
  },
  {
   "cell_type": "markdown",
   "metadata": {},
   "source": [
    "### 2. Self-written functions\n",
    "\n",
    "There are three ways to define a function in Julia. \n",
    "The quickest and dirtiest way is to use the `->` operator:"
   ]
  },
  {
   "cell_type": "code",
   "execution_count": null,
   "metadata": {},
   "outputs": [],
   "source": [
    "firstfunc = x-> x^2"
   ]
  },
  {
   "cell_type": "markdown",
   "metadata": {},
   "source": [
    "This is a function with the identifier `firstfunc` that operates on the input argument x and raises x to the power of 2 and returns the new value. "
   ]
  },
  {
   "cell_type": "markdown",
   "metadata": {},
   "source": [
    "There is also another, more mathematically inspired way to define a function in one line by using the `identifier(argument) = operation ` syntax."
   ]
  },
  {
   "cell_type": "code",
   "execution_count": null,
   "metadata": {},
   "outputs": [],
   "source": [
    "secondfunc(x) = x^3\n",
    "#arguments can also be empty\n",
    "thirdfunc() = rand(1:10)\n",
    "#also multiple arguments are possible\n",
    "fourthfunc(t,u) = t*u +4"
   ]
  },
  {
   "cell_type": "markdown",
   "metadata": {},
   "source": [
    "We can call these functions by their identifier together with the right number of arguments. "
   ]
  },
  {
   "cell_type": "code",
   "execution_count": null,
   "metadata": {},
   "outputs": [],
   "source": [
    "println(firstfunc(10))\n",
    "println(secondfunc(3))\n",
    "println(thirdfunc())\n",
    "println(fourthfunc(2,5))"
   ]
  },
  {
   "cell_type": "markdown",
   "metadata": {},
   "source": [
    "#### 2.1 Anonymous functions"
   ]
  },
  {
   "cell_type": "code",
   "execution_count": null,
   "metadata": {},
   "outputs": [],
   "source": [
    "x-> x^2"
   ]
  },
  {
   "cell_type": "markdown",
   "metadata": {},
   "source": [
    "With the `->` syntax you can even omit the identifier. But why would you define a function without an identifier so that you cannot even call it ?  \n",
    "These so called anonymous functions are very useful, if they are used as an argument to another function.\n",
    "\n",
    "The previously mentioned `sort` function is such a function that can take an anonymous function as a keyword argument (`by = function()`).  "
   ]
  },
  {
   "cell_type": "code",
   "execution_count": null,
   "metadata": {},
   "outputs": [],
   "source": [
    "println(sort( [\"bbb\",\"aaaaaaaaa\",\"cccccc\"],by = x-> length(x)))"
   ]
  },
  {
   "cell_type": "markdown",
   "metadata": {},
   "source": [
    "In the example above, the by keyword is provided with an anonymous function that calculates the length of a string and then returns it. This length is then used as the sorting criterion, meaning that the strings are sorted by their length rather than by the position of their first letter in the alphabet."
   ]
  },
  {
   "cell_type": "markdown",
   "metadata": {},
   "source": [
    "##### 2.1.1 Map"
   ]
  },
  {
   "cell_type": "markdown",
   "metadata": {},
   "source": [
    "The map function is another function that takes a function as an argument. Addtionally, a collection is needed as the second positional argument. The function is then applied to all elements of the collection. "
   ]
  },
  {
   "cell_type": "code",
   "execution_count": null,
   "metadata": {},
   "outputs": [],
   "source": [
    "test_array = [1,2,3,4,5,6,7,8,9]\n",
    "println(map(firstfunc,test_array))\n",
    "# we could also use the . notation to achieve the same\n",
    "println(firstfunc.(test_array))"
   ]
  },
  {
   "cell_type": "markdown",
   "metadata": {},
   "source": [
    "As you have seen above, it is also possible to apply a function to every element of a collection by using the previously shown `.` notation for operator broadcasting like `.+`. For both the `map` function and the `.` notation, you can also define an anonymous function right in place.  "
   ]
  },
  {
   "cell_type": "code",
   "execution_count": null,
   "metadata": {},
   "outputs": [],
   "source": [
    "map(x->x^3+x^2+x,collect(1:10))"
   ]
  },
  {
   "cell_type": "code",
   "execution_count": null,
   "metadata": {},
   "outputs": [],
   "source": [
    "(x->x^3+x^2+x).(collect(1:10))"
   ]
  },
  {
   "cell_type": "markdown",
   "metadata": {},
   "source": [
    "We can also define quite complex functions with the `->` notation. "
   ]
  },
  {
   "cell_type": "code",
   "execution_count": null,
   "metadata": {},
   "outputs": [],
   "source": [
    "map(x->if x%3 == 0 x^3+x^2+x  elseif x%2 == 0 x =x^4 else x = 0  end,collect(1:10))"
   ]
  },
  {
   "cell_type": "markdown",
   "metadata": {},
   "source": [
    "But as seen in the cell above, it can get messy very fast, if a  bigger function is defined in one line with the  `->` syntax. The same is also true for the `identifier(argument) = operation ` syntax. "
   ]
  },
  {
   "cell_type": "markdown",
   "metadata": {
    "tags": []
   },
   "source": [
    "### 2.2 Complex functions\n",
    "\n",
    "If you want to define big and complex functions, you should use the third and most powerful way to define functions:\n",
    "``` julia\n",
    "function identifier(arguments,...)\n",
    "    \n",
    "    operations...\n",
    "    \n",
    "    return result,...\n",
    "    \n",
    "end\n",
    "```\n",
    "\n"
   ]
  },
  {
   "cell_type": "markdown",
   "metadata": {},
   "source": [
    "This way you can define a function that adds two numbers together, but only if the two numbers are even. If one or both numbers are not even, an error is printed and 0 is returned."
   ]
  },
  {
   "cell_type": "code",
   "execution_count": null,
   "metadata": {},
   "outputs": [],
   "source": [
    "function add_only_even(num1,num2)\n",
    "    \n",
    "    if num1%2 ==0 && num2%2 ==0\n",
    "        return num1*num2\n",
    "    else\n",
    "        println(\"ERROR ERROR ERROR\")\n",
    "        return 0\n",
    "    end\n",
    "end"
   ]
  },
  {
   "cell_type": "code",
   "execution_count": null,
   "metadata": {},
   "outputs": [],
   "source": [
    "add_only_even(2,4)"
   ]
  },
  {
   "cell_type": "code",
   "execution_count": null,
   "metadata": {},
   "outputs": [],
   "source": [
    "add_only_even(2,5)"
   ]
  },
  {
   "cell_type": "markdown",
   "metadata": {},
   "source": [
    "With this syntax, it is possible to modify the return value. For example, you don't need to return aynthing. \n",
    "\n",
    "The function below makes the elements of the input array smaller, if they exceed a given maximum value.  "
   ]
  },
  {
   "cell_type": "code",
   "execution_count": null,
   "metadata": {},
   "outputs": [],
   "source": [
    "function make_elements_smaller!(vector,max_value)\n",
    "    for i in 1:length(vector)\n",
    "        if vector[i] > max_value\n",
    "            vector[i] = max_value\n",
    "        end\n",
    "    end\n",
    "end    "
   ]
  },
  {
   "cell_type": "markdown",
   "metadata": {},
   "source": [
    "As you should always follow the syntax convention regarding mutating and non mutation functions, the function name ends with a `!`.  "
   ]
  },
  {
   "cell_type": "code",
   "execution_count": null,
   "metadata": {},
   "outputs": [],
   "source": [
    "test_vec = rand(1:10,10)"
   ]
  },
  {
   "cell_type": "code",
   "execution_count": null,
   "metadata": {},
   "outputs": [],
   "source": [
    "#no return value\n",
    "make_elements_smaller!(test_vec,5)"
   ]
  },
  {
   "cell_type": "code",
   "execution_count": null,
   "metadata": {},
   "outputs": [],
   "source": [
    "test_vec"
   ]
  },
  {
   "cell_type": "markdown",
   "metadata": {},
   "source": [
    "The original `test_vec` has been changed."
   ]
  },
  {
   "cell_type": "markdown",
   "metadata": {},
   "source": [
    "#### 2.3 Keyword arguments in self-written functions. \n",
    "Keyword arguments offer a possibility to provide function arguments with a default value. The argument is replaced by a keyword and a default value like `keyword = default`. Keyword arguments have to be positioned after normal arguments with an `;`. The function can then be called either without the keyword argument, in which case the default value is chosen, or with explicit specification of the keyword arguments."
   ]
  },
  {
   "cell_type": "markdown",
   "metadata": {},
   "source": [
    "Note: In the documentations of many programming languages/packages, it is common to use the abbreviation `args` for positional arguments and `kwargs` for keyword arguments.  "
   ]
  },
  {
   "cell_type": "code",
   "execution_count": null,
   "metadata": {},
   "outputs": [],
   "source": [
    "function make_elements_smaller2!(vector;max_value = 5)\n",
    "    for i in 1:length(vector)\n",
    "        if vector[i] > max_value\n",
    "            vector[i] = max_value\n",
    "        end\n",
    "    end\n",
    "end    "
   ]
  },
  {
   "cell_type": "code",
   "execution_count": null,
   "metadata": {},
   "outputs": [],
   "source": [
    "test_vec_2 = rand(1:10,10)\n",
    "test_vec_3 = rand(1:100,10) "
   ]
  },
  {
   "cell_type": "code",
   "execution_count": null,
   "metadata": {},
   "outputs": [],
   "source": [
    "#now we can either use the default value 5 of the keyword argument or change the value by using the keyword. \n",
    "make_elements_smaller2!(test_vec_2)\n",
    "make_elements_smaller2!(test_vec_3, max_value = 50)"
   ]
  },
  {
   "cell_type": "code",
   "execution_count": null,
   "metadata": {},
   "outputs": [],
   "source": [
    "test_vec_2"
   ]
  },
  {
   "cell_type": "code",
   "execution_count": null,
   "metadata": {},
   "outputs": [],
   "source": [
    "test_vec_3"
   ]
  },
  {
   "cell_type": "markdown",
   "metadata": {},
   "source": [
    "#### 2.4 Scope of functions"
   ]
  },
  {
   "cell_type": "markdown",
   "metadata": {},
   "source": [
    "Similar to loops, functions also create local scopes. Variables that are created within a function, do not exist outside a function. To make a local variable inside a function visible to the outside, is by returning its value and assigning it to a new variable. "
   ]
  },
  {
   "cell_type": "code",
   "execution_count": null,
   "metadata": {},
   "outputs": [],
   "source": [
    "function hans_peter()\n",
    "    c1 = \"Hans Peter\"\n",
    "end"
   ]
  },
  {
   "cell_type": "code",
   "execution_count": null,
   "metadata": {},
   "outputs": [],
   "source": [
    "hans_peter()\n",
    "c1"
   ]
  },
  {
   "cell_type": "markdown",
   "metadata": {},
   "source": [
    "The variable c1 does not exist outside the function `hans_peter()`. "
   ]
  },
  {
   "cell_type": "code",
   "execution_count": null,
   "metadata": {},
   "outputs": [],
   "source": [
    "function hans_peter2()\n",
    "    c2 = \"Hans Peter\"\n",
    "    return c2\n",
    "end"
   ]
  },
  {
   "cell_type": "code",
   "execution_count": null,
   "metadata": {},
   "outputs": [],
   "source": [
    "c2_outside = hans_peter2()\n",
    "c2_outside"
   ]
  },
  {
   "cell_type": "markdown",
   "metadata": {},
   "source": [
    "`c2_outside` holds now the value of c2. \n"
   ]
  },
  {
   "cell_type": "markdown",
   "metadata": {},
   "source": [
    "##  Short  Summary\n",
    "- Julia provides many inbuild functions for various tasks\n",
    "- Functions accept both positional and optional keyword arguments\n",
    "- Functions ending with an `!` modify the input arguments, whereas other function create new return values\n",
    "- You can write your own functions in one line using the `f = x->x^2` or `f(x) = x^2` syntax\n",
    "- Complex function should be written using the more powerfull `function ... end` syntax\n"
   ]
  },
  {
   "cell_type": "markdown",
   "metadata": {},
   "source": [
    "## Exercises:\n",
    "\n",
    "All exercises in this course are divided into 3 different difficulty categories: <span style=\"color:green\">easy</span>, <span style=\"color:orange\">medium</span> and <span style=\"color:red\">hard</span>. <span style=\"color:green\">Easy</span> exercises should be solvable solely with the contents of the respective notebook. <span style=\"color:orange\">Medium</span> often require the transfer of known concepts to new problems. Therefore, it might be necessary to look up some old notebooks or to use your creativity and curiosity to combine seemingly unrelated stuff. <span style=\"color:red\">Hard</span> exercises take this concept one step further and might require you to use additional resources like the official documentation, google, StackOverflow,... . \n",
    "\n",
    "Execute the following cell, to create the variables `a_1` - `a_4. `"
   ]
  },
  {
   "cell_type": "code",
   "execution_count": null,
   "metadata": {},
   "outputs": [],
   "source": [
    "a_1=[10, 39, 34, 35, 20, 32,  3,  9, 29, 35,  0, 27, 36, 40, 33,  5, 12, 24, 11, 50,  1,  7, 14, 22,  9]\n",
    "a_2=[15,  2, 11, 16, 14,  1, 12, 14,  3,  7,  0,  4,  6, 13, 18, 19,  3,  9, 15, 16,  0, 19, 12, 13, 13]\n",
    "a_3=[   4,   5,   1,   6,  3,  -3,  -6,  -1, -5,   -4]\n",
    "a_4=[\"lizard\",\"cat\",\"mouse\",\"bird\",\"butterfly\"];"
   ]
  },
  {
   "cell_type": "markdown",
   "metadata": {},
   "source": [
    "### <p style='color: green'>easy</p>\n",
    "1. Check all arrays for their length, print it and save the length of `a_1` in a variable."
   ]
  },
  {
   "cell_type": "markdown",
   "metadata": {},
   "source": [
    "2. Find the minimum and maximum of `a_1` and `a_3`, save them in variables .\n"
   ]
  },
  {
   "cell_type": "markdown",
   "metadata": {},
   "source": [
    "3. Print the sentence: `\"A_1 is x elements long. Its maximum is y and its minimum z.\"` In place of `x, y` and `z` add the actual values. Use your saved values."
   ]
  },
  {
   "cell_type": "markdown",
   "metadata": {},
   "source": [
    "4. Sort `a_1` and `a_4` in ascending order and `a_3` in descending order."
   ]
  },
  {
   "cell_type": "markdown",
   "metadata": {},
   "source": [
    "### <p style='color: orange'>medium</p>\n"
   ]
  },
  {
   "cell_type": "markdown",
   "metadata": {},
   "source": [
    "5. You might have used `1:(length(array1))` in one of your loops. There is a better solution for this task. Search for the function `enumerate()`. Familiarize yourself with this function and use it to improve the following code:\n",
    "````Julia\n",
    "hansus = [1,5,8,2,7,8,3,2,8,2,9,7,4]\n",
    "for i in 1:(length(hansus))\n",
    "       println(\"The element with index $(i) is $(hansus[i])\")\n",
    "end\n",
    "````"
   ]
  },
  {
   "cell_type": "markdown",
   "metadata": {},
   "source": [
    "6. Write and execute a function that takes a number as argument multiplies it by `10` and prints the result.   "
   ]
  },
  {
   "cell_type": "markdown",
   "metadata": {},
   "source": [
    "7. Write and execute a function that asks to input a number, multiplies it by `10` and prints the result. The function should ask for more input till you type in: `stop`.\n",
    "\n",
    "Hint: If you are struggling with that problem, take a look at the number guesser in the first jupyter notebook called \"Julia_Notebooks\".   "
   ]
  },
  {
   "cell_type": "markdown",
   "metadata": {},
   "source": [
    "\n",
    "        "
   ]
  },
  {
   "cell_type": "markdown",
   "metadata": {},
   "source": [
    "8. Install the package `Distributions` so that you are able to execute the following cell. What is the difference between `rand()` and `rand(Uniform(-1,1))`?"
   ]
  },
  {
   "cell_type": "code",
   "execution_count": null,
   "metadata": {},
   "outputs": [],
   "source": [
    "using Distributions"
   ]
  },
  {
   "cell_type": "markdown",
   "metadata": {},
   "source": [
    "9. Use the `scatter(x,y)` function from the `CairoMakie` plotting package and make a scatter plot with the created values for `x` and `y` below. \n"
   ]
  },
  {
   "cell_type": "code",
   "execution_count": null,
   "metadata": {},
   "outputs": [],
   "source": [
    "x = collect(1:100)\n",
    "y = [ (x^1.2+x*0.5rand(Uniform(-1,1))+rand(Uniform(-1,1)*5)) for x in 1:100];"
   ]
  },
  {
   "cell_type": "markdown",
   "metadata": {},
   "source": [
    "Hint: The `;` at the end of the last line suppresses the output of the last variable in a cell. "
   ]
  },
  {
   "cell_type": "markdown",
   "metadata": {},
   "source": [
    "10. Add a line plot to your scatter plot with the `lines!` function that plots `x` against the ground truth `y_truth`.\n",
    "\n",
    "Hint: The `lines!()` function adds a line to the last used plot, but does not give an output. If you want an output, you should give your scatter plot (created by `scatter()`) a name and call it after it was modified."
   ]
  },
  {
   "cell_type": "code",
   "execution_count": null,
   "metadata": {},
   "outputs": [],
   "source": [
    "y_truth = [ x^1.2 for x in 1:100];"
   ]
  },
  {
   "cell_type": "markdown",
   "metadata": {},
   "source": [
    "### <p style='color: red'>hard</p>\n"
   ]
  },
  {
   "cell_type": "markdown",
   "metadata": {},
   "source": [
    "11. Now you have a plot containing the measured data and the ground truth but not an error.  Take a look at the documentation of [Makies errorbar](https://makie.juliaplots.org/stable/examples/plotting_functions/errorbars/) and add errorbars to every plotted point of the measured data with the mutating `errorbar!()` function.  \n",
    "\n"
   ]
  },
  {
   "cell_type": "code",
   "execution_count": null,
   "metadata": {},
   "outputs": [],
   "source": [
    "y_error = [0.5*x+5 for x in 1:100];"
   ]
  },
  {
   "cell_type": "markdown",
   "metadata": {},
   "source": [
    "12. Read the section of the Julia documentation regarding [Varargs Functions](https://docs.julialang.org/en/v1/manual/functions/#Varargs-Functions). Write and execute your own function with variable arguments. The function should perform various calculations:\n",
    "- It should take two numbers and any count of additional numbers\n",
    "- It should sum up all arguments\n",
    "- A switch should allow to instead multiply all arguments.\n",
    "- If less then 2 numbers are provided an error message should be provided"
   ]
  },
  {
   "cell_type": "markdown",
   "metadata": {},
   "source": [
    "13. Write and execute a function, that processes an array. The function should test if the array is filled with numbers or strings.\n",
    "    - If the array contains only one data type, the appropriate function should be used: \n",
    "        - If it is an array of numbers, it should display the minimum and maximum value:\n",
    "        - If it is an array of strings, sort it by length.\n",
    "     - If the array contains both numbers and strings (or anything else) an error message should be displayed."
   ]
  },
  {
   "cell_type": "code",
   "execution_count": null,
   "metadata": {},
   "outputs": [],
   "source": []
  }
 ],
 "metadata": {
  "kernelspec": {
   "display_name": "Julia 1.9.2",
   "language": "julia",
   "name": "julia-1.9"
  },
  "language_info": {
   "file_extension": ".jl",
   "mimetype": "application/julia",
   "name": "julia",
   "version": "1.9.2"
  }
 },
 "nbformat": 4,
 "nbformat_minor": 4
}
