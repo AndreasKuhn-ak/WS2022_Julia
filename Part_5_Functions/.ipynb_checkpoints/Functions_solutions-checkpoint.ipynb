{
 "cells": [
  {
   "cell_type": "markdown",
   "id": "88ad6355-a8be-4f0c-8fb1-089ddc05f836",
   "metadata": {},
   "source": [
    "## 5. Functions\n",
    "\n",
    "###  Sample Solutions "
   ]
  },
  {
   "cell_type": "markdown",
   "id": "84a7a724-fd29-4157-af5b-eedd40c9a55b",
   "metadata": {},
   "source": [
    "Execute the following cell, to create the variables `a_1` - `a_4. `"
   ]
  },
  {
   "cell_type": "code",
   "execution_count": 1,
   "id": "d13afe08-b60c-4d14-8e83-e9977b4352a5",
   "metadata": {},
   "outputs": [],
   "source": [
    "a_1=[10, 39, 34, 35, 20, 32,  3,  9, 29, 35,  0, 27, 36, 40, 33,  5, 12, 24, 11, 50,  1,  7, 14, 22,  9]\n",
    "a_2=[15,  2, 11, 16, 14,  1, 12, 14,  3,  7,  0,  4,  6, 13, 18, 19,  3,  9, 15, 16,  0, 19, 12, 13, 13]\n",
    "a_3=[   4,   5,   1,   6,  3,  -3,  -6,  -1, -5,   -4]\n",
    "a_4=[\"lizard\",\"cat\",\"mouse\",\"bird\",\"butterfly\"];"
   ]
  },
  {
   "cell_type": "markdown",
   "id": "031a9b93-e51c-4aa1-8296-d65918ec0425",
   "metadata": {},
   "source": [
    "### <p style='color: green'>easy</p>"
   ]
  },
  {
   "cell_type": "markdown",
   "id": "3d50ecea-eafb-4c67-853d-3ec286e767bb",
   "metadata": {},
   "source": [
    "#### Exercise 1 \n",
    "Check all arrays for their length, print it and save the length of `a_1` in a variable.\n",
    "#### Solution 1 "
   ]
  },
  {
   "cell_type": "code",
   "execution_count": 2,
   "id": "7968519b-af75-4336-b46a-45e210ec5b52",
   "metadata": {},
   "outputs": [
    {
     "name": "stdout",
     "output_type": "stream",
     "text": [
      "25\n",
      "25\n",
      "10\n",
      "5\n"
     ]
    },
    {
     "data": {
      "text/plain": [
       "25"
      ]
     },
     "execution_count": 2,
     "metadata": {},
     "output_type": "execute_result"
    }
   ],
   "source": [
    "println(length(a_1))\n",
    "println(length(a_2))\n",
    "println(length(a_3))\n",
    "println(length(a_4))\n",
    "len_a_1 = length(a_1)"
   ]
  },
  {
   "cell_type": "markdown",
   "id": "6db6c781-2b3c-4c7d-80bc-3f1d942aaa25",
   "metadata": {},
   "source": [
    "#### Exercise 2\n",
    "Find the minimum and maximum of `a_1` and `a_3`, save them in variables.\n",
    "\n",
    "#### Solution 2 "
   ]
  },
  {
   "cell_type": "code",
   "execution_count": 5,
   "id": "e9f1e730",
   "metadata": {},
   "outputs": [
    {
     "data": {
      "text/plain": [
       "6"
      ]
     },
     "execution_count": 5,
     "metadata": {},
     "output_type": "execute_result"
    }
   ],
   "source": [
    "a_1_min = minimum(a_1)\n",
    "a_1_max = maximum(a_1)\n",
    "a_3_min = minimum(a_3)\n",
    "a_3_max = maximum(a_3)\n"
   ]
  },
  {
   "cell_type": "markdown",
   "id": "c9de4020-a9c1-483b-8d4b-233c94104c56",
   "metadata": {},
   "source": [
    "#### Exercise 3\n",
    "Print the sentence: `\"A_1 is x elements long. Its maximum is x and its minimum y.\"` In place of `x` and `y` add the actual values. Use your saved values.\n",
    "#### Solution 3 "
   ]
  },
  {
   "cell_type": "code",
   "execution_count": 7,
   "id": "19e809ad-a161-4b81-bf56-09c68a8cdf46",
   "metadata": {},
   "outputs": [
    {
     "name": "stdout",
     "output_type": "stream",
     "text": [
      "A_1 is 25 elements long. Its maximum is 50 and its minimum 0\n"
     ]
    }
   ],
   "source": [
    "println(\"A_1 is $(len_a_1) elements long. Its maximum is $(a_1_max) and its minimum $(a_1_min)\")\n"
   ]
  },
  {
   "cell_type": "markdown",
   "id": "9af1ce48-b823-44ee-b3da-ee5f356de50e",
   "metadata": {},
   "source": [
    "#### Exercise 4\n",
    "Sort `a_1` and `a_4`.\n",
    "#### Solution 4 "
   ]
  },
  {
   "cell_type": "code",
   "execution_count": 10,
   "id": "61020e5f-d508-4cab-b8fe-21d1a85e3be0",
   "metadata": {},
   "outputs": [
    {
     "name": "stdout",
     "output_type": "stream",
     "text": [
      "[10, 39, 34, 35, 20, 32, 3, 9, 29, 35, 0, 27, 36, 40, 33, 5, 12, 24, 11, 50, 1, 7, 14, 22, 9]\n",
      "[0, 1, 3, 5, 7, 9, 9, 10, 11, 12, 14, 20, 22, 24, 27, 29, 32, 33, 34, 35, 35, 36, 39, 40, 50]\n",
      "[\"lizard\", \"cat\", \"mouse\", \"bird\", \"butterfly\"]\n",
      "[\"bird\", \"butterfly\", \"cat\", \"lizard\", \"mouse\"]\n"
     ]
    }
   ],
   "source": [
    "println(a_1)\n",
    "sort!(a_1)\n",
    "println(a_1)\n",
    "println(a_4)\n",
    "sort!(a_4)\n",
    "println(a_4)\n",
    "\n"
   ]
  },
  {
   "cell_type": "markdown",
   "id": "b3fad8c4-40bd-49b8-86d7-0ffecf859378",
   "metadata": {},
   "source": [
    "### <p style='color: orange'>medium</p>"
   ]
  },
  {
   "cell_type": "markdown",
   "id": "11f7f019-c8eb-4c5e-97b2-0b88edcf0c13",
   "metadata": {},
   "source": [
    "#### Exercise 5\n",
    "You might have used `1:(length(array1))` in one of your loops, there is a better solution for this task. Search for the function `enumerate()`. Familiarize yourself with this function and use it to improve the following code:\n",
    "````Julia\n",
    "hansus = [1,5,8,2,7,8,3,2,8,2,9,7,4]\n",
    "for i in 1:(length(hansus))\n",
    "       println(\"The element with index $(i) is $(hansus[i])\")\n",
    "end\n",
    "````\n",
    "#### Solution 5"
   ]
  },
  {
   "cell_type": "markdown",
   "id": "918f2997-d562-4d9f-9030-00a8b061a7d8",
   "metadata": {},
   "source": [
    "Enumerate combines the two ways (by index `for i in 1:(length(array))` or by element `for i in array`) to iterate over an object into one more compact notation.   http://www.jlhub.com/julia/manual/en/function/enumerate"
   ]
  },
  {
   "cell_type": "code",
   "execution_count": 15,
   "id": "14671a6a-f354-483c-b305-93a1e872dd5f",
   "metadata": {},
   "outputs": [
    {
     "name": "stdout",
     "output_type": "stream",
     "text": [
      "The element with index 1 is 1\n",
      "The element with index 2 is 5\n",
      "The element with index 3 is 8\n",
      "The element with index 4 is 2\n",
      "The element with index 5 is 7\n",
      "The element with index 6 is 8\n",
      "The element with index 7 is 3\n",
      "The element with index 8 is 2\n",
      "The element with index 9 is 8\n",
      "The element with index 10 is 2\n",
      "The element with index 11 is 9\n",
      "The element with index 12 is 7\n",
      "The element with index 13 is 4\n"
     ]
    }
   ],
   "source": [
    "hansus = [1,5,8,2,7,8,3,2,8,2,9,7,4]\n",
    "for (i,x) in enumerate(hansus)\n",
    "    println(\"The element with index $(i) is $(x)\")\n",
    "end"
   ]
  },
  {
   "cell_type": "markdown",
   "id": "ed0deea2-8d79-477f-96e6-4b15f1a17679",
   "metadata": {},
   "source": [
    "#### Exercise 6\n",
    " Write & execute a function that take a number as argument multiplies it by `10` and prints the result.   \n",
    "#### Solution 6"
   ]
  },
  {
   "cell_type": "code",
   "execution_count": 8,
   "id": "bf53fb42-eda0-4236-8bc1-8ffff2f039e8",
   "metadata": {},
   "outputs": [
    {
     "data": {
      "text/plain": [
       "number_multiplier (generic function with 1 method)"
      ]
     },
     "execution_count": 8,
     "metadata": {},
     "output_type": "execute_result"
    }
   ],
   "source": [
    "function number_multiplier(number)\n",
    "    return number*10\n",
    "end"
   ]
  },
  {
   "cell_type": "code",
   "execution_count": 9,
   "id": "b84db463-e3f8-4526-aefc-6cabe2e4baa9",
   "metadata": {},
   "outputs": [
    {
     "data": {
      "text/plain": [
       "50"
      ]
     },
     "execution_count": 9,
     "metadata": {},
     "output_type": "execute_result"
    }
   ],
   "source": [
    "number_multiplier(5)"
   ]
  },
  {
   "cell_type": "markdown",
   "id": "a192fc3e-9d6e-4037-b9b3-f5dd720c36e9",
   "metadata": {},
   "source": [
    "#### Exercise 7\n",
    "Write & execute a function that asks to input a number, multiplies it by `10` and prints the result. The function should ask for more input till you type in: `stop`.\n",
    "\n",
    "Hint: If you are struggling with that problem, take a look at the number guesser in the first jupyter notebook called \"Julia_Notebooks\".  \n",
    "#### Solution 7"
   ]
  },
  {
   "cell_type": "code",
   "execution_count": 10,
   "id": "f59b1282-1716-4822-926b-90f8788cf97a",
   "metadata": {},
   "outputs": [
    {
     "data": {
      "text/plain": [
       "number_input (generic function with 1 method)"
      ]
     },
     "execution_count": 10,
     "metadata": {},
     "output_type": "execute_result"
    }
   ],
   "source": [
    "function number_input()\n",
    "    while true\n",
    "        input = IJulia.readprompt(\"Please input a number. Type stop to exit the programm\")\n",
    "        if input == \"stop\"\n",
    "            println(\"Number Input Stops Now!\")\n",
    "            break\n",
    "        end\n",
    "        println(parse(Int64,input)*10)\n",
    "    end\n",
    "end"
   ]
  },
  {
   "cell_type": "code",
   "execution_count": 11,
   "id": "3f8e1138-7394-4339-beef-184206826198",
   "metadata": {},
   "outputs": [
    {
     "name": "stdin",
     "output_type": "stream",
     "text": [
      "Please input a number. Type stop to exit the programm 234\n"
     ]
    },
    {
     "name": "stdout",
     "output_type": "stream",
     "text": [
      "2340\n"
     ]
    },
    {
     "name": "stdin",
     "output_type": "stream",
     "text": [
      "Please input a number. Type stop to exit the programm stop\n"
     ]
    },
    {
     "name": "stdout",
     "output_type": "stream",
     "text": [
      "Number Input Stops Now!\n"
     ]
    }
   ],
   "source": [
    "number_input()"
   ]
  },
  {
   "cell_type": "markdown",
   "id": "9ee2f99f-a90d-428c-9383-713afd67aa20",
   "metadata": {
    "tags": []
   },
   "source": [
    "#### Exercise 8\n",
    "Install the package `Distributions` so that you are able to execute the following cell. What is the difference between `rand()` and `rand(Uniform(-1,1))`?\n",
    "#### Solution 8"
   ]
  },
  {
   "cell_type": "code",
   "execution_count": 18,
   "id": "dadbcfee-0d20-4a9b-8dad-df9fe3d858c3",
   "metadata": {},
   "outputs": [
    {
     "name": "stderr",
     "output_type": "stream",
     "text": [
      "\u001b[32m\u001b[1m    Updating\u001b[22m\u001b[39m registry at `C:\\Users\\ank10ki\\.julia\\registries\\General.toml`\n",
      "\u001b[32m\u001b[1m   Resolving\u001b[22m\u001b[39m package versions...\n",
      "\u001b[32m\u001b[1m  No Changes\u001b[22m\u001b[39m to `C:\\Users\\ank10ki\\Dropbox\\phd\\Courses\\WS2022_Julia\\Project.toml`\n",
      "\u001b[32m\u001b[1m  No Changes\u001b[22m\u001b[39m to `C:\\Users\\ank10ki\\Dropbox\\phd\\Courses\\WS2022_Julia\\Manifest.toml`\n"
     ]
    }
   ],
   "source": [
    "using Pkg\n",
    "Pkg.add(\"Distributions\")\n"
   ]
  },
  {
   "cell_type": "code",
   "execution_count": 19,
   "id": "3f1a3263-0fc3-46b6-b6ec-4ddf1fc267e2",
   "metadata": {},
   "outputs": [],
   "source": [
    "using Distributions"
   ]
  },
  {
   "cell_type": "code",
   "execution_count": 20,
   "id": "3f6a8747-c3b0-4d9f-99ee-d1d61e62c17e",
   "metadata": {},
   "outputs": [
    {
     "data": {
      "text/plain": [
       "10-element Vector{Float64}:\n",
       " 0.3312216929871378\n",
       " 0.9819395875215967\n",
       " 0.4740862980301105\n",
       " 0.7087939445942885\n",
       " 0.8589145629920404\n",
       " 0.5143416824258369\n",
       " 0.3761584704451022\n",
       " 0.9906268765641554\n",
       " 0.6058941144211373\n",
       " 0.3256930172950582"
      ]
     },
     "execution_count": 20,
     "metadata": {},
     "output_type": "execute_result"
    }
   ],
   "source": [
    "rand(10)\n"
   ]
  },
  {
   "cell_type": "markdown",
   "id": "3b029412-c1e3-4e44-9d96-cf954a995938",
   "metadata": {},
   "source": [
    "Judging from the output above, the `rand()` function apparently samples positive `Float64` values smaller that 1. Let's take a look at the documentation of `rand()`:"
   ]
  },
  {
   "cell_type": "code",
   "execution_count": 21,
   "id": "c573b5cd-2d2b-4a0e-9a54-aa43f34e119a",
   "metadata": {},
   "outputs": [
    {
     "name": "stdout",
     "output_type": "stream",
     "text": [
      "search: \u001b[0m\u001b[1mr\u001b[22m\u001b[0m\u001b[1ma\u001b[22m\u001b[0m\u001b[1mn\u001b[22m\u001b[0m\u001b[1md\u001b[22m \u001b[0m\u001b[1mr\u001b[22m\u001b[0m\u001b[1ma\u001b[22m\u001b[0m\u001b[1mn\u001b[22m\u001b[0m\u001b[1md\u001b[22mn t\u001b[0m\u001b[1mr\u001b[22m\u001b[0m\u001b[1ma\u001b[22m\u001b[0m\u001b[1mn\u001b[22msco\u001b[0m\u001b[1md\u001b[22me Ze\u001b[0m\u001b[1mr\u001b[22moMe\u001b[0m\u001b[1ma\u001b[22m\u001b[0m\u001b[1mn\u001b[22m\u001b[0m\u001b[1mD\u001b[22miagNormal Ze\u001b[0m\u001b[1mr\u001b[22moMe\u001b[0m\u001b[1ma\u001b[22m\u001b[0m\u001b[1mn\u001b[22m\u001b[0m\u001b[1mD\u001b[22miagNormalCanon\n",
      "\n"
     ]
    },
    {
     "data": {
      "text/latex": [
       "\\begin{verbatim}\n",
       "rand([rng=GLOBAL_RNG], [S], [dims...])\n",
       "\\end{verbatim}\n",
       "Pick a random element or array of random elements from the set of values specified by \\texttt{S}; \\texttt{S} can be\n",
       "\n",
       "\\begin{itemize}\n",
       "\\item an indexable collection (for example \\texttt{1:9} or \\texttt{('x', \"y\", :z)}),\n",
       "\n",
       "\n",
       "\\item an \\texttt{AbstractDict} or \\texttt{AbstractSet} object,\n",
       "\n",
       "\n",
       "\\item a string (considered as a collection of characters), or\n",
       "\n",
       "\n",
       "\\item a type: the set of values to pick from is then equivalent to \\texttt{typemin(S):typemax(S)} for integers (this is not applicable to \\href{@ref}{\\texttt{BigInt}}), to $[0, 1)$ for floating point numbers and to $[0, 1)+i[0, 1)$ for complex floating point numbers;\n",
       "\n",
       "\\end{itemize}\n",
       "\\texttt{S} defaults to \\href{@ref}{\\texttt{Float64}}. When only one argument is passed besides the optional \\texttt{rng} and is a \\texttt{Tuple}, it is interpreted as a collection of values (\\texttt{S}) and not as \\texttt{dims}.\n",
       "\n",
       "\\begin{quote}\n",
       "\\textbf{compat}\n",
       "\n",
       "Julia 1.1\n",
       "\n",
       "Support for \\texttt{S} as a tuple requires at least Julia 1.1.\n",
       "\n",
       "\\end{quote}\n",
       "\\section{Examples}\n",
       "\\begin{verbatim}\n",
       "julia> rand(Int, 2)\n",
       "2-element Array{Int64,1}:\n",
       " 1339893410598768192\n",
       " 1575814717733606317\n",
       "\n",
       "julia> using Random\n",
       "\n",
       "julia> rand(MersenneTwister(0), Dict(1=>2, 3=>4))\n",
       "1=>2\n",
       "\n",
       "julia> rand((2, 3))\n",
       "3\n",
       "\n",
       "julia> rand(Float64, (2, 3))\n",
       "2×3 Array{Float64,2}:\n",
       " 0.999717  0.0143835  0.540787\n",
       " 0.696556  0.783855   0.938235\n",
       "\\end{verbatim}\n",
       "\\begin{quote}\n",
       "\\textbf{note}\n",
       "\n",
       "Note\n",
       "\n",
       "The complexity of \\texttt{rand(rng, s::Union\\{AbstractDict,AbstractSet\\})} is linear in the length of \\texttt{s}, unless an optimized method with constant complexity is available, which is the case for \\texttt{Dict}, \\texttt{Set} and dense \\texttt{BitSet}s. For more than a few calls, use \\texttt{rand(rng, collect(s))} instead, or either \\texttt{rand(rng, Dict(s))} or \\texttt{rand(rng, Set(s))} as appropriate.\n",
       "\n",
       "\\end{quote}\n",
       "\\rule{\\textwidth}{1pt}\n",
       "\\begin{verbatim}\n",
       "rand([rng::AbstractRNG,] s::Sampleable)\n",
       "\\end{verbatim}\n",
       "Generate one sample for \\texttt{s}.\n",
       "\n",
       "\\begin{verbatim}\n",
       "rand([rng::AbstractRNG,] s::Sampleable, n::Int)\n",
       "\\end{verbatim}\n",
       "Generate \\texttt{n} samples from \\texttt{s}. The form of the returned object depends on the variate form of \\texttt{s}:\n",
       "\n",
       "\\begin{itemize}\n",
       "\\item When \\texttt{s} is univariate, it returns a vector of length \\texttt{n}.\n",
       "\n",
       "\n",
       "\\item When \\texttt{s} is multivariate, it returns a matrix with \\texttt{n} columns.\n",
       "\n",
       "\n",
       "\\item When \\texttt{s} is matrix-variate, it returns an array, where each element is a sample matrix.\n",
       "\n",
       "rand([rng::AbstractRNG,] s::Sampleable, dim1::Int, dim2::Int...)   rand([rng::AbstractRNG,] s::Sampleable, dims::Dims)\n",
       "\n",
       "\\end{itemize}\n",
       "Generate an array of samples from \\texttt{s} whose shape is determined by the given dimensions.\n",
       "\n",
       "\\rule{\\textwidth}{1pt}\n",
       "\\begin{verbatim}\n",
       "rand(rng::AbstractRNG, d::UnivariateDistribution)\n",
       "\\end{verbatim}\n",
       "Generate a scalar sample from \\texttt{d}. The general fallback is \\texttt{quantile(d, rand())}.\n",
       "\n",
       "\\rule{\\textwidth}{1pt}\n",
       "\\begin{verbatim}\n",
       "rand(::AbstractRNG, ::Distributions.AbstractMvNormal)\n",
       "\\end{verbatim}\n",
       "Sample a random vector from the provided multi-variate normal distribution.\n",
       "\n",
       "\\rule{\\textwidth}{1pt}\n",
       "\\begin{verbatim}\n",
       "rand(::AbstractRNG, ::Sampleable)\n",
       "\\end{verbatim}\n",
       "Samples from the sampler and returns the result.\n",
       "\n",
       "\\rule{\\textwidth}{1pt}\n",
       "\\begin{verbatim}\n",
       "rand(d::Union{UnivariateMixture, MultivariateMixture})\n",
       "\\end{verbatim}\n",
       "Draw a sample from the mixture model \\texttt{d}.\n",
       "\n",
       "\\begin{verbatim}\n",
       "rand(d::Union{UnivariateMixture, MultivariateMixture}, n)\n",
       "\\end{verbatim}\n",
       "Draw \\texttt{n} samples from \\texttt{d}.\n",
       "\n"
      ],
      "text/markdown": [
       "```\n",
       "rand([rng=GLOBAL_RNG], [S], [dims...])\n",
       "```\n",
       "\n",
       "Pick a random element or array of random elements from the set of values specified by `S`; `S` can be\n",
       "\n",
       "  * an indexable collection (for example `1:9` or `('x', \"y\", :z)`),\n",
       "  * an `AbstractDict` or `AbstractSet` object,\n",
       "  * a string (considered as a collection of characters), or\n",
       "  * a type: the set of values to pick from is then equivalent to `typemin(S):typemax(S)` for integers (this is not applicable to [`BigInt`](@ref)), to $[0, 1)$ for floating point numbers and to $[0, 1)+i[0, 1)$ for complex floating point numbers;\n",
       "\n",
       "`S` defaults to [`Float64`](@ref). When only one argument is passed besides the optional `rng` and is a `Tuple`, it is interpreted as a collection of values (`S`) and not as `dims`.\n",
       "\n",
       "!!! compat \"Julia 1.1\"\n",
       "    Support for `S` as a tuple requires at least Julia 1.1.\n",
       "\n",
       "\n",
       "# Examples\n",
       "\n",
       "```julia-repl\n",
       "julia> rand(Int, 2)\n",
       "2-element Array{Int64,1}:\n",
       " 1339893410598768192\n",
       " 1575814717733606317\n",
       "\n",
       "julia> using Random\n",
       "\n",
       "julia> rand(MersenneTwister(0), Dict(1=>2, 3=>4))\n",
       "1=>2\n",
       "\n",
       "julia> rand((2, 3))\n",
       "3\n",
       "\n",
       "julia> rand(Float64, (2, 3))\n",
       "2×3 Array{Float64,2}:\n",
       " 0.999717  0.0143835  0.540787\n",
       " 0.696556  0.783855   0.938235\n",
       "```\n",
       "\n",
       "!!! note\n",
       "    The complexity of `rand(rng, s::Union{AbstractDict,AbstractSet})` is linear in the length of `s`, unless an optimized method with constant complexity is available, which is the case for `Dict`, `Set` and dense `BitSet`s. For more than a few calls, use `rand(rng, collect(s))` instead, or either `rand(rng, Dict(s))` or `rand(rng, Set(s))` as appropriate.\n",
       "\n",
       "\n",
       "---\n",
       "\n",
       "```\n",
       "rand([rng::AbstractRNG,] s::Sampleable)\n",
       "```\n",
       "\n",
       "Generate one sample for `s`.\n",
       "\n",
       "```\n",
       "rand([rng::AbstractRNG,] s::Sampleable, n::Int)\n",
       "```\n",
       "\n",
       "Generate `n` samples from `s`. The form of the returned object depends on the variate form of `s`:\n",
       "\n",
       "  * When `s` is univariate, it returns a vector of length `n`.\n",
       "  * When `s` is multivariate, it returns a matrix with `n` columns.\n",
       "  * When `s` is matrix-variate, it returns an array, where each element is a sample matrix.\n",
       "\n",
       "    rand([rng::AbstractRNG,] s::Sampleable, dim1::Int, dim2::Int...)   rand([rng::AbstractRNG,] s::Sampleable, dims::Dims)\n",
       "\n",
       "Generate an array of samples from `s` whose shape is determined by the given dimensions.\n",
       "\n",
       "---\n",
       "\n",
       "```\n",
       "rand(rng::AbstractRNG, d::UnivariateDistribution)\n",
       "```\n",
       "\n",
       "Generate a scalar sample from `d`. The general fallback is `quantile(d, rand())`.\n",
       "\n",
       "---\n",
       "\n",
       "```\n",
       "rand(::AbstractRNG, ::Distributions.AbstractMvNormal)\n",
       "```\n",
       "\n",
       "Sample a random vector from the provided multi-variate normal distribution.\n",
       "\n",
       "---\n",
       "\n",
       "```\n",
       "rand(::AbstractRNG, ::Sampleable)\n",
       "```\n",
       "\n",
       "Samples from the sampler and returns the result.\n",
       "\n",
       "---\n",
       "\n",
       "```\n",
       "rand(d::Union{UnivariateMixture, MultivariateMixture})\n",
       "```\n",
       "\n",
       "Draw a sample from the mixture model `d`.\n",
       "\n",
       "```\n",
       "rand(d::Union{UnivariateMixture, MultivariateMixture}, n)\n",
       "```\n",
       "\n",
       "Draw `n` samples from `d`.\n"
      ],
      "text/plain": [
       "\u001b[36m  rand([rng=GLOBAL_RNG], [S], [dims...])\u001b[39m\n",
       "\n",
       "  Pick a random element or array of random elements from the set of values\n",
       "  specified by \u001b[36mS\u001b[39m; \u001b[36mS\u001b[39m can be\n",
       "\n",
       "    •  an indexable collection (for example \u001b[36m1:9\u001b[39m or \u001b[36m('x', \"y\", :z)\u001b[39m),\n",
       "\n",
       "    •  an \u001b[36mAbstractDict\u001b[39m or \u001b[36mAbstractSet\u001b[39m object,\n",
       "\n",
       "    •  a string (considered as a collection of characters), or\n",
       "\n",
       "    •  a type: the set of values to pick from is then equivalent to\n",
       "       \u001b[36mtypemin(S):typemax(S)\u001b[39m for integers (this is not applicable to\n",
       "       \u001b[36mBigInt\u001b[39m), to \u001b[35m[0, 1)\u001b[39m for floating point numbers and to \u001b[35m[0, 1)+i[0,\n",
       "       1)\u001b[39m for complex floating point numbers;\n",
       "\n",
       "  \u001b[36mS\u001b[39m defaults to \u001b[36mFloat64\u001b[39m. When only one argument is passed besides the optional\n",
       "  \u001b[36mrng\u001b[39m and is a \u001b[36mTuple\u001b[39m, it is interpreted as a collection of values (\u001b[36mS\u001b[39m) and not\n",
       "  as \u001b[36mdims\u001b[39m.\n",
       "\n",
       "\u001b[39m\u001b[1m  │ \u001b[22m\u001b[39m\u001b[1mJulia 1.1\u001b[22m\n",
       "\u001b[39m\u001b[1m  │\u001b[22m\n",
       "\u001b[39m\u001b[1m  │\u001b[22m  Support for \u001b[36mS\u001b[39m as a tuple requires at least Julia 1.1.\n",
       "\n",
       "\u001b[1m  Examples\u001b[22m\n",
       "\u001b[1m  ≡≡≡≡≡≡≡≡≡≡\u001b[22m\n",
       "\n",
       "\u001b[36m  julia> rand(Int, 2)\u001b[39m\n",
       "\u001b[36m  2-element Array{Int64,1}:\u001b[39m\n",
       "\u001b[36m   1339893410598768192\u001b[39m\n",
       "\u001b[36m   1575814717733606317\u001b[39m\n",
       "\u001b[36m  \u001b[39m\n",
       "\u001b[36m  julia> using Random\u001b[39m\n",
       "\u001b[36m  \u001b[39m\n",
       "\u001b[36m  julia> rand(MersenneTwister(0), Dict(1=>2, 3=>4))\u001b[39m\n",
       "\u001b[36m  1=>2\u001b[39m\n",
       "\u001b[36m  \u001b[39m\n",
       "\u001b[36m  julia> rand((2, 3))\u001b[39m\n",
       "\u001b[36m  3\u001b[39m\n",
       "\u001b[36m  \u001b[39m\n",
       "\u001b[36m  julia> rand(Float64, (2, 3))\u001b[39m\n",
       "\u001b[36m  2×3 Array{Float64,2}:\u001b[39m\n",
       "\u001b[36m   0.999717  0.0143835  0.540787\u001b[39m\n",
       "\u001b[36m   0.696556  0.783855   0.938235\u001b[39m\n",
       "\n",
       "\u001b[36m\u001b[1m  │ \u001b[22m\u001b[39m\u001b[36m\u001b[1mNote\u001b[22m\u001b[39m\n",
       "\u001b[36m\u001b[1m  │\u001b[22m\u001b[39m\n",
       "\u001b[36m\u001b[1m  │\u001b[22m\u001b[39m  The complexity of \u001b[36mrand(rng, s::Union{AbstractDict,AbstractSet})\u001b[39m is\n",
       "\u001b[36m\u001b[1m  │\u001b[22m\u001b[39m  linear in the length of \u001b[36ms\u001b[39m, unless an optimized method with\n",
       "\u001b[36m\u001b[1m  │\u001b[22m\u001b[39m  constant complexity is available, which is the case for \u001b[36mDict\u001b[39m, \u001b[36mSet\u001b[39m\n",
       "\u001b[36m\u001b[1m  │\u001b[22m\u001b[39m  and dense \u001b[36mBitSet\u001b[39ms. For more than a few calls, use \u001b[36mrand(rng,\n",
       "\u001b[36m\u001b[1m  │\u001b[22m\u001b[39m  collect(s))\u001b[39m instead, or either \u001b[36mrand(rng, Dict(s))\u001b[39m or \u001b[36mrand(rng,\n",
       "\u001b[36m\u001b[1m  │\u001b[22m\u001b[39m  Set(s))\u001b[39m as appropriate.\n",
       "\n",
       "  ────────────────────────────────────────────────────────────────────────────\n",
       "\n",
       "\u001b[36m  rand([rng::AbstractRNG,] s::Sampleable)\u001b[39m\n",
       "\n",
       "  Generate one sample for \u001b[36ms\u001b[39m.\n",
       "\n",
       "\u001b[36m  rand([rng::AbstractRNG,] s::Sampleable, n::Int)\u001b[39m\n",
       "\n",
       "  Generate \u001b[36mn\u001b[39m samples from \u001b[36ms\u001b[39m. The form of the returned object depends on the\n",
       "  variate form of \u001b[36ms\u001b[39m:\n",
       "\n",
       "    •  When \u001b[36ms\u001b[39m is univariate, it returns a vector of length \u001b[36mn\u001b[39m.\n",
       "\n",
       "    •  When \u001b[36ms\u001b[39m is multivariate, it returns a matrix with \u001b[36mn\u001b[39m columns.\n",
       "\n",
       "    •  When \u001b[36ms\u001b[39m is matrix-variate, it returns an array, where each element\n",
       "       is a sample matrix.\n",
       "       rand([rng::AbstractRNG,] s::Sampleable, dim1::Int, dim2::Int...)\n",
       "       rand([rng::AbstractRNG,] s::Sampleable, dims::Dims)\n",
       "\n",
       "  Generate an array of samples from \u001b[36ms\u001b[39m whose shape is determined by the given\n",
       "  dimensions.\n",
       "\n",
       "  ────────────────────────────────────────────────────────────────────────────\n",
       "\n",
       "\u001b[36m  rand(rng::AbstractRNG, d::UnivariateDistribution)\u001b[39m\n",
       "\n",
       "  Generate a scalar sample from \u001b[36md\u001b[39m. The general fallback is \u001b[36mquantile(d,\n",
       "  rand())\u001b[39m.\n",
       "\n",
       "  ────────────────────────────────────────────────────────────────────────────\n",
       "\n",
       "\u001b[36m  rand(::AbstractRNG, ::Distributions.AbstractMvNormal)\u001b[39m\n",
       "\n",
       "  Sample a random vector from the provided multi-variate normal distribution.\n",
       "\n",
       "  ────────────────────────────────────────────────────────────────────────────\n",
       "\n",
       "\u001b[36m  rand(::AbstractRNG, ::Sampleable)\u001b[39m\n",
       "\n",
       "  Samples from the sampler and returns the result.\n",
       "\n",
       "  ────────────────────────────────────────────────────────────────────────────\n",
       "\n",
       "\u001b[36m  rand(d::Union{UnivariateMixture, MultivariateMixture})\u001b[39m\n",
       "\n",
       "  Draw a sample from the mixture model \u001b[36md\u001b[39m.\n",
       "\n",
       "\u001b[36m  rand(d::Union{UnivariateMixture, MultivariateMixture}, n)\u001b[39m\n",
       "\n",
       "  Draw \u001b[36mn\u001b[39m samples from \u001b[36md\u001b[39m."
      ]
     },
     "execution_count": 21,
     "metadata": {},
     "output_type": "execute_result"
    }
   ],
   "source": [
    "?rand"
   ]
  },
  {
   "cell_type": "markdown",
   "id": "2a6700ca-e55b-4995-8c49-4c6c7882e16e",
   "metadata": {},
   "source": [
    "##### Even though it is a bit hidden in the documentation, the`rand()` samples Float64 values between 0 and 1 if it does not get a specific type or collection: \n",
    "\n",
    "- `S defaults to Float64`\n",
    "- `for floating point numbers and to $[0, 1)`\n",
    "\n",
    "Let's see what rand(Uniform(-1,1),10) does. "
   ]
  },
  {
   "cell_type": "code",
   "execution_count": 22,
   "id": "62cc2304-26fa-48f6-aed7-7ae1a43bc135",
   "metadata": {},
   "outputs": [
    {
     "data": {
      "text/plain": [
       "10-element Vector{Float64}:\n",
       " -0.6770194252653687\n",
       " -0.05225627937311317\n",
       " -0.7695015650369457\n",
       "  0.7982917039727306\n",
       "  0.666794193062668\n",
       "  0.3443911698179065\n",
       " -0.05059755880455885\n",
       " -0.3558957017409974\n",
       " -0.7613390611166952\n",
       " -0.8038713655165428"
      ]
     },
     "execution_count": 22,
     "metadata": {},
     "output_type": "execute_result"
    }
   ],
   "source": [
    "rand(Uniform(-1,1),10)"
   ]
  },
  {
   "cell_type": "markdown",
   "id": "5cc6377a-cf0e-4793-85e8-b0458b187be4",
   "metadata": {},
   "source": [
    "Judging from the output above, the `rand(Uniform(-1,1)` function apparently samples `Float64` values between -1 and 1. Let's take a look at the documentation of `Uniform`:"
   ]
  },
  {
   "cell_type": "code",
   "execution_count": 23,
   "id": "f0803351-b2b7-4e14-b97c-ce2303fdb8ff",
   "metadata": {},
   "outputs": [
    {
     "name": "stdout",
     "output_type": "stream",
     "text": [
      "search: \u001b[0m\u001b[1mU\u001b[22m\u001b[0m\u001b[1mn\u001b[22m\u001b[0m\u001b[1mi\u001b[22m\u001b[0m\u001b[1mf\u001b[22m\u001b[0m\u001b[1mo\u001b[22m\u001b[0m\u001b[1mr\u001b[22m\u001b[0m\u001b[1mm\u001b[22m Log\u001b[0m\u001b[1mU\u001b[22m\u001b[0m\u001b[1mn\u001b[22m\u001b[0m\u001b[1mi\u001b[22m\u001b[0m\u001b[1mf\u001b[22m\u001b[0m\u001b[1mo\u001b[22m\u001b[0m\u001b[1mr\u001b[22m\u001b[0m\u001b[1mm\u001b[22m Discrete\u001b[0m\u001b[1mU\u001b[22m\u001b[0m\u001b[1mn\u001b[22m\u001b[0m\u001b[1mi\u001b[22m\u001b[0m\u001b[1mf\u001b[22m\u001b[0m\u001b[1mo\u001b[22m\u001b[0m\u001b[1mr\u001b[22m\u001b[0m\u001b[1mm\u001b[22m\n",
      "\n"
     ]
    },
    {
     "data": {
      "text/latex": [
       "\\begin{verbatim}\n",
       "Uniform(a,b)\n",
       "\\end{verbatim}\n",
       "The \\emph{continuous uniform distribution} over an interval $[a, b]$ has probability density function\n",
       "\n",
       "$$f(x; a, b) = \\frac{1}{b - a}, \\quad a \\le x \\le b$$\n",
       "\\begin{verbatim}\n",
       "Uniform()        # Uniform distribution over [0, 1]\n",
       "Uniform(a, b)    # Uniform distribution over [a, b]\n",
       "\n",
       "params(d)        # Get the parameters, i.e. (a, b)\n",
       "minimum(d)       # Get the lower bound, i.e. a\n",
       "maximum(d)       # Get the upper bound, i.e. b\n",
       "location(d)      # Get the location parameter, i.e. a\n",
       "scale(d)         # Get the scale parameter, i.e. b - a\n",
       "\\end{verbatim}\n",
       "External links\n",
       "\n",
       "\\begin{itemize}\n",
       "\\item \\href{http://en.wikipedia.org/wiki/Uniform_distribution_(continuous)}{Uniform distribution (continuous) on Wikipedia}\n",
       "\n",
       "\\end{itemize}\n"
      ],
      "text/markdown": [
       "```\n",
       "Uniform(a,b)\n",
       "```\n",
       "\n",
       "The *continuous uniform distribution* over an interval $[a, b]$ has probability density function\n",
       "\n",
       "$$\n",
       "f(x; a, b) = \\frac{1}{b - a}, \\quad a \\le x \\le b\n",
       "$$\n",
       "\n",
       "```julia\n",
       "Uniform()        # Uniform distribution over [0, 1]\n",
       "Uniform(a, b)    # Uniform distribution over [a, b]\n",
       "\n",
       "params(d)        # Get the parameters, i.e. (a, b)\n",
       "minimum(d)       # Get the lower bound, i.e. a\n",
       "maximum(d)       # Get the upper bound, i.e. b\n",
       "location(d)      # Get the location parameter, i.e. a\n",
       "scale(d)         # Get the scale parameter, i.e. b - a\n",
       "```\n",
       "\n",
       "External links\n",
       "\n",
       "  * [Uniform distribution (continuous) on Wikipedia](http://en.wikipedia.org/wiki/Uniform_distribution_(continuous))\n"
      ],
      "text/plain": [
       "\u001b[36m  Uniform(a,b)\u001b[39m\n",
       "\n",
       "  The \u001b[4mcontinuous uniform distribution\u001b[24m over an interval \u001b[35m[a, b]\u001b[39m has probability\n",
       "  density function\n",
       "\n",
       "\u001b[35m  f(x; a, b) = \\frac{1}{b - a}, \\quad a \\le x \\le b\u001b[39m\n",
       "\n",
       "\u001b[36m  Uniform()        # Uniform distribution over [0, 1]\u001b[39m\n",
       "\u001b[36m  Uniform(a, b)    # Uniform distribution over [a, b]\u001b[39m\n",
       "\u001b[36m  \u001b[39m\n",
       "\u001b[36m  params(d)        # Get the parameters, i.e. (a, b)\u001b[39m\n",
       "\u001b[36m  minimum(d)       # Get the lower bound, i.e. a\u001b[39m\n",
       "\u001b[36m  maximum(d)       # Get the upper bound, i.e. b\u001b[39m\n",
       "\u001b[36m  location(d)      # Get the location parameter, i.e. a\u001b[39m\n",
       "\u001b[36m  scale(d)         # Get the scale parameter, i.e. b - a\u001b[39m\n",
       "\n",
       "  External links\n",
       "\n",
       "    •  Uniform distribution (continuous) on Wikipedia\n",
       "       (http://en.wikipedia.org/wiki/Uniform_distribution_(continuous))"
      ]
     },
     "execution_count": 23,
     "metadata": {},
     "output_type": "execute_result"
    }
   ],
   "source": [
    "?Uniform"
   ]
  },
  {
   "cell_type": "markdown",
   "id": "195d2c68-e8a4-4c2d-ace0-3f7fb63b52d8",
   "metadata": {},
   "source": [
    "And the judging was right as:\n",
    "```julia\n",
    "...\n",
    "Uniform(a, b)    # Uniform distribution over [a, b]\n",
    "...\n",
    "```"
   ]
  },
  {
   "cell_type": "markdown",
   "id": "56b31b87-195b-451a-ab32-125610baa58d",
   "metadata": {},
   "source": [
    "#### Exercise 9\n",
    "Use the `scatter(x,y)` function from the `CairoMakie` ploting package and make a scatter plot with the created values for x and y below. \n",
    "#### Solution 9"
   ]
  },
  {
   "cell_type": "code",
   "execution_count": 27,
   "id": "a06efc1a-2334-4288-8781-804f2a4ea1fe",
   "metadata": {},
   "outputs": [],
   "source": [
    "x = collect(1:100)\n",
    "y = [ (x^1.2+x*0.5rand(Uniform(-1,1))+rand(Uniform(-1,1)*5)) for x in 1:100];"
   ]
  },
  {
   "cell_type": "code",
   "execution_count": 28,
   "id": "dea4797d-92d7-4bbc-86fe-99a6eae5182b",
   "metadata": {},
   "outputs": [],
   "source": [
    "using CairoMakie"
   ]
  },
  {
   "cell_type": "code",
   "execution_count": 29,
   "id": "5ad3b3b4-f095-4062-a765-01de1198c5b8",
   "metadata": {},
   "outputs": [
    {
     "data": {
      "image/png": "[encoded data removed]"
     },
     "execution_count": 29,
     "metadata": {},
     "output_type": "execute_result"
    }
   ],
   "source": [
    "first_fig = scatter(x,y)"
   ]
  },
  {
   "cell_type": "markdown",
   "id": "551c58f3-5f64-49d9-9b83-14eed35ed4a5",
   "metadata": {},
   "source": [
    "#### Exercise 10\n",
    "Add a line plot to your scatter plot with the `lines!` function that plots x against y_truth.\n",
    "\n",
    "Hint: The `lines!()` function adds a line to the last used plot, but does not give an output. If you want an output you should give your scatter plot (created by `scatter()`) a name and call it after it was modified\n",
    "#### Solution 10"
   ]
  },
  {
   "cell_type": "code",
   "execution_count": 15,
   "id": "a887e63d-9351-4a90-9e94-c8f7566639e3",
   "metadata": {},
   "outputs": [],
   "source": [
    "y_truth = [ x^1.2 for x in 1:100];"
   ]
  },
  {
   "cell_type": "code",
   "execution_count": 19,
   "id": "db439b4e-2090-4a73-b3fd-53517965abb6",
   "metadata": {},
   "outputs": [
    {
     "data": {
      "image/png": "[encoded data removed]"
     },
     "execution_count": 19,
     "metadata": {},
     "output_type": "execute_result"
    }
   ],
   "source": [
    "lines!(x, y_truth)\n",
    "first_fig"
   ]
  },
  {
   "cell_type": "markdown",
   "id": "3fc2902d-1bd9-4894-9e07-a77dd6e01414",
   "metadata": {},
   "source": [
    "### <p style='color: red'>hard</p>"
   ]
  },
  {
   "cell_type": "markdown",
   "id": "a0f6f643-c7b1-42a3-8f57-1a594b00a094",
   "metadata": {},
   "source": [
    "#### Exercise 11\n",
    " Now you have a plot containing the measured data and the ground truth but not an error.  Take a look at the documentation of [Makies errorbar](https://makie.juliaplots.org/stable/examples/plotting_functions/errorbars/) and add errorbars to every plotted point of the measured data with the mutating `errorbar!()` function. \n",
    "\n",
    "#### Solution 11"
   ]
  },
  {
   "cell_type": "code",
   "execution_count": 30,
   "id": "d055d7a8-759d-4c36-9da0-832f7b82c2cf",
   "metadata": {},
   "outputs": [],
   "source": [
    "y_error = [0.5*x+5 for x in 1:100];"
   ]
  },
  {
   "cell_type": "code",
   "execution_count": 31,
   "id": "76b33b58-9329-4c70-9edd-0e5ecc1af9dd",
   "metadata": {},
   "outputs": [
    {
     "data": {
      "image/png": "[encoded data removed]"
     },
     "execution_count": 31,
     "metadata": {},
     "output_type": "execute_result"
    }
   ],
   "source": [
    "errorbars!(x,y,y_error)\n",
    "first_fig"
   ]
  },
  {
   "cell_type": "markdown",
   "id": "1a51337b-f0ac-4ce0-beec-69004bb71353",
   "metadata": {},
   "source": [
    "#### Exercise 12\n",
    "Read the section of the Julia documentation regarding `Varargs Functions` (https://docs.julialang.org/en/v1/manual/functions/#Varargs-Functions). Write your own function with variable arguments. The function should perform various calculations:\n",
    "- It should take two numbers and any count of additional numbers\n",
    "- It should sum up all arguments\n",
    "- A switch should allow to instead multiply all arguments.\n",
    "- If less then 2 numbers are provided an error message should be provided\n",
    "#### Solution 12"
   ]
  },
  {
   "cell_type": "code",
   "execution_count": 32,
   "id": "6792c105-03d7-4732-a721-fd806c6fab54",
   "metadata": {},
   "outputs": [
    {
     "data": {
      "text/plain": [
       "my_nice_function (generic function with 1 method)"
      ]
     },
     "execution_count": 32,
     "metadata": {},
     "output_type": "execute_result"
    }
   ],
   "source": [
    "function my_nice_function(x... ; operation = \"plus\")\n",
    "    if length(x) < 2\n",
    "        return(\"ERROR ERROR ERROR!!! Needs at least two numbers as arguments!\")\n",
    "    else \n",
    "        if operation == \"plus\"\n",
    "            return sum(x)\n",
    "        elseif operation == \"prod\"\n",
    "            return prod(x)\n",
    "        else \n",
    "            println(\"ERROR ERROR ERROR!!! Invalid operation\")\n",
    "        end\n",
    "    end\n",
    "end\n",
    "    "
   ]
  },
  {
   "cell_type": "code",
   "execution_count": 11,
   "id": "39671a2e-b7ed-4456-80dc-9043f2644899",
   "metadata": {},
   "outputs": [
    {
     "data": {
      "text/plain": [
       "3"
      ]
     },
     "execution_count": 11,
     "metadata": {},
     "output_type": "execute_result"
    }
   ],
   "source": [
    "my_nice_function(2,1)"
   ]
  },
  {
   "cell_type": "code",
   "execution_count": 12,
   "id": "7b424268-80ce-4d8a-81d8-0733ea462ae0",
   "metadata": {},
   "outputs": [
    {
     "data": {
      "text/plain": [
       "2"
      ]
     },
     "execution_count": 12,
     "metadata": {},
     "output_type": "execute_result"
    }
   ],
   "source": [
    "my_nice_function(2,1; operation = \"prod\")"
   ]
  },
  {
   "cell_type": "code",
   "execution_count": 18,
   "id": "422dce77-77ff-4e47-94fa-9920a0a2dfb8",
   "metadata": {},
   "outputs": [
    {
     "data": {
      "text/plain": [
       "9600"
      ]
     },
     "execution_count": 18,
     "metadata": {},
     "output_type": "execute_result"
    }
   ],
   "source": [
    "my_nice_function(2,2,10,24,10;operation = \"prod\")"
   ]
  },
  {
   "cell_type": "code",
   "execution_count": 20,
   "id": "cbcd8d1f-d347-40a1-bd88-e4b687e4ac9f",
   "metadata": {},
   "outputs": [
    {
     "data": {
      "text/plain": [
       "1044"
      ]
     },
     "execution_count": 20,
     "metadata": {},
     "output_type": "execute_result"
    }
   ],
   "source": [
    "my_nice_function(12,21,12,123,123,676,34,43)"
   ]
  },
  {
   "cell_type": "markdown",
   "id": "7ded31ca-7006-48fb-9d34-af0f957a6d23",
   "metadata": {
    "tags": []
   },
   "source": [
    "#### Exercise 13\n",
    "Write & execute a function, that processes an array. The function should test if the array is filled with numbers or strings:\n",
    "- If the array contains either only numbers or strings. Two different things should be calculated and printed: \n",
    "    - If it is a array of numbers, the minimum and maximum\n",
    "    - If it is a array of strings, sort it by length.\n",
    "- If the array contains both numbers and strings (or anythingelse) an error message should be displayed.\n",
    "#### Solution 13\n",
    "\n",
    "Warning: \n",
    "This sample solution is written in a very compact manner. It is possible to solve this exercise with loops in a longer but less elegant way. But, when you advance in programming, you will encounter compact code like this. Therefore, it is a good exercise to understand how it works. If you have troubles, advance step by step: \n",
    "\n",
    "Copy and past single operations like `(Float64 .== typeof.(array))` into a separate cell, execute it and inspect its return value to understand its inner workings.  "
   ]
  },
  {
   "cell_type": "code",
   "execution_count": 46,
   "id": "391c87fa-b3a8-432d-9916-4e7ec747bc5d",
   "metadata": {},
   "outputs": [
    {
     "data": {
      "text/plain": [
       "test_array (generic function with 1 method)"
      ]
     },
     "execution_count": 46,
     "metadata": {},
     "output_type": "execute_result"
    }
   ],
   "source": [
    "# This solution is written on purpose in a very compact manner. This  If you are confused \n",
    "# about the complex if and elseif conditions  \n",
    "\n",
    "function test_array(array)\n",
    "    if sum(String .== typeof.(array)) == length(array)\n",
    "        println(sort(array, by= x->length(x)))\n",
    "    elseif sum((Float64 .== typeof.(array)).+(Int64 .== typeof.(array))) == length(array)\n",
    "        println(\"The minimum is $(minimum(array)) and the maximum is $(maximum(array)).\")\n",
    "    else\n",
    "        println(\"ERROR ERROR ERROR!!! The array contains datatypes where no behaviour is defined\")\n",
    "    end\n",
    "end"
   ]
  },
  {
   "cell_type": "code",
   "execution_count": 47,
   "id": "52f7fbfb-ddbc-4eb4-b03a-60c12eca6102",
   "metadata": {},
   "outputs": [
    {
     "name": "stdout",
     "output_type": "stream",
     "text": [
      "The minimum is 1.0 and the maximum is 5.0.\n"
     ]
    }
   ],
   "source": [
    "test_array([1,3,3.0,5.0])"
   ]
  },
  {
   "cell_type": "code",
   "execution_count": 48,
   "id": "a633ba32-3704-4f05-8872-9eb29436a9c3",
   "metadata": {},
   "outputs": [
    {
     "name": "stdout",
     "output_type": "stream",
     "text": [
      "[\"d\", \"zz\", \"jens\", \"apple\", \"hans-peter\"]\n"
     ]
    }
   ],
   "source": [
    "test_array([\"d\", \"jens\", \"apple\",\"hans-peter\",\"zz\"])"
   ]
  },
  {
   "cell_type": "code",
   "execution_count": 49,
   "id": "763a6da5-d799-4c5f-9e05-a6860c350801",
   "metadata": {},
   "outputs": [
    {
     "name": "stdout",
     "output_type": "stream",
     "text": [
      "ERROR ERROR ERROR!!! The array contains datatypes where no behaviour is defined\n"
     ]
    }
   ],
   "source": [
    "test_array([\"hans\",1])"
   ]
  },
  {
   "cell_type": "code",
   "execution_count": 50,
   "id": "d045b95a-481d-42b0-a01a-99af682cd84a",
   "metadata": {},
   "outputs": [
    {
     "name": "stdout",
     "output_type": "stream",
     "text": [
      "ERROR ERROR ERROR!!! The array contains datatypes where no behaviour is defined\n"
     ]
    }
   ],
   "source": [
    "test_array([2,2,[21,12.1]])"
   ]
  }
 ],
 "metadata": {
  "kernelspec": {
   "display_name": "Julia 1.8.5",
   "language": "julia",
   "name": "julia-1.8"
  },
  "language_info": {
   "file_extension": ".jl",
   "mimetype": "application/julia",
   "name": "julia",
   "version": "1.8.5"
  }
 },
 "nbformat": 4,
 "nbformat_minor": 5
}
