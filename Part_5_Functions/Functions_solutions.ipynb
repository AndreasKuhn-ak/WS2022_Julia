{
 "cells": [
  {
   "cell_type": "markdown",
   "id": "88ad6355-a8be-4f0c-8fb1-089ddc05f836",
   "metadata": {},
   "source": [
    "## 5. Functions\n",
    "\n",
    "###  Sample Solutions "
   ]
  },
  {
   "cell_type": "markdown",
   "id": "84a7a724-fd29-4157-af5b-eedd40c9a55b",
   "metadata": {},
   "source": [
    "Execute the following cell, to create the variables `a_1` - `a_4. `"
   ]
  },
  {
   "cell_type": "code",
   "execution_count": null,
   "id": "d13afe08-b60c-4d14-8e83-e9977b4352a5",
   "metadata": {},
   "outputs": [],
   "source": [
    "a_1=[10, 39, 34, 35, 20, 32,  3,  9, 29, 35,  0, 27, 36, 40, 33,  5, 12, 24, 11, 50,  1,  7, 14, 22,  9]\n",
    "a_2=[15,  2, 11, 16, 14,  1, 12, 14,  3,  7,  0,  4,  6, 13, 18, 19,  3,  9, 15, 16,  0, 19, 12, 13, 13]\n",
    "a_3=[4, 5, 1, 6, 3, -3, -6, -1, -5, -4]\n",
    "a_4=[\"lizard\",\"cat\",\"mouse\",\"bird\",\"butterfly\"];"
   ]
  },
  {
   "cell_type": "markdown",
   "id": "031a9b93-e51c-4aa1-8296-d65918ec0425",
   "metadata": {},
   "source": [
    "### <p style='color: green'>easy</p>"
   ]
  },
  {
   "cell_type": "markdown",
   "id": "3d50ecea-eafb-4c67-853d-3ec286e767bb",
   "metadata": {},
   "source": [
    "#### Exercise 1 \n",
    "Check all arrays for their length, print it and save the length of `a_1` in a variable.\n",
    "#### Solution 1 "
   ]
  },
  {
   "cell_type": "code",
   "execution_count": null,
   "id": "7968519b-af75-4336-b46a-45e210ec5b52",
   "metadata": {},
   "outputs": [],
   "source": [
    "println(length(a_1))\n",
    "println(length(a_2))\n",
    "println(length(a_3))\n",
    "println(length(a_4))\n",
    "len_a_1 = length(a_1)"
   ]
  },
  {
   "cell_type": "markdown",
   "id": "6db6c781-2b3c-4c7d-80bc-3f1d942aaa25",
   "metadata": {},
   "source": [
    "#### Exercise 2\n",
    "Find the minimum and maximum of `a_1` and `a_3`, save them in variables.\n",
    "\n",
    "#### Solution 2 "
   ]
  },
  {
   "cell_type": "code",
   "execution_count": null,
   "id": "e9f1e730",
   "metadata": {},
   "outputs": [],
   "source": [
    "a_1_min = minimum(a_1)\n",
    "a_1_max = maximum(a_1)\n",
    "a_3_min = minimum(a_3)\n",
    "a_3_max = maximum(a_3)\n"
   ]
  },
  {
   "cell_type": "markdown",
   "id": "c9de4020-a9c1-483b-8d4b-233c94104c56",
   "metadata": {},
   "source": [
    "#### Exercise 3\n",
    "Print the sentence: `\"A_1 is x elements long. Its maximum is x and its minimum y.\"` In place of `x` and `y` add the actual values. Use your saved values.\n",
    "#### Solution 3 "
   ]
  },
  {
   "cell_type": "code",
   "execution_count": null,
   "id": "19e809ad-a161-4b81-bf56-09c68a8cdf46",
   "metadata": {},
   "outputs": [],
   "source": [
    "println(\"A_1 is $(len_a_1) elements long. Its maximum is $(a_1_max) and its minimum $(a_1_min)\")\n"
   ]
  },
  {
   "cell_type": "markdown",
   "id": "9af1ce48-b823-44ee-b3da-ee5f356de50e",
   "metadata": {},
   "source": [
    "#### Exercise 4\n",
    "Sort `a_1` and `a_4` in ascending order and `a_3` in descending order.\n",
    "#### Solution 4 "
   ]
  },
  {
   "cell_type": "code",
   "execution_count": null,
   "id": "61020e5f-d508-4cab-b8fe-21d1a85e3be0",
   "metadata": {},
   "outputs": [],
   "source": [
    "println(a_1)\n",
    "sort!(a_1)\n",
    "println(a_1)\n",
    "println(a_4)\n",
    "sort!(a_4)\n",
    "println(a_4)\n",
    "println(a_3)\n",
    "sort!(a_3,rev=true)\n",
    "println(a_3)\n"
   ]
  },
  {
   "cell_type": "markdown",
   "id": "b3fad8c4-40bd-49b8-86d7-0ffecf859378",
   "metadata": {},
   "source": [
    "### <p style='color: orange'>medium</p>"
   ]
  },
  {
   "cell_type": "markdown",
   "id": "11f7f019-c8eb-4c5e-97b2-0b88edcf0c13",
   "metadata": {},
   "source": [
    "#### Exercise 5\n",
    "You might have used `1:(length(array1))` in one of your loops, there is a better solution for this task. Search for the function `enumerate()`. Familiarize yourself with this function and use it to improve the following code:\n",
    "````Julia\n",
    "hansus = [1,5,8,2,7,8,3,2,8,2,9,7,4]\n",
    "for i in 1:(length(hansus))\n",
    "       println(\"The element with index $(i) is $(hansus[i])\")\n",
    "end\n",
    "````\n",
    "#### Solution 5"
   ]
  },
  {
   "cell_type": "markdown",
   "id": "918f2997-d562-4d9f-9030-00a8b061a7d8",
   "metadata": {},
   "source": [
    "Enumerate combines the two ways (by index `for i in 1:(length(array))` or by element `for i in array`) to iterate over an object into one more compact notation.   http://www.jlhub.com/julia/manual/en/function/enumerate"
   ]
  },
  {
   "cell_type": "code",
   "execution_count": null,
   "id": "14671a6a-f354-483c-b305-93a1e872dd5f",
   "metadata": {},
   "outputs": [],
   "source": [
    "hansus = [1,5,8,2,7,8,3,2,8,2,9,7,4]\n",
    "for (i,x) in enumerate(hansus)\n",
    "    println(\"The element with index $(i) is $(x)\")\n",
    "end"
   ]
  },
  {
   "cell_type": "markdown",
   "id": "ed0deea2-8d79-477f-96e6-4b15f1a17679",
   "metadata": {},
   "source": [
    "#### Exercise 6\n",
    " Write and execute a function that take a number as argument multiplies it by `10` and prints the result.   \n",
    "#### Solution 6"
   ]
  },
  {
   "cell_type": "code",
   "execution_count": null,
   "id": "bf53fb42-eda0-4236-8bc1-8ffff2f039e8",
   "metadata": {},
   "outputs": [],
   "source": [
    "function number_multiplier(number)\n",
    "    return number*10\n",
    "end"
   ]
  },
  {
   "cell_type": "code",
   "execution_count": null,
   "id": "b84db463-e3f8-4526-aefc-6cabe2e4baa9",
   "metadata": {},
   "outputs": [],
   "source": [
    "number_multiplier(5)"
   ]
  },
  {
   "cell_type": "markdown",
   "id": "a192fc3e-9d6e-4037-b9b3-f5dd720c36e9",
   "metadata": {},
   "source": [
    "#### Exercise 7\n",
    "Write and execute a function that asks to input a number, multiplies it by `10` and prints the result. The function should ask for more input till you type in: `stop`.\n",
    "\n",
    "Hint: If you are struggling with that problem, take a look at the number guesser in the first jupyter notebook called \"Julia_Notebooks\".  \n",
    "#### Solution 7"
   ]
  },
  {
   "cell_type": "code",
   "execution_count": null,
   "id": "f59b1282-1716-4822-926b-90f8788cf97a",
   "metadata": {},
   "outputs": [],
   "source": [
    "function number_input()\n",
    "    while true\n",
    "        input = IJulia.readprompt(\"Please input a number. Type stop to exit the programm\")\n",
    "        if input == \"stop\"\n",
    "            println(\"Number Input Stops Now!\")\n",
    "            break\n",
    "        end\n",
    "        println(parse(Int64,input)*10)\n",
    "    end\n",
    "end"
   ]
  },
  {
   "cell_type": "code",
   "execution_count": null,
   "id": "3f8e1138-7394-4339-beef-184206826198",
   "metadata": {},
   "outputs": [],
   "source": [
    "number_input()"
   ]
  },
  {
   "cell_type": "markdown",
   "id": "9ee2f99f-a90d-428c-9383-713afd67aa20",
   "metadata": {
    "tags": []
   },
   "source": [
    "#### Exercise 8\n",
    "Install the package `Distributions` so that you are able to execute the following cell. What is the difference between `rand()` and `rand(Uniform(-1,1))`?\n",
    "#### Solution 8"
   ]
  },
  {
   "cell_type": "code",
   "execution_count": null,
   "id": "dadbcfee-0d20-4a9b-8dad-df9fe3d858c3",
   "metadata": {},
   "outputs": [],
   "source": [
    "using Pkg\n",
    "Pkg.add(\"Distributions\")\n"
   ]
  },
  {
   "cell_type": "code",
   "execution_count": null,
   "id": "3f1a3263-0fc3-46b6-b6ec-4ddf1fc267e2",
   "metadata": {},
   "outputs": [],
   "source": [
    "using Distributions"
   ]
  },
  {
   "cell_type": "code",
   "execution_count": null,
   "id": "3f6a8747-c3b0-4d9f-99ee-d1d61e62c17e",
   "metadata": {},
   "outputs": [],
   "source": [
    "rand(10)\n"
   ]
  },
  {
   "cell_type": "markdown",
   "id": "3b029412-c1e3-4e44-9d96-cf954a995938",
   "metadata": {},
   "source": [
    "Judging from the output above, the `rand()` function apparently samples positive `Float64` values smaller that 1. Let's take a look at the documentation of `rand()`:"
   ]
  },
  {
   "cell_type": "code",
   "execution_count": null,
   "id": "c573b5cd-2d2b-4a0e-9a54-aa43f34e119a",
   "metadata": {},
   "outputs": [],
   "source": [
    "?rand"
   ]
  },
  {
   "cell_type": "markdown",
   "id": "2a6700ca-e55b-4995-8c49-4c6c7882e16e",
   "metadata": {},
   "source": [
    "##### Even though it is a bit hidden in the documentation, the`rand()` samples Float64 values between 0 and 1, including 0 and excluding 1, if it does not get a specific type or collection: \n",
    "\n",
    "- `S defaults to Float64`\n",
    "- `for floating point numbers and to $[0, 1)`\n",
    "\n",
    "Let's see what rand(Uniform(-1,1),10) does. "
   ]
  },
  {
   "cell_type": "code",
   "execution_count": null,
   "id": "62cc2304-26fa-48f6-aed7-7ae1a43bc135",
   "metadata": {},
   "outputs": [],
   "source": [
    "rand(Uniform(-1,1),10)"
   ]
  },
  {
   "cell_type": "markdown",
   "id": "5cc6377a-cf0e-4793-85e8-b0458b187be4",
   "metadata": {},
   "source": [
    "Judging from the output above, the `rand(Uniform(-1,1)` function apparently samples `Float64` values between -1 and 1. Let's take a look at the documentation of `Uniform`:"
   ]
  },
  {
   "cell_type": "code",
   "execution_count": null,
   "id": "f0803351-b2b7-4e14-b97c-ce2303fdb8ff",
   "metadata": {},
   "outputs": [],
   "source": [
    "?Uniform"
   ]
  },
  {
   "cell_type": "markdown",
   "id": "195d2c68-e8a4-4c2d-ace0-3f7fb63b52d8",
   "metadata": {},
   "source": [
    "And the judging was right as:\n",
    "```julia\n",
    "...\n",
    "Uniform(a, b)    # Uniform distribution over [a, b]\n",
    "...\n",
    "```"
   ]
  },
  {
   "cell_type": "markdown",
   "id": "6ac28787",
   "metadata": {},
   "source": [
    "In this case, a and b, hence -1 and 1 are both included."
   ]
  },
  {
   "cell_type": "markdown",
   "id": "56b31b87-195b-451a-ab32-125610baa58d",
   "metadata": {},
   "source": [
    "#### Exercise 9\n",
    "Use the `scatter(x,y)` function from the `CairoMakie` plotting package and make a scatter plot with the created values for `x` and `y` below. \n",
    "\n",
    "#### Solution 9"
   ]
  },
  {
   "cell_type": "code",
   "execution_count": null,
   "id": "a06efc1a-2334-4288-8781-804f2a4ea1fe",
   "metadata": {},
   "outputs": [],
   "source": [
    "x = collect(1:100)\n",
    "y = [ (x^1.2+x*0.5rand(Uniform(-1,1))+rand(Uniform(-1,1)*5)) for x in 1:100];"
   ]
  },
  {
   "cell_type": "code",
   "execution_count": null,
   "id": "dea4797d-92d7-4bbc-86fe-99a6eae5182b",
   "metadata": {},
   "outputs": [],
   "source": [
    "using CairoMakie"
   ]
  },
  {
   "cell_type": "code",
   "execution_count": null,
   "id": "5ad3b3b4-f095-4062-a765-01de1198c5b8",
   "metadata": {},
   "outputs": [],
   "source": [
    "first_fig = scatter(x,y)"
   ]
  },
  {
   "cell_type": "markdown",
   "id": "551c58f3-5f64-49d9-9b83-14eed35ed4a5",
   "metadata": {},
   "source": [
    "#### Exercise 10\n",
    "Add a line plot to your scatter plot with the `lines!` function that plots `x` against the ground truth `y_truth`.\n",
    "\n",
    "Hint: The `lines!()` function adds a line to the last used plot, but does not give an output. If you want an output, you should give your scatter plot (created by `scatter()`) a name and call it after it was modified.\n",
    "#### Solution 10"
   ]
  },
  {
   "cell_type": "code",
   "execution_count": null,
   "id": "a887e63d-9351-4a90-9e94-c8f7566639e3",
   "metadata": {},
   "outputs": [],
   "source": [
    "y_truth = [ x^1.2 for x in 1:100];"
   ]
  },
  {
   "cell_type": "code",
   "execution_count": null,
   "id": "db439b4e-2090-4a73-b3fd-53517965abb6",
   "metadata": {},
   "outputs": [],
   "source": [
    "lines!(x, y_truth)\n",
    "first_fig"
   ]
  },
  {
   "cell_type": "markdown",
   "id": "3fc2902d-1bd9-4894-9e07-a77dd6e01414",
   "metadata": {},
   "source": [
    "### <p style='color: red'>hard</p>"
   ]
  },
  {
   "cell_type": "markdown",
   "id": "a0f6f643-c7b1-42a3-8f57-1a594b00a094",
   "metadata": {},
   "source": [
    "#### Exercise 11\n",
    " Now you have a plot containing the measured data and the ground truth but not an error.  Take a look at the documentation of [Makies errorbar](https://makie.juliaplots.org/stable/examples/plotting_functions/errorbars/) and add errorbars to every plotted point of the measured data with the mutating `errorbar!()` function. \n",
    "\n",
    "#### Solution 11"
   ]
  },
  {
   "cell_type": "code",
   "execution_count": null,
   "id": "d055d7a8-759d-4c36-9da0-832f7b82c2cf",
   "metadata": {},
   "outputs": [],
   "source": [
    "y_error = [0.5*x+5 for x in 1:100];"
   ]
  },
  {
   "cell_type": "code",
   "execution_count": null,
   "id": "76b33b58-9329-4c70-9edd-0e5ecc1af9dd",
   "metadata": {},
   "outputs": [],
   "source": [
    "errorbars!(x,y,y_error)\n",
    "first_fig"
   ]
  },
  {
   "cell_type": "markdown",
   "id": "1a51337b-f0ac-4ce0-beec-69004bb71353",
   "metadata": {},
   "source": [
    "#### Exercise 12\n",
    "Read the section of the Julia documentation regarding `Varargs Functions` (https://docs.julialang.org/en/v1/manual/functions/#Varargs-Functions). Write your own function with variable arguments. The function should perform various calculations:\n",
    "- It should take two numbers and any count of additional numbers\n",
    "- It should sum up all arguments\n",
    "- A switch should allow to instead multiply all arguments.\n",
    "- If less then 2 numbers are provided an error message should be provided\n",
    "#### Solution 12"
   ]
  },
  {
   "cell_type": "code",
   "execution_count": null,
   "id": "6792c105-03d7-4732-a721-fd806c6fab54",
   "metadata": {},
   "outputs": [],
   "source": [
    "function my_nice_function(x... ; operation = \"plus\")\n",
    "    if length(x) < 2\n",
    "        return(\"ERROR ERROR ERROR!!! Needs at least two numbers as arguments!\")\n",
    "    else \n",
    "        if operation == \"plus\"\n",
    "            return sum(x)\n",
    "        elseif operation == \"prod\"\n",
    "            return prod(x)\n",
    "        else \n",
    "            println(\"ERROR ERROR ERROR!!! Invalid operation\")\n",
    "        end\n",
    "    end\n",
    "end\n",
    "    "
   ]
  },
  {
   "cell_type": "code",
   "execution_count": null,
   "id": "39671a2e-b7ed-4456-80dc-9043f2644899",
   "metadata": {},
   "outputs": [],
   "source": [
    "my_nice_function(2,1)"
   ]
  },
  {
   "cell_type": "code",
   "execution_count": null,
   "id": "7b424268-80ce-4d8a-81d8-0733ea462ae0",
   "metadata": {},
   "outputs": [],
   "source": [
    "my_nice_function(2,1; operation = \"prod\")"
   ]
  },
  {
   "cell_type": "code",
   "execution_count": null,
   "id": "422dce77-77ff-4e47-94fa-9920a0a2dfb8",
   "metadata": {},
   "outputs": [],
   "source": [
    "my_nice_function(2,2,10,24,10;operation = \"prod\")"
   ]
  },
  {
   "cell_type": "code",
   "execution_count": null,
   "id": "cbcd8d1f-d347-40a1-bd88-e4b687e4ac9f",
   "metadata": {},
   "outputs": [],
   "source": [
    "my_nice_function(12,21,12,123,123,676,34,43)"
   ]
  },
  {
   "cell_type": "markdown",
   "id": "7ded31ca-7006-48fb-9d34-af0f957a6d23",
   "metadata": {
    "tags": []
   },
   "source": [
    "#### Exercise 13\n",
    "Write and execute a function, that processes an array. The function should test if the array is filled with numbers or strings:\n",
    "- If the array contains either only numbers or strings. Two different things should be calculated and printed: \n",
    "    - If it is a array of numbers, the minimum and maximum\n",
    "    - If it is a array of strings, sort it by length.\n",
    "- If the array contains both numbers and strings (or anythingelse) an error message should be displayed.\n",
    "#### Solution 13\n",
    "\n",
    "Warning: \n",
    "This sample solution is written in a very compact manner. It is possible to solve this exercise with loops in a longer but less elegant way. But, when you advance in programming, you will encounter compact code like this. Therefore, it is a good exercise to understand how it works. If you are having trouble, advance step by step: \n",
    "\n",
    "Copy and past single operations like `(Float64 .== typeof.(array))` into a separate cell, execute it and inspect its return value to understand its inner workings.  "
   ]
  },
  {
   "cell_type": "code",
   "execution_count": null,
   "id": "391c87fa-b3a8-432d-9916-4e7ec747bc5d",
   "metadata": {},
   "outputs": [],
   "source": [
    "# This solution is written on purpose in a very compact manner. If you are confused \n",
    "# about the complex if and elseif conditions you can unpack them and write them out \n",
    "\n",
    "function test_array(array)\n",
    "    if sum(String .== typeof.(array)) == length(array)\n",
    "        println(sort(array, by= x->length(x)))\n",
    "    elseif sum((Float64 .== typeof.(array)).+(Int64 .== typeof.(array))) == length(array)\n",
    "        println(\"The minimum is $(minimum(array)) and the maximum is $(maximum(array)).\")\n",
    "    else\n",
    "        println(\"ERROR ERROR ERROR!!! The array contains datatypes for which no behaviour is defined\")\n",
    "    end\n",
    "end"
   ]
  },
  {
   "cell_type": "code",
   "execution_count": null,
   "id": "52f7fbfb-ddbc-4eb4-b03a-60c12eca6102",
   "metadata": {},
   "outputs": [],
   "source": [
    "test_array([1,3,3.0,5.0])"
   ]
  },
  {
   "cell_type": "code",
   "execution_count": null,
   "id": "a633ba32-3704-4f05-8872-9eb29436a9c3",
   "metadata": {},
   "outputs": [],
   "source": [
    "test_array([\"d\", \"jens\", \"apple\",\"hans-peter\",\"zz\"])"
   ]
  },
  {
   "cell_type": "code",
   "execution_count": null,
   "id": "763a6da5-d799-4c5f-9e05-a6860c350801",
   "metadata": {},
   "outputs": [],
   "source": [
    "test_array([\"hans\",1])"
   ]
  },
  {
   "cell_type": "code",
   "execution_count": null,
   "id": "d045b95a-481d-42b0-a01a-99af682cd84a",
   "metadata": {},
   "outputs": [],
   "source": [
    "test_array([2,2,[21,12.1]])"
   ]
  },
  {
   "cell_type": "code",
   "execution_count": null,
   "id": "47de9c33",
   "metadata": {},
   "outputs": [],
   "source": []
  }
 ],
 "metadata": {
  "kernelspec": {
   "display_name": "Julia 1.9.2",
   "language": "julia",
   "name": "julia-1.9"
  },
  "language_info": {
   "file_extension": ".jl",
   "mimetype": "application/julia",
   "name": "julia",
   "version": "1.9.2"
  }
 },
 "nbformat": 4,
 "nbformat_minor": 5
}
