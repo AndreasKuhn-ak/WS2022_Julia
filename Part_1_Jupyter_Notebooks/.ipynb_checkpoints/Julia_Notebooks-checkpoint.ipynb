{
 "cells": [
  {
   "cell_type": "markdown",
   "metadata": {},
   "source": [
    "<p style='text-align: center'><a href=https://www.biozentrum.uni-wuerzburg.de/cctb/research/supramolecular-and-cellular-simulations/>Supramolecular and Cellular Simulations</a> (Prof. Fischer)<br>Center for Computational and Theoretical Biology - CCTB<br>Faculty of Biology, University of Würzburg</p>\n",
    "\n",
    "<p style='text-align: center'><br><br>We are looking forward to your comments and suggestions. Please send them to: <br><br></p>\n",
    "    \n",
    " <p style='text-align: center'>   <a href=andreas.kuhn@uni.wuerzburg.de>andreas.kuhn@uni.wuerzburg.de</a> or <a href=sabine.fischer@uni.wuerzburg.de>sabine.fischer@uni.wuerzburg.de</a></p>\n",
    "\n",
    "<h1><p style='text-align: center'> Introduction to Julia </p></h1>\n"
   ]
  },
  {
   "cell_type": "markdown",
   "metadata": {},
   "source": [
    "# Jupyter Notebooks and Julia\n",
    "## 1. What is a Jupyter Notebook?\n",
    "<p style='text-align: justify;'>Jupyter is an interactive environment for writing, computing and testing code. A notebook combines code and its output in a single document. Furthermore, it offers the possibility of in-line visualisation to integrate result presentation. \n",
    "It is possible to integrate text fields between code cells to further describe the project or algorithms and for code documentation. Thus, Jupyter offers:</p>\n",
    "\n",
    "- a graphical user interface for programming with **Jul**ia, **Pyt**hon and **R** but also many other languages: (https://github.com/jupyter/jupyter/wiki/Jupyter-kernels) \n",
    "- comfortable usability and a clear structure\n",
    "- optical highlighting of code components like functions or operators\n",
    "- separate executable code cells with shared storage\n",
    "\n",
    "Note: Even though there are multiply ways to use Jupyter notebooks (`VS Code`, `Jupyter Notebook` app from anaconda,...), we recommend using Jupyter Notebooks inside `JupyterLab`, because this course was created in `Jupyterlab` and parts of the following information might only be applicable there.  \n"
   ]
  },
  {
   "cell_type": "markdown",
   "metadata": {},
   "source": [
    "\n",
    "### 2. Basic commands\n",
    "<p style='text-align: justify;'>There are different options to execute/run a code cell:</p>\n",
    "\n",
    "- **Shift + Enter** (alternatively press `Run` button): Executes the marked cell and switches focus to the next one.\n",
    "- **Ctrl + Enter**: Executes the marked cell and remains focused on the current cell.\n",
    "- **Alt + Enter**: Executes the marked cell and opens a new cell below."
   ]
  },
  {
   "cell_type": "code",
   "execution_count": 1,
   "metadata": {
    "tags": []
   },
   "outputs": [
    {
     "name": "stdout",
     "output_type": "stream",
     "text": [
      "Hello world!\n"
     ]
    }
   ],
   "source": [
    "#Execute this cell!\n",
    "println(\"Hello world!\")"
   ]
  },
  {
   "cell_type": "markdown",
   "metadata": {
    "tags": []
   },
   "source": [
    "If you want to edit a cell, either click on the code area or select the cell by clicking on the right edge and then hit :</p>\n",
    "\n",
    " **enter**\n",
    "\n",
    "To leave the edit mode of a cell hit: </p> \n",
    "**esc** \n",
    "\n",
    "After that you can move to another cell with the up or down: </p> \n",
    "\n",
    " **arrow keys**"
   ]
  },
  {
   "cell_type": "markdown",
   "metadata": {},
   "source": [
    "The control bar at the top contains several tabs to interact with the notebook, save and load files, interrupt the running processes, clear output and so on. For most commands, keyboard shortcuts can be used. For further information about shortcuts click [here](https://defkey.com/jupyter-notebook-shortcuts).\n"
   ]
  },
  {
   "cell_type": "markdown",
   "metadata": {},
   "source": [
    "### 3. Markdown language\n",
    "<p style='text-align: justify;'><br>It is always advisable to properly document your code and add descriptive text. That makes it easier to read and understand, particularly when you are going through your code a while after you have worked on it.<br><br>\n",
    "There are two options to create a text field, called markdown, you can either select the cell and change the code marker (fast access bar) to markdown or press:</p> \n",
    "\n",
    "**m**"
   ]
  },
  {
   "cell_type": "code",
   "execution_count": null,
   "metadata": {
    "tags": []
   },
   "outputs": [],
   "source": [
    "If you execute this cell, there will be an error!\n",
    "Change the cell to markdown first!"
   ]
  },
  {
   "cell_type": "markdown",
   "metadata": {},
   "source": [
    "The text in **markdowns** can be modified using the markdown language.<br>\n",
    "\n",
    "In case you want to convert markdown cells back to code cells, select the cells and press: <p>\n",
    "**y**\n"
   ]
  },
  {
   "cell_type": "markdown",
   "metadata": {},
   "source": [
    "Headings can be created with **#**. You have to set a # at the beginning of a row followed by a space and the text. The level of the heading can be controlled by the number of #."
   ]
  },
  {
   "cell_type": "markdown",
   "metadata": {},
   "source": [
    "# Heading\n",
    "## Heading\n",
    "### Heading\n",
    "#### Heading"
   ]
  },
  {
   "cell_type": "markdown",
   "metadata": {},
   "source": [
    "You can use: **< br >** (without the spaces) to create a line break. To create an indention, you can either press the enter key twice or type in **< br >** twice. <br>Pressing the enter key once does not reliably generate a line break."
   ]
  },
  {
   "cell_type": "markdown",
   "metadata": {},
   "source": [
    "line<br>break\n",
    "\n",
    "paragraph 1<br><br>paragraph 2"
   ]
  },
  {
   "cell_type": "markdown",
   "metadata": {},
   "source": [
    "You can get different text properties by adding a number of * or _ in front of and after the text part:\n",
    "- *cursive* * or _\n",
    "- **bold** ** or __ \n",
    "- ***both*** *** or ___\n",
    "\n",
    "With ~~ you can ~~cross out~~ text."
   ]
  },
  {
   "cell_type": "markdown",
   "metadata": {},
   "source": [
    "*I'm cursive!*<br>**I'm bold!**<br>***I'm cursive and bold!***<br>~~I'm crossed out!~~"
   ]
  },
  {
   "cell_type": "markdown",
   "metadata": {},
   "source": [
    "### 4. Julia basic syntax\n",
    "\n",
    "<p style='text-align: justify;'>The following script is just a small example for Julia syntax and the power of Jupyters optical highlighting.<br>The green parts are built-in Julia identifiers for basic language constructs like for, while, if, end,... statements. Numbers are marked in green as well. Operators are highlighted in purple, and text (strings) in red. If you execute the cell, the Julia compiler will transform the code into machine language, which will be executed by your processor.\n",
    "\n",
    "<br>To add comments to a piece of code, you should use: `#`\n",
    "\n",
    "\n",
    "<br>Hint: Always press the shortcut  `Shift`+ `L` to show line numbers in JupyterLab code cells. That makes reading error messages far easier.\n"
   ]
  },
  {
   "cell_type": "code",
<<<<<<< HEAD
   "execution_count": null,
   "metadata": {
    "tags": []
   },
   "outputs": [],
=======
   "execution_count": 1,
   "metadata": {},
   "outputs": [
    {
     "name": "stdin",
     "output_type": "stream",
     "text": [
      "Welcome to guess the number\n",
      "===========================\n",
      "\n",
      "I'm thinking of a number between 1 and 50 ,you have to guess what it is.\n",
      " 23\n",
      "Guess higher next time\n",
      " 3\n",
      "Guess higher next time\n",
      " 32\n",
      "Guess lower next time\n",
      " 1\n",
      "Guess higher next time\n",
      " 2\n",
      "Guess higher next time\n",
      " 3\n",
      "Guess higher next time\n",
      " 10\n",
      "Guess higher next time\n",
      " 20\n",
      "Guess higher next time\n",
      " 25\n"
     ]
    },
    {
     "name": "stdout",
     "output_type": "stream",
     "text": [
      "!!***CONGRATULATIONS***!! \n",
      " This is the right number\n"
     ]
    }
   ],
>>>>>>> 846d690bdabb24c9b12682a7b2d02b0cd97e7500
   "source": [
    "#please execute me\n",
    "\n",
    "start = 1\n",
    "ende = 50\n",
    "# creating a random number between start and ende\n",
    "num = rand(start:ende)\n",
    "\n",
    "input = IJulia.readprompt(\"Welcome to \\\"Guess the number!\\\"\\n===========================\\n\n",
    "I'm thinking of a number between $start and $ende. You have to guess what it is.\\n\")\n",
    "\n",
    "guess = 0\n",
    "while guess != num\n",
    "    guess = parse(Int64,input)\n",
    "    if guess < num\n",
    "        input = IJulia.readprompt(\"Guess higher next time\\n\")\n",
    "        \n",
    "    elseif guess > num\n",
    "        input = IJulia.readprompt(\"Guess lower next time\\n\")\n",
    "        \n",
    "    end\n",
    "end\n",
    "println(\"!!***CONGRATULATIONS***!! \\n This is the right number.\")\n",
    "\n",
    "\n"
   ]
  },
  {
   "cell_type": "markdown",
   "metadata": {},
   "source": [
    "### 5. Quotation in Julia\n",
    "\n",
    "There are two methods to mark text in Julia double `\"` and triple-double `\"\"\"` quotes. Double quotes provide an in-line marker, such that the text between the quotes is interpreted as text/string. With triple-double quotes you can mark several lines as a text/string block. Multiline quotes can be used for multiline comments, as the compiler will ignore them if further code lines follow.\n",
    "\n",
    "Contrary to some other programming languages, single quotes `'` are not interchangable with double quotes and mark characters like 'a'. \n"
   ]
  },
  {
   "cell_type": "code",
   "execution_count": 8,
   "metadata": {},
   "outputs": [
    {
     "data": {
      "text/plain": [
       "'a': ASCII/Unicode U+0061 (category Ll: Letter, lowercase)"
      ]
     },
     "execution_count": 8,
     "metadata": {},
     "output_type": "execute_result"
    }
   ],
   "source": [
    "\"This is a string!\"\n",
    "\n",
    "\n",
    "\"\"\"This a \n",
    "multiline\n",
    "string!\"\"\"\n",
    "\n",
    "#This is a character :\n",
    "'a' \n"
   ]
  },
  {
   "cell_type": "markdown",
   "metadata": {},
   "source": [
    "### 6. Operators\n",
    "\n",
    "Operators in Julia are quite similar to mathematical operators:\n",
    "- with `=`, you can define the content of a variable\n",
    "- `==` checks if two values are the same\n",
    "- `!=` checks if two values are not the same\n",
    "- `<`, `>`,`>=` and `<=` compare two values \n",
    "- `+`, `-`, `*`, `/` and `^` have the same function as in mathematics\n",
    "- `(` and `)` define the priority of operator execution"
   ]
  },
  {
   "cell_type": "code",
<<<<<<< HEAD
   "execution_count": 9,
=======
   "execution_count": 1,
>>>>>>> 846d690bdabb24c9b12682a7b2d02b0cd97e7500
   "metadata": {},
   "outputs": [
    {
     "data": {
      "text/plain": [
       "true"
      ]
     },
<<<<<<< HEAD
     "execution_count": 9,
=======
     "execution_count": 1,
>>>>>>> 846d690bdabb24c9b12682a7b2d02b0cd97e7500
     "metadata": {},
     "output_type": "execute_result"
    }
   ],
   "source": [
    "3 == 3"
   ]
  },
  {
   "cell_type": "code",
<<<<<<< HEAD
   "execution_count": 10,
=======
   "execution_count": 2,
>>>>>>> 846d690bdabb24c9b12682a7b2d02b0cd97e7500
   "metadata": {},
   "outputs": [
    {
     "data": {
      "text/plain": [
       "false"
      ]
     },
<<<<<<< HEAD
     "execution_count": 10,
=======
     "execution_count": 2,
>>>>>>> 846d690bdabb24c9b12682a7b2d02b0cd97e7500
     "metadata": {},
     "output_type": "execute_result"
    }
   ],
   "source": [
    "3 != 3"
   ]
  },
  {
   "cell_type": "code",
<<<<<<< HEAD
   "execution_count": 11,
=======
   "execution_count": 4,
>>>>>>> 846d690bdabb24c9b12682a7b2d02b0cd97e7500
   "metadata": {},
   "outputs": [
    {
     "data": {
      "text/plain": [
       "(false, true)"
      ]
     },
<<<<<<< HEAD
     "execution_count": 11,
=======
     "execution_count": 4,
>>>>>>> 846d690bdabb24c9b12682a7b2d02b0cd97e7500
     "metadata": {},
     "output_type": "execute_result"
    }
   ],
   "source": [
    "3 < 2, 15 > 10"
<<<<<<< HEAD
=======
   ]
  },
  {
   "cell_type": "code",
   "execution_count": 5,
   "metadata": {},
   "outputs": [
    {
     "data": {
      "text/plain": [
       "13"
      ]
     },
     "execution_count": 5,
     "metadata": {},
     "output_type": "execute_result"
    }
   ],
   "source": [
    "3+10"
>>>>>>> 846d690bdabb24c9b12682a7b2d02b0cd97e7500
   ]
  },
  {
   "cell_type": "code",
   "execution_count": 12,
   "metadata": {},
   "outputs": [
    {
     "data": {
      "text/plain": [
<<<<<<< HEAD
       "13"
=======
       "false"
>>>>>>> 846d690bdabb24c9b12682a7b2d02b0cd97e7500
      ]
     },
     "execution_count": 12,
     "metadata": {},
     "output_type": "execute_result"
    }
   ],
   "source": [
<<<<<<< HEAD
    "3+10"
=======
    "2+2*3 >= 3^2"
>>>>>>> 846d690bdabb24c9b12682a7b2d02b0cd97e7500
   ]
  },
  {
   "cell_type": "code",
   "execution_count": 13,
   "metadata": {},
   "outputs": [
    {
     "data": {
      "text/plain": [
<<<<<<< HEAD
       "false"
=======
       "true"
>>>>>>> 846d690bdabb24c9b12682a7b2d02b0cd97e7500
      ]
     },
     "execution_count": 13,
     "metadata": {},
     "output_type": "execute_result"
    }
   ],
   "source": [
<<<<<<< HEAD
    "2+2*3 >= 3^2"
=======
    "(2+2)*3 >= 3^2"
>>>>>>> 846d690bdabb24c9b12682a7b2d02b0cd97e7500
   ]
  },
  {
   "cell_type": "code",
   "execution_count": 14,
   "metadata": {},
   "outputs": [
    {
     "data": {
      "text/plain": [
       "true"
      ]
     },
     "execution_count": 14,
     "metadata": {},
     "output_type": "execute_result"
    }
   ],
   "source": [
    "(2+2)*3 >= 3^2"
   ]
  },
  {
   "cell_type": "code",
   "execution_count": 15,
   "metadata": {},
   "outputs": [
    {
     "data": {
      "text/plain": [
       "true"
      ]
     },
     "execution_count": 15,
     "metadata": {},
     "output_type": "execute_result"
    }
   ],
   "source": [
    "a = 3\n",
    "b = 2\n",
    "a >2\n"
   ]
  },
  {
   "cell_type": "markdown",
   "metadata": {},
   "source": [
    "### 7. Identifiers\n",
    "You can create your own identifiers to use in your code. The sequence of letters must follow some rules:\n",
    "- An identifier always starts with a small or capital letter or an _\n",
    "- Julia does not accept special characters like @, $, & or %  within identifiers\n",
    "\n",
    "The most important rule, when working with identifiers, is that Julia is a case sensitive programming language. Thus, `World` and `world` are two different identifiers.\n",
    "\n",
    "Hint: With the tabulator key (Tab) an already existing identifier can be completed. Just type in the first letters and hit Tab."
   ]
  },
  {
   "cell_type": "code",
   "execution_count": 21,
   "metadata": {},
   "outputs": [
    {
     "data": {
      "text/plain": [
       "(\"Hello\", \"world!\")"
      ]
     },
     "execution_count": 21,
     "metadata": {},
     "output_type": "execute_result"
    }
   ],
   "source": [
    "World = \"Hello\"\n",
    "world = \"world!\"\n",
    "World, world"
   ]
  },
  {
   "cell_type": "markdown",
   "metadata": {},
   "source": [
    "Identifiers already occupied by built-in functions, modules, operators or packages cannot be used as self-defined identifiers.\n"
   ]
  },
  {
   "cell_type": "code",
   "execution_count": 17,
   "metadata": {},
   "outputs": [
    {
     "ename": "LoadError",
     "evalue": "cannot assign a value to variable Base.+ from module Main",
     "output_type": "error",
     "traceback": [
      "cannot assign a value to variable Base.+ from module Main",
      "",
      "Stacktrace:",
      " [1] top-level scope",
      "   @ In[17]:1"
     ]
    }
   ],
   "source": [
    "+ = 5"
   ]
  },
  {
   "cell_type": "markdown",
   "metadata": {},
   "source": [
    "\n",
    "### 8. Variables\n",
    "\n",
    "Variables are used to store information to be referenced and manipulated in a code. A variable can contain a text, a value or complex data. It is helpful to think of variables as containers that hold information. You can assign a name to a variable. Using the name, the content of a variable can be used in different code cells throughout a Jupyter Notebook.\n",
    "To return the value of a variable, use the `println()` function. Addtionally, in a Jupyter notebook, the content of the variable in the last line of a cell is displayed by default. "
   ]
  },
  {
   "cell_type": "code",
   "execution_count": 22,
   "metadata": {},
   "outputs": [
    {
     "name": "stdout",
     "output_type": "stream",
     "text": [
      "Helloworld!\n"
     ]
    },
    {
     "data": {
      "text/plain": [
       "\"No more \""
      ]
     },
     "execution_count": 22,
     "metadata": {},
     "output_type": "execute_result"
    }
   ],
   "source": [
    "#let's print the content of the variables World and world again\n",
    "println(World, world)\n",
    "#let's assign something new\n",
    "variable = \"I can be called everywhere!\"\n",
    "# The content of World gets printed out, because it is the last code line in this cell\n",
    "World = \"No more \""
   ]
  },
  {
   "cell_type": "code",
   "execution_count": 23,
   "metadata": {},
   "outputs": [
    {
     "name": "stdout",
     "output_type": "stream",
     "text": [
      "I can be called everywhere!\n",
      "No more world!\n"
     ]
    }
   ],
   "source": [
    "#let's call the variables again\n",
    "println(variable)\n",
    "println(World, world)"
   ]
  },
  {
   "cell_type": "markdown",
   "metadata": {},
   "source": [
    "### 9. Multi-line statements\n",
    "\n",
    "<p style='text-align: justify;'>For better readability of your code, it can be useful to write a statement over multiple lines. In Julia, this can easily be achieved. Just hit enter and complete the statement in the next line. "
   ]
  },
  {
   "cell_type": "code",
   "execution_count": 24,
   "metadata": {},
   "outputs": [
    {
     "name": "stdout",
     "output_type": "stream",
     "text": [
      "[\"Monday\", \"Tuesday\", \"Wednesday\", \"Thursday\", \"Friday\", \"Saturday\", \"Sunday\"]\n",
      "[\"Monday\", \"Tuesday\", \"Wednesday\", \"Thursday\", \"Friday\", \"Saturday\", \"Sunday\"]\n"
     ]
    }
   ],
   "source": [
    "days_single_line = [\"Monday\", \"Tuesday\", \"Wednesday\", \"Thursday\", \"Friday\", \"Saturday\", \"Sunday\"]\n",
    "days_multi_line = [\"Monday\", \"Tuesday\", \"Wednesday\", \n",
    "                   \"Thursday\", \"Friday\", \"Saturday\", \"Sunday\"]\n",
    "println(days_single_line)\n",
    "println(days_multi_line)"
   ]
  },
  {
   "cell_type": "code",
   "execution_count": 25,
   "metadata": {},
   "outputs": [
    {
     "name": "stdout",
     "output_type": "stream",
     "text": [
      "6\n",
      "6\n"
     ]
    }
   ],
   "source": [
    "result_single_line = 1+2+3\n",
    "result_multi_line = 1 + \n",
    "                    2 + \n",
    "                    3\n",
    "println(result_single_line)\n",
    "println(result_multi_line)"
   ]
  },
  {
   "cell_type": "markdown",
   "metadata": {},
   "source": [
    "## Exercises\n",
    "### <p style='color: green'>easy</p>\n",
    "\n",
    "1. Open JupyterLab and open a new notebook."
   ]
  },
  {
   "cell_type": "markdown",
   "metadata": {},
   "source": [
    "2. Create a markdown cell and write a few sentences about this course (use several commands presented above to highlight important parts)."
   ]
  },
  {
   "cell_type": "markdown",
   "metadata": {},
   "source": [
    "3. Use this notebook to solve the following tasks:\n",
    "    - Save the numbers 2,5,7,8 in a variable each\n",
    "    - Multiply all variables with 2\n",
    "    - Add 2 to 5 and save the result in a variable\n",
    "    - Test if the result is equal to 7\n",
    "    - Test if 8 is smaller than 5\n",
    "    - Test if 2 is not equal to 7"
   ]
  },
  {
   "cell_type": "markdown",
   "metadata": {},
   "source": [
    "### <p style='color: orange'>medium</p>\n",
    "\n",
    "4. Rename your notebook using JupyterLab before saving it."
   ]
  }
 ],
 "metadata": {
  "kernelspec": {
   "display_name": "Julia 1.7.2",
   "language": "julia",
   "name": "julia-1.7"
  },
  "language_info": {
   "file_extension": ".jl",
   "mimetype": "application/julia",
   "name": "julia",
   "version": "1.7.2"
  }
 },
 "nbformat": 4,
 "nbformat_minor": 4
}
