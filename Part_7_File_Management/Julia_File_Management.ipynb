{
 "cells": [
  {
   "cell_type": "markdown",
   "metadata": {},
   "source": [
    "<p style='text-align: center'><a href=https://www.biozentrum.uni-wuerzburg.de/cctb/research/supramolecular-and-cellular-simulations/>Supramolecular and Cellular Simulations</a> (Prof. Fischer)<br>Center for Computational and Theoretical Biology - CCTB<br>Faculty of Biology, University of Würzburg</p>\n",
    "\n",
    "<p style='text-align: center'><br><br>We are looking forward to your comments and suggestions. Please send them to: <br><br></p>\n",
    "    \n",
    " <p style='text-align: center'>   <a href=andreas.kuhn@uni.wuerzburg.de>andreas.kuhn@uni.wuerzburg.de</a> or <a href=sabine.fischer@uni.wuerzburg.de>sabine.fischer@uni.wuerzburg.de</a></p>\n",
    "\n",
    "<h1><p style='text-align: center'> Introduction to Julia </p></h1>\n"
   ]
  },
  {
   "cell_type": "markdown",
   "metadata": {},
   "source": [
    "## File management"
   ]
  },
  {
   "cell_type": "markdown",
   "metadata": {},
   "source": [
    "This notebook gives you a short introduction how to  manage paths, create/delete folders and to import/export data with Julia.   "
   ]
  },
  {
   "cell_type": "markdown",
   "metadata": {},
   "source": [
    "### 1. Paths or where are we? "
   ]
  },
  {
   "cell_type": "markdown",
   "metadata": {},
   "source": [
    "A path is the address of a file or folder on a harddrive of your device. Paths can either be given in absolute terms or relative towards other paths. The function `pwd()` returns the absolute path of this notebook/the current Julia session. "
   ]
  },
  {
   "cell_type": "code",
   "execution_count": 1,
   "metadata": {},
   "outputs": [
    {
     "data": {
      "text/plain": [
       "\"C:\\\\Users\\\\Andreas\\\\Dropbox\\\\phd\\\\Courses\\\\WS2022_Julia\\\\Part_7_File_Management\""
      ]
     },
     "execution_count": 1,
     "metadata": {},
     "output_type": "execute_result"
    }
   ],
   "source": [
    "path_notebook = pwd()"
   ]
  },
  {
   "cell_type": "markdown",
   "metadata": {},
   "source": [
    "Relative paths are always given in relation to the absolute path of the current notebook/Julia session (the return value of `pwd()`). It is possible to change this path, but we strongly advice you not to and always keep `pwd()` at its default value. \n",
    "\n",
    "If you want to get the contents of a folder you can use the  `readdir()` function with a path as argument.  `readdir()` returns the relative paths of all contents of a folder as a Vector of `Strings`. "
   ]
  },
  {
   "cell_type": "code",
   "execution_count": 3,
   "metadata": {},
   "outputs": [
    {
     "data": {
      "text/plain": [
       "23-element Vector{String}:\n",
       " \".ipynb_checkpoints\"\n",
       " \"AliceInWonderland.txt\"\n",
       " \"DrugScreen1.csv\"\n",
       " \"DrugScreen2.csv\"\n",
       " \"DrugScreen3.csv\"\n",
       " \"File_Management_solutions.ipynb\"\n",
       " \"Julia_File_Management.ipynb\"\n",
       " \"Untitled.ipynb\"\n",
       " \"Untitled1.ipynb\"\n",
       " \"Weights.csv\"\n",
       " \"a3.txt\"\n",
       " \"data\"\n",
       " \"hansi.txt\"\n",
       " \"list3D.csv\"\n",
       " \"matrix1\"\n",
       " \"matrix1.jls\"\n",
       " \"matrix3.txt\"\n",
       " \"matrix4.txt\"\n",
       " \"numbers.csv\"\n",
       " \"numbers.txt\"\n",
       " \"oh_shit.webp\"\n",
       " \"rockets.txt\"\n",
       " \"weights\""
      ]
     },
     "execution_count": 3,
     "metadata": {},
     "output_type": "execute_result"
    }
   ],
   "source": [
    "readdir(path_notebook)  # absolute path"
   ]
  },
  {
   "cell_type": "markdown",
   "metadata": {},
   "source": [
    "As relative paths are always given in relation to the notebook path, the relative path to this notebook is just nothing. "
   ]
  },
  {
   "cell_type": "code",
   "execution_count": 4,
   "metadata": {},
   "outputs": [
    {
     "data": {
      "text/plain": [
       "23-element Vector{String}:\n",
       " \".ipynb_checkpoints\"\n",
       " \"AliceInWonderland.txt\"\n",
       " \"DrugScreen1.csv\"\n",
       " \"DrugScreen2.csv\"\n",
       " \"DrugScreen3.csv\"\n",
       " \"File_Management_solutions.ipynb\"\n",
       " \"Julia_File_Management.ipynb\"\n",
       " \"Untitled.ipynb\"\n",
       " \"Untitled1.ipynb\"\n",
       " \"Weights.csv\"\n",
       " \"a3.txt\"\n",
       " \"data\"\n",
       " \"hansi.txt\"\n",
       " \"list3D.csv\"\n",
       " \"matrix1\"\n",
       " \"matrix1.jls\"\n",
       " \"matrix3.txt\"\n",
       " \"matrix4.txt\"\n",
       " \"numbers.csv\"\n",
       " \"numbers.txt\"\n",
       " \"oh_shit.webp\"\n",
       " \"rockets.txt\"\n",
       " \"weights\""
      ]
     },
     "execution_count": 4,
     "metadata": {},
     "output_type": "execute_result"
    }
   ],
   "source": [
    "readdir()              # relative path    "
   ]
  },
  {
   "cell_type": "markdown",
   "metadata": {},
   "source": [
    "As you can see, an absolute path is quite long, annoying to deal with and depends on your machine and operation system.  Therefore, if possible you should always work with relative paths, as they are smaller and easily portable."
   ]
  },
  {
   "cell_type": "markdown",
   "metadata": {},
   "source": [
    "If you want to create a folder you can use the `mkpath()` function which creates folder(s) at the given path. "
   ]
  },
  {
   "cell_type": "code",
   "execution_count": 5,
   "metadata": {},
   "outputs": [
    {
     "data": {
      "text/plain": [
       "\"test_folder2/sub_folder/data\""
      ]
     },
     "execution_count": 5,
     "metadata": {},
     "output_type": "execute_result"
    }
   ],
   "source": [
    "mkpath(\"test_folder1\")\n",
    "mkpath(\"test_folder2/sub_folder/data\")"
   ]
  },
  {
   "cell_type": "code",
   "execution_count": 6,
   "metadata": {},
   "outputs": [
    {
     "data": {
      "text/plain": [
       "25-element Vector{String}:\n",
       " \".ipynb_checkpoints\"\n",
       " \"AliceInWonderland.txt\"\n",
       " \"DrugScreen1.csv\"\n",
       " \"DrugScreen2.csv\"\n",
       " \"DrugScreen3.csv\"\n",
       " \"File_Management_solutions.ipynb\"\n",
       " \"Julia_File_Management.ipynb\"\n",
       " \"Untitled.ipynb\"\n",
       " \"Untitled1.ipynb\"\n",
       " \"Weights.csv\"\n",
       " \"a3.txt\"\n",
       " \"data\"\n",
       " \"hansi.txt\"\n",
       " \"list3D.csv\"\n",
       " \"matrix1\"\n",
       " \"matrix1.jls\"\n",
       " \"matrix3.txt\"\n",
       " \"matrix4.txt\"\n",
       " \"numbers.csv\"\n",
       " \"numbers.txt\"\n",
       " \"oh_shit.webp\"\n",
       " \"rockets.txt\"\n",
       " \"test_folder1\"\n",
       " \"test_folder2\"\n",
       " \"weights\""
      ]
     },
     "execution_count": 6,
     "metadata": {},
     "output_type": "execute_result"
    }
   ],
   "source": [
    "readdir()"
   ]
  },
  {
   "cell_type": "markdown",
   "metadata": {},
   "source": [
    "The return value of `readdir()` has changed because you have created the folders `test_folder1` and `test_folder2` inside our notebook folder. To see what's inside `test_folder` you can use its relative path as argument for `readdir()`."
   ]
  },
  {
   "cell_type": "code",
   "execution_count": 7,
   "metadata": {},
   "outputs": [
    {
     "data": {
      "text/plain": [
       "String[]"
      ]
     },
     "execution_count": 7,
     "metadata": {},
     "output_type": "execute_result"
    }
   ],
   "source": [
    "readdir(\"test_folder1\")"
   ]
  },
  {
   "cell_type": "markdown",
   "metadata": {},
   "source": [
    "`test_folder1` is emtpy. "
   ]
  },
  {
   "cell_type": "code",
   "execution_count": 8,
   "metadata": {},
   "outputs": [
    {
     "data": {
      "text/plain": [
       "1-element Vector{String}:\n",
       " \"sub_folder\""
      ]
     },
     "execution_count": 8,
     "metadata": {},
     "output_type": "execute_result"
    }
   ],
   "source": [
    "readdir(\"test_folder2/\")"
   ]
  },
  {
   "cell_type": "code",
   "execution_count": 9,
   "metadata": {},
   "outputs": [
    {
     "data": {
      "text/plain": [
       "1-element Vector{String}:\n",
       " \"data\""
      ]
     },
     "execution_count": 9,
     "metadata": {},
     "output_type": "execute_result"
    }
   ],
   "source": [
    "readdir(\"test_folder2/sub_folder/\")"
   ]
  },
  {
   "cell_type": "markdown",
   "metadata": {},
   "source": [
    "Whereas `test_folder2` contains the folder `subfolder` which itself contains the folder `data`."
   ]
  },
  {
   "cell_type": "markdown",
   "metadata": {},
   "source": [
    "#### Note: The slash or backslash question\n",
    "If you are using this notebook on Windows, `pwd()` has probably returned paths similar to this one: `\"C:\\\\Users\\\\hanswurst\\\\sfw_stuff\\\\Julia_course\\\\Part_7_File_Management\"` with `\\\\` instead of `/` . Therefore, you could use double backslashes instead of slashes in your code as well. On Windows this would work perfectly fine, but as soon as you use the same notebook on Linux or Mac, everything would break. Therefore, we strongly advice you to always use slashes `/`  as they work everywhere. \n",
    "\n"
   ]
  },
  {
   "cell_type": "markdown",
   "metadata": {},
   "source": [
    "If you want to delete a file or an empty folder you can use the `rm()` function. "
   ]
  },
  {
   "cell_type": "code",
   "execution_count": 10,
   "metadata": {},
   "outputs": [],
   "source": [
    "rm(\"test_folder1\")"
   ]
  },
  {
   "cell_type": "markdown",
   "metadata": {},
   "source": [
    "If you want to delete a folder that is not empty you get an error message. "
   ]
  },
  {
   "cell_type": "code",
   "execution_count": 11,
   "metadata": {},
   "outputs": [
    {
     "ename": "LoadError",
     "evalue": "IOError: rm(\"test_folder2\"): directory not empty (ENOTEMPTY)",
     "output_type": "error",
     "traceback": [
      "IOError: rm(\"test_folder2\"): directory not empty (ENOTEMPTY)",
      "",
      "Stacktrace:",
      " [1] uv_error",
      "   @ .\\libuv.jl:100 [inlined]",
      " [2] rm(path::String; force::Bool, recursive::Bool)",
      "   @ Base.Filesystem .\\file.jl:306",
      " [3] rm(path::String)",
      "   @ Base.Filesystem .\\file.jl:273",
      " [4] top-level scope",
      "   @ In[11]:1"
     ]
    }
   ],
   "source": [
    "rm(\"test_folder2\")"
   ]
  },
  {
   "cell_type": "markdown",
   "metadata": {},
   "source": [
    "To remove a folder together with all files/subfolders inside, you can add the keyword argument `recursive = true`.\n",
    "\n",
    "Note: You should only use this if you exactly know what you are doing and where you are. Because, if you are in the wrong folder it can happen very easily that you delete half your harddrive in an instant.  \n",
    "\n"
   ]
  },
  {
   "cell_type": "code",
   "execution_count": 12,
   "metadata": {},
   "outputs": [],
   "source": [
    "rm(\"test_folder2\",recursive = true)"
   ]
  },
  {
   "cell_type": "markdown",
   "metadata": {},
   "source": [
    "![title](oh_shit.webp)"
   ]
  },
  {
   "cell_type": "code",
   "execution_count": 13,
   "metadata": {},
   "outputs": [
    {
     "data": {
      "text/plain": [
       "23-element Vector{String}:\n",
       " \".ipynb_checkpoints\"\n",
       " \"AliceInWonderland.txt\"\n",
       " \"DrugScreen1.csv\"\n",
       " \"DrugScreen2.csv\"\n",
       " \"DrugScreen3.csv\"\n",
       " \"File_Management_solutions.ipynb\"\n",
       " \"Julia_File_Management.ipynb\"\n",
       " \"Untitled.ipynb\"\n",
       " \"Untitled1.ipynb\"\n",
       " \"Weights.csv\"\n",
       " \"a3.txt\"\n",
       " \"data\"\n",
       " \"hansi.txt\"\n",
       " \"list3D.csv\"\n",
       " \"matrix1\"\n",
       " \"matrix1.jls\"\n",
       " \"matrix3.txt\"\n",
       " \"matrix4.txt\"\n",
       " \"numbers.csv\"\n",
       " \"numbers.txt\"\n",
       " \"oh_shit.webp\"\n",
       " \"rockets.txt\"\n",
       " \"weights\""
      ]
     },
     "execution_count": 13,
     "metadata": {},
     "output_type": "execute_result"
    }
   ],
   "source": [
    "readdir()"
   ]
  },
  {
   "cell_type": "markdown",
   "metadata": {},
   "source": [
    "Note: There are a lot more [functions regarding the filesystem in Julia](https://docs.julialang.org/en/v1/base/file/), which provide a functionabilty almost as powerful as the Linux command line."
   ]
  },
  {
   "cell_type": "markdown",
   "metadata": {},
   "source": [
    "### 2. Import/Export data"
   ]
  },
  {
   "cell_type": "markdown",
   "metadata": {},
   "source": [
    "When exporting/importing data, there are essential two questions to ask: \n",
    "\n",
    "#### Should the data be human readable  ? \n",
    "\n",
    "#### Will the data be used outside of Julia with other languages/programms ? \n"
   ]
  },
  {
   "cell_type": "markdown",
   "metadata": {},
   "source": [
    "###  2.1 Serialization \n",
    "\n",
    "If the answer to both questions is `no`, Julia has a very useful package for this purpose in its standard libary called `Serialization`."
   ]
  },
  {
   "cell_type": "code",
   "execution_count": 14,
   "metadata": {},
   "outputs": [],
   "source": [
    "using Serialization"
   ]
  },
  {
   "cell_type": "markdown",
   "metadata": {},
   "source": [
    "This package provides two functions `serialize()` and `deserialize()`. \n",
    "\n",
    "`serialize()` expects two arguments. The first argument is the name of the file (its future path), that you want to create and the second argument is the Julia object you want to save. You can save every possible Julia object this way. It does not matter if it is a `String` an `array` a `dictionary` or arbitarly more complicated nested objects like `array of arrays, figures ...`. `serialize()` creates a Julia binary file at the given path. It is convention to use the ending `.jls` for such files.   \n"
   ]
  },
  {
   "cell_type": "code",
   "execution_count": 17,
   "metadata": {},
   "outputs": [
    {
     "data": {
      "text/plain": [
       "100×100 Matrix{Float64}:\n",
       " 0.906652    0.486342   0.3663     …  0.666252  0.670681   0.768096\n",
       " 0.305836    0.122622   0.789427      0.16382   0.076369   0.246166\n",
       " 0.248224    0.608864   0.635913      0.906236  0.628231   0.326497\n",
       " 0.527769    0.267786   0.196965      0.302819  0.754086   0.372124\n",
       " 0.548042    0.632777   0.485998      0.647427  0.929124   0.592678\n",
       " 0.00254681  0.506685   0.85951    …  0.79072   0.263636   0.434229\n",
       " 0.874299    0.629236   0.8545        0.785434  0.0366204  0.969657\n",
       " 0.24202     0.0412905  0.759161      0.853017  0.510505   0.442493\n",
       " 0.440395    0.830371   0.811913      0.721099  0.826639   0.047809\n",
       " 0.530148    0.157827   0.832705      0.50416   0.658007   0.267993\n",
       " 0.598227    0.168188   0.135432   …  0.321893  0.367368   0.234831\n",
       " 0.020105    0.787796   0.965         0.903477  0.04886    0.888485\n",
       " 0.598985    0.42919    0.277002      0.553331  0.59476    0.122899\n",
       " ⋮                                 ⋱                       \n",
       " 0.633263    0.165443   0.730719      0.834513  0.873358   0.862219\n",
       " 0.0179981   0.775039   0.427281      0.106088  0.846366   0.141032\n",
       " 0.545745    0.678654   0.470524   …  0.76537   0.687597   0.987\n",
       " 0.336446    0.203713   0.027417      0.417038  0.0228934  0.0942171\n",
       " 0.296631    0.726207   0.835823      0.213475  0.503521   0.214674\n",
       " 0.974823    0.220323   0.916968      0.043271  0.317805   0.926012\n",
       " 0.478525    0.61222    0.496073      0.58387   0.854616   0.977199\n",
       " 0.577969    0.938487   0.596704   …  0.84691   0.0752539  0.94081\n",
       " 0.90268     0.317044   0.107076      0.435397  0.48521    0.273647\n",
       " 0.0397473   0.830174   0.0895971     0.601669  0.589596   0.30301\n",
       " 0.343061    0.0581158  0.893943      0.790564  0.353447   0.360234\n",
       " 0.78009     0.99024    0.564961      0.915723  0.541162   0.943523"
      ]
     },
     "execution_count": 17,
     "metadata": {},
     "output_type": "execute_result"
    }
   ],
   "source": [
    "matrix1 = rand(100,100)"
   ]
  },
  {
   "cell_type": "code",
   "execution_count": 18,
   "metadata": {},
   "outputs": [
    {
     "data": {
      "text/plain": [
       "23-element Vector{String}:\n",
       " \".ipynb_checkpoints\"\n",
       " \"AliceInWonderland.txt\"\n",
       " \"DrugScreen1.csv\"\n",
       " \"DrugScreen2.csv\"\n",
       " \"DrugScreen3.csv\"\n",
       " \"File_Management_solutions.ipynb\"\n",
       " \"Julia_File_Management.ipynb\"\n",
       " \"Untitled.ipynb\"\n",
       " \"Untitled1.ipynb\"\n",
       " \"Weights.csv\"\n",
       " \"a3.txt\"\n",
       " \"data\"\n",
       " \"hansi.txt\"\n",
       " \"list3D.csv\"\n",
       " \"matrix1\"\n",
       " \"matrix1.jls\"\n",
       " \"matrix3.txt\"\n",
       " \"matrix4.txt\"\n",
       " \"numbers.csv\"\n",
       " \"numbers.txt\"\n",
       " \"oh_shit.webp\"\n",
       " \"rockets.txt\"\n",
       " \"weights\""
      ]
     },
     "execution_count": 18,
     "metadata": {},
     "output_type": "execute_result"
    }
   ],
   "source": [
    "serialize(\"matrix1.jls\",matrix1)  \n",
    "readdir()"
   ]
  },
  {
   "cell_type": "markdown",
   "metadata": {},
   "source": [
    "To import the created `jls` file, you can use `deserialize()`. This function takes only one argument, the path of the file you want to import and returns the restored Julia object. "
   ]
  },
  {
   "cell_type": "code",
   "execution_count": 19,
   "metadata": {},
   "outputs": [
    {
     "data": {
      "text/plain": [
       "100×100 Matrix{Float64}:\n",
       " 0.906652    0.486342   0.3663     …  0.666252  0.670681   0.768096\n",
       " 0.305836    0.122622   0.789427      0.16382   0.076369   0.246166\n",
       " 0.248224    0.608864   0.635913      0.906236  0.628231   0.326497\n",
       " 0.527769    0.267786   0.196965      0.302819  0.754086   0.372124\n",
       " 0.548042    0.632777   0.485998      0.647427  0.929124   0.592678\n",
       " 0.00254681  0.506685   0.85951    …  0.79072   0.263636   0.434229\n",
       " 0.874299    0.629236   0.8545        0.785434  0.0366204  0.969657\n",
       " 0.24202     0.0412905  0.759161      0.853017  0.510505   0.442493\n",
       " 0.440395    0.830371   0.811913      0.721099  0.826639   0.047809\n",
       " 0.530148    0.157827   0.832705      0.50416   0.658007   0.267993\n",
       " 0.598227    0.168188   0.135432   …  0.321893  0.367368   0.234831\n",
       " 0.020105    0.787796   0.965         0.903477  0.04886    0.888485\n",
       " 0.598985    0.42919    0.277002      0.553331  0.59476    0.122899\n",
       " ⋮                                 ⋱                       \n",
       " 0.633263    0.165443   0.730719      0.834513  0.873358   0.862219\n",
       " 0.0179981   0.775039   0.427281      0.106088  0.846366   0.141032\n",
       " 0.545745    0.678654   0.470524   …  0.76537   0.687597   0.987\n",
       " 0.336446    0.203713   0.027417      0.417038  0.0228934  0.0942171\n",
       " 0.296631    0.726207   0.835823      0.213475  0.503521   0.214674\n",
       " 0.974823    0.220323   0.916968      0.043271  0.317805   0.926012\n",
       " 0.478525    0.61222    0.496073      0.58387   0.854616   0.977199\n",
       " 0.577969    0.938487   0.596704   …  0.84691   0.0752539  0.94081\n",
       " 0.90268     0.317044   0.107076      0.435397  0.48521    0.273647\n",
       " 0.0397473   0.830174   0.0895971     0.601669  0.589596   0.30301\n",
       " 0.343061    0.0581158  0.893943      0.790564  0.353447   0.360234\n",
       " 0.78009     0.99024    0.564961      0.915723  0.541162   0.943523"
      ]
     },
     "execution_count": 19,
     "metadata": {},
     "output_type": "execute_result"
    }
   ],
   "source": [
    "matrix1_restored = deserialize(\"matrix1.jls\")"
   ]
  },
  {
   "cell_type": "markdown",
   "metadata": {},
   "source": [
    "`jls` files can only be read by Julia itself and cannot be opened by programms like text editor or excel. But this comes with the advantage of superior speed.  `Serialization` is around 10-1000 times faster than any other method to import/export data.  Therefore, if you work on your data in Julia exclusively and want to share it only with people that have/know Julia, `Serialization` is the way to go."
   ]
  },
  {
   "cell_type": "markdown",
   "metadata": {},
   "source": [
    "Comment: Serialization is mainly used in the internals of Julia to exchange objects between different processes/ Julia sessions, ... . Therefore, it is optimized for maximum performance but not necessarily for backwards compatibility. The devs have promised that it won't break between 1.xx versions of Julia, but if at some point a new x.0 version of Julia comes out, there might be issues importing old stored data into the new Julia version.\n",
    "But as the past has shown, even packages, that are focused on long term storage, are not safe from [compatibilty issues](https://discourse.julialang.org/t/jld-jl-vs-jld2-jl/15287). Therefore, we believe that `Serialization` is the currently best and for sure fastest option to save huge junks of data in Julia."
   ]
  },
  {
   "cell_type": "markdown",
   "metadata": {},
   "source": [
    "###  2.2 Human readable data"
   ]
  },
  {
   "cell_type": "markdown",
   "metadata": {},
   "source": [
    "Human readable means, that the exported data can be opened with other programms like text editor, excel, etc,... and then be read and interpreted by a human. The most general way to achive that, is to transform the data into `Strings` and then save them in a `.txt` file. There exist many different ways/standards to do this (`parse, JSON, JSON3, BSON,...`) one worse than the other.Therefore, the course will show you one Julia specific way to do that, because it is the least painful and most general. But exporting/importing your data as `Strings` is never fun/fast or desirable in any way and you should avoid it if possible. "
   ]
  },
  {
   "cell_type": "markdown",
   "metadata": {},
   "source": [
    "To transfrom any variable into a `String`, you can use a function that you already know:  `print()`\n",
    "\n",
    "But this time, you have to combine it with another function `open()`, which opens/creates files. \n",
    "\n",
    "The `print()` function has an optional argument at the beginning, which specifies the target. The default value is the standard output/command line, which you have been using so far without noticing.  But in this case, you want to change it to said file. \n",
    "\n",
    "The `open()` function takes two arguments the first is the path of the file and the second is either `w` for write, `r` for read or `a` for append. "
   ]
  },
  {
   "cell_type": "code",
   "execution_count": 22,
   "metadata": {},
   "outputs": [],
   "source": [
    "print(open(\"matrix3.txt\",\"w\"),matrix1)"
   ]
  },
  {
   "cell_type": "markdown",
   "metadata": {},
   "source": [
    "You can also use another syntax construct that is often used when providing functions as arguments to functions. The `do` construct: \n",
    "\n",
    "``` julia\n",
    "function1(argument1,...) do name\n",
    "    \n",
    "    function2(name,argument2,...)\n",
    "    \n",
    "end\n",
    "    \n",
    "```\n",
    "\n",
    "which is essentially the same as \n",
    "\n",
    "``` julia\n",
    "function2(function1(argument1,...), argument2,...)\n",
    "    \n",
    "  \n",
    "```"
   ]
  },
  {
   "cell_type": "code",
   "execution_count": 24,
   "metadata": {},
   "outputs": [],
   "source": [
    "open(\"matrix4.txt\",\"w\") do file\n",
    "    print(file,matrix1)\n",
    "end"
   ]
  },
  {
   "cell_type": "markdown",
   "metadata": {},
   "source": [
    "You can `print` different datatypes with this method into a file: "
   ]
  },
  {
   "cell_type": "code",
   "execution_count": 25,
   "metadata": {},
   "outputs": [],
   "source": [
    "rockets_dic = Dict(\"SpaceX\" =>\"Starship\", \"NASA\" =>\"SLS\",\"ULA\" => \"AtlasV\")\n",
    "number_vec = collect(1:50)\n",
    "hansi = \"hansi geht in die hütten\" \n",
    "\n",
    "open(\"hansi.txt\",\"w\") do file\n",
    "    print(file,hansi)\n",
    "end\n",
    "\n",
    "open(\"rockets.txt\",\"w\") do file\n",
    "    print(file,rockets_dic)\n",
    "end\n",
    "\n",
    "open(\"numbers.txt\",\"w\") do file\n",
    "    print(file,number_vec)\n",
    "end"
   ]
  },
  {
   "cell_type": "markdown",
   "metadata": {},
   "source": [
    "Now five new `.txt` files should have been created inside the folder of this notebook. You can use `Notepad`, `JupyterLab` or many other programms to inspect their contents. "
   ]
  },
  {
   "cell_type": "markdown",
   "metadata": {},
   "source": [
    "If you want to import the printed data back into Julia, you can use the `read()` function together with `open()`."
   ]
  },
  {
   "cell_type": "code",
   "execution_count": 26,
   "metadata": {},
   "outputs": [
    {
     "data": {
      "text/plain": [
       "\"hansi geht in die hütten\""
      ]
     },
     "execution_count": 26,
     "metadata": {},
     "output_type": "execute_result"
    }
   ],
   "source": [
    "open(\"hansi.txt\",\"r\") do file\n",
    "    read(file,String)\n",
    "end "
   ]
  },
  {
   "cell_type": "markdown",
   "metadata": {},
   "source": [
    "But the more convenient way to do that is to use the function `readline()`, which  takes the path to a file as argument. "
   ]
  },
  {
   "cell_type": "code",
   "execution_count": 27,
   "metadata": {},
   "outputs": [
    {
     "data": {
      "text/plain": [
       "\"hansi geht in die hütten\""
      ]
     },
     "execution_count": 27,
     "metadata": {},
     "output_type": "execute_result"
    }
   ],
   "source": [
    "hansi_restored = readline(\"hansi.txt\")"
   ]
  },
  {
   "cell_type": "markdown",
   "metadata": {},
   "source": [
    "`readline()` always returns a `Strings`. If the original Julia object was a `String` in the frist place, everything works fine, but you will run into problems if the restored data wasn't originally a string."
   ]
  },
  {
   "cell_type": "code",
   "execution_count": 28,
   "metadata": {},
   "outputs": [
    {
     "data": {
      "text/plain": [
       "\"[1, 2, 3, 4, 5, 6, 7, 8, 9, 10, 11, 12, 13, 14, 15, 16, 17, 18, 19, 20, 21, 22, 23, 24, 25, 26, 27, 28, 29, 30, 31, 32, 33, 34, 35, 36, 37, 38, 39, 40, 41, 42, 43, 44, 45, 46, 47, 48, 49, 50]\""
      ]
     },
     "execution_count": 28,
     "metadata": {},
     "output_type": "execute_result"
    }
   ],
   "source": [
    "number_vec_restored_string = readline(\"numbers.txt\")"
   ]
  },
  {
   "cell_type": "markdown",
   "metadata": {},
   "source": [
    "This oject which was an `Int64[]` array before,  is now a `String`. How can you transform it back to an array of type`Int64[]` ? One possible solution to this problem is the `parse()` function. \n"
   ]
  },
  {
   "cell_type": "code",
   "execution_count": 29,
   "metadata": {},
   "outputs": [
    {
     "data": {
      "text/plain": [
       "1"
      ]
     },
     "execution_count": 29,
     "metadata": {},
     "output_type": "execute_result"
    }
   ],
   "source": [
    "parse(Int64,number_vec_restored_string[2])"
   ]
  },
  {
   "cell_type": "code",
   "execution_count": 30,
   "metadata": {},
   "outputs": [
    {
     "data": {
      "text/plain": [
       "10"
      ]
     },
     "execution_count": 30,
     "metadata": {},
     "output_type": "execute_result"
    }
   ],
   "source": [
    "parse(Int64,number_vec_restored_string[29:30])"
   ]
  },
  {
   "cell_type": "code",
   "execution_count": 31,
   "metadata": {},
   "outputs": [
    {
     "ename": "LoadError",
     "evalue": "ArgumentError: invalid base 10 digit '[' in \"[1, 2, 3, 4, 5, 6, 7, 8, 9, 10, 11, 12, 13, 14, 15, 16, 17, 18, 19, 20, 21, 22, 23, 24, 25, 26, 27, 28, 29, 30, 31, 32, 33, 34, 35, 36, 37, 38, 39, 40, 41, 42, 43, 44, 45, 46, 47, 48, 49, 50]\"",
     "output_type": "error",
     "traceback": [
      "ArgumentError: invalid base 10 digit '[' in \"[1, 2, 3, 4, 5, 6, 7, 8, 9, 10, 11, 12, 13, 14, 15, 16, 17, 18, 19, 20, 21, 22, 23, 24, 25, 26, 27, 28, 29, 30, 31, 32, 33, 34, 35, 36, 37, 38, 39, 40, 41, 42, 43, 44, 45, 46, 47, 48, 49, 50]\"",
      "",
      "Stacktrace:",
      " [1] tryparse_internal(#unused#::Type{Int64}, s::String, startpos::Int64, endpos::Int64, base_::Int64, raise::Bool)",
      "   @ Base .\\parse.jl:137",
      " [2] parse(::Type{Int64}, s::String; base::Nothing)",
      "   @ Base .\\parse.jl:241",
      " [3] parse(::Type{Int64}, s::String)",
      "   @ Base .\\parse.jl:240",
      " [4] top-level scope",
      "   @ In[31]:1"
     ]
    }
   ],
   "source": [
    "parse(Int64,number_vec_restored_string)"
   ]
  },
  {
   "cell_type": "markdown",
   "metadata": {},
   "source": [
    "The problem is, that `parse()` only works for the parts of the string that soley consist of numbers. Therefore, parsing single numeric types like `Int64` or `Float64` can be done easily, but not composite data types like `array` or e.g. `dicts`, which also include other characters like `,` or `[`,... in their `String` representation. \n",
    "\n",
    "Now the \"fun\" part starts and you have to transform the string to sth. that is \"parseable\"."
   ]
  },
  {
   "cell_type": "markdown",
   "metadata": {},
   "source": [
    "Here is one possible way to make the string parseable: \n",
    "\n",
    "1. Cut of the the brackets at the start and end \n",
    "\n",
    "2. Transform the `String` into a array of `Strings` with the `split()` function. Whereas the `,` is the symbol that indicates a \"spliting point\" for the `split()` function\n",
    "\n",
    "3. Apply the broadcasted `parse.()` version of the `parse() `function with the `.` operator to every entry of the array of `Strings`    "
   ]
  },
  {
   "cell_type": "code",
   "execution_count": 32,
   "metadata": {},
   "outputs": [
    {
     "name": "stdout",
     "output_type": "stream",
     "text": [
      "[1, 2, 3, 4, 5, 6, 7, 8, 9, 10, 11, 12, 13, 14, 15, 16, 17, 18, 19, 20, 21, 22, 23, 24, 25, 26, 27, 28, 29, 30, 31, 32, 33, 34, 35, 36, 37, 38, 39, 40, 41, 42, 43, 44, 45, 46, 47, 48, 49, 50]\n"
     ]
    }
   ],
   "source": [
    "numb_vec_restored1 = parse.(Int64, split(number_vec_restored_string[2:end-1],\",\"))\n",
    "println(numb_vec_restored1)"
   ]
  },
  {
   "cell_type": "markdown",
   "metadata": {},
   "source": [
    "Overall this procedure is lengthy, annoying and needs to be changed for every datatype. For example, it wouldn't be possible to parse a 2D array in this way.  \n",
    "\n",
    "This arises the obvious question: Isn't there a better way to do this ? \n",
    "\n",
    "In many programming languages, the best answer would be `JSON`. `JSON` is a standardized file format to parse complex objects to human-readable Strings representations. It was originally derived from JavaScript (JSON is short for JavaScript Object Notation) but is language independent. Julia also provides a [JSON-package](https://docs.juliahub.com/JSON/uf6oy/0.21.0/).  This can be very useful when you want to exchange  data between languages. But the downsides are a lot of overhead and slow execution speed. \n",
    "\n",
    "`Julia` offers a more natural alternative, which is part of one of the languages core features called [metaprogramming](https://docs.julialang.org/en/v1/manual/metaprogramming/). Which essentially means that \"Julia represents its own code as a data structure of the language itself\". Or, in more under stable terms, Julia itself can read and understand Julia source code. Surprisingly, this is a quite rare feature among programming languages, as most of the time the \"read and understand source code\" part is handled by a separate unity called the compiler/interpreter and not by the language itself. This opens the door to many very advanced programming patterns like live creation & execution of Julia source code during runtime,macros, ...\n",
    "\n",
    "You won't use such advanced features here, except for one small part: Julia can evaluate every `String` not only as a `String` but also as source code.  "
   ]
  },
  {
   "cell_type": "markdown",
   "metadata": {},
   "source": [
    "The `Meta.pase()` function transform a `String` into a `Julia` expression which can be evaluated with `eval()`. "
   ]
  },
  {
   "cell_type": "code",
   "execution_count": 33,
   "metadata": {},
   "outputs": [
    {
     "data": {
      "text/plain": [
       "100"
      ]
     },
     "execution_count": 33,
     "metadata": {},
     "output_type": "execute_result"
    }
   ],
   "source": [
    "test_expression = \"z = 100\"\n",
    "eval(Meta.parse(test_expression))\n",
    "z"
   ]
  },
  {
   "cell_type": "markdown",
   "metadata": {},
   "source": [
    "This an obviously very complicated way to create a variable `z` with content `100`. But, this feature also offers a nice alternative to parse a `String` if the string represents correct Julia source code. In this case the String `number_vec_restored_string` is correct source code for the definition of an array. Therefore it can be evaluated: "
   ]
  },
  {
   "cell_type": "code",
   "execution_count": 34,
   "metadata": {},
   "outputs": [
    {
     "data": {
      "text/plain": [
       "50-element Vector{Int64}:\n",
       "  1\n",
       "  2\n",
       "  3\n",
       "  4\n",
       "  5\n",
       "  6\n",
       "  7\n",
       "  8\n",
       "  9\n",
       " 10\n",
       " 11\n",
       " 12\n",
       " 13\n",
       "  ⋮\n",
       " 39\n",
       " 40\n",
       " 41\n",
       " 42\n",
       " 43\n",
       " 44\n",
       " 45\n",
       " 46\n",
       " 47\n",
       " 48\n",
       " 49\n",
       " 50"
      ]
     },
     "execution_count": 34,
     "metadata": {},
     "output_type": "execute_result"
    }
   ],
   "source": [
    "number_vec_restored2 = eval(Meta.parse(number_vec_restored_string))\n",
    "number_vec_restored2"
   ]
  },
  {
   "cell_type": "markdown",
   "metadata": {},
   "source": [
    "With this syntax you can import everything you have printed to a file with `print`. "
   ]
  },
  {
   "cell_type": "code",
   "execution_count": 35,
   "metadata": {},
   "outputs": [
    {
     "data": {
      "text/plain": [
       "\"Dict(\\\"ULA\\\" => \\\"AtlasV\\\", \\\"SpaceX\\\" => \\\"Starship\\\", \\\"NASA\\\" => \\\"SLS\\\")\""
      ]
     },
     "execution_count": 35,
     "metadata": {},
     "output_type": "execute_result"
    }
   ],
   "source": [
    "rocket_string = readline(\"rockets.txt\")"
   ]
  },
  {
   "cell_type": "code",
   "execution_count": 36,
   "metadata": {},
   "outputs": [
    {
     "data": {
      "text/plain": [
       "Dict{String, String} with 3 entries:\n",
       "  \"ULA\"    => \"AtlasV\"\n",
       "  \"SpaceX\" => \"Starship\"\n",
       "  \"NASA\"   => \"SLS\""
      ]
     },
     "execution_count": 36,
     "metadata": {},
     "output_type": "execute_result"
    }
   ],
   "source": [
    "eval(Meta.parse(rocket_string))"
   ]
  },
  {
   "cell_type": "code",
   "execution_count": 37,
   "metadata": {},
   "outputs": [
    {
     "data": {
      "text/plain": [
       "\"[0.9066517490396916 0.48634155163783954 0.366300338752823 0.14640766041060893 0.9586353253783576 0.5597539584708467 0.12506175502119898 0.6097907974568008 0.3742905585538756 0.39652449986835026 0.1900775461341323 0.7061552771268929 0.22554406711945707 0.922361130506073\" ⋯ 192268 bytes ⋯ \".4214907235750689 0.6859828328678925 0.19582852132481132 0.4011156346607949 0.36632241436514157 0.8693149969067953 0.13740827291132374 0.844571001364559 0.35408054297083225 0.49300372159346484 0.9923658300672143 0.9157232187066267 0.5411624956642348 0.9435227517238686]\""
      ]
     },
     "execution_count": 37,
     "metadata": {},
     "output_type": "execute_result"
    }
   ],
   "source": [
    "matrix_string = readline(\"matrix4.txt\")"
   ]
  },
  {
   "cell_type": "code",
   "execution_count": 38,
   "metadata": {},
   "outputs": [
    {
     "data": {
      "text/plain": [
       "100×100 Matrix{Float64}:\n",
       " 0.906652    0.486342   0.3663     …  0.666252  0.670681   0.768096\n",
       " 0.305836    0.122622   0.789427      0.16382   0.076369   0.246166\n",
       " 0.248224    0.608864   0.635913      0.906236  0.628231   0.326497\n",
       " 0.527769    0.267786   0.196965      0.302819  0.754086   0.372124\n",
       " 0.548042    0.632777   0.485998      0.647427  0.929124   0.592678\n",
       " 0.00254681  0.506685   0.85951    …  0.79072   0.263636   0.434229\n",
       " 0.874299    0.629236   0.8545        0.785434  0.0366204  0.969657\n",
       " 0.24202     0.0412905  0.759161      0.853017  0.510505   0.442493\n",
       " 0.440395    0.830371   0.811913      0.721099  0.826639   0.047809\n",
       " 0.530148    0.157827   0.832705      0.50416   0.658007   0.267993\n",
       " 0.598227    0.168188   0.135432   …  0.321893  0.367368   0.234831\n",
       " 0.020105    0.787796   0.965         0.903477  0.04886    0.888485\n",
       " 0.598985    0.42919    0.277002      0.553331  0.59476    0.122899\n",
       " ⋮                                 ⋱                       \n",
       " 0.633263    0.165443   0.730719      0.834513  0.873358   0.862219\n",
       " 0.0179981   0.775039   0.427281      0.106088  0.846366   0.141032\n",
       " 0.545745    0.678654   0.470524   …  0.76537   0.687597   0.987\n",
       " 0.336446    0.203713   0.027417      0.417038  0.0228934  0.0942171\n",
       " 0.296631    0.726207   0.835823      0.213475  0.503521   0.214674\n",
       " 0.974823    0.220323   0.916968      0.043271  0.317805   0.926012\n",
       " 0.478525    0.61222    0.496073      0.58387   0.854616   0.977199\n",
       " 0.577969    0.938487   0.596704   …  0.84691   0.0752539  0.94081\n",
       " 0.90268     0.317044   0.107076      0.435397  0.48521    0.273647\n",
       " 0.0397473   0.830174   0.0895971     0.601669  0.589596   0.30301\n",
       " 0.343061    0.0581158  0.893943      0.790564  0.353447   0.360234\n",
       " 0.78009     0.99024    0.564961      0.915723  0.541162   0.943523"
      ]
     },
     "execution_count": 38,
     "metadata": {},
     "output_type": "execute_result"
    }
   ],
   "source": [
    "eval(Meta.parse(matrix_string))"
   ]
  },
  {
   "cell_type": "markdown",
   "metadata": {},
   "source": [
    "#### Final Note: Even though, you now know various ways to write/read data from .txt files in Julia you should never do any of that unless you are forced to by powers out of your control.  "
   ]
  },
  {
   "cell_type": "markdown",
   "metadata": {},
   "source": [
    "###  2.3 Human readable data and usable -> DataFrames.jl and CSV.jl"
   ]
  },
  {
   "cell_type": "markdown",
   "metadata": {},
   "source": [
    "But what is the right way to save data in a humanredable, exchangeable and usable way without needing to do all the tedious stuff in the previous chapter ?  \n",
    "The solution are the packages `DataFrames` and `CSV` . "
   ]
  },
  {
   "cell_type": "code",
   "execution_count": 40,
   "metadata": {},
   "outputs": [],
   "source": [
    "using DataFrames, CSV"
   ]
  },
  {
   "cell_type": "markdown",
   "metadata": {},
   "source": [
    "For scientific applications, numerical data is usally shared in the `.csv` (comma separated values) format. Therefore, if you want to share your data you should always provide it as `.csv` files. The `CSV` package provides an simple interface to import and export csv formated data into Julia. This comes with the limitation/benefit that you are forced to format your data as a `DataFrame` object from the `DataFrames` package. "
   ]
  },
  {
   "cell_type": "markdown",
   "metadata": {},
   "source": [
    "A `DataFrame` is essential a table, where each colum is a `Vector` of any type. The `DataFrames` package additionally provides a lot of data analysis feature, which you will learn in the next lesson. "
   ]
  },
  {
   "cell_type": "markdown",
   "metadata": {},
   "source": [
    "If you want to save a vector as a `.csv` file you need to convert into a `Dataframe` first. "
   ]
  },
  {
   "cell_type": "code",
   "execution_count": 41,
   "metadata": {},
   "outputs": [
    {
     "data": {
      "text/html": [
       "<div><div style = \"float: left;\"><span>12×1 DataFrame</span></div><div style = \"clear: both;\"></div></div><div class = \"data-frame\" style = \"overflow-x: scroll;\"><table class = \"data-frame\" style = \"margin-bottom: 6px;\"><thead><tr class = \"header\"><th class = \"rowNumber\" style = \"font-weight: bold; text-align: right;\">Row</th><th style = \"text-align: left;\">number</th></tr><tr class = \"subheader headerLastRow\"><th class = \"rowNumber\" style = \"font-weight: bold; text-align: right;\"></th><th title = \"Int64\" style = \"text-align: left;\">Int64</th></tr></thead><tbody><tr><td class = \"rowNumber\" style = \"font-weight: bold; text-align: right;\">1</td><td style = \"text-align: right;\">10</td></tr><tr><td class = \"rowNumber\" style = \"font-weight: bold; text-align: right;\">2</td><td style = \"text-align: right;\">20</td></tr><tr><td class = \"rowNumber\" style = \"font-weight: bold; text-align: right;\">3</td><td style = \"text-align: right;\">30</td></tr><tr><td class = \"rowNumber\" style = \"font-weight: bold; text-align: right;\">4</td><td style = \"text-align: right;\">40</td></tr><tr><td class = \"rowNumber\" style = \"font-weight: bold; text-align: right;\">5</td><td style = \"text-align: right;\">50</td></tr><tr><td class = \"rowNumber\" style = \"font-weight: bold; text-align: right;\">6</td><td style = \"text-align: right;\">60</td></tr><tr><td class = \"rowNumber\" style = \"font-weight: bold; text-align: right;\">7</td><td style = \"text-align: right;\">70</td></tr><tr><td class = \"rowNumber\" style = \"font-weight: bold; text-align: right;\">8</td><td style = \"text-align: right;\">80</td></tr><tr><td class = \"rowNumber\" style = \"font-weight: bold; text-align: right;\">9</td><td style = \"text-align: right;\">90</td></tr><tr><td class = \"rowNumber\" style = \"font-weight: bold; text-align: right;\">10</td><td style = \"text-align: right;\">100</td></tr><tr><td class = \"rowNumber\" style = \"font-weight: bold; text-align: right;\">11</td><td style = \"text-align: right;\">110</td></tr><tr><td class = \"rowNumber\" style = \"font-weight: bold; text-align: right;\">12</td><td style = \"text-align: right;\">120</td></tr></tbody></table></div>"
      ],
      "text/latex": [
       "\\begin{tabular}{r|c}\n",
       "\t& number\\\\\n",
       "\t\\hline\n",
       "\t& Int64\\\\\n",
       "\t\\hline\n",
       "\t1 & 10 \\\\\n",
       "\t2 & 20 \\\\\n",
       "\t3 & 30 \\\\\n",
       "\t4 & 40 \\\\\n",
       "\t5 & 50 \\\\\n",
       "\t6 & 60 \\\\\n",
       "\t7 & 70 \\\\\n",
       "\t8 & 80 \\\\\n",
       "\t9 & 90 \\\\\n",
       "\t10 & 100 \\\\\n",
       "\t11 & 110 \\\\\n",
       "\t12 & 120 \\\\\n",
       "\\end{tabular}\n"
      ],
      "text/plain": [
       "\u001b[1m12×1 DataFrame\u001b[0m\n",
       "\u001b[1m Row \u001b[0m│\u001b[1m number \u001b[0m\n",
       "     │\u001b[90m Int64  \u001b[0m\n",
       "─────┼────────\n",
       "   1 │     10\n",
       "   2 │     20\n",
       "   3 │     30\n",
       "   4 │     40\n",
       "   5 │     50\n",
       "   6 │     60\n",
       "   7 │     70\n",
       "   8 │     80\n",
       "   9 │     90\n",
       "  10 │    100\n",
       "  11 │    110\n",
       "  12 │    120"
      ]
     },
     "execution_count": 41,
     "metadata": {},
     "output_type": "execute_result"
    }
   ],
   "source": [
    "number_vec = collect(10:10:120)\n",
    "Number_df = DataFrame(number = number_vec)"
   ]
  },
  {
   "cell_type": "markdown",
   "metadata": {},
   "source": [
    "A column can be accessed by its name and a `.`."
   ]
  },
  {
   "cell_type": "code",
   "execution_count": 42,
   "metadata": {},
   "outputs": [
    {
     "data": {
      "text/plain": [
       "12-element Vector{Int64}:\n",
       "  10\n",
       "  20\n",
       "  30\n",
       "  40\n",
       "  50\n",
       "  60\n",
       "  70\n",
       "  80\n",
       "  90\n",
       " 100\n",
       " 110\n",
       " 120"
      ]
     },
     "execution_count": 42,
     "metadata": {},
     "output_type": "execute_result"
    }
   ],
   "source": [
    "Number_df.number"
   ]
  },
  {
   "cell_type": "markdown",
   "metadata": {},
   "source": [
    "Then we can use the `CSV.write()` function to save our dataframe on the given path. "
   ]
  },
  {
   "cell_type": "code",
   "execution_count": 44,
   "metadata": {},
   "outputs": [
    {
     "data": {
      "text/plain": [
       "\"numbers.csv\""
      ]
     },
     "execution_count": 44,
     "metadata": {},
     "output_type": "execute_result"
    }
   ],
   "source": [
    "CSV.write(\"numbers.csv\",Number_df)"
   ]
  },
  {
   "cell_type": "markdown",
   "metadata": {},
   "source": [
    "The function `CSV.File(path)` returns a table object that can be transformed back into a Dataframe with the `DataFrame()` function."
   ]
  },
  {
   "cell_type": "code",
   "execution_count": 45,
   "metadata": {},
   "outputs": [
    {
     "data": {
      "text/plain": [
       "12-element CSV.File:\n",
       " CSV.Row: (number = 10,)\n",
       " CSV.Row: (number = 20,)\n",
       " CSV.Row: (number = 30,)\n",
       " CSV.Row: (number = 40,)\n",
       " CSV.Row: (number = 50,)\n",
       " CSV.Row: (number = 60,)\n",
       " CSV.Row: (number = 70,)\n",
       " CSV.Row: (number = 80,)\n",
       " CSV.Row: (number = 90,)\n",
       " CSV.Row: (number = 100,)\n",
       " CSV.Row: (number = 110,)\n",
       " CSV.Row: (number = 120,)"
      ]
     },
     "execution_count": 45,
     "metadata": {},
     "output_type": "execute_result"
    }
   ],
   "source": [
    "numbers_table = CSV.File(\"numbers.csv\")"
   ]
  },
  {
   "cell_type": "code",
   "execution_count": 46,
   "metadata": {},
   "outputs": [
    {
     "data": {
      "text/html": [
       "<div><div style = \"float: left;\"><span>12×1 DataFrame</span></div><div style = \"clear: both;\"></div></div><div class = \"data-frame\" style = \"overflow-x: scroll;\"><table class = \"data-frame\" style = \"margin-bottom: 6px;\"><thead><tr class = \"header\"><th class = \"rowNumber\" style = \"font-weight: bold; text-align: right;\">Row</th><th style = \"text-align: left;\">number</th></tr><tr class = \"subheader headerLastRow\"><th class = \"rowNumber\" style = \"font-weight: bold; text-align: right;\"></th><th title = \"Int64\" style = \"text-align: left;\">Int64</th></tr></thead><tbody><tr><td class = \"rowNumber\" style = \"font-weight: bold; text-align: right;\">1</td><td style = \"text-align: right;\">10</td></tr><tr><td class = \"rowNumber\" style = \"font-weight: bold; text-align: right;\">2</td><td style = \"text-align: right;\">20</td></tr><tr><td class = \"rowNumber\" style = \"font-weight: bold; text-align: right;\">3</td><td style = \"text-align: right;\">30</td></tr><tr><td class = \"rowNumber\" style = \"font-weight: bold; text-align: right;\">4</td><td style = \"text-align: right;\">40</td></tr><tr><td class = \"rowNumber\" style = \"font-weight: bold; text-align: right;\">5</td><td style = \"text-align: right;\">50</td></tr><tr><td class = \"rowNumber\" style = \"font-weight: bold; text-align: right;\">6</td><td style = \"text-align: right;\">60</td></tr><tr><td class = \"rowNumber\" style = \"font-weight: bold; text-align: right;\">7</td><td style = \"text-align: right;\">70</td></tr><tr><td class = \"rowNumber\" style = \"font-weight: bold; text-align: right;\">8</td><td style = \"text-align: right;\">80</td></tr><tr><td class = \"rowNumber\" style = \"font-weight: bold; text-align: right;\">9</td><td style = \"text-align: right;\">90</td></tr><tr><td class = \"rowNumber\" style = \"font-weight: bold; text-align: right;\">10</td><td style = \"text-align: right;\">100</td></tr><tr><td class = \"rowNumber\" style = \"font-weight: bold; text-align: right;\">11</td><td style = \"text-align: right;\">110</td></tr><tr><td class = \"rowNumber\" style = \"font-weight: bold; text-align: right;\">12</td><td style = \"text-align: right;\">120</td></tr></tbody></table></div>"
      ],
      "text/latex": [
       "\\begin{tabular}{r|c}\n",
       "\t& number\\\\\n",
       "\t\\hline\n",
       "\t& Int64\\\\\n",
       "\t\\hline\n",
       "\t1 & 10 \\\\\n",
       "\t2 & 20 \\\\\n",
       "\t3 & 30 \\\\\n",
       "\t4 & 40 \\\\\n",
       "\t5 & 50 \\\\\n",
       "\t6 & 60 \\\\\n",
       "\t7 & 70 \\\\\n",
       "\t8 & 80 \\\\\n",
       "\t9 & 90 \\\\\n",
       "\t10 & 100 \\\\\n",
       "\t11 & 110 \\\\\n",
       "\t12 & 120 \\\\\n",
       "\\end{tabular}\n"
      ],
      "text/plain": [
       "\u001b[1m12×1 DataFrame\u001b[0m\n",
       "\u001b[1m Row \u001b[0m│\u001b[1m number \u001b[0m\n",
       "     │\u001b[90m Int64  \u001b[0m\n",
       "─────┼────────\n",
       "   1 │     10\n",
       "   2 │     20\n",
       "   3 │     30\n",
       "   4 │     40\n",
       "   5 │     50\n",
       "   6 │     60\n",
       "   7 │     70\n",
       "   8 │     80\n",
       "   9 │     90\n",
       "  10 │    100\n",
       "  11 │    110\n",
       "  12 │    120"
      ]
     },
     "execution_count": 46,
     "metadata": {},
     "output_type": "execute_result"
    }
   ],
   "source": [
    "numbers_df = DataFrame(numbers_table)"
   ]
  },
  {
   "cell_type": "markdown",
   "metadata": {},
   "source": [
    "Comment: This might be the first time, that you encounter an operator ( in this case `.`), that has different effects depending on the context. Once as a way to apply a function elementwise on a collection,  second as a way to access subobjects (`Vectors`) of a more complex object (`Dataframe`) and third to call specific functions from a pacakge (`CSV.write`). Don't worry, this might be confusing at first but is pretty common in programming. You get used to it very fast ! "
   ]
  },
  {
   "cell_type": "markdown",
   "metadata": {},
   "source": [
    "You can also use these two functions nested. The `CSV.File` function also has some useful additional keyword arguments like `header` which specifies which row should be read as the head of the table."
   ]
  },
  {
   "cell_type": "code",
   "execution_count": 48,
   "metadata": {},
   "outputs": [
    {
     "data": {
      "text/html": [
       "<div><div style = \"float: left;\"><span>58×15 DataFrame</span></div><div style = \"float: right;\"><span style = \"font-style: italic;\">33 rows omitted</span></div><div style = \"clear: both;\"></div></div><div class = \"data-frame\" style = \"overflow-x: scroll;\"><table class = \"data-frame\" style = \"margin-bottom: 6px;\"><thead><tr class = \"header\"><th class = \"rowNumber\" style = \"font-weight: bold; text-align: right;\">Row</th><th style = \"text-align: left;\">ObjectID</th><th style = \"text-align: left;\">Label</th><th style = \"text-align: left;\">Centroid</th><th style = \"text-align: left;\">MeanIntensity</th><th style = \"text-align: left;\">StandardDeviationIntensity</th><th style = \"text-align: left;\">MaxIntensity</th><th style = \"text-align: left;\">MinIntensity</th><th style = \"text-align: left;\">TotalIntensity</th><th style = \"text-align: left;\">Area</th><th style = \"text-align: left;\">Count</th><th style = \"text-align: left;\">EquivalentDiskRadius</th><th style = \"text-align: left;\">Elongation</th><th style = \"text-align: left;\">Eccentricity</th><th style = \"text-align: left;\">Circularity</th><th style = \"text-align: left;\">BoundingBox</th></tr><tr class = \"subheader headerLastRow\"><th class = \"rowNumber\" style = \"font-weight: bold; text-align: right;\"></th><th title = \"Int64\" style = \"text-align: left;\">Int64</th><th title = \"Int64\" style = \"text-align: left;\">Int64</th><th title = \"String\" style = \"text-align: left;\">String</th><th title = \"Float64\" style = \"text-align: left;\">Float64</th><th title = \"Float64\" style = \"text-align: left;\">Float64</th><th title = \"Float64\" style = \"text-align: left;\">Float64</th><th title = \"Float64\" style = \"text-align: left;\">Float64</th><th title = \"Float64\" style = \"text-align: left;\">Float64</th><th title = \"Float64\" style = \"text-align: left;\">Float64</th><th title = \"Int64\" style = \"text-align: left;\">Int64</th><th title = \"Float64\" style = \"text-align: left;\">Float64</th><th title = \"Float64\" style = \"text-align: left;\">Float64</th><th title = \"Float64\" style = \"text-align: left;\">Float64</th><th title = \"Float64\" style = \"text-align: left;\">Float64</th><th title = \"String31\" style = \"text-align: left;\">String31</th></tr></thead><tbody><tr><td class = \"rowNumber\" style = \"font-weight: bold; text-align: right;\">1</td><td style = \"text-align: right;\">5</td><td style = \"text-align: right;\">5</td><td style = \"text-align: left;\">{448.72869022869025. 497.8035343035343}</td><td style = \"text-align: right;\">0.0156262</td><td style = \"text-align: right;\">0.000931721</td><td style = \"text-align: right;\">0.0179599</td><td style = \"text-align: right;\">0.0133364</td><td style = \"text-align: right;\">7.5162</td><td style = \"text-align: right;\">484.625</td><td style = \"text-align: right;\">481</td><td style = \"text-align: right;\">12.3736</td><td style = \"text-align: right;\">0.106691</td><td style = \"text-align: right;\">0.449443</td><td style = \"text-align: right;\">0.93656</td><td style = \"text-align: left;\">{{435.. 485.}. {463.. 509.}}</td></tr><tr><td class = \"rowNumber\" style = \"font-weight: bold; text-align: right;\">2</td><td style = \"text-align: right;\">6</td><td style = \"text-align: right;\">6</td><td style = \"text-align: left;\">{583.3871165644172. 490.18957055214725}</td><td style = \"text-align: right;\">0.0118093</td><td style = \"text-align: right;\">0.000430682</td><td style = \"text-align: right;\">0.0129549</td><td style = \"text-align: right;\">0.0106508</td><td style = \"text-align: right;\">9.62455</td><td style = \"text-align: right;\">819.375</td><td style = \"text-align: right;\">815</td><td style = \"text-align: right;\">16.1066</td><td style = \"text-align: right;\">0.10129</td><td style = \"text-align: right;\">0.438544</td><td style = \"text-align: right;\">0.941424</td><td style = \"text-align: left;\">{{566.. 474.}. {600.. 506.}}</td></tr><tr><td class = \"rowNumber\" style = \"font-weight: bold; text-align: right;\">3</td><td style = \"text-align: right;\">7</td><td style = \"text-align: right;\">7</td><td style = \"text-align: left;\">{186.3943661971831. 478.2588028169014}</td><td style = \"text-align: right;\">0.0140465</td><td style = \"text-align: right;\">0.000527996</td><td style = \"text-align: right;\">0.0161288</td><td style = \"text-align: right;\">0.0125429</td><td style = \"text-align: right;\">7.97844</td><td style = \"text-align: right;\">571.75</td><td style = \"text-align: right;\">568</td><td style = \"text-align: right;\">13.4462</td><td style = \"text-align: right;\">0.111789</td><td style = \"text-align: right;\">0.459435</td><td style = \"text-align: right;\">0.977536</td><td style = \"text-align: left;\">{{174.. 464.}. {200.. 492.}}</td></tr><tr><td class = \"rowNumber\" style = \"font-weight: bold; text-align: right;\">4</td><td style = \"text-align: right;\">8</td><td style = \"text-align: right;\">8</td><td style = \"text-align: left;\">{267.6122047244094. 475.48228346456693}</td><td style = \"text-align: right;\">0.0144502</td><td style = \"text-align: right;\">0.00083672</td><td style = \"text-align: right;\">0.0168307</td><td style = \"text-align: right;\">0.0125124</td><td style = \"text-align: right;\">7.34072</td><td style = \"text-align: right;\">512.25</td><td style = \"text-align: right;\">508</td><td style = \"text-align: right;\">12.7162</td><td style = \"text-align: right;\">0.544601</td><td style = \"text-align: right;\">0.890287</td><td style = \"text-align: right;\">0.798317</td><td style = \"text-align: left;\">{{248.. 459.}. {282.. 487.}}</td></tr><tr><td class = \"rowNumber\" style = \"font-weight: bold; text-align: right;\">5</td><td style = \"text-align: right;\">9</td><td style = \"text-align: right;\">9</td><td style = \"text-align: left;\">{535.6371841155235. 472.5667870036101}</td><td style = \"text-align: right;\">0.0119992</td><td style = \"text-align: right;\">0.000430933</td><td style = \"text-align: right;\">0.0130617</td><td style = \"text-align: right;\">0.0108492</td><td style = \"text-align: right;\">6.64758</td><td style = \"text-align: right;\">556.875</td><td style = \"text-align: right;\">554</td><td style = \"text-align: right;\">13.2794</td><td style = \"text-align: right;\">0.283091</td><td style = \"text-align: right;\">0.697166</td><td style = \"text-align: right;\">0.921684</td><td style = \"text-align: left;\">{{524.. 457.}. {547.. 488.}}</td></tr><tr><td class = \"rowNumber\" style = \"font-weight: bold; text-align: right;\">6</td><td style = \"text-align: right;\">11</td><td style = \"text-align: right;\">11</td><td style = \"text-align: left;\">{83.59574468085107. 460.04255319148933}</td><td style = \"text-align: right;\">0.0137119</td><td style = \"text-align: right;\">0.000525546</td><td style = \"text-align: right;\">0.0151369</td><td style = \"text-align: right;\">0.0122377</td><td style = \"text-align: right;\">2.57784</td><td style = \"text-align: right;\">189.0</td><td style = \"text-align: right;\">188</td><td style = \"text-align: right;\">7.73578</td><td style = \"text-align: right;\">0.392051</td><td style = \"text-align: right;\">0.793976</td><td style = \"text-align: right;\">0.911685</td><td style = \"text-align: left;\">{{75.. 454.}. {93.. 467.}}</td></tr><tr><td class = \"rowNumber\" style = \"font-weight: bold; text-align: right;\">7</td><td style = \"text-align: right;\">12</td><td style = \"text-align: right;\">12</td><td style = \"text-align: left;\">{625.704938271605. 449.7320987654321}</td><td style = \"text-align: right;\">0.0127423</td><td style = \"text-align: right;\">0.000449244</td><td style = \"text-align: right;\">0.0137942</td><td style = \"text-align: right;\">0.0113375</td><td style = \"text-align: right;\">5.16062</td><td style = \"text-align: right;\">407.625</td><td style = \"text-align: right;\">405</td><td style = \"text-align: right;\">11.3541</td><td style = \"text-align: right;\">0.197412</td><td style = \"text-align: right;\">0.596534</td><td style = \"text-align: right;\">0.918163</td><td style = \"text-align: left;\">{{615.. 437.}. {637.. 462.}}</td></tr><tr><td class = \"rowNumber\" style = \"font-weight: bold; text-align: right;\">8</td><td style = \"text-align: right;\">13</td><td style = \"text-align: right;\">13</td><td style = \"text-align: left;\">{391.2029411764706. 437.6617647058823}</td><td style = \"text-align: right;\">0.013694</td><td style = \"text-align: right;\">0.000698744</td><td style = \"text-align: right;\">0.01561</td><td style = \"text-align: right;\">0.0119936</td><td style = \"text-align: right;\">4.65597</td><td style = \"text-align: right;\">342.75</td><td style = \"text-align: right;\">340</td><td style = \"text-align: right;\">10.4031</td><td style = \"text-align: right;\">0.338417</td><td style = \"text-align: right;\">0.749872</td><td style = \"text-align: right;\">0.894029</td><td style = \"text-align: left;\">{{378.. 428.}. {404.. 446.}}</td></tr><tr><td class = \"rowNumber\" style = \"font-weight: bold; text-align: right;\">9</td><td style = \"text-align: right;\">14</td><td style = \"text-align: right;\">14</td><td style = \"text-align: left;\">{312.9381338742393. 434.6926977687627}</td><td style = \"text-align: right;\">0.0135983</td><td style = \"text-align: right;\">0.000792033</td><td style = \"text-align: right;\">0.0155489</td><td style = \"text-align: right;\">0.0115206</td><td style = \"text-align: right;\">6.70397</td><td style = \"text-align: right;\">496.375</td><td style = \"text-align: right;\">493</td><td style = \"text-align: right;\">12.527</td><td style = \"text-align: right;\">0.378047</td><td style = \"text-align: right;\">0.783055</td><td style = \"text-align: right;\">0.892565</td><td style = \"text-align: left;\">{{303.. 419.}. {323.. 451.}}</td></tr><tr><td class = \"rowNumber\" style = \"font-weight: bold; text-align: right;\">10</td><td style = \"text-align: right;\">15</td><td style = \"text-align: right;\">15</td><td style = \"text-align: left;\">{551.75. 414.6264367816092}</td><td style = \"text-align: right;\">0.0137262</td><td style = \"text-align: right;\">0.000480942</td><td style = \"text-align: right;\">0.0151827</td><td style = \"text-align: right;\">0.0123903</td><td style = \"text-align: right;\">4.77671</td><td style = \"text-align: right;\">350.625</td><td style = \"text-align: right;\">348</td><td style = \"text-align: right;\">10.5248</td><td style = \"text-align: right;\">0.132975</td><td style = \"text-align: right;\">0.498264</td><td style = \"text-align: right;\">0.976822</td><td style = \"text-align: left;\">{{542.. 404.}. {562.. 426.}}</td></tr><tr><td class = \"rowNumber\" style = \"font-weight: bold; text-align: right;\">11</td><td style = \"text-align: right;\">16</td><td style = \"text-align: right;\">16</td><td style = \"text-align: left;\">{182.86402569593147. 410.1509635974304}</td><td style = \"text-align: right;\">0.0146057</td><td style = \"text-align: right;\">0.000549528</td><td style = \"text-align: right;\">0.0159609</td><td style = \"text-align: right;\">0.0130007</td><td style = \"text-align: right;\">6.82087</td><td style = \"text-align: right;\">470.5</td><td style = \"text-align: right;\">467</td><td style = \"text-align: right;\">12.1922</td><td style = \"text-align: right;\">0.11468</td><td style = \"text-align: right;\">0.464981</td><td style = \"text-align: right;\">0.962413</td><td style = \"text-align: left;\">{{171.. 397.}. {196.. 422.}}</td></tr><tr><td class = \"rowNumber\" style = \"font-weight: bold; text-align: right;\">12</td><td style = \"text-align: right;\">17</td><td style = \"text-align: right;\">17</td><td style = \"text-align: left;\">{426.71067415730334. 400.70786516853934}</td><td style = \"text-align: right;\">0.0147574</td><td style = \"text-align: right;\">0.000744104</td><td style = \"text-align: right;\">0.016083</td><td style = \"text-align: right;\">0.0119326</td><td style = \"text-align: right;\">5.25364</td><td style = \"text-align: right;\">358.375</td><td style = \"text-align: right;\">356</td><td style = \"text-align: right;\">10.6451</td><td style = \"text-align: right;\">0.06646</td><td style = \"text-align: right;\">0.358473</td><td style = \"text-align: right;\">0.971179</td><td style = \"text-align: left;\">{{416.. 390.}. {437.. 411.}}</td></tr><tr><td class = \"rowNumber\" style = \"font-weight: bold; text-align: right;\">13</td><td style = \"text-align: right;\">18</td><td style = \"text-align: right;\">18</td><td style = \"text-align: left;\">{674.656862745098. 397.0098039215686}</td><td style = \"text-align: right;\">0.0131775</td><td style = \"text-align: right;\">0.000358297</td><td style = \"text-align: right;\">0.0139773</td><td style = \"text-align: right;\">0.0121767</td><td style = \"text-align: right;\">2.68821</td><td style = \"text-align: right;\">206.125</td><td style = \"text-align: right;\">204</td><td style = \"text-align: right;\">8.05824</td><td style = \"text-align: right;\">0.190939</td><td style = \"text-align: right;\">0.587725</td><td style = \"text-align: right;\">0.936896</td><td style = \"text-align: left;\">{{667.. 388.}. {683.. 406.}}</td></tr><tr><td style = \"text-align: right;\">&vellip;</td><td style = \"text-align: right;\">&vellip;</td><td style = \"text-align: right;\">&vellip;</td><td style = \"text-align: right;\">&vellip;</td><td style = \"text-align: right;\">&vellip;</td><td style = \"text-align: right;\">&vellip;</td><td style = \"text-align: right;\">&vellip;</td><td style = \"text-align: right;\">&vellip;</td><td style = \"text-align: right;\">&vellip;</td><td style = \"text-align: right;\">&vellip;</td><td style = \"text-align: right;\">&vellip;</td><td style = \"text-align: right;\">&vellip;</td><td style = \"text-align: right;\">&vellip;</td><td style = \"text-align: right;\">&vellip;</td><td style = \"text-align: right;\">&vellip;</td><td style = \"text-align: right;\">&vellip;</td></tr><tr><td class = \"rowNumber\" style = \"font-weight: bold; text-align: right;\">47</td><td style = \"text-align: right;\">57</td><td style = \"text-align: right;\">57</td><td style = \"text-align: left;\">{320.625. 83.95913461538464}</td><td style = \"text-align: right;\">0.013685</td><td style = \"text-align: right;\">0.000545369</td><td style = \"text-align: right;\">0.015198</td><td style = \"text-align: right;\">0.0121309</td><td style = \"text-align: right;\">5.69294</td><td style = \"text-align: right;\">419.625</td><td style = \"text-align: right;\">416</td><td style = \"text-align: right;\">11.5073</td><td style = \"text-align: right;\">0.290742</td><td style = \"text-align: right;\">0.704949</td><td style = \"text-align: right;\">0.938841</td><td style = \"text-align: left;\">{{308.. 71.}. {331.. 97.}}</td></tr><tr><td class = \"rowNumber\" style = \"font-weight: bold; text-align: right;\">48</td><td style = \"text-align: right;\">58</td><td style = \"text-align: right;\">58</td><td style = \"text-align: left;\">{262.2097902097902. 79.28205128205127}</td><td style = \"text-align: right;\">0.0147898</td><td style = \"text-align: right;\">0.000848376</td><td style = \"text-align: right;\">0.0173495</td><td style = \"text-align: right;\">0.0125734</td><td style = \"text-align: right;\">12.6897</td><td style = \"text-align: right;\">865.0</td><td style = \"text-align: right;\">858</td><td style = \"text-align: right;\">16.526</td><td style = \"text-align: right;\">0.456755</td><td style = \"text-align: right;\">0.839574</td><td style = \"text-align: right;\">0.871138</td><td style = \"text-align: left;\">{{240.. 62.}. {283.. 97.}}</td></tr><tr><td class = \"rowNumber\" style = \"font-weight: bold; text-align: right;\">49</td><td style = \"text-align: right;\">59</td><td style = \"text-align: right;\">59</td><td style = \"text-align: left;\">{540.9107142857143. 81.02380952380952}</td><td style = \"text-align: right;\">0.0126988</td><td style = \"text-align: right;\">0.000465072</td><td style = \"text-align: right;\">0.0140993</td><td style = \"text-align: right;\">0.0115511</td><td style = \"text-align: right;\">6.40021</td><td style = \"text-align: right;\">507.375</td><td style = \"text-align: right;\">504</td><td style = \"text-align: right;\">12.666</td><td style = \"text-align: right;\">0.0751637</td><td style = \"text-align: right;\">0.380365</td><td style = \"text-align: right;\">0.992507</td><td style = \"text-align: left;\">{{529.. 68.}. {553.. 94.}}</td></tr><tr><td class = \"rowNumber\" style = \"font-weight: bold; text-align: right;\">50</td><td style = \"text-align: right;\">60</td><td style = \"text-align: right;\">60</td><td style = \"text-align: left;\">{68.77067669172932. 72.85338345864659}</td><td style = \"text-align: right;\">0.0126657</td><td style = \"text-align: right;\">0.000569229</td><td style = \"text-align: right;\">0.0141604</td><td style = \"text-align: right;\">0.0111086</td><td style = \"text-align: right;\">8.42267</td><td style = \"text-align: right;\">669.0</td><td style = \"text-align: right;\">665</td><td style = \"text-align: right;\">14.5491</td><td style = \"text-align: right;\">0.258729</td><td style = \"text-align: right;\">0.671206</td><td style = \"text-align: right;\">0.902818</td><td style = \"text-align: left;\">{{52.. 60.}. {86.. 87.}}</td></tr><tr><td class = \"rowNumber\" style = \"font-weight: bold; text-align: right;\">51</td><td style = \"text-align: right;\">61</td><td style = \"text-align: right;\">61</td><td style = \"text-align: left;\">{131.25937904269082. 71.43272962483832}</td><td style = \"text-align: right;\">0.014208</td><td style = \"text-align: right;\">0.000771005</td><td style = \"text-align: right;\">0.0164492</td><td style = \"text-align: right;\">0.0117037</td><td style = \"text-align: right;\">10.9828</td><td style = \"text-align: right;\">777.5</td><td style = \"text-align: right;\">773</td><td style = \"text-align: right;\">15.6861</td><td style = \"text-align: right;\">0.243656</td><td style = \"text-align: right;\">0.654174</td><td style = \"text-align: right;\">0.957701</td><td style = \"text-align: left;\">{{115.. 56.}. {148.. 87.}}</td></tr><tr><td class = \"rowNumber\" style = \"font-weight: bold; text-align: right;\">52</td><td style = \"text-align: right;\">62</td><td style = \"text-align: right;\">62</td><td style = \"text-align: left;\">{383.0037037037037. 61.023456790123475}</td><td style = \"text-align: right;\">0.0149761</td><td style = \"text-align: right;\">0.00064809</td><td style = \"text-align: right;\">0.0163577</td><td style = \"text-align: right;\">0.0132448</td><td style = \"text-align: right;\">6.06534</td><td style = \"text-align: right;\">408.25</td><td style = \"text-align: right;\">405</td><td style = \"text-align: right;\">11.3541</td><td style = \"text-align: right;\">0.199674</td><td style = \"text-align: right;\">0.599564</td><td style = \"text-align: right;\">0.980354</td><td style = \"text-align: left;\">{{372.. 49.}. {394.. 73.}}</td></tr><tr><td class = \"rowNumber\" style = \"font-weight: bold; text-align: right;\">53</td><td style = \"text-align: right;\">63</td><td style = \"text-align: right;\">63</td><td style = \"text-align: left;\">{206.94444444444446. 57.427849927849934}</td><td style = \"text-align: right;\">0.0119122</td><td style = \"text-align: right;\">0.000410484</td><td style = \"text-align: right;\">0.0128939</td><td style = \"text-align: right;\">0.0107424</td><td style = \"text-align: right;\">8.25518</td><td style = \"text-align: right;\">696.75</td><td style = \"text-align: right;\">693</td><td style = \"text-align: right;\">14.8522</td><td style = \"text-align: right;\">0.125842</td><td style = \"text-align: right;\">0.485641</td><td style = \"text-align: right;\">0.830048</td><td style = \"text-align: left;\">{{191.. 43.}. {222.. 75.}}</td></tr><tr><td class = \"rowNumber\" style = \"font-weight: bold; text-align: right;\">54</td><td style = \"text-align: right;\">64</td><td style = \"text-align: right;\">64</td><td style = \"text-align: left;\">{587.6505524861878. 49.280386740331494}</td><td style = \"text-align: right;\">0.0130116</td><td style = \"text-align: right;\">0.000385737</td><td style = \"text-align: right;\">0.0144198</td><td style = \"text-align: right;\">0.011841</td><td style = \"text-align: right;\">9.4204</td><td style = \"text-align: right;\">728.625</td><td style = \"text-align: right;\">724</td><td style = \"text-align: right;\">15.1808</td><td style = \"text-align: right;\">0.164747</td><td style = \"text-align: right;\">0.549866</td><td style = \"text-align: right;\">0.950739</td><td style = \"text-align: left;\">{{571.. 34.}. {604.. 64.}}</td></tr><tr><td class = \"rowNumber\" style = \"font-weight: bold; text-align: right;\">55</td><td style = \"text-align: right;\">65</td><td style = \"text-align: right;\">65</td><td style = \"text-align: left;\">{660.8967611336033. 36.60526315789474}</td><td style = \"text-align: right;\">0.0140233</td><td style = \"text-align: right;\">0.00098166</td><td style = \"text-align: right;\">0.0169833</td><td style = \"text-align: right;\">0.0122072</td><td style = \"text-align: right;\">6.92749</td><td style = \"text-align: right;\">498.25</td><td style = \"text-align: right;\">494</td><td style = \"text-align: right;\">12.5397</td><td style = \"text-align: right;\">0.459715</td><td style = \"text-align: right;\">0.841482</td><td style = \"text-align: right;\">0.837445</td><td style = \"text-align: left;\">{{645.. 24.}. {679.. 47.}}</td></tr><tr><td class = \"rowNumber\" style = \"font-weight: bold; text-align: right;\">56</td><td style = \"text-align: right;\">66</td><td style = \"text-align: right;\">66</td><td style = \"text-align: left;\">{448.05263157894734. 27.127192982456165}</td><td style = \"text-align: right;\">0.0129651</td><td style = \"text-align: right;\">0.000493758</td><td style = \"text-align: right;\">0.0141909</td><td style = \"text-align: right;\">0.0115663</td><td style = \"text-align: right;\">5.91208</td><td style = \"text-align: right;\">459.5</td><td style = \"text-align: right;\">456</td><td style = \"text-align: right;\">12.0478</td><td style = \"text-align: right;\">0.237631</td><td style = \"text-align: right;\">0.647143</td><td style = \"text-align: right;\">0.95101</td><td style = \"text-align: left;\">{{437.. 13.}. {459.. 41.}}</td></tr><tr><td class = \"rowNumber\" style = \"font-weight: bold; text-align: right;\">57</td><td style = \"text-align: right;\">67</td><td style = \"text-align: right;\">67</td><td style = \"text-align: left;\">{304.6867881548975. 22.910022779043288}</td><td style = \"text-align: right;\">0.0131118</td><td style = \"text-align: right;\">0.000510711</td><td style = \"text-align: right;\">0.0145266</td><td style = \"text-align: right;\">0.0117189</td><td style = \"text-align: right;\">5.75608</td><td style = \"text-align: right;\">442.375</td><td style = \"text-align: right;\">439</td><td style = \"text-align: right;\">11.8211</td><td style = \"text-align: right;\">0.175432</td><td style = \"text-align: right;\">0.565762</td><td style = \"text-align: right;\">0.974933</td><td style = \"text-align: left;\">{{294.. 9.}. {316.. 35.}}</td></tr><tr><td class = \"rowNumber\" style = \"font-weight: bold; text-align: right;\">58</td><td style = \"text-align: right;\">68</td><td style = \"text-align: right;\">68</td><td style = \"text-align: left;\">{257.79778672032194. 17.8420523138833}</td><td style = \"text-align: right;\">0.0136089</td><td style = \"text-align: right;\">0.000952809</td><td style = \"text-align: right;\">0.015259</td><td style = \"text-align: right;\">0.0112612</td><td style = \"text-align: right;\">6.76361</td><td style = \"text-align: right;\">500.625</td><td style = \"text-align: right;\">497</td><td style = \"text-align: right;\">12.5778</td><td style = \"text-align: right;\">0.336682</td><td style = \"text-align: right;\">0.748338</td><td style = \"text-align: right;\">0.929612</td><td style = \"text-align: left;\">{{246.. 3.}. {270.. 32.}}</td></tr></tbody></table></div>"
      ],
      "text/latex": [
       "\\begin{tabular}{r|cccccc}\n",
       "\t& ObjectID & Label & Centroid & MeanIntensity & StandardDeviationIntensity & \\\\\n",
       "\t\\hline\n",
       "\t& Int64 & Int64 & String & Float64 & Float64 & \\\\\n",
       "\t\\hline\n",
       "\t1 & 5 & 5 & \\{448.72869022869025. 497.8035343035343\\} & 0.0156262 & 0.000931721 & $\\dots$ \\\\\n",
       "\t2 & 6 & 6 & \\{583.3871165644172. 490.18957055214725\\} & 0.0118093 & 0.000430682 & $\\dots$ \\\\\n",
       "\t3 & 7 & 7 & \\{186.3943661971831. 478.2588028169014\\} & 0.0140465 & 0.000527996 & $\\dots$ \\\\\n",
       "\t4 & 8 & 8 & \\{267.6122047244094. 475.48228346456693\\} & 0.0144502 & 0.00083672 & $\\dots$ \\\\\n",
       "\t5 & 9 & 9 & \\{535.6371841155235. 472.5667870036101\\} & 0.0119992 & 0.000430933 & $\\dots$ \\\\\n",
       "\t6 & 11 & 11 & \\{83.59574468085107. 460.04255319148933\\} & 0.0137119 & 0.000525546 & $\\dots$ \\\\\n",
       "\t7 & 12 & 12 & \\{625.704938271605. 449.7320987654321\\} & 0.0127423 & 0.000449244 & $\\dots$ \\\\\n",
       "\t8 & 13 & 13 & \\{391.2029411764706. 437.6617647058823\\} & 0.013694 & 0.000698744 & $\\dots$ \\\\\n",
       "\t9 & 14 & 14 & \\{312.9381338742393. 434.6926977687627\\} & 0.0135983 & 0.000792033 & $\\dots$ \\\\\n",
       "\t10 & 15 & 15 & \\{551.75. 414.6264367816092\\} & 0.0137262 & 0.000480942 & $\\dots$ \\\\\n",
       "\t11 & 16 & 16 & \\{182.86402569593147. 410.1509635974304\\} & 0.0146057 & 0.000549528 & $\\dots$ \\\\\n",
       "\t12 & 17 & 17 & \\{426.71067415730334. 400.70786516853934\\} & 0.0147574 & 0.000744104 & $\\dots$ \\\\\n",
       "\t13 & 18 & 18 & \\{674.656862745098. 397.0098039215686\\} & 0.0131775 & 0.000358297 & $\\dots$ \\\\\n",
       "\t14 & 19 & 19 & \\{320.51162790697674. 381.9922480620155\\} & 0.0180094 & 0.00137402 & $\\dots$ \\\\\n",
       "\t15 & 20 & 20 & \\{517.9803370786517. 376.5716292134831\\} & 0.0125666 & 0.000378411 & $\\dots$ \\\\\n",
       "\t16 & 22 & 22 & \\{450.6508875739645. 370.26331360946745\\} & 0.0125189 & 0.000530268 & $\\dots$ \\\\\n",
       "\t17 & 23 & 23 & \\{138.77799736495388. 370.8254281949934\\} & 0.0182409 & 0.000949424 & $\\dots$ \\\\\n",
       "\t18 & 24 & 24 & \\{243.50695652173914. 366.0304347826087\\} & 0.0156679 & 0.000668653 & $\\dots$ \\\\\n",
       "\t19 & 25 & 25 & \\{379.33430799220275. 364.0477582846004\\} & 0.0125758 & 0.000435801 & $\\dots$ \\\\\n",
       "\t20 & 26 & 26 & \\{633.9547038327526. 347.6411149825784\\} & 0.0186974 & 0.0010006 & $\\dots$ \\\\\n",
       "\t21 & 28 & 28 & \\{478.704628501827. 334.19305724725945\\} & 0.0119986 & 0.000368206 & $\\dots$ \\\\\n",
       "\t22 & 29 & 29 & \\{197.56311637080867. 327.7011834319527\\} & 0.0135031 & 0.00042158 & $\\dots$ \\\\\n",
       "\t23 & 30 & 30 & \\{536.1111111111111. 323.70833333333337\\} & 0.0140326 & 0.000587693 & $\\dots$ \\\\\n",
       "\t24 & 31 & 31 & \\{311.98387096774195. 319.0268817204301\\} & 0.0166439 & 0.00169053 & $\\dots$ \\\\\n",
       "\t25 & 32 & 32 & \\{655.773137697517. 302.8702031602709\\} & 0.0135659 & 0.000660132 & $\\dots$ \\\\\n",
       "\t26 & 34 & 34 & \\{69.88276181649675. 282.73354958294715\\} & 0.0130058 & 0.000575099 & $\\dots$ \\\\\n",
       "\t27 & 35 & 35 & \\{164.3576923076923. 288.1096153846154\\} & 0.0173742 & 0.00112814 & $\\dots$ \\\\\n",
       "\t28 & 36 & 36 & \\{558.1938405797101. 275.40579710144925\\} & 0.0135796 & 0.00069164 & $\\dots$ \\\\\n",
       "\t29 & 37 & 37 & \\{374.2142857142857. 265.4769585253456\\} & 0.0126431 & 0.000423016 & $\\dots$ \\\\\n",
       "\t30 & 38 & 38 & \\{227.44586894586894. 251.64814814814815\\} & 0.0124358 & 0.000660208 & $\\dots$ \\\\\n",
       "\t$\\dots$ & $\\dots$ & $\\dots$ & $\\dots$ & $\\dots$ & $\\dots$ &  \\\\\n",
       "\\end{tabular}\n"
      ],
      "text/plain": [
       "\u001b[1m58×15 DataFrame\u001b[0m\n",
       "\u001b[1m Row \u001b[0m│\u001b[1m ObjectID \u001b[0m\u001b[1m Label \u001b[0m\u001b[1m Centroid                          \u001b[0m\u001b[1m MeanIntensity \u001b[0m\u001b[1m Stan\u001b[0m ⋯\n",
       "     │\u001b[90m Int64    \u001b[0m\u001b[90m Int64 \u001b[0m\u001b[90m String                            \u001b[0m\u001b[90m Float64       \u001b[0m\u001b[90m Floa\u001b[0m ⋯\n",
       "─────┼──────────────────────────────────────────────────────────────────────────\n",
       "   1 │        5      5  {448.72869022869025. 497.8035343…      0.0156262       ⋯\n",
       "   2 │        6      6  {583.3871165644172. 490.18957055…      0.0118093\n",
       "   3 │        7      7  {186.3943661971831. 478.25880281…      0.0140465\n",
       "   4 │        8      8  {267.6122047244094. 475.48228346…      0.0144502\n",
       "   5 │        9      9  {535.6371841155235. 472.56678700…      0.0119992       ⋯\n",
       "   6 │       11     11  {83.59574468085107. 460.04255319…      0.0137119\n",
       "   7 │       12     12  {625.704938271605. 449.732098765…      0.0127423\n",
       "   8 │       13     13  {391.2029411764706. 437.66176470…      0.013694\n",
       "   9 │       14     14  {312.9381338742393. 434.69269776…      0.0135983       ⋯\n",
       "  10 │       15     15  {551.75. 414.6264367816092}            0.0137262\n",
       "  11 │       16     16  {182.86402569593147. 410.1509635…      0.0146057\n",
       "  ⋮  │    ⋮        ⋮                    ⋮                        ⋮             ⋱\n",
       "  49 │       59     59  {540.9107142857143. 81.023809523…      0.0126988\n",
       "  50 │       60     60  {68.77067669172932. 72.853383458…      0.0126657       ⋯\n",
       "  51 │       61     61  {131.25937904269082. 71.43272962…      0.014208\n",
       "  52 │       62     62  {383.0037037037037. 61.023456790…      0.0149761\n",
       "  53 │       63     63  {206.94444444444446. 57.42784992…      0.0119122\n",
       "  54 │       64     64  {587.6505524861878. 49.280386740…      0.0130116       ⋯\n",
       "  55 │       65     65  {660.8967611336033. 36.605263157…      0.0140233\n",
       "  56 │       66     66  {448.05263157894734. 27.12719298…      0.0129651\n",
       "  57 │       67     67  {304.6867881548975. 22.910022779…      0.0131118\n",
       "  58 │       68     68  {257.79778672032194. 17.84205231…      0.0136089       ⋯\n",
       "\u001b[36m                                                  11 columns and 37 rows omitted\u001b[0m"
      ]
     },
     "execution_count": 48,
     "metadata": {},
     "output_type": "execute_result"
    }
   ],
   "source": [
    "DataFrame(CSV.File(\"DrugScreen1.csv\",header = 1)) "
   ]
  },
  {
   "cell_type": "markdown",
   "metadata": {},
   "source": [
    "Note: If not all colums are displayed, you can change the number of vertical displayed characters in a jupyter notebook by the command: `ENV[\"COLUMNS\"] = 250`. The default value is 100 which can be increased to a number that fits good to your screen. "
   ]
  },
  {
   "cell_type": "code",
   "execution_count": 50,
   "metadata": {},
   "outputs": [
    {
     "data": {
      "text/html": [
       "<div><div style = \"float: left;\"><span>500×7 DataFrame</span></div><div style = \"float: right;\"><span style = \"font-style: italic;\">475 rows omitted</span></div><div style = \"clear: both;\"></div></div><div class = \"data-frame\" style = \"overflow-x: scroll;\"><table class = \"data-frame\" style = \"margin-bottom: 6px;\"><thead><tr class = \"header\"><th class = \"rowNumber\" style = \"font-weight: bold; text-align: right;\">Row</th><th style = \"text-align: left;\">Column1</th><th style = \"text-align: left;\">0</th><th style = \"text-align: left;\">1</th><th style = \"text-align: left;\">2</th><th style = \"text-align: left;\">3</th><th style = \"text-align: left;\">4</th><th style = \"text-align: left;\">5</th></tr><tr class = \"subheader headerLastRow\"><th class = \"rowNumber\" style = \"font-weight: bold; text-align: right;\"></th><th title = \"Int64\" style = \"text-align: left;\">Int64</th><th title = \"Int64\" style = \"text-align: left;\">Int64</th><th title = \"Int64\" style = \"text-align: left;\">Int64</th><th title = \"Int64\" style = \"text-align: left;\">Int64</th><th title = \"String\" style = \"text-align: left;\">String</th><th title = \"Int64\" style = \"text-align: left;\">Int64</th><th title = \"String\" style = \"text-align: left;\">String</th></tr></thead><tbody><tr><td class = \"rowNumber\" style = \"font-weight: bold; text-align: right;\">1</td><td style = \"text-align: right;\">0</td><td style = \"text-align: right;\">1</td><td style = \"text-align: right;\">500</td><td style = \"text-align: right;\">1</td><td style = \"text-align: left;\">[16.70828029922483, 13.868553757227511, 11.318761265247739]</td><td style = \"text-align: right;\">18</td><td style = \"text-align: left;\">[(19.66748048024151, 13.70763285020259, 10.255750668200202), (17.241894987383603, 17.450619454634563, 11.982336240311415), (17.518626929335092, 10.662287015587191, 11.230259559034565), (20.185046423091915, 15.2264962674125, 14.033542356461785), (14.414073796460046, 11.874617928268126, 13.340524275922265), (15.504990729128854, 17.095866033685176, 14.600332348835215), (14.853137396184435, 10.618412896966946, 8.950511606720433), (15.5610547761724, 14.520326574317147, 15.765013811199585), (13.03876997982843, 11.091220636101303, 10.985933884998218), (18.36147867009802, 13.46595673647391, 8.40211455523821), (16.37178308725666, 16.762910942690212, 9.684552370298555), (19.045035031207416, 13.149444202557504, 15.101333199775258), (17.044257063947335, 11.951059506642586, 13.929228309967833), (20.65830972402022, 13.075508458916199, 13.16134618796188), (14.200326611569588, 14.53803916013269, 11.202833308136478), (14.57633673313276, 12.83378753547708, 8.647803630146877), (16.956533973045573, 11.369994633428695, 8.718758955194804), (19.252076927715986, 11.255904567197359, 12.435161957630692)]</td></tr><tr><td class = \"rowNumber\" style = \"font-weight: bold; text-align: right;\">2</td><td style = \"text-align: right;\">1</td><td style = \"text-align: right;\">1</td><td style = \"text-align: right;\">500</td><td style = \"text-align: right;\">2</td><td style = \"text-align: left;\">[17.824286183314427, 20.263867851125152, 9.778457454229168]</td><td style = \"text-align: right;\">15</td><td style = \"text-align: left;\">[(17.241894987383603, 17.450619454634563, 11.982336240311415), (18.72756046866427, 18.754550169380447, 12.910519566467242), (21.225373174193475, 17.10771428259479, 9.468255974942164), (16.206623935840966, 22.247507600460533, 10.584757929035629), (16.37178308725666, 16.762910942690212, 9.684552370298555), (16.125991094426148, 18.810519187938734, 9.521118298932219), (15.249718835119424, 19.891448799859614, 6.908360793407607), (20.12204229592246, 22.240528731683472, 8.876213978714226), (15.20885433614718, 19.410682347469873, 11.343217324835882), (17.55611004262072, 21.427680108771035, 7.091130848274567), (20.127575736594242, 22.345328465274207, 12.6143552712428), (22.6349085934094, 19.721330083619048, 8.8049203498855), (18.387447265886387, 19.198315174472988, 7.148808298828085), (20.085619067764537, 18.08132716597848, 7.271390375621), (17.498454654610498, 21.070590734674195, 12.341620201265254)]</td></tr><tr><td class = \"rowNumber\" style = \"font-weight: bold; text-align: right;\">3</td><td style = \"text-align: right;\">2</td><td style = \"text-align: right;\">1</td><td style = \"text-align: right;\">500</td><td style = \"text-align: right;\">3</td><td style = \"text-align: left;\">[9.406143976123007, 11.226401417223862, 9.4282192927851]</td><td style = \"text-align: right;\">17</td><td style = \"text-align: left;\">[(7.816140205285367, 9.255026338601022, 7.560844909516232), (10.513020951127135, 11.393119291716264, 5.0994865747947715), (8.158760105591512, 12.52122685675443, 12.141637603093452), (12.608172932890636, 9.949801431544708, 9.238803344051197), (10.04280874866686, 7.480804369434725, 9.614615781223012), (11.138583418648135, 11.900741124097722, 10.758676766588579), (7.9849671181794335, 13.779664701381083, 10.182475062529841), (7.69977616108985, 8.33067931653457, 9.521789606157684), (7.718616427559268, 10.150165909357563, 12.759693489317142), (7.89288692517149, 12.646720875592125, 7.246237363970902), (10.145817495236338, 10.250690821487797, 11.694428692239981), (9.179382434962168, 8.998289511404305, 6.021247124032736), (8.697013408378739, 8.381381019744618, 11.279871136000004), (6.653766597818299, 10.248593216973074, 9.063835650014765), (11.646216832119332, 12.80761984084087, 7.8676097424410845), (5.957112478019061, 12.002334626345652, 10.307107103611953), (9.890630813873338, 13.518656678560161, 9.297016268829527)]</td></tr><tr><td class = \"rowNumber\" style = \"font-weight: bold; text-align: right;\">4</td><td style = \"text-align: right;\">3</td><td style = \"text-align: right;\">1</td><td style = \"text-align: right;\">500</td><td style = \"text-align: right;\">4</td><td style = \"text-align: left;\">[13.569180767089106, 8.782800719314455, 15.317873049490633]</td><td style = \"text-align: right;\">15</td><td style = \"text-align: left;\">[(17.044866049414466, 9.972893608704279, 17.973472914135506), (11.315707985957507, 8.194893991523838, 13.57993241377889), (16.569810068391906, 9.986231945710102, 13.21230443953004), (14.650817381814633, 9.834485805693328, 18.767207328199458), (14.414073796460046, 11.874617928268126, 13.340524275922265), (14.07063013504656, 11.362428127000735, 16.33706227443417), (13.495942658776848, 8.434574945985837, 17.908653453636873), (15.995466832722634, 9.288209280912088, 11.281722822424095), (12.224282245320218, 12.381004103334293, 15.950341107713388), (13.292963516226116, 6.9511576313425065, 13.726639755742179), (9.85214563509197, 7.973155101348114, 15.763250863825625), (10.224691419758889, 11.555764334397328, 16.802554103047868), (13.03876997982843, 11.091220636101303, 10.985933884998218), (11.99221104622933, 5.696287382555187, 16.55758225943732), (16.155633795711815, 7.354680693645371, 15.561578281128819)]</td></tr><tr><td class = \"rowNumber\" style = \"font-weight: bold; text-align: right;\">5</td><td style = \"text-align: right;\">4</td><td style = \"text-align: right;\">1</td><td style = \"text-align: right;\">500</td><td style = \"text-align: right;\">5</td><td style = \"text-align: left;\">[6.941439520993351, 20.02045329026919, 6.530043006871796]</td><td style = \"text-align: right;\">14</td><td style = \"text-align: left;\">[(10.501419104169413, 19.541860529946323, 3.2802766236086165), (8.231792462316925, 16.108573645371063, 4.513164939778696), (3.9353704411448156, 18.46626803008536, 6.852564059789246), (8.535661530733021, 19.495343585034735, 10.446394776243082), (9.650168694524048, 17.726189243103306, 7.674917144986944), (8.824788818401045, 21.919593016473957, 5.398568067183219), (7.865572524670267, 23.31779260913582, 9.384228005415608), (7.054589649540936, 17.319158069216765, 7.6134052151051455), (10.312560075826235, 19.275106955259407, 6.499217903694461), (8.297038231406818, 21.231293438740426, 9.126172595857074), (5.6219223935647, 19.086943759427985, 9.881547863609741), (6.878282644017813, 16.856235504017068, 2.8097917739156792), (4.988105802233724, 19.783588900165295, 7.94851490064831), (8.638161639780105, 17.862305454733868, 1.9183748921948005)]</td></tr><tr><td class = \"rowNumber\" style = \"font-weight: bold; text-align: right;\">6</td><td style = \"text-align: right;\">5</td><td style = \"text-align: right;\">1</td><td style = \"text-align: right;\">500</td><td style = \"text-align: right;\">6</td><td style = \"text-align: left;\">[9.45465988517179, 6.146984703590558, 2.75099327439276]</td><td style = \"text-align: right;\">13</td><td style = \"text-align: left;\">[(13.747002155268284, 10.01280601202041, 0.9910048063323277), (11.921082672146346, 14.537493976776346, 0.35245583809883235), (6.241154534142192, 6.4141502316648085, 5.088038589296918), (10.78225344587523, 2.0427352628060294, 6.653983561766031), (11.596828372013855, 7.867129562174245, 3.9891762485122584), (10.045275844787438, 6.23601278319726, 5.041668589298231), (9.753987356189082, 8.608595181906187, 3.2218255971894654), (5.8301450859221235, 8.812538459972513, 3.785618676500642), (7.199180776202523, 11.816459480116201, 2.09039930986656), (11.26699939180856, 4.358679958570106, 3.673038351702487), (8.090009988611293, 4.827821457841861, 5.975585110262062), (13.030229614112601, 6.453314553983178, 3.6486703651993695), (5.292581811097379, 11.966918016515347, 2.951012373992139)]</td></tr><tr><td class = \"rowNumber\" style = \"font-weight: bold; text-align: right;\">7</td><td style = \"text-align: right;\">6</td><td style = \"text-align: right;\">1</td><td style = \"text-align: right;\">500</td><td style = \"text-align: right;\">7</td><td style = \"text-align: left;\">[1.9911999167052312, 12.412597037180841, 11.99622717507754]</td><td style = \"text-align: right;\">12</td><td style = \"text-align: left;\">[(5.957112478019061, 12.002334626345652, 10.307107103611953), (4.422550537802829, 10.651938569012968, 12.70571292803571), (1.2417589027430247, 13.71987848395289, 10.65695164108774), (0.3097615712303803, 11.069346045863652, 13.490750267053237), (3.271433290029431, 10.288817234253582, 10.688028046246627), (1.94380688928175, 12.050696752394389, 8.757051827426588), (3.3540999028779943, 9.873082660894005, 14.691653727298013), (1.1121624399874739, 9.931524163978027, 11.965316219505851), (5.220320458149585, 12.709445512471602, 12.673200405847252), (1.0216367172286567, 15.276961651057729, 14.845826954604247), (2.903621321235459, 13.769915528528928, 13.890841641925055), (3.856680560294712, 14.575990646960657, 10.213226248506961)]</td></tr><tr><td class = \"rowNumber\" style = \"font-weight: bold; text-align: right;\">8</td><td style = \"text-align: right;\">7</td><td style = \"text-align: right;\">1</td><td style = \"text-align: right;\">500</td><td style = \"text-align: right;\">8</td><td style = \"text-align: left;\">[14.853137396184435, 10.618412896966946, 8.950511606720433]</td><td style = \"text-align: right;\">13</td><td style = \"text-align: left;\">[(16.70828029922483, 13.868553757227511, 11.318761265247739), (13.65685056198016, 11.048824864161592, 5.017540741661802), (17.139653149037702, 9.156787060988693, 7.480438788582672), (16.712563332026047, 9.682526751788824, 4.921354864815775), (12.608172932890636, 9.949801431544708, 9.238803344051197), (17.518626929335092, 10.662287015587191, 11.230259559034565), (12.667002058636939, 7.785378472029135, 6.630484923285971), (15.995466832722634, 9.288209280912088, 11.281722822424095), (13.17097717907879, 11.471020365094494, 7.743927492066684), (13.03876997982843, 11.091220636101303, 10.985933884998218), (15.47002847557345, 8.053766190697301, 9.291333957417832), (14.57633673313276, 12.83378753547708, 8.647803630146877), (16.956533973045573, 11.369994633428695, 8.718758955194804)]</td></tr><tr><td class = \"rowNumber\" style = \"font-weight: bold; text-align: right;\">9</td><td style = \"text-align: right;\">8</td><td style = \"text-align: right;\">1</td><td style = \"text-align: right;\">500</td><td style = \"text-align: right;\">9</td><td style = \"text-align: left;\">[17.216869236489284, 1.6986275108414297, 14.895239843424187]</td><td style = \"text-align: right;\">9</td><td style = \"text-align: left;\">[(16.310870175773236, 4.149484426653199, 13.980805939202742), (20.392008436006705, 2.597396344439649, 16.423727286262114), (19.116104686067498, 1.8836131426156757, 13.929698987328424), (16.097503076210295, 2.435586797927072, 16.811861212497146), (14.27474479393727, 1.7966485155637635, 12.79973843024839), (17.063638884034532, 2.625246131839317, 11.30105895947244), (18.88426647120634, 4.20424186232913, 15.017318280741204), (14.573561740655746, 1.036929259015127, 16.321427382979884), (15.278622490828747, 0.5914171772567535, 14.147440548904058)]</td></tr><tr><td class = \"rowNumber\" style = \"font-weight: bold; text-align: right;\">10</td><td style = \"text-align: right;\">9</td><td style = \"text-align: right;\">1</td><td style = \"text-align: right;\">500</td><td style = \"text-align: right;\">10</td><td style = \"text-align: left;\">[14.437914518766966, 25.58320671673563, 13.391193753593376]</td><td style = \"text-align: right;\">12</td><td style = \"text-align: left;\">[(11.919980979306919, 26.25515971196489, 13.181417280914594), (16.463870235230345, 24.125620989555124, 11.881954163983686), (19.172679561888057, 24.089434784557742, 15.395517173866324), (16.14014144696408, 25.241072792774222, 17.128740629204195), (11.92092603181465, 23.497643872190125, 13.424265823445541), (16.947363529049465, 24.513661649378253, 7.3610091326044955), (19.372960758550814, 24.46589182591149, 13.025501557586068), (14.300395204202719, 22.924282314512926, 13.164848268351227), (14.630499902361992, 24.570449305111214, 11.097985079011703), (11.14184865772102, 25.437684447772625, 8.414308727381853), (16.926047771248115, 23.028151381781267, 13.6359700527435), (14.664747334961929, 24.54086829249916, 15.580993645188208)]</td></tr><tr><td class = \"rowNumber\" style = \"font-weight: bold; text-align: right;\">11</td><td style = \"text-align: right;\">10</td><td style = \"text-align: right;\">1</td><td style = \"text-align: right;\">500</td><td style = \"text-align: right;\">11</td><td style = \"text-align: left;\">[9.575766843539162, 15.784823230609035, 19.756872931888427]</td><td style = \"text-align: right;\">15</td><td style = \"text-align: left;\">[(9.061151242176114, 15.676050917144124, 17.7053043593536), (9.1315125432201, 18.793196935432874, 21.318651833845408), (10.610911995356071, 11.733354896087828, 19.159996695582972), (8.240796420579889, 12.255230399181567, 19.350217251147896), (5.735461166693739, 14.113604245798333, 20.459524937935218), (11.664636255482074, 14.571332671888454, 22.40713317914827), (7.08670854552688, 18.49710998427134, 19.968585460918337), (8.352338621033514, 15.96378833467648, 21.757612163618802), (8.26367937094508, 11.631060350973707, 22.134828167563114), (11.862559022118992, 17.90144389039035, 21.341864330509942), (12.01589327511738, 16.59916385651393, 18.235440124626013), (9.648967151463168, 13.476617871208054, 17.46548122982641), (11.686917090031832, 13.709810377351378, 18.85175721539792), (9.662741900630179, 17.835640253435336, 18.36372429804632), (7.0567807322636975, 15.01464798297695, 17.755135388601524)]</td></tr><tr><td class = \"rowNumber\" style = \"font-weight: bold; text-align: right;\">12</td><td style = \"text-align: right;\">11</td><td style = \"text-align: right;\">1</td><td style = \"text-align: right;\">500</td><td style = \"text-align: right;\">12</td><td style = \"text-align: left;\">[22.95011860473473, 10.95374879917795, 9.571746923305156]</td><td style = \"text-align: right;\">12</td><td style = \"text-align: left;\">[(25.26139280518348, 11.301715776596607, 11.12919631474238), (22.35875713708044, 7.409329389102004, 10.029259193274202), (23.934232375604665, 9.131800691930458, 11.13534111407765), (21.970432424972426, 14.538581014507429, 8.657534084412575), (20.440245535274812, 11.036472663246151, 9.776290277461868), (20.64644492491547, 8.565224083023432, 7.843881860657249), (23.179942974268194, 11.90388771815372, 7.5864919871802945), (24.702074740593346, 14.406389826217955, 9.814259457791225), (21.891222274921837, 10.48026257603084, 12.232138753045675), (22.648641933953495, 9.946278229712341, 6.965947140915549), (23.4112871843336, 12.48943725427078, 11.013538186671981), (21.141620691999716, 12.35189769392311, 7.199218312220659)]</td></tr><tr><td class = \"rowNumber\" style = \"font-weight: bold; text-align: right;\">13</td><td style = \"text-align: right;\">12</td><td style = \"text-align: right;\">1</td><td style = \"text-align: right;\">500</td><td style = \"text-align: right;\">13</td><td style = \"text-align: left;\">[19.14708677182407, 10.891754759934841, 1.7481705568364128]</td><td style = \"text-align: right;\">14</td><td style = \"text-align: left;\">[(18.152739622301613, 12.524423223506952, 6.550989007475558), (13.747002155268284, 10.01280601202041, 0.9910048063323277), (16.43352382225934, 12.468025018324308, 4.196829173181542), (16.712563332026047, 9.682526751788824, 4.921354864815775), (16.721444417675745, 8.445805261308411, 2.3370209292715995), (20.702699727358674, 8.806452952984651, 3.6310408502131026), (21.546305132509193, 15.267707636196665, 3.190039200315754), (17.81922424595975, 18.252136011086225, 2.2541086676101467), (21.610289813170862, 12.334799646127118, 3.554839660175743), (14.926963663593513, 12.179967358471574, 0.27963035188523294), (16.753370590984858, 11.836025433626013, 1.2808097052532834), (22.39454905600269, 8.904435827356352, 4.8006633767723335), (17.880539308568558, 13.31550899903898, 2.432321764584372), (23.13125606608004, 10.899745831404982, 4.91529656762506)]</td></tr><tr><td style = \"text-align: right;\">&vellip;</td><td style = \"text-align: right;\">&vellip;</td><td style = \"text-align: right;\">&vellip;</td><td style = \"text-align: right;\">&vellip;</td><td style = \"text-align: right;\">&vellip;</td><td style = \"text-align: right;\">&vellip;</td><td style = \"text-align: right;\">&vellip;</td><td style = \"text-align: right;\">&vellip;</td></tr><tr><td class = \"rowNumber\" style = \"font-weight: bold; text-align: right;\">489</td><td style = \"text-align: right;\">488</td><td style = \"text-align: right;\">1</td><td style = \"text-align: right;\">500</td><td style = \"text-align: right;\">489</td><td style = \"text-align: left;\">[9.517909900457775, 4.0836178607986025, 15.981620451101424]</td><td style = \"text-align: right;\">12</td><td style = \"text-align: left;\">[(10.39604745942102, 2.835841421159888, 18.545643614737948), (7.371464401437383, 2.1890528054957947, 16.434533763751276), (11.002883937002531, 4.542948391767718, 14.150810229553619), (8.323000634745314, 3.8390970550484202, 19.056553121533337), (8.097357801424131, 6.367763103166945, 15.570568858338332), (8.601542687969262, 2.731355061480414, 14.607716497154941), (9.972958983521435, 1.5451132591066619, 15.948895645422343), (9.390370402715545, 7.540857965559076, 18.599401574042005), (6.519302892446705, 6.52640794373357, 17.863968237820767), (9.85214563509197, 7.973155101348114, 15.763250863825625), (11.322320606434337, 2.9696424619562722, 15.378692246017744), (11.99221104622933, 5.696287382555187, 16.55758225943732)]</td></tr><tr><td class = \"rowNumber\" style = \"font-weight: bold; text-align: right;\">490</td><td style = \"text-align: right;\">489</td><td style = \"text-align: right;\">1</td><td style = \"text-align: right;\">500</td><td style = \"text-align: right;\">490</td><td style = \"text-align: left;\">[13.63711094442952, 4.741535268225412, 6.829806660683911]</td><td style = \"text-align: right;\">10</td><td style = \"text-align: left;\">[(17.12650364391715, 3.8968539590107234, 7.175422166084301), (16.053070394942974, 4.064619660095374, 9.405074631686714), (11.8535911573978, 4.380142426076101, 5.932507488671092), (13.808269362556988, 2.437035280260646, 7.079982502421517), (15.667364435456369, 6.27630799464722, 7.882770880753951), (15.509644999376476, 5.354975505812634, 5.4427205933146325), (13.462013330829455, 6.048043720528843, 8.42645063819452), (12.667002058636939, 7.785378472029135, 6.630484923285971), (12.356557920554362, 3.83863429354993, 8.883871698264423), (13.030229614112601, 6.453314553983178, 3.6486703651993695)]</td></tr><tr><td class = \"rowNumber\" style = \"font-weight: bold; text-align: right;\">491</td><td style = \"text-align: right;\">490</td><td style = \"text-align: right;\">1</td><td style = \"text-align: right;\">500</td><td style = \"text-align: right;\">491</td><td style = \"text-align: left;\">[1.3620102203136444, 10.084079147444964, 17.70653305821235]</td><td style = \"text-align: right;\">13</td><td style = \"text-align: left;\">[(4.703472919785406, 10.117632606750963, 17.193138740832865), (2.526506487135003, 13.989314308925877, 19.544502318425806), (4.8502517194607, 7.044355272510054, 21.084504978357387), (3.157480120713668, 8.357577972198035, 17.33168052798572), (4.121497090223411, 5.894406112339616, 17.350780530715816), (2.1613351273846013, 11.969571531273747, 17.279285904264327), (2.234465220892011, 11.31408088477079, 19.85098379141025), (0.3097615712303803, 11.069346045863652, 13.490750267053237), (3.3540999028779943, 9.873082660894005, 14.691653727298013), (4.4384666155083226, 11.763052471580986, 18.5663871761907), (5.685258668663734, 5.283118275758331, 20.324763850891934), (1.0216367172286567, 15.276961651057729, 14.845826954604247), (1.0494548490162516, 8.891430404097095, 14.38649492261611)]</td></tr><tr><td class = \"rowNumber\" style = \"font-weight: bold; text-align: right;\">492</td><td style = \"text-align: right;\">491</td><td style = \"text-align: right;\">1</td><td style = \"text-align: right;\">500</td><td style = \"text-align: right;\">492</td><td style = \"text-align: left;\">[20.64644492491547, 8.565224083023432, 7.843881860657249]</td><td style = \"text-align: right;\">15</td><td style = \"text-align: left;\">[(18.152739622301613, 12.524423223506952, 6.550989007475558), (20.440245535274812, 11.036472663246151, 9.776290277461868), (22.35875713708044, 7.409329389102004, 10.029259193274202), (17.139653149037702, 9.156787060988693, 7.480438788582672), (16.712563332026047, 9.682526751788824, 4.921354864815775), (22.95011860473473, 10.95374879917795, 9.571746923305156), (20.22813654044723, 6.332409973308851, 8.211283266159072), (20.702699727358674, 8.806452952984651, 3.6310408502131026), (18.966669446258365, 6.06189312180241, 5.880824553571577), (22.648641933953495, 9.946278229712341, 6.965947140915549), (20.690258210913395, 4.689448281520839, 6.925505062171738), (21.141620691999716, 12.35189769392311, 7.199218312220659), (22.39454905600269, 8.904435827356352, 4.8006633767723335), (19.17729015481401, 9.343498286832169, 9.661327700455933), (18.58265779018476, 7.494139904244132, 7.739959721611824)]</td></tr><tr><td class = \"rowNumber\" style = \"font-weight: bold; text-align: right;\">493</td><td style = \"text-align: right;\">492</td><td style = \"text-align: right;\">1</td><td style = \"text-align: right;\">500</td><td style = \"text-align: right;\">493</td><td style = \"text-align: left;\">[23.179942974268194, 11.90388771815372, 7.5864919871802945]</td><td style = \"text-align: right;\">10</td><td style = \"text-align: left;\">[(25.26139280518348, 11.301715776596607, 11.12919631474238), (21.970432424972426, 14.538581014507429, 8.657534084412575), (22.95011860473473, 10.95374879917795, 9.571746923305156), (24.702074740593346, 14.406389826217955, 9.814259457791225), (24.038751023947533, 14.877943494257957, 7.614600891321554), (21.610289813170862, 12.334799646127118, 3.554839660175743), (22.648641933953495, 9.946278229712341, 6.965947140915549), (21.141620691999716, 12.35189769392311, 7.199218312220659), (23.4112871843336, 12.48943725427078, 11.013538186671981), (23.13125606608004, 10.899745831404982, 4.91529656762506)]</td></tr><tr><td class = \"rowNumber\" style = \"font-weight: bold; text-align: right;\">494</td><td style = \"text-align: right;\">493</td><td style = \"text-align: right;\">1</td><td style = \"text-align: right;\">500</td><td style = \"text-align: right;\">494</td><td style = \"text-align: left;\">[18.208082244384084, 4.924897934602016, 10.019151297864324]</td><td style = \"text-align: right;\">15</td><td style = \"text-align: left;\">[(20.984885424248542, 7.52103644697918, 12.267904093745866), (14.966043493139768, 5.797849823850788, 10.40171975754867), (16.053070394942974, 4.064619660095374, 9.405074631686714), (15.667364435456369, 6.27630799464722, 7.882770880753951), (17.063638884034532, 2.625246131839317, 11.30105895947244), (18.93774386200564, 7.191787077822978, 13.234551278121748), (20.22813654044723, 6.332409973308851, 8.211283266159072), (15.995466832722634, 9.288209280912088, 11.281722822424095), (20.42985567645683, 4.388019828356684, 10.204805387102288), (20.690258210913395, 4.689448281520839, 6.925505062171738), (18.289288074130365, 5.26328848361476, 12.885062833809592), (17.12650364391715, 3.8968539590107234, 7.175422166084301), (15.47002847557345, 8.053766190697301, 9.291333957417832), (19.17729015481401, 9.343498286832169, 9.661327700455933), (18.58265779018476, 7.494139904244132, 7.739959721611824)]</td></tr><tr><td class = \"rowNumber\" style = \"font-weight: bold; text-align: right;\">495</td><td style = \"text-align: right;\">494</td><td style = \"text-align: right;\">1</td><td style = \"text-align: right;\">500</td><td style = \"text-align: right;\">495</td><td style = \"text-align: left;\">[2.1613351273846013, 11.969571531273747, 17.279285904264327]</td><td style = \"text-align: right;\">12</td><td style = \"text-align: left;\">[(6.186881162546861, 10.676319262173244, 15.372444664104366), (4.703472919785406, 10.117632606750963, 17.193138740832865), (2.526506487135003, 13.989314308925877, 19.544502318425806), (1.3620102203136444, 10.084079147444964, 17.70653305821235), (0.3097615712303803, 11.069346045863652, 13.490750267053237), (2.234465220892011, 11.31408088477079, 19.85098379141025), (2.829087765230736, 14.125548998573974, 17.486075937919335), (3.3540999028779943, 9.873082660894005, 14.691653727298013), (4.4384666155083226, 11.763052471580986, 18.5663871761907), (1.0216367172286567, 15.276961651057729, 14.845826954604247), (2.903621321235459, 13.769915528528928, 13.890841641925055), (1.0494548490162516, 8.891430404097095, 14.38649492261611)]</td></tr><tr><td class = \"rowNumber\" style = \"font-weight: bold; text-align: right;\">496</td><td style = \"text-align: right;\">495</td><td style = \"text-align: right;\">1</td><td style = \"text-align: right;\">500</td><td style = \"text-align: right;\">496</td><td style = \"text-align: left;\">[8.713239547981063, 13.145296540167173, 2.3192875095827596]</td><td style = \"text-align: right;\">13</td><td style = \"text-align: left;\">[(10.513020951127135, 11.393119291716264, 5.0994865747947715), (13.747002155268284, 10.01280601202041, 0.9910048063323277), (11.921082672146346, 14.537493976776346, 0.35245583809883235), (9.753987356189082, 8.608595181906187, 3.2218255971894654), (6.78812322161519, 13.802189184873868, 4.75014236775703), (7.861686554498121, 10.748112698496483, 4.716762233354085), (11.200193540811975, 13.513150260295976, 3.5815720831944815), (7.199180776202523, 11.816459480116201, 2.09039930986656), (9.342981907423505, 15.090593501046921, 2.7043708555513586), (11.995007439630283, 10.066000688514025, 3.562498736843066), (5.4562602717923285, 14.434540896740323, 3.364880982617621), (6.878282644017813, 16.856235504017068, 2.8097917739156792), (8.638161639780105, 17.862305454733868, 1.9183748921948005)]</td></tr><tr><td class = \"rowNumber\" style = \"font-weight: bold; text-align: right;\">497</td><td style = \"text-align: right;\">496</td><td style = \"text-align: right;\">1</td><td style = \"text-align: right;\">500</td><td style = \"text-align: right;\">497</td><td style = \"text-align: left;\">[11.200193540811975, 13.513150260295976, 3.5815720831944815]</td><td style = \"text-align: right;\">13</td><td style = \"text-align: left;\">[(10.513020951127135, 11.393119291716264, 5.0994865747947715), (13.747002155268284, 10.01280601202041, 0.9910048063323277), (11.921082672146346, 14.537493976776346, 0.35245583809883235), (13.65685056198016, 11.048824864161592, 5.017540741661802), (14.666342990434204, 13.034981367285203, 2.4075245081051913), (11.209971989974886, 13.870661903949383, 5.760257933166271), (12.463895077252406, 15.722463211523579, 5.653573498114054), (6.78812322161519, 13.802189184873868, 4.75014236775703), (14.785706767317377, 15.779590013262702, 4.205388717921292), (8.713239547981063, 13.145296540167173, 2.3192875095827596), (9.342981907423505, 15.090593501046921, 2.7043708555513586), (12.269610092118954, 16.041020569194007, 3.5244901100717274), (11.995007439630283, 10.066000688514025, 3.562498736843066)]</td></tr><tr><td class = \"rowNumber\" style = \"font-weight: bold; text-align: right;\">498</td><td style = \"text-align: right;\">497</td><td style = \"text-align: right;\">1</td><td style = \"text-align: right;\">500</td><td style = \"text-align: right;\">498</td><td style = \"text-align: left;\">[17.637214818670873, 6.338296185248546, 4.192289018754317]</td><td style = \"text-align: right;\">12</td><td style = \"text-align: left;\">[(17.12650364391715, 3.8968539590107234, 7.175422166084301), (13.808269362556988, 2.437035280260646, 7.079982502421517), (16.712563332026047, 9.682526751788824, 4.921354864815775), (15.509644999376476, 5.354975505812634, 5.4427205933146325), (16.721444417675745, 8.445805261308411, 2.3370209292715995), (20.702699727358674, 8.806452952984651, 3.6310408502131026), (17.14950079528778, 7.2080350280643035, 6.177090005965358), (20.690258210913395, 4.689448281520839, 6.925505062171738), (18.966669446258365, 6.06189312180241, 5.880824553571577), (11.26699939180856, 4.358679958570106, 3.673038351702487), (14.92848573190788, 7.268986339552906, 4.095933830523205), (13.030229614112601, 6.453314553983178, 3.6486703651993695)]</td></tr><tr><td class = \"rowNumber\" style = \"font-weight: bold; text-align: right;\">499</td><td style = \"text-align: right;\">498</td><td style = \"text-align: right;\">1</td><td style = \"text-align: right;\">500</td><td style = \"text-align: right;\">499</td><td style = \"text-align: left;\">[21.274378670302852, 13.441196346563594, 15.799112246399003]</td><td style = \"text-align: right;\">14</td><td style = \"text-align: left;\">[(25.387105626445084, 13.435380247772532, 12.203603355038457), (21.049338249457442, 15.488060288867734, 17.577344867351467), (23.57963811014171, 16.616058143753314, 15.613664162012148), (22.97458572448888, 12.565366227497387, 16.696583884770142), (23.595565523115617, 11.42708396242407, 12.886852860413846), (19.055924454214747, 14.849270851287873, 16.163981525085408), (25.314661409199456, 15.331473642420109, 15.191228458909908), (20.185046423091915, 15.2264962674125, 14.033542356461785), (23.05782913242976, 15.825182429114351, 17.941162655944975), (19.045035031207416, 13.149444202557504, 15.101333199775258), (19.99671152196658, 11.552466575329968, 17.568484825640756), (21.008122351624255, 9.740909277136886, 14.191351608683725), (20.65830972402022, 13.075508458916199, 13.16134618796188), (18.994815173228925, 10.61602710417306, 14.463163910330875)]</td></tr><tr><td class = \"rowNumber\" style = \"font-weight: bold; text-align: right;\">500</td><td style = \"text-align: right;\">499</td><td style = \"text-align: right;\">1</td><td style = \"text-align: right;\">500</td><td style = \"text-align: right;\">500</td><td style = \"text-align: left;\">[20.176727000330892, 11.27162974379307, 24.200790428139094]</td><td style = \"text-align: right;\">12</td><td style = \"text-align: left;\">[(21.722487828597757, 12.895952891202903, 21.192447520391667), (17.24429284898489, 12.680162377867315, 25.878565927128086), (19.217724922184924, 14.346517779062756, 22.72844467533031), (20.54260390844319, 16.491207024011118, 23.67908516683039), (19.169347934282168, 9.487450112124984, 23.345588225090786), (22.38785215580512, 5.876676241432987, 18.740448462280362), (18.499308984301873, 11.46544570770337, 22.05569799243133), (21.235711049363083, 10.282369078890088, 21.380707653568948), (16.432070741067204, 7.454024878204126, 24.461289372423227), (24.766047895909107, 10.78635424205786, 19.26304529354634), (16.077940287776524, 12.419457693779362, 23.92563659110006), (22.728246976692258, 8.212940153677906, 19.56436308083241)]</td></tr></tbody></table></div>"
      ],
      "text/latex": [
       "\\begin{tabular}{r|cccccc}\n",
       "\t& Column1 & 0 & 1 & 2 & 3 & \\\\\n",
       "\t\\hline\n",
       "\t& Int64 & Int64 & Int64 & Int64 & String & \\\\\n",
       "\t\\hline\n",
       "\t1 & 0 & 1 & 500 & 1 & [16.70828029922483, 13.868553757227511, 11.318761265247739] & $\\dots$ \\\\\n",
       "\t2 & 1 & 1 & 500 & 2 & [17.824286183314427, 20.263867851125152, 9.778457454229168] & $\\dots$ \\\\\n",
       "\t3 & 2 & 1 & 500 & 3 & [9.406143976123007, 11.226401417223862, 9.4282192927851] & $\\dots$ \\\\\n",
       "\t4 & 3 & 1 & 500 & 4 & [13.569180767089106, 8.782800719314455, 15.317873049490633] & $\\dots$ \\\\\n",
       "\t5 & 4 & 1 & 500 & 5 & [6.941439520993351, 20.02045329026919, 6.530043006871796] & $\\dots$ \\\\\n",
       "\t6 & 5 & 1 & 500 & 6 & [9.45465988517179, 6.146984703590558, 2.75099327439276] & $\\dots$ \\\\\n",
       "\t7 & 6 & 1 & 500 & 7 & [1.9911999167052312, 12.412597037180841, 11.99622717507754] & $\\dots$ \\\\\n",
       "\t8 & 7 & 1 & 500 & 8 & [14.853137396184435, 10.618412896966946, 8.950511606720433] & $\\dots$ \\\\\n",
       "\t9 & 8 & 1 & 500 & 9 & [17.216869236489284, 1.6986275108414297, 14.895239843424187] & $\\dots$ \\\\\n",
       "\t10 & 9 & 1 & 500 & 10 & [14.437914518766966, 25.58320671673563, 13.391193753593376] & $\\dots$ \\\\\n",
       "\t11 & 10 & 1 & 500 & 11 & [9.575766843539162, 15.784823230609035, 19.756872931888427] & $\\dots$ \\\\\n",
       "\t12 & 11 & 1 & 500 & 12 & [22.95011860473473, 10.95374879917795, 9.571746923305156] & $\\dots$ \\\\\n",
       "\t13 & 12 & 1 & 500 & 13 & [19.14708677182407, 10.891754759934841, 1.7481705568364128] & $\\dots$ \\\\\n",
       "\t14 & 13 & 1 & 500 & 14 & [1.2417589027430247, 13.71987848395289, 10.65695164108774] & $\\dots$ \\\\\n",
       "\t15 & 14 & 1 & 500 & 15 & [11.392154917414889, 21.224216220536146, 12.833218874217026] & $\\dots$ \\\\\n",
       "\t16 & 15 & 1 & 500 & 16 & [12.203558158947867, 14.429802143055515, 25.692958970533287] & $\\dots$ \\\\\n",
       "\t17 & 16 & 1 & 500 & 17 & [19.84571316353608, 14.757186724718645, 6.212299070134025] & $\\dots$ \\\\\n",
       "\t18 & 17 & 1 & 500 & 18 & [16.94741708984721, 9.07270260589555, 22.253649599993665] & $\\dots$ \\\\\n",
       "\t19 & 18 & 1 & 500 & 19 & [2.829087765230736, 14.125548998573974, 17.486075937919335] & $\\dots$ \\\\\n",
       "\t20 & 19 & 1 & 500 & 20 & [15.249718835119424, 19.891448799859614, 6.908360793407607] & $\\dots$ \\\\\n",
       "\t21 & 20 & 1 & 500 & 21 & [7.199180776202523, 11.816459480116201, 2.09039930986656] & $\\dots$ \\\\\n",
       "\t22 & 21 & 1 & 500 & 22 & [15.758976387151185, 17.068638277046205, 25.04674616522074] & $\\dots$ \\\\\n",
       "\t23 & 22 & 1 & 500 & 23 & [13.62018336646974, 20.613313957996596, 12.442379623519294] & $\\dots$ \\\\\n",
       "\t24 & 23 & 1 & 500 & 24 & [18.53482764003178, 16.419762347347405, 21.96642639746772] & $\\dots$ \\\\\n",
       "\t25 & 24 & 1 & 500 & 25 & [17.376093892204988, 7.044922406947557, 18.824633541410186] & $\\dots$ \\\\\n",
       "\t26 & 25 & 1 & 500 & 26 & [13.778062142077959, 17.474243640357205, 20.12514603673999] & $\\dots$ \\\\\n",
       "\t27 & 26 & 1 & 500 & 27 & [5.6219223935647, 19.086943759427985, 9.881547863609741] & $\\dots$ \\\\\n",
       "\t28 & 27 & 1 & 500 & 28 & [6.878282644017813, 16.856235504017068, 2.8097917739156792] & $\\dots$ \\\\\n",
       "\t29 & 28 & 1 & 500 & 29 & [21.961021711660234, 15.874250410738714, 20.815077703605255] & $\\dots$ \\\\\n",
       "\t30 & 29 & 1 & 500 & 30 & [20.085619067764537, 18.08132716597848, 7.271390375621] & $\\dots$ \\\\\n",
       "\t$\\dots$ & $\\dots$ & $\\dots$ & $\\dots$ & $\\dots$ & $\\dots$ &  \\\\\n",
       "\\end{tabular}\n"
      ],
      "text/plain": [
       "\u001b[1m500×7 DataFrame\u001b[0m\n",
       "\u001b[1m Row \u001b[0m│\u001b[1m Column1 \u001b[0m\u001b[1m 0     \u001b[0m\u001b[1m 1     \u001b[0m\u001b[1m 2     \u001b[0m\u001b[1m 3                                 \u001b[0m\u001b[1m 4     \u001b[0m\u001b[1m\u001b[0m ⋯\n",
       "     │\u001b[90m Int64   \u001b[0m\u001b[90m Int64 \u001b[0m\u001b[90m Int64 \u001b[0m\u001b[90m Int64 \u001b[0m\u001b[90m String                            \u001b[0m\u001b[90m Int64 \u001b[0m\u001b[90m\u001b[0m ⋯\n",
       "─────┼──────────────────────────────────────────────────────────────────────────\n",
       "   1 │       0      1    500      1  [16.70828029922483, 13.868553757…     18  ⋯\n",
       "   2 │       1      1    500      2  [17.824286183314427, 20.26386785…     15\n",
       "   3 │       2      1    500      3  [9.406143976123007, 11.226401417…     17\n",
       "   4 │       3      1    500      4  [13.569180767089106, 8.782800719…     15\n",
       "   5 │       4      1    500      5  [6.941439520993351, 20.020453290…     14  ⋯\n",
       "   6 │       5      1    500      6  [9.45465988517179, 6.14698470359…     13\n",
       "   7 │       6      1    500      7  [1.9911999167052312, 12.41259703…     12\n",
       "   8 │       7      1    500      8  [14.853137396184435, 10.61841289…     13\n",
       "   9 │       8      1    500      9  [17.216869236489284, 1.698627510…      9  ⋯\n",
       "  10 │       9      1    500     10  [14.437914518766966, 25.58320671…     12\n",
       "  11 │      10      1    500     11  [9.575766843539162, 15.784823230…     15\n",
       "  ⋮  │    ⋮       ⋮      ⋮      ⋮                    ⋮                    ⋮    ⋱\n",
       " 491 │     490      1    500    491  [1.3620102203136444, 10.08407914…     13\n",
       " 492 │     491      1    500    492  [20.64644492491547, 8.5652240830…     15  ⋯\n",
       " 493 │     492      1    500    493  [23.179942974268194, 11.90388771…     10\n",
       " 494 │     493      1    500    494  [18.208082244384084, 4.924897934…     15\n",
       " 495 │     494      1    500    495  [2.1613351273846013, 11.96957153…     12\n",
       " 496 │     495      1    500    496  [8.713239547981063, 13.145296540…     13  ⋯\n",
       " 497 │     496      1    500    497  [11.200193540811975, 13.51315026…     13\n",
       " 498 │     497      1    500    498  [17.637214818670873, 6.338296185…     12\n",
       " 499 │     498      1    500    499  [21.274378670302852, 13.44119634…     14\n",
       " 500 │     499      1    500    500  [20.176727000330892, 11.27162974…     12  ⋯\n",
       "\u001b[36m                                                   1 column and 479 rows omitted\u001b[0m"
      ]
     },
     "execution_count": 50,
     "metadata": {},
     "output_type": "execute_result"
    }
   ],
   "source": [
    "list_3d = DataFrame(CSV.File(\"list3D.csv\"))"
   ]
  },
  {
   "cell_type": "markdown",
   "metadata": {},
   "source": [
    "Normally, the datatype of column will be automatically determined by the `DataFrame` package. In the case of `list_3d`, this did not work properly as the datatype is no primitive julia datatype. Therefore, it was interpreted as a `String`. We can use the same Metaprogramming functions `eval(Meta.parse())` to cast the strings on valid Julia data types.   "
   ]
  },
  {
   "cell_type": "code",
   "execution_count": 51,
   "metadata": {},
   "outputs": [
    {
     "data": {
      "text/html": [
       "<div><div style = \"float: left;\"><span>500×7 DataFrame</span></div><div style = \"float: right;\"><span style = \"font-style: italic;\">475 rows omitted</span></div><div style = \"clear: both;\"></div></div><div class = \"data-frame\" style = \"overflow-x: scroll;\"><table class = \"data-frame\" style = \"margin-bottom: 6px;\"><thead><tr class = \"header\"><th class = \"rowNumber\" style = \"font-weight: bold; text-align: right;\">Row</th><th style = \"text-align: left;\">Column1</th><th style = \"text-align: left;\">0</th><th style = \"text-align: left;\">1</th><th style = \"text-align: left;\">2</th><th style = \"text-align: left;\">3</th><th style = \"text-align: left;\">4</th><th style = \"text-align: left;\">5</th></tr><tr class = \"subheader headerLastRow\"><th class = \"rowNumber\" style = \"font-weight: bold; text-align: right;\"></th><th title = \"Int64\" style = \"text-align: left;\">Int64</th><th title = \"Int64\" style = \"text-align: left;\">Int64</th><th title = \"Int64\" style = \"text-align: left;\">Int64</th><th title = \"Int64\" style = \"text-align: left;\">Int64</th><th title = \"Vector{Float64}\" style = \"text-align: left;\">Array…</th><th title = \"Int64\" style = \"text-align: left;\">Int64</th><th title = \"Vector{Tuple{Float64, Float64, Float64}}\" style = \"text-align: left;\">Array…</th></tr></thead><tbody><tr><td class = \"rowNumber\" style = \"font-weight: bold; text-align: right;\">1</td><td style = \"text-align: right;\">0</td><td style = \"text-align: right;\">1</td><td style = \"text-align: right;\">500</td><td style = \"text-align: right;\">1</td><td style = \"text-align: left;\">[16.7083, 13.8686, 11.3188]</td><td style = \"text-align: right;\">18</td><td style = \"text-align: left;\">[(19.6675, 13.7076, 10.2558), (17.2419, 17.4506, 11.9823), (17.5186, 10.6623, 11.2303), (20.185, 15.2265, 14.0335), (14.4141, 11.8746, 13.3405), (15.505, 17.0959, 14.6003), (14.8531, 10.6184, 8.95051), (15.5611, 14.5203, 15.765), (13.0388, 11.0912, 10.9859), (18.3615, 13.466, 8.40211), (16.3718, 16.7629, 9.68455), (19.045, 13.1494, 15.1013), (17.0443, 11.9511, 13.9292), (20.6583, 13.0755, 13.1613), (14.2003, 14.538, 11.2028), (14.5763, 12.8338, 8.6478), (16.9565, 11.37, 8.71876), (19.2521, 11.2559, 12.4352)]</td></tr><tr><td class = \"rowNumber\" style = \"font-weight: bold; text-align: right;\">2</td><td style = \"text-align: right;\">1</td><td style = \"text-align: right;\">1</td><td style = \"text-align: right;\">500</td><td style = \"text-align: right;\">2</td><td style = \"text-align: left;\">[17.8243, 20.2639, 9.77846]</td><td style = \"text-align: right;\">15</td><td style = \"text-align: left;\">[(17.2419, 17.4506, 11.9823), (18.7276, 18.7546, 12.9105), (21.2254, 17.1077, 9.46826), (16.2066, 22.2475, 10.5848), (16.3718, 16.7629, 9.68455), (16.126, 18.8105, 9.52112), (15.2497, 19.8914, 6.90836), (20.122, 22.2405, 8.87621), (15.2089, 19.4107, 11.3432), (17.5561, 21.4277, 7.09113), (20.1276, 22.3453, 12.6144), (22.6349, 19.7213, 8.80492), (18.3874, 19.1983, 7.14881), (20.0856, 18.0813, 7.27139), (17.4985, 21.0706, 12.3416)]</td></tr><tr><td class = \"rowNumber\" style = \"font-weight: bold; text-align: right;\">3</td><td style = \"text-align: right;\">2</td><td style = \"text-align: right;\">1</td><td style = \"text-align: right;\">500</td><td style = \"text-align: right;\">3</td><td style = \"text-align: left;\">[9.40614, 11.2264, 9.42822]</td><td style = \"text-align: right;\">17</td><td style = \"text-align: left;\">[(7.81614, 9.25503, 7.56084), (10.513, 11.3931, 5.09949), (8.15876, 12.5212, 12.1416), (12.6082, 9.9498, 9.2388), (10.0428, 7.4808, 9.61462), (11.1386, 11.9007, 10.7587), (7.98497, 13.7797, 10.1825), (7.69978, 8.33068, 9.52179), (7.71862, 10.1502, 12.7597), (7.89289, 12.6467, 7.24624), (10.1458, 10.2507, 11.6944), (9.17938, 8.99829, 6.02125), (8.69701, 8.38138, 11.2799), (6.65377, 10.2486, 9.06384), (11.6462, 12.8076, 7.86761), (5.95711, 12.0023, 10.3071), (9.89063, 13.5187, 9.29702)]</td></tr><tr><td class = \"rowNumber\" style = \"font-weight: bold; text-align: right;\">4</td><td style = \"text-align: right;\">3</td><td style = \"text-align: right;\">1</td><td style = \"text-align: right;\">500</td><td style = \"text-align: right;\">4</td><td style = \"text-align: left;\">[13.5692, 8.7828, 15.3179]</td><td style = \"text-align: right;\">15</td><td style = \"text-align: left;\">[(17.0449, 9.97289, 17.9735), (11.3157, 8.19489, 13.5799), (16.5698, 9.98623, 13.2123), (14.6508, 9.83449, 18.7672), (14.4141, 11.8746, 13.3405), (14.0706, 11.3624, 16.3371), (13.4959, 8.43457, 17.9087), (15.9955, 9.28821, 11.2817), (12.2243, 12.381, 15.9503), (13.293, 6.95116, 13.7266), (9.85215, 7.97316, 15.7633), (10.2247, 11.5558, 16.8026), (13.0388, 11.0912, 10.9859), (11.9922, 5.69629, 16.5576), (16.1556, 7.35468, 15.5616)]</td></tr><tr><td class = \"rowNumber\" style = \"font-weight: bold; text-align: right;\">5</td><td style = \"text-align: right;\">4</td><td style = \"text-align: right;\">1</td><td style = \"text-align: right;\">500</td><td style = \"text-align: right;\">5</td><td style = \"text-align: left;\">[6.94144, 20.0205, 6.53004]</td><td style = \"text-align: right;\">14</td><td style = \"text-align: left;\">[(10.5014, 19.5419, 3.28028), (8.23179, 16.1086, 4.51316), (3.93537, 18.4663, 6.85256), (8.53566, 19.4953, 10.4464), (9.65017, 17.7262, 7.67492), (8.82479, 21.9196, 5.39857), (7.86557, 23.3178, 9.38423), (7.05459, 17.3192, 7.61341), (10.3126, 19.2751, 6.49922), (8.29704, 21.2313, 9.12617), (5.62192, 19.0869, 9.88155), (6.87828, 16.8562, 2.80979), (4.98811, 19.7836, 7.94851), (8.63816, 17.8623, 1.91837)]</td></tr><tr><td class = \"rowNumber\" style = \"font-weight: bold; text-align: right;\">6</td><td style = \"text-align: right;\">5</td><td style = \"text-align: right;\">1</td><td style = \"text-align: right;\">500</td><td style = \"text-align: right;\">6</td><td style = \"text-align: left;\">[9.45466, 6.14698, 2.75099]</td><td style = \"text-align: right;\">13</td><td style = \"text-align: left;\">[(13.747, 10.0128, 0.991005), (11.9211, 14.5375, 0.352456), (6.24115, 6.41415, 5.08804), (10.7823, 2.04274, 6.65398), (11.5968, 7.86713, 3.98918), (10.0453, 6.23601, 5.04167), (9.75399, 8.6086, 3.22183), (5.83015, 8.81254, 3.78562), (7.19918, 11.8165, 2.0904), (11.267, 4.35868, 3.67304), (8.09001, 4.82782, 5.97559), (13.0302, 6.45331, 3.64867), (5.29258, 11.9669, 2.95101)]</td></tr><tr><td class = \"rowNumber\" style = \"font-weight: bold; text-align: right;\">7</td><td style = \"text-align: right;\">6</td><td style = \"text-align: right;\">1</td><td style = \"text-align: right;\">500</td><td style = \"text-align: right;\">7</td><td style = \"text-align: left;\">[1.9912, 12.4126, 11.9962]</td><td style = \"text-align: right;\">12</td><td style = \"text-align: left;\">[(5.95711, 12.0023, 10.3071), (4.42255, 10.6519, 12.7057), (1.24176, 13.7199, 10.657), (0.309762, 11.0693, 13.4908), (3.27143, 10.2888, 10.688), (1.94381, 12.0507, 8.75705), (3.3541, 9.87308, 14.6917), (1.11216, 9.93152, 11.9653), (5.22032, 12.7094, 12.6732), (1.02164, 15.277, 14.8458), (2.90362, 13.7699, 13.8908), (3.85668, 14.576, 10.2132)]</td></tr><tr><td class = \"rowNumber\" style = \"font-weight: bold; text-align: right;\">8</td><td style = \"text-align: right;\">7</td><td style = \"text-align: right;\">1</td><td style = \"text-align: right;\">500</td><td style = \"text-align: right;\">8</td><td style = \"text-align: left;\">[14.8531, 10.6184, 8.95051]</td><td style = \"text-align: right;\">13</td><td style = \"text-align: left;\">[(16.7083, 13.8686, 11.3188), (13.6569, 11.0488, 5.01754), (17.1397, 9.15679, 7.48044), (16.7126, 9.68253, 4.92135), (12.6082, 9.9498, 9.2388), (17.5186, 10.6623, 11.2303), (12.667, 7.78538, 6.63048), (15.9955, 9.28821, 11.2817), (13.171, 11.471, 7.74393), (13.0388, 11.0912, 10.9859), (15.47, 8.05377, 9.29133), (14.5763, 12.8338, 8.6478), (16.9565, 11.37, 8.71876)]</td></tr><tr><td class = \"rowNumber\" style = \"font-weight: bold; text-align: right;\">9</td><td style = \"text-align: right;\">8</td><td style = \"text-align: right;\">1</td><td style = \"text-align: right;\">500</td><td style = \"text-align: right;\">9</td><td style = \"text-align: left;\">[17.2169, 1.69863, 14.8952]</td><td style = \"text-align: right;\">9</td><td style = \"text-align: left;\">[(16.3109, 4.14948, 13.9808), (20.392, 2.5974, 16.4237), (19.1161, 1.88361, 13.9297), (16.0975, 2.43559, 16.8119), (14.2747, 1.79665, 12.7997), (17.0636, 2.62525, 11.3011), (18.8843, 4.20424, 15.0173), (14.5736, 1.03693, 16.3214), (15.2786, 0.591417, 14.1474)]</td></tr><tr><td class = \"rowNumber\" style = \"font-weight: bold; text-align: right;\">10</td><td style = \"text-align: right;\">9</td><td style = \"text-align: right;\">1</td><td style = \"text-align: right;\">500</td><td style = \"text-align: right;\">10</td><td style = \"text-align: left;\">[14.4379, 25.5832, 13.3912]</td><td style = \"text-align: right;\">12</td><td style = \"text-align: left;\">[(11.92, 26.2552, 13.1814), (16.4639, 24.1256, 11.882), (19.1727, 24.0894, 15.3955), (16.1401, 25.2411, 17.1287), (11.9209, 23.4976, 13.4243), (16.9474, 24.5137, 7.36101), (19.373, 24.4659, 13.0255), (14.3004, 22.9243, 13.1648), (14.6305, 24.5704, 11.098), (11.1418, 25.4377, 8.41431), (16.926, 23.0282, 13.636), (14.6647, 24.5409, 15.581)]</td></tr><tr><td class = \"rowNumber\" style = \"font-weight: bold; text-align: right;\">11</td><td style = \"text-align: right;\">10</td><td style = \"text-align: right;\">1</td><td style = \"text-align: right;\">500</td><td style = \"text-align: right;\">11</td><td style = \"text-align: left;\">[9.57577, 15.7848, 19.7569]</td><td style = \"text-align: right;\">15</td><td style = \"text-align: left;\">[(9.06115, 15.6761, 17.7053), (9.13151, 18.7932, 21.3187), (10.6109, 11.7334, 19.16), (8.2408, 12.2552, 19.3502), (5.73546, 14.1136, 20.4595), (11.6646, 14.5713, 22.4071), (7.08671, 18.4971, 19.9686), (8.35234, 15.9638, 21.7576), (8.26368, 11.6311, 22.1348), (11.8626, 17.9014, 21.3419), (12.0159, 16.5992, 18.2354), (9.64897, 13.4766, 17.4655), (11.6869, 13.7098, 18.8518), (9.66274, 17.8356, 18.3637), (7.05678, 15.0146, 17.7551)]</td></tr><tr><td class = \"rowNumber\" style = \"font-weight: bold; text-align: right;\">12</td><td style = \"text-align: right;\">11</td><td style = \"text-align: right;\">1</td><td style = \"text-align: right;\">500</td><td style = \"text-align: right;\">12</td><td style = \"text-align: left;\">[22.9501, 10.9537, 9.57175]</td><td style = \"text-align: right;\">12</td><td style = \"text-align: left;\">[(25.2614, 11.3017, 11.1292), (22.3588, 7.40933, 10.0293), (23.9342, 9.1318, 11.1353), (21.9704, 14.5386, 8.65753), (20.4402, 11.0365, 9.77629), (20.6464, 8.56522, 7.84388), (23.1799, 11.9039, 7.58649), (24.7021, 14.4064, 9.81426), (21.8912, 10.4803, 12.2321), (22.6486, 9.94628, 6.96595), (23.4113, 12.4894, 11.0135), (21.1416, 12.3519, 7.19922)]</td></tr><tr><td class = \"rowNumber\" style = \"font-weight: bold; text-align: right;\">13</td><td style = \"text-align: right;\">12</td><td style = \"text-align: right;\">1</td><td style = \"text-align: right;\">500</td><td style = \"text-align: right;\">13</td><td style = \"text-align: left;\">[19.1471, 10.8918, 1.74817]</td><td style = \"text-align: right;\">14</td><td style = \"text-align: left;\">[(18.1527, 12.5244, 6.55099), (13.747, 10.0128, 0.991005), (16.4335, 12.468, 4.19683), (16.7126, 9.68253, 4.92135), (16.7214, 8.44581, 2.33702), (20.7027, 8.80645, 3.63104), (21.5463, 15.2677, 3.19004), (17.8192, 18.2521, 2.25411), (21.6103, 12.3348, 3.55484), (14.927, 12.18, 0.27963), (16.7534, 11.836, 1.28081), (22.3945, 8.90444, 4.80066), (17.8805, 13.3155, 2.43232), (23.1313, 10.8997, 4.9153)]</td></tr><tr><td style = \"text-align: right;\">&vellip;</td><td style = \"text-align: right;\">&vellip;</td><td style = \"text-align: right;\">&vellip;</td><td style = \"text-align: right;\">&vellip;</td><td style = \"text-align: right;\">&vellip;</td><td style = \"text-align: right;\">&vellip;</td><td style = \"text-align: right;\">&vellip;</td><td style = \"text-align: right;\">&vellip;</td></tr><tr><td class = \"rowNumber\" style = \"font-weight: bold; text-align: right;\">489</td><td style = \"text-align: right;\">488</td><td style = \"text-align: right;\">1</td><td style = \"text-align: right;\">500</td><td style = \"text-align: right;\">489</td><td style = \"text-align: left;\">[9.51791, 4.08362, 15.9816]</td><td style = \"text-align: right;\">12</td><td style = \"text-align: left;\">[(10.396, 2.83584, 18.5456), (7.37146, 2.18905, 16.4345), (11.0029, 4.54295, 14.1508), (8.323, 3.8391, 19.0566), (8.09736, 6.36776, 15.5706), (8.60154, 2.73136, 14.6077), (9.97296, 1.54511, 15.9489), (9.39037, 7.54086, 18.5994), (6.5193, 6.52641, 17.864), (9.85215, 7.97316, 15.7633), (11.3223, 2.96964, 15.3787), (11.9922, 5.69629, 16.5576)]</td></tr><tr><td class = \"rowNumber\" style = \"font-weight: bold; text-align: right;\">490</td><td style = \"text-align: right;\">489</td><td style = \"text-align: right;\">1</td><td style = \"text-align: right;\">500</td><td style = \"text-align: right;\">490</td><td style = \"text-align: left;\">[13.6371, 4.74154, 6.82981]</td><td style = \"text-align: right;\">10</td><td style = \"text-align: left;\">[(17.1265, 3.89685, 7.17542), (16.0531, 4.06462, 9.40507), (11.8536, 4.38014, 5.93251), (13.8083, 2.43704, 7.07998), (15.6674, 6.27631, 7.88277), (15.5096, 5.35498, 5.44272), (13.462, 6.04804, 8.42645), (12.667, 7.78538, 6.63048), (12.3566, 3.83863, 8.88387), (13.0302, 6.45331, 3.64867)]</td></tr><tr><td class = \"rowNumber\" style = \"font-weight: bold; text-align: right;\">491</td><td style = \"text-align: right;\">490</td><td style = \"text-align: right;\">1</td><td style = \"text-align: right;\">500</td><td style = \"text-align: right;\">491</td><td style = \"text-align: left;\">[1.36201, 10.0841, 17.7065]</td><td style = \"text-align: right;\">13</td><td style = \"text-align: left;\">[(4.70347, 10.1176, 17.1931), (2.52651, 13.9893, 19.5445), (4.85025, 7.04436, 21.0845), (3.15748, 8.35758, 17.3317), (4.1215, 5.89441, 17.3508), (2.16134, 11.9696, 17.2793), (2.23447, 11.3141, 19.851), (0.309762, 11.0693, 13.4908), (3.3541, 9.87308, 14.6917), (4.43847, 11.7631, 18.5664), (5.68526, 5.28312, 20.3248), (1.02164, 15.277, 14.8458), (1.04945, 8.89143, 14.3865)]</td></tr><tr><td class = \"rowNumber\" style = \"font-weight: bold; text-align: right;\">492</td><td style = \"text-align: right;\">491</td><td style = \"text-align: right;\">1</td><td style = \"text-align: right;\">500</td><td style = \"text-align: right;\">492</td><td style = \"text-align: left;\">[20.6464, 8.56522, 7.84388]</td><td style = \"text-align: right;\">15</td><td style = \"text-align: left;\">[(18.1527, 12.5244, 6.55099), (20.4402, 11.0365, 9.77629), (22.3588, 7.40933, 10.0293), (17.1397, 9.15679, 7.48044), (16.7126, 9.68253, 4.92135), (22.9501, 10.9537, 9.57175), (20.2281, 6.33241, 8.21128), (20.7027, 8.80645, 3.63104), (18.9667, 6.06189, 5.88082), (22.6486, 9.94628, 6.96595), (20.6903, 4.68945, 6.92551), (21.1416, 12.3519, 7.19922), (22.3945, 8.90444, 4.80066), (19.1773, 9.3435, 9.66133), (18.5827, 7.49414, 7.73996)]</td></tr><tr><td class = \"rowNumber\" style = \"font-weight: bold; text-align: right;\">493</td><td style = \"text-align: right;\">492</td><td style = \"text-align: right;\">1</td><td style = \"text-align: right;\">500</td><td style = \"text-align: right;\">493</td><td style = \"text-align: left;\">[23.1799, 11.9039, 7.58649]</td><td style = \"text-align: right;\">10</td><td style = \"text-align: left;\">[(25.2614, 11.3017, 11.1292), (21.9704, 14.5386, 8.65753), (22.9501, 10.9537, 9.57175), (24.7021, 14.4064, 9.81426), (24.0388, 14.8779, 7.6146), (21.6103, 12.3348, 3.55484), (22.6486, 9.94628, 6.96595), (21.1416, 12.3519, 7.19922), (23.4113, 12.4894, 11.0135), (23.1313, 10.8997, 4.9153)]</td></tr><tr><td class = \"rowNumber\" style = \"font-weight: bold; text-align: right;\">494</td><td style = \"text-align: right;\">493</td><td style = \"text-align: right;\">1</td><td style = \"text-align: right;\">500</td><td style = \"text-align: right;\">494</td><td style = \"text-align: left;\">[18.2081, 4.9249, 10.0192]</td><td style = \"text-align: right;\">15</td><td style = \"text-align: left;\">[(20.9849, 7.52104, 12.2679), (14.966, 5.79785, 10.4017), (16.0531, 4.06462, 9.40507), (15.6674, 6.27631, 7.88277), (17.0636, 2.62525, 11.3011), (18.9377, 7.19179, 13.2346), (20.2281, 6.33241, 8.21128), (15.9955, 9.28821, 11.2817), (20.4299, 4.38802, 10.2048), (20.6903, 4.68945, 6.92551), (18.2893, 5.26329, 12.8851), (17.1265, 3.89685, 7.17542), (15.47, 8.05377, 9.29133), (19.1773, 9.3435, 9.66133), (18.5827, 7.49414, 7.73996)]</td></tr><tr><td class = \"rowNumber\" style = \"font-weight: bold; text-align: right;\">495</td><td style = \"text-align: right;\">494</td><td style = \"text-align: right;\">1</td><td style = \"text-align: right;\">500</td><td style = \"text-align: right;\">495</td><td style = \"text-align: left;\">[2.16134, 11.9696, 17.2793]</td><td style = \"text-align: right;\">12</td><td style = \"text-align: left;\">[(6.18688, 10.6763, 15.3724), (4.70347, 10.1176, 17.1931), (2.52651, 13.9893, 19.5445), (1.36201, 10.0841, 17.7065), (0.309762, 11.0693, 13.4908), (2.23447, 11.3141, 19.851), (2.82909, 14.1255, 17.4861), (3.3541, 9.87308, 14.6917), (4.43847, 11.7631, 18.5664), (1.02164, 15.277, 14.8458), (2.90362, 13.7699, 13.8908), (1.04945, 8.89143, 14.3865)]</td></tr><tr><td class = \"rowNumber\" style = \"font-weight: bold; text-align: right;\">496</td><td style = \"text-align: right;\">495</td><td style = \"text-align: right;\">1</td><td style = \"text-align: right;\">500</td><td style = \"text-align: right;\">496</td><td style = \"text-align: left;\">[8.71324, 13.1453, 2.31929]</td><td style = \"text-align: right;\">13</td><td style = \"text-align: left;\">[(10.513, 11.3931, 5.09949), (13.747, 10.0128, 0.991005), (11.9211, 14.5375, 0.352456), (9.75399, 8.6086, 3.22183), (6.78812, 13.8022, 4.75014), (7.86169, 10.7481, 4.71676), (11.2002, 13.5132, 3.58157), (7.19918, 11.8165, 2.0904), (9.34298, 15.0906, 2.70437), (11.995, 10.066, 3.5625), (5.45626, 14.4345, 3.36488), (6.87828, 16.8562, 2.80979), (8.63816, 17.8623, 1.91837)]</td></tr><tr><td class = \"rowNumber\" style = \"font-weight: bold; text-align: right;\">497</td><td style = \"text-align: right;\">496</td><td style = \"text-align: right;\">1</td><td style = \"text-align: right;\">500</td><td style = \"text-align: right;\">497</td><td style = \"text-align: left;\">[11.2002, 13.5132, 3.58157]</td><td style = \"text-align: right;\">13</td><td style = \"text-align: left;\">[(10.513, 11.3931, 5.09949), (13.747, 10.0128, 0.991005), (11.9211, 14.5375, 0.352456), (13.6569, 11.0488, 5.01754), (14.6663, 13.035, 2.40752), (11.21, 13.8707, 5.76026), (12.4639, 15.7225, 5.65357), (6.78812, 13.8022, 4.75014), (14.7857, 15.7796, 4.20539), (8.71324, 13.1453, 2.31929), (9.34298, 15.0906, 2.70437), (12.2696, 16.041, 3.52449), (11.995, 10.066, 3.5625)]</td></tr><tr><td class = \"rowNumber\" style = \"font-weight: bold; text-align: right;\">498</td><td style = \"text-align: right;\">497</td><td style = \"text-align: right;\">1</td><td style = \"text-align: right;\">500</td><td style = \"text-align: right;\">498</td><td style = \"text-align: left;\">[17.6372, 6.3383, 4.19229]</td><td style = \"text-align: right;\">12</td><td style = \"text-align: left;\">[(17.1265, 3.89685, 7.17542), (13.8083, 2.43704, 7.07998), (16.7126, 9.68253, 4.92135), (15.5096, 5.35498, 5.44272), (16.7214, 8.44581, 2.33702), (20.7027, 8.80645, 3.63104), (17.1495, 7.20804, 6.17709), (20.6903, 4.68945, 6.92551), (18.9667, 6.06189, 5.88082), (11.267, 4.35868, 3.67304), (14.9285, 7.26899, 4.09593), (13.0302, 6.45331, 3.64867)]</td></tr><tr><td class = \"rowNumber\" style = \"font-weight: bold; text-align: right;\">499</td><td style = \"text-align: right;\">498</td><td style = \"text-align: right;\">1</td><td style = \"text-align: right;\">500</td><td style = \"text-align: right;\">499</td><td style = \"text-align: left;\">[21.2744, 13.4412, 15.7991]</td><td style = \"text-align: right;\">14</td><td style = \"text-align: left;\">[(25.3871, 13.4354, 12.2036), (21.0493, 15.4881, 17.5773), (23.5796, 16.6161, 15.6137), (22.9746, 12.5654, 16.6966), (23.5956, 11.4271, 12.8869), (19.0559, 14.8493, 16.164), (25.3147, 15.3315, 15.1912), (20.185, 15.2265, 14.0335), (23.0578, 15.8252, 17.9412), (19.045, 13.1494, 15.1013), (19.9967, 11.5525, 17.5685), (21.0081, 9.74091, 14.1914), (20.6583, 13.0755, 13.1613), (18.9948, 10.616, 14.4632)]</td></tr><tr><td class = \"rowNumber\" style = \"font-weight: bold; text-align: right;\">500</td><td style = \"text-align: right;\">499</td><td style = \"text-align: right;\">1</td><td style = \"text-align: right;\">500</td><td style = \"text-align: right;\">500</td><td style = \"text-align: left;\">[20.1767, 11.2716, 24.2008]</td><td style = \"text-align: right;\">12</td><td style = \"text-align: left;\">[(21.7225, 12.896, 21.1924), (17.2443, 12.6802, 25.8786), (19.2177, 14.3465, 22.7284), (20.5426, 16.4912, 23.6791), (19.1693, 9.48745, 23.3456), (22.3879, 5.87668, 18.7404), (18.4993, 11.4654, 22.0557), (21.2357, 10.2824, 21.3807), (16.4321, 7.45402, 24.4613), (24.766, 10.7864, 19.263), (16.0779, 12.4195, 23.9256), (22.7282, 8.21294, 19.5644)]</td></tr></tbody></table></div>"
      ],
      "text/latex": [
       "\\begin{tabular}{r|ccccccc}\n",
       "\t& Column1 & 0 & 1 & 2 & 3 & 4 & 5\\\\\n",
       "\t\\hline\n",
       "\t& Int64 & Int64 & Int64 & Int64 & Array… & Int64 & Array…\\\\\n",
       "\t\\hline\n",
       "\t1 & 0 & 1 & 500 & 1 & [16.7083, 13.8686, 11.3188] & 18 & [(19.6675, 13.7076, 10.2558), (17.2419, 17.4506, 11.9823), (17.5186, 10.6623, 11.2303), (20.185, 15.2265, 14.0335), (14.4141, 11.8746, 13.3405), (15.505, 17.0959, 14.6003), (14.8531, 10.6184, 8.95051), (15.5611, 14.5203, 15.765), (13.0388, 11.0912, 10.9859), (18.3615, 13.466, 8.40211), (16.3718, 16.7629, 9.68455), (19.045, 13.1494, 15.1013), (17.0443, 11.9511, 13.9292), (20.6583, 13.0755, 13.1613), (14.2003, 14.538, 11.2028), (14.5763, 12.8338, 8.6478), (16.9565, 11.37, 8.71876), (19.2521, 11.2559, 12.4352)] \\\\\n",
       "\t2 & 1 & 1 & 500 & 2 & [17.8243, 20.2639, 9.77846] & 15 & [(17.2419, 17.4506, 11.9823), (18.7276, 18.7546, 12.9105), (21.2254, 17.1077, 9.46826), (16.2066, 22.2475, 10.5848), (16.3718, 16.7629, 9.68455), (16.126, 18.8105, 9.52112), (15.2497, 19.8914, 6.90836), (20.122, 22.2405, 8.87621), (15.2089, 19.4107, 11.3432), (17.5561, 21.4277, 7.09113), (20.1276, 22.3453, 12.6144), (22.6349, 19.7213, 8.80492), (18.3874, 19.1983, 7.14881), (20.0856, 18.0813, 7.27139), (17.4985, 21.0706, 12.3416)] \\\\\n",
       "\t3 & 2 & 1 & 500 & 3 & [9.40614, 11.2264, 9.42822] & 17 & [(7.81614, 9.25503, 7.56084), (10.513, 11.3931, 5.09949), (8.15876, 12.5212, 12.1416), (12.6082, 9.9498, 9.2388), (10.0428, 7.4808, 9.61462), (11.1386, 11.9007, 10.7587), (7.98497, 13.7797, 10.1825), (7.69978, 8.33068, 9.52179), (7.71862, 10.1502, 12.7597), (7.89289, 12.6467, 7.24624), (10.1458, 10.2507, 11.6944), (9.17938, 8.99829, 6.02125), (8.69701, 8.38138, 11.2799), (6.65377, 10.2486, 9.06384), (11.6462, 12.8076, 7.86761), (5.95711, 12.0023, 10.3071), (9.89063, 13.5187, 9.29702)] \\\\\n",
       "\t4 & 3 & 1 & 500 & 4 & [13.5692, 8.7828, 15.3179] & 15 & [(17.0449, 9.97289, 17.9735), (11.3157, 8.19489, 13.5799), (16.5698, 9.98623, 13.2123), (14.6508, 9.83449, 18.7672), (14.4141, 11.8746, 13.3405), (14.0706, 11.3624, 16.3371), (13.4959, 8.43457, 17.9087), (15.9955, 9.28821, 11.2817), (12.2243, 12.381, 15.9503), (13.293, 6.95116, 13.7266), (9.85215, 7.97316, 15.7633), (10.2247, 11.5558, 16.8026), (13.0388, 11.0912, 10.9859), (11.9922, 5.69629, 16.5576), (16.1556, 7.35468, 15.5616)] \\\\\n",
       "\t5 & 4 & 1 & 500 & 5 & [6.94144, 20.0205, 6.53004] & 14 & [(10.5014, 19.5419, 3.28028), (8.23179, 16.1086, 4.51316), (3.93537, 18.4663, 6.85256), (8.53566, 19.4953, 10.4464), (9.65017, 17.7262, 7.67492), (8.82479, 21.9196, 5.39857), (7.86557, 23.3178, 9.38423), (7.05459, 17.3192, 7.61341), (10.3126, 19.2751, 6.49922), (8.29704, 21.2313, 9.12617), (5.62192, 19.0869, 9.88155), (6.87828, 16.8562, 2.80979), (4.98811, 19.7836, 7.94851), (8.63816, 17.8623, 1.91837)] \\\\\n",
       "\t6 & 5 & 1 & 500 & 6 & [9.45466, 6.14698, 2.75099] & 13 & [(13.747, 10.0128, 0.991005), (11.9211, 14.5375, 0.352456), (6.24115, 6.41415, 5.08804), (10.7823, 2.04274, 6.65398), (11.5968, 7.86713, 3.98918), (10.0453, 6.23601, 5.04167), (9.75399, 8.6086, 3.22183), (5.83015, 8.81254, 3.78562), (7.19918, 11.8165, 2.0904), (11.267, 4.35868, 3.67304), (8.09001, 4.82782, 5.97559), (13.0302, 6.45331, 3.64867), (5.29258, 11.9669, 2.95101)] \\\\\n",
       "\t7 & 6 & 1 & 500 & 7 & [1.9912, 12.4126, 11.9962] & 12 & [(5.95711, 12.0023, 10.3071), (4.42255, 10.6519, 12.7057), (1.24176, 13.7199, 10.657), (0.309762, 11.0693, 13.4908), (3.27143, 10.2888, 10.688), (1.94381, 12.0507, 8.75705), (3.3541, 9.87308, 14.6917), (1.11216, 9.93152, 11.9653), (5.22032, 12.7094, 12.6732), (1.02164, 15.277, 14.8458), (2.90362, 13.7699, 13.8908), (3.85668, 14.576, 10.2132)] \\\\\n",
       "\t8 & 7 & 1 & 500 & 8 & [14.8531, 10.6184, 8.95051] & 13 & [(16.7083, 13.8686, 11.3188), (13.6569, 11.0488, 5.01754), (17.1397, 9.15679, 7.48044), (16.7126, 9.68253, 4.92135), (12.6082, 9.9498, 9.2388), (17.5186, 10.6623, 11.2303), (12.667, 7.78538, 6.63048), (15.9955, 9.28821, 11.2817), (13.171, 11.471, 7.74393), (13.0388, 11.0912, 10.9859), (15.47, 8.05377, 9.29133), (14.5763, 12.8338, 8.6478), (16.9565, 11.37, 8.71876)] \\\\\n",
       "\t9 & 8 & 1 & 500 & 9 & [17.2169, 1.69863, 14.8952] & 9 & [(16.3109, 4.14948, 13.9808), (20.392, 2.5974, 16.4237), (19.1161, 1.88361, 13.9297), (16.0975, 2.43559, 16.8119), (14.2747, 1.79665, 12.7997), (17.0636, 2.62525, 11.3011), (18.8843, 4.20424, 15.0173), (14.5736, 1.03693, 16.3214), (15.2786, 0.591417, 14.1474)] \\\\\n",
       "\t10 & 9 & 1 & 500 & 10 & [14.4379, 25.5832, 13.3912] & 12 & [(11.92, 26.2552, 13.1814), (16.4639, 24.1256, 11.882), (19.1727, 24.0894, 15.3955), (16.1401, 25.2411, 17.1287), (11.9209, 23.4976, 13.4243), (16.9474, 24.5137, 7.36101), (19.373, 24.4659, 13.0255), (14.3004, 22.9243, 13.1648), (14.6305, 24.5704, 11.098), (11.1418, 25.4377, 8.41431), (16.926, 23.0282, 13.636), (14.6647, 24.5409, 15.581)] \\\\\n",
       "\t11 & 10 & 1 & 500 & 11 & [9.57577, 15.7848, 19.7569] & 15 & [(9.06115, 15.6761, 17.7053), (9.13151, 18.7932, 21.3187), (10.6109, 11.7334, 19.16), (8.2408, 12.2552, 19.3502), (5.73546, 14.1136, 20.4595), (11.6646, 14.5713, 22.4071), (7.08671, 18.4971, 19.9686), (8.35234, 15.9638, 21.7576), (8.26368, 11.6311, 22.1348), (11.8626, 17.9014, 21.3419), (12.0159, 16.5992, 18.2354), (9.64897, 13.4766, 17.4655), (11.6869, 13.7098, 18.8518), (9.66274, 17.8356, 18.3637), (7.05678, 15.0146, 17.7551)] \\\\\n",
       "\t12 & 11 & 1 & 500 & 12 & [22.9501, 10.9537, 9.57175] & 12 & [(25.2614, 11.3017, 11.1292), (22.3588, 7.40933, 10.0293), (23.9342, 9.1318, 11.1353), (21.9704, 14.5386, 8.65753), (20.4402, 11.0365, 9.77629), (20.6464, 8.56522, 7.84388), (23.1799, 11.9039, 7.58649), (24.7021, 14.4064, 9.81426), (21.8912, 10.4803, 12.2321), (22.6486, 9.94628, 6.96595), (23.4113, 12.4894, 11.0135), (21.1416, 12.3519, 7.19922)] \\\\\n",
       "\t13 & 12 & 1 & 500 & 13 & [19.1471, 10.8918, 1.74817] & 14 & [(18.1527, 12.5244, 6.55099), (13.747, 10.0128, 0.991005), (16.4335, 12.468, 4.19683), (16.7126, 9.68253, 4.92135), (16.7214, 8.44581, 2.33702), (20.7027, 8.80645, 3.63104), (21.5463, 15.2677, 3.19004), (17.8192, 18.2521, 2.25411), (21.6103, 12.3348, 3.55484), (14.927, 12.18, 0.27963), (16.7534, 11.836, 1.28081), (22.3945, 8.90444, 4.80066), (17.8805, 13.3155, 2.43232), (23.1313, 10.8997, 4.9153)] \\\\\n",
       "\t14 & 13 & 1 & 500 & 14 & [1.24176, 13.7199, 10.657] & 11 & [(1.89568, 13.3845, 6.95636), (0.927113, 15.7278, 9.88179), (1.9912, 12.4126, 11.9962), (0.309762, 11.0693, 13.4908), (1.94381, 12.0507, 8.75705), (1.11216, 9.93152, 11.9653), (2.54054, 14.402, 8.57367), (3.37543, 16.4026, 12.8969), (1.02164, 15.277, 14.8458), (2.90362, 13.7699, 13.8908), (3.85668, 14.576, 10.2132)] \\\\\n",
       "\t15 & 14 & 1 & 500 & 15 & [11.3922, 21.2242, 12.8332] & 14 & [(13.877, 22.3845, 15.3355), (12.2873, 23.606, 10.0503), (8.53566, 19.4953, 10.4464), (9.72573, 23.0419, 13.4195), (11.7315, 20.4592, 10.5373), (11.9366, 18.8131, 12.0852), (11.9209, 23.4976, 13.4243), (11.7618, 19.2699, 15.4118), (14.3004, 22.9243, 13.1648), (13.6202, 20.6133, 12.4424), (9.62176, 24.2083, 9.77986), (8.29704, 21.2313, 9.12617), (8.71514, 19.7085, 12.8446), (10.7545, 21.7201, 14.9546)] \\\\\n",
       "\t16 & 15 & 1 & 500 & 16 & [12.2036, 14.4298, 25.693] & 11 & [(17.2443, 12.6802, 25.8786), (11.8422, 10.4015, 25.1402), (10.0588, 11.6062, 24.0275), (11.971, 17.5874, 23.9713), (11.6646, 14.5713, 22.4071), (9.44526, 15.3998, 25.2078), (14.3315, 11.1159, 25.5887), (14.3995, 14.635, 23.756), (8.5857, 13.358, 24.0149), (7.61619, 10.5293, 24.8823), (14.4728, 15.4949, 25.57)] \\\\\n",
       "\t17 & 16 & 1 & 500 & 17 & [19.8457, 14.7572, 6.2123] & 16 & [(18.1527, 12.5244, 6.55099), (21.9704, 14.5386, 8.65753), (22.1863, 18.6471, 6.34099), (21.2254, 17.1077, 9.46826), (20.3324, 16.5688, 4.23224), (21.5463, 15.2677, 3.19004), (16.2754, 17.7319, 7.70714), (24.0388, 14.8779, 7.6146), (18.3615, 13.466, 8.40211), (18.2742, 17.6129, 5.66199), (21.6103, 12.3348, 3.55484), (21.1416, 12.3519, 7.19922), (23.4551, 16.8106, 7.50812), (17.8805, 13.3155, 2.43232), (20.0856, 18.0813, 7.27139), (17.771, 15.3688, 5.34928)] \\\\\n",
       "\t18 & 17 & 1 & 500 & 18 & [16.9474, 9.0727, 22.2536] & 11 & [(14.6508, 9.83449, 18.7672), (18.8539, 10.4244, 20.1614), (16.2286, 10.8378, 20.5262), (18.3972, 7.63601, 21.9924), (19.1693, 9.48745, 23.3456), (18.4993, 11.4654, 22.0557), (15.9205, 10.1329, 23.709), (16.4321, 7.45402, 24.4613), (14.7527, 9.70657, 22.0683), (17.3761, 7.04492, 18.8246), (15.9466, 6.82966, 21.941)] \\\\\n",
       "\t19 & 18 & 1 & 500 & 19 & [2.82909, 14.1255, 17.4861] & 12 & [(6.18688, 10.6763, 15.3724), (2.52651, 13.9893, 19.5445), (7.33763, 13.181, 16.5032), (4.71675, 14.887, 13.3002), (3.39306, 15.9196, 19.5975), (5.73546, 14.1136, 20.4595), (2.16134, 11.9696, 17.2793), (1.94103, 17.3489, 15.3265), (4.68001, 15.8864, 17.5039), (4.43847, 11.7631, 18.5664), (1.02164, 15.277, 14.8458), (2.90362, 13.7699, 13.8908)] \\\\\n",
       "\t20 & 19 & 1 & 500 & 20 & [15.2497, 19.8914, 6.90836] & 17 & [(15.9547, 21.653, 5.6867), (13.4513, 19.2849, 10.2926), (17.8243, 20.2639, 9.77846), (15.0858, 18.3296, 4.73797), (13.7001, 21.5524, 5.79713), (17.4998, 20.1745, 4.05171), (16.2066, 22.2475, 10.5848), (14.1025, 18.26, 7.95597), (16.2754, 17.7319, 7.70714), (14.1775, 22.557, 10.1076), (13.2434, 18.4192, 5.54687), (16.126, 18.8105, 9.52112), (18.2742, 17.6129, 5.66199), (11.9971, 20.4742, 7.61563), (15.0866, 23.577, 7.48822), (17.5561, 21.4277, 7.09113), (18.3874, 19.1983, 7.14881)] \\\\\n",
       "\t21 & 20 & 1 & 500 & 21 & [7.19918, 11.8165, 2.0904] & 12 & [(13.747, 10.0128, 0.991005), (11.9211, 14.5375, 0.352456), (9.45466, 6.14698, 2.75099), (5.83015, 8.81254, 3.78562), (9.75399, 8.6086, 3.22183), (6.78812, 13.8022, 4.75014), (7.86169, 10.7481, 4.71676), (8.71324, 13.1453, 2.31929), (5.45626, 14.4345, 3.36488), (6.87828, 16.8562, 2.80979), (8.63816, 17.8623, 1.91837), (5.29258, 11.9669, 2.95101)] \\\\\n",
       "\t22 & 21 & 1 & 500 & 22 & [15.759, 17.0686, 25.0467] & 13 & [(15.7957, 20.1995, 23.1861), (16.5833, 17.6021, 21.6372), (17.2443, 12.6802, 25.8786), (19.2177, 14.3465, 22.7284), (14.391, 17.5396, 22.5885), (11.971, 17.5874, 23.9713), (10.446, 20.7002, 23.1509), (18.5348, 16.4198, 21.9664), (17.9044, 18.1354, 24.6867), (9.44526, 15.3998, 25.2078), (14.3995, 14.635, 23.756), (16.0779, 12.4195, 23.9256), (14.4728, 15.4949, 25.57)] \\\\\n",
       "\t23 & 22 & 1 & 500 & 23 & [13.6202, 20.6133, 12.4424] & 14 & [(13.4513, 19.2849, 10.2926), (13.877, 22.3845, 15.3355), (12.2873, 23.606, 10.0503), (16.2066, 22.2475, 10.5848), (11.7315, 20.4592, 10.5373), (14.0666, 18.687, 14.0556), (11.9366, 18.8131, 12.0852), (11.3922, 21.2242, 12.8332), (14.1775, 22.557, 10.1076), (11.7618, 19.2699, 15.4118), (14.3004, 22.9243, 13.1648), (16.926, 23.0282, 13.636), (15.2089, 19.4107, 11.3432), (17.4985, 21.0706, 12.3416)] \\\\\n",
       "\t24 & 23 & 1 & 500 & 24 & [18.5348, 16.4198, 21.9664] & 16 & [(18.2287, 15.1566, 18.0381), (19.6745, 14.6249, 20.3143), (22.5738, 17.8354, 21.4213), (16.5833, 17.6021, 21.6372), (19.2177, 14.3465, 22.7284), (20.5426, 16.4912, 23.6791), (16.7202, 18.7068, 19.797), (14.4953, 14.5462, 20.1647), (19.4708, 17.3563, 18.4246), (17.8988, 19.2244, 21.4333), (17.9044, 18.1354, 24.6867), (19.3915, 19.0406, 19.554), (16.3725, 15.7225, 18.9044), (15.759, 17.0686, 25.0467), (21.961, 15.8743, 20.8151), (14.3995, 14.635, 23.756)] \\\\\n",
       "\t25 & 24 & 1 & 500 & 25 & [17.3761, 7.04492, 18.8246] & 19 & [(17.0449, 9.97289, 17.9735), (14.6508, 9.83449, 18.7672), (18.8539, 10.4244, 20.1614), (18.3972, 7.63601, 21.9924), (18.5284, 4.59529, 18.7731), (16.9474, 9.0727, 22.2536), (15.9466, 6.82966, 21.941), (16.1556, 7.35468, 15.5616), (18.7331, 6.3221, 15.9099), (20.18, 9.43368, 19.0111), (17.054, 4.96479, 20.1148), (13.4959, 8.43457, 17.9087), (16.5492, 5.31869, 16.7007), (20.1349, 6.91491, 17.6094), (16.2286, 10.8378, 20.5262), (14.7703, 5.39269, 21.1564), (18.2296, 8.7717, 15.9318), (13.4048, 6.99556, 19.9462), (19.7398, 6.40995, 20.2344)] \\\\\n",
       "\t26 & 25 & 1 & 500 & 26 & [13.7781, 17.4742, 20.1251] & 15 & [(12.7301, 20.6971, 22.3798), (13.6224, 20.2946, 17.9084), (16.5833, 17.6021, 21.6372), (14.4448, 21.0952, 19.8143), (14.4953, 14.5462, 20.1647), (14.391, 17.5396, 22.5885), (16.7202, 18.7068, 19.797), (11.6646, 14.5713, 22.4071), (15.5057, 16.6552, 17.2731), (12.6425, 17.3386, 16.4041), (11.8626, 17.9014, 21.3419), (16.3725, 15.7225, 18.9044), (12.0159, 16.5992, 18.2354), (11.3614, 20.1877, 18.0193), (13.4338, 14.7977, 18.4313)] \\\\\n",
       "\t27 & 26 & 1 & 500 & 27 & [5.62192, 19.0869, 9.88155] & 12 & [(6.94144, 20.0205, 6.53004), (8.53566, 19.4953, 10.4464), (3.9591, 17.763, 8.89523), (5.19975, 20.2882, 12.0389), (7.86557, 23.3178, 9.38423), (4.91586, 15.9482, 9.08671), (5.9305, 17.6665, 11.277), (8.76752, 16.6432, 10.6297), (7.05459, 17.3192, 7.61341), (8.29704, 21.2313, 9.12617), (4.98811, 19.7836, 7.94851), (2.26695, 18.8433, 10.8602)] \\\\\n",
       "\t28 & 27 & 1 & 500 & 28 & [6.87828, 16.8562, 2.80979] & 12 & [(8.23179, 16.1086, 4.51316), (3.93537, 18.4663, 6.85256), (6.94144, 20.0205, 6.53004), (8.71324, 13.1453, 2.31929), (8.82479, 21.9196, 5.39857), (7.19918, 11.8165, 2.0904), (9.34298, 15.0906, 2.70437), (7.05459, 17.3192, 7.61341), (5.21869, 14.7553, 7.25855), (5.45626, 14.4345, 3.36488), (8.63816, 17.8623, 1.91837), (5.29258, 11.9669, 2.95101)] \\\\\n",
       "\t29 & 28 & 1 & 500 & 29 & [21.961, 15.8743, 20.8151] & 13 & [(25.1099, 15.2439, 18.2473), (21.0493, 15.4881, 17.5773), (21.7225, 12.896, 21.1924), (19.6745, 14.6249, 20.3143), (22.5738, 17.8354, 21.4213), (19.2177, 14.3465, 22.7284), (20.5426, 16.4912, 23.6791), (23.0578, 15.8252, 17.9412), (19.4708, 17.3563, 18.4246), (19.3915, 19.0406, 19.554), (18.5348, 16.4198, 21.9664), (22.0303, 17.6107, 19.0455), (23.9604, 13.7828, 19.1617)] \\\\\n",
       "\t30 & 29 & 1 & 500 & 30 & [20.0856, 18.0813, 7.27139] & 16 & [(17.8243, 20.2639, 9.77846), (21.6573, 20.7467, 6.66774), (22.1863, 18.6471, 6.34099), (21.9704, 14.5386, 8.65753), (21.2254, 17.1077, 9.46826), (20.3324, 16.5688, 4.23224), (16.2754, 17.7319, 7.70714), (16.3718, 16.7629, 9.68455), (18.3615, 13.466, 8.40211), (20.24, 21.2321, 5.31041), (19.8457, 14.7572, 6.2123), (18.2742, 17.6129, 5.66199), (20.122, 22.2405, 8.87621), (23.4551, 16.8106, 7.50812), (22.6349, 19.7213, 8.80492), (18.3874, 19.1983, 7.14881)] \\\\\n",
       "\t$\\dots$ & $\\dots$ & $\\dots$ & $\\dots$ & $\\dots$ & $\\dots$ & $\\dots$ & $\\dots$ \\\\\n",
       "\\end{tabular}\n"
      ],
      "text/plain": [
       "\u001b[1m500×7 DataFrame\u001b[0m\n",
       "\u001b[1m Row \u001b[0m│\u001b[1m Column1 \u001b[0m\u001b[1m 0     \u001b[0m\u001b[1m 1     \u001b[0m\u001b[1m 2     \u001b[0m\u001b[1m 3                           \u001b[0m\u001b[1m 4     \u001b[0m\u001b[1m 5    \u001b[0m ⋯\n",
       "     │\u001b[90m Int64   \u001b[0m\u001b[90m Int64 \u001b[0m\u001b[90m Int64 \u001b[0m\u001b[90m Int64 \u001b[0m\u001b[90m Array…                      \u001b[0m\u001b[90m Int64 \u001b[0m\u001b[90m Array\u001b[0m ⋯\n",
       "─────┼──────────────────────────────────────────────────────────────────────────\n",
       "   1 │       0      1    500      1  [16.7083, 13.8686, 11.3188]     18  [(19. ⋯\n",
       "   2 │       1      1    500      2  [17.8243, 20.2639, 9.77846]     15  [(17.\n",
       "   3 │       2      1    500      3  [9.40614, 11.2264, 9.42822]     17  [(7.8\n",
       "   4 │       3      1    500      4  [13.5692, 8.7828, 15.3179]      15  [(17.\n",
       "   5 │       4      1    500      5  [6.94144, 20.0205, 6.53004]     14  [(10. ⋯\n",
       "   6 │       5      1    500      6  [9.45466, 6.14698, 2.75099]     13  [(13.\n",
       "   7 │       6      1    500      7  [1.9912, 12.4126, 11.9962]      12  [(5.9\n",
       "   8 │       7      1    500      8  [14.8531, 10.6184, 8.95051]     13  [(16.\n",
       "   9 │       8      1    500      9  [17.2169, 1.69863, 14.8952]      9  [(16. ⋯\n",
       "  10 │       9      1    500     10  [14.4379, 25.5832, 13.3912]     12  [(11.\n",
       "  11 │      10      1    500     11  [9.57577, 15.7848, 19.7569]     15  [(9.0\n",
       "  ⋮  │    ⋮       ⋮      ⋮      ⋮                 ⋮                 ⋮          ⋱\n",
       " 491 │     490      1    500    491  [1.36201, 10.0841, 17.7065]     13  [(4.7\n",
       " 492 │     491      1    500    492  [20.6464, 8.56522, 7.84388]     15  [(18. ⋯\n",
       " 493 │     492      1    500    493  [23.1799, 11.9039, 7.58649]     10  [(25.\n",
       " 494 │     493      1    500    494  [18.2081, 4.9249, 10.0192]      15  [(20.\n",
       " 495 │     494      1    500    495  [2.16134, 11.9696, 17.2793]     12  [(6.1\n",
       " 496 │     495      1    500    496  [8.71324, 13.1453, 2.31929]     13  [(10. ⋯\n",
       " 497 │     496      1    500    497  [11.2002, 13.5132, 3.58157]     13  [(10.\n",
       " 498 │     497      1    500    498  [17.6372, 6.3383, 4.19229]      12  [(17.\n",
       " 499 │     498      1    500    499  [21.2744, 13.4412, 15.7991]     14  [(25.\n",
       " 500 │     499      1    500    500  [20.1767, 11.2716, 24.2008]     12  [(21. ⋯\n",
       "\u001b[36m                                                   1 column and 479 rows omitted\u001b[0m"
      ]
     },
     "execution_count": 51,
     "metadata": {},
     "output_type": "execute_result"
    }
   ],
   "source": [
    "# We have to use the broadcasted versions of the functions with . as we want to parse every single entry and not the whole column. \n",
    "list_3d.\"3\" = eval.(Meta.parse.(list_3d.\"3\"))\n",
    "list_3d.\"5\" = eval.(Meta.parse.(list_3d.\"5\"))\n",
    "list_3d"
   ]
  },
  {
   "cell_type": "markdown",
   "metadata": {},
   "source": [
    "##  Short  Summary"
   ]
  },
  {
   "cell_type": "markdown",
   "metadata": {},
   "source": [
    "- Julia can navigate through paths on your harddrive and create/load/delete folders and files\n",
    "- Use `Serialization` to import and export data when only using Julia\n",
    "- Printing/Reading Data into `.txt` files is painful and should be avoided if possible\n",
    "- Use `DataFrames` and the `CSV` package to save and share your data in `.csv` files"
   ]
  },
  {
   "cell_type": "markdown",
   "metadata": {},
   "source": [
    "## Exercises\n",
    "\n",
    "All exercises in this course are divided into 3 different difficulty categories: <span style=\"color:green\">easy</span>, <span style=\"color:orange\">medium</span> and <span style=\"color:red\">hard</span>. <span style=\"color:green\">Easy</span> exercises should be solvable solely with the contents of the respective notebook. <span style=\"color:orange\">Medium</span> often require the transfer of known concepts to new problems. Therefore, it might be necessary to look up some old notebooks or to use your creativity and curiosity to combine seemingly unrelated stuff. <span style=\"color:red\">Hard</span> exercises take this concept one step further and might require you to use additional resources like the official documentation, google, StackOverflow,... . "
   ]
  },
  {
   "cell_type": "markdown",
   "metadata": {},
   "source": [
    "### <p style='color: green'>easy</p>"
   ]
  },
  {
   "cell_type": "markdown",
   "metadata": {},
   "source": [
    "\n",
    "1. Get the number of files in the current working directory."
   ]
  },
  {
   "cell_type": "markdown",
   "metadata": {},
   "source": [
    "\n",
    "2. Count the number of .txt files in the current working directory."
   ]
  },
  {
   "cell_type": "markdown",
   "metadata": {},
   "source": [
    "\n",
    "3. Create a subfolder named \"data\" inside the folder of the notebook"
   ]
  },
  {
   "cell_type": "markdown",
   "metadata": {},
   "source": [
    "\n",
    "4. Create and save a vector of Float64 as a `.jls` file inside data "
   ]
  },
  {
   "cell_type": "markdown",
   "metadata": {},
   "source": [
    "\n",
    "5. Load the `jls` file and delete it afterwards. "
   ]
  },
  {
   "cell_type": "markdown",
   "metadata": {},
   "source": [
    "### <p style='color: orange'>medium</p>"
   ]
  },
  {
   "cell_type": "markdown",
   "metadata": {},
   "source": [
    "\n",
    "6. Create  20 vectors that each contain 30 ascending numbers like ` vec1 = [1,...,30] vec2 = [31,...,60],...`. Save each vector as seperate `jls` file into the data folder. \n",
    "\n",
    "Hint: You do not need to give each vector a name. "
   ]
  },
  {
   "cell_type": "markdown",
   "metadata": {},
   "source": [
    "7. Write a function called import_Vectors that imports all vectors from the datafolder and creates one big vector called HUGE that contains all the numbers in ascending order.   "
   ]
  },
  {
   "cell_type": "markdown",
   "metadata": {},
   "source": [
    "8. Apply the sinus function to Huge and plot it as a scatter plot with CairoMakie. Save the plot in the data folder. "
   ]
  },
  {
   "cell_type": "markdown",
   "metadata": {},
   "source": [
    "9. Make sure that the import_Vector functions still works, even thought there is now a plot file as well in the data folder. "
   ]
  },
  {
   "cell_type": "markdown",
   "metadata": {},
   "source": [
    "10. Import the dataset drugScreen2 from the file DrugScreen3.csv. Check that the import worked correctly. If not, adjust the import parameters and modify the columns. \n"
   ]
  },
  {
   "cell_type": "markdown",
   "metadata": {},
   "source": [
    "### <p style='color: red'>hard</p>"
   ]
  },
  {
   "cell_type": "markdown",
   "metadata": {},
   "source": [
    "11. Create a new folder called weights. Copy the file  Weights.csv to that folder, only using Julia. Import the dataset \"Weights\" (Weights.csv). Check that the import worked correctly. If not, adjust the import parameters. Plot a histogram of the weights and save it as a PDF in a new subfolder in weights called plots."
   ]
  },
  {
   "cell_type": "markdown",
   "metadata": {},
   "source": [
    "12. Import the file AliceInWonderland.txt and count the number of words in the file. \n"
   ]
  },
  {
   "cell_type": "code",
   "execution_count": null,
   "metadata": {},
   "outputs": [],
   "source": []
  }
 ],
 "metadata": {
  "kernelspec": {
   "display_name": "Julia 1.9.0",
   "language": "julia",
   "name": "julia-1.9"
  },
  "language_info": {
   "file_extension": ".jl",
   "mimetype": "application/julia",
   "name": "julia",
   "version": "1.9.0"
  }
 },
 "nbformat": 4,
 "nbformat_minor": 4
}
