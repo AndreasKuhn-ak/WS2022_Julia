{
 "cells": [
  {
   "cell_type": "markdown",
   "metadata": {},
   "source": [
    "<p style='text-align: center'><a href=https://www.biozentrum.uni-wuerzburg.de/cctb/research/supramolecular-and-cellular-simulations/>Supramolecular and Cellular Simulations</a> (Prof. Fischer)<br>Center for Computational and Theoretical Biology - CCTB<br>Faculty of Biology, University of Würzburg</p>\n",
    "\n",
    "<p style='text-align: center'><br><br>We are looking forward to your comments and suggestions. Please send them to: <br><br></p>\n",
    "    \n",
    " <p style='text-align: center'>   <a href=andreas.kuhn@uni.wuerzburg.de>andreas.kuhn@uni.wuerzburg.de</a> or <a href=sabine.fischer@uni.wuerzburg.de>sabine.fischer@uni.wuerzburg.de</a></p>\n",
    "\n",
    "<h1><p style='text-align: center'> Introduction to Julia </p></h1>\n"
   ]
  },
  {
   "cell_type": "markdown",
   "metadata": {},
   "source": [
    "## File management"
   ]
  },
  {
   "cell_type": "markdown",
   "metadata": {},
   "source": [
    "This notebook gives you a short introduction how to  manage paths, create/delete folders and to import/export data with Julia.   "
   ]
  },
  {
   "cell_type": "markdown",
   "metadata": {},
   "source": [
    "### 1. Paths or where are we? "
   ]
  },
  {
   "cell_type": "markdown",
   "metadata": {},
   "source": [
    "A path is the address of a file or folder on a harddrive of your device. Paths can either be given in absolute terms or relative towards other paths. The function `pwd()` returns the absolute path of this notebook/the current Julia session. "
   ]
  },
  {
   "cell_type": "code",
   "execution_count": null,
   "metadata": {},
   "outputs": [],
   "source": [
    "path_notebook = pwd()"
   ]
  },
  {
   "cell_type": "markdown",
   "metadata": {},
   "source": [
    "Relative paths are always given in relation to the absolute path of the current notebook/Julia session (the return value of `pwd()`). It is possible to change this path, but we strongly advice you not to and always keep `pwd()` at its default value. \n",
    "\n",
    "If you want to get the contents of a folder, you can use the  `readdir(some_path)` function with a specific path as argument or without an argument `readdir()`. In the second case the absolute path of the current Julia session is used. \n",
    "\n",
    "  The  `readdir()` function returns the relative paths of all the folders and files of the given path as a Vector of `Strings`. "
   ]
  },
  {
   "cell_type": "code",
   "execution_count": null,
   "metadata": {},
   "outputs": [],
   "source": [
    "readdir(path_notebook)  # absolute path"
   ]
  },
  {
   "cell_type": "markdown",
   "metadata": {},
   "source": [
    "As `path_notebook` was set to the path of this notebook, `readdir()` without an argument does exactly the same.  "
   ]
  },
  {
   "cell_type": "code",
   "execution_count": null,
   "metadata": {},
   "outputs": [],
   "source": [
    "readdir()              # relative path    "
   ]
  },
  {
   "cell_type": "markdown",
   "metadata": {},
   "source": [
    "As you can see, an absolute path is quite long, annoying to deal with and depends on your machine and operation system.  Therefore, if possible you should always work with relative paths, as they are smaller and easily portable."
   ]
  },
  {
   "cell_type": "markdown",
   "metadata": {},
   "source": [
    "If you want to create a folder, you can use the `mkpath()` function which creates folder(s) at the given path. "
   ]
  },
  {
   "cell_type": "code",
   "execution_count": null,
   "metadata": {},
   "outputs": [],
   "source": [
    "mkpath(\"test_folder1\")\n",
    "mkpath(\"test_folder2/sub_folder/data\")"
   ]
  },
  {
   "cell_type": "code",
   "execution_count": null,
   "metadata": {},
   "outputs": [],
   "source": [
    "readdir()"
   ]
  },
  {
   "cell_type": "markdown",
   "metadata": {},
   "source": [
    "The return value of `readdir()` has changed because you have created the folders `test_folder1` and `test_folder2` inside your notebook folder. To see what's inside `test_folder` you can use its relative path as argument for `readdir()`."
   ]
  },
  {
   "cell_type": "code",
   "execution_count": null,
   "metadata": {},
   "outputs": [],
   "source": [
    "readdir(\"test_folder1\")"
   ]
  },
  {
   "cell_type": "markdown",
   "metadata": {},
   "source": [
    "`test_folder1` is emtpy. "
   ]
  },
  {
   "cell_type": "code",
   "execution_count": null,
   "metadata": {},
   "outputs": [],
   "source": [
    "readdir(\"test_folder2/\")"
   ]
  },
  {
   "cell_type": "code",
   "execution_count": null,
   "metadata": {},
   "outputs": [],
   "source": [
    "readdir(\"test_folder2/sub_folder/\")"
   ]
  },
  {
   "cell_type": "markdown",
   "metadata": {},
   "source": [
    "`test_folder2` contains the folder `subfolder` which itself contains the folder `data`."
   ]
  },
  {
   "cell_type": "markdown",
   "metadata": {},
   "source": [
    "#### Note: The slash or backslash question\n",
    "If you are using this notebook on Windows, `pwd()` has probably returned paths similar to this one: `\"C:\\\\Users\\\\hanswurst\\\\sfw_stuff\\\\Julia_course\\\\Part_7_File_Management\"` with `\\\\` instead of `/` . Therefore, you could use double backslashes instead of slashes in your code as well. On Windows this would work perfectly fine, but as soon as you use the same notebook on Linux or Mac, everything would break. Therefore, we strongly advice you to always use slashes `/`  as they work everywhere. \n",
    "\n"
   ]
  },
  {
   "cell_type": "markdown",
   "metadata": {},
   "source": [
    "If you want to delete a file or an empty folder, you can use the `rm()` function. "
   ]
  },
  {
   "cell_type": "code",
   "execution_count": null,
   "metadata": {},
   "outputs": [],
   "source": [
    "rm(\"test_folder1\")"
   ]
  },
  {
   "cell_type": "markdown",
   "metadata": {},
   "source": [
    "If you want to delete a folder that is not empty you get an error message. "
   ]
  },
  {
   "cell_type": "code",
   "execution_count": null,
   "metadata": {},
   "outputs": [],
   "source": [
    "rm(\"test_folder2\")"
   ]
  },
  {
   "cell_type": "markdown",
   "metadata": {},
   "source": [
    "To remove a folder together with all files/subfolders inside, you can add the keyword argument `recursive = true`.\n",
    "\n",
    "Note: You should only use this if you exactly know what you are doing and where you are. Because, if you are in the wrong folder it can happen very easily that you delete half your harddrive in an instant.  \n",
    "\n"
   ]
  },
  {
   "cell_type": "code",
   "execution_count": null,
   "metadata": {},
   "outputs": [],
   "source": [
    "rm(\"test_folder2\",recursive = true)"
   ]
  },
  {
   "cell_type": "markdown",
   "metadata": {},
   "source": [
    "![title](oh_shit.webp)"
   ]
  },
  {
   "cell_type": "code",
   "execution_count": null,
   "metadata": {},
   "outputs": [],
   "source": [
    "readdir()"
   ]
  },
  {
   "cell_type": "markdown",
   "metadata": {},
   "source": [
    "Note: There are a lot more [functions regarding the filesystem in Julia](https://docs.julialang.org/en/v1/base/file/), which provide a functionality almost as powerful as the Linux command line."
   ]
  },
  {
   "cell_type": "markdown",
   "metadata": {},
   "source": [
    "### 2. Import/Export data"
   ]
  },
  {
   "cell_type": "markdown",
   "metadata": {},
   "source": [
    "When exporting/importing data, there are essentially two questions to ask: \n",
    "\n",
    "#### Should the data be human readable  ? \n",
    "\n",
    "#### Will the data be used outside of Julia with other languages/programs ? \n"
   ]
  },
  {
   "cell_type": "markdown",
   "metadata": {},
   "source": [
    "###  2.1 Serialization \n",
    "\n",
    "If the answer to both questions is `no`, Julia has a very useful package for this purpose in its standard libary called `Serialization`."
   ]
  },
  {
   "cell_type": "code",
   "execution_count": null,
   "metadata": {},
   "outputs": [],
   "source": [
    "using Serialization"
   ]
  },
  {
   "cell_type": "markdown",
   "metadata": {},
   "source": [
    "This package provides two functions `serialize()` and `deserialize()`. \n",
    "\n",
    "`serialize()` expects two arguments. The first argument is the name of the file (its future path) that you want to create, and the second argument is the Julia object you want to save. You can save every possible Julia object this way. It does not matter if it is a `String`, an `array`, a `dictionary` or arbitarily more complicated nested objects like `array of arrays, figures ...`. `serialize()` creates a Julia binary file at the given path. It is convention to use the ending `.jls` for such files.   \n"
   ]
  },
  {
   "cell_type": "code",
   "execution_count": null,
   "metadata": {},
   "outputs": [],
   "source": [
    "matrix1 = rand(100,100)"
   ]
  },
  {
   "cell_type": "code",
   "execution_count": null,
   "metadata": {},
   "outputs": [],
   "source": [
    "serialize(\"matrix1.jls\",matrix1)  \n",
    "readdir()"
   ]
  },
  {
   "cell_type": "markdown",
   "metadata": {},
   "source": [
    "To import the created `jls` file, you can use `deserialize()`. This function takes only one argument, the path of the file you want to import and returns the restored Julia object. "
   ]
  },
  {
   "cell_type": "code",
   "execution_count": null,
   "metadata": {},
   "outputs": [],
   "source": [
    "matrix1_restored = deserialize(\"matrix1.jls\")"
   ]
  },
  {
   "cell_type": "markdown",
   "metadata": {},
   "source": [
    "`.jls` files can only be read by Julia itself and cannot be opened by programs like text editor or Excel. But this comes with the advantage of superior speed.  `Serialization` is around 10-1000 times faster than any other method to import/export data.  Therefore, if you work on your data in Julia exclusively and want to share it only with people that have/know Julia, `Serialization` is the way to go."
   ]
  },
  {
   "cell_type": "markdown",
   "metadata": {},
   "source": [
    "##### Comment: \n",
    " Serialization is mainly used in the internals of Julia to exchange objects between different processes/ Julia sessions, ... . Therefore, it is optimized for maximum performance but not necessarily for backwards compatibility. The developers have promised that it will not break between 1.xx versions of Julia, but if at some point a new x.0 version of Julia comes out, there might be issues importing old stored data into the new Julia version.\n",
    "But as the past has shown, even packages, that are focused on long term storage, are not safe from [compatibilty issues](https://discourse.julialang.org/t/jld-jl-vs-jld2-jl/15287). Therefore, we believe that `Serialization` is currently the best and for sure fastest option to save huge junks of data in Julia."
   ]
  },
  {
   "cell_type": "markdown",
   "metadata": {},
   "source": [
    "###  2.2 Human readable data"
   ]
  },
  {
   "cell_type": "markdown",
   "metadata": {},
   "source": [
    "Human-readable implies that the exported data can be opened using various programs like text editors, Excel, and more, and can be easily understood by humans. The most common method to achieve this involves converting data into `Strings` and then storing them in a .txt file. Different methods and standards exist for this purpose (`JSON`, `JSON3`, `BSON`, ...), each with its own applications and limitations. While it's generally advisable to avoid such formats due to slower speeds and increased error susceptibility compared to serialization, there are situations where you may need to import data from external sources in textform. If your data conforms to one of the mentioned formats, you can call yourself lucky, install the respective package and import the file with the corresponding import function. However, this isn't always the case.\n",
    "\n",
    "\n",
    "Hence, this course will introduce you to a more general approach in Julia for importing and exporting data in `.txt` files. While the primary focus is on data import, for the sake of completeness, you will also learn how to export data."
   ]
  },
  {
   "cell_type": "markdown",
   "metadata": {},
   "source": [
    "#### 2.2.1 Export Data"
   ]
  },
  {
   "cell_type": "markdown",
   "metadata": {},
   "source": [
    "To transfrom any variable into a `String`, you can use a function that you already know:  `print()`\n",
    "\n",
    "But this time, you have to combine it with another function `open()`, which opens/creates files. \n",
    "\n",
    "The `print()` function has an optional argument at the beginning, which specifies the target. The default value is the standard output/command line, which you have been using so far without noticing.  But in this case, you want to change it to said file. \n",
    "\n",
    "The `open()` function takes two arguments the first is the path of the file and the second is either `w` for write, `r` for read or `a` for append. "
   ]
  },
  {
   "cell_type": "code",
   "execution_count": null,
   "metadata": {},
   "outputs": [],
   "source": [
    "print(open(\"matrix3.txt\",\"w\"),matrix1)"
   ]
  },
  {
   "cell_type": "markdown",
   "metadata": {},
   "source": [
    "You can also use another syntax construct that is often used when providing functions as arguments to functions. The `do` construct: \n",
    "\n",
    "``` julia\n",
    "function1(argument1,...) do name\n",
    "    \n",
    "    function2(name,argument2,...)\n",
    "    \n",
    "end\n",
    "    \n",
    "```\n",
    "\n",
    "which is essentially the same as \n",
    "\n",
    "``` julia\n",
    "function2(function1(argument1,...), argument2,...)\n",
    "    \n",
    "  \n",
    "```"
   ]
  },
  {
   "cell_type": "code",
   "execution_count": null,
   "metadata": {},
   "outputs": [],
   "source": [
    "open(\"matrix4.txt\",\"w\") do file\n",
    "    print(file,matrix1)\n",
    "end"
   ]
  },
  {
   "cell_type": "markdown",
   "metadata": {},
   "source": [
    "You can `print` different datatypes with this method into a file: "
   ]
  },
  {
   "cell_type": "code",
   "execution_count": null,
   "metadata": {},
   "outputs": [],
   "source": [
    "rockets_dic = Dict(\"SpaceX\" =>\"Starship\", \"NASA\" =>\"SLS\",\"ULA\" => \"AtlasV\")\n",
    "number_vec = collect(1:50)\n",
    "hansi = \"hansi geht in die hütten\" \n",
    "\n",
    "open(\"hansi.txt\",\"w\") do file\n",
    "    print(file,hansi)\n",
    "end\n",
    "\n",
    "open(\"rockets.txt\",\"w\") do file\n",
    "    print(file,rockets_dic)\n",
    "end\n",
    "\n",
    "open(\"numbers.txt\",\"w\") do file\n",
    "    print(file,number_vec)\n",
    "end"
   ]
  },
  {
   "cell_type": "markdown",
   "metadata": {},
   "source": [
    "Now five new `.txt` files should have been created inside the folder of this notebook. You can use `Notepad`, `JupyterLab` or many other programms to inspect their contents. "
   ]
  },
  {
   "cell_type": "markdown",
   "metadata": {},
   "source": [
    "If you want to import the printed data back into Julia, you can use the `read()` function together with `open()`."
   ]
  },
  {
   "cell_type": "code",
   "execution_count": null,
   "metadata": {},
   "outputs": [],
   "source": [
    "open(\"hansi.txt\",\"r\") do file\n",
    "    read(file,String)\n",
    "end "
   ]
  },
  {
   "cell_type": "markdown",
   "metadata": {},
   "source": [
    "But the more convenient way to do that is to use the function `readline()`, which  takes the path to a file as argument. "
   ]
  },
  {
   "cell_type": "code",
   "execution_count": null,
   "metadata": {},
   "outputs": [],
   "source": [
    "hansi_restored = readline(\"hansi.txt\")"
   ]
  },
  {
   "cell_type": "markdown",
   "metadata": {},
   "source": [
    "`readline()` always returns a `String`. If the original Julia object was a `String` , everything works fine, but you will run into problems if the restored data was not a string originally."
   ]
  },
  {
   "cell_type": "code",
   "execution_count": null,
   "metadata": {},
   "outputs": [],
   "source": [
    "number_vec_restored_string = readline(\"numbers.txt\")"
   ]
  },
  {
   "cell_type": "markdown",
   "metadata": {},
   "source": [
    "This oject which was an `Int64[]` array before,  is now a `String`. How can you transform it back to an array of type`Int64[]` ? One possible solution to this problem is the `parse()` function. \n"
   ]
  },
  {
   "cell_type": "code",
   "execution_count": null,
   "metadata": {},
   "outputs": [],
   "source": [
    "parse(Int64,number_vec_restored_string[2])"
   ]
  },
  {
   "cell_type": "code",
   "execution_count": null,
   "metadata": {},
   "outputs": [],
   "source": [
    "parse(Int64,number_vec_restored_string[29:30])"
   ]
  },
  {
   "cell_type": "code",
   "execution_count": null,
   "metadata": {},
   "outputs": [],
   "source": [
    "parse(Int64,number_vec_restored_string)"
   ]
  },
  {
   "cell_type": "markdown",
   "metadata": {},
   "source": [
    "The problem is, that `parse()` only works for the parts of the string that soley consist of numbers. Therefore, parsing single numeric types like `Int64` or `Float64` can be done easily, but not composite data types like `array` or e.g. `dicts`, which also include other characters like `,` , `[` , ... in their respetive `String` representations. \n",
    "\n",
    "Now the \"fun\" part starts and you have to transform the string to something that is \"parseable\"."
   ]
  },
  {
   "cell_type": "markdown",
   "metadata": {},
   "source": [
    "Here is one possible way to make the string parseable: \n",
    "\n",
    "1. Cut off the brackets at the start and end \n",
    "\n",
    "2. Transform the `String` into a array of `Strings` with the `split()` function. Whereas the `,` is the symbol that indicates a \"spliting point\" for the `split()` function\n",
    "\n",
    "3. Apply the broadcasted `parse.()` version of the `parse() `function with the `.` operator to every entry of the array of `Strings`    "
   ]
  },
  {
   "cell_type": "code",
   "execution_count": null,
   "metadata": {},
   "outputs": [],
   "source": [
    "numb_vec_restored1 = parse.(Int64, split(number_vec_restored_string[2:end-1],\",\"))\n",
    "println(numb_vec_restored1)"
   ]
  },
  {
   "cell_type": "markdown",
   "metadata": {},
   "source": [
    "Overall this procedure is lengthy, annoying and needs to be changed for every datatype. For example, it wouldn't be possible to parse a 2D array in this way.  \n",
    "\n",
    "This arises the obvious question: Is there a better way to do this ? \n",
    "\n",
    "`Julia` offers a powerfull alternative parsing technique, that is part of one of the language core features called [metaprogramming](https://docs.julialang.org/en/v1/manual/metaprogramming/). It essentially means that \"Julia represents its own code as a data structure of the language itself\". Or, in more understable terms, Julia itself can read and understand Julia source code. Surprisingly, this is a quite rare feature among programming languages, as most of the time the \"read and understand source code\" part is handled by a separate unity called the compiler/interpreter and not by the language itself. This opens the door to many very advanced programming patterns like live creation & execution of Julia source code during runtime,macros, ...\n",
    "\n",
    "You will not use such advanced features here, except for one small part: Julia can evaluate every `String` not only as a `String` but also as source code.  "
   ]
  },
  {
   "cell_type": "markdown",
   "metadata": {},
   "source": [
    "The `Meta.parse()` function transform a `String` into a `Julia` expression which can be evaluated with `eval()`. "
   ]
  },
  {
   "cell_type": "code",
   "execution_count": null,
   "metadata": {},
   "outputs": [],
   "source": [
    "test_expression = \"z = 100\"\n",
    "eval(Meta.parse(test_expression))\n",
    "z"
   ]
  },
  {
   "cell_type": "code",
   "execution_count": null,
   "metadata": {},
   "outputs": [],
   "source": [
    "z == 100"
   ]
  },
  {
   "cell_type": "markdown",
   "metadata": {},
   "source": [
    "This is an obviously very complicated way to create a variable `z` with content `100`. But, this feature also offers a nice alternative to parse a `String`, if the `String` represents correct Julia source code. In this case the `String` `number_vec_restored_string` is correct source code for the definition of an array. Therefore it can be evaluated: "
   ]
  },
  {
   "cell_type": "code",
   "execution_count": null,
   "metadata": {},
   "outputs": [],
   "source": [
    "number_vec_restored2 = eval(Meta.parse(number_vec_restored_string))\n",
    "number_vec_restored2"
   ]
  },
  {
   "cell_type": "markdown",
   "metadata": {},
   "source": [
    "With this syntax you can import everything you have printed to a file with `print`. "
   ]
  },
  {
   "cell_type": "code",
   "execution_count": null,
   "metadata": {},
   "outputs": [],
   "source": [
    "rocket_string = readline(\"rockets.txt\")"
   ]
  },
  {
   "cell_type": "code",
   "execution_count": null,
   "metadata": {},
   "outputs": [],
   "source": [
    "eval(Meta.parse(rocket_string))"
   ]
  },
  {
   "cell_type": "code",
   "execution_count": null,
   "metadata": {},
   "outputs": [],
   "source": [
    "matrix_string = readline(\"matrix4.txt\")"
   ]
  },
  {
   "cell_type": "code",
   "execution_count": null,
   "metadata": {},
   "outputs": [],
   "source": [
    "eval(Meta.parse(matrix_string))"
   ]
  },
  {
   "cell_type": "markdown",
   "metadata": {},
   "source": [
    "##### Final Note: Even though you now know various ways to write/read data from .txt files in Julia, you should never do any of that unless you are forced to by powers out of your control.  "
   ]
  },
  {
   "cell_type": "markdown",
   "metadata": {},
   "source": [
    "###  2.3 Human readable data and usable -> DataFrames.jl and CSV.jl"
   ]
  },
  {
   "cell_type": "markdown",
   "metadata": {},
   "source": [
    "But what is the right way to save data in a human readable, exchangeable and usable way without needing to do all the tedious stuff in the previous chapter ?  \n",
    "The packages `DataFrames` and `CSV` provide solutions. "
   ]
  },
  {
   "cell_type": "code",
   "execution_count": null,
   "metadata": {},
   "outputs": [],
   "source": [
    "using DataFrames, CSV"
   ]
  },
  {
   "cell_type": "markdown",
   "metadata": {},
   "source": [
    "For scientific applications, numerical data is usally shared in the `.csv` (comma separated values) format. Therefore, if you want to share your data, it is best to provide it as `.csv` files. The `CSV` package provides a simple interface to import and export csv formatted data into Julia. This comes with the limitation/benefit that you are forced to format your data as a `DataFrame` object from the `DataFrames` package. "
   ]
  },
  {
   "cell_type": "markdown",
   "metadata": {},
   "source": [
    "A `DataFrame` is essentially a table, where each colum is a `Vector` of any type. The `DataFrames` package additionally provides a lot of data analysis features, which you will get to know in the next lesson. "
   ]
  },
  {
   "cell_type": "markdown",
   "metadata": {},
   "source": [
    "If you want to save a vector as a `.csv` file you need to convert it into a `DataFrame` first. "
   ]
  },
  {
   "cell_type": "code",
   "execution_count": null,
   "metadata": {},
   "outputs": [],
   "source": [
    "number_vec = collect(10:10:120)\n",
    "Number_df = DataFrame(number = number_vec)"
   ]
  },
  {
   "cell_type": "markdown",
   "metadata": {},
   "source": [
    "A column can be accessed by the name of the DataFrame followed by a `.` and the name of the column."
   ]
  },
  {
   "cell_type": "code",
   "execution_count": null,
   "metadata": {},
   "outputs": [],
   "source": [
    "Number_df.number"
   ]
  },
  {
   "cell_type": "markdown",
   "metadata": {},
   "source": [
    "Then we can use the `CSV.write()` function to save our DataFrame at the given path. "
   ]
  },
  {
   "cell_type": "code",
   "execution_count": null,
   "metadata": {},
   "outputs": [],
   "source": [
    "CSV.write(\"numbers.csv\",Number_df)"
   ]
  },
  {
   "cell_type": "markdown",
   "metadata": {},
   "source": [
    "The function `CSV.File(path)` returns a table object that can be transformed back into a DataFrame with the `DataFrame()` function."
   ]
  },
  {
   "cell_type": "code",
   "execution_count": null,
   "metadata": {},
   "outputs": [],
   "source": [
    "numbers_table = CSV.File(\"numbers.csv\")"
   ]
  },
  {
   "cell_type": "code",
   "execution_count": null,
   "metadata": {},
   "outputs": [],
   "source": [
    "numbers_df = DataFrame(numbers_table)"
   ]
  },
  {
   "cell_type": "markdown",
   "metadata": {},
   "source": [
    "##### Comment: This might be the first time, that you encounter an operator ( in this case `.`) that has different effects depending on the context. It was first introduced as a way to apply a function elementwise on a collection. Second, it is a way to access subobjects (`Vectors`) of a more complex object (`DataFrame`) and here, we used it to call specific functions from a pacakge (`CSV.write`). Don't worry, this might be confusing at first but is pretty common in programming. You get used to it very fast!"
   ]
  },
  {
   "cell_type": "markdown",
   "metadata": {},
   "source": [
    "You can use `DataFrame` and `CSV.File` nested. The `CSV.File` function also has some useful additional keyword arguments like `header` which specifies which row should be read as the head of the table."
   ]
  },
  {
   "cell_type": "code",
   "execution_count": null,
   "metadata": {},
   "outputs": [],
   "source": [
    "DataFrame(CSV.File(\"DrugScreen1.csv\", header = 1)) "
   ]
  },
  {
   "cell_type": "markdown",
   "metadata": {},
   "source": [
    "Note: If not all colums are displayed, you can change the number of vertical displayed characters in a jupyter notebook by the command: `ENV[\"COLUMNS\"] = 250`. The default value is 100 which can be increased to a number that fits well to your screen. "
   ]
  },
  {
   "cell_type": "code",
   "execution_count": null,
   "metadata": {},
   "outputs": [],
   "source": [
    "list_3d = DataFrame(CSV.File(\"list3D.csv\"))"
   ]
  },
  {
   "cell_type": "markdown",
   "metadata": {},
   "source": [
    "Normally, the data type of a column will be determined automatically by the `DataFrame` package. In the case of `list_3d`, this did not work properly as the data type is no primitive Julia data type. Therefore, it was interpreted as a `String`. We can use the same Metaprogramming functions `eval(Meta.parse())` to cast the strings on valid Julia data types.   "
   ]
  },
  {
   "cell_type": "code",
   "execution_count": null,
   "metadata": {},
   "outputs": [],
   "source": [
    "# We have to use the broadcasted versions of the functions with . as we want to parse every single entry and not the whole column. \n",
    "list_3d.\"3\" = eval.(Meta.parse.(list_3d.\"3\"))\n",
    "list_3d.\"5\" = eval.(Meta.parse.(list_3d.\"5\"))\n",
    "list_3d"
   ]
  },
  {
   "cell_type": "markdown",
   "metadata": {},
   "source": [
    "##  Short  Summary\n",
    "- Julia can navigate through paths on your hard drive and create/load/delete folders and files\n",
    "- Use `Serialization` to import and export data when only using Julia\n",
    "- Use `DataFrames` and the `CSV` package to save and share your data in `.csv` files\n",
    "- If you are forced to import data from `.txt` files:\n",
    "    1. Check if the data is provided in one of the existing parsing format (`JSON`,`JSON3` `BSON`,...) \n",
    "    2. If not use the metaprogramming features of Julia to parse the data\n",
    "    3. Be a good person and transform the data into a Dataframe/`.csv` when exporting"
   ]
  },
  {
   "cell_type": "markdown",
   "metadata": {},
   "source": [
    "## Exercises\n",
    "\n",
    "All exercises in this course are divided into three different difficulty categories: <span style=\"color:green\">easy</span>, <span style=\"color:orange\">medium</span> and <span style=\"color:red\">hard</span>. <span style=\"color:green\">Easy</span> exercises should be solvable solely with the contents of the respective notebook. <span style=\"color:orange\">Medium</span> often require the transfer of known concepts to new problems. Therefore, it might be necessary to look up some old notebooks or to use your creativity and curiosity to combine seemingly unrelated stuff. <span style=\"color:red\">Hard</span> exercises take this concept one step further and might require you to use additional resources like the official documentation, google, StackOverflow,... . "
   ]
  },
  {
   "cell_type": "markdown",
   "metadata": {},
   "source": [
    "### <p style='color: green'>easy</p>"
   ]
  },
  {
   "cell_type": "markdown",
   "metadata": {},
   "source": [
    "\n",
    "1. Get the number of files in the current working directory."
   ]
  },
  {
   "cell_type": "markdown",
   "metadata": {},
   "source": [
    "\n",
    "2. Count the number of .txt files in the current working directory."
   ]
  },
  {
   "cell_type": "markdown",
   "metadata": {},
   "source": [
    "\n",
    "3. Create a subfolder named \"data\" inside the folder of the notebook."
   ]
  },
  {
   "cell_type": "markdown",
   "metadata": {},
   "source": [
    "\n",
    "4. Create and save a vector of Float64 as a `.jls` file inside the folder \"data\". "
   ]
  },
  {
   "cell_type": "markdown",
   "metadata": {},
   "source": [
    "\n",
    "5. Load the `.jls` file and delete it afterwards. "
   ]
  },
  {
   "cell_type": "markdown",
   "metadata": {},
   "source": [
    "### <p style='color: orange'>medium - Make sure that the previously created folder data is empty </p> "
   ]
  },
  {
   "cell_type": "markdown",
   "metadata": {},
   "source": [
    "\n",
    "6. Create  20 vectors that each contain 30 ascending numbers like ` vec1 = [1,...,30] vec2 = [31,...,60],...`. Save each vector as seperate `.jls` file into the folder \"data\". \n",
    "\n",
    "Hint: You do not need to give each vector a name. "
   ]
  },
  {
   "cell_type": "markdown",
   "metadata": {},
   "source": [
    "7. Write and execute a function called import_Vectors that imports all vectors from the folder \"data\" and creates one big vector called HUGE that contains all the numbers in ascending order.   "
   ]
  },
  {
   "cell_type": "markdown",
   "metadata": {},
   "source": [
    "8. Apply the sinus function to HUGE and plot it as a scatter plot with CairoMakie. Save the plot in the data folder. "
   ]
  },
  {
   "cell_type": "markdown",
   "metadata": {},
   "source": [
    "9. Make sure that the import_Vector functions still works, even thought there is now a plot file as well in the data folder. "
   ]
  },
  {
   "cell_type": "markdown",
   "metadata": {},
   "source": [
    "10. Import the dataset drugScreen3 from the file DrugScreen3.csv. Check that the import worked correctly. If not, adjust the import parameters and modify the columns. \n"
   ]
  },
  {
   "cell_type": "markdown",
   "metadata": {},
   "source": [
    "### <p style='color: red'>hard</p>"
   ]
  },
  {
   "cell_type": "markdown",
   "metadata": {},
   "source": [
    "11. Create a new folder called weights. Copy the file  Weights.csv to that folder, only using Julia. Import the data set \"Weights\" (Weights.csv). Check that the import worked correctly. If not, adjust the import parameters. Plot a histogram of the weights and save it as a PDF in a new subfolder in weights called plots."
   ]
  },
  {
   "cell_type": "markdown",
   "metadata": {},
   "source": [
    "12. Import the file AliceInWonderland.txt and count the number of words in the text. \n"
   ]
  },
  {
   "cell_type": "code",
   "execution_count": null,
   "metadata": {},
   "outputs": [],
   "source": []
  }
 ],
 "metadata": {
  "kernelspec": {
   "display_name": "Julia 1.9.2",
   "language": "julia",
   "name": "julia-1.9"
  },
  "language_info": {
   "file_extension": ".jl",
   "mimetype": "application/julia",
   "name": "julia",
   "version": "1.9.2"
  }
 },
 "nbformat": 4,
 "nbformat_minor": 4
}
