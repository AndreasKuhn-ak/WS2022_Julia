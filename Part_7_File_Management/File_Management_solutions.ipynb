{
 "cells": [
  {
   "cell_type": "markdown",
   "id": "88ad6355-a8be-4f0c-8fb1-089ddc05f836",
   "metadata": {},
   "source": [
    "## 7. Import and Export\n",
    "\n",
    "###  Sample Solutions "
   ]
  },
  {
   "cell_type": "markdown",
   "id": "031a9b93-e51c-4aa1-8296-d65918ec0425",
   "metadata": {},
   "source": [
    "### <p style='color: green'>easy</p>"
   ]
  },
  {
   "cell_type": "markdown",
   "id": "3d50ecea-eafb-4c67-853d-3ec286e767bb",
   "metadata": {},
   "source": [
    "#### Exercise 1 \n",
    "Get the number of files in the current working directory.\n",
    "#### Solution 1 "
   ]
  },
  {
   "cell_type": "code",
   "execution_count": null,
   "id": "7968519b-af75-4336-b46a-45e210ec5b52",
   "metadata": {},
   "outputs": [],
   "source": [
    "number_files = length(readdir())"
   ]
  },
  {
   "cell_type": "markdown",
   "id": "6db6c781-2b3c-4c7d-80bc-3f1d942aaa25",
   "metadata": {},
   "source": [
    "#### Exercise 2\n",
    "Count the number of .txt files in the current working directory.\n",
    "\n",
    "#### Solution 2 "
   ]
  },
  {
   "cell_type": "code",
   "execution_count": null,
   "id": "e9f1e730",
   "metadata": {},
   "outputs": [],
   "source": [
    "files = readdir()\n",
    "txt_files = 0\n",
    "for file in files\n",
    "    if file[end-3:end] == \".txt\"\n",
    "        txt_files += 1\n",
    "    end\n",
    "end\n",
    "txt_files\n"
   ]
  },
  {
   "cell_type": "markdown",
   "id": "c9de4020-a9c1-483b-8d4b-233c94104c56",
   "metadata": {},
   "source": [
    "#### Exercise 3\n",
    "Create a subfolder named \"data\" inside the folder of the notebook.\n",
    "#### Solution 3 "
   ]
  },
  {
   "cell_type": "code",
   "execution_count": null,
   "id": "19e809ad-a161-4b81-bf56-09c68a8cdf46",
   "metadata": {},
   "outputs": [],
   "source": [
    "mkpath(\"data\")"
   ]
  },
  {
   "cell_type": "markdown",
   "id": "9af1ce48-b823-44ee-b3da-ee5f356de50e",
   "metadata": {},
   "source": [
    "#### Exercise 4\n",
    "Create and save a vector of Float64 as a `.jls` file inside the folder \"data\". \n",
    "#### Solution 4 "
   ]
  },
  {
   "cell_type": "code",
   "execution_count": null,
   "id": "61020e5f-d508-4cab-b8fe-21d1a85e3be0",
   "metadata": {},
   "outputs": [],
   "source": [
    "using Serialization\n",
    "\n",
    "hansi_vec = rand(100)\n",
    "serialize( \"data/hansi.jls\",hansi_vec)"
   ]
  },
  {
   "cell_type": "markdown",
   "id": "11f7f019-c8eb-4c5e-97b2-0b88edcf0c13",
   "metadata": {},
   "source": [
    "#### Exercise 5\n",
    " Load the `jls` file and delete it afterwards. \n",
    "\n",
    "#### Solution 5"
   ]
  },
  {
   "cell_type": "code",
   "execution_count": null,
   "id": "14671a6a-f354-483c-b305-93a1e872dd5f",
   "metadata": {},
   "outputs": [],
   "source": [
    "hansi_restored = deserialize(\"data/hansi.jls\")\n",
    "rm(\"data/hansi.jls\")"
   ]
  },
  {
   "cell_type": "code",
   "execution_count": null,
   "id": "079ffddd-9871-4fe0-bc68-71c743fcd671",
   "metadata": {},
   "outputs": [],
   "source": [
    "readdir(\"data\")"
   ]
  },
  {
   "cell_type": "markdown",
   "id": "983b29ef-1608-4135-b7e7-d7af5737e1dd",
   "metadata": {},
   "source": [
    "### <p style='color: orange'>medium</p>"
   ]
  },
  {
   "cell_type": "markdown",
   "id": "a192fc3e-9d6e-4037-b9b3-f5dd720c36e9",
   "metadata": {},
   "source": [
    "#### Exercise 6\n",
    "Create  20 vectors that each contain 30 ascending numbers like ` vec1 = [1,...,30] vec2 = [31,...,60],...`. Save each vector as seperate `.jls` file into the folder \"data\". \n",
    "\n",
    "Hint: You do not need to give each vector a name. \n",
    "#### Solution 6"
   ]
  },
  {
   "cell_type": "code",
   "execution_count": null,
   "id": "f59b1282-1716-4822-926b-90f8788cf97a",
   "metadata": {},
   "outputs": [],
   "source": [
    "vec_of_vec = []\n",
    "for i in 1:(20*30)\n",
    "    if i%30 == 0\n",
    "        push!(vec_of_vec,[x for x in i-30:i])\n",
    "    end\n",
    "end\n",
    "\n",
    "for (i,vec) in enumerate(vec_of_vec)\n",
    "    # the +100 is added to make them automatically sorted into the right order for the next exercise\n",
    "    serialize(\"data/vec$(i+100).jls\",vec)\n",
    "end\n",
    "    "
   ]
  },
  {
   "cell_type": "markdown",
   "id": "9ee2f99f-a90d-428c-9383-713afd67aa20",
   "metadata": {
    "tags": []
   },
   "source": [
    "#### Exercise 7\n",
    "Write and execute a function called import_Vectors that imports all vectors from the folder \"data\" and creates one big vector called HUGE that contains all the numbers in ascending order.   \n",
    "#### Solution 7"
   ]
  },
  {
   "cell_type": "code",
   "execution_count": null,
   "id": "dadbcfee-0d20-4a9b-8dad-df9fe3d858c3",
   "metadata": {},
   "outputs": [],
   "source": [
    "function import_Vectors(folder_path)\n",
    "    vec_paths = readdir(folder_path)\n",
    "    HUGE = Int64[]\n",
    "    for path in vec_paths\n",
    "        append!(HUGE, deserialize(folder_path * \"/\" *path))\n",
    "    end\n",
    "    return HUGE\n",
    "end\n",
    "\n",
    "HUGE = import_Vectors(\"data\")\n"
   ]
  },
  {
   "cell_type": "markdown",
   "id": "56b31b87-195b-451a-ab32-125610baa58d",
   "metadata": {},
   "source": [
    "#### Exercise 8\n",
    "Apply the sinus function to HUGE and plot it as a scatter plot with CairoMakie. Save the plot in the data folder. \n",
    "#### Solution 8"
   ]
  },
  {
   "cell_type": "code",
   "execution_count": null,
   "id": "dea4797d-92d7-4bbc-86fe-99a6eae5182b",
   "metadata": {},
   "outputs": [],
   "source": [
    "using CairoMakie"
   ]
  },
  {
   "cell_type": "code",
   "execution_count": null,
   "id": "5ad3b3b4-f095-4062-a765-01de1198c5b8",
   "metadata": {},
   "outputs": [],
   "source": [
    "set_theme!(theme_black())\n",
    "fig1 = Figure()\n",
    "ax1 = Axis(fig1[1,1], xlabel =\"HUGE\")\n",
    "scatter!(ax1,HUGE, sin.(HUGE), color = sin.(HUGE))\n",
    "fig1\n"
   ]
  },
  {
   "cell_type": "code",
   "execution_count": null,
   "id": "9ffc133c-600e-4068-ac5a-1fcb60e42280",
   "metadata": {},
   "outputs": [],
   "source": [
    "\n",
    "save(\"data/HUGE.png\", fig1)"
   ]
  },
  {
   "cell_type": "markdown",
   "id": "551c58f3-5f64-49d9-9b83-14eed35ed4a5",
   "metadata": {},
   "source": [
    "#### Exercise 9\n",
    "Make sure that the import_Vector functions still works, even thought there is now a plot file as well in the data folder. \n",
    "#### Solution 9"
   ]
  },
  {
   "cell_type": "code",
   "execution_count": null,
   "id": "a887e63d-9351-4a90-9e94-c8f7566639e3",
   "metadata": {},
   "outputs": [],
   "source": [
    "HUGE = import_Vectors(\"data\")"
   ]
  },
  {
   "cell_type": "markdown",
   "id": "cd5879fa-0e3e-45ab-ba94-957d04eaa37f",
   "metadata": {},
   "source": [
    "`import_Vectors`does not work as the `HUGE.png` file is now also part of the vector of paths which gets returned by `readdir()`. Therefore, we have to make sure only our jls files will be deserialized. "
   ]
  },
  {
   "cell_type": "code",
   "execution_count": null,
   "id": "ed1a7c76-2701-4989-b0af-b42aee607ccc",
   "metadata": {},
   "outputs": [],
   "source": [
    "function import_Vectors_optimized(folder_path)\n",
    "    vec_paths = readdir(folder_path)\n",
    "    #remove all files that are not jls files\n",
    "    filter!(x->x[end-3:end] == \".jls\",vec_paths)\n",
    "    # in case you have never heard of the filter function, you could have also used a \n",
    "    # loop together with conditional deleteat!() or push!()\n",
    "    HUGE = Int64[]\n",
    "    for path in vec_paths\n",
    "        append!(HUGE, deserialize(folder_path * \"/\" *path))\n",
    "    end\n",
    "    return HUGE\n",
    "end"
   ]
  },
  {
   "cell_type": "code",
   "execution_count": null,
   "id": "5869e030-a867-4662-b48d-4684a3cd7c3c",
   "metadata": {},
   "outputs": [],
   "source": [
    "HUGE2 = import_Vectors_optimized(\"data\")"
   ]
  },
  {
   "cell_type": "markdown",
   "id": "a0f6f643-c7b1-42a3-8f57-1a594b00a094",
   "metadata": {},
   "source": [
    "#### Exercise 10\n",
    "Import the dataset drugScreen3 from the file DrugScreen3.csv. Check that the import worked correctly. If not, adjust the import parameters and modify the columns. \n",
    "#### Solution 10"
   ]
  },
  {
   "cell_type": "code",
   "execution_count": null,
   "id": "d055d7a8-759d-4c36-9da0-832f7b82c2cf",
   "metadata": {},
   "outputs": [],
   "source": [
    "using CSV, DataFrames"
   ]
  },
  {
   "cell_type": "code",
   "execution_count": null,
   "id": "0789f338-992b-435d-ac3b-af8d83ddc3f0",
   "metadata": {},
   "outputs": [],
   "source": [
    "# adjust the header to 3 \n",
    "drugScreen3 = DataFrame(CSV.File(\"DrugScreen3.csv\", header = 3) )"
   ]
  },
  {
   "cell_type": "code",
   "execution_count": null,
   "id": "4ac993be-c3bc-4ffe-82cf-31cf8cd9f0e4",
   "metadata": {},
   "outputs": [],
   "source": [
    "#parse columns falsely interpreted as strings to arrays \n",
    "drugScreen3.Centroid = eval.(Meta.parse.(drugScreen3.Centroid))\n",
    "drugScreen3.BoundingBox = eval.(Meta.parse.(drugScreen3.BoundingBox))\n",
    "drugScreen3"
   ]
  },
  {
   "cell_type": "markdown",
   "id": "1a51337b-f0ac-4ce0-beec-69004bb71353",
   "metadata": {},
   "source": [
    "#### Exercise 11\n",
    "Create a new folder called weights. Copy the file `Weights.csv` to that folder, only using Julia. Import the data set into Julia. Check that the import worked correctly. If not, adjust the import parameters. Plot a histogram of the weights and save it as a PDF in a new subfolder in weights called plots.\n",
    "#### Solution 11"
   ]
  },
  {
   "cell_type": "code",
   "execution_count": null,
   "id": "ca0c33b7-fc2b-4278-8201-a82e6b91dfe3",
   "metadata": {},
   "outputs": [],
   "source": [
    "mkpath(\"weights/plots\")\n",
    "\n",
    "cp(\"Weights.csv\", \"weights/Weights.csv\", force = true)"
   ]
  },
  {
   "cell_type": "code",
   "execution_count": null,
   "id": "16a5df30-17a6-47b5-82c7-6f13cb0f831d",
   "metadata": {},
   "outputs": [],
   "source": [
    "Weights = DataFrame(CSV.File(\"weights/Weights.csv\", header = 2))\n",
    "fig2 = hist(Weights.Weights, pdf = true, bins = 40)\n",
    "\n"
   ]
  },
  {
   "cell_type": "code",
   "execution_count": null,
   "id": "93cd2fc7-3ed4-4dcf-b732-ba99316d2fff",
   "metadata": {},
   "outputs": [],
   "source": [
    "save(\"weights/plots/histo_weights.png\", fig2)"
   ]
  },
  {
   "cell_type": "markdown",
   "id": "7ded31ca-7006-48fb-9d34-af0f957a6d23",
   "metadata": {
    "tags": []
   },
   "source": [
    "#### Exercise 12\n",
    "Import the file AliceInWonderland.txt and count the number of words in the text.\n",
    "#### Solution 12\n",
    "\n"
   ]
  },
  {
   "cell_type": "code",
   "execution_count": null,
   "id": "d51f2ed8-6696-42f9-9a4b-7ba91197335a",
   "metadata": {},
   "outputs": [],
   "source": [
    "alice = readline(\"AliceInWonderland.txt\")"
   ]
  },
  {
   "cell_type": "markdown",
   "id": "d23e945a-284b-4203-9f2b-36bd6ad4154a",
   "metadata": {},
   "source": [
    "Use the `split()` function to split the String into substrings each containing one word and then count its length. "
   ]
  },
  {
   "cell_type": "code",
   "execution_count": null,
   "id": "65f4cdba-dccb-4b31-8863-e4badae89c7e",
   "metadata": {},
   "outputs": [],
   "source": [
    "?split"
   ]
  },
  {
   "cell_type": "code",
   "execution_count": null,
   "id": "a4b93da7-4dc2-49db-98d8-11aafd8e4def",
   "metadata": {},
   "outputs": [],
   "source": [
    "words =split( alice, [' ','-'], keepempty = false)"
   ]
  },
  {
   "cell_type": "code",
   "execution_count": null,
   "id": "67a34859-a9d3-44eb-9eb1-af29253d3fca",
   "metadata": {},
   "outputs": [],
   "source": [
    "length(words)"
   ]
  },
  {
   "cell_type": "code",
   "execution_count": null,
   "id": "1f94de80-a07e-41c5-bb4b-38a9d6b55a48",
   "metadata": {},
   "outputs": [],
   "source": []
  }
 ],
 "metadata": {
  "kernelspec": {
   "display_name": "Julia 1.9.2",
   "language": "julia",
   "name": "julia-1.9"
  },
  "language_info": {
   "file_extension": ".jl",
   "mimetype": "application/julia",
   "name": "julia",
   "version": "1.9.2"
  }
 },
 "nbformat": 4,
 "nbformat_minor": 5
}
