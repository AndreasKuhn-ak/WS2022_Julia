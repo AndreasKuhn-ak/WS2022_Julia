{
 "cells": [
  {
   "cell_type": "markdown",
   "id": "88ad6355-a8be-4f0c-8fb1-089ddc05f836",
   "metadata": {},
   "source": [
    "## 7. Import and Export\n",
    "\n",
    "###  Sample Solutions "
   ]
  },
  {
   "cell_type": "markdown",
   "id": "031a9b93-e51c-4aa1-8296-d65918ec0425",
   "metadata": {},
   "source": [
    "### <p style='color: green'>easy</p>"
   ]
  },
  {
   "cell_type": "markdown",
   "id": "3d50ecea-eafb-4c67-853d-3ec286e767bb",
   "metadata": {},
   "source": [
    "#### Exercise 1 \n",
    "Get the number of files in the current working directory.\n",
    "#### Solution 1 "
   ]
  },
  {
   "cell_type": "code",
   "execution_count": 2,
   "id": "7968519b-af75-4336-b46a-45e210ec5b52",
   "metadata": {},
   "outputs": [
    {
     "data": {
      "text/plain": [
       "24"
      ]
     },
     "metadata": {},
     "output_type": "display_data"
    }
   ],
   "source": [
    "number_files = length(readdir())"
   ]
  },
  {
   "cell_type": "markdown",
   "id": "6db6c781-2b3c-4c7d-80bc-3f1d942aaa25",
   "metadata": {},
   "source": [
    "#### Exercise 2\n",
    "Count the number of .txt files in the current working directory.\n",
    "\n",
    "#### Solution 2 "
   ]
  },
  {
   "cell_type": "code",
   "execution_count": 3,
   "id": "e9f1e730",
   "metadata": {},
   "outputs": [
    {
     "data": {
      "text/plain": [
       "7"
      ]
     },
     "metadata": {},
     "output_type": "display_data"
    }
   ],
   "source": [
    "files = readdir()\n",
    "txt_files = 0\n",
    "for file in files\n",
    "    if file[end-3:end] == \".txt\"\n",
    "        txt_files += 1\n",
    "    end\n",
    "end\n",
    "txt_files\n"
   ]
  },
  {
   "cell_type": "markdown",
   "id": "c9de4020-a9c1-483b-8d4b-233c94104c56",
   "metadata": {},
   "source": [
    "#### Exercise 3\n",
    "Create a subfolder named \"data\" inside the folder of the notebook.\n",
    "#### Solution 3 "
   ]
  },
  {
   "cell_type": "code",
   "execution_count": 4,
   "id": "19e809ad-a161-4b81-bf56-09c68a8cdf46",
   "metadata": {},
   "outputs": [
    {
     "data": {
      "text/plain": [
       "\"data\""
      ]
     },
     "metadata": {},
     "output_type": "display_data"
    }
   ],
   "source": [
    "mkpath(\"data\")"
   ]
  },
  {
   "cell_type": "markdown",
   "id": "9af1ce48-b823-44ee-b3da-ee5f356de50e",
   "metadata": {},
   "source": [
    "#### Exercise 4\n",
    "Create and save a vector of Float64 as a `.jls` file inside the folder \"data\". \n",
    "#### Solution 4 "
   ]
  },
  {
   "cell_type": "code",
   "execution_count": 5,
   "id": "61020e5f-d508-4cab-b8fe-21d1a85e3be0",
   "metadata": {},
   "outputs": [
    {
     "data": {
      "text/plain": [
       "800"
      ]
     },
     "metadata": {},
     "output_type": "display_data"
    }
   ],
   "source": [
    "using Serialization\n",
    "\n",
    "hansi_vec = rand(100)\n",
    "serialize( \"data/hansi.jls\",hansi_vec)"
   ]
  },
  {
   "cell_type": "markdown",
   "id": "11f7f019-c8eb-4c5e-97b2-0b88edcf0c13",
   "metadata": {},
   "source": [
    "#### Exercise 5\n",
    " Load the `jls` file and delete it afterwards. \n",
    "\n",
    "#### Solution 5"
   ]
  },
  {
   "cell_type": "code",
   "execution_count": 6,
   "id": "14671a6a-f354-483c-b305-93a1e872dd5f",
   "metadata": {},
   "outputs": [],
   "source": [
    "hansi_restored = deserialize(\"data/hansi.jls\")\n",
    "rm(\"data/hansi.jls\")"
   ]
  },
  {
   "cell_type": "code",
   "execution_count": 7,
   "id": "079ffddd-9871-4fe0-bc68-71c743fcd671",
   "metadata": {},
   "outputs": [
    {
     "data": {
      "text/plain": [
       "21-element Vector{String}:\n",
       " \"HUGE.png\"\n",
       " \"vec101.jls\"\n",
       " \"vec102.jls\"\n",
       " \"vec103.jls\"\n",
       " \"vec104.jls\"\n",
       " \"vec105.jls\"\n",
       " \"vec106.jls\"\n",
       " \"vec107.jls\"\n",
       " \"vec108.jls\"\n",
       " \"vec109.jls\"\n",
       " ⋮\n",
       " \"vec112.jls\"\n",
       " \"vec113.jls\"\n",
       " \"vec114.jls\"\n",
       " \"vec115.jls\"\n",
       " \"vec116.jls\"\n",
       " \"vec117.jls\"\n",
       " \"vec118.jls\"\n",
       " \"vec119.jls\"\n",
       " \"vec120.jls\""
      ]
     },
     "metadata": {},
     "output_type": "display_data"
    }
   ],
   "source": [
    "readdir(\"data\")"
   ]
  },
  {
   "cell_type": "markdown",
   "id": "983b29ef-1608-4135-b7e7-d7af5737e1dd",
   "metadata": {},
   "source": [
    "### <p style='color: orange'>medium</p>"
   ]
  },
  {
   "cell_type": "markdown",
   "id": "a192fc3e-9d6e-4037-b9b3-f5dd720c36e9",
   "metadata": {},
   "source": [
    "#### Exercise 6\n",
    "Create  20 vectors that each contain 30 ascending numbers like ` vec1 = [1,...,30] vec2 = [31,...,60],...`. Save each vector as seperate `.jls` file into the folder \"data\". \n",
    "\n",
    "Hint: You do not need to give each vector a name. \n",
    "#### Solution 6"
   ]
  },
  {
   "cell_type": "code",
   "execution_count": 8,
   "id": "f59b1282-1716-4822-926b-90f8788cf97a",
   "metadata": {},
   "outputs": [],
   "source": [
    "vec_of_vec = []\n",
    "for i in 1:(20*30)\n",
    "    if i%30 == 0\n",
    "        push!(vec_of_vec,[x for x in i-30:i])\n",
    "    end\n",
    "end\n",
    "\n",
    "for (i,vec) in enumerate(vec_of_vec)\n",
    "    # the +100 is added to make them automatically sorted into the right order for the next exercise\n",
    "    serialize(\"data/vec$(i+100).jls\",vec)\n",
    "end\n",
    "    "
   ]
  },
  {
   "cell_type": "markdown",
   "id": "9ee2f99f-a90d-428c-9383-713afd67aa20",
   "metadata": {
    "tags": []
   },
   "source": [
    "#### Exercise 7\n",
    "Write and execute a function called import_Vectors that imports all vectors from the folder \"data\" and creates one big vector called HUGE that contains all the numbers in ascending order.   \n",
    "#### Solution 7"
   ]
  },
  {
   "cell_type": "code",
   "execution_count": 9,
   "id": "dadbcfee-0d20-4a9b-8dad-df9fe3d858c3",
   "metadata": {},
   "outputs": [
    {
     "ename": "MethodError",
     "evalue": "MethodError: no method matching length(::Symbol)\n\nClosest candidates are:\n  length(!Matched::Union{Base.KeySet, Base.ValueIterator})\n   @ Base abstractdict.jl:58\n  length(!Matched::Union{LinearAlgebra.Adjoint{T, S}, LinearAlgebra.Transpose{T, S}} where {T, S})\n   @ LinearAlgebra C:\\Users\\ank10ki\\AppData\\Local\\Programs\\Julia-1.9.2\\share\\julia\\stdlib\\v1.9\\LinearAlgebra\\src\\adjtrans.jl:295\n  length(!Matched::Union{SparseArrays.FixedSparseVector{Tv, Ti}, SparseArrays.SparseVector{Tv, Ti}} where {Tv, Ti})\n   @ SparseArrays C:\\Users\\ank10ki\\AppData\\Local\\Programs\\Julia-1.9.2\\share\\julia\\stdlib\\v1.9\\SparseArrays\\src\\sparsevector.jl:95\n  ...\n",
     "output_type": "error",
     "traceback": [
      "MethodError: no method matching length(::Symbol)\n",
      "\n",
      "Closest candidates are:\n",
      "  length(!Matched::Union{Base.KeySet, Base.ValueIterator})\n",
      "   @ Base abstractdict.jl:58\n",
      "  length(!Matched::Union{LinearAlgebra.Adjoint{T, S}, LinearAlgebra.Transpose{T, S}} where {T, S})\n",
      "   @ LinearAlgebra C:\\Users\\ank10ki\\AppData\\Local\\Programs\\Julia-1.9.2\\share\\julia\\stdlib\\v1.9\\LinearAlgebra\\src\\adjtrans.jl:295\n",
      "  length(!Matched::Union{SparseArrays.FixedSparseVector{Tv, Ti}, SparseArrays.SparseVector{Tv, Ti}} where {Tv, Ti})\n",
      "   @ SparseArrays C:\\Users\\ank10ki\\AppData\\Local\\Programs\\Julia-1.9.2\\share\\julia\\stdlib\\v1.9\\SparseArrays\\src\\sparsevector.jl:95\n",
      "  ...\n",
      "\n",
      "\n",
      "Stacktrace:\n",
      " [1] _append!(a::Vector{Int64}, #unused#::Base.HasLength, iter::Symbol)\n",
      "   @ Base .\\array.jl:1134\n",
      " [2] append!(a::Vector{Int64}, iter::Symbol)\n",
      "   @ Base .\\array.jl:1126\n",
      " [3] import_Vectors(folder_path::String)\n",
      "   @ Main c:\\Users\\ank10ki\\Dropbox\\phd\\Courses\\WS2022_Julia\\Part_7_File_Management\\File_Management_solutions.ipynb:5\n",
      " [4] top-level scope\n",
      "   @ c:\\Users\\ank10ki\\Dropbox\\phd\\Courses\\WS2022_Julia\\Part_7_File_Management\\File_Management_solutions.ipynb:10"
     ]
    }
   ],
   "source": [
    "function import_Vectors(folder_path)\n",
    "    vec_paths = readdir(folder_path)\n",
    "    HUGE = Int64[]\n",
    "    for path in vec_paths\n",
    "        append!(HUGE, deserialize(folder_path * \"/\" *path))\n",
    "    end\n",
    "    return HUGE\n",
    "end\n",
    "\n",
    "HUGE = import_Vectors(\"data\")\n"
   ]
  },
  {
   "cell_type": "markdown",
   "id": "56b31b87-195b-451a-ab32-125610baa58d",
   "metadata": {},
   "source": [
    "#### Exercise 8\n",
    "Apply the sinus function to Huge and plot it as a scatter plot with CairoMakie. Save the plot in the data folder. \n",
    "#### Solution 8"
   ]
  },
  {
   "cell_type": "code",
   "execution_count": 10,
   "id": "dea4797d-92d7-4bbc-86fe-99a6eae5182b",
   "metadata": {},
   "outputs": [],
   "source": [
    "using CairoMakie"
   ]
  },
  {
   "cell_type": "code",
   "execution_count": 11,
   "id": "5ad3b3b4-f095-4062-a765-01de1198c5b8",
   "metadata": {},
   "outputs": [
    {
     "ename": "UndefVarError",
     "evalue": "UndefVarError: `HUGE` not defined",
     "output_type": "error",
     "traceback": [
      "UndefVarError: `HUGE` not defined\n",
      "\n",
      "Stacktrace:\n",
      " [1] top-level scope\n",
      "   @ c:\\Users\\ank10ki\\Dropbox\\phd\\Courses\\WS2022_Julia\\Part_7_File_Management\\File_Management_solutions.ipynb:4"
     ]
    }
   ],
   "source": [
    "set_theme!(theme_black())\n",
    "fig1 = Figure()\n",
    "ax1 = Axis(fig1[1,1], xlabel =\"HUGE\")\n",
    "scatter!(ax1,HUGE, sin.(HUGE), color = sin.(HUGE))\n",
    "fig1\n"
   ]
  },
  {
   "cell_type": "code",
   "execution_count": 12,
   "id": "9ffc133c-600e-4068-ac5a-1fcb60e42280",
   "metadata": {},
   "outputs": [
    {
     "data": {
      "text/plain": [
       "CairoMakie.Screen{IMAGE}\n"
      ]
     },
     "metadata": {},
     "output_type": "display_data"
    }
   ],
   "source": [
    "\n",
    "save(\"data/HUGE.png\", fig1)"
   ]
  },
  {
   "cell_type": "markdown",
   "id": "551c58f3-5f64-49d9-9b83-14eed35ed4a5",
   "metadata": {},
   "source": [
    "#### Exercise 9\n",
    "Make sure that the import_Vector functions still works, even thought there is now a plot file as well in the data folder. \n",
    "#### Solution 9"
   ]
  },
  {
   "cell_type": "code",
   "execution_count": 13,
   "id": "a887e63d-9351-4a90-9e94-c8f7566639e3",
   "metadata": {},
   "outputs": [
    {
     "ename": "MethodError",
     "evalue": "MethodError: no method matching length(::Symbol)\n\nClosest candidates are:\n  length(!Matched::Union{Base.KeySet, Base.ValueIterator})\n   @ Base abstractdict.jl:58\n  length(!Matched::Union{SparseArrays.FixedSparseVector{Tv, Ti}, SparseArrays.SparseVector{Tv, Ti}} where {Tv, Ti})\n   @ SparseArrays C:\\Users\\ank10ki\\AppData\\Local\\Programs\\Julia-1.9.2\\share\\julia\\stdlib\\v1.9\\SparseArrays\\src\\sparsevector.jl:95\n  length(!Matched::Union{LinearAlgebra.Adjoint{T, <:Union{StaticArraysCore.StaticArray{Tuple{var\"#s2\"}, T, 1} where var\"#s2\", StaticArraysCore.StaticArray{Tuple{var\"#s3\", var\"#s4\"}, T, 2} where {var\"#s3\", var\"#s4\"}}}, LinearAlgebra.Diagonal{T, <:StaticArraysCore.StaticArray{Tuple{var\"#s14\"}, T, 1} where var\"#s14\"}, LinearAlgebra.Hermitian{T, <:StaticArraysCore.StaticArray{Tuple{var\"#s11\", var\"#s12\"}, T, 2} where {var\"#s11\", var\"#s12\"}}, LinearAlgebra.LowerTriangular{T, <:StaticArraysCore.StaticArray{Tuple{var\"#s19\", var\"#s20\"}, T, 2} where {var\"#s19\", var\"#s20\"}}, LinearAlgebra.Symmetric{T, <:StaticArraysCore.StaticArray{Tuple{var\"#s8\", var\"#s9\"}, T, 2} where {var\"#s8\", var\"#s9\"}}, LinearAlgebra.Transpose{T, <:Union{StaticArraysCore.StaticArray{Tuple{var\"#s2\"}, T, 1} where var\"#s2\", StaticArraysCore.StaticArray{Tuple{var\"#s3\", var\"#s4\"}, T, 2} where {var\"#s3\", var\"#s4\"}}}, LinearAlgebra.UnitLowerTriangular{T, <:StaticArraysCore.StaticArray{Tuple{var\"#s25\", var\"#s26\"}, T, 2} where {var\"#s25\", var\"#s26\"}}, LinearAlgebra.UnitUpperTriangular{T, <:StaticArraysCore.StaticArray{Tuple{var\"#s22\", var\"#s23\"}, T, 2} where {var\"#s22\", var\"#s23\"}}, LinearAlgebra.UpperTriangular{T, <:StaticArraysCore.StaticArray{Tuple{var\"#s16\", var\"#s17\"}, T, 2} where {var\"#s16\", var\"#s17\"}}, StaticArraysCore.StaticArray{Tuple{var\"#s26\"}, T, 1} where var\"#s26\", StaticArraysCore.StaticArray{Tuple{var\"#s1\", var\"#s4\"}, T, 2} where {var\"#s1\", var\"#s4\"}, StaticArraysCore.StaticArray{<:Tuple, T}} where T)\n   @ StaticArrays C:\\Users\\ank10ki\\.julia\\packages\\StaticArrays\\jA1zK\\src\\abstractarray.jl:1\n  ...\n",
     "output_type": "error",
     "traceback": [
      "MethodError: no method matching length(::Symbol)\n",
      "\n",
      "Closest candidates are:\n",
      "  length(!Matched::Union{Base.KeySet, Base.ValueIterator})\n",
      "   @ Base abstractdict.jl:58\n",
      "  length(!Matched::Union{SparseArrays.FixedSparseVector{Tv, Ti}, SparseArrays.SparseVector{Tv, Ti}} where {Tv, Ti})\n",
      "   @ SparseArrays C:\\Users\\ank10ki\\AppData\\Local\\Programs\\Julia-1.9.2\\share\\julia\\stdlib\\v1.9\\SparseArrays\\src\\sparsevector.jl:95\n",
      "  length(!Matched::Union{LinearAlgebra.Adjoint{T, <:Union{StaticArraysCore.StaticArray{Tuple{var\"#s2\"}, T, 1} where var\"#s2\", StaticArraysCore.StaticArray{Tuple{var\"#s3\", var\"#s4\"}, T, 2} where {var\"#s3\", var\"#s4\"}}}, LinearAlgebra.Diagonal{T, <:StaticArraysCore.StaticArray{Tuple{var\"#s14\"}, T, 1} where var\"#s14\"}, LinearAlgebra.Hermitian{T, <:StaticArraysCore.StaticArray{Tuple{var\"#s11\", var\"#s12\"}, T, 2} where {var\"#s11\", var\"#s12\"}}, LinearAlgebra.LowerTriangular{T, <:StaticArraysCore.StaticArray{Tuple{var\"#s19\", var\"#s20\"}, T, 2} where {var\"#s19\", var\"#s20\"}}, LinearAlgebra.Symmetric{T, <:StaticArraysCore.StaticArray{Tuple{var\"#s8\", var\"#s9\"}, T, 2} where {var\"#s8\", var\"#s9\"}}, LinearAlgebra.Transpose{T, <:Union{StaticArraysCore.StaticArray{Tuple{var\"#s2\"}, T, 1} where var\"#s2\", StaticArraysCore.StaticArray{Tuple{var\"#s3\", var\"#s4\"}, T, 2} where {var\"#s3\", var\"#s4\"}}}, LinearAlgebra.UnitLowerTriangular{T, <:StaticArraysCore.StaticArray{Tuple{var\"#s25\", var\"#s26\"}, T, 2} where {var\"#s25\", var\"#s26\"}}, LinearAlgebra.UnitUpperTriangular{T, <:StaticArraysCore.StaticArray{Tuple{var\"#s22\", var\"#s23\"}, T, 2} where {var\"#s22\", var\"#s23\"}}, LinearAlgebra.UpperTriangular{T, <:StaticArraysCore.StaticArray{Tuple{var\"#s16\", var\"#s17\"}, T, 2} where {var\"#s16\", var\"#s17\"}}, StaticArraysCore.StaticArray{Tuple{var\"#s26\"}, T, 1} where var\"#s26\", StaticArraysCore.StaticArray{Tuple{var\"#s1\", var\"#s4\"}, T, 2} where {var\"#s1\", var\"#s4\"}, StaticArraysCore.StaticArray{<:Tuple, T}} where T)\n",
      "   @ StaticArrays C:\\Users\\ank10ki\\.julia\\packages\\StaticArrays\\jA1zK\\src\\abstractarray.jl:1\n",
      "  ...\n",
      "\n",
      "\n",
      "Stacktrace:\n",
      " [1] _append!(a::Vector{Int64}, #unused#::Base.HasLength, iter::Symbol)\n",
      "   @ Base .\\array.jl:1134\n",
      " [2] append!(a::Vector{Int64}, iter::Symbol)\n",
      "   @ Base .\\array.jl:1126\n",
      " [3] import_Vectors(folder_path::String)\n",
      "   @ Main c:\\Users\\ank10ki\\Dropbox\\phd\\Courses\\WS2022_Julia\\Part_7_File_Management\\File_Management_solutions.ipynb:5\n",
      " [4] top-level scope\n",
      "   @ c:\\Users\\ank10ki\\Dropbox\\phd\\Courses\\WS2022_Julia\\Part_7_File_Management\\File_Management_solutions.ipynb:1"
     ]
    }
   ],
   "source": [
    "HUGE = import_Vectors(\"data\")"
   ]
  },
  {
   "cell_type": "markdown",
   "id": "cd5879fa-0e3e-45ab-ba94-957d04eaa37f",
   "metadata": {},
   "source": [
    "`import_Vectors`does not work as the `HUGE.png` file is now also part of the vector of paths which gets returned by `readdir()`. Therefore, we have to make sure only our jls files will be deserialized. "
   ]
  },
  {
   "cell_type": "code",
   "execution_count": 14,
   "id": "ed1a7c76-2701-4989-b0af-b42aee607ccc",
   "metadata": {},
   "outputs": [
    {
     "data": {
      "text/plain": [
       "import_Vectors_optimized (generic function with 1 method)"
      ]
     },
     "metadata": {},
     "output_type": "display_data"
    }
   ],
   "source": [
    "function import_Vectors_optimized(folder_path)\n",
    "    vec_paths = readdir(folder_path)\n",
    "    #remove all files that are not jls files\n",
    "    filter!(x->x[end-3:end] == \".jls\",vec_paths)\n",
    "    # in case you have never heard of the filter function, you could have also used a \n",
    "    # loop together with conditional deleteat!() or push!()\n",
    "    HUGE = Int64[]\n",
    "    for path in vec_paths\n",
    "        append!(HUGE, deserialize(folder_path * \"/\" *path))\n",
    "    end\n",
    "    return HUGE\n",
    "end"
   ]
  },
  {
   "cell_type": "code",
   "execution_count": 15,
   "id": "5869e030-a867-4662-b48d-4684a3cd7c3c",
   "metadata": {},
   "outputs": [
    {
     "data": {
      "text/plain": [
       "620-element Vector{Int64}:\n",
       "   0\n",
       "   1\n",
       "   2\n",
       "   3\n",
       "   4\n",
       "   5\n",
       "   6\n",
       "   7\n",
       "   8\n",
       "   9\n",
       "   ⋮\n",
       " 592\n",
       " 593\n",
       " 594\n",
       " 595\n",
       " 596\n",
       " 597\n",
       " 598\n",
       " 599\n",
       " 600"
      ]
     },
     "metadata": {},
     "output_type": "display_data"
    }
   ],
   "source": [
    "HUGE2 = import_Vectors_optimized(\"data\")"
   ]
  },
  {
   "cell_type": "markdown",
   "id": "a0f6f643-c7b1-42a3-8f57-1a594b00a094",
   "metadata": {},
   "source": [
    "#### Exercise 10\n",
    "Import the dataset drugScreen3 from the file DrugScreen3.csv. Check that the import worked correctly. If not, adjust the import parameters and modify the columns. \n",
    "#### Solution 10"
   ]
  },
  {
   "cell_type": "code",
   "execution_count": 16,
   "id": "d055d7a8-759d-4c36-9da0-832f7b82c2cf",
   "metadata": {},
   "outputs": [],
   "source": [
    "using CSV, DataFrames"
   ]
  },
  {
   "cell_type": "code",
   "execution_count": 17,
   "id": "0789f338-992b-435d-ac3b-af8d83ddc3f0",
   "metadata": {},
   "outputs": [
    {
     "data": {
      "text/html": [
       "<div><div style = \"float: left;\"><span>51×15 DataFrame</span></div><div style = \"float: right;\"><span style = \"font-style: italic;\">26 rows omitted</span></div><div style = \"clear: both;\"></div></div><div class = \"data-frame\" style = \"overflow-x: scroll;\"><table class = \"data-frame\" style = \"margin-bottom: 6px;\"><thead><tr class = \"header\"><th class = \"rowNumber\" style = \"font-weight: bold; text-align: right;\">Row</th><th style = \"text-align: left;\">ObjectID</th><th style = \"text-align: left;\">Label</th><th style = \"text-align: left;\">Centroid</th><th style = \"text-align: left;\">MeanIntensity</th><th style = \"text-align: left;\">StandardDeviationIntensity</th><th style = \"text-align: left;\">MaxIntensity</th><th style = \"text-align: left;\">MinIntensity</th><th style = \"text-align: left;\">TotalIntensity</th><th style = \"text-align: left;\">Area</th><th style = \"text-align: left;\">Count</th><th style = \"text-align: left;\">EquivalentDiskRadius</th><th style = \"text-align: left;\">Elongation</th><th style = \"text-align: left;\">Eccentricity</th><th style = \"text-align: left;\">Circularity</th><th style = \"text-align: left;\">BoundingBox</th></tr><tr class = \"subheader headerLastRow\"><th class = \"rowNumber\" style = \"font-weight: bold; text-align: right;\"></th><th title = \"Int64\" style = \"text-align: left;\">Int64</th><th title = \"Int64\" style = \"text-align: left;\">Int64</th><th title = \"String\" style = \"text-align: left;\">String</th><th title = \"Float64\" style = \"text-align: left;\">Float64</th><th title = \"Float64\" style = \"text-align: left;\">Float64</th><th title = \"Float64\" style = \"text-align: left;\">Float64</th><th title = \"Float64\" style = \"text-align: left;\">Float64</th><th title = \"Float64\" style = \"text-align: left;\">Float64</th><th title = \"Float64\" style = \"text-align: left;\">Float64</th><th title = \"Int64\" style = \"text-align: left;\">Int64</th><th title = \"Float64\" style = \"text-align: left;\">Float64</th><th title = \"Float64\" style = \"text-align: left;\">Float64</th><th title = \"Float64\" style = \"text-align: left;\">Float64</th><th title = \"Float64\" style = \"text-align: left;\">Float64</th><th title = \"String31\" style = \"text-align: left;\">String31</th></tr></thead><tbody><tr><td class = \"rowNumber\" style = \"font-weight: bold; text-align: right;\">1</td><td style = \"text-align: right;\">7</td><td style = \"text-align: right;\">7</td><td style = \"text-align: left;\">[459.99136276391556,492.37619961612285]</td><td style = \"text-align: right;\">0.0197481</td><td style = \"text-align: right;\">0.000691072</td><td style = \"text-align: right;\">0.0218509</td><td style = \"text-align: right;\">0.0173037</td><td style = \"text-align: right;\">20.5775</td><td style = \"text-align: right;\">1047.25</td><td style = \"text-align: right;\">1042</td><td style = \"text-align: right;\">18.2121</td><td style = \"text-align: right;\">0.231355</td><td style = \"text-align: right;\">0.639675</td><td style = \"text-align: right;\">0.942608</td><td style = \"text-align: left;\">[[443,473],[480,511]]</td></tr><tr><td class = \"rowNumber\" style = \"font-weight: bold; text-align: right;\">2</td><td style = \"text-align: right;\">8</td><td style = \"text-align: right;\">8</td><td style = \"text-align: left;\">[582.0196540880503,488.8545597484277]</td><td style = \"text-align: right;\">0.0167421</td><td style = \"text-align: right;\">0.000407635</td><td style = \"text-align: right;\">0.0179599</td><td style = \"text-align: right;\">0.0154879</td><td style = \"text-align: right;\">21.296</td><td style = \"text-align: right;\">1277.75</td><td style = \"text-align: right;\">1272</td><td style = \"text-align: right;\">20.1219</td><td style = \"text-align: right;\">0.176285</td><td style = \"text-align: right;\">0.567004</td><td style = \"text-align: right;\">0.950213</td><td style = \"text-align: left;\">[[563,467],[601,511]]</td></tr><tr><td class = \"rowNumber\" style = \"font-weight: bold; text-align: right;\">3</td><td style = \"text-align: right;\">10</td><td style = \"text-align: right;\">10</td><td style = \"text-align: left;\">[252.66795665634675,468.062693498452]</td><td style = \"text-align: right;\">0.0190265</td><td style = \"text-align: right;\">0.000736447</td><td style = \"text-align: right;\">0.0215</td><td style = \"text-align: right;\">0.016495</td><td style = \"text-align: right;\">24.5823</td><td style = \"text-align: right;\">1297.75</td><td style = \"text-align: right;\">1292</td><td style = \"text-align: right;\">20.2795</td><td style = \"text-align: right;\">0.224331</td><td style = \"text-align: right;\">0.631139</td><td style = \"text-align: right;\">0.943473</td><td style = \"text-align: left;\">[[233,446],[271,491]]</td></tr><tr><td class = \"rowNumber\" style = \"font-weight: bold; text-align: right;\">4</td><td style = \"text-align: right;\">11</td><td style = \"text-align: right;\">11</td><td style = \"text-align: left;\">[519.5494417862839,471.28468899521533]</td><td style = \"text-align: right;\">0.0172008</td><td style = \"text-align: right;\">0.000409486</td><td style = \"text-align: right;\">0.0189212</td><td style = \"text-align: right;\">0.0157321</td><td style = \"text-align: right;\">21.5697</td><td style = \"text-align: right;\">1259.88</td><td style = \"text-align: right;\">1254</td><td style = \"text-align: right;\">19.979</td><td style = \"text-align: right;\">0.0885217</td><td style = \"text-align: right;\">0.411348</td><td style = \"text-align: right;\">0.933544</td><td style = \"text-align: left;\">[[498,451],[540,492]]</td></tr><tr><td class = \"rowNumber\" style = \"font-weight: bold; text-align: right;\">5</td><td style = \"text-align: right;\">12</td><td style = \"text-align: right;\">12</td><td style = \"text-align: left;\">[190.21635777598712,476.0809830781628]</td><td style = \"text-align: right;\">0.0185589</td><td style = \"text-align: right;\">0.000698408</td><td style = \"text-align: right;\">0.0219883</td><td style = \"text-align: right;\">0.016495</td><td style = \"text-align: right;\">23.0316</td><td style = \"text-align: right;\">1246.75</td><td style = \"text-align: right;\">1241</td><td style = \"text-align: right;\">19.8752</td><td style = \"text-align: right;\">0.199912</td><td style = \"text-align: right;\">0.599883</td><td style = \"text-align: right;\">0.938563</td><td style = \"text-align: left;\">[[170,454],[208,498]]</td></tr><tr><td class = \"rowNumber\" style = \"font-weight: bold; text-align: right;\">6</td><td style = \"text-align: right;\">13</td><td style = \"text-align: right;\">13</td><td style = \"text-align: left;\">[63.19469026548673,443.1386430678466]</td><td style = \"text-align: right;\">0.0169142</td><td style = \"text-align: right;\">0.000768541</td><td style = \"text-align: right;\">0.0190433</td><td style = \"text-align: right;\">0.0149844</td><td style = \"text-align: right;\">11.4678</td><td style = \"text-align: right;\">683.25</td><td style = \"text-align: right;\">678</td><td style = \"text-align: right;\">14.6906</td><td style = \"text-align: right;\">0.453377</td><td style = \"text-align: right;\">0.837379</td><td style = \"text-align: right;\">0.892713</td><td style = \"text-align: left;\">[[44,427],[80,457]]</td></tr><tr><td class = \"rowNumber\" style = \"font-weight: bold; text-align: right;\">7</td><td style = \"text-align: right;\">14</td><td style = \"text-align: right;\">14</td><td style = \"text-align: left;\">[308.729203539823,440.0486725663717]</td><td style = \"text-align: right;\">0.0175986</td><td style = \"text-align: right;\">0.000484153</td><td style = \"text-align: right;\">0.0193179</td><td style = \"text-align: right;\">0.0162203</td><td style = \"text-align: right;\">19.8864</td><td style = \"text-align: right;\">1134.5</td><td style = \"text-align: right;\">1130</td><td style = \"text-align: right;\">18.9655</td><td style = \"text-align: right;\">0.167601</td><td style = \"text-align: right;\">0.554176</td><td style = \"text-align: right;\">0.910261</td><td style = \"text-align: left;\">[[289,420],[328,459]]</td></tr><tr><td class = \"rowNumber\" style = \"font-weight: bold; text-align: right;\">8</td><td style = \"text-align: right;\">15</td><td style = \"text-align: right;\">15</td><td style = \"text-align: left;\">[383.8722126929674,439.7984562607204]</td><td style = \"text-align: right;\">0.0176472</td><td style = \"text-align: right;\">0.000670035</td><td style = \"text-align: right;\">0.0194858</td><td style = \"text-align: right;\">0.015671</td><td style = \"text-align: right;\">10.2883</td><td style = \"text-align: right;\">586.5</td><td style = \"text-align: right;\">583</td><td style = \"text-align: right;\">13.6226</td><td style = \"text-align: right;\">0.403134</td><td style = \"text-align: right;\">0.802341</td><td style = \"text-align: right;\">0.895345</td><td style = \"text-align: left;\">[[366,428],[401,451]]</td></tr><tr><td class = \"rowNumber\" style = \"font-weight: bold; text-align: right;\">9</td><td style = \"text-align: right;\">17</td><td style = \"text-align: right;\">17</td><td style = \"text-align: left;\">[562.68756698821,423.9801714898178]</td><td style = \"text-align: right;\">0.0174847</td><td style = \"text-align: right;\">0.000517903</td><td style = \"text-align: right;\">0.0190127</td><td style = \"text-align: right;\">0.0158083</td><td style = \"text-align: right;\">16.3133</td><td style = \"text-align: right;\">938.25</td><td style = \"text-align: right;\">933</td><td style = \"text-align: right;\">17.2332</td><td style = \"text-align: right;\">0.091011</td><td style = \"text-align: right;\">0.41682</td><td style = \"text-align: right;\">0.906885</td><td style = \"text-align: left;\">[[545,405],[582,442]]</td></tr><tr><td class = \"rowNumber\" style = \"font-weight: bold; text-align: right;\">10</td><td style = \"text-align: right;\">18</td><td style = \"text-align: right;\">18</td><td style = \"text-align: left;\">[185.91501976284584,419.90711462450594]</td><td style = \"text-align: right;\">0.0192413</td><td style = \"text-align: right;\">0.000580678</td><td style = \"text-align: right;\">0.0216068</td><td style = \"text-align: right;\">0.0175937</td><td style = \"text-align: right;\">19.4722</td><td style = \"text-align: right;\">1017.5</td><td style = \"text-align: right;\">1012</td><td style = \"text-align: right;\">17.948</td><td style = \"text-align: right;\">0.101034</td><td style = \"text-align: right;\">0.438019</td><td style = \"text-align: right;\">0.937992</td><td style = \"text-align: left;\">[[167,402],[206,438]]</td></tr><tr><td class = \"rowNumber\" style = \"font-weight: bold; text-align: right;\">11</td><td style = \"text-align: right;\">19</td><td style = \"text-align: right;\">19</td><td style = \"text-align: left;\">[430.7830409356725,400.0649122807017]</td><td style = \"text-align: right;\">0.0182136</td><td style = \"text-align: right;\">0.00060854</td><td style = \"text-align: right;\">0.0208438</td><td style = \"text-align: right;\">0.0169223</td><td style = \"text-align: right;\">15.5726</td><td style = \"text-align: right;\">859.75</td><td style = \"text-align: right;\">855</td><td style = \"text-align: right;\">16.4971</td><td style = \"text-align: right;\">0.26056</td><td style = \"text-align: right;\">0.673223</td><td style = \"text-align: right;\">0.911327</td><td style = \"text-align: left;\">[[411,384],[450,414]]</td></tr><tr><td class = \"rowNumber\" style = \"font-weight: bold; text-align: right;\">12</td><td style = \"text-align: right;\">20</td><td style = \"text-align: right;\">20</td><td style = \"text-align: left;\">[649.2265917602996,387.7621722846442]</td><td style = \"text-align: right;\">0.0176956</td><td style = \"text-align: right;\">0.00039643</td><td style = \"text-align: right;\">0.0187228</td><td style = \"text-align: right;\">0.0163729</td><td style = \"text-align: right;\">4.72471</td><td style = \"text-align: right;\">269.25</td><td style = \"text-align: right;\">267</td><td style = \"text-align: right;\">9.21893</td><td style = \"text-align: right;\">0.189235</td><td style = \"text-align: right;\">0.585372</td><td style = \"text-align: right;\">0.838976</td><td style = \"text-align: left;\">[[638,377],[660,397]]</td></tr><tr><td class = \"rowNumber\" style = \"font-weight: bold; text-align: right;\">13</td><td style = \"text-align: right;\">21</td><td style = \"text-align: right;\">21</td><td style = \"text-align: left;\">[385.47212230215825,378.68255395683457]</td><td style = \"text-align: right;\">0.0170887</td><td style = \"text-align: right;\">0.000791268</td><td style = \"text-align: right;\">0.019089</td><td style = \"text-align: right;\">0.0150607</td><td style = \"text-align: right;\">19.0026</td><td style = \"text-align: right;\">1116.38</td><td style = \"text-align: right;\">1112</td><td style = \"text-align: right;\">18.8138</td><td style = \"text-align: right;\">0.318655</td><td style = \"text-align: right;\">0.731962</td><td style = \"text-align: right;\">0.898959</td><td style = \"text-align: left;\">[[370,356],[402,401]]</td></tr><tr><td style = \"text-align: right;\">&vellip;</td><td style = \"text-align: right;\">&vellip;</td><td style = \"text-align: right;\">&vellip;</td><td style = \"text-align: right;\">&vellip;</td><td style = \"text-align: right;\">&vellip;</td><td style = \"text-align: right;\">&vellip;</td><td style = \"text-align: right;\">&vellip;</td><td style = \"text-align: right;\">&vellip;</td><td style = \"text-align: right;\">&vellip;</td><td style = \"text-align: right;\">&vellip;</td><td style = \"text-align: right;\">&vellip;</td><td style = \"text-align: right;\">&vellip;</td><td style = \"text-align: right;\">&vellip;</td><td style = \"text-align: right;\">&vellip;</td><td style = \"text-align: right;\">&vellip;</td><td style = \"text-align: right;\">&vellip;</td></tr><tr><td class = \"rowNumber\" style = \"font-weight: bold; text-align: right;\">40</td><td style = \"text-align: right;\">52</td><td style = \"text-align: right;\">52</td><td style = \"text-align: left;\">[498.15,119.56578947368422]</td><td style = \"text-align: right;\">0.0200971</td><td style = \"text-align: right;\">0.00097538</td><td style = \"text-align: right;\">0.0231937</td><td style = \"text-align: right;\">0.0173495</td><td style = \"text-align: right;\">15.2738</td><td style = \"text-align: right;\">765.0</td><td style = \"text-align: right;\">760</td><td style = \"text-align: right;\">15.5536</td><td style = \"text-align: right;\">0.193914</td><td style = \"text-align: right;\">0.591798</td><td style = \"text-align: right;\">0.952791</td><td style = \"text-align: left;\">[[483,102],[513,137]]</td></tr><tr><td class = \"rowNumber\" style = \"font-weight: bold; text-align: right;\">41</td><td style = \"text-align: right;\">53</td><td style = \"text-align: right;\">53</td><td style = \"text-align: left;\">[435.7238023952096,108.48727544910179]</td><td style = \"text-align: right;\">0.0176781</td><td style = \"text-align: right;\">0.000383528</td><td style = \"text-align: right;\">0.0195773</td><td style = \"text-align: right;\">0.016434</td><td style = \"text-align: right;\">23.618</td><td style = \"text-align: right;\">1341.5</td><td style = \"text-align: right;\">1336</td><td style = \"text-align: right;\">20.6219</td><td style = \"text-align: right;\">0.203645</td><td style = \"text-align: right;\">0.604829</td><td style = \"text-align: right;\">0.93739</td><td style = \"text-align: left;\">[[417,85],[455,131]]</td></tr><tr><td class = \"rowNumber\" style = \"font-weight: bold; text-align: right;\">42</td><td style = \"text-align: right;\">54</td><td style = \"text-align: right;\">54</td><td style = \"text-align: left;\">[539.7220131702728,99.64675446848543]</td><td style = \"text-align: right;\">0.018235</td><td style = \"text-align: right;\">0.000582633</td><td style = \"text-align: right;\">0.0202487</td><td style = \"text-align: right;\">0.016556</td><td style = \"text-align: right;\">19.3838</td><td style = \"text-align: right;\">1068.75</td><td style = \"text-align: right;\">1063</td><td style = \"text-align: right;\">18.3947</td><td style = \"text-align: right;\">0.243517</td><td style = \"text-align: right;\">0.654013</td><td style = \"text-align: right;\">0.954757</td><td style = \"text-align: left;\">[[522,79],[557,120]]</td></tr><tr><td class = \"rowNumber\" style = \"font-weight: bold; text-align: right;\">43</td><td style = \"text-align: right;\">55</td><td style = \"text-align: right;\">55</td><td style = \"text-align: left;\">[311.66753246753245,106.02207792207793]</td><td style = \"text-align: right;\">0.0186961</td><td style = \"text-align: right;\">0.000763568</td><td style = \"text-align: right;\">0.0205692</td><td style = \"text-align: right;\">0.0167391</td><td style = \"text-align: right;\">14.396</td><td style = \"text-align: right;\">774.625</td><td style = \"text-align: right;\">770</td><td style = \"text-align: right;\">15.6556</td><td style = \"text-align: right;\">0.138362</td><td style = \"text-align: right;\">0.507524</td><td style = \"text-align: right;\">0.845617</td><td style = \"text-align: left;\">[[296,87],[327,123]]</td></tr><tr><td class = \"rowNumber\" style = \"font-weight: bold; text-align: right;\">44</td><td style = \"text-align: right;\">56</td><td style = \"text-align: right;\">56</td><td style = \"text-align: left;\">[253.2631184407796,105.51349325337333]</td><td style = \"text-align: right;\">0.0193868</td><td style = \"text-align: right;\">0.000660593</td><td style = \"text-align: right;\">0.0214237</td><td style = \"text-align: right;\">0.0170748</td><td style = \"text-align: right;\">25.862</td><td style = \"text-align: right;\">1339.75</td><td style = \"text-align: right;\">1334</td><td style = \"text-align: right;\">20.6064</td><td style = \"text-align: right;\">0.273978</td><td style = \"text-align: right;\">0.687671</td><td style = \"text-align: right;\">0.931108</td><td style = \"text-align: left;\">[[229,87],[276,125]]</td></tr><tr><td class = \"rowNumber\" style = \"font-weight: bold; text-align: right;\">45</td><td style = \"text-align: right;\">57</td><td style = \"text-align: right;\">57</td><td style = \"text-align: left;\">[135.5678642714571,88.0369261477046]</td><td style = \"text-align: right;\">0.0186941</td><td style = \"text-align: right;\">0.000655952</td><td style = \"text-align: right;\">0.0212558</td><td style = \"text-align: right;\">0.0169375</td><td style = \"text-align: right;\">28.0973</td><td style = \"text-align: right;\">1508.88</td><td style = \"text-align: right;\">1503</td><td style = \"text-align: right;\">21.8728</td><td style = \"text-align: right;\">0.0993594</td><td style = \"text-align: right;\">0.434565</td><td style = \"text-align: right;\">0.92566</td><td style = \"text-align: left;\">[[114,65],[157,112]]</td></tr><tr><td class = \"rowNumber\" style = \"font-weight: bold; text-align: right;\">46</td><td style = \"text-align: right;\">58</td><td style = \"text-align: right;\">58</td><td style = \"text-align: left;\">[375.61464968152865,66.38808007279346]</td><td style = \"text-align: right;\">0.0180286</td><td style = \"text-align: right;\">0.00061183</td><td style = \"text-align: right;\">0.0206607</td><td style = \"text-align: right;\">0.016495</td><td style = \"text-align: right;\">19.8134</td><td style = \"text-align: right;\">1103.88</td><td style = \"text-align: right;\">1099</td><td style = \"text-align: right;\">18.7035</td><td style = \"text-align: right;\">0.201794</td><td style = \"text-align: right;\">0.602385</td><td style = \"text-align: right;\">0.938983</td><td style = \"text-align: left;\">[[356,48],[395,85]]</td></tr><tr><td class = \"rowNumber\" style = \"font-weight: bold; text-align: right;\">47</td><td style = \"text-align: right;\">59</td><td style = \"text-align: right;\">59</td><td style = \"text-align: left;\">[584.7116013071895,46.877450980392155]</td><td style = \"text-align: right;\">0.0176462</td><td style = \"text-align: right;\">0.000464919</td><td style = \"text-align: right;\">0.019379</td><td style = \"text-align: right;\">0.0163729</td><td style = \"text-align: right;\">21.599</td><td style = \"text-align: right;\">1229.5</td><td style = \"text-align: right;\">1224</td><td style = \"text-align: right;\">19.7386</td><td style = \"text-align: right;\">0.148738</td><td style = \"text-align: right;\">0.524741</td><td style = \"text-align: right;\">0.952357</td><td style = \"text-align: left;\">[[563,28],[605,66]]</td></tr><tr><td class = \"rowNumber\" style = \"font-weight: bold; text-align: right;\">48</td><td style = \"text-align: right;\">60</td><td style = \"text-align: right;\">60</td><td style = \"text-align: left;\">[652.935576923077,36.35769230769233]</td><td style = \"text-align: right;\">0.0182698</td><td style = \"text-align: right;\">0.000631907</td><td style = \"text-align: right;\">0.0211337</td><td style = \"text-align: right;\">0.0162356</td><td style = \"text-align: right;\">19.0006</td><td style = \"text-align: right;\">1045.5</td><td style = \"text-align: right;\">1040</td><td style = \"text-align: right;\">18.1946</td><td style = \"text-align: right;\">0.293446</td><td style = \"text-align: right;\">0.707659</td><td style = \"text-align: right;\">0.920261</td><td style = \"text-align: left;\">[[633,18],[675,53]]</td></tr><tr><td class = \"rowNumber\" style = \"font-weight: bold; text-align: right;\">49</td><td style = \"text-align: right;\">61</td><td style = \"text-align: right;\">61</td><td style = \"text-align: left;\">[303.10427263479147,26.175483214649034]</td><td style = \"text-align: right;\">0.0184625</td><td style = \"text-align: right;\">0.000741934</td><td style = \"text-align: right;\">0.0208286</td><td style = \"text-align: right;\">0.0166171</td><td style = \"text-align: right;\">18.1486</td><td style = \"text-align: right;\">988.25</td><td style = \"text-align: right;\">983</td><td style = \"text-align: right;\">17.6889</td><td style = \"text-align: right;\">0.316125</td><td style = \"text-align: right;\">0.729599</td><td style = \"text-align: right;\">0.886328</td><td style = \"text-align: left;\">[[285,7],[323,46]]</td></tr><tr><td class = \"rowNumber\" style = \"font-weight: bold; text-align: right;\">50</td><td style = \"text-align: right;\">62</td><td style = \"text-align: right;\">62</td><td style = \"text-align: left;\">[151.00169491525423,28.222033898305085]</td><td style = \"text-align: right;\">0.0171202</td><td style = \"text-align: right;\">0.000528271</td><td style = \"text-align: right;\">0.0191501</td><td style = \"text-align: right;\">0.0156863</td><td style = \"text-align: right;\">20.2018</td><td style = \"text-align: right;\">1185.12</td><td style = \"text-align: right;\">1180</td><td style = \"text-align: right;\">19.3805</td><td style = \"text-align: right;\">0.0697659</td><td style = \"text-align: right;\">0.366967</td><td style = \"text-align: right;\">0.895493</td><td style = \"text-align: left;\">[[130,8],[171,48]]</td></tr><tr><td class = \"rowNumber\" style = \"font-weight: bold; text-align: right;\">51</td><td style = \"text-align: right;\">64</td><td style = \"text-align: right;\">64</td><td style = \"text-align: left;\">[452.68398876404495,29.057584269662925]</td><td style = \"text-align: right;\">0.0168306</td><td style = \"text-align: right;\">0.000465857</td><td style = \"text-align: right;\">0.0189517</td><td style = \"text-align: right;\">0.0154574</td><td style = \"text-align: right;\">23.9668</td><td style = \"text-align: right;\">1430.12</td><td style = \"text-align: right;\">1424</td><td style = \"text-align: right;\">21.2902</td><td style = \"text-align: right;\">0.204887</td><td style = \"text-align: right;\">0.606462</td><td style = \"text-align: right;\">0.933522</td><td style = \"text-align: left;\">[[433,5],[473,52]]</td></tr></tbody></table></div>"
      ],
      "text/latex": [
       "\\begin{tabular}{r|cccccc}\n",
       "\t& ObjectID & Label & Centroid & MeanIntensity & StandardDeviationIntensity & \\\\\n",
       "\t\\hline\n",
       "\t& Int64 & Int64 & String & Float64 & Float64 & \\\\\n",
       "\t\\hline\n",
       "\t1 & 7 & 7 & [459.99136276391556,492.37619961612285] & 0.0197481 & 0.000691072 & $\\dots$ \\\\\n",
       "\t2 & 8 & 8 & [582.0196540880503,488.8545597484277] & 0.0167421 & 0.000407635 & $\\dots$ \\\\\n",
       "\t3 & 10 & 10 & [252.66795665634675,468.062693498452] & 0.0190265 & 0.000736447 & $\\dots$ \\\\\n",
       "\t4 & 11 & 11 & [519.5494417862839,471.28468899521533] & 0.0172008 & 0.000409486 & $\\dots$ \\\\\n",
       "\t5 & 12 & 12 & [190.21635777598712,476.0809830781628] & 0.0185589 & 0.000698408 & $\\dots$ \\\\\n",
       "\t6 & 13 & 13 & [63.19469026548673,443.1386430678466] & 0.0169142 & 0.000768541 & $\\dots$ \\\\\n",
       "\t7 & 14 & 14 & [308.729203539823,440.0486725663717] & 0.0175986 & 0.000484153 & $\\dots$ \\\\\n",
       "\t8 & 15 & 15 & [383.8722126929674,439.7984562607204] & 0.0176472 & 0.000670035 & $\\dots$ \\\\\n",
       "\t9 & 17 & 17 & [562.68756698821,423.9801714898178] & 0.0174847 & 0.000517903 & $\\dots$ \\\\\n",
       "\t10 & 18 & 18 & [185.91501976284584,419.90711462450594] & 0.0192413 & 0.000580678 & $\\dots$ \\\\\n",
       "\t11 & 19 & 19 & [430.7830409356725,400.0649122807017] & 0.0182136 & 0.00060854 & $\\dots$ \\\\\n",
       "\t12 & 20 & 20 & [649.2265917602996,387.7621722846442] & 0.0176956 & 0.00039643 & $\\dots$ \\\\\n",
       "\t13 & 21 & 21 & [385.47212230215825,378.68255395683457] & 0.0170887 & 0.000791268 & $\\dots$ \\\\\n",
       "\t14 & 23 & 23 & [319.5883495145631,378.3922330097088] & 0.0207446 & 0.000795439 & $\\dots$ \\\\\n",
       "\t15 & 24 & 24 & [137.30416156670748,369.0232558139535] & 0.0212102 & 0.00102983 & $\\dots$ \\\\\n",
       "\t16 & 25 & 25 & [525.9486780715397,372.4486780715397] & 0.0189979 & 0.000675145 & $\\dots$ \\\\\n",
       "\t17 & 26 & 26 & [453.1305114638448,366.8827160493827] & 0.016997 & 0.000482722 & $\\dots$ \\\\\n",
       "\t18 & 27 & 27 & [258.2147707979627,362.09168081494056] & 0.0223497 & 0.000995737 & $\\dots$ \\\\\n",
       "\t19 & 28 & 28 & [619.0399214659686,345.744109947644] & 0.0233522 & 0.00141116 & $\\dots$ \\\\\n",
       "\t20 & 29 & 29 & [479.26109765940276,328.6404358353511] & 0.0164518 & 0.000393771 & $\\dots$ \\\\\n",
       "\t21 & 30 & 30 & [542.015873015873,329.9186507936508] & 0.0161482 & 0.000395495 & $\\dots$ \\\\\n",
       "\t22 & 31 & 31 & [665.0896309314587,312.2275922671353] & 0.0193371 & 0.000738566 & $\\dots$ \\\\\n",
       "\t23 & 32 & 32 & [304.308362369338,314.2560975609756] & 0.0180193 & 0.000505981 & $\\dots$ \\\\\n",
       "\t24 & 34 & 34 & [566.9078110808356,289.4700272479564] & 0.0193317 & 0.00060268 & $\\dots$ \\\\\n",
       "\t$\\dots$ & $\\dots$ & $\\dots$ & $\\dots$ & $\\dots$ & $\\dots$ &  \\\\\n",
       "\\end{tabular}\n"
      ],
      "text/plain": [
       "\u001b[1m51×15 DataFrame\u001b[0m\n",
       "\u001b[1m Row \u001b[0m│\u001b[1m ObjectID \u001b[0m\u001b[1m Label \u001b[0m\u001b[1m Centroid                          \u001b[0m\u001b[1m MeanIntensity \u001b[0m\u001b[1m Stan\u001b[0m ⋯\n",
       "     │\u001b[90m Int64    \u001b[0m\u001b[90m Int64 \u001b[0m\u001b[90m String                            \u001b[0m\u001b[90m Float64       \u001b[0m\u001b[90m Floa\u001b[0m ⋯\n",
       "─────┼──────────────────────────────────────────────────────────────────────────\n",
       "   1 │        7      7  [459.99136276391556,492.37619961…      0.0197481       ⋯\n",
       "   2 │        8      8  [582.0196540880503,488.854559748…      0.0167421\n",
       "   3 │       10     10  [252.66795665634675,468.06269349…      0.0190265\n",
       "   4 │       11     11  [519.5494417862839,471.284688995…      0.0172008\n",
       "   5 │       12     12  [190.21635777598712,476.08098307…      0.0185589       ⋯\n",
       "   6 │       13     13  [63.19469026548673,443.138643067…      0.0169142\n",
       "   7 │       14     14  [308.729203539823,440.0486725663…      0.0175986\n",
       "   8 │       15     15  [383.8722126929674,439.798456260…      0.0176472\n",
       "  ⋮  │    ⋮        ⋮                    ⋮                        ⋮             ⋱\n",
       "  45 │       57     57  [135.5678642714571,88.0369261477…      0.0186941       ⋯\n",
       "  46 │       58     58  [375.61464968152865,66.388080072…      0.0180286\n",
       "  47 │       59     59  [584.7116013071895,46.8774509803…      0.0176462\n",
       "  48 │       60     60  [652.935576923077,36.35769230769…      0.0182698\n",
       "  49 │       61     61  [303.10427263479147,26.175483214…      0.0184625       ⋯\n",
       "  50 │       62     62  [151.00169491525423,28.222033898…      0.0171202\n",
       "  51 │       64     64  [452.68398876404495,29.057584269…      0.0168306\n",
       "\u001b[36m                                                  11 columns and 36 rows omitted\u001b[0m"
      ]
     },
     "metadata": {},
     "output_type": "display_data"
    }
   ],
   "source": [
    "# adjust the header to 3 \n",
    "drugScreen3 = DataFrame(CSV.File(\"DrugScreen3.csv\", header = 3) )"
   ]
  },
  {
   "cell_type": "code",
   "execution_count": 18,
   "id": "4ac993be-c3bc-4ffe-82cf-31cf8cd9f0e4",
   "metadata": {},
   "outputs": [
    {
     "data": {
      "text/html": [
       "<div><div style = \"float: left;\"><span>51×15 DataFrame</span></div><div style = \"float: right;\"><span style = \"font-style: italic;\">26 rows omitted</span></div><div style = \"clear: both;\"></div></div><div class = \"data-frame\" style = \"overflow-x: scroll;\"><table class = \"data-frame\" style = \"margin-bottom: 6px;\"><thead><tr class = \"header\"><th class = \"rowNumber\" style = \"font-weight: bold; text-align: right;\">Row</th><th style = \"text-align: left;\">ObjectID</th><th style = \"text-align: left;\">Label</th><th style = \"text-align: left;\">Centroid</th><th style = \"text-align: left;\">MeanIntensity</th><th style = \"text-align: left;\">StandardDeviationIntensity</th><th style = \"text-align: left;\">MaxIntensity</th><th style = \"text-align: left;\">MinIntensity</th><th style = \"text-align: left;\">TotalIntensity</th><th style = \"text-align: left;\">Area</th><th style = \"text-align: left;\">Count</th><th style = \"text-align: left;\">EquivalentDiskRadius</th><th style = \"text-align: left;\">Elongation</th><th style = \"text-align: left;\">Eccentricity</th><th style = \"text-align: left;\">Circularity</th><th style = \"text-align: left;\">BoundingBox</th></tr><tr class = \"subheader headerLastRow\"><th class = \"rowNumber\" style = \"font-weight: bold; text-align: right;\"></th><th title = \"Int64\" style = \"text-align: left;\">Int64</th><th title = \"Int64\" style = \"text-align: left;\">Int64</th><th title = \"Vector{Float64}\" style = \"text-align: left;\">Array…</th><th title = \"Float64\" style = \"text-align: left;\">Float64</th><th title = \"Float64\" style = \"text-align: left;\">Float64</th><th title = \"Float64\" style = \"text-align: left;\">Float64</th><th title = \"Float64\" style = \"text-align: left;\">Float64</th><th title = \"Float64\" style = \"text-align: left;\">Float64</th><th title = \"Float64\" style = \"text-align: left;\">Float64</th><th title = \"Int64\" style = \"text-align: left;\">Int64</th><th title = \"Float64\" style = \"text-align: left;\">Float64</th><th title = \"Float64\" style = \"text-align: left;\">Float64</th><th title = \"Float64\" style = \"text-align: left;\">Float64</th><th title = \"Float64\" style = \"text-align: left;\">Float64</th><th title = \"Vector{Vector{Int64}}\" style = \"text-align: left;\">Array…</th></tr></thead><tbody><tr><td class = \"rowNumber\" style = \"font-weight: bold; text-align: right;\">1</td><td style = \"text-align: right;\">7</td><td style = \"text-align: right;\">7</td><td style = \"text-align: left;\">[459.991, 492.376]</td><td style = \"text-align: right;\">0.0197481</td><td style = \"text-align: right;\">0.000691072</td><td style = \"text-align: right;\">0.0218509</td><td style = \"text-align: right;\">0.0173037</td><td style = \"text-align: right;\">20.5775</td><td style = \"text-align: right;\">1047.25</td><td style = \"text-align: right;\">1042</td><td style = \"text-align: right;\">18.2121</td><td style = \"text-align: right;\">0.231355</td><td style = \"text-align: right;\">0.639675</td><td style = \"text-align: right;\">0.942608</td><td style = \"text-align: left;\">[[443, 473], [480, 511]]</td></tr><tr><td class = \"rowNumber\" style = \"font-weight: bold; text-align: right;\">2</td><td style = \"text-align: right;\">8</td><td style = \"text-align: right;\">8</td><td style = \"text-align: left;\">[582.02, 488.855]</td><td style = \"text-align: right;\">0.0167421</td><td style = \"text-align: right;\">0.000407635</td><td style = \"text-align: right;\">0.0179599</td><td style = \"text-align: right;\">0.0154879</td><td style = \"text-align: right;\">21.296</td><td style = \"text-align: right;\">1277.75</td><td style = \"text-align: right;\">1272</td><td style = \"text-align: right;\">20.1219</td><td style = \"text-align: right;\">0.176285</td><td style = \"text-align: right;\">0.567004</td><td style = \"text-align: right;\">0.950213</td><td style = \"text-align: left;\">[[563, 467], [601, 511]]</td></tr><tr><td class = \"rowNumber\" style = \"font-weight: bold; text-align: right;\">3</td><td style = \"text-align: right;\">10</td><td style = \"text-align: right;\">10</td><td style = \"text-align: left;\">[252.668, 468.063]</td><td style = \"text-align: right;\">0.0190265</td><td style = \"text-align: right;\">0.000736447</td><td style = \"text-align: right;\">0.0215</td><td style = \"text-align: right;\">0.016495</td><td style = \"text-align: right;\">24.5823</td><td style = \"text-align: right;\">1297.75</td><td style = \"text-align: right;\">1292</td><td style = \"text-align: right;\">20.2795</td><td style = \"text-align: right;\">0.224331</td><td style = \"text-align: right;\">0.631139</td><td style = \"text-align: right;\">0.943473</td><td style = \"text-align: left;\">[[233, 446], [271, 491]]</td></tr><tr><td class = \"rowNumber\" style = \"font-weight: bold; text-align: right;\">4</td><td style = \"text-align: right;\">11</td><td style = \"text-align: right;\">11</td><td style = \"text-align: left;\">[519.549, 471.285]</td><td style = \"text-align: right;\">0.0172008</td><td style = \"text-align: right;\">0.000409486</td><td style = \"text-align: right;\">0.0189212</td><td style = \"text-align: right;\">0.0157321</td><td style = \"text-align: right;\">21.5697</td><td style = \"text-align: right;\">1259.88</td><td style = \"text-align: right;\">1254</td><td style = \"text-align: right;\">19.979</td><td style = \"text-align: right;\">0.0885217</td><td style = \"text-align: right;\">0.411348</td><td style = \"text-align: right;\">0.933544</td><td style = \"text-align: left;\">[[498, 451], [540, 492]]</td></tr><tr><td class = \"rowNumber\" style = \"font-weight: bold; text-align: right;\">5</td><td style = \"text-align: right;\">12</td><td style = \"text-align: right;\">12</td><td style = \"text-align: left;\">[190.216, 476.081]</td><td style = \"text-align: right;\">0.0185589</td><td style = \"text-align: right;\">0.000698408</td><td style = \"text-align: right;\">0.0219883</td><td style = \"text-align: right;\">0.016495</td><td style = \"text-align: right;\">23.0316</td><td style = \"text-align: right;\">1246.75</td><td style = \"text-align: right;\">1241</td><td style = \"text-align: right;\">19.8752</td><td style = \"text-align: right;\">0.199912</td><td style = \"text-align: right;\">0.599883</td><td style = \"text-align: right;\">0.938563</td><td style = \"text-align: left;\">[[170, 454], [208, 498]]</td></tr><tr><td class = \"rowNumber\" style = \"font-weight: bold; text-align: right;\">6</td><td style = \"text-align: right;\">13</td><td style = \"text-align: right;\">13</td><td style = \"text-align: left;\">[63.1947, 443.139]</td><td style = \"text-align: right;\">0.0169142</td><td style = \"text-align: right;\">0.000768541</td><td style = \"text-align: right;\">0.0190433</td><td style = \"text-align: right;\">0.0149844</td><td style = \"text-align: right;\">11.4678</td><td style = \"text-align: right;\">683.25</td><td style = \"text-align: right;\">678</td><td style = \"text-align: right;\">14.6906</td><td style = \"text-align: right;\">0.453377</td><td style = \"text-align: right;\">0.837379</td><td style = \"text-align: right;\">0.892713</td><td style = \"text-align: left;\">[[44, 427], [80, 457]]</td></tr><tr><td class = \"rowNumber\" style = \"font-weight: bold; text-align: right;\">7</td><td style = \"text-align: right;\">14</td><td style = \"text-align: right;\">14</td><td style = \"text-align: left;\">[308.729, 440.049]</td><td style = \"text-align: right;\">0.0175986</td><td style = \"text-align: right;\">0.000484153</td><td style = \"text-align: right;\">0.0193179</td><td style = \"text-align: right;\">0.0162203</td><td style = \"text-align: right;\">19.8864</td><td style = \"text-align: right;\">1134.5</td><td style = \"text-align: right;\">1130</td><td style = \"text-align: right;\">18.9655</td><td style = \"text-align: right;\">0.167601</td><td style = \"text-align: right;\">0.554176</td><td style = \"text-align: right;\">0.910261</td><td style = \"text-align: left;\">[[289, 420], [328, 459]]</td></tr><tr><td class = \"rowNumber\" style = \"font-weight: bold; text-align: right;\">8</td><td style = \"text-align: right;\">15</td><td style = \"text-align: right;\">15</td><td style = \"text-align: left;\">[383.872, 439.798]</td><td style = \"text-align: right;\">0.0176472</td><td style = \"text-align: right;\">0.000670035</td><td style = \"text-align: right;\">0.0194858</td><td style = \"text-align: right;\">0.015671</td><td style = \"text-align: right;\">10.2883</td><td style = \"text-align: right;\">586.5</td><td style = \"text-align: right;\">583</td><td style = \"text-align: right;\">13.6226</td><td style = \"text-align: right;\">0.403134</td><td style = \"text-align: right;\">0.802341</td><td style = \"text-align: right;\">0.895345</td><td style = \"text-align: left;\">[[366, 428], [401, 451]]</td></tr><tr><td class = \"rowNumber\" style = \"font-weight: bold; text-align: right;\">9</td><td style = \"text-align: right;\">17</td><td style = \"text-align: right;\">17</td><td style = \"text-align: left;\">[562.688, 423.98]</td><td style = \"text-align: right;\">0.0174847</td><td style = \"text-align: right;\">0.000517903</td><td style = \"text-align: right;\">0.0190127</td><td style = \"text-align: right;\">0.0158083</td><td style = \"text-align: right;\">16.3133</td><td style = \"text-align: right;\">938.25</td><td style = \"text-align: right;\">933</td><td style = \"text-align: right;\">17.2332</td><td style = \"text-align: right;\">0.091011</td><td style = \"text-align: right;\">0.41682</td><td style = \"text-align: right;\">0.906885</td><td style = \"text-align: left;\">[[545, 405], [582, 442]]</td></tr><tr><td class = \"rowNumber\" style = \"font-weight: bold; text-align: right;\">10</td><td style = \"text-align: right;\">18</td><td style = \"text-align: right;\">18</td><td style = \"text-align: left;\">[185.915, 419.907]</td><td style = \"text-align: right;\">0.0192413</td><td style = \"text-align: right;\">0.000580678</td><td style = \"text-align: right;\">0.0216068</td><td style = \"text-align: right;\">0.0175937</td><td style = \"text-align: right;\">19.4722</td><td style = \"text-align: right;\">1017.5</td><td style = \"text-align: right;\">1012</td><td style = \"text-align: right;\">17.948</td><td style = \"text-align: right;\">0.101034</td><td style = \"text-align: right;\">0.438019</td><td style = \"text-align: right;\">0.937992</td><td style = \"text-align: left;\">[[167, 402], [206, 438]]</td></tr><tr><td class = \"rowNumber\" style = \"font-weight: bold; text-align: right;\">11</td><td style = \"text-align: right;\">19</td><td style = \"text-align: right;\">19</td><td style = \"text-align: left;\">[430.783, 400.065]</td><td style = \"text-align: right;\">0.0182136</td><td style = \"text-align: right;\">0.00060854</td><td style = \"text-align: right;\">0.0208438</td><td style = \"text-align: right;\">0.0169223</td><td style = \"text-align: right;\">15.5726</td><td style = \"text-align: right;\">859.75</td><td style = \"text-align: right;\">855</td><td style = \"text-align: right;\">16.4971</td><td style = \"text-align: right;\">0.26056</td><td style = \"text-align: right;\">0.673223</td><td style = \"text-align: right;\">0.911327</td><td style = \"text-align: left;\">[[411, 384], [450, 414]]</td></tr><tr><td class = \"rowNumber\" style = \"font-weight: bold; text-align: right;\">12</td><td style = \"text-align: right;\">20</td><td style = \"text-align: right;\">20</td><td style = \"text-align: left;\">[649.227, 387.762]</td><td style = \"text-align: right;\">0.0176956</td><td style = \"text-align: right;\">0.00039643</td><td style = \"text-align: right;\">0.0187228</td><td style = \"text-align: right;\">0.0163729</td><td style = \"text-align: right;\">4.72471</td><td style = \"text-align: right;\">269.25</td><td style = \"text-align: right;\">267</td><td style = \"text-align: right;\">9.21893</td><td style = \"text-align: right;\">0.189235</td><td style = \"text-align: right;\">0.585372</td><td style = \"text-align: right;\">0.838976</td><td style = \"text-align: left;\">[[638, 377], [660, 397]]</td></tr><tr><td class = \"rowNumber\" style = \"font-weight: bold; text-align: right;\">13</td><td style = \"text-align: right;\">21</td><td style = \"text-align: right;\">21</td><td style = \"text-align: left;\">[385.472, 378.683]</td><td style = \"text-align: right;\">0.0170887</td><td style = \"text-align: right;\">0.000791268</td><td style = \"text-align: right;\">0.019089</td><td style = \"text-align: right;\">0.0150607</td><td style = \"text-align: right;\">19.0026</td><td style = \"text-align: right;\">1116.38</td><td style = \"text-align: right;\">1112</td><td style = \"text-align: right;\">18.8138</td><td style = \"text-align: right;\">0.318655</td><td style = \"text-align: right;\">0.731962</td><td style = \"text-align: right;\">0.898959</td><td style = \"text-align: left;\">[[370, 356], [402, 401]]</td></tr><tr><td style = \"text-align: right;\">&vellip;</td><td style = \"text-align: right;\">&vellip;</td><td style = \"text-align: right;\">&vellip;</td><td style = \"text-align: right;\">&vellip;</td><td style = \"text-align: right;\">&vellip;</td><td style = \"text-align: right;\">&vellip;</td><td style = \"text-align: right;\">&vellip;</td><td style = \"text-align: right;\">&vellip;</td><td style = \"text-align: right;\">&vellip;</td><td style = \"text-align: right;\">&vellip;</td><td style = \"text-align: right;\">&vellip;</td><td style = \"text-align: right;\">&vellip;</td><td style = \"text-align: right;\">&vellip;</td><td style = \"text-align: right;\">&vellip;</td><td style = \"text-align: right;\">&vellip;</td><td style = \"text-align: right;\">&vellip;</td></tr><tr><td class = \"rowNumber\" style = \"font-weight: bold; text-align: right;\">40</td><td style = \"text-align: right;\">52</td><td style = \"text-align: right;\">52</td><td style = \"text-align: left;\">[498.15, 119.566]</td><td style = \"text-align: right;\">0.0200971</td><td style = \"text-align: right;\">0.00097538</td><td style = \"text-align: right;\">0.0231937</td><td style = \"text-align: right;\">0.0173495</td><td style = \"text-align: right;\">15.2738</td><td style = \"text-align: right;\">765.0</td><td style = \"text-align: right;\">760</td><td style = \"text-align: right;\">15.5536</td><td style = \"text-align: right;\">0.193914</td><td style = \"text-align: right;\">0.591798</td><td style = \"text-align: right;\">0.952791</td><td style = \"text-align: left;\">[[483, 102], [513, 137]]</td></tr><tr><td class = \"rowNumber\" style = \"font-weight: bold; text-align: right;\">41</td><td style = \"text-align: right;\">53</td><td style = \"text-align: right;\">53</td><td style = \"text-align: left;\">[435.724, 108.487]</td><td style = \"text-align: right;\">0.0176781</td><td style = \"text-align: right;\">0.000383528</td><td style = \"text-align: right;\">0.0195773</td><td style = \"text-align: right;\">0.016434</td><td style = \"text-align: right;\">23.618</td><td style = \"text-align: right;\">1341.5</td><td style = \"text-align: right;\">1336</td><td style = \"text-align: right;\">20.6219</td><td style = \"text-align: right;\">0.203645</td><td style = \"text-align: right;\">0.604829</td><td style = \"text-align: right;\">0.93739</td><td style = \"text-align: left;\">[[417, 85], [455, 131]]</td></tr><tr><td class = \"rowNumber\" style = \"font-weight: bold; text-align: right;\">42</td><td style = \"text-align: right;\">54</td><td style = \"text-align: right;\">54</td><td style = \"text-align: left;\">[539.722, 99.6468]</td><td style = \"text-align: right;\">0.018235</td><td style = \"text-align: right;\">0.000582633</td><td style = \"text-align: right;\">0.0202487</td><td style = \"text-align: right;\">0.016556</td><td style = \"text-align: right;\">19.3838</td><td style = \"text-align: right;\">1068.75</td><td style = \"text-align: right;\">1063</td><td style = \"text-align: right;\">18.3947</td><td style = \"text-align: right;\">0.243517</td><td style = \"text-align: right;\">0.654013</td><td style = \"text-align: right;\">0.954757</td><td style = \"text-align: left;\">[[522, 79], [557, 120]]</td></tr><tr><td class = \"rowNumber\" style = \"font-weight: bold; text-align: right;\">43</td><td style = \"text-align: right;\">55</td><td style = \"text-align: right;\">55</td><td style = \"text-align: left;\">[311.668, 106.022]</td><td style = \"text-align: right;\">0.0186961</td><td style = \"text-align: right;\">0.000763568</td><td style = \"text-align: right;\">0.0205692</td><td style = \"text-align: right;\">0.0167391</td><td style = \"text-align: right;\">14.396</td><td style = \"text-align: right;\">774.625</td><td style = \"text-align: right;\">770</td><td style = \"text-align: right;\">15.6556</td><td style = \"text-align: right;\">0.138362</td><td style = \"text-align: right;\">0.507524</td><td style = \"text-align: right;\">0.845617</td><td style = \"text-align: left;\">[[296, 87], [327, 123]]</td></tr><tr><td class = \"rowNumber\" style = \"font-weight: bold; text-align: right;\">44</td><td style = \"text-align: right;\">56</td><td style = \"text-align: right;\">56</td><td style = \"text-align: left;\">[253.263, 105.513]</td><td style = \"text-align: right;\">0.0193868</td><td style = \"text-align: right;\">0.000660593</td><td style = \"text-align: right;\">0.0214237</td><td style = \"text-align: right;\">0.0170748</td><td style = \"text-align: right;\">25.862</td><td style = \"text-align: right;\">1339.75</td><td style = \"text-align: right;\">1334</td><td style = \"text-align: right;\">20.6064</td><td style = \"text-align: right;\">0.273978</td><td style = \"text-align: right;\">0.687671</td><td style = \"text-align: right;\">0.931108</td><td style = \"text-align: left;\">[[229, 87], [276, 125]]</td></tr><tr><td class = \"rowNumber\" style = \"font-weight: bold; text-align: right;\">45</td><td style = \"text-align: right;\">57</td><td style = \"text-align: right;\">57</td><td style = \"text-align: left;\">[135.568, 88.0369]</td><td style = \"text-align: right;\">0.0186941</td><td style = \"text-align: right;\">0.000655952</td><td style = \"text-align: right;\">0.0212558</td><td style = \"text-align: right;\">0.0169375</td><td style = \"text-align: right;\">28.0973</td><td style = \"text-align: right;\">1508.88</td><td style = \"text-align: right;\">1503</td><td style = \"text-align: right;\">21.8728</td><td style = \"text-align: right;\">0.0993594</td><td style = \"text-align: right;\">0.434565</td><td style = \"text-align: right;\">0.92566</td><td style = \"text-align: left;\">[[114, 65], [157, 112]]</td></tr><tr><td class = \"rowNumber\" style = \"font-weight: bold; text-align: right;\">46</td><td style = \"text-align: right;\">58</td><td style = \"text-align: right;\">58</td><td style = \"text-align: left;\">[375.615, 66.3881]</td><td style = \"text-align: right;\">0.0180286</td><td style = \"text-align: right;\">0.00061183</td><td style = \"text-align: right;\">0.0206607</td><td style = \"text-align: right;\">0.016495</td><td style = \"text-align: right;\">19.8134</td><td style = \"text-align: right;\">1103.88</td><td style = \"text-align: right;\">1099</td><td style = \"text-align: right;\">18.7035</td><td style = \"text-align: right;\">0.201794</td><td style = \"text-align: right;\">0.602385</td><td style = \"text-align: right;\">0.938983</td><td style = \"text-align: left;\">[[356, 48], [395, 85]]</td></tr><tr><td class = \"rowNumber\" style = \"font-weight: bold; text-align: right;\">47</td><td style = \"text-align: right;\">59</td><td style = \"text-align: right;\">59</td><td style = \"text-align: left;\">[584.712, 46.8775]</td><td style = \"text-align: right;\">0.0176462</td><td style = \"text-align: right;\">0.000464919</td><td style = \"text-align: right;\">0.019379</td><td style = \"text-align: right;\">0.0163729</td><td style = \"text-align: right;\">21.599</td><td style = \"text-align: right;\">1229.5</td><td style = \"text-align: right;\">1224</td><td style = \"text-align: right;\">19.7386</td><td style = \"text-align: right;\">0.148738</td><td style = \"text-align: right;\">0.524741</td><td style = \"text-align: right;\">0.952357</td><td style = \"text-align: left;\">[[563, 28], [605, 66]]</td></tr><tr><td class = \"rowNumber\" style = \"font-weight: bold; text-align: right;\">48</td><td style = \"text-align: right;\">60</td><td style = \"text-align: right;\">60</td><td style = \"text-align: left;\">[652.936, 36.3577]</td><td style = \"text-align: right;\">0.0182698</td><td style = \"text-align: right;\">0.000631907</td><td style = \"text-align: right;\">0.0211337</td><td style = \"text-align: right;\">0.0162356</td><td style = \"text-align: right;\">19.0006</td><td style = \"text-align: right;\">1045.5</td><td style = \"text-align: right;\">1040</td><td style = \"text-align: right;\">18.1946</td><td style = \"text-align: right;\">0.293446</td><td style = \"text-align: right;\">0.707659</td><td style = \"text-align: right;\">0.920261</td><td style = \"text-align: left;\">[[633, 18], [675, 53]]</td></tr><tr><td class = \"rowNumber\" style = \"font-weight: bold; text-align: right;\">49</td><td style = \"text-align: right;\">61</td><td style = \"text-align: right;\">61</td><td style = \"text-align: left;\">[303.104, 26.1755]</td><td style = \"text-align: right;\">0.0184625</td><td style = \"text-align: right;\">0.000741934</td><td style = \"text-align: right;\">0.0208286</td><td style = \"text-align: right;\">0.0166171</td><td style = \"text-align: right;\">18.1486</td><td style = \"text-align: right;\">988.25</td><td style = \"text-align: right;\">983</td><td style = \"text-align: right;\">17.6889</td><td style = \"text-align: right;\">0.316125</td><td style = \"text-align: right;\">0.729599</td><td style = \"text-align: right;\">0.886328</td><td style = \"text-align: left;\">[[285, 7], [323, 46]]</td></tr><tr><td class = \"rowNumber\" style = \"font-weight: bold; text-align: right;\">50</td><td style = \"text-align: right;\">62</td><td style = \"text-align: right;\">62</td><td style = \"text-align: left;\">[151.002, 28.222]</td><td style = \"text-align: right;\">0.0171202</td><td style = \"text-align: right;\">0.000528271</td><td style = \"text-align: right;\">0.0191501</td><td style = \"text-align: right;\">0.0156863</td><td style = \"text-align: right;\">20.2018</td><td style = \"text-align: right;\">1185.12</td><td style = \"text-align: right;\">1180</td><td style = \"text-align: right;\">19.3805</td><td style = \"text-align: right;\">0.0697659</td><td style = \"text-align: right;\">0.366967</td><td style = \"text-align: right;\">0.895493</td><td style = \"text-align: left;\">[[130, 8], [171, 48]]</td></tr><tr><td class = \"rowNumber\" style = \"font-weight: bold; text-align: right;\">51</td><td style = \"text-align: right;\">64</td><td style = \"text-align: right;\">64</td><td style = \"text-align: left;\">[452.684, 29.0576]</td><td style = \"text-align: right;\">0.0168306</td><td style = \"text-align: right;\">0.000465857</td><td style = \"text-align: right;\">0.0189517</td><td style = \"text-align: right;\">0.0154574</td><td style = \"text-align: right;\">23.9668</td><td style = \"text-align: right;\">1430.12</td><td style = \"text-align: right;\">1424</td><td style = \"text-align: right;\">21.2902</td><td style = \"text-align: right;\">0.204887</td><td style = \"text-align: right;\">0.606462</td><td style = \"text-align: right;\">0.933522</td><td style = \"text-align: left;\">[[433, 5], [473, 52]]</td></tr></tbody></table></div>"
      ],
      "text/latex": [
       "\\begin{tabular}{r|cccccc}\n",
       "\t& ObjectID & Label & Centroid & MeanIntensity & StandardDeviationIntensity & \\\\\n",
       "\t\\hline\n",
       "\t& Int64 & Int64 & Array… & Float64 & Float64 & \\\\\n",
       "\t\\hline\n",
       "\t1 & 7 & 7 & [459.991, 492.376] & 0.0197481 & 0.000691072 & $\\dots$ \\\\\n",
       "\t2 & 8 & 8 & [582.02, 488.855] & 0.0167421 & 0.000407635 & $\\dots$ \\\\\n",
       "\t3 & 10 & 10 & [252.668, 468.063] & 0.0190265 & 0.000736447 & $\\dots$ \\\\\n",
       "\t4 & 11 & 11 & [519.549, 471.285] & 0.0172008 & 0.000409486 & $\\dots$ \\\\\n",
       "\t5 & 12 & 12 & [190.216, 476.081] & 0.0185589 & 0.000698408 & $\\dots$ \\\\\n",
       "\t6 & 13 & 13 & [63.1947, 443.139] & 0.0169142 & 0.000768541 & $\\dots$ \\\\\n",
       "\t7 & 14 & 14 & [308.729, 440.049] & 0.0175986 & 0.000484153 & $\\dots$ \\\\\n",
       "\t8 & 15 & 15 & [383.872, 439.798] & 0.0176472 & 0.000670035 & $\\dots$ \\\\\n",
       "\t9 & 17 & 17 & [562.688, 423.98] & 0.0174847 & 0.000517903 & $\\dots$ \\\\\n",
       "\t10 & 18 & 18 & [185.915, 419.907] & 0.0192413 & 0.000580678 & $\\dots$ \\\\\n",
       "\t11 & 19 & 19 & [430.783, 400.065] & 0.0182136 & 0.00060854 & $\\dots$ \\\\\n",
       "\t12 & 20 & 20 & [649.227, 387.762] & 0.0176956 & 0.00039643 & $\\dots$ \\\\\n",
       "\t13 & 21 & 21 & [385.472, 378.683] & 0.0170887 & 0.000791268 & $\\dots$ \\\\\n",
       "\t14 & 23 & 23 & [319.588, 378.392] & 0.0207446 & 0.000795439 & $\\dots$ \\\\\n",
       "\t15 & 24 & 24 & [137.304, 369.023] & 0.0212102 & 0.00102983 & $\\dots$ \\\\\n",
       "\t16 & 25 & 25 & [525.949, 372.449] & 0.0189979 & 0.000675145 & $\\dots$ \\\\\n",
       "\t17 & 26 & 26 & [453.131, 366.883] & 0.016997 & 0.000482722 & $\\dots$ \\\\\n",
       "\t18 & 27 & 27 & [258.215, 362.092] & 0.0223497 & 0.000995737 & $\\dots$ \\\\\n",
       "\t19 & 28 & 28 & [619.04, 345.744] & 0.0233522 & 0.00141116 & $\\dots$ \\\\\n",
       "\t20 & 29 & 29 & [479.261, 328.64] & 0.0164518 & 0.000393771 & $\\dots$ \\\\\n",
       "\t21 & 30 & 30 & [542.016, 329.919] & 0.0161482 & 0.000395495 & $\\dots$ \\\\\n",
       "\t22 & 31 & 31 & [665.09, 312.228] & 0.0193371 & 0.000738566 & $\\dots$ \\\\\n",
       "\t23 & 32 & 32 & [304.308, 314.256] & 0.0180193 & 0.000505981 & $\\dots$ \\\\\n",
       "\t24 & 34 & 34 & [566.908, 289.47] & 0.0193317 & 0.00060268 & $\\dots$ \\\\\n",
       "\t$\\dots$ & $\\dots$ & $\\dots$ & $\\dots$ & $\\dots$ & $\\dots$ &  \\\\\n",
       "\\end{tabular}\n"
      ],
      "text/plain": [
       "\u001b[1m51×15 DataFrame\u001b[0m\n",
       "\u001b[1m Row \u001b[0m│\u001b[1m ObjectID \u001b[0m\u001b[1m Label \u001b[0m\u001b[1m Centroid           \u001b[0m\u001b[1m MeanIntensity \u001b[0m\u001b[1m StandardDeviationIn\u001b[0m ⋯\n",
       "     │\u001b[90m Int64    \u001b[0m\u001b[90m Int64 \u001b[0m\u001b[90m Array…             \u001b[0m\u001b[90m Float64       \u001b[0m\u001b[90m Float64            \u001b[0m ⋯\n",
       "─────┼──────────────────────────────────────────────────────────────────────────\n",
       "   1 │        7      7  [459.991, 492.376]      0.0197481                 0.00 ⋯\n",
       "   2 │        8      8  [582.02, 488.855]       0.0167421                 0.00\n",
       "   3 │       10     10  [252.668, 468.063]      0.0190265                 0.00\n",
       "   4 │       11     11  [519.549, 471.285]      0.0172008                 0.00\n",
       "   5 │       12     12  [190.216, 476.081]      0.0185589                 0.00 ⋯\n",
       "   6 │       13     13  [63.1947, 443.139]      0.0169142                 0.00\n",
       "   7 │       14     14  [308.729, 440.049]      0.0175986                 0.00\n",
       "   8 │       15     15  [383.872, 439.798]      0.0176472                 0.00\n",
       "  ⋮  │    ⋮        ⋮            ⋮                 ⋮                    ⋮       ⋱\n",
       "  45 │       57     57  [135.568, 88.0369]      0.0186941                 0.00 ⋯\n",
       "  46 │       58     58  [375.615, 66.3881]      0.0180286                 0.00\n",
       "  47 │       59     59  [584.712, 46.8775]      0.0176462                 0.00\n",
       "  48 │       60     60  [652.936, 36.3577]      0.0182698                 0.00\n",
       "  49 │       61     61  [303.104, 26.1755]      0.0184625                 0.00 ⋯\n",
       "  50 │       62     62  [151.002, 28.222]       0.0171202                 0.00\n",
       "  51 │       64     64  [452.684, 29.0576]      0.0168306                 0.00\n",
       "\u001b[36m                                                  11 columns and 36 rows omitted\u001b[0m"
      ]
     },
     "metadata": {},
     "output_type": "display_data"
    }
   ],
   "source": [
    "#parse columns falsely interpreted as strings to arrays \n",
    "drugScreen3.Centroid = eval.(Meta.parse.(drugScreen3.Centroid))\n",
    "drugScreen3.BoundingBox = eval.(Meta.parse.(drugScreen3.BoundingBox))\n",
    "drugScreen3"
   ]
  },
  {
   "cell_type": "markdown",
   "id": "1a51337b-f0ac-4ce0-beec-69004bb71353",
   "metadata": {},
   "source": [
    "#### Exercise 11\n",
    "Create a new folder called weights. Copy the file `Weights.csv` to that folder, only using Julia. Import the data set into Julia. Check that the import worked correctly. If not, adjust the import parameters. Plot a histogram of the weights and save it as a PDF in a new subfolder in weights called plots.\n",
    "#### Solution 11"
   ]
  },
  {
   "cell_type": "code",
   "execution_count": 19,
   "id": "ca0c33b7-fc2b-4278-8201-a82e6b91dfe3",
   "metadata": {},
   "outputs": [
    {
     "data": {
      "text/plain": [
       "\"weights/Weights.csv\""
      ]
     },
     "metadata": {},
     "output_type": "display_data"
    }
   ],
   "source": [
    "mkpath(\"weights/plots\")\n",
    "\n",
    "cp(\"Weights.csv\", \"weights/Weights.csv\", force = true)"
   ]
  },
  {
   "cell_type": "code",
   "execution_count": 21,
   "id": "16a5df30-17a6-47b5-82c7-6f13cb0f831d",
   "metadata": {},
   "outputs": [
    {
     "data": {
      "image/png": "[encoded data removed]"
     },
     "execution_count": 21,
     "metadata": {},
     "output_type": "execute_result"
    }
   ],
   "source": [
    "Weights = DataFrame(CSV.File(\"weights/Weights.csv\", header = 2))\n",
    "fig2 = hist(Weights.Weights, pdf = true, bins = 40)\n",
    "\n"
   ]
  },
  {
   "cell_type": "code",
   "execution_count": 22,
   "id": "93cd2fc7-3ed4-4dcf-b732-ba99316d2fff",
   "metadata": {},
   "outputs": [
    {
     "data": {
      "text/plain": [
       "CairoMakie.Screen{IMAGE}\n"
      ]
     },
     "execution_count": 22,
     "metadata": {},
     "output_type": "execute_result"
    }
   ],
   "source": [
    "save(\"weights/plots/histo_weights.png\", fig2)"
   ]
  },
  {
   "cell_type": "markdown",
   "id": "7ded31ca-7006-48fb-9d34-af0f957a6d23",
   "metadata": {
    "tags": []
   },
   "source": [
    "#### Exercise 12\n",
    "Import the file AliceInWonderland.txt and count the number of words in the text.\n",
    "#### Solution 12\n",
    "\n"
   ]
  },
  {
   "cell_type": "code",
   "execution_count": 23,
   "id": "d51f2ed8-6696-42f9-9a4b-7ba91197335a",
   "metadata": {},
   "outputs": [
    {
     "data": {
      "text/plain": [
       "\"I--DOWN THE RABBIT-HOLE Alice was beginning to get very tired of sitting by her sister on the bank, and of having nothing to do. Once or twice she had peeped into the book her sister was reading, but it had no pictures or conversations in it, \\\"and what is the use of a b\" ⋯ 51185 bytes ⋯ \"curious dream!\\\" said Alice. And she told her sister, as well as she could remember them, all these strange adventures of hers that you have just been reading about. Alice got up and ran off, thinking while she ran, as well she might, what a wonderful dream it had been.\""
      ]
     },
     "execution_count": 23,
     "metadata": {},
     "output_type": "execute_result"
    }
   ],
   "source": [
    "alice = readline(\"AliceInWonderland.txt\")"
   ]
  },
  {
   "cell_type": "markdown",
   "id": "d23e945a-284b-4203-9f2b-36bd6ad4154a",
   "metadata": {},
   "source": [
    "Use the `split()` function to split the String into substrings each containing one word and then count its length. "
   ]
  },
  {
   "cell_type": "code",
   "execution_count": 24,
   "id": "65f4cdba-dccb-4b31-8863-e4badae89c7e",
   "metadata": {},
   "outputs": [
    {
     "name": "stdout",
     "output_type": "stream",
     "text": [
      "search: \u001b[0m\u001b[1ms\u001b[22m\u001b[0m\u001b[1mp\u001b[22m\u001b[0m\u001b[1ml\u001b[22m\u001b[0m\u001b[1mi\u001b[22m\u001b[0m\u001b[1mt\u001b[22m \u001b[0m\u001b[1ms\u001b[22m\u001b[0m\u001b[1mp\u001b[22m\u001b[0m\u001b[1ml\u001b[22m\u001b[0m\u001b[1mi\u001b[22m\u001b[0m\u001b[1mt\u001b[22mext \u001b[0m\u001b[1ms\u001b[22m\u001b[0m\u001b[1mp\u001b[22m\u001b[0m\u001b[1ml\u001b[22m\u001b[0m\u001b[1mi\u001b[22m\u001b[0m\u001b[1mt\u001b[22mdir \u001b[0m\u001b[1ms\u001b[22m\u001b[0m\u001b[1mp\u001b[22m\u001b[0m\u001b[1ml\u001b[22m\u001b[0m\u001b[1mi\u001b[22m\u001b[0m\u001b[1mt\u001b[22mpath \u001b[0m\u001b[1ms\u001b[22m\u001b[0m\u001b[1mp\u001b[22m\u001b[0m\u001b[1ml\u001b[22m\u001b[0m\u001b[1mi\u001b[22m\u001b[0m\u001b[1mt\u001b[22mdrive r\u001b[0m\u001b[1ms\u001b[22m\u001b[0m\u001b[1mp\u001b[22m\u001b[0m\u001b[1ml\u001b[22m\u001b[0m\u001b[1mi\u001b[22m\u001b[0m\u001b[1mt\u001b[22m each\u001b[0m\u001b[1ms\u001b[22m\u001b[0m\u001b[1mp\u001b[22m\u001b[0m\u001b[1ml\u001b[22m\u001b[0m\u001b[1mi\u001b[22m\u001b[0m\u001b[1mt\u001b[22m \u001b[0m\u001b[1ms\u001b[22m\u001b[0m\u001b[1mp\u001b[22m\u001b[0m\u001b[1ml\u001b[22m\u001b[0m\u001b[1mi\u001b[22mce!\n",
      "\n"
     ]
    },
    {
     "data": {
      "text/latex": [
       "\\begin{verbatim}\n",
       "split(str::AbstractString, dlm; limit::Integer=0, keepempty::Bool=true)\n",
       "split(str::AbstractString; limit::Integer=0, keepempty::Bool=false)\n",
       "\\end{verbatim}\n",
       "Split \\texttt{str} into an array of substrings on occurrences of the delimiter(s) \\texttt{dlm}.  \\texttt{dlm} can be any of the formats allowed by \\href{@ref}{\\texttt{findnext}}'s first argument (i.e. as a string, regular expression or a function), or as a single character or collection of characters.\n",
       "\n",
       "If \\texttt{dlm} is omitted, it defaults to \\href{@ref}{\\texttt{isspace}}.\n",
       "\n",
       "The optional keyword arguments are:\n",
       "\n",
       "\\begin{itemize}\n",
       "\\item \\texttt{limit}: the maximum size of the result. \\texttt{limit=0} implies no maximum (default)\n",
       "\n",
       "\n",
       "\\item \\texttt{keepempty}: whether empty fields should be kept in the result. Default is \\texttt{false} without a \\texttt{dlm} argument, \\texttt{true} with a \\texttt{dlm} argument.\n",
       "\n",
       "\\end{itemize}\n",
       "See also \\href{@ref}{\\texttt{rsplit}}, \\href{@ref}{\\texttt{eachsplit}}.\n",
       "\n",
       "\\section{Examples}\n",
       "\\begin{verbatim}\n",
       "julia> a = \"Ma.rch\"\n",
       "\"Ma.rch\"\n",
       "\n",
       "julia> split(a, \".\")\n",
       "2-element Vector{SubString{String}}:\n",
       " \"Ma\"\n",
       " \"rch\"\n",
       "\\end{verbatim}\n"
      ],
      "text/markdown": [
       "```\n",
       "split(str::AbstractString, dlm; limit::Integer=0, keepempty::Bool=true)\n",
       "split(str::AbstractString; limit::Integer=0, keepempty::Bool=false)\n",
       "```\n",
       "\n",
       "Split `str` into an array of substrings on occurrences of the delimiter(s) `dlm`.  `dlm` can be any of the formats allowed by [`findnext`](@ref)'s first argument (i.e. as a string, regular expression or a function), or as a single character or collection of characters.\n",
       "\n",
       "If `dlm` is omitted, it defaults to [`isspace`](@ref).\n",
       "\n",
       "The optional keyword arguments are:\n",
       "\n",
       "  * `limit`: the maximum size of the result. `limit=0` implies no maximum (default)\n",
       "  * `keepempty`: whether empty fields should be kept in the result. Default is `false` without a `dlm` argument, `true` with a `dlm` argument.\n",
       "\n",
       "See also [`rsplit`](@ref), [`eachsplit`](@ref).\n",
       "\n",
       "# Examples\n",
       "\n",
       "```jldoctest\n",
       "julia> a = \"Ma.rch\"\n",
       "\"Ma.rch\"\n",
       "\n",
       "julia> split(a, \".\")\n",
       "2-element Vector{SubString{String}}:\n",
       " \"Ma\"\n",
       " \"rch\"\n",
       "```\n"
      ],
      "text/plain": [
       "\u001b[36m  split(str::AbstractString, dlm; limit::Integer=0, keepempty::Bool=true)\u001b[39m\n",
       "\u001b[36m  split(str::AbstractString; limit::Integer=0, keepempty::Bool=false)\u001b[39m\n",
       "\n",
       "  Split \u001b[36mstr\u001b[39m into an array of substrings on occurrences of the delimiter(s)\n",
       "  \u001b[36mdlm\u001b[39m. \u001b[36mdlm\u001b[39m can be any of the formats allowed by \u001b[36mfindnext\u001b[39m's first argument\n",
       "  (i.e. as a string, regular expression or a function), or as a single\n",
       "  character or collection of characters.\n",
       "\n",
       "  If \u001b[36mdlm\u001b[39m is omitted, it defaults to \u001b[36misspace\u001b[39m.\n",
       "\n",
       "  The optional keyword arguments are:\n",
       "\n",
       "    •  \u001b[36mlimit\u001b[39m: the maximum size of the result. \u001b[36mlimit=0\u001b[39m implies no maximum\n",
       "       (default)\n",
       "\n",
       "    •  \u001b[36mkeepempty\u001b[39m: whether empty fields should be kept in the result.\n",
       "       Default is \u001b[36mfalse\u001b[39m without a \u001b[36mdlm\u001b[39m argument, \u001b[36mtrue\u001b[39m with a \u001b[36mdlm\u001b[39m argument.\n",
       "\n",
       "  See also \u001b[36mrsplit\u001b[39m, \u001b[36meachsplit\u001b[39m.\n",
       "\n",
       "\u001b[1m  Examples\u001b[22m\n",
       "\u001b[1m  ≡≡≡≡≡≡≡≡≡≡\u001b[22m\n",
       "\n",
       "\u001b[36m  julia> a = \"Ma.rch\"\u001b[39m\n",
       "\u001b[36m  \"Ma.rch\"\u001b[39m\n",
       "\u001b[36m  \u001b[39m\n",
       "\u001b[36m  julia> split(a, \".\")\u001b[39m\n",
       "\u001b[36m  2-element Vector{SubString{String}}:\u001b[39m\n",
       "\u001b[36m   \"Ma\"\u001b[39m\n",
       "\u001b[36m   \"rch\"\u001b[39m"
      ]
     },
     "execution_count": 24,
     "metadata": {},
     "output_type": "execute_result"
    }
   ],
   "source": [
    "?split"
   ]
  },
  {
   "cell_type": "code",
   "execution_count": 25,
   "id": "a4b93da7-4dc2-49db-98d8-11aafd8e4def",
   "metadata": {},
   "outputs": [
    {
     "data": {
      "text/plain": [
       "9785-element Vector{SubString{String}}:\n",
       " \"I\"\n",
       " \"DOWN\"\n",
       " \"THE\"\n",
       " \"RABBIT\"\n",
       " \"HOLE\"\n",
       " \"Alice\"\n",
       " \"was\"\n",
       " \"beginning\"\n",
       " \"to\"\n",
       " \"get\"\n",
       " \"very\"\n",
       " \"tired\"\n",
       " \"of\"\n",
       " ⋮\n",
       " \"ran,\"\n",
       " \"as\"\n",
       " \"well\"\n",
       " \"she\"\n",
       " \"might,\"\n",
       " \"what\"\n",
       " \"a\"\n",
       " \"wonderful\"\n",
       " \"dream\"\n",
       " \"it\"\n",
       " \"had\"\n",
       " \"been.\""
      ]
     },
     "execution_count": 25,
     "metadata": {},
     "output_type": "execute_result"
    }
   ],
   "source": [
    "words =split( alice, [' ','-'], keepempty = false)"
   ]
  },
  {
   "cell_type": "code",
   "execution_count": 26,
   "id": "67a34859-a9d3-44eb-9eb1-af29253d3fca",
   "metadata": {},
   "outputs": [
    {
     "data": {
      "text/plain": [
       "9785"
      ]
     },
     "execution_count": 26,
     "metadata": {},
     "output_type": "execute_result"
    }
   ],
   "source": [
    "length(words)"
   ]
  },
  {
   "cell_type": "code",
   "execution_count": null,
   "id": "1f94de80-a07e-41c5-bb4b-38a9d6b55a48",
   "metadata": {},
   "outputs": [],
   "source": []
  }
 ],
 "metadata": {
  "kernelspec": {
   "display_name": "Julia 1.9.2",
   "language": "julia",
   "name": "julia-1.9"
  },
  "language_info": {
   "file_extension": ".jl",
   "mimetype": "application/julia",
   "name": "julia",
   "version": "1.9.2"
  }
 },
 "nbformat": 4,
 "nbformat_minor": 5
}
