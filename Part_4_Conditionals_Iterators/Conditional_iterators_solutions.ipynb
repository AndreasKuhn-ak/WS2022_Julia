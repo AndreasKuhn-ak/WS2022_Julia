{
 "cells": [
  {
   "cell_type": "markdown",
   "id": "88ad6355-a8be-4f0c-8fb1-089ddc05f836",
   "metadata": {},
   "source": [
    "## 4. Conditional Iterators\n",
    "\n",
    "###  Sample Solutions "
   ]
  },
  {
   "cell_type": "markdown",
   "id": "84a7a724-fd29-4157-af5b-eedd40c9a55b",
   "metadata": {},
   "source": [
    "Execute the following cell, to create the variables `a` - `array_7. `"
   ]
  },
  {
   "cell_type": "code",
   "execution_count": null,
   "id": "d13afe08-b60c-4d14-8e83-e9977b4352a5",
   "metadata": {},
   "outputs": [],
   "source": [
    "a=5 \n",
    "b=6 \n",
    "c=73.0\n",
    "d=7/18\n",
    "e=6.243\n",
    "f=7\n",
    "g=0.35\n",
    "h=0.39\n",
    "array_7=[[1,3,2],[8,8,12],[6,7,4],[13,11,9],[3,5,6],[4,5,6],[3,2,3],[11,3,8]];"
   ]
  },
  {
   "cell_type": "markdown",
   "id": "031a9b93-e51c-4aa1-8296-d65918ec0425",
   "metadata": {},
   "source": [
    "### <p style='color: green'>easy</p>"
   ]
  },
  {
   "cell_type": "markdown",
   "id": "3d50ecea-eafb-4c67-853d-3ec286e767bb",
   "metadata": {},
   "source": [
    "#### Exercise 1 \n",
    "Test if `a` is `5`, `b` is `6` and `c` is `72` and print `\"This is the case\"` if it applies and `\"This is not the case\"` if it doesn't apply.\n",
    "#### Solution 1 "
   ]
  },
  {
   "cell_type": "code",
   "execution_count": null,
   "id": "7968519b-af75-4336-b46a-45e210ec5b52",
   "metadata": {},
   "outputs": [],
   "source": [
    "if a == 5 && b == 6 && c == 72\n",
    "    println(\"This is the case\")\n",
    "else\n",
    "    println(\"This is not the case\")\n",
    "end"
   ]
  },
  {
   "cell_type": "markdown",
   "id": "6db6c781-2b3c-4c7d-80bc-3f1d942aaa25",
   "metadata": {},
   "source": [
    "#### Exercise 2\n",
    "Test if `b` is between `a` and `e` and  if `d` is between `g` and `h`. If it applies print `\"This is the case\"` if not print `\"This is not the case\"`.\n",
    "#### Solution 2 "
   ]
  },
  {
   "cell_type": "code",
   "execution_count": null,
   "id": "e9f1e730",
   "metadata": {},
   "outputs": [],
   "source": [
    "if (a < b < e || e < b < a) && ( g< d < h || h < d < g)\n",
    "    println(\"This is the case\")\n",
    "else\n",
    "    println(\"This is not the cass\")\n",
    "end"
   ]
  },
  {
   "cell_type": "markdown",
   "id": "c9de4020-a9c1-483b-8d4b-233c94104c56",
   "metadata": {},
   "source": [
    "#### Exercise 3\n",
    "Test if `f` has a smaller value than `d` or `e`. If so, print the value of `f` together with the string `\" is smaller than d or e\"`. Otherwise print the value of `f` togehter with `\"is bigger than d or e\"`. Do the same for `a` and `g` instead of `f`.\n",
    "#### Solution 3 "
   ]
  },
  {
   "cell_type": "code",
   "execution_count": null,
   "id": "19e809ad-a161-4b81-bf56-09c68a8cdf46",
   "metadata": {},
   "outputs": [],
   "source": [
    "# test f \n",
    "if f < d || f < e\n",
    "    println(f, \" is smaller than d or e\")\n",
    "else\n",
    "    println(f, \" is bigger than d or e\" )\n",
    "end\n"
   ]
  },
  {
   "cell_type": "code",
   "execution_count": null,
   "id": "04432032-8d72-4751-9c8a-e7f41e5944dc",
   "metadata": {},
   "outputs": [],
   "source": [
    "# compact version testing f, a and g togehter using a loop, you could also write it down explicitly for f, a and g \n",
    "for val in [f,a,g]\n",
    "    if val < d || val < e\n",
    "        println(val, \" is smaller than d or e\")\n",
    "    else\n",
    "        println(val, \" is bigger than d or e\" )\n",
    "    end\n",
    "end"
   ]
  },
  {
   "cell_type": "markdown",
   "id": "9af1ce48-b823-44ee-b3da-ee5f356de50e",
   "metadata": {},
   "source": [
    "#### Exercise 4\n",
    "Create `j=4` and add `1.5` four times using a for loop.\n",
    "#### Solution 4 "
   ]
  },
  {
   "cell_type": "code",
   "execution_count": null,
   "id": "61020e5f-d508-4cab-b8fe-21d1a85e3be0",
   "metadata": {},
   "outputs": [],
   "source": [
    "j = 4\n",
    "for i in 1:4\n",
    "    j = j+1.5\n",
    "end\n",
    "j"
   ]
  },
  {
   "cell_type": "code",
   "execution_count": null,
   "id": "ed64ef19-f3d7-41ce-85cd-2044719a8cf9",
   "metadata": {},
   "outputs": [],
   "source": [
    "# more compact notation using += operatorj = 4\n",
    "for i in 1:4\n",
    "    j +=1.5\n",
    "end\n",
    "j"
   ]
  },
  {
   "cell_type": "markdown",
   "id": "11f7f019-c8eb-4c5e-97b2-0b88edcf0c13",
   "metadata": {},
   "source": [
    "#### Exercise 5\n",
    "Make `array_6` with numbers ranging from `1` to `10` using array comprehension.\n",
    "#### Solution 5"
   ]
  },
  {
   "cell_type": "code",
   "execution_count": null,
   "id": "14671a6a-f354-483c-b305-93a1e872dd5f",
   "metadata": {},
   "outputs": [],
   "source": [
    "array_6 = [x for x in 1:10]"
   ]
  },
  {
   "cell_type": "markdown",
   "id": "a192fc3e-9d6e-4037-b9b3-f5dd720c36e9",
   "metadata": {},
   "source": [
    "#### Exercise 6\n",
    "Only print the odd numbers of the array `array_6` using a `for` loop and the `continue` statement. (Use the remainder operator `%` e.g. for even numbers `'number % 2 == 0'`)\n",
    "#### Solution 6"
   ]
  },
  {
   "cell_type": "code",
   "execution_count": null,
   "id": "f59b1282-1716-4822-926b-90f8788cf97a",
   "metadata": {},
   "outputs": [],
   "source": [
    "for i in array_6\n",
    "    if i % 2 == 0\n",
    "        continue\n",
    "    end\n",
    "    println(i)\n",
    "end"
   ]
  },
  {
   "cell_type": "markdown",
   "id": "6afb7d21-1d17-4dff-978a-1ef7361ac8ce",
   "metadata": {},
   "source": [
    "### <p style='color: orange'>medium</p>"
   ]
  },
  {
   "cell_type": "markdown",
   "id": "ade68527-5a65-4e58-bdb1-130f9ee0cad6",
   "metadata": {},
   "source": [
    "#### Exercise 7\n",
    "Extract the second items of the arrays inside of `array_7`, but only if the number is larger than `3`, once using a for loop (`array_71`) and once using array comprehension (`array_72`).\n",
    "#### Solution 7"
   ]
  },
  {
   "cell_type": "code",
   "execution_count": null,
   "id": "4d30d757-52d0-4671-b7c8-10b1848412b6",
   "metadata": {},
   "outputs": [],
   "source": [
    "# for loop\n",
    "array_71 = Int64[]\n",
    "for array in array_7\n",
    "    if array[2] > 3\n",
    "        push!(array_71, array[2])\n",
    "    end\n",
    "end\n",
    "array_71"
   ]
  },
  {
   "cell_type": "code",
   "execution_count": null,
   "id": "80e55ce4-f2e7-4ecc-90de-7ed8d36db5fd",
   "metadata": {},
   "outputs": [],
   "source": [
    "# array comprehension\n",
    "[x[2] for x in array_7 if x[2] >3]"
   ]
  },
  {
   "cell_type": "markdown",
   "id": "9ee2f99f-a90d-428c-9383-713afd67aa20",
   "metadata": {
    "tags": []
   },
   "source": [
    "#### Exercise 8\n",
    "Create an array (`array_9`) consisting of all numbers between `420` and `1680` that are divisible by `7` and multiple of `3` (again use the remainder operator). Afterwards count the number of even and odd numbers in `array_9` and print the results. \n",
    "#### Solution 8"
   ]
  },
  {
   "cell_type": "code",
   "execution_count": null,
   "id": "3f6a8747-c3b0-4d9f-99ee-d1d61e62c17e",
   "metadata": {},
   "outputs": [],
   "source": [
    "array_9 = [x for x in 420:1680 if x % 7 == 0 && x % 3 ==0 ]\n",
    "even_counter = 0\n",
    "odd_counter = 0\n",
    "for i in array_9\n",
    "    if i % 2 == 0\n",
    "        even_counter += 1\n",
    "    else\n",
    "        odd_counter += 1\n",
    "    end\n",
    "end\n",
    "println(\"Even numbers: \", even_counter, \"  Odd numbers : \", odd_counter)"
   ]
  },
  {
   "cell_type": "markdown",
   "id": "56b31b87-195b-451a-ab32-125610baa58d",
   "metadata": {},
   "source": [
    "#### Exercise 9\n",
    "Create an array (`array_10`) containing `50` subarrays, each consisting of `3` random numbers from `0` to `10`. (Use the `rand()` function (http://www.jlhub.com/julia/manual/en/function/rand) and a for loop) \n",
    "#### Solution 9"
   ]
  },
  {
   "cell_type": "code",
   "execution_count": null,
   "id": "da9a1b44-a497-4dfb-8461-502ba70ed02a",
   "metadata": {},
   "outputs": [],
   "source": [
    "array_10 = []\n",
    "for i in 1:50\n",
    "    push!(array_10, rand(1:10, 3))\n",
    "    \n",
    "end"
   ]
  },
  {
   "cell_type": "code",
   "execution_count": null,
   "id": "a1dcb265-2214-4163-8b47-28f640aa5d57",
   "metadata": {},
   "outputs": [],
   "source": [
    "array_10"
   ]
  },
  {
   "cell_type": "markdown",
   "id": "551c58f3-5f64-49d9-9b83-14eed35ed4a5",
   "metadata": {},
   "source": [
    "#### Exercise 10\n",
    "Create a matrix (`matrix_4`) with 50 rows and 3 collums each containing a random number from 0 to 10 using only the `rand()` function.  What is the differnce between `matrix_4` and `array_10`  ?\n",
    "#### Solution 10"
   ]
  },
  {
   "cell_type": "code",
   "execution_count": null,
   "id": "a887e63d-9351-4a90-9e94-c8f7566639e3",
   "metadata": {},
   "outputs": [],
   "source": [
    "matrix_4 = rand(1:10, 50,3)"
   ]
  },
  {
   "cell_type": "code",
   "execution_count": null,
   "id": "4f377540-4c71-438f-ac47-996a87269d9f",
   "metadata": {},
   "outputs": [],
   "source": [
    "println(typeof(matrix_4) == typeof(array_10))\n",
    "println(typeof(matrix_4), typeof(array_10))\n",
    "# Matrix_4 is a 2D array of type Int64, where as array_10 is a 1D array of type Any \n",
    "# containing 1D array of type Int64 with length 3"
   ]
  },
  {
   "cell_type": "markdown",
   "id": "a0f6f643-c7b1-42a3-8f57-1a594b00a094",
   "metadata": {},
   "source": [
    "#### Exercise 11\n",
    "How many numbers in `array_9` end with `0`, `5`, and `9`. \n",
    "#### Solution 11"
   ]
  },
  {
   "cell_type": "code",
   "execution_count": null,
   "id": "76b33b58-9329-4c70-9edd-0e5ecc1af9dd",
   "metadata": {},
   "outputs": [],
   "source": [
    "count_1 = 0\n",
    "count_5 = 0\n",
    "count_9 = 0\n",
    "for number in array_9\n",
    "    last_digit = number%10\n",
    "    if last_digit == 1\n",
    "        count_1 += 1\n",
    "    elseif last_digit == 0\n",
    "        count_5 += 1\n",
    "    elseif last_digit == 9\n",
    "        count_9 += 1\n",
    "    end\n",
    "end\n",
    "println(\"There are \",count_1, \" numbers ending with 1 \") \n",
    "println(\"There are \",count_5, \" numbers ending with 5 \")     \n",
    "println(\"There are \",count_9, \" numbers ending with 9 \") "
   ]
  },
  {
   "cell_type": "markdown",
   "id": "76b304c1-31c7-4121-bbf7-8dd903d2ce97",
   "metadata": {},
   "source": [
    "### <p style='color: red'>hard</p>"
   ]
  },
  {
   "cell_type": "markdown",
   "id": "1a51337b-f0ac-4ce0-beec-69004bb71353",
   "metadata": {},
   "source": [
    "#### Exercise 12\n",
    "`array_10` resembles an array of 3D points. Write a program that calculates the mean of the euclidean distance every point in `array_10` has to every OTHER point in `array_10`. (Also use Google for euclidean distance and mean).\n",
    "#### Solution 12"
   ]
  },
  {
   "cell_type": "markdown",
   "id": "5a02a305-c16c-4df1-b59a-adc30b8c34b4",
   "metadata": {},
   "source": [
    "Using the https://docs.julialang.org/en/v1/stdlib/Statistics/#Statistics.mean the mean function out of the Julia standard library statistics. "
   ]
  },
  {
   "cell_type": "code",
   "execution_count": null,
   "id": "8942bf2e-3a73-4961-8097-eaee3f1f473d",
   "metadata": {},
   "outputs": [],
   "source": [
    "using Statistics"
   ]
  },
  {
   "cell_type": "code",
   "execution_count": null,
   "id": "dacaccd2-cb7b-45f8-a09f-fb7b89b23fb7",
   "metadata": {},
   "outputs": [],
   "source": [
    "#initalized mean_dist array before loop\n",
    "mean_dist = Float64[]\n",
    "#iterator over all points\n",
    "for point in array_10\n",
    "    #create temporary array for all distance of point to all otherpoints\n",
    "    all_dist = Float64[]\n",
    "    #iterate once more over all points, once for every point\n",
    "    for other_point in array_10\n",
    "        # check if other point and point are not identical\n",
    "        if other_point != point\n",
    "            push!(all_dist, sqrt((point[1]-other_point[1])^2+(point[2]-other_point[2])^2+(point[3]-other_point[3])^2))\n",
    "        end\n",
    "    end\n",
    "    append!(mean_dist, all_dist)\n",
    "    \n",
    "end\n",
    "mean(mean_dist)\n",
    "        \n",
    "    "
   ]
  },
  {
   "cell_type": "markdown",
   "id": "8046321d-ef35-45bc-b148-91c4f06c4a9d",
   "metadata": {},
   "source": [
    "Note: This algorithm is a classical example of a quadratic runtime (`N^2`). That means when you increase the length `N` of the input array, for example by a factor of 3, the code runs 9 times `3² = 9` longer as the inner and the outer loop are both depending on `N`.\n",
    "\n",
    "It should also be noted that in this simple implementation, the distances are counted two times. Once in positive and once in negative direction (e.g. from 1 to 2 and from 2 to 1). But it does not matter for the mean if all distances are present twice.  \n",
    "This could be improved in a more complicated implementation, which takes this double counting into account and increases the runtime by a factor of 2. If you are curious, you can try to write such an improved version.  "
   ]
  },
  {
   "cell_type": "code",
   "execution_count": null,
   "id": "f6dab504-920d-4926-ab3b-cf0d77f47947",
   "metadata": {},
   "outputs": [],
   "source": []
  }
 ],
 "metadata": {
  "kernelspec": {
   "display_name": "Julia 1.9.2",
   "language": "julia",
   "name": "julia-1.9"
  },
  "language_info": {
   "file_extension": ".jl",
   "mimetype": "application/julia",
   "name": "julia",
   "version": "1.9.2"
  }
 },
 "nbformat": 4,
 "nbformat_minor": 5
}
