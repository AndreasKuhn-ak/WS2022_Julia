{
 "cells": [
  {
   "cell_type": "markdown",
   "id": "88ad6355-a8be-4f0c-8fb1-089ddc05f836",
   "metadata": {},
   "source": [
    "## 3. Conditional Iterators\n",
    "\n",
    "###  Sample Solutions "
   ]
  },
  {
   "cell_type": "markdown",
   "id": "84a7a724-fd29-4157-af5b-eedd40c9a55b",
   "metadata": {},
   "source": [
    "Execute the following cell, to create the variables `a` - `array_7. `"
   ]
  },
  {
   "cell_type": "code",
   "execution_count": 11,
   "id": "d13afe08-b60c-4d14-8e83-e9977b4352a5",
   "metadata": {},
   "outputs": [],
   "source": [
    "a=5 \n",
    "b=6 \n",
    "c=73.0\n",
    "d=7/18\n",
    "e=6.243\n",
    "f=7\n",
    "g=0.35\n",
    "h=0.39\n",
    "array_7=[[1,3,2],[8,8,12],[6,7,4],[13,11,9],[3,5,6],[4,5,6],[3,2,3],[11,3,8]];"
   ]
  },
  {
   "cell_type": "markdown",
   "id": "031a9b93-e51c-4aa1-8296-d65918ec0425",
   "metadata": {},
   "source": [
    "### <p style='color: green'>easy</p>"
   ]
  },
  {
   "cell_type": "markdown",
   "id": "3d50ecea-eafb-4c67-853d-3ec286e767bb",
   "metadata": {},
   "source": [
    "#### Exercise 1 \n",
    "Test if `a` is `5`, `b` is `6` and `c` is `72` and print `\"This is the case\"` if it applies and `\"This is not the case\"` if it doesn't apply.\n",
    "#### Solution 1 "
   ]
  },
  {
   "cell_type": "code",
   "execution_count": null,
   "id": "7968519b-af75-4336-b46a-45e210ec5b52",
   "metadata": {},
   "outputs": [
    {
     "name": "stdout",
     "output_type": "stream",
     "text": [
      "This is not the case\n"
     ]
    }
   ],
   "source": [
    "if a == 5 && b == 6 && c == 72\n",
    "    println(\"This is the case\")\n",
    "else\n",
    "    println(\"This is not the case\")\n",
    "end"
   ]
  },
  {
   "cell_type": "markdown",
   "id": "6db6c781-2b3c-4c7d-80bc-3f1d942aaa25",
   "metadata": {},
   "source": [
    "#### Exercise 2\n",
    "Test if `b` is between `a` and `e` and  if `d` is between `g` and `h`. If it applies print `\"This is the case\"` if not print `\"This is not the case\"`.\n",
    "#### Solution 2 "
   ]
  },
  {
   "cell_type": "code",
   "execution_count": null,
   "id": "e9f1e730",
   "metadata": {},
   "outputs": [
    {
     "name": "stdout",
     "output_type": "stream",
     "text": [
      "This is the case\n"
     ]
    }
   ],
   "source": [
    "if (a < b < e || e < b < a) && ( g< d < h || h < d < g)\n",
    "    println(\"This is the case\")\n",
    "else\n",
    "    println(\"This is not the cass\")\n",
    "end"
   ]
  },
  {
   "cell_type": "markdown",
   "id": "c9de4020-a9c1-483b-8d4b-233c94104c56",
   "metadata": {},
   "source": [
    "#### Exercise 3\n",
    "Test if `f` has a smaller value than `c` or `e` print the value of `f` together with the string `\" is smaller than c or e\"`. Otherwise print the value of `f` togehter with `\"is bigger than c or e\"`. Do the same for `a` and `g` instead of `f`.\n",
    "#### Solution 3 "
   ]
  },
  {
   "cell_type": "code",
   "execution_count": null,
   "id": "04432032-8d72-4751-9c8a-e7f41e5944dc",
   "metadata": {},
   "outputs": [],
   "source": [
    "for val in [f,a,g]\n",
    "    if val > c || val > e\n",
    "        println(val"
   ]
  }
 ],
 "metadata": {
  "kernelspec": {
   "display_name": "Julia 1.8.5",
   "language": "julia",
   "name": "julia-1.8"
  },
  "language_info": {
   "file_extension": ".jl",
   "mimetype": "application/julia",
   "name": "julia",
   "version": "1.8.5"
  }
 },
 "nbformat": 4,
 "nbformat_minor": 5
}
