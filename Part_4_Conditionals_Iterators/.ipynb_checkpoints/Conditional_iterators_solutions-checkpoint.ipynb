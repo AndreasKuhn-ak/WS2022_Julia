{
 "cells": [
  {
   "cell_type": "markdown",
   "id": "88ad6355-a8be-4f0c-8fb1-089ddc05f836",
   "metadata": {},
   "source": [
    "## 3. Conditional Iterators\n",
    "\n",
    "###  Sample Solutions "
   ]
  },
  {
   "cell_type": "markdown",
   "id": "84a7a724-fd29-4157-af5b-eedd40c9a55b",
   "metadata": {},
   "source": [
    "Execute the following cell, to create the variables `a` - `array_7. `"
   ]
  },
  {
   "cell_type": "code",
   "execution_count": 3,
   "id": "d13afe08-b60c-4d14-8e83-e9977b4352a5",
   "metadata": {},
   "outputs": [],
   "source": [
    "a=5 \n",
    "b=6 \n",
    "c=73.0\n",
    "d=7/18\n",
    "e=6.243\n",
    "f=7\n",
    "g=0.35\n",
    "h=0.39\n",
    "array_7=[[1,3,2],[8,8,12],[6,7,4],[13,11,9],[3,5,6],[4,5,6],[3,2,3],[11,3,8]];"
   ]
  },
  {
   "cell_type": "markdown",
   "id": "031a9b93-e51c-4aa1-8296-d65918ec0425",
   "metadata": {},
   "source": [
    "### <p style='color: green'>easy</p>"
   ]
  },
  {
   "cell_type": "markdown",
   "id": "3d50ecea-eafb-4c67-853d-3ec286e767bb",
   "metadata": {},
   "source": [
    "#### Exercise 1 \n",
    "Test if `a` is `5`, `b` is `6` and `c` is `72` and print `\"This is the case\"` if it applies and `\"This is not the case\"` if it doesn't apply.\n",
    "#### Solution 1 "
   ]
  },
  {
   "cell_type": "code",
   "execution_count": 4,
   "id": "7968519b-af75-4336-b46a-45e210ec5b52",
   "metadata": {},
   "outputs": [
    {
     "name": "stdout",
     "output_type": "stream",
     "text": [
      "This is not the case\n"
     ]
    }
   ],
   "source": [
    "if a == 5 && b == 6 && c == 72\n",
    "    println(\"This is the case\")\n",
    "else\n",
    "    println(\"This is not the case\")\n",
    "end"
   ]
  },
  {
   "cell_type": "markdown",
   "id": "6db6c781-2b3c-4c7d-80bc-3f1d942aaa25",
   "metadata": {},
   "source": [
    "#### Exercise 2\n",
    "Test if `b` is between `a` and `e` and  if `d` is between `g` and `h`. If it applies print `\"This is the case\"` if not print `\"This is not the case\"`.\n",
    "#### Solution 2 "
   ]
  },
  {
   "cell_type": "code",
   "execution_count": 5,
   "id": "e9f1e730",
   "metadata": {},
   "outputs": [
    {
     "name": "stdout",
     "output_type": "stream",
     "text": [
      "This is the case\n"
     ]
    }
   ],
   "source": [
    "if (a < b < e || e < b < a) && ( g< d < h || h < d < g)\n",
    "    println(\"This is the case\")\n",
    "else\n",
    "    println(\"This is not the cass\")\n",
    "end"
   ]
  },
  {
   "cell_type": "markdown",
   "id": "c9de4020-a9c1-483b-8d4b-233c94104c56",
   "metadata": {},
   "source": [
    "#### Exercise 3\n",
    "Test if `f` has a smaller value than `d` or `e`. If so, print the value of `f` together with the string `\" is smaller than d or e\"`. Otherwise print the value of `f` togehter with `\"is bigger than d or e\"`. Do the same for `a` and `g` instead of `f`.\n",
    "#### Solution 3 "
   ]
  },
  {
   "cell_type": "code",
   "execution_count": 11,
   "id": "19e809ad-a161-4b81-bf56-09c68a8cdf46",
   "metadata": {},
   "outputs": [
    {
     "name": "stdout",
     "output_type": "stream",
     "text": [
      "7 is bigger than d or e\n"
     ]
    }
   ],
   "source": [
    "# test f \n",
    "if f < d || f < e\n",
    "    println(f, \" is smaller than d or e\")\n",
    "else\n",
    "    println(f, \" is bigger than d or e\" )\n",
    "end\n"
   ]
  },
  {
   "cell_type": "code",
   "execution_count": 12,
   "id": "04432032-8d72-4751-9c8a-e7f41e5944dc",
   "metadata": {},
   "outputs": [
    {
     "name": "stdout",
     "output_type": "stream",
     "text": [
      "7.0 is bigger than d or e\n",
      "5.0 is smaller than d or e\n",
      "0.35 is smaller than d or e\n"
     ]
    }
   ],
   "source": [
    "# compact version testing f, a and g togehter using a loop, you could also write it down explicitly for f, a and g \n",
    "for val in [f,a,g]\n",
    "    if val < d || val < e\n",
    "        println(val, \" is smaller than d or e\")\n",
    "    else\n",
    "        println(val, \" is bigger than d or e\" )\n",
    "    end\n",
    "end"
   ]
  },
  {
   "cell_type": "markdown",
   "id": "9af1ce48-b823-44ee-b3da-ee5f356de50e",
   "metadata": {},
   "source": [
    "#### Exercise 4\n",
    "Create `j=4` and add `1.5` four times using a for loop.\n",
    "#### Solution 4 "
   ]
  },
  {
   "cell_type": "code",
   "execution_count": 16,
   "id": "61020e5f-d508-4cab-b8fe-21d1a85e3be0",
   "metadata": {},
   "outputs": [
    {
     "data": {
      "text/plain": [
       "10.0"
      ]
     },
     "execution_count": 16,
     "metadata": {},
     "output_type": "execute_result"
    }
   ],
   "source": [
    "j = 4\n",
    "for i in 1:4\n",
    "    j = j+1.5\n",
    "end\n",
    "j"
   ]
  },
  {
   "cell_type": "code",
   "execution_count": 18,
   "id": "ed64ef19-f3d7-41ce-85cd-2044719a8cf9",
   "metadata": {},
   "outputs": [
    {
     "data": {
      "text/plain": [
       "10.0"
      ]
     },
     "execution_count": 18,
     "metadata": {},
     "output_type": "execute_result"
    }
   ],
   "source": [
    "# more compact notation using += operatorj = 4\n",
    "for i in 1:4\n",
    "    j +=1.5\n",
    "end\n",
    "j"
   ]
  },
  {
   "cell_type": "markdown",
   "id": "11f7f019-c8eb-4c5e-97b2-0b88edcf0c13",
   "metadata": {},
   "source": [
    "#### Exercise 5\n",
    "Make `array_6` with numbers ranging from `1` to `10` using array comprehension.\n",
    "#### Solution 5"
   ]
  },
  {
   "cell_type": "code",
   "execution_count": 19,
   "id": "14671a6a-f354-483c-b305-93a1e872dd5f",
   "metadata": {},
   "outputs": [
    {
     "data": {
      "text/plain": [
       "10-element Vector{Int64}:\n",
       "  1\n",
       "  2\n",
       "  3\n",
       "  4\n",
       "  5\n",
       "  6\n",
       "  7\n",
       "  8\n",
       "  9\n",
       " 10"
      ]
     },
     "execution_count": 19,
     "metadata": {},
     "output_type": "execute_result"
    }
   ],
   "source": [
    "array_6 = [x for x in 1:10]"
   ]
  },
  {
   "cell_type": "markdown",
   "id": "a192fc3e-9d6e-4037-b9b3-f5dd720c36e9",
   "metadata": {},
   "source": [
    "#### Exercise 6\n",
    "Only print the odd numbers of the array `array_6` using a `for` loop and the `continue` statement. (Use the remainder operator `%` e.g. for even numbers `'number % 2 == 0'`)\n",
    "#### Solution 6"
   ]
  },
  {
   "cell_type": "code",
   "execution_count": 22,
   "id": "f59b1282-1716-4822-926b-90f8788cf97a",
   "metadata": {},
   "outputs": [
    {
     "name": "stdout",
     "output_type": "stream",
     "text": [
      "1\n",
      "3\n",
      "5\n",
      "7\n",
      "9\n"
     ]
    }
   ],
   "source": [
    "for i in array_6\n",
    "    if i % 2 == 0\n",
    "        continue\n",
    "    end\n",
    "    println(i)\n",
    "end"
   ]
  },
  {
   "cell_type": "markdown",
   "id": "6afb7d21-1d17-4dff-978a-1ef7361ac8ce",
   "metadata": {},
   "source": [
    "### <p style='color: orange'>medium</p>"
   ]
  },
  {
   "cell_type": "markdown",
   "id": "ade68527-5a65-4e58-bdb1-130f9ee0cad6",
   "metadata": {},
   "source": [
    "#### Exercise 7\n",
    "Extract the second items of the arrays inside of `array_7`, but only if the number is larger than `3`, once using a for loop (`array_71`) and once using array comprehension (`array_72`).\n",
    "#### Solution 7"
   ]
  },
  {
   "cell_type": "code",
   "execution_count": 24,
   "id": "4d30d757-52d0-4671-b7c8-10b1848412b6",
   "metadata": {},
   "outputs": [
    {
     "data": {
      "text/plain": [
       "5-element Vector{Int64}:\n",
       "  8\n",
       "  7\n",
       " 11\n",
       "  5\n",
       "  5"
      ]
     },
     "execution_count": 24,
     "metadata": {},
     "output_type": "execute_result"
    }
   ],
   "source": [
    "# for loop\n",
    "array_71 = Int64[]\n",
    "for array in array_7\n",
    "    if array[2] > 3\n",
    "        push!(array_71, array[2])\n",
    "    end\n",
    "end\n",
    "array_71"
   ]
  },
  {
   "cell_type": "code",
   "execution_count": 25,
   "id": "80e55ce4-f2e7-4ecc-90de-7ed8d36db5fd",
   "metadata": {},
   "outputs": [
    {
     "data": {
      "text/plain": [
       "5-element Vector{Int64}:\n",
       "  8\n",
       "  7\n",
       " 11\n",
       "  5\n",
       "  5"
      ]
     },
     "execution_count": 25,
     "metadata": {},
     "output_type": "execute_result"
    }
   ],
   "source": [
    "# array comprehension\n",
    "[x[2] for x in array_7 if x[2] >3]"
   ]
  },
  {
   "cell_type": "markdown",
   "id": "9ee2f99f-a90d-428c-9383-713afd67aa20",
   "metadata": {
    "tags": []
   },
   "source": [
    "#### Exercise 8\n",
    "Create an array (`array_9`) consisting of all numbers between `420` and `1680` that are divisible by `7` and multiple of `3` (again use the remainder operator). Afterwards count the number of even and odd numbers in `array_9` and print the results. \n",
    "#### Solution 8"
   ]
  },
  {
   "cell_type": "code",
   "execution_count": 31,
   "id": "3f6a8747-c3b0-4d9f-99ee-d1d61e62c17e",
   "metadata": {},
   "outputs": [
    {
     "name": "stdout",
     "output_type": "stream",
     "text": [
      "Even numbers: 31  Odd numbers : 30\n"
     ]
    }
   ],
   "source": [
    "array_9 = [x for x in 420:1680 if x % 7 == 0 && x % 3 ==0 ]\n",
    "even_counter = 0\n",
    "odd_counter = 0\n",
    "for i in array_9\n",
    "    if i % 2 == 0\n",
    "        even_counter += 1\n",
    "    else\n",
    "        odd_counter += 1\n",
    "    end\n",
    "end\n",
    "println(\"Even numbers: \", even_counter, \"  Odd numbers : \", odd_counter)"
   ]
  },
  {
   "cell_type": "markdown",
   "id": "56b31b87-195b-451a-ab32-125610baa58d",
   "metadata": {},
   "source": [
    "#### Exercise 9\n",
    "Create an array (`array_10`) containing `50` subarrays, each consisting of `3` random numbers from `0` to `10`. (Use the `rand()` function (http://www.jlhub.com/julia/manual/en/function/rand) and a for loop) \n",
    "#### Solution 9"
   ]
  },
  {
   "cell_type": "code",
   "execution_count": 34,
   "id": "da9a1b44-a497-4dfb-8461-502ba70ed02a",
   "metadata": {},
   "outputs": [],
   "source": [
    "array_10 = []\n",
    "for i in 1:50\n",
    "    push!(array_10, rand(1:10, 3))\n",
    "    \n",
    "end"
   ]
  },
  {
   "cell_type": "code",
   "execution_count": 35,
   "id": "a1dcb265-2214-4163-8b47-28f640aa5d57",
   "metadata": {},
   "outputs": [
    {
     "data": {
      "text/plain": [
       "50-element Vector{Any}:\n",
       " [10, 5, 8]\n",
       " [2, 2, 9]\n",
       " [2, 5, 9]\n",
       " [3, 7, 6]\n",
       " [5, 5, 9]\n",
       " [4, 10, 8]\n",
       " [5, 7, 4]\n",
       " [5, 1, 1]\n",
       " [9, 2, 6]\n",
       " [3, 3, 10]\n",
       " [4, 4, 4]\n",
       " [3, 9, 1]\n",
       " [6, 10, 3]\n",
       " ⋮\n",
       " [6, 2, 3]\n",
       " [7, 2, 7]\n",
       " [4, 5, 4]\n",
       " [1, 4, 2]\n",
       " [7, 5, 1]\n",
       " [9, 9, 8]\n",
       " [7, 4, 3]\n",
       " [8, 4, 6]\n",
       " [2, 5, 5]\n",
       " [2, 8, 1]\n",
       " [2, 9, 6]\n",
       " [1, 8, 3]"
      ]
     },
     "execution_count": 35,
     "metadata": {},
     "output_type": "execute_result"
    }
   ],
   "source": [
    "array_10"
   ]
  },
  {
   "cell_type": "markdown",
   "id": "551c58f3-5f64-49d9-9b83-14eed35ed4a5",
   "metadata": {},
   "source": [
    "#### Exercise 10\n",
    "Create a matrix (`matrix_4`) with 50 rows and 3 collums each containing a random number from 0 to 10 using only the `rand()` function. \n",
    "#### Solution 10"
   ]
  },
  {
   "cell_type": "code",
   "execution_count": 36,
   "id": "a887e63d-9351-4a90-9e94-c8f7566639e3",
   "metadata": {},
   "outputs": [
    {
     "data": {
      "text/plain": [
       "50×3 Matrix{Int64}:\n",
       " 4   9   2\n",
       " 6   6  10\n",
       " 6  10  10\n",
       " 8   4   3\n",
       " 7  10   3\n",
       " 7   7   1\n",
       " 1   2   4\n",
       " 5   4  10\n",
       " 8   3   4\n",
       " 4   4   8\n",
       " 6  10   8\n",
       " 5   7   4\n",
       " 6   3   6\n",
       " ⋮      \n",
       " 4   9   5\n",
       " 5   5   9\n",
       " 3   1   8\n",
       " 8   8   5\n",
       " 4   2   8\n",
       " 5   5   8\n",
       " 2   2   5\n",
       " 9   7   2\n",
       " 3   9   6\n",
       " 2   5   1\n",
       " 1   1   4\n",
       " 9   3   2"
      ]
     },
     "execution_count": 36,
     "metadata": {},
     "output_type": "execute_result"
    }
   ],
   "source": [
    "matrix_4 = rand(1:10, 50,3)"
   ]
  },
  {
   "cell_type": "code",
   "execution_count": null,
   "id": "fe9f6c7c-883e-41b3-b701-78ca0121cf6c",
   "metadata": {},
   "outputs": [],
   "source": []
  },
  {
   "cell_type": "code",
   "execution_count": null,
   "id": "76b33b58-9329-4c70-9edd-0e5ecc1af9dd",
   "metadata": {},
   "outputs": [],
   "source": []
  },
  {
   "cell_type": "code",
   "execution_count": null,
   "id": "0a9e1ed7-2ace-4ddf-bef4-b369a2efd001",
   "metadata": {},
   "outputs": [],
   "source": []
  },
  {
   "cell_type": "code",
   "execution_count": null,
   "id": "f2056fc0-62ea-4b8f-b427-e6a88be3c1a4",
   "metadata": {},
   "outputs": [],
   "source": []
  }
 ],
 "metadata": {
  "kernelspec": {
   "display_name": "Julia 1.8.5",
   "language": "julia",
   "name": "julia-1.8"
  },
  "language_info": {
   "file_extension": ".jl",
   "mimetype": "application/julia",
   "name": "julia",
   "version": "1.8.5"
  }
 },
 "nbformat": 4,
 "nbformat_minor": 5
}
