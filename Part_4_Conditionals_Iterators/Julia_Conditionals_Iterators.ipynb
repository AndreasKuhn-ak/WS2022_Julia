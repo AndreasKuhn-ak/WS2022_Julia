{
 "cells": [
  {
   "cell_type": "markdown",
   "metadata": {},
   "source": [
    "<p style='text-align: center'><a href=https://www.biozentrum.uni-wuerzburg.de/cctb/research/supramolecular-and-cellular-simulations/>Supramolecular and Cellular Simulations</a> (Prof. Fischer)<br>Center for Computational and Theoretical Biology - CCTB<br>Faculty of Biology, University of Würzburg</p>\n",
    "\n",
    "<p style='text-align: center'><br><br>We are looking forward to your comments and suggestions. Please send them to: <br><br></p>\n",
    "    \n",
    " <p style='text-align: center'>   <a href=andreas.kuhn@uni.wuerzburg.de>andreas.kuhn@uni.wuerzburg.de</a> or <a href=sabine.fischer@uni.wuerzburg.de>sabine.fischer@uni.wuerzburg.de</a></p>\n",
    "\n",
    "<h1><p style='text-align: center'> Introduction to Julia </p></h1>\n"
   ]
  },
  {
   "attachments": {},
   "cell_type": "markdown",
   "metadata": {},
   "source": [
    "## Conditional Statements and Iterators \n",
    "\n",
    "The control flow of a program is the execution order of its code and functions. Important building blocks to influence the control flow of almost all programming language are `if` conditions as well as `while` and `for` loops. In this lecture we will cover these concepts together with array comprehensions, `break` and `continue` statements together with boolean expressions."
   ]
  },
  {
   "cell_type": "markdown",
   "metadata": {},
   "source": [
    "### 1. Boolean expressions\n",
    "With the operator `==` it is possible to test wether two or more numbers/variables/arrays/etc. are equal. Similarly with `!=` it is possible to check, wether numbers/variables/.. are not equal. You can also test if a number/variable is smaller/larger than anything else with `<`,`>`, `<=` and `>=`. If you want to check if a certain element is in an array/tuple/set, you can use `in`. These operators can be connected by `&&` and `||` which represent logical `and` and `or`. As a result you will always get a boolean (`true` or `false`) for all of those operators. "
   ]
  },
  {
   "cell_type": "code",
   "execution_count": 7,
   "metadata": {},
   "outputs": [
    {
     "data": {
      "text/plain": [
       "6-element Vector{Int64}:\n",
       " 1\n",
       " 2\n",
       " 3\n",
       " 4\n",
       " 5\n",
       " 6"
      ]
     },
     "metadata": {},
     "output_type": "display_data"
    }
   ],
   "source": [
    "example = [1,2,3,4,5,6]"
   ]
  },
  {
   "cell_type": "code",
   "execution_count": 8,
   "metadata": {},
   "outputs": [
    {
     "data": {
      "text/plain": [
       "true"
      ]
     },
     "metadata": {},
     "output_type": "display_data"
    }
   ],
   "source": [
    "example[1] == 1"
   ]
  },
  {
   "cell_type": "code",
   "execution_count": 9,
   "metadata": {},
   "outputs": [
    {
     "data": {
      "text/plain": [
       "false"
      ]
     },
     "metadata": {},
     "output_type": "display_data"
    }
   ],
   "source": [
    "example[1] == 1 && example[1] > 2"
   ]
  },
  {
   "cell_type": "code",
   "execution_count": 10,
   "metadata": {},
   "outputs": [
    {
     "data": {
      "text/plain": [
       "true"
      ]
     },
     "metadata": {},
     "output_type": "display_data"
    }
   ],
   "source": [
    "example[1] == 1 || example[1] > 2"
   ]
  },
  {
   "cell_type": "code",
   "execution_count": 11,
   "metadata": {},
   "outputs": [
    {
     "data": {
      "text/plain": [
       "true"
      ]
     },
     "metadata": {},
     "output_type": "display_data"
    }
   ],
   "source": [
    "5 in example"
   ]
  },
  {
   "cell_type": "markdown",
   "metadata": {},
   "source": [
    "### 2. `if` statements\n",
    "\n",
    "If some code should only be executed if a certain condition is `true` an `if` statement can be used. "
   ]
  },
  {
   "cell_type": "code",
   "execution_count": 12,
   "metadata": {},
   "outputs": [
    {
     "name": "stdout",
     "output_type": "stream",
     "text": [
      "a is smaller than b\n"
     ]
    }
   ],
   "source": [
    "a = 3\n",
    "b = 5\n",
    "if a < b\n",
    "    println(\"a is smaller than b\")\n",
    "end"
   ]
  },
  {
   "attachments": {},
   "cell_type": "markdown",
   "metadata": {},
   "source": [
    "Oftentimes one `if` statement is not enough to model complex logic, for example if you want to execute different statements for different conditions or execute a statment only if none of many condition is `true`. You can use the compound `if` statment for this purpose. It uses `if`, `elseif` , and `else` clauses to make you able to conditionally execute blocks of statements. The basic syntax with optional elseif and else clauses is:\n",
    "``` julia\n",
    "if boolean expression1\n",
    "    statement1(s)\n",
    "elseif boolean expression2\n",
    "    statement2(s)\n",
    "elseif boolean expression3\n",
    "    statement3(s)\n",
    "else\n",
    "    statement4(s)\n",
    "end\n",
    "   \n",
    "```\n",
    "\n",
    "The `else` clause only gets executed if no other condition of an `if` or `elseif` statement before was evaluated as `true`, similarly `elseif` statements only get tested if no other conditional statement before was evaluated as `true`. You can use as many `elseif`  statements as you want , whereas only one `else` clause is possible. After all the conditions have been checked the `end` statement tells the compiler that the code block is finished.   \n",
    "\n",
    "Comment: You don't have to use indentations in Julia, but we highly recommend you doing so, as it increases readabilty dramatically. "
   ]
  },
  {
   "cell_type": "code",
   "execution_count": 7,
   "metadata": {},
   "outputs": [
    {
     "name": "stdout",
     "output_type": "stream",
     "text": [
      "x does not equal 1 or 2\n"
     ]
    }
   ],
   "source": [
    "x=3\n",
    "if x == 1\n",
    "    println(\"x equals 1\")\n",
    "elseif x == 2\n",
    "    println(\"x equals 2\")\n",
    "else\n",
    "    println(\"x does not equal 1 or 2\")\n",
    "end"
   ]
  },
  {
   "cell_type": "markdown",
   "metadata": {},
   "source": [
    "### 3. `while` loops\n",
    "The while statement in Julia is used for repeated execution of statements controlled by a conditional expression. As long as the expression is `true` the `statement(s)` gets repeatedly executed:  \n",
    "``` julia \n",
    "while boolean expression:\n",
    "    statement(s)\n",
    "end\n",
    "    \n",
    "```\n",
    "If you use an expression that is `true` and cannot be changed from `true` to `false` by the `statement(s)` you get into an infinite loop, wich renders your program stuck in the `while` loop forever."
   ]
  },
  {
   "cell_type": "code",
   "execution_count": 13,
   "metadata": {},
   "outputs": [
    {
     "name": "stdout",
     "output_type": "stream",
     "text": [
      "Yes\n",
      "No\n"
     ]
    }
   ],
   "source": [
    "a = 10\n",
    "while a == 10\n",
    "    println(\"Yes\")\n",
    "    a = a+1\n",
    "end\n",
    "\n",
    "println(\"No\")\n"
   ]
  },
  {
   "cell_type": "markdown",
   "metadata": {},
   "source": [
    "The `+=,-=, *= or /=` operator are a compact notation for firstly applying the operation eg. the `+` in `+=` to the varaible on the left side and then assigning the result to the same variable on the left side. E.g:"
   ]
  },
  {
   "cell_type": "code",
   "execution_count": 15,
   "metadata": {},
   "outputs": [
    {
     "name": "stdout",
     "output_type": "stream",
     "text": [
      "5 5 true\n"
     ]
    }
   ],
   "source": [
    "b1 = 2\n",
    "b2 = 2\n",
    "b1 += 3\n",
    "b2 = b2 +3\n",
    "println(b1,\" \", b2,\" \",b1 == b2 )"
   ]
  },
  {
   "cell_type": "code",
   "execution_count": 16,
   "metadata": {},
   "outputs": [
    {
     "name": "stdout",
     "output_type": "stream",
     "text": [
      "10\n",
      "11\n",
      "12\n",
      "13\n",
      "14\n",
      "15\n",
      "16\n",
      "17\n",
      "18\n",
      "Yes\n"
     ]
    }
   ],
   "source": [
    "a = 10\n",
    "while a < 19\n",
    "    println(a)\n",
    "    a += 1\n",
    "end\n",
    "println(\"Yes\")"
   ]
  },
  {
   "cell_type": "markdown",
   "metadata": {},
   "source": [
    "#### Warning: This cell creates an infinte loop. If executed it could be neccessary to restart the julia kernel or Jupyterlab."
   ]
  },
  {
   "cell_type": "code",
   "execution_count": null,
   "metadata": {},
   "outputs": [],
   "source": [
    "while 3 >2\n",
    "    println(\"hallihallo\")\n",
    "end"
   ]
  },
  {
   "attachments": {},
   "cell_type": "markdown",
   "metadata": {},
   "source": [
    "### 4. `for` loops\n",
    "The `for` loop is similar to the `while` loop, as it is also used for repeated execution of statements. The difference is that the `for` statement is not controlled by a conditional expression, but by an iterable. An iterable is every sorted datastructure like an array or tuple.\n",
    "``` julia\n",
    "for element in iterable\n",
    "    #statments can be dependening on element\n",
    "    statement(element)\n",
    "    # but cannot as well\n",
    "    statement(s)\n",
    "\n",
    "end\n",
    "```\n",
    "    \n",
    "The `in` keyword is part of the syntax of the for statement and is functionally not related to the `in` operator used for membership testing.\n",
    "`element` is an identifier that is bound to the current value of the iterable. The value of element changes in every loop iteration. The statements are executed once for every item in iterable."
   ]
  },
  {
   "cell_type": "code",
   "execution_count": 17,
   "metadata": {},
   "outputs": [
    {
     "name": "stdout",
     "output_type": "stream",
     "text": [
      "word1\n",
      "word2\n",
      "word3\n",
      "word4\n"
     ]
    }
   ],
   "source": [
    "for word in [\"word1\", \"word2\", \"word3\", \"word4\"]\n",
    "    println(word)\n",
    "end"
   ]
  },
  {
   "cell_type": "code",
   "execution_count": 18,
   "metadata": {},
   "outputs": [
    {
     "name": "stdout",
     "output_type": "stream",
     "text": [
      "4\n",
      "5\n"
     ]
    }
   ],
   "source": [
    "for i in (1,2,3,4,5)\n",
    "    if i > 3\n",
    "        println(i)\n",
    "    end\n",
    "end"
   ]
  },
  {
   "attachments": {},
   "cell_type": "markdown",
   "metadata": {},
   "source": [
    "#### 4.1 The `start:step:end` iterator\n",
    "If there is no suitable array/tuple available, a temporary iterable can be created in the head of a for loop using the `start:step:end` notation. \n",
    "`1:10` returns an iterable whose items are consecutive integers from 1 up to 10.  \n",
    "`1:2:10` returns an iterable whose items are consecutive integers from 1 up to 10 with stepsize 2. The `range(start =1,step = 2,stop = 10 )` function is an alias for the slimer `:` notation but has an additional functionality as instead of `stop` there can also be an `length` keyword given: `range(start = 5, step =2, length = 15 )`   \n",
    "\n",
    "The simplest way to loop n times over some code is:\n",
    "```julia\n",
    "for target in 1:n\n",
    "    statement(s)\n",
    "end\n",
    "```\n"
   ]
  },
  {
   "cell_type": "code",
   "execution_count": 29,
   "metadata": {},
   "outputs": [
    {
     "name": "stdout",
     "output_type": "stream",
     "text": [
      "10\n",
      "11\n",
      "12\n",
      "13\n",
      "14\n",
      "15\n",
      "16\n",
      "17\n",
      "18\n",
      "19\n",
      "20\n"
     ]
    }
   ],
   "source": [
    "for i in 10:20\n",
    "    println(i)\n",
    "end"
   ]
  },
  {
   "cell_type": "markdown",
   "metadata": {},
   "source": [
    "Side note: As shown in the previous chapter the `:` notation or the `range()` function can also serve as the input to the `collect()` function to create arrays. "
   ]
  },
  {
   "cell_type": "code",
   "execution_count": 30,
   "metadata": {},
   "outputs": [
    {
     "name": "stdout",
     "output_type": "stream",
     "text": [
      "1:10\n",
      "[1, 2, 3, 4, 5, 6, 7, 8, 9, 10]\n",
      "5.0:-0.2:2.2\n",
      "[5.0, 4.8, 4.6, 4.4, 4.2, 4.0, 3.8, 3.6, 3.4, 3.2, 3.0, 2.8, 2.6, 2.4, 2.2]\n"
     ]
    }
   ],
   "source": [
    "println(1:10)                    # print only iterable\n",
    "println(collect(1:10))           # array from 1 to 10\n",
    "println(range(start = 5, step =-.2, length = 15 ))         # only iterable  \n",
    "println(collect(range(start = 5, step = -0.2, length = 15 )))    # array with length 15 starting from 5 in steps of -0.2"
   ]
  },
  {
   "cell_type": "code",
   "execution_count": 31,
   "metadata": {},
   "outputs": [
    {
     "name": "stdout",
     "output_type": "stream",
     "text": [
      "5\n",
      "4\n",
      "3\n",
      "2\n",
      "1\n"
     ]
    }
   ],
   "source": [
    "for i in 5:-1:1\n",
    "        println(i)\n",
    "end"
   ]
  },
  {
   "cell_type": "markdown",
   "metadata": {},
   "source": [
    "Note: It is also possible to replace the `in` with an `=` in a for loop"
   ]
  },
  {
   "cell_type": "code",
   "execution_count": 32,
   "metadata": {},
   "outputs": [
    {
     "name": "stdout",
     "output_type": "stream",
     "text": [
      "5\n",
      "4\n",
      "3\n",
      "2\n",
      "1\n"
     ]
    }
   ],
   "source": [
    "for i = 5:-1:1\n",
    "        println(i)\n",
    "end"
   ]
  },
  {
   "cell_type": "code",
   "execution_count": 19,
   "metadata": {},
   "outputs": [
    {
     "name": "stdout",
     "output_type": "stream",
     "text": [
      "1\n",
      "2\n",
      "3\n"
     ]
    }
   ],
   "source": [
    "for i = [1,2,3]\n",
    "    println(i)\n",
    "end"
   ]
  },
  {
   "cell_type": "code",
   "execution_count": 33,
   "metadata": {},
   "outputs": [
    {
     "name": "stdout",
     "output_type": "stream",
     "text": [
      "0.0\n",
      "0.14\n",
      "0.28\n",
      "0.42\n",
      "0.56\n",
      "0.7\n",
      "0.84\n",
      "0.98\n",
      "1.12\n"
     ]
    }
   ],
   "source": [
    "for i in range(start = 0, step = 0.14, length = 9)\n",
    "    println(i)\n",
    "end"
   ]
  },
  {
   "attachments": {},
   "cell_type": "markdown",
   "metadata": {},
   "source": [
    "#### 4.2 Scopes of a loop\n",
    "Variables that are created inside a loop do not exist outside of the loop. If you want to change a variable inside a loop and use it afterwards, you need to create it before the loop starts. The concept of only locally defined variables is called scopes and you will encounter it a few more times in different contexts. "
   ]
  },
  {
   "cell_type": "code",
   "execution_count": 24,
   "metadata": {},
   "outputs": [
    {
     "ename": "UndefVarError",
     "evalue": "UndefVarError: inside not defined",
     "output_type": "error",
     "traceback": [
      "UndefVarError: inside not defined\n",
      "\n",
      "Stacktrace:\n",
      " [1] top-level scope\n",
      "   @ c:\\Users\\Andreas\\Dropbox\\phd\\Courses\\WS2022_Julia\\Part_4_Conditionals_Iterators\\Julia_Conditionals_Iterators.ipynb:4"
     ]
    }
   ],
   "source": [
    "for i in 1:4\n",
    "    inside = i\n",
    "end\n",
    "println(inside)"
   ]
  },
  {
   "cell_type": "code",
   "execution_count": 25,
   "metadata": {},
   "outputs": [
    {
     "name": "stdout",
     "output_type": "stream",
     "text": [
      "4\n"
     ]
    }
   ],
   "source": [
    "outside = 0\n",
    "for i in 1:4\n",
    "    outside = i\n",
    "end\n",
    "println(outside)"
   ]
  },
  {
   "attachments": {},
   "cell_type": "markdown",
   "metadata": {},
   "source": [
    "### 5. Array comprehension\n",
    "`for` loops are often used to inspect each item in a sequence or build a new array by pushing the results of an expression computed on inspected items. Array comprehensions are a more concise and direct way of coding this common idiom. An array comprehension builds an array directly from its expression and the corresponding iterable.\n",
    "```julia\n",
    "[expression for target in iterable]\n",
    "```\n",
    "target and iterable are the same as in the `for` loop.\n",
    "It is also possible to make an array comprehension with conditional statements:\n",
    "```julia\n",
    "[expression for target in iterable if conditional expression]\n",
    "```\n",
    "And also to iterate over more than one iterable:\n",
    "```julia\n",
    "[expression for target1 in iterable1 for target2 in iterable2]\n",
    "```\n",
    "Since an array comprehension is an array, rather than a block of statements, you can use it wherever you need an array (e.g., as an argument in a function call, as a variable assignment, ...). \n",
    "\n",
    "Comment: In general array comprehensions are a more compact and some say a more beautiful syntax compared to a for loop. But they don't add a new functionality, so you can but you don't need to use them. "
   ]
  },
  {
   "cell_type": "code",
   "execution_count": 37,
   "metadata": {},
   "outputs": [
    {
     "name": "stdout",
     "output_type": "stream",
     "text": [
      "[4, 6, 8, 10, 12, 14, 16, 18, 20, 22]\n"
     ]
    }
   ],
   "source": [
    "arraycomp1 = [x*2 for x in 2:11]\n",
    "println(arraycomp1)"
   ]
  },
  {
   "cell_type": "code",
   "execution_count": 38,
   "metadata": {},
   "outputs": [
    {
     "name": "stdout",
     "output_type": "stream",
     "text": [
      "1275\n",
      "1275.0\n"
     ]
    }
   ],
   "source": [
    "#Gaussian sum formula\n",
    "N = 50\n",
    "Gsf = N*(N+1)/2\n",
    "Gs = sum([x for x in range(1,N)])\n",
    "println(Gs)\n",
    "println(Gsf)"
   ]
  },
  {
   "cell_type": "code",
   "execution_count": 39,
   "metadata": {},
   "outputs": [
    {
     "name": "stdout",
     "output_type": "stream",
     "text": [
      "[6, 7, 7, 8, 8, 9]\n"
     ]
    }
   ],
   "source": [
    "arraycomp3=[x+y for x in 5:9 for y in 1:2 if x<8 ]\n",
    "println(arraycomp3)"
   ]
  },
  {
   "cell_type": "markdown",
   "metadata": {},
   "source": [
    "### 6. `break`- and `continue` statements\n",
    "The `break` statement is only allowed inside a loop body. When `break` executes, the loop terminates. If a loop is nested inside other loops, break terminates only the innermost nested loop. In practical use, a `break` statement is usually inside some clause of an `if` statement in the loop body so that it executes conditionally."
   ]
  },
  {
   "cell_type": "code",
   "execution_count": 40,
   "metadata": {},
   "outputs": [
    {
     "name": "stdout",
     "output_type": "stream",
     "text": [
      "1\n",
      "2\n",
      "3\n"
     ]
    }
   ],
   "source": [
    "x=0\n",
    "while true\n",
    "    x +=1 \n",
    "    println(x)\n",
    "    if x >= 3\n",
    "        break\n",
    "    end\n",
    "end"
   ]
  },
  {
   "cell_type": "markdown",
   "metadata": {},
   "source": [
    "Like `break` statements, `continue` statements are only allowed inside of a loop body. When `continue` is executed the current iteration of the loop terminates and the loop continues with the next iteration."
   ]
  },
  {
   "cell_type": "code",
   "execution_count": 41,
   "metadata": {},
   "outputs": [
    {
     "name": "stdout",
     "output_type": "stream",
     "text": [
      "1\n",
      "2\n",
      "1\n",
      "2\n"
     ]
    }
   ],
   "source": [
    "for i in [1,3,2,4,1,5,2]\n",
    "    if i>2\n",
    "        continue\n",
    "    end\n",
    "    println(i)\n",
    "end"
   ]
  },
  {
   "cell_type": "markdown",
   "metadata": {},
   "source": [
    "## Exercises "
   ]
  },
  {
   "cell_type": "code",
   "execution_count": 58,
   "metadata": {},
   "outputs": [
    {
     "data": {
      "text/plain": [
       "8-element Vector{Vector{Int64}}:\n",
       " [1, 3, 2]\n",
       " [8, 8, 12]\n",
       " [6, 7, 4]\n",
       " [13, 11, 9]\n",
       " [3, 5, 6]\n",
       " [4, 5, 6]\n",
       " [3, 2, 3]\n",
       " [11, 3, 8]"
      ]
     },
     "execution_count": 58,
     "metadata": {},
     "output_type": "execute_result"
    }
   ],
   "source": [
    "a=5 \n",
    "b=6 \n",
    "c=73\n",
    "d=7/18\n",
    "e=6.243\n",
    "f=7\n",
    "g=0.35\n",
    "h=0.39\n",
    "array_7=[[1,3,2],[8,8,12],[6,7,4],[13,11,9],[3,5,6],[4,5,6],[3,2,3],[11,3,8]]"
   ]
  },
  {
   "cell_type": "markdown",
   "metadata": {},
   "source": [
    "### <p style='color: green'>easy</p>\n",
    "\n",
    "1. Test if `a` is `5`, `b` is `6` and `c` is `72` and print `'This is the case'` if it applies and `'This is not the case'` if it doesn't apply."
   ]
  },
  {
   "cell_type": "markdown",
   "metadata": {},
   "source": [
    "2. Test if `b` is between `a` and `e` and test if `d` is between `g` and `h`. If it applies print `'This is the case'` if not print `'This is not the case'`."
   ]
  },
  {
   "cell_type": "markdown",
   "metadata": {},
   "source": [
    "3. If `f` has a larger value than `c` or `e` print `'f has a larger value than c or e'`. Otherwise print `'f has a smaller or equal value than c and e'`. Do the same for `a instead of f`."
   ]
  },
  {
   "cell_type": "markdown",
   "metadata": {},
   "source": [
    "4. Create `j=4` and add `1.5` four times using a for loop."
   ]
  },
  {
   "cell_type": "markdown",
   "metadata": {},
   "source": [
    "5. Make `array_6` with numbers ranging from `1` to `10` using array comprehension."
   ]
  },
  {
   "cell_type": "markdown",
   "metadata": {},
   "source": [
    "6. Only print the odd numbers of the array `array_6` using a `for` loop and the `continue` statement. (Use the remainder operator `%` e.g. for even numbers `'number % 2 == 0'`)"
   ]
  },
  {
   "cell_type": "markdown",
   "metadata": {},
   "source": [
    "### <p style='color: orange'>medium</p>\n",
    "\n",
    "7. Extract the second items of the lists inside of `array_7` only if the number is larger than `3`, once using a for loop (`array_71`) and once using array comprehension (`array_72`)."
   ]
  },
  {
   "cell_type": "markdown",
   "metadata": {},
   "source": [
    "8. Write a program that makes an array (`array_9`) consisting of all numbers between `420` and `1680` that are divisible by `7` and multiple of `3` (again use the remainder operator). The program should also count the number of even and odd numbers and print the resulting quantity of odd and even numbers."
   ]
  },
  {
   "cell_type": "markdown",
   "metadata": {},
   "source": [
    "9. Create an array (`array_10`) containing `50` subarrays, each consisting of `3` random numbers from `0` to `10`. (Use the `rand()` function (http://www.jlhub.com/julia/manual/en/function/rand) and a for loop)\n",
    "\n",
    "9 .1 Create a matrix (`matrix_4`) with 50 rows and 3 collums each containing a random number from 0 to 10 using only the `rand()` function. \n"
   ]
  },
  {
   "cell_type": "markdown",
   "metadata": {},
   "source": [
    "10. Write a program that counts how many of the numbers in `array_9` end with `1`, `5`, and `9`, respectively, using `elseif`. Print the results."
   ]
  },
  {
   "cell_type": "markdown",
   "metadata": {},
   "source": [
    "### <p style='color: red'>hard</p>\n",
    "\n",
    "11. `array_10` resembles an array of 3D points. Write a program that calculates the mean of the euclidean distance every point in `array_10` has to every OTHER point in `array_10`. (Also use Google for euclidean distance and mean)."
   ]
  },
  {
   "cell_type": "code",
   "execution_count": null,
   "metadata": {},
   "outputs": [],
   "source": []
  }
 ],
 "metadata": {
  "kernelspec": {
   "display_name": "Julia 1.8.5",
   "language": "julia",
   "name": "julia-1.8"
  },
  "language_info": {
   "file_extension": ".jl",
   "mimetype": "application/julia",
   "name": "julia",
   "version": "1.8.5"
  }
 },
 "nbformat": 4,
 "nbformat_minor": 4
}
