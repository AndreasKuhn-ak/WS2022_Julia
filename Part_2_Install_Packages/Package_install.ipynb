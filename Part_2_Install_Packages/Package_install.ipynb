{
 "cells": [
  {
   "cell_type": "markdown",
   "id": "05dde41a-58d1-4fa0-bd97-ba6229c5bff8",
   "metadata": {},
   "source": [
    "<p style='text-align: center'><a href=https://www.biozentrum.uni-wuerzburg.de/cctb/research/supramolecular-and-cellular-simulations/>Supramolecular and Cellular Simulations</a> (Prof. Fischer)<br>Center for Computational and Theoretical Biology - CCTB<br>Faculty of Biology, University of Würzburg</p>\n",
    "\n",
    "<p style='text-align: center'><br><br>We are looking forward to your comments and suggestions. Please send them to: <br><br></p>\n",
    "    \n",
    " <p style='text-align: center'>   <a href=andreas.kuhn@uni.wuerzburg.de>andreas.kuhn@uni.wuerzburg.de</a> or <a href=sabine.fischer@uni.wuerzburg.de>sabine.fischer@uni.wuerzburg.de</a></p>\n",
    "\n",
    "<h1><p style='text-align: center'> Introduction to Julia </p></h1>\n"
   ]
  },
  {
   "cell_type": "markdown",
   "id": "5378d5d7-c949-4f58-9d0e-215780dc6140",
   "metadata": {},
   "source": [
    "# Install Packages\n"
   ]
  },
  {
   "cell_type": "markdown",
   "id": "f1d6c99b-1114-47bd-ba7b-3f3b3e98df5a",
   "metadata": {},
   "source": [
    "### Description\n",
    "\n",
    "Until now, you have learned how to use Jupyter notebooks. Now, we want to set up our Julia installation for this course. In the later parts you will need some additional Julia packages. Therefore, we will show you how to install a package and then install all the neccessary ones for this course. \n",
    "\n"
   ]
  },
  {
   "cell_type": "markdown",
   "id": "51627c77-f0a4-4fc5-8332-45c25ac8a706",
   "metadata": {},
   "source": [
    "To start off, we will need to type `using Pkg`. The `using` keyword brings an already installed package into the scope of the current Julia session/notebook. `Pkg` is the integrated package manager of Julia and by itself a package."
   ]
  },
  {
   "cell_type": "code",
   "execution_count": 3,
   "id": "5456615e-8f97-4d58-a6a7-bc50c1109b78",
   "metadata": {},
   "outputs": [],
   "source": [
    "using Pkg"
   ]
  },
  {
   "cell_type": "markdown",
   "id": "8b27c4f9-9b73-48d4-83b8-26dde17ddbc3",
   "metadata": {},
   "source": [
    "Now, we can install any package we want with the command `Pkg.add(\"Packagename\")`. For example, we can install the package `DataFrames` which provides the dataframe datatype to handle tabular data.\n"
   ]
  },
  {
   "cell_type": "code",
   "execution_count": 5,
   "id": "23494964-6c64-4b11-b2a5-3f5d703776b4",
   "metadata": {},
   "outputs": [
    {
     "name": "stderr",
     "output_type": "stream",
     "text": [
      "\u001b[32m\u001b[1m   Resolving\u001b[22m\u001b[39m package versions...\n",
      "\u001b[32m\u001b[1m   Installed\u001b[22m\u001b[39m RangeArrays ───────── v0.3.2\n",
      "\u001b[32m\u001b[1m   Installed\u001b[22m\u001b[39m ColorVectorSpace ──── v0.9.10\n",
      "\u001b[32m\u001b[1m   Installed\u001b[22m\u001b[39m ConstructionBase ──── v1.4.1\n",
      "\u001b[32m\u001b[1m   Installed\u001b[22m\u001b[39m LogExpFunctions ───── v0.3.23\n",
      "\u001b[32m\u001b[1m   Installed\u001b[22m\u001b[39m MacroTools ────────── v0.5.10\n",
      "\u001b[32m\u001b[1m   Installed\u001b[22m\u001b[39m AbstractTrees ─────── v0.4.4\n",
      "\u001b[32m\u001b[1m   Installed\u001b[22m\u001b[39m ChainRulesCore ────── v1.15.7\n",
      "\u001b[32m\u001b[1m   Installed\u001b[22m\u001b[39m InverseFunctions ──── v0.1.8\n",
      "\u001b[32m\u001b[1m   Installed\u001b[22m\u001b[39m GPUArraysCore ─────── v0.1.4\n",
      "\u001b[32m\u001b[1m   Installed\u001b[22m\u001b[39m Adapt ─────────────── v3.5.0\n",
      "\u001b[32m\u001b[1m   Installed\u001b[22m\u001b[39m XML2_jll ──────────── v2.10.3+0\n",
      "\u001b[32m\u001b[1m   Installed\u001b[22m\u001b[39m Rmath ─────────────── v0.7.1\n",
      "\u001b[32m\u001b[1m   Installed\u001b[22m\u001b[39m SimpleTraits ──────── v0.9.4\n",
      "\u001b[32m\u001b[1m   Installed\u001b[22m\u001b[39m DocStringExtensions ─ v0.9.3\n",
      "\u001b[32m\u001b[1m   Installed\u001b[22m\u001b[39m ImageBase ─────────── v0.1.5\n",
      "\u001b[32m\u001b[1m   Installed\u001b[22m\u001b[39m IntervalSets ──────── v0.7.4\n",
      "\u001b[32m\u001b[1m   Installed\u001b[22m\u001b[39m FFMPEG_jll ────────── v4.4.2+2\n",
      "\u001b[32m\u001b[1m   Installed\u001b[22m\u001b[39m OpenSSL_jll ───────── v1.1.20+0\n",
      "\u001b[32m\u001b[1m   Installed\u001b[22m\u001b[39m MakieCore ─────────── v0.6.1\n",
      "\u001b[32m\u001b[1m   Installed\u001b[22m\u001b[39m Tables ────────────── v1.10.0\n",
      "\u001b[32m\u001b[1m   Installed\u001b[22m\u001b[39m GeometryBasics ────── v0.4.5\n",
      "\u001b[32m\u001b[1m   Installed\u001b[22m\u001b[39m DataAPI ───────────── v1.14.0\n",
      "\u001b[32m\u001b[1m   Installed\u001b[22m\u001b[39m CairoMakie ────────── v0.10.1\n",
      "\u001b[32m\u001b[1m   Installed\u001b[22m\u001b[39m Libiconv_jll ──────── v1.16.1+2\n",
      "\u001b[32m\u001b[1m   Installed\u001b[22m\u001b[39m Glib_jll ──────────── v2.74.0+2\n",
      "\u001b[32m\u001b[1m   Installed\u001b[22m\u001b[39m Libglvnd_jll ──────── v1.6.0+0\n",
      "\u001b[32m\u001b[1m   Installed\u001b[22m\u001b[39m StructArrays ──────── v0.6.14\n",
      "\u001b[32m\u001b[1m   Installed\u001b[22m\u001b[39m QuadGK ────────────── v2.8.1\n",
      "\u001b[32m\u001b[1m   Installed\u001b[22m\u001b[39m FillArrays ────────── v0.13.7\n",
      "\u001b[32m\u001b[1m   Installed\u001b[22m\u001b[39m ImageAxes ─────────── v0.6.10\n",
      "\u001b[32m\u001b[1m   Installed\u001b[22m\u001b[39m Interpolations ────── v0.14.7\n",
      "\u001b[32m\u001b[1m   Installed\u001b[22m\u001b[39m Chain ─────────────── v0.5.0\n",
      "\u001b[32m\u001b[1m   Installed\u001b[22m\u001b[39m Observables ───────── v0.5.4\n",
      "\u001b[32m\u001b[1m   Installed\u001b[22m\u001b[39m SortingAlgorithms ─── v1.1.0\n",
      "\u001b[32m\u001b[1m   Installed\u001b[22m\u001b[39m ChangesOfVariables ── v0.1.6\n",
      "\u001b[32m\u001b[1m   Installed\u001b[22m\u001b[39m StringManipulation ── v0.3.0\n",
      "\u001b[32m\u001b[1m   Installed\u001b[22m\u001b[39m GeoInterface ──────── v1.2.1\n",
      "\u001b[32m\u001b[1m   Installed\u001b[22m\u001b[39m Distributions ─────── v0.25.81\n",
      "\u001b[32m\u001b[1m   Installed\u001b[22m\u001b[39m Makie ─────────────── v0.19.1\n",
      "\u001b[32m\u001b[1m  No Changes\u001b[22m\u001b[39m to `C:\\Users\\saf75nu\\Documents\\Lehre\\JuliaKurs\\WS2022_Julia\\Project.toml`\n",
      "\u001b[32m\u001b[1m    Updating\u001b[22m\u001b[39m `C:\\Users\\saf75nu\\Documents\\Lehre\\JuliaKurs\\WS2022_Julia\\Manifest.toml`\n",
      " \u001b[90m [9e997f8a] \u001b[39m\u001b[93m↑ ChangesOfVariables v0.1.5 ⇒ v0.1.6\u001b[39m\n",
      " \u001b[90m [34da2185] \u001b[39m\u001b[93m↑ Compat v4.5.0 ⇒ v4.6.0\u001b[39m\n",
      " \u001b[90m [8f4d0f93] \u001b[39m\u001b[93m↑ Conda v1.7.0 ⇒ v1.8.0\u001b[39m\n",
      " \u001b[90m [31c24e10] \u001b[39m\u001b[93m↑ Distributions v0.25.80 ⇒ v0.25.81\u001b[39m\n",
      " \u001b[90m [46192b85] \u001b[39m\u001b[93m↑ GPUArraysCore v0.1.3 ⇒ v0.1.4\u001b[39m\n",
      " \u001b[90m [92d709cd] \u001b[39m\u001b[93m↑ IrrationalConstants v0.1.1 ⇒ v0.2.0\u001b[39m\n",
      " \u001b[90m [b835a17e] \u001b[39m\u001b[93m↑ JpegTurbo v0.1.1 ⇒ v0.1.2\u001b[39m\n",
      " \u001b[90m [2ab3a3ac] \u001b[39m\u001b[93m↑ LogExpFunctions v0.3.20 ⇒ v0.3.23\u001b[39m\n",
      " \u001b[90m [77ba4419] \u001b[39m\u001b[93m↑ NaNMath v1.0.1 ⇒ v1.0.2\u001b[39m\n",
      " \u001b[90m [6fe1bfb0] \u001b[39m\u001b[93m↑ OffsetArrays v1.12.8 ⇒ v1.12.9\u001b[39m\n",
      " \u001b[90m [69de0a69] \u001b[39m\u001b[93m↑ Parsers v2.5.3 ⇒ v2.5.7\u001b[39m\n",
      " \u001b[90m [995b91a9] \u001b[39m\u001b[93m↑ PlotUtils v1.3.3 ⇒ v1.3.4\u001b[39m\n",
      " \u001b[90m [1fd47b50] \u001b[39m\u001b[93m↑ QuadGK v2.7.0 ⇒ v2.8.1\u001b[39m\n",
      " \u001b[90m [79098fc4] \u001b[39m\u001b[93m↑ Rmath v0.7.0 ⇒ v0.7.1\u001b[39m\n",
      " \u001b[90m [91c51154] \u001b[39m\u001b[93m↑ SentinelArrays v1.3.17 ⇒ v1.3.18\u001b[39m\n",
      " \u001b[90m [276daf66] \u001b[39m\u001b[93m↑ SpecialFunctions v2.1.7 ⇒ v2.2.0\u001b[39m\n",
      " \u001b[90m [90137ffa] \u001b[39m\u001b[93m↑ StaticArrays v1.5.12 ⇒ v1.5.16\u001b[39m\n",
      " \u001b[90m [4c63d2b9] \u001b[39m\u001b[93m↑ StatsFuns v1.1.1 ⇒ v1.2.0\u001b[39m\n",
      " \u001b[90m [aacddb02] \u001b[39m\u001b[93m↑ JpegTurbo_jll v2.1.2+0 ⇒ v2.1.91+0\u001b[39m\n",
      " \u001b[90m [458c3c95] \u001b[39m\u001b[93m↑ OpenSSL_jll v1.1.19+0 ⇒ v1.1.20+0\u001b[39m\n",
      " \u001b[90m [f50d1b31] \u001b[39m\u001b[93m↑ Rmath_jll v0.3.0+0 ⇒ v0.4.0+0\u001b[39m\n",
      " \u001b[90m [0dad84c5] \u001b[39m\u001b[93m~ ArgTools v1.1.1 ⇒ \u001b[39m\n",
      " \u001b[90m [f43a241f] \u001b[39m\u001b[93m~ Downloads v1.6.0 ⇒ \u001b[39m\n",
      " \u001b[90m [b27032c2] \u001b[39m\u001b[93m~ LibCURL v0.6.3 ⇒ \u001b[39m\n",
      " \u001b[90m [ca575930] \u001b[39m\u001b[93m~ NetworkOptions v1.2.0 ⇒ \u001b[39m\n",
      " \u001b[90m [44cfe95a] \u001b[39m\u001b[93m~ Pkg v1.8.0 ⇒ \u001b[39m\n",
      " \u001b[90m [ea8e919c] \u001b[39m\u001b[93m~ SHA v0.7.0 ⇒ \u001b[39m\n",
      " \u001b[90m [fa267f1f] \u001b[39m\u001b[93m~ TOML v1.0.0 ⇒ \u001b[39m\n",
      " \u001b[90m [a4e569a6] \u001b[39m\u001b[93m~ Tar v1.10.1 ⇒ \u001b[39m\n",
      " \u001b[90m [e66e0078] \u001b[39m\u001b[93m~ CompilerSupportLibraries_jll v1.0.1+0 ⇒ \u001b[39m\n",
      " \u001b[90m [deac9b47] \u001b[39m\u001b[93m~ LibCURL_jll v7.84.0+0 ⇒ \u001b[39m\n",
      " \u001b[90m [29816b5a] \u001b[39m\u001b[93m~ LibSSH2_jll v1.10.2+0 ⇒ \u001b[39m\n",
      " \u001b[90m [c8ffd9c3] \u001b[39m\u001b[93m~ MbedTLS_jll v2.28.0+0 ⇒ \u001b[39m\n",
      " \u001b[90m [14a3606d] \u001b[39m\u001b[93m~ MozillaCACerts_jll v2022.2.1 ⇒ \u001b[39m\n",
      " \u001b[90m [4536629a] \u001b[39m\u001b[93m~ OpenBLAS_jll v0.3.20+0 ⇒ \u001b[39m\n",
      " \u001b[90m [05823500] \u001b[39m\u001b[93m~ OpenLibm_jll v0.8.1+0 ⇒ \u001b[39m\n",
      " \u001b[90m [efcefdf7] \u001b[39m\u001b[93m~ PCRE2_jll v10.40.0+0 ⇒ \u001b[39m\n",
      " \u001b[90m [83775a58] \u001b[39m\u001b[93m~ Zlib_jll v1.2.12+3 ⇒ \u001b[39m\n",
      " \u001b[90m [8e850b90] \u001b[39m\u001b[93m~ libblastrampoline_jll v5.1.1+0 ⇒ \u001b[39m\n",
      " \u001b[90m [8e850ede] \u001b[39m\u001b[93m~ nghttp2_jll v1.48.0+0 ⇒ \u001b[39m\n",
      " \u001b[90m [3f19e933] \u001b[39m\u001b[93m~ p7zip_jll v17.4.0+0 ⇒ \u001b[39m\n",
      "\u001b[32m\u001b[1mPrecompiling\u001b[22m\u001b[39m project...\n",
      "\u001b[32m  ✓ \u001b[39m\u001b[90mRangeArrays\u001b[39m\n",
      "\u001b[32m  ✓ \u001b[39mChain\n",
      "\u001b[32m  ✓ \u001b[39m\u001b[90mWorkerUtilities\u001b[39m\n",
      "\u001b[32m  ✓ \u001b[39m\u001b[90mContour\u001b[39m\n",
      "\u001b[32m  ✓ \u001b[39m\u001b[90mTriplotBase\u001b[39m\n",
      "\u001b[32m  ✓ \u001b[39m\u001b[90mSentinelArrays\u001b[39m\n",
      "\u001b[32m  ✓ \u001b[39m\u001b[90mInverseFunctions\u001b[39m\n",
      "\u001b[32m  ✓ \u001b[39m\u001b[90mFillArrays\u001b[39m\n",
      "\u001b[32m  ✓ \u001b[39m\u001b[90mCompat\u001b[39m\n",
      "\u001b[32m  ✓ \u001b[39m\u001b[90mDocStringExtensions\u001b[39m\n",
      "\u001b[32m  ✓ \u001b[39m\u001b[90mModernGL\u001b[39m\n",
      "\u001b[32m  ✓ \u001b[39m\u001b[90mObservables\u001b[39m\n",
      "\u001b[32m  ✓ \u001b[39m\u001b[90mStringManipulation\u001b[39m\n",
      "\u001b[32m  ✓ \u001b[39m\u001b[90mMacroTools\u001b[39m\n",
      "\u001b[32m  ✓ \u001b[39m\u001b[90mAbstractTrees\u001b[39m\n",
      "\u001b[32m  ✓ \u001b[39m\u001b[90mIntervalSets\u001b[39m\n",
      "\u001b[32m  ✓ \u001b[39m\u001b[90mPCRE2_jll\u001b[39m\n",
      "\u001b[32m  ✓ \u001b[39m\u001b[90mIrrationalConstants\u001b[39m\n",
      "\u001b[32m  ✓ \u001b[39m\u001b[90mInvertedIndices\u001b[39m\n",
      "\u001b[32m  ✓ \u001b[39m\u001b[90mNaNMath\u001b[39m\n",
      "\u001b[32m  ✓ \u001b[39m\u001b[90mAdapt\u001b[39m\n",
      "\u001b[32m  ✓ \u001b[39m\u001b[90mTranscodingStreams\u001b[39m\n",
      "\u001b[32m  ✓ \u001b[39m\u001b[90mDataAPI\u001b[39m\n",
      "\u001b[32m  ✓ \u001b[39m\u001b[90mStaticArraysCore\u001b[39m\n",
      "\u001b[32m  ✓ \u001b[39m\u001b[90mConstructionBase\u001b[39m\n",
      "\u001b[32m  ✓ \u001b[39m\u001b[90mTupleTools\u001b[39m\n",
      "\u001b[32m  ✓ \u001b[39m\u001b[90mSnoopPrecompile\u001b[39m\n",
      "\u001b[32m  ✓ \u001b[39m\u001b[90mGeoInterface\u001b[39m\n",
      "\u001b[32m  ✓ \u001b[39m\u001b[90mRelocatableFolders\u001b[39m\n",
      "\u001b[33m  ✓ \u001b[39m\u001b[90mMbedTLS\u001b[39m\n",
      "\u001b[32m  ✓ \u001b[39m\u001b[90mOpenSSL_jll\u001b[39m\n",
      "\u001b[32m  ✓ \u001b[39m\u001b[90mQhull_jll\u001b[39m\n",
      "\u001b[32m  ✓ \u001b[39m\u001b[90mRmath_jll\u001b[39m\n",
      "\u001b[32m  ✓ \u001b[39m\u001b[90mFileIO\u001b[39m\n",
      "\u001b[32m  ✓ \u001b[39m\u001b[90mMKL_jll\u001b[39m\n",
      "\u001b[32m  ✓ \u001b[39m\u001b[90mEarCut_jll\u001b[39m\n",
      "\u001b[32m  ✓ \u001b[39m\u001b[90mJpegTurbo_jll\u001b[39m\n",
      "\u001b[32m  ✓ \u001b[39m\u001b[90mDensityInterface\u001b[39m\n",
      "\u001b[32m  ✓ \u001b[39m\u001b[90mLibiconv_jll\u001b[39m\n",
      "\u001b[33m  ✓ \u001b[39m\u001b[90mZMQ\u001b[39m\n",
      "\u001b[32m  ✓ \u001b[39m\u001b[90mFilePathsBase\u001b[39m\n",
      "\u001b[32m  ✓ \u001b[39m\u001b[90mMakieCore\u001b[39m\n",
      "\u001b[32m  ✓ \u001b[39m\u001b[90mChainRulesCore\u001b[39m\n",
      "\u001b[32m  ✓ \u001b[39m\u001b[90mColors\u001b[39m\n",
      "\u001b[32m  ✓ \u001b[39m\u001b[90mGPUArraysCore\u001b[39m\n",
      "\u001b[32m  ✓ \u001b[39m\u001b[90mAxisArrays\u001b[39m\n",
      "\u001b[32m  ✓ \u001b[39m\u001b[90mCodecZlib\u001b[39m\n",
      "\u001b[32m  ✓ \u001b[39m\u001b[90mDataStructures\u001b[39m\n",
      "\u001b[32m  ✓ \u001b[39m\u001b[90mOffsetArrays\u001b[39m\n",
      "\u001b[32m  ✓ \u001b[39m\u001b[90mSimpleTraits\u001b[39m\n",
      "\u001b[32m  ✓ \u001b[39m\u001b[90mPooledArrays\u001b[39m\n",
      "\u001b[32m  ✓ \u001b[39m\u001b[90mMissings\u001b[39m\n",
      "\u001b[32m  ✓ \u001b[39m\u001b[90mTables\u001b[39m\n",
      "\u001b[32m  ✓ \u001b[39m\u001b[90mQhullMiniWrapper_jll\u001b[39m\n",
      "\u001b[32m  ✓ \u001b[39m\u001b[90mSetfield\u001b[39m\n",
      "\u001b[32m  ✓ \u001b[39m\u001b[90mRmath\u001b[39m\n",
      "\u001b[32m  ✓ \u001b[39m\u001b[90mQOI\u001b[39m\n",
      "\u001b[32m  ✓ \u001b[39m\u001b[90mlibsixel_jll\u001b[39m\n",
      "\u001b[32m  ✓ \u001b[39m\u001b[90mXML2_jll\u001b[39m\n",
      "\u001b[32m  ✓ \u001b[39m\u001b[90mAbstractFFTs\u001b[39m\n",
      "\u001b[32m  ✓ \u001b[39m\u001b[90mChangesOfVariables\u001b[39m\n",
      "\u001b[32m  ✓ \u001b[39m\u001b[90mGraphics\u001b[39m\n",
      "\u001b[32m  ✓ \u001b[39m\u001b[90mAnimations\u001b[39m\n",
      "\u001b[32m  ✓ \u001b[39m\u001b[90mSortingAlgorithms\u001b[39m\n",
      "\u001b[32m  ✓ \u001b[39m\u001b[90mStaticArrays\u001b[39m\n",
      "\u001b[32m  ✓ \u001b[39m\u001b[90mOpenEXR\u001b[39m\n",
      "\u001b[32m  ✓ \u001b[39m\u001b[90mQuadGK\u001b[39m\n",
      "\u001b[32m  ✓ \u001b[39m\u001b[90mStackViews\u001b[39m\n",
      "\u001b[32m  ✓ \u001b[39m\u001b[90mPaddedViews\u001b[39m\n",
      "\u001b[32m  ✓ \u001b[39m\u001b[90mStableHashTraits\u001b[39m\n",
      "\u001b[32m  ✓ \u001b[39m\u001b[90mSIMD\u001b[39m\n",
      "\u001b[32m  ✓ \u001b[39m\u001b[90mMiniQhull\u001b[39m\n",
      "\u001b[32m  ✓ \u001b[39m\u001b[90mStructArrays\u001b[39m\n",
      "\u001b[32m  ✓ \u001b[39m\u001b[90mXSLT_jll\u001b[39m\n",
      "\u001b[32m  ✓ \u001b[39m\u001b[90mGettext_jll\u001b[39m\n",
      "\u001b[32m  ✓ \u001b[39m\u001b[90mLogExpFunctions\u001b[39m\n",
      "\u001b[32m  ✓ \u001b[39m\u001b[90mFFTW\u001b[39m\n",
      "\u001b[32m  ✓ \u001b[39m\u001b[90mInterpolations\u001b[39m\n",
      "\u001b[32m  ✓ \u001b[39m\u001b[90mPrettyTables\u001b[39m\n",
      "\u001b[32m  ✓ \u001b[39m\u001b[90mMosaicViews\u001b[39m\n",
      " Interrupted: Exiting precompilation...\n"
     ]
    }
   ],
   "source": [
    "Pkg.add(\"DataFrames\")"
   ]
  },
  {
   "cell_type": "markdown",
   "id": "3036e5e4-c586-4518-a7b1-3b4791a1b1c3",
   "metadata": {},
   "source": [
    "Note: You might have already used this command in the Julia command line (the so called REPL) to install the `IJulia` package for using Julia in Jupyter notebooks. "
   ]
  },
  {
   "cell_type": "markdown",
   "id": "ff181dc5-4b18-48cd-9407-6c51ef1106d6",
   "metadata": {},
   "source": [
    "After the `DataFrames` package is installed, we can bring it into scope with the keyword `using`. "
   ]
  },
  {
   "cell_type": "code",
   "execution_count": 7,
   "id": "4830e074-3d99-4e1c-a6fa-9df1b47a6ce9",
   "metadata": {},
   "outputs": [],
   "source": [
    "using DataFrames"
   ]
  },
  {
   "cell_type": "markdown",
   "id": "d524589a-0115-4f3f-bebe-dfdb5be08c12",
   "metadata": {},
   "source": [
    "Now, all the functions and datatypes that are included in `Dataframes` are available to us. For example, we can create our first empty dataframe with its `DataFrame()`function."
   ]
  },
  {
   "cell_type": "code",
   "execution_count": 6,
   "id": "f14c33e6-4742-4577-9617-269045bc1805",
   "metadata": {},
   "outputs": [
    {
     "ename": "LoadError",
     "evalue": "UndefVarError: DataFrame not defined",
     "output_type": "error",
     "traceback": [
      "UndefVarError: DataFrame not defined",
      "",
      "Stacktrace:",
      " [1] top-level scope",
      "   @ In[6]:1",
      " [2] eval",
      "   @ .\\boot.jl:373 [inlined]",
      " [3] include_string(mapexpr::typeof(REPL.softscope), mod::Module, code::String, filename::String)",
      "   @ Base .\\loading.jl:1196"
     ]
    }
   ],
   "source": [
    "myfirstdataframe = DataFrame()"
   ]
  },
  {
   "cell_type": "markdown",
   "id": "4493cf8f-18d6-4436-83ab-95efa02a8cc9",
   "metadata": {},
   "source": [
    "The next cell installs all neccessary packages for this course. This can take some minutes, but you will only need to run this cell once."
   ]
  },
  {
   "cell_type": "code",
   "execution_count": 19,
   "id": "6913669d-ce7f-433e-b611-4f1cd711e552",
   "metadata": {},
   "outputs": [
    {
     "name": "stderr",
     "output_type": "stream",
     "text": [
      "\u001b[32m\u001b[1m   Resolving\u001b[22m\u001b[39m package versions...\n",
      "\u001b[32m\u001b[1m  No Changes\u001b[22m\u001b[39m to `C:\\Users\\Andreas\\Dropbox\\phd\\Courses\\WS2022_Julia\\Project.toml`\n",
      "\u001b[32m\u001b[1m  No Changes\u001b[22m\u001b[39m to `C:\\Users\\Andreas\\Dropbox\\phd\\Courses\\WS2022_Julia\\Manifest.toml`\n",
      "\u001b[32m\u001b[1m   Resolving\u001b[22m\u001b[39m package versions...\n",
      "\u001b[32m\u001b[1m  No Changes\u001b[22m\u001b[39m to `C:\\Users\\Andreas\\Dropbox\\phd\\Courses\\WS2022_Julia\\Project.toml`\n",
      "\u001b[32m\u001b[1m  No Changes\u001b[22m\u001b[39m to `C:\\Users\\Andreas\\Dropbox\\phd\\Courses\\WS2022_Julia\\Manifest.toml`\n",
      "\u001b[32m\u001b[1m   Resolving\u001b[22m\u001b[39m package versions...\n",
      "\u001b[32m\u001b[1m  No Changes\u001b[22m\u001b[39m to `C:\\Users\\Andreas\\Dropbox\\phd\\Courses\\WS2022_Julia\\Project.toml`\n",
      "\u001b[32m\u001b[1m  No Changes\u001b[22m\u001b[39m to `C:\\Users\\Andreas\\Dropbox\\phd\\Courses\\WS2022_Julia\\Manifest.toml`\n",
      "\u001b[32m\u001b[1m   Resolving\u001b[22m\u001b[39m package versions...\n",
      "\u001b[32m\u001b[1m  No Changes\u001b[22m\u001b[39m to `C:\\Users\\Andreas\\Dropbox\\phd\\Courses\\WS2022_Julia\\Project.toml`\n",
      "\u001b[32m\u001b[1m  No Changes\u001b[22m\u001b[39m to `C:\\Users\\Andreas\\Dropbox\\phd\\Courses\\WS2022_Julia\\Manifest.toml`\n",
      "\u001b[32m\u001b[1m   Resolving\u001b[22m\u001b[39m package versions...\n",
      "\u001b[32m\u001b[1m  No Changes\u001b[22m\u001b[39m to `C:\\Users\\Andreas\\Dropbox\\phd\\Courses\\WS2022_Julia\\Project.toml`\n",
      "\u001b[32m\u001b[1m  No Changes\u001b[22m\u001b[39m to `C:\\Users\\Andreas\\Dropbox\\phd\\Courses\\WS2022_Julia\\Manifest.toml`\n",
      "\u001b[32m\u001b[1m   Resolving\u001b[22m\u001b[39m package versions...\n",
      "\u001b[32m\u001b[1m  No Changes\u001b[22m\u001b[39m to `C:\\Users\\Andreas\\Dropbox\\phd\\Courses\\WS2022_Julia\\Project.toml`\n",
      "\u001b[32m\u001b[1m  No Changes\u001b[22m\u001b[39m to `C:\\Users\\Andreas\\Dropbox\\phd\\Courses\\WS2022_Julia\\Manifest.toml`\n",
      "\u001b[32m\u001b[1m   Resolving\u001b[22m\u001b[39m package versions...\n",
      "\u001b[32m\u001b[1m  No Changes\u001b[22m\u001b[39m to `C:\\Users\\Andreas\\Dropbox\\phd\\Courses\\WS2022_Julia\\Project.toml`\n",
      "\u001b[32m\u001b[1m  No Changes\u001b[22m\u001b[39m to `C:\\Users\\Andreas\\Dropbox\\phd\\Courses\\WS2022_Julia\\Manifest.toml`\n",
      "\u001b[32m\u001b[1m   Resolving\u001b[22m\u001b[39m package versions...\n",
      "\u001b[32m\u001b[1m  No Changes\u001b[22m\u001b[39m to `C:\\Users\\Andreas\\Dropbox\\phd\\Courses\\WS2022_Julia\\Project.toml`\n",
      "\u001b[32m\u001b[1m  No Changes\u001b[22m\u001b[39m to `C:\\Users\\Andreas\\Dropbox\\phd\\Courses\\WS2022_Julia\\Manifest.toml`\n"
     ]
    }
   ],
   "source": [
    "Pkg.add(\"GLMakie\")\n",
    "Pkg.add(\"CairoMakie\")\n",
    "Pkg.add(\"DataFramesMeta\")\n",
    "Pkg.add(\"CSV\")\n",
    "Pkg.add(\"ColorSchemes\")\n",
    "Pkg.add(\"Random\")\n",
    "Pkg.add(\"JSON\")\n",
    "Pkg.add(\"Chain\")"
   ]
  },
  {
   "cell_type": "markdown",
   "id": "93513bf9-b66e-4ad5-8cf6-790e1e8f80bb",
   "metadata": {},
   "source": [
    "\n",
    "Hint: Almost every package that can be installed by the package manager has its own website where you can find documentation, tutorials and examples. For example see: (https://dataframes.juliadata.org/stable/)"
   ]
  },
  {
   "cell_type": "markdown",
   "id": "7e46243e-be62-4349-b870-c755d16eaef7",
   "metadata": {},
   "source": [
    "## Exercises\n"
   ]
  },
  {
   "cell_type": "markdown",
   "id": "06694247-f7e8-4b77-a945-f85a6cee9700",
   "metadata": {},
   "source": [
    "### <p style='color: green'>easy</p>\n",
    "\n",
    "1. Install one additional package of your choice with Pkg.add(\"\"). \n",
    "\n",
    "Hint: a list of available packages can be found here: https://juliapackages.com/"
   ]
  },
  {
   "cell_type": "markdown",
   "id": "dda29dd0-11c3-44c6-9085-0fd1f32c92a0",
   "metadata": {},
   "source": [
    "2. Uninstall the installed package with Pkg.rm(\"\"). "
   ]
  },
  {
   "cell_type": "code",
   "execution_count": null,
   "id": "a78fbebe-f15f-488f-85c9-3c22f13f609e",
   "metadata": {},
   "outputs": [],
   "source": []
  },
  {
   "cell_type": "code",
   "execution_count": null,
   "id": "7f27c5fd",
   "metadata": {},
   "outputs": [],
   "source": []
  }
 ],
 "metadata": {
  "kernelspec": {
   "display_name": "Julia 1.7.2",
   "language": "julia",
   "name": "julia-1.7"
  },
  "language_info": {
   "file_extension": ".jl",
   "mimetype": "application/julia",
   "name": "julia",
   "version": "1.7.2"
  }
 },
 "nbformat": 4,
 "nbformat_minor": 5
}
