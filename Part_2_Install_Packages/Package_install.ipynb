{
 "cells": [
  {
   "cell_type": "markdown",
   "id": "05dde41a-58d1-4fa0-bd97-ba6229c5bff8",
   "metadata": {},
   "source": [
    "<p style='text-align: center'><a href=https://www.biozentrum.uni-wuerzburg.de/cctb/research/supramolecular-and-cellular-simulations/>Supramolecular and Cellular Simulations</a> (Prof. Fischer)<br>Center for Computational and Theoretical Biology - CCTB<br>Faculty of Biology, University of Würzburg</p>\n",
    "\n",
    "<p style='text-align: center'><br><br>We are looking forward to your comments and suggestions. Please send them to: <br><br></p>\n",
    "    \n",
    " <p style='text-align: center'>   <a href=andreas.kuhn@uni.wuerzburg.de>andreas.kuhn@uni.wuerzburg.de</a> or <a href=sabine.fischer@uni.wuerzburg.de>sabine.fischer@uni.wuerzburg.de</a></p>\n",
    "\n",
    "<h1><p style='text-align: center'> Introduction to Julia </p></h1>\n"
   ]
  },
  {
   "cell_type": "markdown",
   "id": "5378d5d7-c949-4f58-9d0e-215780dc6140",
   "metadata": {},
   "source": [
    "# Install Packages\n"
   ]
  },
  {
   "cell_type": "markdown",
   "id": "f1d6c99b-1114-47bd-ba7b-3f3b3e98df5a",
   "metadata": {},
   "source": [
    "### Description\n",
    "\n",
    "Until now, you have learned how to use Jupyter notebooks. Now, we want to set up our Julia installation for this course. \n",
    "Your Julia does only consists of base\n",
    "\n",
    "In the later parts you will need some additional Julia packages. Therefore, we will show you how to install and use packages. \n",
    "\n"
   ]
  },
  {
   "cell_type": "markdown",
   "id": "51627c77-f0a4-4fc5-8332-45c25ac8a706",
   "metadata": {},
   "source": [
    "To start off, we will need to type `using Pkg`. The `using` keyword brings an already installed package into the scope of the current Julia session/notebook. `Pkg` is the integrated package manager of Julia and by itself a package."
   ]
  },
  {
   "cell_type": "code",
   "execution_count": 1,
   "id": "5456615e-8f97-4d58-a6a7-bc50c1109b78",
   "metadata": {},
   "outputs": [],
   "source": [
    "using Pkg"
   ]
  },
  {
   "cell_type": "markdown",
   "id": "8b27c4f9-9b73-48d4-83b8-26dde17ddbc3",
   "metadata": {},
   "source": [
    "Now, we can install any package we want with the command `Pkg.add(\"Packagename\")`. For example, we can install the package `DataFrames` which provides the dataframe datatype to handle tabular data.\n"
   ]
  },
  {
   "cell_type": "code",
   "execution_count": 2,
   "id": "23494964-6c64-4b11-b2a5-3f5d703776b4",
   "metadata": {},
   "outputs": [
    {
     "name": "stderr",
     "output_type": "stream",
     "text": [
      "\u001b[32m\u001b[1m    Updating\u001b[22m\u001b[39m registry at `C:\\Users\\Andreas\\.julia\\registries\\General.toml`\n"
     ]
    },
    {
     "name": "stderr",
     "output_type": "stream",
     "text": [
      "\u001b[32m\u001b[1m   Resolving\u001b[22m\u001b[39m package versions..."
     ]
    },
    {
     "name": "stderr",
     "output_type": "stream",
     "text": [
      "\n",
      "\u001b[32m\u001b[1m  No Changes\u001b[22m\u001b[39m to `C:\\Users\\Andreas\\Dropbox\\phd\\Courses\\WS2022_Julia\\Project.toml`\n",
      "\u001b[32m\u001b[1m  No Changes\u001b[22m\u001b[39m to `C:\\Users\\Andreas\\Dropbox\\phd\\Courses\\WS2022_Julia\\Manifest.toml`"
     ]
    },
    {
     "name": "stderr",
     "output_type": "stream",
     "text": [
      "\n"
     ]
    }
   ],
   "source": [
    "Pkg.add(\"DataFrames\")"
   ]
  },
  {
   "cell_type": "markdown",
   "id": "3036e5e4-c586-4518-a7b1-3b4791a1b1c3",
   "metadata": {},
   "source": [
    "Note: You might have already used this command in the Julia command line (the so called REPL) to install the `IJulia` package for using Julia in Jupyter notebooks. "
   ]
  },
  {
   "cell_type": "markdown",
   "id": "ff181dc5-4b18-48cd-9407-6c51ef1106d6",
   "metadata": {},
   "source": [
    "After the `DataFrames` package is installed, we can bring it into scope with the keyword `using`. "
   ]
  },
  {
   "cell_type": "code",
   "execution_count": 4,
   "id": "4830e074-3d99-4e1c-a6fa-9df1b47a6ce9",
   "metadata": {},
   "outputs": [],
   "source": [
    "using DataFrames"
   ]
  },
  {
   "cell_type": "markdown",
   "id": "d524589a-0115-4f3f-bebe-dfdb5be08c12",
   "metadata": {},
   "source": [
    "Now, all the functions and datatypes that are included in `Dataframes` are available to us. For example, we can create our first empty dataframe with its `DataFrame()`function."
   ]
  },
  {
   "cell_type": "code",
   "execution_count": 5,
   "id": "f14c33e6-4742-4577-9617-269045bc1805",
   "metadata": {},
   "outputs": [
    {
     "data": {
      "text/html": [
       "<div><div style = \"float: left;\"><span>0×0 DataFrame</span></div><div style = \"clear: both;\"></div></div><div class = \"data-frame\" style = \"overflow-x: scroll;\"><table class = \"data-frame\" style = \"margin-bottom: 6px;\"></table></div>"
      ],
      "text/latex": [
       "\\begin{tabular}{r|}\n",
       "\t& \\\\\n",
       "\t\\hline\n",
       "\t& \\\\\n",
       "\t\\hline\n",
       "\\end{tabular}\n"
      ],
      "text/plain": [
       "\u001b[1m0×0 DataFrame\u001b[0m"
      ]
     },
     "metadata": {},
     "output_type": "display_data"
    }
   ],
   "source": [
    "myfirstdataframe = DataFrame()"
   ]
  },
  {
   "cell_type": "markdown",
   "id": "4493cf8f-18d6-4436-83ab-95efa02a8cc9",
   "metadata": {},
   "source": [
    "The next cell installs all neccessary packages for this course. This can take some minutes, but you will only need to run this cell once."
   ]
  },
  {
   "cell_type": "code",
   "execution_count": 3,
   "id": "6913669d-ce7f-433e-b611-4f1cd711e552",
   "metadata": {},
   "outputs": [
    {
     "name": "stderr",
     "output_type": "stream",
     "text": [
      "\u001b[32m\u001b[1m   Resolving\u001b[22m\u001b[39m "
     ]
    },
    {
     "name": "stderr",
     "output_type": "stream",
     "text": [
      "package versions...\n",
      "\u001b[32m\u001b[1m  No Changes\u001b[22m\u001b[39m to `C:\\Users\\Andreas\\Dropbox\\phd\\Courses\\WS2022_Julia\\Project.toml`\n",
      "\u001b[32m\u001b[1m  No Changes\u001b[22m\u001b[39m to `C:\\Users\\Andreas\\Dropbox\\phd\\Courses\\WS2022_Julia\\Manifest.toml`\n"
     ]
    },
    {
     "name": "stderr",
     "output_type": "stream",
     "text": [
      "\u001b[32m\u001b[1m   Resolving\u001b[22m\u001b[39m package versions..."
     ]
    },
    {
     "name": "stderr",
     "output_type": "stream",
     "text": [
      "\n",
      "\u001b[32m\u001b[1m  No Changes\u001b[22m\u001b[39m to `C:\\Users\\Andreas\\Dropbox\\phd\\Courses\\WS2022_Julia\\Project.toml`\n",
      "\u001b[32m\u001b[1m  No Changes\u001b[22m\u001b[39m to `C:\\Users\\Andreas\\Dropbox\\phd\\Courses\\WS2022_Julia\\Manifest.toml`\n"
     ]
    },
    {
     "name": "stderr",
     "output_type": "stream",
     "text": [
      "\u001b[32m\u001b[1m   Resolving\u001b[22m\u001b[39m package versions..."
     ]
    },
    {
     "name": "stderr",
     "output_type": "stream",
     "text": [
      "\n",
      "\u001b[32m\u001b[1m  No Changes\u001b[22m\u001b[39m to `C:\\Users\\Andreas\\Dropbox\\phd\\Courses\\WS2022_Julia\\Project.toml`\n",
      "\u001b[32m\u001b[1m  No Changes\u001b[22m\u001b[39m to `C:\\Users\\Andreas\\Dropbox\\phd\\Courses\\WS2022_Julia\\Manifest.toml`\n"
     ]
    },
    {
     "name": "stderr",
     "output_type": "stream",
     "text": [
      "\u001b[32m\u001b[1m   Resolving\u001b[22m\u001b[39m "
     ]
    },
    {
     "name": "stderr",
     "output_type": "stream",
     "text": [
      "package versions...\n",
      "\u001b[32m\u001b[1m  No Changes\u001b[22m\u001b[39m to `C:\\Users\\Andreas\\Dropbox\\phd\\Courses\\WS2022_Julia\\Project.toml`\n",
      "\u001b[32m\u001b[1m  No Changes\u001b[22m\u001b[39m to `C:\\Users\\Andreas\\Dropbox\\phd\\Courses\\WS2022_Julia\\Manifest.toml`\n"
     ]
    },
    {
     "name": "stderr",
     "output_type": "stream",
     "text": [
      "\u001b[32m\u001b[1m   Resolving\u001b[22m\u001b[39m package versions...\n"
     ]
    },
    {
     "name": "stderr",
     "output_type": "stream",
     "text": [
      "\u001b[32m\u001b[1m  No Changes\u001b[22m\u001b[39m to `C:\\Users\\Andreas\\Dropbox\\phd\\Courses\\WS2022_Julia\\Project.toml`\n",
      "\u001b[32m\u001b[1m  No Changes\u001b[22m\u001b[39m to `C:\\Users\\Andreas\\Dropbox\\phd\\Courses\\WS2022_Julia\\Manifest.toml`\n"
     ]
    },
    {
     "name": "stderr",
     "output_type": "stream",
     "text": [
      "\u001b[32m\u001b[1m   Resolving\u001b[22m\u001b[39m package versions...\n"
     ]
    },
    {
     "name": "stderr",
     "output_type": "stream",
     "text": [
      "\u001b[32m\u001b[1m  No Changes\u001b[22m\u001b[39m to `C:\\Users\\Andreas\\Dropbox\\phd\\Courses\\WS2022_Julia\\Project.toml`\n",
      "\u001b[32m\u001b[1m  No Changes\u001b[22m\u001b[39m to `C:\\Users\\Andreas\\Dropbox\\phd\\Courses\\WS2022_Julia\\Manifest.toml`"
     ]
    },
    {
     "name": "stderr",
     "output_type": "stream",
     "text": [
      "\n"
     ]
    },
    {
     "name": "stderr",
     "output_type": "stream",
     "text": [
      "\u001b[32m\u001b[1m   Resolving\u001b[22m\u001b[39m package versions..."
     ]
    },
    {
     "name": "stderr",
     "output_type": "stream",
     "text": [
      "\n",
      "\u001b[32m\u001b[1m  No Changes\u001b[22m\u001b[39m to `C:\\Users\\Andreas\\Dropbox\\phd\\Courses\\WS2022_Julia\\Project.toml`\n",
      "\u001b[32m\u001b[1m  No Changes\u001b[22m\u001b[39m to `C:\\Users\\Andreas\\Dropbox\\phd\\Courses\\WS2022_Julia\\Manifest.toml`\n"
     ]
    },
    {
     "name": "stderr",
     "output_type": "stream",
     "text": [
      "\u001b[32m\u001b[1m   Resolving\u001b[22m\u001b[39m package versions..."
     ]
    },
    {
     "name": "stderr",
     "output_type": "stream",
     "text": [
      "\n",
      "\u001b[32m\u001b[1m  No Changes\u001b[22m\u001b[39m to `C:\\Users\\Andreas\\Dropbox\\phd\\Courses\\WS2022_Julia\\Project.toml`\n",
      "\u001b[32m\u001b[1m  No Changes\u001b[22m\u001b[39m to `C:\\Users\\Andreas\\Dropbox\\phd\\Courses\\WS2022_Julia\\Manifest.toml`\n"
     ]
    }
   ],
   "source": [
    "Pkg.add(\"GLMakie\")\n",
    "Pkg.add(\"CairoMakie\")\n",
    "Pkg.add(\"DataFramesMeta\")\n",
    "Pkg.add(\"CSV\")\n",
    "Pkg.add(\"ColorSchemes\")\n",
    "Pkg.add(\"Random\")\n",
    "Pkg.add(\"JSON\")\n",
    "Pkg.add(\"Chain\")"
   ]
  },
  {
   "cell_type": "markdown",
   "id": "93513bf9-b66e-4ad5-8cf6-790e1e8f80bb",
   "metadata": {},
   "source": [
    "\n",
    "Hint: Almost every package that can be installed by the package manager has its own website where you can find documentation, tutorials and examples. For example see: (https://dataframes.juliadata.org/stable/)"
   ]
  },
  {
   "cell_type": "markdown",
   "id": "7e46243e-be62-4349-b870-c755d16eaef7",
   "metadata": {},
   "source": [
    "## Exercises\n",
    "\n",
    "All exercises in this course are divided into three different difficulty categories: <span style=\"color:green\">easy</span>, <span style=\"color:orange\">medium</span> and <span style=\"color:red\">hard</span>. <span style=\"color:green\">Easy</span> exercises should be solvable solely with the contents of the respective notebook. <span style=\"color:orange\">Medium</span> often require the transfer of known concepts to new problems. Therefore, it might be necessary to look up some old notebooks or to use your creativity and curiosity to combine seemingly unrelated stuff. <span style=\"color:red\">Hard</span> exercises take this concept one step further and might require you to use additional resources like the official documentation, google, StackOverflow,... . "
   ]
  },
  {
   "cell_type": "markdown",
   "id": "06694247-f7e8-4b77-a945-f85a6cee9700",
   "metadata": {},
   "source": [
    "### <p style='color: green'>easy</p>\n",
    "\n",
    "1. Install one additional package of your choice with Pkg.add(\"\"). \n",
    "\n",
    "Hint: a list of available packages can be found here: https://juliapackages.com/"
   ]
  },
  {
   "cell_type": "markdown",
   "id": "dda29dd0-11c3-44c6-9085-0fd1f32c92a0",
   "metadata": {},
   "source": [
    "2. Uninstall the installed package with Pkg.rm(\"\"). "
   ]
  },
  {
   "cell_type": "code",
   "execution_count": null,
   "id": "a78fbebe-f15f-488f-85c9-3c22f13f609e",
   "metadata": {},
   "outputs": [],
   "source": []
  },
  {
   "cell_type": "code",
   "execution_count": null,
   "id": "7f27c5fd",
   "metadata": {},
   "outputs": [],
   "source": []
  }
 ],
 "metadata": {
  "kernelspec": {
   "display_name": "Julia 1.9.2",
   "language": "julia",
   "name": "julia-1.9"
  },
  "language_info": {
   "file_extension": ".jl",
   "mimetype": "application/julia",
   "name": "julia",
   "version": "1.9.2"
  }
 },
 "nbformat": 4,
 "nbformat_minor": 5
}
