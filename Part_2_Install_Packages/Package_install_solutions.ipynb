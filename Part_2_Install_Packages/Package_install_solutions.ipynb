{
 "cells": [
  {
   "cell_type": "markdown",
   "id": "88ad6355-a8be-4f0c-8fb1-089ddc05f836",
   "metadata": {},
   "source": [
    "# Install Packages\n",
    "###  Sample Solutions"
   ]
  },
  {
   "cell_type": "markdown",
   "id": "3d50ecea-eafb-4c67-853d-3ec286e767bb",
   "metadata": {},
   "source": [
    "#### Exercise 1 \n",
    " Install one additional package of your choice with Pkg.add(\"\"). \n",
    "\n",
    "Hint: a list of available packages can be found here: https://juliapackages.com/"
   ]
  },
  {
   "cell_type": "markdown",
   "id": "76f625d6-fea9-4358-b65e-1a33165413d6",
   "metadata": {},
   "source": [
    "#### Solution 1 \n",
    "We chose to install the package `DrWatson`, because of its cool name. \n"
   ]
  },
  {
   "cell_type": "code",
   "execution_count": null,
   "id": "3ffba673-3359-494d-9bf8-128789877acd",
   "metadata": {},
   "outputs": [],
   "source": [
    "using Pkg\n",
    "\n",
    "Pkg.add(\"DrWatson\")"
   ]
  },
  {
   "cell_type": "markdown",
   "id": "69739799-4038-44e3-802e-d3ed30d794d9",
   "metadata": {},
   "source": [
    "#### Exercise 2\n",
    "Uninstall the installed package with Pkg.rm(\"\"). "
   ]
  },
  {
   "cell_type": "markdown",
   "id": "66a76e90-aaa6-4cf0-8666-166cbb43f081",
   "metadata": {},
   "source": [
    "#### Solution 1 "
   ]
  },
  {
   "cell_type": "code",
   "execution_count": null,
   "id": "58db03f7-baf2-4a7d-b3d8-393a4906f9ec",
   "metadata": {},
   "outputs": [],
   "source": [
    "Pkg.rm(\"DrWatson\")"
   ]
  },
  {
   "cell_type": "code",
   "execution_count": null,
   "id": "a3b7e36c-ece6-453b-9f92-dea6e2149282",
   "metadata": {},
   "outputs": [],
   "source": []
  }
 ],
 "metadata": {
  "kernelspec": {
   "display_name": "Julia 1.8.5",
   "language": "julia",
   "name": "julia-1.8"
  },
  "language_info": {
   "file_extension": ".jl",
   "mimetype": "application/julia",
   "name": "julia",
   "version": "1.8.5"
  }
 },
 "nbformat": 4,
 "nbformat_minor": 5
}
