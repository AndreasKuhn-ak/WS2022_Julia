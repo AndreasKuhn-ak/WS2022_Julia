{
 "cells": [
  {
   "cell_type": "markdown",
   "id": "88ad6355-a8be-4f0c-8fb1-089ddc05f836",
   "metadata": {},
   "source": [
    "## 2. Install Packages\n",
    "###  Sample Solutions"
   ]
  },
  {
   "cell_type": "markdown",
   "id": "3d50ecea-eafb-4c67-853d-3ec286e767bb",
   "metadata": {},
   "source": [
    "#### Exercise 1 \n",
    " Install one additional package of your choice with Pkg.add(\"\"). \n",
    "\n",
    "Hint: a list of available packages can be found here: https://juliapackages.com/"
   ]
  },
  {
   "cell_type": "markdown",
   "id": "76f625d6-fea9-4358-b65e-1a33165413d6",
   "metadata": {},
   "source": [
    "#### Solution 1 \n",
    "I chose to install the package `DrWatson` because of its cool name. \n"
   ]
  },
  {
   "cell_type": "code",
   "execution_count": 1,
   "id": "3ffba673-3359-494d-9bf8-128789877acd",
   "metadata": {},
   "outputs": [
    {
     "name": "stderr",
     "output_type": "stream",
     "text": [
      "\u001b[32m\u001b[1m    Updating\u001b[22m\u001b[39m registry at `C:\\Users\\Andreas\\.julia\\registries\\General.toml`\n",
      "\u001b[32m\u001b[1m   Resolving\u001b[22m\u001b[39m package versions...\n",
      "\u001b[32m\u001b[1m   Installed\u001b[22m\u001b[39m JLD2 ─ v0.4.30\n",
      "\u001b[32m\u001b[1m    Updating\u001b[22m\u001b[39m `C:\\Users\\Andreas\\Dropbox\\phd\\Courses\\WS2022_Julia\\Project.toml`\n",
      " \u001b[90m [634d3b9d] \u001b[39m\u001b[92m+ DrWatson v2.12.1\u001b[39m\n",
      "\u001b[32m\u001b[1m    Updating\u001b[22m\u001b[39m `C:\\Users\\Andreas\\Dropbox\\phd\\Courses\\WS2022_Julia\\Manifest.toml`\n",
      " \u001b[90m [634d3b9d] \u001b[39m\u001b[92m+ DrWatson v2.12.1\u001b[39m\n",
      " \u001b[90m [033835bb] \u001b[39m\u001b[92m+ JLD2 v0.4.30\u001b[39m\n",
      " \u001b[90m [3a884ed6] \u001b[39m\u001b[92m+ UnPack v1.0.2\u001b[39m\n",
      "\u001b[32m\u001b[1mPrecompiling\u001b[22m\u001b[39m project...\n",
      "\u001b[32m  ✓ \u001b[39m\u001b[90mJLD2\u001b[39m\n",
      "\u001b[32m  ✓ \u001b[39mDrWatson\n",
      "  2 dependencies successfully precompiled in 12 seconds. 224 already precompiled.\n"
     ]
    }
   ],
   "source": [
    "using Pkg\n",
    "\n",
    "Pkg.add(\"DrWatson\")"
   ]
  },
  {
   "cell_type": "markdown",
   "id": "69739799-4038-44e3-802e-d3ed30d794d9",
   "metadata": {},
   "source": [
    "#### Exercise 2\n",
    "Uninstall the installed package with Pkg.rm(\"\"). "
   ]
  },
  {
   "cell_type": "markdown",
   "id": "66a76e90-aaa6-4cf0-8666-166cbb43f081",
   "metadata": {},
   "source": [
    "#### Solution 1 "
   ]
  },
  {
   "cell_type": "code",
   "execution_count": 2,
   "id": "58db03f7-baf2-4a7d-b3d8-393a4906f9ec",
   "metadata": {},
   "outputs": [
    {
     "name": "stderr",
     "output_type": "stream",
     "text": [
      "\u001b[32m\u001b[1m    Updating\u001b[22m\u001b[39m `C:\\Users\\Andreas\\Dropbox\\phd\\Courses\\WS2022_Julia\\Project.toml`\n",
      " \u001b[90m [634d3b9d] \u001b[39m\u001b[91m- DrWatson v2.12.1\u001b[39m\n",
      "\u001b[32m\u001b[1m    Updating\u001b[22m\u001b[39m `C:\\Users\\Andreas\\Dropbox\\phd\\Courses\\WS2022_Julia\\Manifest.toml`\n",
      " \u001b[90m [634d3b9d] \u001b[39m\u001b[91m- DrWatson v2.12.1\u001b[39m\n",
      " \u001b[90m [033835bb] \u001b[39m\u001b[91m- JLD2 v0.4.30\u001b[39m\n",
      " \u001b[90m [3a884ed6] \u001b[39m\u001b[91m- UnPack v1.0.2\u001b[39m\n",
      "\u001b[36m\u001b[1m[ \u001b[22m\u001b[39m\u001b[36m\u001b[1mInfo: \u001b[22m\u001b[39mWe haven't cleaned this depot up for a bit, running Pkg.gc()...\n",
      "\u001b[32m\u001b[1m      Active\u001b[22m\u001b[39m manifest files: 2 found\n",
      "\u001b[32m\u001b[1m      Active\u001b[22m\u001b[39m artifact files: 64 found\n",
      "\u001b[32m\u001b[1m      Active\u001b[22m\u001b[39m scratchspaces: 5 found\n",
      "\u001b[32m\u001b[1m     Deleted\u001b[22m\u001b[39m no artifacts, repos, packages or scratchspaces\n"
     ]
    }
   ],
   "source": [
    "Pkg.rm(\"DrWatson\")"
   ]
  },
  {
   "cell_type": "code",
   "execution_count": null,
   "id": "a3b7e36c-ece6-453b-9f92-dea6e2149282",
   "metadata": {},
   "outputs": [],
   "source": []
  }
 ],
 "metadata": {
  "kernelspec": {
   "display_name": "Julia 1.8.5",
   "language": "julia",
   "name": "julia-1.8"
  },
  "language_info": {
   "file_extension": ".jl",
   "mimetype": "application/julia",
   "name": "julia",
   "version": "1.8.5"
  }
 },
 "nbformat": 4,
 "nbformat_minor": 5
}
