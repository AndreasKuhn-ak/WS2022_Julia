{
 "cells": [
  {
   "cell_type": "markdown",
   "id": "05dde41a-58d1-4fa0-bd97-ba6229c5bff8",
   "metadata": {},
   "source": [
    "<p style='text-align: center'><a href=https://www.biozentrum.uni-wuerzburg.de/cctb/research/supramolecular-and-cellular-simulations/>Supramolecular and Cellular Simulations</a> (Prof. Fischer)<br>Center for Computational and Theoretical Biology - CCTB<br>Faculty of Biology, University of Würzburg</p>\n",
    "\n",
    "<p style='text-align: center'><br><br>We are looking forward to your comments and suggestions. Please send them to: <br><br></p>\n",
    "    \n",
    " <p style='text-align: center'>   <a href=andreas.kuhn@uni.wuerzburg.de>andreas.kuhn@uni.wuerzburg.de</a> or <a href=sabine.fischer@uni.wuerzburg.de>sabine.fischer@uni.wuerzburg.de</a></p>\n",
    "\n",
    "<h1><p style='text-align: center'> Introduction to Julia </p></h1>\n"
   ]
  },
  {
   "cell_type": "markdown",
   "id": "5378d5d7-c949-4f58-9d0e-215780dc6140",
   "metadata": {},
   "source": [
    "## 2. Install Packages\n"
   ]
  },
  {
   "cell_type": "markdown",
   "id": "f1d6c99b-1114-47bd-ba7b-3f3b3e98df5a",
   "metadata": {},
   "source": [
    "### Description\n",
    "\n",
    "Until now, you have learned how jupyter notebooks work. Now we want to set up our Julia installation for this course. In the later parts you will need some additional  Julia packages for that. Therefore, we will show you how to install packages and then install the neccessary ones for this course. \n",
    "\n"
   ]
  },
  {
   "cell_type": "markdown",
   "id": "51627c77-f0a4-4fc5-8332-45c25ac8a706",
   "metadata": {},
   "source": [
    "In this case will will need the keyword `using` together with `Pkg` which enables us to use the integrated package manager of Julia"
   ]
  },
  {
   "cell_type": "code",
   "execution_count": 1,
   "id": "5456615e-8f97-4d58-a6a7-bc50c1109b78",
   "metadata": {},
   "outputs": [],
   "source": [
    "using Pkg"
   ]
  },
  {
   "cell_type": "markdown",
   "id": "8b27c4f9-9b73-48d4-83b8-26dde17ddbc3",
   "metadata": {},
   "source": [
    "Now we can install any package we want with the command `Pkg.add(\"Packagename\")`. For example if we want to install the plotting package `CairoMakie`:\n"
   ]
  },
  {
   "cell_type": "code",
   "execution_count": null,
   "id": "23494964-6c64-4b11-b2a5-3f5d703776b4",
   "metadata": {},
   "outputs": [],
   "source": [
    "Pkg.add(\"CairoMakie\")"
   ]
  },
  {
   "cell_type": "markdown",
   "id": "3036e5e4-c586-4518-a7b1-3b4791a1b1c3",
   "metadata": {},
   "source": [
    "Note: You might have already use this command in the Julia command line (the so called REPL) to install the `IJulia` package for using Julia in Jupyter notebooks. "
   ]
  },
  {
   "cell_type": "markdown",
   "id": "50acdb83-850a-4bfc-baac-c9ccfefee759",
   "metadata": {},
   "source": [
    "The next cell installs all neccessary packages for this course. This can take some minutes, but you will only need to run this cell once"
   ]
  },
  {
   "cell_type": "code",
   "execution_count": null,
   "id": "6913669d-ce7f-433e-b611-4f1cd711e552",
   "metadata": {},
   "outputs": [],
   "source": [
    "Pkg.add(\"GLMakie\")\n",
    "Pkg.add(\"DataFrames\")\n",
    "Pkg.add(\"DataFramesMeta\")\n",
    "Pkg.add(\"CSV\")\n",
    "Pkg.add(\"ColorSchemes\")\n",
    "Pkg.add(\"Random\")\n",
    "Pkg.add(\"JSON\")\n",
    "Pkg.add(\"Chain\")"
   ]
  },
  {
   "cell_type": "markdown",
   "id": "93513bf9-b66e-4ad5-8cf6-790e1e8f80bb",
   "metadata": {},
   "source": [
    "\n",
    "Hint: Almost every package that can be installed by the package manager has its own website where you can find documentation, tutorials and examples. For example see: (https://dataframes.juliadata.org/stable/)"
   ]
  },
  {
   "cell_type": "markdown",
   "id": "7e46243e-be62-4349-b870-c755d16eaef7",
   "metadata": {},
   "source": [
    "## Exercises\n"
   ]
  },
  {
   "cell_type": "markdown",
   "id": "06694247-f7e8-4b77-a945-f85a6cee9700",
   "metadata": {},
   "source": [
    "### <p style='color: green'>easy</p>\n",
    "\n",
    "1. Install one additional package of your choice with Pkg.add(\"\"). \n",
    "\n",
    "Hint: a list of available packages can be found here: https://juliapackages.com/"
   ]
  },
  {
   "cell_type": "code",
   "execution_count": 6,
   "id": "31dfd126-c291-477e-b37d-fbd7681b9230",
   "metadata": {},
   "outputs": [
    {
     "name": "stderr",
     "output_type": "stream",
     "text": [
      "\u001b[32m\u001b[1m   Resolving\u001b[22m\u001b[39m package versions...\n",
      "\u001b[32m\u001b[1m   Installed\u001b[22m\u001b[39m UnPack ─── v1.0.2\n",
      "\u001b[32m\u001b[1m   Installed\u001b[22m\u001b[39m JLD2 ───── v0.4.22\n",
      "\u001b[32m\u001b[1m   Installed\u001b[22m\u001b[39m DrWatson ─ v2.9.1\n",
      "\u001b[32m\u001b[1m    Updating\u001b[22m\u001b[39m `C:\\Users\\ank10ki\\.julia\\environments\\v1.7\\Project.toml`\n",
      " \u001b[90m [634d3b9d] \u001b[39m\u001b[92m+ DrWatson v2.9.1\u001b[39m\n",
      "\u001b[32m\u001b[1m    Updating\u001b[22m\u001b[39m `C:\\Users\\ank10ki\\.julia\\environments\\v1.7\\Manifest.toml`\n",
      " \u001b[90m [634d3b9d] \u001b[39m\u001b[92m+ DrWatson v2.9.1\u001b[39m\n",
      " \u001b[90m [033835bb] \u001b[39m\u001b[92m+ JLD2 v0.4.22\u001b[39m\n",
      " \u001b[90m [3a884ed6] \u001b[39m\u001b[92m+ UnPack v1.0.2\u001b[39m\n",
      "\u001b[32m\u001b[1mPrecompiling\u001b[22m\u001b[39m project...\n",
      "\u001b[32m  ✓ \u001b[39m\u001b[90mUnPack\u001b[39m\n",
      "\u001b[32m  ✓ \u001b[39m\u001b[90mJLD2\u001b[39m\n",
      "\u001b[32m  ✓ \u001b[39mDrWatson\n",
      "  3 dependencies successfully precompiled in 9 seconds (203 already precompiled)\n"
     ]
    }
   ],
   "source": [
    "Pkg.add(\"DrWatson\")"
   ]
  },
  {
   "cell_type": "markdown",
   "id": "dda29dd0-11c3-44c6-9085-0fd1f32c92a0",
   "metadata": {},
   "source": [
    "2. Uninstall the installed package with Pkg.rm(\"\"). "
   ]
  },
  {
   "cell_type": "code",
   "execution_count": null,
   "id": "a78fbebe-f15f-488f-85c9-3c22f13f609e",
   "metadata": {},
   "outputs": [],
   "source": []
  }
 ],
 "metadata": {
  "kernelspec": {
   "display_name": "Julia 1.8.0",
   "language": "julia",
   "name": "julia-1.8"
  },
  "language_info": {
   "file_extension": ".jl",
   "mimetype": "application/julia",
   "name": "julia",
   "version": "1.8.0"
  }
 },
 "nbformat": 4,
 "nbformat_minor": 5
}
