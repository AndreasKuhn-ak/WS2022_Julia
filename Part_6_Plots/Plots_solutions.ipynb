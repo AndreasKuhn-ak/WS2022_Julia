{
 "cells": [
  {
   "cell_type": "markdown",
   "id": "88ad6355-a8be-4f0c-8fb1-089ddc05f836",
   "metadata": {},
   "source": [
    "## 5. Plots\n",
    "\n",
    "###  Sample Solutions "
   ]
  },
  {
   "cell_type": "markdown",
   "id": "84a7a724-fd29-4157-af5b-eedd40c9a55b",
   "metadata": {},
   "source": [
    "Execute the first cell to get some data that you can plot."
   ]
  },
  {
   "cell_type": "code",
   "execution_count": null,
   "id": "49a01ab8-4a5b-42ee-bd39-392bf47b3dda",
   "metadata": {},
   "outputs": [],
   "source": [
    "using CairoMakie, Distributions"
   ]
  },
  {
   "cell_type": "code",
   "execution_count": null,
   "id": "d13afe08-b60c-4d14-8e83-e9977b4352a5",
   "metadata": {},
   "outputs": [],
   "source": [
    "function Julia_parser(path::String)\n",
    "    eval(Meta.parse(readline(path)))\n",
    "end\n",
    "\n",
    "averagetemp_Station3 = Julia_parser(\"Temperatur_Station3.json\")\n",
    "averagetemp_Station44 = Julia_parser(\"Temperatur_Station44.json\")\n",
    "averagetemp_Station73 = Julia_parser(\"Temperatur_Station73.json\")\n",
    "rainfall_Station3 = Julia_parser(\"Niederschlag_Station3.json\")\n",
    "rainfall_Station44 = Julia_parser(\"Niederschlag_Station44.json\")\n",
    "rainfall_Station73 = Julia_parser(\"Niederschlag_Station73.json\")\n",
    "\n",
    "\n",
    "\n",
    "Histolist = rand(Normal(100,15),100000)\n",
    "loglist=[exp(-i*0.1) for i in range(1,81)]\n",
    "Months=[\"Jan\",\"Feb\",\"Mar\",\"Apr\",\"May\",\"Jun\",\"Jul\",\"Aug\",\"Sep\",\"Oct\",\"Nov\",\"Dec\"];"
   ]
  },
  {
   "cell_type": "markdown",
   "id": "031a9b93-e51c-4aa1-8296-d65918ec0425",
   "metadata": {},
   "source": [
    "### <p style='color: green'>easy</p>"
   ]
  },
  {
   "cell_type": "markdown",
   "id": "3d50ecea-eafb-4c67-853d-3ec286e767bb",
   "metadata": {
    "tags": []
   },
   "source": [
    "#### Exercise 1 \n",
    "Plot average temperatures per month at the three different stations against the months (`Months`) in three different figures as lines plots together with a legend.\n",
    "#### Solution 1 "
   ]
  },
  {
   "cell_type": "code",
   "execution_count": null,
   "id": "7968519b-af75-4336-b46a-45e210ec5b52",
   "metadata": {},
   "outputs": [],
   "source": [
    "fig_1 = Figure()\n",
    "months = [x for x in 1:length(Months)]\n",
    "ax_1 = Axis(fig_1[1,1], xticks = (months,Months), xlabel = \"Months\", ylabel = \"Average Temperature [C°]\")\n",
    "line_1 = lines!(ax_1,averagetemp_Station3, label = \"Station 3\")\n",
    "axislegend(ax_1)\n",
    "fig_1"
   ]
  },
  {
   "cell_type": "code",
   "execution_count": null,
   "id": "7060c75d-e498-48e5-a1b1-47d5e942ff92",
   "metadata": {},
   "outputs": [],
   "source": [
    "fig_2 = Figure()\n",
    "ax_2 = Axis(fig_2[1,1], xticks = (months,Months), xlabel = \"Months\", ylabel = \"Average Temperature [C°]\")\n",
    "line_2 = lines!(ax_2,averagetemp_Station44, label = \"Station 44\")\n",
    "axislegend(ax_2)\n",
    "fig_2"
   ]
  },
  {
   "cell_type": "code",
   "execution_count": null,
   "id": "558ae368-c104-4e63-95e7-f6d00f003dd4",
   "metadata": {},
   "outputs": [],
   "source": [
    "fig_3 = Figure()\n",
    "ax_3 = Axis(fig_3[1,1], xticks = (months,Months), xlabel = \"Months\", ylabel = \"Average Temperature [C°]\")\n",
    "line_3 = lines!(ax_3,averagetemp_Station73, label = \"Station 73\")\n",
    "axislegend(ax_3)\n",
    "fig_3"
   ]
  },
  {
   "cell_type": "markdown",
   "id": "6db6c781-2b3c-4c7d-80bc-3f1d942aaa25",
   "metadata": {},
   "source": [
    "#### Exercise 2\n",
    "Plot average temperatures per month at the three different stations against the months in three different scatter plots with different colors into the same figure but three different axes. \n",
    "#### Solution 2 "
   ]
  },
  {
   "cell_type": "code",
   "execution_count": null,
   "id": "4133c2c1-f45e-4e78-9b51-0f62c511a678",
   "metadata": {},
   "outputs": [],
   "source": [
    "fig_4 = Figure(resolution = (1400,500))\n",
    "\n",
    "ax_4_1 = Axis(fig_4[1,1], xticks = (months,Months), xlabel = \"Months\", ylabel = \"Average Temperature [C°]\")\n",
    "line_4 = scatter!(ax_4_1,averagetemp_Station3, label = \"Station 3\", color = \"red\")\n",
    "axislegend(ax_4_1)\n",
    "\n",
    "ax_4_2 = Axis(fig_4[1,2], xticks = (months,Months), xlabel = \"Months\", ylabel = \"Average Temperature [C°]\")\n",
    "line_4_2 = scatter!(ax_4_2,averagetemp_Station44, label = \"Station 44\",color = \"green\")\n",
    "axislegend(ax_4_2)\n",
    "\n",
    "ax_4_3 = Axis(fig_4[1,3], xticks = (months,Months), xlabel = \"Months\", ylabel = \"Average Temperature [C°]\")\n",
    "line_4_3 = scatter!(ax_4_3,averagetemp_Station73, label = \"Station 73\", color = \"black\")\n",
    "axislegend(ax_4_3)\n",
    "\n",
    "fig_4"
   ]
  },
  {
   "cell_type": "markdown",
   "id": "c9de4020-a9c1-483b-8d4b-233c94104c56",
   "metadata": {},
   "source": [
    "#### Exercise 3\n",
    "Make a bar plot of the rainfall per month at station 3.\n",
    "#### Solution 3 "
   ]
  },
  {
   "cell_type": "code",
   "execution_count": null,
   "id": "19e809ad-a161-4b81-bf56-09c68a8cdf46",
   "metadata": {},
   "outputs": [],
   "source": [
    "fig_5 = Figure()\n",
    "ax_5 = Axis(fig_5[1,1], xticks = (months, Months), xlabel = \"Months\", ylabel = \"Average Rainfall [mm/m²]\")\n",
    "barplot!(ax_5, rainfall_Station3)\n",
    "fig_5"
   ]
  },
  {
   "cell_type": "markdown",
   "id": "9af1ce48-b823-44ee-b3da-ee5f356de50e",
   "metadata": {},
   "source": [
    "#### Exercise 4\n",
    "Make a boxplot of the temperatures at each station.\n",
    "#### Solution 4 "
   ]
  },
  {
   "cell_type": "code",
   "execution_count": null,
   "id": "61020e5f-d508-4cab-b8fe-21d1a85e3be0",
   "metadata": {},
   "outputs": [],
   "source": [
    "fig_6 = Figure()\n",
    "stations = [\"Station 3\", \"Station 44\",\"Station 73\"]\n",
    "pos_array = [1 for x in 1:length(averagetemp_Station3)]\n",
    "ax_6 = Axis(fig_6[1,1], xticks = (1:3,stations), ylabel = \"Temperatur [°C]\")\n",
    "\n",
    "boxplot!(ax_6,pos_array, averagetemp_Station3, color = \"green\")\n",
    "boxplot!(ax_6,pos_array.+1, averagetemp_Station44, color = \"red\")\n",
    "boxplot!(ax_6,pos_array.+2, averagetemp_Station73, color = \"blue\")\n",
    "fig_6\n"
   ]
  },
  {
   "cell_type": "markdown",
   "id": "b3fad8c4-40bd-49b8-86d7-0ffecf859378",
   "metadata": {},
   "source": [
    "### <p style='color: orange'>medium</p>"
   ]
  },
  {
   "cell_type": "markdown",
   "id": "11f7f019-c8eb-4c5e-97b2-0b88edcf0c13",
   "metadata": {},
   "source": [
    "#### Exercise 5\n",
    "Make a histogramm of `Histolist`, which contains generated data of an IQ distribution, with `100` bins. Add a black vertical line at `100`\n",
    "#### Solution 5"
   ]
  },
  {
   "cell_type": "code",
   "execution_count": null,
   "id": "14671a6a-f354-483c-b305-93a1e872dd5f",
   "metadata": {},
   "outputs": [],
   "source": [
    "fig_7 = Figure()\n",
    "ax_7 = Axis(fig_7[1,1], xlabel = \"Brainpower [IQ]\", ylabel = \"Frequency\")\n",
    "ylims!(low = 0)\n",
    "hist!(ax_7,Histolist, bins = 100)\n",
    "vlines!(ax_7, 100, color = \"black\", linewidth =  3)\n",
    "fig_7"
   ]
  },
  {
   "cell_type": "markdown",
   "id": "a192fc3e-9d6e-4037-b9b3-f5dd720c36e9",
   "metadata": {},
   "source": [
    "#### Exercise 6\n",
    "Use the Makie documentation to study the additional keyword arguments for `hist()`. Use this to make  a histogram using the same data as in 5. but plot the probabilty density instead of the frequency of the IQ , `20` bins, a nice looking stroke and change one additonal feature of your choice.\n",
    "#### Solution 6"
   ]
  },
  {
   "cell_type": "code",
   "execution_count": null,
   "id": "802f45a6-768f-4ce8-92a8-d9b126f3356c",
   "metadata": {},
   "outputs": [],
   "source": [
    "import ColorSchemes as co"
   ]
  },
  {
   "cell_type": "code",
   "execution_count": null,
   "id": "f59b1282-1716-4822-926b-90f8788cf97a",
   "metadata": {},
   "outputs": [],
   "source": [
    "fig_8 = Figure()\n",
    "ax_8 = Axis(fig_8[1,1], xlabel = \"Brainpower [IQ]\",  ylabel = \"probability density \")\n",
    "ylims!(low = 0)\n",
    "hist!(ax_8,Histolist, bins = 20, normalization = :pdf, strokecolor = \"black\", \n",
    "    strokewidth = 2, color = :values, \n",
    "    colormap = co.thermometer,\n",
    "    label_size = 11  )\n",
    "fig_8"
   ]
  },
  {
   "cell_type": "markdown",
   "id": "9ee2f99f-a90d-428c-9383-713afd67aa20",
   "metadata": {
    "tags": []
   },
   "source": [
    "#### Exercise 7\n",
    " Look at the offical documentation of [themes](https://docs.makie.org/stable/documentation/theming/) in Makie. Choose one of the [predefined themes](https://docs.makie.org/stable/documentation/theming/predefined_themes/) and activate it with the function `set_theme!()`. Recreate some of the plots in the previous exercises. \n",
    "\n",
    "Use the function `update_theme!()` to change one or more settings of the theme to customize it for your needs. \n",
    "#### Solution 7"
   ]
  },
  {
   "cell_type": "code",
   "execution_count": null,
   "id": "d3897c1b-32d8-41c1-9f11-3b25f65adcf4",
   "metadata": {},
   "outputs": [],
   "source": [
    "set_theme!(theme_black())"
   ]
  },
  {
   "cell_type": "code",
   "execution_count": null,
   "id": "1cb4a53c-956f-4630-8dcf-910639f66688",
   "metadata": {},
   "outputs": [],
   "source": [
    "fig_8 = Figure()\n",
    "ax_8 = Axis(fig_8[1,1], xlabel = \"Brainpower [IQ]\",  ylabel = \"probability density \")\n",
    "ylims!(low = 0)\n",
    "hist!(ax_8,Histolist, bins = 20, normalization = :pdf, strokecolor = \"black\", \n",
    "    strokewidth = 2, color = :values, \n",
    "    colormap = co.thermometer,\n",
    "    label_size = 11  )\n",
    "fig_8"
   ]
  },
  {
   "cell_type": "code",
   "execution_count": null,
   "id": "32b6dce8-79c3-4164-961d-d26f1839c3f6",
   "metadata": {},
   "outputs": [],
   "source": [
    "### needed for the background color change\n",
    "using Pkg\n",
    "Pkg.add(\"Colors\")\n",
    "using Colors"
   ]
  },
  {
   "cell_type": "code",
   "execution_count": null,
   "id": "a82b7ff4-efce-4617-95fb-23864c5f20d5",
   "metadata": {},
   "outputs": [],
   "source": [
    "update_theme!(backgroundcolor = RGB(0.0,0.3,0.25), fonts =(;regular  = \"Blackchancery\"), fontsize = 28)"
   ]
  },
  {
   "cell_type": "code",
   "execution_count": null,
   "id": "f413e4be-1ae4-414b-a8df-6e26d639d053",
   "metadata": {},
   "outputs": [],
   "source": [
    "fig_8 = Figure()\n",
    "ax_8 = Axis(fig_8[1,1], xlabel = \"Brainpower [IQ]\")\n",
    "ylims!(low = 0)\n",
    "hist!(ax_8,Histolist, bins = 20, pdf = true, strokecolor = \"black\", \n",
    "    strokewidth = 2, color = :values, \n",
    "    colormap = co.thermometer,\n",
    "    label_size = 11  )\n",
    "fig_8"
   ]
  },
  {
   "cell_type": "markdown",
   "id": "56b31b87-195b-451a-ab32-125610baa58d",
   "metadata": {},
   "source": [
    "#### Exercise 8\n",
    "Make a plot of `loglist`, which could resemble the decline of something over time (just come up with something for your labels), without and with a logarithmic y-axis (use the documentation).\n",
    "#### Solution 8"
   ]
  },
  {
   "cell_type": "code",
   "execution_count": null,
   "id": "a06efc1a-2334-4288-8781-804f2a4ea1fe",
   "metadata": {},
   "outputs": [],
   "source": [
    "fig_9 = Figure()\n",
    "ax_9_1 = Axis(fig_9[1,1], yscale = log10, ylabel = \"Activity [Bq]\",xlabel = \"Time [s]\")\n",
    "lines!(ax_9_1, loglist, linewidth = 6, color = \"red\")\n",
    "ax_9_2 =  Axis(fig_9[1,2], ylabel = \"Activity [Bq]\", xlabel = \"Time [s]\")\n",
    "lines!(ax_9_2, loglist, linewidth = 6, color = \"red\")\n",
    "fig_9"
   ]
  },
  {
   "cell_type": "markdown",
   "id": "6821071c-0e4a-42ab-8d45-753315172385",
   "metadata": {},
   "source": [
    "### <p style='color: red'>hard</p>"
   ]
  },
  {
   "cell_type": "markdown",
   "id": "551c58f3-5f64-49d9-9b83-14eed35ed4a5",
   "metadata": {},
   "source": [
    "#### Exercise 9\n",
    "Make a diagram in wich `averagetemp_Station73` is plotted as a line graph and `rainfall_Station73` is plotted as a bar graph. Try to get the axis for rainfall on the right and for temperature on the left side of the diagram. Check the [documentation](https://docs.makie.org/stable/examples/blocks/axis/#creating_a_twin_axis) of twin axis to find out how.     \n",
    "\n",
    "#### Solution 9"
   ]
  },
  {
   "cell_type": "code",
   "execution_count": null,
   "id": "a9d27bf6-76b8-46d3-9d39-fe88648e741c",
   "metadata": {},
   "outputs": [],
   "source": [
    "months"
   ]
  },
  {
   "cell_type": "code",
   "execution_count": null,
   "id": "a887e63d-9351-4a90-9e94-c8f7566639e3",
   "metadata": {},
   "outputs": [],
   "source": [
    "fig_10 = Figure()\n",
    "ax10_right = Axis(fig_10[1, 1], yticklabelcolor = :blue, yaxisposition = :right, ylabel = \"Rainfall [mm/m²]\",xgridvisible = false,\n",
    "        ygridvisible = false)\n",
    "ax10_left = Axis(fig_10[1, 1], yticklabelcolor = :red,xticks = (months, Months), ylabel = \"Temperature [°C]\")\n",
    "\n",
    "hidespines!(ax10_right)\n",
    "hidexdecorations!(ax10_right,minorgrid = false)\n",
    "\n",
    "\n",
    "barplot!(ax10_right,months,rainfall_Station73, color = :blue)\n",
    "lines!(ax10_left,months,averagetemp_Station73, color = :red, linewidth = 3)\n",
    "\n",
    "ylims!(ax10_right, low = 0)\n",
    "#ylims!(ax10_left, low = 0)\n",
    "\n",
    "xlims!(ax10_right, 0,13)\n",
    "xlims!(ax10_left, 0,13)\n",
    "fig_10"
   ]
  },
  {
   "cell_type": "markdown",
   "id": "a0f6f643-c7b1-42a3-8f57-1a594b00a094",
   "metadata": {},
   "source": [
    "#### Exercise 10\n",
    " Make a plot with the rainfall of all three stations in one bar graph where the three different bars are shown for every month and without grid. Check the [documentation](https://docs.makie.org/stable/examples/plotting_functions/barplot/) of barplot to find out how.   \n",
    "\n",
    "#### Solution 10"
   ]
  },
  {
   "cell_type": "code",
   "execution_count": null,
   "id": "d055d7a8-759d-4c36-9da0-832f7b82c2cf",
   "metadata": {},
   "outputs": [],
   "source": [
    "import ColorSchemes as co\n",
    "cum_months = repeat(months,3)\n",
    "all_stations = append!(Float64[],rainfall_Station3,rainfall_Station44,rainfall_Station73)\n",
    "\n",
    "\n",
    "fig_11 = Figure(resolution =(1400,500))\n",
    "ax11 = Axis(fig_11[1,1],xgridvisible = false,\n",
    "        ygridvisible = false,xticks = (months, Months),ylabel = \"Rainfall [mm/m²]\")\n",
    "barplot!(cum_months,all_stations, dodge = [x for x in 1:3 for y in 1:12],\n",
    "    color = [x for x in 1:3 for y in 1:12], colormap = co.:Dark2_3)\n",
    "ylims!(low = 0)\n",
    "\n",
    "labels = [\"Station 3\", \"Station 44\", \"Station 73\"]\n",
    "elements = [PolyElement(color =co.:Dark2_3[i]) for i in 1:length(labels)]\n",
    "title = \"Weather Station\"\n",
    "\n",
    "Legend(fig_11[1,2],elements, labels, title)\n",
    "\n",
    "fig_11"
   ]
  }
 ],
 "metadata": {
  "kernelspec": {
   "display_name": "Julia 1.9.2",
   "language": "julia",
   "name": "julia-1.9"
  },
  "language_info": {
   "file_extension": ".jl",
   "mimetype": "application/julia",
   "name": "julia",
   "version": "1.9.2"
  }
 },
 "nbformat": 4,
 "nbformat_minor": 5
}
