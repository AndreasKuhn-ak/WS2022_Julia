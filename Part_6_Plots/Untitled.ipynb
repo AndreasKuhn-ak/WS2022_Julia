{
 "cells": [
  {
   "cell_type": "code",
   "execution_count": 1,
   "id": "7d4662dc-ef38-4a46-a896-07d7bb7da8e0",
   "metadata": {},
   "outputs": [
    {
     "data": {
      "text/plain": [
       "20"
      ]
     },
     "execution_count": 1,
     "metadata": {},
     "output_type": "execute_result"
    }
   ],
   "source": [
    "16+2+2"
   ]
  },
  {
   "cell_type": "code",
   "execution_count": null,
   "id": "899feffa-498c-4337-83ae-f2bf328cd767",
   "metadata": {},
   "outputs": [],
   "source": []
  }
 ],
 "metadata": {
  "kernelspec": {
   "display_name": "Python 3 (ipykernel)",
   "language": "python",
   "name": "python3"
  },
  "language_info": {
   "codemirror_mode": {
    "name": "ipython",
    "version": 3
   },
   "file_extension": ".py",
   "mimetype": "text/x-python",
   "name": "python",
   "nbconvert_exporter": "python",
   "pygments_lexer": "ipython3",
   "version": "3.9.13"
  }
 },
 "nbformat": 4,
 "nbformat_minor": 5
}
