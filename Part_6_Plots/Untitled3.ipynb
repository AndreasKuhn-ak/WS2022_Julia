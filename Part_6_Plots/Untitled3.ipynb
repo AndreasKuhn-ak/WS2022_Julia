{
 "cells": [
  {
   "cell_type": "code",
   "execution_count": null,
   "id": "ae1d777b-90d3-4ae1-9f1b-514087623e14",
   "metadata": {},
   "outputs": [],
   "source": []
  }
 ],
 "metadata": {
  "kernelspec": {
   "display_name": "Julia 1.9.0",
   "language": "julia",
   "name": "julia-1.9"
  },
  "language_info": {
   "name": ""
  }
 },
 "nbformat": 4,
 "nbformat_minor": 5
}
