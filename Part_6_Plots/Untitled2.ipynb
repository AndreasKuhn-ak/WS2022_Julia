{
 "cells": [
  {
   "cell_type": "code",
   "execution_count": null,
   "id": "418f344c-6d23-41f8-9024-03a0d1c0886f",
   "metadata": {},
   "outputs": [],
   "source": []
  }
 ],
 "metadata": {
  "kernelspec": {
   "display_name": "Julia 1.9.0",
   "language": "julia",
   "name": "julia-1.9"
  },
  "language_info": {
   "name": ""
  }
 },
 "nbformat": 4,
 "nbformat_minor": 5
}
