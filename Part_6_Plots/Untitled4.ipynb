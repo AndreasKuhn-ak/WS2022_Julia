{
 "cells": [
  {
   "cell_type": "code",
   "execution_count": null,
   "id": "f2d41c40-4480-4d07-9a06-be6821db7117",
   "metadata": {},
   "outputs": [],
   "source": []
  }
 ],
 "metadata": {
  "kernelspec": {
   "display_name": "Julia 1.9.0",
   "language": "julia",
   "name": "julia-1.9"
  },
  "language_info": {
   "file_extension": ".jl",
   "mimetype": "application/julia",
   "name": "julia",
   "version": "1.9.0"
  }
 },
 "nbformat": 4,
 "nbformat_minor": 5
}
