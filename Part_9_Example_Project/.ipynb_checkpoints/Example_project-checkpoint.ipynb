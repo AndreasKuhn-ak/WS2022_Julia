{
 "cells": [
  {
   "cell_type": "markdown",
   "id": "0fec1655-da2e-4f33-987f-4702f726ed80",
   "metadata": {},
   "source": [
    "<p style='text-align: center'><a href=https://www.biozentrum.uni-wuerzburg.de/cctb/research/supramolecular-and-cellular-simulations/>Supramolecular and Cellular Simulations</a> (Prof. Fischer)<br>Center for Computational and Theoretical Biology - CCTB<br>Faculty of Biology, University of Würzburg</p>\n",
    "\n",
    "<p style='text-align: center'><br><br>We are looking forward to your comments and suggestions. Please send them to: <br><br></p>\n",
    "    \n",
    " <p style='text-align: center'>   <a href=andreas.kuhn@uni.wuerzburg.de>andreas.kuhn@uni.wuerzburg.de</a> or <a href=sabine.fischer@uni.wuerzburg.de>sabine.fischer@uni.wuerzburg.de</a></p>\n",
    "\n",
    "<h1><p style='text-align: center'> Introduction to Julia </p></h1>\n"
   ]
  },
  {
   "cell_type": "markdown",
   "id": "b0d8066f-726f-465d-a7a4-b46cb9a087f9",
   "metadata": {},
   "source": [
    "## 9. Example Project"
   ]
  },
  {
   "cell_type": "markdown",
   "id": "3672316c-c1cb-4445-ab0b-5bbd7753fd5a",
   "metadata": {},
   "source": [
    "### Introduction \n",
    "\n",
    "Until now, you have learned to use different data types, to write your own functions, to import/export/analyse data and to create beautiful plots. The question that you might be asking yourself is: \"How does all of this come together?\"\n",
    "\n",
    "A hands-on exercise will provide an example. You will write a simple agent-based simulation. This involves developing a small model with randomly moving agents on a grid using all the stuff you have already learned.\n",
    "\n",
    "\n"
   ]
  },
  {
   "cell_type": "markdown",
   "id": "3f6b7cf3-583e-4c5f-9889-acb1c10d9cba",
   "metadata": {},
   "source": [
    "### Structure\n",
    "\n",
    "The simulation consists of agents occupying an underlying grid. Each grid cell can only be occupied by one agent and can be acessed by its x and y coordinates. In the graphic below, a 6*7 slice of a potentially much bigger grid is shown. \n"
   ]
  },
  {
   "cell_type": "markdown",
   "id": "2e204d34-ae7e-4ed3-be2b-d6f9943282f5",
   "metadata": {},
   "source": [
    "<div>\n",
    "<img src=\"Grid_visu_1.png\"width=\"800\" />\n",
    "</div>"
   ]
  },
  {
   "cell_type": "markdown",
   "id": "104d192d-19c4-476e-94c0-813d04ca3428",
   "metadata": {},
   "source": [
    "#### 10.1. Import used packages \n",
    " \n",
    "The first step in creating such a system is (as always :) to import the needed packages.\n",
    " \n",
    "Note: Theoretically, you could import these at any point between the beginning and the point in the programm where you actually use them. However, for clarity/readability, you should always do this at the beginning of your notebook/script."
   ]
  },
  {
   "cell_type": "code",
   "execution_count": 11,
   "id": "66060a16-eeae-48ab-ad13-abc4a8a64acc",
   "metadata": {},
   "outputs": [],
   "source": [
    "using CSV, DataFrames\n",
    "using GLMakie,ColorSchemes, Random"
   ]
  },
  {
   "cell_type": "markdown",
   "id": "dc716a0e-8543-4ad6-b5fd-7edf63c2e886",
   "metadata": {},
   "source": [
    "In this case, the packages `CSV` and `DataFrames` are needed for transforming and saving the output data as dataframes. Additionally, the package `GLMakie` which is the gpu-power backend for `Makie` is used. It works exactly the same way as `CairoMakie`, but outputs its plots in a separate interactive window. Therefore, it is better suited for animations or interactive plots.  \n",
    "The package `ColorSchemes` provides additional colormaps for `Makie`. One function from the package `random` of the Julia standard library is also used. "
   ]
  },
  {
   "cell_type": "markdown",
   "id": "c5947b24-5feb-431d-ada4-b8527796dc0c",
   "metadata": {},
   "source": [
    " #### 10.2 Define Parameters\n",
    "The second step is to set all defining parameters of the simulation. In this case these are the size of the grid, the number of agents, the time how long the simulation should run and the configuration/geometry in which the agents should be placed on the grid.\n",
    "\n"
   ]
  },
  {
   "cell_type": "code",
   "execution_count": 12,
   "id": "52d36858-155c-41ae-89f1-60afd76c44dc",
   "metadata": {},
   "outputs": [
    {
     "data": {
      "text/plain": [
       "\"random\""
      ]
     },
     "execution_count": 12,
     "metadata": {},
     "output_type": "execute_result"
    }
   ],
   "source": [
    "gridsize = 100                                \n",
    "cell_number = 200                          \n",
    "timesteps = 300                                \n",
    "#starting_config = \"square\"\n",
    "starting_config = \"random\""
   ]
  },
  {
   "cell_type": "markdown",
   "id": "3ae35232-c3d0-4fe7-83c3-7232f4233edf",
   "metadata": {},
   "source": [
    "Note: As the background of the authors is bioinformatics, we arbitrarily  declare the agents to be representing cells. But an agent can represent almost anything, especially when the only implemented rule is a random walk which is very similar for a lot of systems (atoms on lattice, molecules in a solution, stars in galaxys, insects on the ground, humans in a pedestrian zone,... ).     "
   ]
  },
  {
   "cell_type": "markdown",
   "id": "189707b8-3517-4159-9753-424860b28d64",
   "metadata": {},
   "source": [
    " #### 10.3  Initialize system\n",
    "The next step is to create the objects of the simulation. Ideally, these should only depend on the defined parameters. Here, the grid and the cells/agents have to be created. "
   ]
  },
  {
   "cell_type": "markdown",
   "id": "d6ce6f9f-3b43-44ec-98c9-27548342216f",
   "metadata": {},
   "source": [
    "##### 10.3.1 Structure of data"
   ]
  },
  {
   "cell_type": "markdown",
   "id": "7ecede12-c526-408f-aeb6-622cff8fb8a1",
   "metadata": {},
   "source": [
    "The empty square grid can be created with the parameter gridsize and the `zeros()` function. A zero at a given gridpoints means that it is unoccupied. "
   ]
  },
  {
   "cell_type": "code",
   "execution_count": 13,
   "id": "5bfa0b9c-5cf6-4c8f-b6a0-f7bf8847ae19",
   "metadata": {},
   "outputs": [
    {
     "data": {
      "text/plain": [
       "100×100 Matrix{Int64}:\n",
       " 0  0  0  0  0  0  0  0  0  0  0  0  0  …  0  0  0  0  0  0  0  0  0  0  0  0\n",
       " 0  0  0  0  0  0  0  0  0  0  0  0  0     0  0  0  0  0  0  0  0  0  0  0  0\n",
       " 0  0  0  0  0  0  0  0  0  0  0  0  0     0  0  0  0  0  0  0  0  0  0  0  0\n",
       " 0  0  0  0  0  0  0  0  0  0  0  0  0     0  0  0  0  0  0  0  0  0  0  0  0\n",
       " 0  0  0  0  0  0  0  0  0  0  0  0  0     0  0  0  0  0  0  0  0  0  0  0  0\n",
       " 0  0  0  0  0  0  0  0  0  0  0  0  0  …  0  0  0  0  0  0  0  0  0  0  0  0\n",
       " 0  0  0  0  0  0  0  0  0  0  0  0  0     0  0  0  0  0  0  0  0  0  0  0  0\n",
       " 0  0  0  0  0  0  0  0  0  0  0  0  0     0  0  0  0  0  0  0  0  0  0  0  0\n",
       " 0  0  0  0  0  0  0  0  0  0  0  0  0     0  0  0  0  0  0  0  0  0  0  0  0\n",
       " 0  0  0  0  0  0  0  0  0  0  0  0  0     0  0  0  0  0  0  0  0  0  0  0  0\n",
       " 0  0  0  0  0  0  0  0  0  0  0  0  0  …  0  0  0  0  0  0  0  0  0  0  0  0\n",
       " 0  0  0  0  0  0  0  0  0  0  0  0  0     0  0  0  0  0  0  0  0  0  0  0  0\n",
       " 0  0  0  0  0  0  0  0  0  0  0  0  0     0  0  0  0  0  0  0  0  0  0  0  0\n",
       " ⋮              ⋮              ⋮        ⋱        ⋮              ⋮           \n",
       " 0  0  0  0  0  0  0  0  0  0  0  0  0     0  0  0  0  0  0  0  0  0  0  0  0\n",
       " 0  0  0  0  0  0  0  0  0  0  0  0  0     0  0  0  0  0  0  0  0  0  0  0  0\n",
       " 0  0  0  0  0  0  0  0  0  0  0  0  0  …  0  0  0  0  0  0  0  0  0  0  0  0\n",
       " 0  0  0  0  0  0  0  0  0  0  0  0  0     0  0  0  0  0  0  0  0  0  0  0  0\n",
       " 0  0  0  0  0  0  0  0  0  0  0  0  0     0  0  0  0  0  0  0  0  0  0  0  0\n",
       " 0  0  0  0  0  0  0  0  0  0  0  0  0     0  0  0  0  0  0  0  0  0  0  0  0\n",
       " 0  0  0  0  0  0  0  0  0  0  0  0  0     0  0  0  0  0  0  0  0  0  0  0  0\n",
       " 0  0  0  0  0  0  0  0  0  0  0  0  0  …  0  0  0  0  0  0  0  0  0  0  0  0\n",
       " 0  0  0  0  0  0  0  0  0  0  0  0  0     0  0  0  0  0  0  0  0  0  0  0  0\n",
       " 0  0  0  0  0  0  0  0  0  0  0  0  0     0  0  0  0  0  0  0  0  0  0  0  0\n",
       " 0  0  0  0  0  0  0  0  0  0  0  0  0     0  0  0  0  0  0  0  0  0  0  0  0\n",
       " 0  0  0  0  0  0  0  0  0  0  0  0  0     0  0  0  0  0  0  0  0  0  0  0  0"
      ]
     },
     "execution_count": 13,
     "metadata": {},
     "output_type": "execute_result"
    }
   ],
   "source": [
    "grid_test = zeros(Int64, gridsize, gridsize)"
   ]
  },
  {
   "cell_type": "markdown",
   "id": "c5004dd2-1350-4a4d-8ffd-3f9fbc824526",
   "metadata": {},
   "source": [
    "The system has to be populated with cells. In this case, a twofold approach is used. The positions of the cells is saved implicitly in the grid and explicitly in an additional vector. You will see why later"
   ]
  },
  {
   "cell_type": "markdown",
   "id": "47b57ddc-8912-4a5c-bdb3-6d8fee979550",
   "metadata": {},
   "source": [
    "To avoid slow `Any` arrays, it is best to explicitly define the type of every array used in the simulation. There are two different ways to initialize an array with a specific type. You have already seen the `type[]` constructor in the Datatype notebook. But there exists an even more powerful syntax to define arrays:\n",
    "\n",
    "- `Array{type}(undef,dims)` where dims gives the length of the array in each dimension, e.g. dims = 10 creates a 10 elements long 1D array, dims = 5,5,5 creates a 5$\\times$5$\\times$5 3D-array (sometime called tensor) \n",
    "\n",
    " The big advantage of this approach is that it can be nested within itself to create arbitrarily complex data structures."
   ]
  },
  {
   "cell_type": "markdown",
   "id": "c27ecf36-eb1d-4352-a2b0-972200b01945",
   "metadata": {},
   "source": [
    "Just to give you a small example how the constructor works: "
   ]
  },
  {
   "cell_type": "code",
   "execution_count": 15,
   "id": "97960646-78b6-4b18-a7cc-e1d39254dcbb",
   "metadata": {},
   "outputs": [
    {
     "name": "stdout",
     "output_type": "stream",
     "text": [
      "true\n"
     ]
    }
   ],
   "source": [
    "hans = Array{Int64}(undef,0)\n",
    "dieter = Int64[]\n",
    "#test if hans and dieter represent the same data structure\n",
    "println(hans == dieter)"
   ]
  },
  {
   "cell_type": "markdown",
   "id": "75edd4b1-52ed-4245-91b6-52712e081ac0",
   "metadata": {},
   "source": [
    "Note: The `undef` keyword says that the content is not yet defined. In the case of an array with length zero this does not matter. But for a length > 0 the values in the created array will assume the unchanged bytes in the assigned memory location. For arrays consisting of primitve dataytpes like `Int64` or `Float64`, the values will be random. But more complex datatypes (`dicts, arrays,...)` need a certain structure in the underlying memory. That means, that the bytes can, but not necessarily need to, be a valid representation of said datatype and might be completely unusable (and cause errors) until they get overwritten.   "
   ]
  },
  {
   "cell_type": "markdown",
   "id": "f30b39af-5ef8-41d6-af01-f0edcbd598a2",
   "metadata": {},
   "source": [
    "As the single cells are solely represented by their coordinates, a suitable data structure is a vector with `length = cellnumber` containing (sub)-vectors in the format `[x,y]`. Such a vector can be created as follows:"
   ]
  },
  {
   "cell_type": "code",
   "execution_count": 21,
   "id": "0157bf1b-19b8-40dc-85fe-5ba3b75591ef",
   "metadata": {},
   "outputs": [
    {
     "data": {
      "text/plain": [
       "Vector{Int64}[]"
      ]
     },
     "execution_count": 21,
     "metadata": {},
     "output_type": "execute_result"
    }
   ],
   "source": [
    "# vector of Int64-vectors with size 0\n",
    "cell_list_test = Vector{Vector{Int64}}(undef,0)"
   ]
  },
  {
   "cell_type": "markdown",
   "id": "e406e45f-2f1e-43ce-82af-4b916b096c79",
   "metadata": {},
   "source": [
    "Sub vectors can be added to the cell_list with the `push!()` function.  "
   ]
  },
  {
   "cell_type": "code",
   "execution_count": 22,
   "id": "4d25d09e-d57d-4d1a-ab80-4e86d10b992a",
   "metadata": {},
   "outputs": [
    {
     "data": {
      "text/plain": [
       "1-element Vector{Vector{Int64}}:\n",
       " [2, 3]"
      ]
     },
     "execution_count": 22,
     "metadata": {},
     "output_type": "execute_result"
    }
   ],
   "source": [
    "push!(cell_list_test,[2,3])"
   ]
  },
  {
   "cell_type": "code",
   "execution_count": 23,
   "id": "24268dff-96f4-4ec6-810f-ec50dc46d666",
   "metadata": {},
   "outputs": [
    {
     "data": {
      "text/plain": [
       "2-element Vector{Vector{Int64}}:\n",
       " [2, 3]\n",
       " [65, 12]"
      ]
     },
     "execution_count": 23,
     "metadata": {},
     "output_type": "execute_result"
    }
   ],
   "source": [
    "push!(cell_list_test,[65,12])"
   ]
  },
  {
   "cell_type": "markdown",
   "id": "f44b4fff-131c-4766-b1f5-573a17f80b8e",
   "metadata": {},
   "source": [
    "Let's remove the 2 example positions to start with the real positions: "
   ]
  },
  {
   "cell_type": "code",
   "execution_count": 24,
   "id": "f391811b-8d9c-4cd9-9d9b-87ee8ef1b446",
   "metadata": {},
   "outputs": [
    {
     "data": {
      "text/plain": [
       "Vector{Int64}[]"
      ]
     },
     "execution_count": 24,
     "metadata": {},
     "output_type": "execute_result"
    }
   ],
   "source": [
    "pop!(cell_list_test)\n",
    "pop!(cell_list_test)\n",
    "cell_list_test"
   ]
  },
  {
   "cell_type": "markdown",
   "id": "ced8199e-0449-4ae1-b343-83c4b27c9da3",
   "metadata": {},
   "source": [
    "Note: This approach is the most performant, but also the most complicated way of setting up your data. If speed is not a concern, you can also make use of the `[]` constructor, which creates an `Any` array. Such arrays can do everything (and much more ;) as the one we are using, with the price of being slower. But as Julia always claims to be fast language, we should not intentionally handicap in that regard. "
   ]
  },
  {
   "cell_type": "markdown",
   "id": "5f23a37e-546d-4d54-b6fc-20be94f6caaf",
   "metadata": {},
   "source": [
    "##### 10.3.2 Create cells "
   ]
  },
  {
   "cell_type": "markdown",
   "id": "2317d51c-3b1b-44b0-8310-a26d498badc8",
   "metadata": {},
   "source": [
    "When the cells are created, they have to stored in the grid and the cell_list. In the case of a random config, the values of `x` and `y` are assigned randomly. But as two cells cannot occupy the same grid point, it is necessary to check if the assigned grid point is already occupied."
   ]
  },
  {
   "cell_type": "code",
   "execution_count": 25,
   "id": "2a370716-ca7f-410f-851b-da7561993c64",
   "metadata": {},
   "outputs": [],
   "source": [
    "if starting_config == \"random\"\n",
    "    i = 1\n",
    "    while i <= cell_number\n",
    "        x = rand(1:gridsize)\n",
    "        y = rand(1:gridsize)\n",
    "        # check if grid point is already occupied and only if it is empty \n",
    "        # create a cell and increase the counter by one \n",
    "        if grid_test[x,y] == 0 \n",
    "            grid_test[x,y] = i\n",
    "            push!(cell_list_test,[x,y])\n",
    "            i += 1\n",
    "        end\n",
    "    end\n",
    "end"
   ]
  },
  {
   "cell_type": "markdown",
   "id": "6f522d00-87e2-412d-ac04-660be099b7fd",
   "metadata": {},
   "source": [
    "If the starting config is a square, a bit more work as to be done. To simplify things the cell number is rouned to the next square number. After that, the square is filled column by column with two for loops.   "
   ]
  },
  {
   "cell_type": "code",
   "execution_count": 26,
   "id": "970aeeba-029c-4c3e-be6e-3e8dfbe71192",
   "metadata": {},
   "outputs": [],
   "source": [
    "if starting_config == \"square\"\n",
    "    #calculate edge length of square of cells\n",
    "    edge_length = round(Int64,sqrt(cell_number))\n",
    "    # round cell_number to closest square number\n",
    "    cell_number = edge_length^2\n",
    "    #calculate starting x and y value of corner of square on grid\n",
    "    x_corner = round(Int64,gridsize/2-edge_length/2)\n",
    "    y_corner = round(Int64,gridsize/2-edge_length/2)\n",
    "    #all the rounding is needed to get to discrete grid points\n",
    "    i = 1\n",
    "    for x = 1:edge_length\n",
    "        for y = 1:edge_length\n",
    "            grid_test[x_corner+x, y_corner+y] = i\n",
    "            push!(cell_list_test,[x_corner+x,y_corner+y])\n",
    "            i += 1\n",
    "        end\n",
    "    end\n",
    "end"
   ]
  },
  {
   "cell_type": "markdown",
   "id": "5cdf1df2-33e7-43b3-8350-69f288589254",
   "metadata": {},
   "source": [
    "In order to make things clearer, it is good practice to encapsulate different parts of your program into functions. In this case, two functions are used. One function to create and return the grid and cell_list and one to populate them accordingly to the given starting configuration: "
   ]
  },
  {
   "cell_type": "code",
   "execution_count": 27,
   "id": "ffb1e4c0-06b0-4742-9069-b0f68a1e87a7",
   "metadata": {},
   "outputs": [
    {
     "data": {
      "text/plain": [
       "populate_sys! (generic function with 1 method)"
      ]
     },
     "execution_count": 27,
     "metadata": {},
     "output_type": "execute_result"
    }
   ],
   "source": [
    "function create_objects(Gridsize, Cell_number)\n",
    "    Grid = zeros(Int64, Gridsize, Gridsize)\n",
    "    Cell_list = Vector{Vector{Int64}}(undef,0)\n",
    "    return Grid, Cell_list\n",
    "end\n",
    "\n",
    "function populate_sys!(Grid, Cell_list, Starting_config,Gridsize, Cell_number) \n",
    "    if Starting_config == \"random\"\n",
    "        i = 1\n",
    "        while i <= Cell_number\n",
    "            x = rand(1:Gridsize)\n",
    "            y = rand(1:Gridsize)\n",
    "            if Grid[x,y] == 0 \n",
    "                Grid[x,y] = i\n",
    "                push!(Cell_list,[x,y])\n",
    "                i += 1\n",
    "            end\n",
    "        end\n",
    "    end\n",
    "    if Starting_config == \"square\"\n",
    "        #calculate edge length of square of cells\n",
    "        Edge_length = round(Int64,sqrt(Cell_number))\n",
    "        # round cell_number to closest square number\n",
    "        Cell_number = Edge_length^2\n",
    "        #calculate starting x and y value of corner of square on grid\n",
    "        X_corner = round(Int64,Gridsize/2-Edge_length/2)\n",
    "        Y_corner = round(Int64,Gridsize/2-Edge_length/2)\n",
    "        #all the rounding is needed to get to discrete grid points\n",
    "        i = 1\n",
    "        for x = 1:Edge_length\n",
    "            for y = 1:Edge_length\n",
    "                Grid[X_corner+x, Y_corner+y] = i\n",
    "                push!(Cell_list,[X_corner+x,Y_corner+y])\n",
    "                i += 1\n",
    "            end\n",
    "        end\n",
    "    end\n",
    "    #return everything that could have changed\n",
    "    return Grid, Cell_list, Cell_number\n",
    "end"
   ]
  },
  {
   "cell_type": "markdown",
   "id": "fa05b0f7-254d-48ba-8109-7ec1e7e448e5",
   "metadata": {},
   "source": [
    "To make it clear that the local variables inside the functions are different from the ones previously used in the global scope, they start with capital letters (but wouldn't need to ;). "
   ]
  },
  {
   "cell_type": "markdown",
   "id": "bb82ab11-6da4-4e82-b85d-81790dd36593",
   "metadata": {},
   "source": [
    " #### 10.4  Plot starting config\n",
    " Now let's execute the functions and plot the starting config to see if everything is working as intended."
   ]
  },
  {
   "cell_type": "code",
   "execution_count": 28,
   "id": "a773c70a-43e7-463a-9115-76ba4c9872c1",
   "metadata": {},
   "outputs": [],
   "source": [
    "grid, cell_list = create_objects(gridsize, cell_number)\n",
    "grid, cell_list, cell_number = populate_sys!(grid, cell_list, \"square\",gridsize, cell_number);"
   ]
  },
  {
   "cell_type": "markdown",
   "id": "14c9c81d-2fc3-4109-9936-4809799854e9",
   "metadata": {},
   "source": [
    "This time, the plotting part is directly encapsulated into a function. You will see why later. "
   ]
  },
  {
   "cell_type": "code",
   "execution_count": 31,
   "id": "79eda52c-348a-40f9-8af1-221195db3642",
   "metadata": {},
   "outputs": [
    {
     "data": {
      "text/plain": [
       "plot_sim (generic function with 1 method)"
      ]
     },
     "execution_count": 31,
     "metadata": {},
     "output_type": "execute_result"
    }
   ],
   "source": [
    "function plot_sim(Cell_list, Gridsize)\n",
    "    # make plot look nicer in black ; )\n",
    "    set_theme!(theme_black())\n",
    "\n",
    "    # using array comprehensions to create positions array of x and y\n",
    "    x = [i[1] for i in Cell_list]\n",
    "    y = [i[2] for i in Cell_list]\n",
    "    # calculate the distance r for every cell fromm the center\n",
    "    \n",
    "    ## explain better \n",
    "    r = (((x.-Gridsize/2).^2+(y.-Gridsize/2).^2).^(1/2))\n",
    "\n",
    "    Fig1 = Figure(resolution = (1000,1000))\n",
    "    Ax1 =Axis(Fig1[1,1],title = \"Startconfig\",titlesize = 35)\n",
    "    xlims!(Ax1,0,Gridsize)\n",
    "    ylims!(Ax1,0,Gridsize)\n",
    "    # using the distance r together with a colormap to give the cells different colors\n",
    "    Scatty = scatter!(Ax1,x,y,color = r,colormap = :dense,label = \"particle\",marker = :circle,markersize = 8)\n",
    "\n",
    "    return Fig1, Ax1 , Scatty\n",
    "end"
   ]
  },
  {
   "cell_type": "code",
   "execution_count": 32,
   "id": "d72fb728-c4f8-4451-ae1c-62c74f372159",
   "metadata": {},
   "outputs": [
    {
     "data": {
      "text/plain": [
       "GLMakie.Screen(...)"
      ]
     },
     "execution_count": 32,
     "metadata": {},
     "output_type": "execute_result"
    }
   ],
   "source": [
    "fig1, ax1, scatty = plot_sim(cell_list,gridsize)\n",
    "display(fig1)"
   ]
  },
  {
   "cell_type": "markdown",
   "id": "9c71b882-72bd-4d4d-8321-f6b1d0de3feb",
   "metadata": {},
   "source": [
    "A separate Makie window should open where the plot is displayed. "
   ]
  },
  {
   "cell_type": "markdown",
   "id": "3b6c3d5b-de8f-42fb-9a6b-827eb9f6a896",
   "metadata": {},
   "source": [
    "Hint: It can be annoying that the Makie window does not automatically appear on top of the other windows when creating a new plot. On Windows the tool [pinwin](https://sourceforge.net/projects/pinwin/) can be used to permanently put Makie (or any other window) on the top of all used windows."
   ]
  },
  {
   "cell_type": "markdown",
   "id": "84827bc8-abab-4a6e-a3f7-711c19120db0",
   "metadata": {},
   "source": [
    "#### 10.5 Update function\n",
    "The next step in a simulation is to write an update function. This function evolves the simulation from its starting configuration through time in discrete intervals. \n",
    "\n",
    "Here are the basic rules/interaction of the simulatuion defined as well as the time discretization."
   ]
  },
  {
   "cell_type": "markdown",
   "id": "21aea219-02c7-41f6-9449-30491267c923",
   "metadata": {},
   "source": [
    "<div>\n",
    "<img src=\"Grid_visu_2.png\"width=\"800\" /> \n",
    "</div>\n",
    "    \n",
    "In each time step every cell randomly picks one of the eight possible movement vectors to a neighbouring grid site.   \n",
    "</div>\n",
    "<img src=\"Grid_visu_3.png\"width=\"800\" />\n",
    "</div>\n",
    "If the neighbouring grid site is empty the cell moves to that grid site and its position gets updated in the grid and the cell list.\n",
    "\n",
    "</div>\n",
    "<img src=\"Grid_visu_4.png\"width=\"800\" />\n",
    "</div>\n",
    "\n",
    "This process is repeated for every cell in every timestep: "
   ]
  },
  {
   "cell_type": "code",
   "execution_count": 35,
   "id": "39079906-8140-4f8c-8ed1-78da77c543d1",
   "metadata": {},
   "outputs": [
    {
     "data": {
      "text/plain": [
       "update_sys (generic function with 1 method)"
      ]
     },
     "execution_count": 35,
     "metadata": {},
     "output_type": "execute_result"
    }
   ],
   "source": [
    "function update_sys(Grid, Cell_list, Gridsize,Timesteps)                  # input arguments, are the starting configuration (Grid & Cell_list) and the gridsize and number of Timesteps\n",
    "    Cell_list_alltime =  Vector{Vector{Vector{Int64}}}(undef,0)           # super cell list which contains one cell_list per timestep \n",
    "    mov_vec = [[0,1],[0,-1],[1,0],[-1,0],[1,1],[-1,-1],[-1,1],[1,-1]]     #possible movement vectors to the next gridpoint\n",
    "    sequence_vec = collect(1:8)                                           # sequence_vec is used to acess the mov_vec\n",
    "    \n",
    "    \n",
    "    Cell_list_copy = deepcopy(Cell_list)                                  # make real copy (no reference) of Cell_list and push it into cell_list altime \n",
    "    push!(Cell_list_alltime,Cell_list_copy)\n",
    "    for t = 1:Timesteps                                                   #iterate over all timesteps\n",
    "        for (j,Cell) in  enumerate(Cell_list)                             #iterate over all cells\n",
    "            shuffle!(sequence_vec)                                        # use shuffle function from random to esure random movement of particles\n",
    "            for sque in sequence_vec\n",
    "                x_next = Cell[1] + mov_vec[sque][1]\n",
    "                y_next = Cell[2] + mov_vec[sque][2]\n",
    "                \n",
    "                if x_next >= 1 && x_next <= Gridsize && y_next >= 1 && y_next <= Gridsize    # check if gridpoint is out of bounds of grid\n",
    "                    if Grid[x_next,y_next] == 0 && Grid[Cell[1],Cell[2]] != 0                # check if target gridpoint is empty and sanity check if cell exists on previous gridpoint\n",
    "                        Grid[Cell[1],Cell[2]] = 0 \n",
    "                        Grid[x_next,y_next]  = j \n",
    "                        \n",
    "                        Cell[1] = x_next\n",
    "                        Cell[2] = y_next\n",
    "                        break\n",
    "                    end\n",
    "                end                                                                          \n",
    "            end                                                                              # if no gridpoint fullfils the conditions the cell does not move\n",
    "        end\n",
    "        Cell_list_copy = deepcopy(Cell_list)                                   # creating copy of cell list in order to avoid a pass by refernce. \n",
    "        push!(Cell_list_alltime,Cell_list_copy)\n",
    "    end\n",
    "    return(Cell_list_alltime)\n",
    "end"
   ]
  },
  {
   "cell_type": "markdown",
   "id": "40afde8f-5a62-496e-ba6c-d58f8f97ab53",
   "metadata": {},
   "source": [
    "If you had a hard time following the function above. Here is a short summary: \n",
    "\n",
    "Firstly, it creates an array called `Cell_list_alltime` which is used to copy and save the cell list in every time step.\n",
    "\n",
    "Then 3 nested loops are executed, the first one runs over all time steps. \n",
    "\n",
    "The second one over all cells (once per time step). \n",
    "\n",
    "The third one goes over all neighboring grid points for every cell in random order with the help of the `mov_vec[]`, `sequence_vec[]` and the `shuffle!()` function. If a neighboring grid point is empty then a cell moves there, the grid and cell_list get updated and the innermost loop breaks. If there is no empty grid point, nothing happens. \n",
    "\n",
    "   "
   ]
  },
  {
   "cell_type": "markdown",
   "id": "d6c83095-1a0c-4534-b2ec-77ced67f4d83",
   "metadata": {},
   "source": [
    "#### Short interlude - Pass by value or by refernce "
   ]
  },
  {
   "cell_type": "markdown",
   "id": "7fcb3560-75b4-41c6-aa81-760de97f643b",
   "metadata": {},
   "source": [
    "You might be wondering aswell,  why the deepcopy function is used before we `push!()` the cell_list into the `Cell_list_alltime`. This is due to a concept that we haven't touched yet: [passing by reference](https://stackoverflow.com/questions/38936868/in-julia-functions-passed-by-reference-or-value). Essentially, it means that all mutable datatypes (like arrays, dicts,...) are not copied when they are assigned to a new variable. The new variable just points to the same already existing object in memory. See small example below:   "
   ]
  },
  {
   "cell_type": "code",
   "execution_count": 36,
   "id": "756a1edc-9f7d-45ca-8d21-ca2e3a9c8545",
   "metadata": {},
   "outputs": [
    {
     "name": "stdout",
     "output_type": "stream",
     "text": [
      "[2, 7777, 34]true\n",
      "[2, 5, 34]false\n"
     ]
    }
   ],
   "source": [
    "dieter = [2,5,34]\n",
    "dieter2 = dieter\n",
    "dieter2[2] = 7777\n",
    "#eventhough we haven't changed dieter it got modified as dieter2 is only a reference pointing to the same object\n",
    "println(dieter, dieter === dieter2)\n",
    "\n",
    "# the === operator checks if two variables are refering to the same object\n",
    "\n",
    "dieter3 = [2,5,34]\n",
    "dieter4 = deepcopy(dieter3)\n",
    "dieter4[2] = 7777\n",
    "#now dieter4 is a new object \n",
    "println(dieter3, dieter3 === dieter4)\n"
   ]
  },
  {
   "cell_type": "markdown",
   "id": "60057640-5ed3-40fa-a985-009f8f95d9db",
   "metadata": {},
   "source": [
    "Now lets excute the `update_sys` function and plot the cell positions in the last time step. "
   ]
  },
  {
   "cell_type": "code",
   "execution_count": 33,
   "id": "2ede28a6-fb90-471c-a0eb-a5c1591a63b8",
   "metadata": {
    "tags": []
   },
   "outputs": [
    {
     "data": {
      "text/plain": [
       "GLMakie.Screen(...)"
      ]
     },
     "execution_count": 33,
     "metadata": {},
     "output_type": "execute_result"
    }
   ],
   "source": [
    "cell_all = update_sys(grid,cell_list,gridsize,timesteps)\n",
    "\n",
    "fig2, ax2, scatty2 = plot_sim(cell_all[end],gridsize)\n",
    "display(fig2)"
   ]
  },
  {
   "cell_type": "markdown",
   "id": "762fbaa6-a7f8-4357-9642-ce936c06bd69",
   "metadata": {},
   "source": [
    "The cells have moved !. For more complex analysis it can be useful to convert the `cell_all` array into a dataframe.  "
   ]
  },
  {
   "cell_type": "markdown",
   "id": "96b593fe-228a-4ae5-a72f-0b32f480e553",
   "metadata": {},
   "source": [
    "You might be wondering why didn't we just simulate the cells directly on `DataFrames` instead of arrays. You could do that and in many cases it wouldn't make a big differnce, but `DataFrames` are slower and use more memory. Therefore, if you want to make your simulation scalable to big cell numbers and/or timesteps you should use arrays instead. "
   ]
  },
  {
   "cell_type": "code",
   "execution_count": 38,
   "id": "f9527366-82e9-491c-ad66-c10e3c8adaf1",
   "metadata": {},
   "outputs": [
    {
     "data": {
      "text/plain": [
       "convert_to_DF (generic function with 1 method)"
      ]
     },
     "execution_count": 38,
     "metadata": {},
     "output_type": "execute_result"
    }
   ],
   "source": [
    "function convert_to_DF(cell_list_alltime)\n",
    "    cell_number = length(cell_list_alltime[1])\n",
    "    Data = DataFrame(timestep = ones(Int64,cell_number),id= collect(1:cell_number),\n",
    "        x = [i[1] for i in cell_list_alltime[1]],y = [i[2] for i in cell_list_alltime[1]])\n",
    "    for j in 2:length(cell_list_alltime)\n",
    "        append!(Data,DataFrame(timestep = ones(Int64,cell_number).*j,id= collect(1:cell_number),\n",
    "                x = [i[1] for i in cell_list_alltime[j]],y = [i[2] for i in cell_list_alltime[j]]))\n",
    "    end\n",
    "    return Data\n",
    "end"
   ]
  },
  {
   "cell_type": "code",
   "execution_count": 39,
   "id": "e470944e-29d0-4b8e-bdb7-1cd01c024035",
   "metadata": {},
   "outputs": [
    {
     "data": {
      "text/plain": [
       "301"
      ]
     },
     "execution_count": 39,
     "metadata": {},
     "output_type": "execute_result"
    }
   ],
   "source": [
    "length(cell_all)"
   ]
  },
  {
   "cell_type": "code",
   "execution_count": 40,
   "id": "41fedd46-9996-4e1c-a40a-27e25d6e5740",
   "metadata": {},
   "outputs": [
    {
     "data": {
      "text/html": [
       "<div><div style = \"float: left;\"><span>58996×4 DataFrame</span></div><div style = \"float: right;\"><span style = \"font-style: italic;\">58971 rows omitted</span></div><div style = \"clear: both;\"></div></div><div class = \"data-frame\" style = \"overflow-x: scroll;\"><table class = \"data-frame\" style = \"margin-bottom: 6px;\"><thead><tr class = \"header\"><th class = \"rowNumber\" style = \"font-weight: bold; text-align: right;\">Row</th><th style = \"text-align: left;\">timestep</th><th style = \"text-align: left;\">id</th><th style = \"text-align: left;\">x</th><th style = \"text-align: left;\">y</th></tr><tr class = \"subheader headerLastRow\"><th class = \"rowNumber\" style = \"font-weight: bold; text-align: right;\"></th><th title = \"Int64\" style = \"text-align: left;\">Int64</th><th title = \"Int64\" style = \"text-align: left;\">Int64</th><th title = \"Int64\" style = \"text-align: left;\">Int64</th><th title = \"Int64\" style = \"text-align: left;\">Int64</th></tr></thead><tbody><tr><td class = \"rowNumber\" style = \"font-weight: bold; text-align: right;\">1</td><td style = \"text-align: right;\">1</td><td style = \"text-align: right;\">1</td><td style = \"text-align: right;\">44</td><td style = \"text-align: right;\">44</td></tr><tr><td class = \"rowNumber\" style = \"font-weight: bold; text-align: right;\">2</td><td style = \"text-align: right;\">1</td><td style = \"text-align: right;\">2</td><td style = \"text-align: right;\">44</td><td style = \"text-align: right;\">45</td></tr><tr><td class = \"rowNumber\" style = \"font-weight: bold; text-align: right;\">3</td><td style = \"text-align: right;\">1</td><td style = \"text-align: right;\">3</td><td style = \"text-align: right;\">44</td><td style = \"text-align: right;\">46</td></tr><tr><td class = \"rowNumber\" style = \"font-weight: bold; text-align: right;\">4</td><td style = \"text-align: right;\">1</td><td style = \"text-align: right;\">4</td><td style = \"text-align: right;\">44</td><td style = \"text-align: right;\">47</td></tr><tr><td class = \"rowNumber\" style = \"font-weight: bold; text-align: right;\">5</td><td style = \"text-align: right;\">1</td><td style = \"text-align: right;\">5</td><td style = \"text-align: right;\">44</td><td style = \"text-align: right;\">48</td></tr><tr><td class = \"rowNumber\" style = \"font-weight: bold; text-align: right;\">6</td><td style = \"text-align: right;\">1</td><td style = \"text-align: right;\">6</td><td style = \"text-align: right;\">44</td><td style = \"text-align: right;\">49</td></tr><tr><td class = \"rowNumber\" style = \"font-weight: bold; text-align: right;\">7</td><td style = \"text-align: right;\">1</td><td style = \"text-align: right;\">7</td><td style = \"text-align: right;\">44</td><td style = \"text-align: right;\">50</td></tr><tr><td class = \"rowNumber\" style = \"font-weight: bold; text-align: right;\">8</td><td style = \"text-align: right;\">1</td><td style = \"text-align: right;\">8</td><td style = \"text-align: right;\">44</td><td style = \"text-align: right;\">51</td></tr><tr><td class = \"rowNumber\" style = \"font-weight: bold; text-align: right;\">9</td><td style = \"text-align: right;\">1</td><td style = \"text-align: right;\">9</td><td style = \"text-align: right;\">44</td><td style = \"text-align: right;\">52</td></tr><tr><td class = \"rowNumber\" style = \"font-weight: bold; text-align: right;\">10</td><td style = \"text-align: right;\">1</td><td style = \"text-align: right;\">10</td><td style = \"text-align: right;\">44</td><td style = \"text-align: right;\">53</td></tr><tr><td class = \"rowNumber\" style = \"font-weight: bold; text-align: right;\">11</td><td style = \"text-align: right;\">1</td><td style = \"text-align: right;\">11</td><td style = \"text-align: right;\">44</td><td style = \"text-align: right;\">54</td></tr><tr><td class = \"rowNumber\" style = \"font-weight: bold; text-align: right;\">12</td><td style = \"text-align: right;\">1</td><td style = \"text-align: right;\">12</td><td style = \"text-align: right;\">44</td><td style = \"text-align: right;\">55</td></tr><tr><td class = \"rowNumber\" style = \"font-weight: bold; text-align: right;\">13</td><td style = \"text-align: right;\">1</td><td style = \"text-align: right;\">13</td><td style = \"text-align: right;\">44</td><td style = \"text-align: right;\">56</td></tr><tr><td style = \"text-align: right;\">&vellip;</td><td style = \"text-align: right;\">&vellip;</td><td style = \"text-align: right;\">&vellip;</td><td style = \"text-align: right;\">&vellip;</td><td style = \"text-align: right;\">&vellip;</td></tr><tr><td class = \"rowNumber\" style = \"font-weight: bold; text-align: right;\">58985</td><td style = \"text-align: right;\">301</td><td style = \"text-align: right;\">185</td><td style = \"text-align: right;\">51</td><td style = \"text-align: right;\">31</td></tr><tr><td class = \"rowNumber\" style = \"font-weight: bold; text-align: right;\">58986</td><td style = \"text-align: right;\">301</td><td style = \"text-align: right;\">186</td><td style = \"text-align: right;\">56</td><td style = \"text-align: right;\">44</td></tr><tr><td class = \"rowNumber\" style = \"font-weight: bold; text-align: right;\">58987</td><td style = \"text-align: right;\">301</td><td style = \"text-align: right;\">187</td><td style = \"text-align: right;\">62</td><td style = \"text-align: right;\">59</td></tr><tr><td class = \"rowNumber\" style = \"font-weight: bold; text-align: right;\">58988</td><td style = \"text-align: right;\">301</td><td style = \"text-align: right;\">188</td><td style = \"text-align: right;\">83</td><td style = \"text-align: right;\">27</td></tr><tr><td class = \"rowNumber\" style = \"font-weight: bold; text-align: right;\">58989</td><td style = \"text-align: right;\">301</td><td style = \"text-align: right;\">189</td><td style = \"text-align: right;\">93</td><td style = \"text-align: right;\">65</td></tr><tr><td class = \"rowNumber\" style = \"font-weight: bold; text-align: right;\">58990</td><td style = \"text-align: right;\">301</td><td style = \"text-align: right;\">190</td><td style = \"text-align: right;\">90</td><td style = \"text-align: right;\">83</td></tr><tr><td class = \"rowNumber\" style = \"font-weight: bold; text-align: right;\">58991</td><td style = \"text-align: right;\">301</td><td style = \"text-align: right;\">191</td><td style = \"text-align: right;\">73</td><td style = \"text-align: right;\">48</td></tr><tr><td class = \"rowNumber\" style = \"font-weight: bold; text-align: right;\">58992</td><td style = \"text-align: right;\">301</td><td style = \"text-align: right;\">192</td><td style = \"text-align: right;\">65</td><td style = \"text-align: right;\">32</td></tr><tr><td class = \"rowNumber\" style = \"font-weight: bold; text-align: right;\">58993</td><td style = \"text-align: right;\">301</td><td style = \"text-align: right;\">193</td><td style = \"text-align: right;\">58</td><td style = \"text-align: right;\">68</td></tr><tr><td class = \"rowNumber\" style = \"font-weight: bold; text-align: right;\">58994</td><td style = \"text-align: right;\">301</td><td style = \"text-align: right;\">194</td><td style = \"text-align: right;\">67</td><td style = \"text-align: right;\">76</td></tr><tr><td class = \"rowNumber\" style = \"font-weight: bold; text-align: right;\">58995</td><td style = \"text-align: right;\">301</td><td style = \"text-align: right;\">195</td><td style = \"text-align: right;\">77</td><td style = \"text-align: right;\">57</td></tr><tr><td class = \"rowNumber\" style = \"font-weight: bold; text-align: right;\">58996</td><td style = \"text-align: right;\">301</td><td style = \"text-align: right;\">196</td><td style = \"text-align: right;\">50</td><td style = \"text-align: right;\">59</td></tr></tbody></table></div>"
      ],
      "text/latex": [
       "\\begin{tabular}{r|cccc}\n",
       "\t& timestep & id & x & y\\\\\n",
       "\t\\hline\n",
       "\t& Int64 & Int64 & Int64 & Int64\\\\\n",
       "\t\\hline\n",
       "\t1 & 1 & 1 & 44 & 44 \\\\\n",
       "\t2 & 1 & 2 & 44 & 45 \\\\\n",
       "\t3 & 1 & 3 & 44 & 46 \\\\\n",
       "\t4 & 1 & 4 & 44 & 47 \\\\\n",
       "\t5 & 1 & 5 & 44 & 48 \\\\\n",
       "\t6 & 1 & 6 & 44 & 49 \\\\\n",
       "\t7 & 1 & 7 & 44 & 50 \\\\\n",
       "\t8 & 1 & 8 & 44 & 51 \\\\\n",
       "\t9 & 1 & 9 & 44 & 52 \\\\\n",
       "\t10 & 1 & 10 & 44 & 53 \\\\\n",
       "\t11 & 1 & 11 & 44 & 54 \\\\\n",
       "\t12 & 1 & 12 & 44 & 55 \\\\\n",
       "\t13 & 1 & 13 & 44 & 56 \\\\\n",
       "\t14 & 1 & 14 & 44 & 57 \\\\\n",
       "\t15 & 1 & 15 & 45 & 44 \\\\\n",
       "\t16 & 1 & 16 & 45 & 45 \\\\\n",
       "\t17 & 1 & 17 & 45 & 46 \\\\\n",
       "\t18 & 1 & 18 & 45 & 47 \\\\\n",
       "\t19 & 1 & 19 & 45 & 48 \\\\\n",
       "\t20 & 1 & 20 & 45 & 49 \\\\\n",
       "\t21 & 1 & 21 & 45 & 50 \\\\\n",
       "\t22 & 1 & 22 & 45 & 51 \\\\\n",
       "\t23 & 1 & 23 & 45 & 52 \\\\\n",
       "\t24 & 1 & 24 & 45 & 53 \\\\\n",
       "\t25 & 1 & 25 & 45 & 54 \\\\\n",
       "\t26 & 1 & 26 & 45 & 55 \\\\\n",
       "\t27 & 1 & 27 & 45 & 56 \\\\\n",
       "\t28 & 1 & 28 & 45 & 57 \\\\\n",
       "\t29 & 1 & 29 & 46 & 44 \\\\\n",
       "\t30 & 1 & 30 & 46 & 45 \\\\\n",
       "\t$\\dots$ & $\\dots$ & $\\dots$ & $\\dots$ & $\\dots$ \\\\\n",
       "\\end{tabular}\n"
      ],
      "text/plain": [
       "\u001b[1m58996×4 DataFrame\u001b[0m\n",
       "\u001b[1m   Row \u001b[0m│\u001b[1m timestep \u001b[0m\u001b[1m id    \u001b[0m\u001b[1m x     \u001b[0m\u001b[1m y     \u001b[0m\n",
       "       │\u001b[90m Int64    \u001b[0m\u001b[90m Int64 \u001b[0m\u001b[90m Int64 \u001b[0m\u001b[90m Int64 \u001b[0m\n",
       "───────┼───────────────────────────────\n",
       "     1 │        1      1     44     44\n",
       "     2 │        1      2     44     45\n",
       "     3 │        1      3     44     46\n",
       "     4 │        1      4     44     47\n",
       "     5 │        1      5     44     48\n",
       "     6 │        1      6     44     49\n",
       "     7 │        1      7     44     50\n",
       "     8 │        1      8     44     51\n",
       "     9 │        1      9     44     52\n",
       "    10 │        1     10     44     53\n",
       "    11 │        1     11     44     54\n",
       "   ⋮   │    ⋮        ⋮      ⋮      ⋮\n",
       " 58987 │      301    187     62     59\n",
       " 58988 │      301    188     83     27\n",
       " 58989 │      301    189     93     65\n",
       " 58990 │      301    190     90     83\n",
       " 58991 │      301    191     73     48\n",
       " 58992 │      301    192     65     32\n",
       " 58993 │      301    193     58     68\n",
       " 58994 │      301    194     67     76\n",
       " 58995 │      301    195     77     57\n",
       " 58996 │      301    196     50     59\n",
       "\u001b[36m                     58975 rows omitted\u001b[0m"
      ]
     },
     "execution_count": 40,
     "metadata": {},
     "output_type": "execute_result"
    }
   ],
   "source": [
    "data = convert_to_DF(cell_all)"
   ]
  },
  {
   "cell_type": "markdown",
   "id": "9257b340-e186-4c91-b438-4ee7d926b4b7",
   "metadata": {},
   "source": [
    "Now we could use many of the tools for `DataFrames` which we have learned in the data_analysis notebook. But the first thing to do is to save the data as a csv file with the `CSV` package so that also other people could read and use the data we have created. "
   ]
  },
  {
   "cell_type": "code",
   "execution_count": 41,
   "id": "50cec78a-f537-4fef-b208-df00d455e1d5",
   "metadata": {},
   "outputs": [
    {
     "data": {
      "text/plain": [
       "\"100_positions.csv\""
      ]
     },
     "execution_count": 41,
     "metadata": {},
     "output_type": "execute_result"
    }
   ],
   "source": [
    "CSV.write(\"$(gridsize)_positions.csv\",data)"
   ]
  },
  {
   "cell_type": "markdown",
   "id": "a0ff65b3-2e59-4196-bda3-3bf07c380301",
   "metadata": {},
   "source": [
    "It is also good practice to save a settings file which includes all the parameter of the simulation together with your raw data. The easiest way to do that is to use an `dict`. "
   ]
  },
  {
   "cell_type": "code",
   "execution_count": 42,
   "id": "a5fd00fc-e9da-4d52-a023-8a4b424db688",
   "metadata": {},
   "outputs": [
    {
     "data": {
      "text/plain": [
       "save_settings (generic function with 1 method)"
      ]
     },
     "execution_count": 42,
     "metadata": {},
     "output_type": "execute_result"
    }
   ],
   "source": [
    "function save_settings(Gridsize,Cell_number,Timesteps,Starting_config)\n",
    "    settings = Dict(\"gridsize\" => Gridsize, \"cell_number\" => Cell_number, \n",
    "        \"timesteps\" =>Timesteps, \"starting_config\" => Starting_config)\n",
    "    open(\"settings.txt\",\"w\") do file\n",
    "        print(file,settings)\n",
    "    end \n",
    "end"
   ]
  },
  {
   "cell_type": "markdown",
   "id": "eb6317b9-4d50-4453-b483-7496c13c7c64",
   "metadata": {},
   "source": [
    " ### 10.6 Putting everything together\n",
    " Because we ecapsulated all our simulation steps into functions we can now write a whole simulation in one cell. This time we are using the \"square\" starting config. "
   ]
  },
  {
   "cell_type": "code",
   "execution_count": 107,
   "id": "a238226e-70bc-4b94-89da-8b5e12ddc811",
   "metadata": {},
   "outputs": [
    {
     "data": {
      "text/plain": [
       "GLMakie.Screen(...)"
      ]
     },
     "execution_count": 107,
     "metadata": {},
     "output_type": "execute_result"
    }
   ],
   "source": [
    "gridsize = 200                               \n",
    "cell_number = 1000                         \n",
    "timesteps = 200                           \n",
    "starting_config = \"square\"\n",
    "\n",
    "grid, cell_list = create_objects(gridsize, cell_number)\n",
    "grid, cell_list, cell_number = populate_sys!(grid, cell_list, starting_config,gridsize, cell_number)\n",
    "cell_all_2 = update_sys(grid,cell_list,gridsize,timesteps)\n",
    "data2 = convert_to_DF(cell_all_2)\n",
    "CSV.write(\"$(gridsize)_positions.csv\",data2)\n",
    "save_settings(gridsize,cell_number,timesteps,starting_config)\n",
    "fig3,ax3, scatty3 =plot_sim(cell_all_2[end],gridsize)\n",
    "display(fig3)"
   ]
  },
  {
   "cell_type": "markdown",
   "id": "901fe817-6e0c-41a5-93f6-e5796d3e4ac3",
   "metadata": {},
   "source": [
    "### 10.7 Outlook: Let's make a beautiful animation :=)\n",
    "You don't need to understand everything in this chapter as concepts are used that have not been introduced yet. This should serve the purpose of showing you what is possible in Julia and also give you a very nice looking finish of this course. So sit back and enjoy ;).  \n",
    "If you are interested in understanding what's going on here: Watch this [video](https://www.youtube.com/watch?v=L-gyDvhjzGQ ) of the brilliant Julia developer George Datseris where he explains all the concepts needed to undestand the code below. "
   ]
  },
  {
   "cell_type": "markdown",
   "id": "85661b36-0a0c-4483-9fed-df24eb0df564",
   "metadata": {},
   "source": [
    "#### Short summary: \n",
    "We are creating a function for a 2D animation and one for a 3D animation. Both need a grouped dataframe as argument together with the gridsize. Both functions return an figure object and a variable called t which represents the timesteps and an object of type `Observable`. This `Observable` has the special ability that all objects that depend on it (in this case x,y,r,titel and the fig itself) get automatically updated when it changes. Therefore, the `run_animation` function for both 2D and 3D is the same and just slowly increases the timesteps t. The plot then automatically updates :).\n",
    "\n",
    "Note: Compared to other plotting packages like `matplotlib` in Python or `ggplot` in R this is a very different way to create animations or videos. The big advantage of the `Observable` based approach is that you don't have to define a new plot object for every frame, you just need to specify what has changed between frames. Together with the gpu accelaration, this allows a much higher performance.  "
   ]
  },
  {
   "cell_type": "code",
   "execution_count": 131,
   "id": "2e7b80a5-c2a0-4b2a-8f65-a3e614df7e57",
   "metadata": {},
   "outputs": [
    {
     "data": {
      "text/plain": [
       "animation_2D (generic function with 1 method)"
      ]
     },
     "execution_count": 131,
     "metadata": {},
     "output_type": "execute_result"
    }
   ],
   "source": [
    "function animation_2D(Data_gr,Gridsize) \n",
    "    t = Observable(1)\n",
    "    x = @lift(Data_gr[$t].:x)\n",
    "    y = @lift(Data_gr[$t].:y)\n",
    "    r = @lift((($x.-Gridsize/2).^2+($y.-Gridsize/2).^2).^(1/2))\n",
    "    titel = @lift(string($t))\n",
    "\n",
    "    set_theme!(theme_black())\n",
    "\n",
    "    fig6 = Figure(resolution = (1000,1000))\n",
    "    ax6 =Axis(fig6[1,1],title = @lift(\"timestep : $(round(Int64,$t))\"),titlesize = 35)\n",
    "    xlims!(ax6,0,Gridsize)\n",
    "    ylims!(ax6,0,Gridsize)\n",
    "    scatty6 = scatter!(ax6,x,y,color = r,colormap = :dense,label = \"particle\",marker = :circle,markersize = 15)\n",
    "\n",
    "    #hidedecorations!(ax6)\n",
    "    axislegend(ax6)\n",
    "    display(fig6)\n",
    "    return t,fig6\n",
    "end"
   ]
  },
  {
   "cell_type": "code",
   "execution_count": 128,
   "id": "2bf14072-2b10-4f9c-92cc-14c760dcbfd6",
   "metadata": {},
   "outputs": [
    {
     "data": {
      "text/plain": [
       "animation_3D (generic function with 1 method)"
      ]
     },
     "execution_count": 128,
     "metadata": {},
     "output_type": "execute_result"
    }
   ],
   "source": [
    "function animation_3D(Data_gr,Gridsize) \n",
    "    \n",
    "    # make sure that camera flight is not too fast\n",
    "    if length(Data_gr) >= 1000\n",
    "        len = length(Data_gr)\n",
    "    else\n",
    "        len = 1000\n",
    "    end\n",
    "    t = Observable(1)\n",
    "    \n",
    "    x = @lift(Data_gr[$t].:x)\n",
    "    y = @lift(Data_gr[$t].:y)\n",
    "    r = @lift((($x.-Gridsize/2).^2+($y.-Gridsize/2).^2).^(1/2))\n",
    "    titel = @lift(string($t))\n",
    "   \n",
    "    # define the camera angle\n",
    "    elevations = range(start = -2π,stop = 2π, length = len)\n",
    "    azimuths = range(start = 0,stop = 2π, length = len)\n",
    "    z = zeros(length(Data_gr[1].:x))\n",
    "    set_theme!(theme_black())\n",
    "\n",
    "    fig7 = Figure(resolution = (2000,2000))\n",
    "    ax7 =Axis3(fig7[1,1],\n",
    "        title = @lift(\"timestep : $(round(Int64,$t))\"),\n",
    "        elevation =@lift(elevations[$t])  , azimuth = @lift(azimuths[$t]),\n",
    "        viewmode = :fit,\n",
    "        titlesize = 35,protrusions = (0, 0, 0, 40)\n",
    "        )   \n",
    "\n",
    "    xlims!(ax7,0,Gridsize)\n",
    "    ylims!(ax7,0,Gridsize)\n",
    "    zlims!(-Gridsize/2,Gridsize/2)\n",
    "\n",
    "    scatty7 = scatty = meshscatter!(ax7,x,y,z,markersize = 2.5,color = r,\n",
    "        colormap = :diverging_gkr_60_10_c40_n256\n",
    "        ,label = \"particle\")\n",
    "    #hidedecorations!(ax7)\n",
    "    display(fig7)\n",
    "    return t,fig7\n",
    "end"
   ]
  },
  {
   "cell_type": "markdown",
   "id": "052200c8-5170-4539-af12-5b73e3da7417",
   "metadata": {},
   "source": [
    "Additonally we have to define a function for running the animation and one for running & saving the animation into a video. As all the plotting feature have already been specified in the `animation_2D()` resp. `animation_3D()`. These functions only increment the `Observable` timestep by 1 for every frame. "
   ]
  },
  {
   "cell_type": "code",
   "execution_count": 1,
   "id": "8fa9f011-bc52-4b7a-ab42-39ad34ade3ca",
   "metadata": {},
   "outputs": [
    {
     "data": {
      "text/plain": [
       "run_animation (generic function with 1 method)"
      ]
     },
     "execution_count": 1,
     "metadata": {},
     "output_type": "execute_result"
    }
   ],
   "source": [
    "function run_animation(T,Timesteps)\n",
    "    @async for i in 2:1:Timesteps\n",
    "        T[] = T[]+1\n",
    "        sleep(0.05)\n",
    "    end\n",
    "    T[] = 1\n",
    "end"
   ]
  },
  {
   "cell_type": "code",
   "execution_count": 2,
   "id": "225ba746-e793-4ff0-a692-1e3485671f4b",
   "metadata": {},
   "outputs": [
    {
     "data": {
      "text/plain": [
       "save_animation (generic function with 1 method)"
      ]
     },
     "execution_count": 2,
     "metadata": {},
     "output_type": "execute_result"
    }
   ],
   "source": [
    "function save_animation(T,Fig,Data_gr)\n",
    "    record(Fig, \"beautiful2.mp4\",1:length(Data_gr); framerate = 30) do i\n",
    "    T[] = i\n",
    "    end\n",
    "end"
   ]
  },
  {
   "cell_type": "markdown",
   "id": "e957c76e-b6e4-4d56-bf4b-07a77871e09d",
   "metadata": {},
   "source": [
    "Comment: You might be thinking that animating a 2D system in 3D is quite stupid and unneccessary. And you're right. From a scientifc perspective that doesn't make much sense. But in this case, it serves other purposes:  \n",
    "\n",
    "1. 2D and 3D plots/animations are quite similar (only add z-coordinate and define camera)\n",
    "2. They can be updated, handled and saved with the same functions  \n",
    "3. 3D is beautiful ;) "
   ]
  },
  {
   "cell_type": "markdown",
   "id": "346d0e46-ef93-4b92-b767-416f77086120",
   "metadata": {},
   "source": [
    "Lets create some data to run an animation. "
   ]
  },
  {
   "cell_type": "code",
   "execution_count": 112,
   "id": "9cd416dd-a61b-4089-a554-f5be6ff8ddb4",
   "metadata": {},
   "outputs": [],
   "source": [
    "data_gr= groupby(data2,:timestep);"
   ]
  },
  {
   "cell_type": "code",
   "execution_count": 113,
   "id": "079516d6-6cb7-4bd8-953d-77e527ee1235",
   "metadata": {},
   "outputs": [],
   "source": [
    "t,fig_2d = animation_2D(data_gr,gridsize);"
   ]
  },
  {
   "cell_type": "markdown",
   "id": "3cd68822-4c96-4e4b-894a-71bc6e150606",
   "metadata": {},
   "source": [
    "Run the 2D animation:"
   ]
  },
  {
   "cell_type": "code",
   "execution_count": 114,
   "id": "d19ba7be-9d06-429f-8890-c1a9d5541754",
   "metadata": {},
   "outputs": [
    {
     "data": {
      "text/plain": [
       "1"
      ]
     },
     "execution_count": 114,
     "metadata": {},
     "output_type": "execute_result"
    }
   ],
   "source": [
    "run_animation(t,timesteps)"
   ]
  },
  {
   "cell_type": "markdown",
   "id": "cc85bcc1-0ee5-42ff-a051-f2518518d1bb",
   "metadata": {},
   "source": [
    "Create a 3D animation: "
   ]
  },
  {
   "cell_type": "code",
   "execution_count": 129,
   "id": "58997188-24b5-4a12-8bc9-4ef3a12549ae",
   "metadata": {},
   "outputs": [],
   "source": [
    "t3,fig_3d = animation_3D(data_gr,gridsize);"
   ]
  },
  {
   "cell_type": "markdown",
   "id": "768bc602-6f2e-4b7f-b4ba-f8c1b175856f",
   "metadata": {},
   "source": [
    "Run the 2D animation:"
   ]
  },
  {
   "cell_type": "code",
   "execution_count": 130,
   "id": "246d4fa7-140a-44ab-a2c7-394123f782c3",
   "metadata": {},
   "outputs": [
    {
     "data": {
      "text/plain": [
       "1"
      ]
     },
     "execution_count": 130,
     "metadata": {},
     "output_type": "execute_result"
    }
   ],
   "source": [
    "run_animation(t3,timesteps)"
   ]
  },
  {
   "cell_type": "markdown",
   "id": "b7c733e8-4e22-4168-9b81-8375de722b2f",
   "metadata": {},
   "source": [
    "## Exercises"
   ]
  },
  {
   "cell_type": "markdown",
   "id": "0a80719a-1910-4006-bd77-159847df102b",
   "metadata": {},
   "source": [
    "### <p style='color: green'>easy</p>"
   ]
  },
  {
   "cell_type": "markdown",
   "id": "132ad6cc-a714-43f7-9a2f-82e10f4bd43c",
   "metadata": {},
   "source": [
    "1. Make some simulations for very small and very big systems and admire the beautiful animations."
   ]
  },
  {
   "cell_type": "markdown",
   "id": "b20fd8a7-0919-4947-bb8e-c0d34b5d53f8",
   "metadata": {},
   "source": [
    "2. The colorscheme used in the 3D animation is not very friendly to people with a red-green weakness. Change that to a more friendly colorscheme. If you don't remember where to find a list of the available colorschemes, take a second look at the plotting chapter of this course. "
   ]
  },
  {
   "cell_type": "markdown",
   "id": "073b0692-9a26-49c7-86f5-d1259a874b22",
   "metadata": {},
   "source": [
    "3. Use the `save_animation()` function to save your favorite simulation as a video.  "
   ]
  },
  {
   "cell_type": "markdown",
   "id": "b69fef18-9105-4175-98b4-49db63bd6513",
   "metadata": {},
   "source": [
    "### <p style='color: orange'>medium</p>"
   ]
  },
  {
   "cell_type": "markdown",
   "id": "b545eff2-92b5-4407-b122-d13dc125a6ff",
   "metadata": {},
   "source": [
    "4. Define a new parameter `name` which should be part of the name of all created files of the simulation (csv, settingsfile, video). Change all involved functions accordingly. "
   ]
  },
  {
   "cell_type": "markdown",
   "id": "7efbbb5e-bc65-4ce6-8ddc-52ca3a1d9f9b",
   "metadata": {},
   "source": [
    "5. Normally you wouldn't put such long function definitions into a jupyter notebook and then use them in same jupyter notebook below. Typically you would put them into an external file and import them at the beginning. Take a look how `include()` works : https://docs.julialang.org/en/v1/manual/code-loading/. Create a `test.jl` file with an example function written by you and include it into a jupyter notebook and execute it there.   "
   ]
  },
  {
   "cell_type": "markdown",
   "id": "6e0dc618-5019-4c25-8ab8-c168605b468a",
   "metadata": {},
   "source": [
    "6. Put all the functions defined here into a `random_walk.jl` file include them into a new juypter notebook called `executor.ipynb` and run the simulation and animation there. \n"
   ]
  },
  {
   "cell_type": "markdown",
   "id": "20323fbd-955d-49f4-946f-0d8ac7046cf5",
   "metadata": {},
   "source": [
    "7. Change the movement of the cells by changing the `update_sys()` function to `update_sys_bias()` in `random_walk.jl`. Remove one of the possible movement vectors on the grid to give them a bias in a certain direction. How does the result change for long timespans? Save an video of your changed simulation. \n",
    "\n",
    "Hint: If you are changing a `.jl` you have to include it again, so that the changes are active in the Julia session. "
   ]
  },
  {
   "cell_type": "markdown",
   "id": "a955f345-54ae-4a2e-863b-cec058a93631",
   "metadata": {},
   "source": [
    "### <p style='color: red'>hard</p>\n"
   ]
  },
  {
   "cell_type": "markdown",
   "id": "2c3e16b9-3702-4fce-8266-4d3b738ddf89",
   "metadata": {},
   "source": [
    "8. The starting configuration in a square is not very realistic, add another option in the `populate_sys!` that puts the cells into a circle. "
   ]
  },
  {
   "cell_type": "markdown",
   "id": "c9b78e0e-7bbb-49b6-8d0b-14256425d7fb",
   "metadata": {},
   "source": [
    "### <p style='color: red'>Very hard - Only do when you want to punish yourself</p>"
   ]
  },
  {
   "cell_type": "markdown",
   "id": "9c25b6c3-6f29-4b36-8a75-8f2a40b6005c",
   "metadata": {},
   "source": [
    "9. A typically way to quantify random walk is the mean squared displacement [(MSD)](https://en.wikipedia.org/wiki/Mean_squared_displacement). Make a simulation run with the following parameters: \n",
    "```julia\n",
    "gridsize = 1000                               \n",
    "cell_number = 1000                         \n",
    "timesteps = 5000                           \n",
    "starting_config = \"random\"\n",
    "name = \"msd\"\n",
    "```\n",
    "Use the created dataframe to calculate the MSD. Plot the MSD against time in a line plot and save it. What behaviour do we see and what would we expect from a [random walk](https://en.wikipedia.org/wiki/Anomalous_diffusion)? "
   ]
  },
  {
   "cell_type": "code",
   "execution_count": null,
   "id": "2420ccaa-e400-4d3d-ac22-d1d76f301c7e",
   "metadata": {},
   "outputs": [],
   "source": []
  },
  {
   "cell_type": "code",
   "execution_count": null,
   "id": "7454c8bc-02b2-4cac-aa6d-9d6fa57fb145",
   "metadata": {},
   "outputs": [],
   "source": []
  }
 ],
 "metadata": {
  "kernelspec": {
   "display_name": "Julia 1.9.0",
   "language": "julia",
   "name": "julia-1.9"
  },
  "language_info": {
   "file_extension": ".jl",
   "mimetype": "application/julia",
   "name": "julia",
   "version": "1.9.0"
  }
 },
 "nbformat": 4,
 "nbformat_minor": 5
}
