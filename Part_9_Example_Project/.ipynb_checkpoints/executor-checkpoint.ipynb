{
 "cells": [
  {
   "cell_type": "markdown",
   "id": "04d6092a-6822-4d63-898c-ac80635df693",
   "metadata": {},
   "source": [
    "#### Exercise 6\n",
    "Put all the functions defined here into a `random_walk.jl` file include them into a new juypter notebook called `executor.ipynb` and run the simulation and animation there. \n",
    "#### Solution 6"
   ]
  },
  {
   "cell_type": "code",
   "execution_count": 1,
   "id": "07fed36d-5221-4742-9b32-57689ad82df3",
   "metadata": {},
   "outputs": [
    {
     "data": {
      "text/plain": [
       "save_settings (generic function with 1 method)"
      ]
     },
     "execution_count": 1,
     "metadata": {},
     "output_type": "execute_result"
    }
   ],
   "source": [
    "include(\"random_walk.jl\")"
   ]
  },
  {
   "cell_type": "code",
   "execution_count": 2,
   "id": "4ea7ee9b-1e89-450e-b2b9-89d86b87f0e4",
   "metadata": {},
   "outputs": [
    {
     "ename": "LoadError",
     "evalue": "UndefVarError: convert_to_DF not defined",
     "output_type": "error",
     "traceback": [
      "UndefVarError: convert_to_DF not defined",
      "",
      "Stacktrace:",
      " [1] top-level scope",
      "   @ In[2]:10"
     ]
    }
   ],
   "source": [
    "gridsize = 210                               \n",
    "cell_number = 1000                         \n",
    "timesteps = 400                           \n",
    "starting_config = \"square\"\n",
    "name = \"executor_sim\"\n",
    "\n",
    "grid, cell_list = create_objects(gridsize, cell_number)\n",
    "grid, cell_list, cell_number = populate_sys!(grid, cell_list, \"square\",gridsize, cell_number)\n",
    "cell_all_2 = update_sys(grid,cell_list,gridsize,timesteps)\n",
    "data2 = convert_to_DF(cell_all_2)\n",
    "save_settings(gridsize, cell_number, timesteps, starting_config, name)\n",
    "CSV.write(\"$(name).csv\",data2)\n",
    "data_gr= groupby(data2,:timestep);\n",
    "\n",
    "t, fig = animation_2D(data_gr, gridsize)\n",
    "save_animation(t,fig, data_gr, name) "
   ]
  },
  {
   "cell_type": "code",
   "execution_count": null,
   "id": "1ae2cacd-b723-41d7-a2b1-5ef46f190554",
   "metadata": {},
   "outputs": [],
   "source": []
  }
 ],
 "metadata": {
  "kernelspec": {
   "display_name": "Julia 1.8.5",
   "language": "julia",
   "name": "julia-1.8"
  },
  "language_info": {
   "file_extension": ".jl",
   "mimetype": "application/julia",
   "name": "julia",
   "version": "1.8.5"
  }
 },
 "nbformat": 4,
 "nbformat_minor": 5
}
