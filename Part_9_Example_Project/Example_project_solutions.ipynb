{
 "cells": [
  {
   "cell_type": "markdown",
   "id": "88ad6355-a8be-4f0c-8fb1-089ddc05f836",
   "metadata": {},
   "source": [
    "## 9. Example Project\n",
    "###  Sample Solutions "
   ]
  },
  {
   "cell_type": "markdown",
   "id": "dc6292eb-82d6-4ac2-9cf8-73d34b2d9b57",
   "metadata": {},
   "source": [
    "Copy and past all neccessary functions from lesson notebook"
   ]
  },
  {
   "cell_type": "code",
   "execution_count": 1,
   "id": "8fead05d-9a7a-4703-9de0-989ab36b7e62",
   "metadata": {},
   "outputs": [],
   "source": [
    "using CSV, DataFrames\n",
    "using GLMakie,ColorSchemes, Random"
   ]
  },
  {
   "cell_type": "code",
   "execution_count": 2,
   "id": "fb189549-6c7e-456d-8373-7354f67ba02d",
   "metadata": {},
   "outputs": [
    {
     "data": {
      "text/plain": [
       "populate_sys! (generic function with 1 method)"
      ]
     },
     "execution_count": 2,
     "metadata": {},
     "output_type": "execute_result"
    }
   ],
   "source": [
    "function create_objects(Gridsize, Cell_number)\n",
    "    Grid = zeros(Int64, Gridsize, Gridsize)\n",
    "    Cell_list = Vector{Vector{Int64}}(undef,0)\n",
    "    return Grid, Cell_list\n",
    "end\n",
    "\n",
    "function populate_sys!(Grid, Cell_list, Starting_config,Gridsize, Cell_number) \n",
    "    if Starting_config == \"random\"\n",
    "        i = 1\n",
    "        while i <= Cell_number\n",
    "            x = rand(1:Gridsize)\n",
    "            y = rand(1:Gridsize)\n",
    "            if Grid[x,y] == 0 \n",
    "                Grid[x,y] = i\n",
    "                push!(Cell_list,[x,y])\n",
    "                i += 1\n",
    "            end\n",
    "        end\n",
    "    end\n",
    "    if Starting_config == \"square\"\n",
    "        #calculate edge length of square of cells\n",
    "        Edge_length = round(Int64,sqrt(Cell_number))\n",
    "        # round cell_number to closest square number\n",
    "        Cell_number = Edge_length^2\n",
    "        #calculate starting x and y value of corner of square on grid\n",
    "        X_corner = round(Int64,Gridsize/2-Edge_length/2)\n",
    "        Y_corner = round(Int64,Gridsize/2-Edge_length/2)\n",
    "        #all the rounding is needed to get to discrete grid points\n",
    "        i = 1\n",
    "        for x = 1:Edge_length\n",
    "            for y = 1:Edge_length\n",
    "                Grid[X_corner+x, Y_corner+y] = i\n",
    "                push!(Cell_list,[X_corner+x,Y_corner+y])\n",
    "                i += 1\n",
    "            end\n",
    "        end\n",
    "    end\n",
    "    #return everything that could have changed\n",
    "    return Grid, Cell_list, Cell_number\n",
    "end"
   ]
  },
  {
   "cell_type": "code",
   "execution_count": 3,
   "id": "4d28c4c5-1278-4ecf-b40b-65649cce9867",
   "metadata": {},
   "outputs": [
    {
     "data": {
      "text/plain": [
       "plot_sim (generic function with 1 method)"
      ]
     },
     "execution_count": 3,
     "metadata": {},
     "output_type": "execute_result"
    }
   ],
   "source": [
    "function plot_sim(Cell_list, Gridsize)\n",
    "    # make plot look nicer in black ; )\n",
    "    set_theme!(theme_black())\n",
    "\n",
    "    # using array comprehensions to create positions array of x and y\n",
    "    x = [i[1] for i in Cell_list]\n",
    "    y = [i[2] for i in Cell_list]\n",
    "    # calculate the distance r for every cell fromm the center\n",
    "    \n",
    "    ## explain better \n",
    "    r = (((x.-Gridsize/2).^2+(y.-Gridsize/2).^2).^(1/2))\n",
    "\n",
    "    Fig1 = Figure(resolution = (1000,1000))\n",
    "    Ax1 =Axis(Fig1[1,1],title = \"Startconfig\",titlesize = 35)\n",
    "    xlims!(Ax1,0,Gridsize)\n",
    "    ylims!(Ax1,0,Gridsize)\n",
    "    # using the distance r together with a colormap to give the cells different colors\n",
    "    Scatty = scatter!(Ax1,x,y,color = r,colormap = :dense,label = \"particle\",marker = :circle,markersize = 8)\n",
    "\n",
    "    return Fig1, Ax1 , Scatty\n",
    "end"
   ]
  },
  {
   "cell_type": "code",
   "execution_count": 4,
   "id": "cb27d2c6-9fe9-4dd8-8be5-11c483f22622",
   "metadata": {},
   "outputs": [
    {
     "data": {
      "text/plain": [
       "update_sys (generic function with 1 method)"
      ]
     },
     "execution_count": 4,
     "metadata": {},
     "output_type": "execute_result"
    }
   ],
   "source": [
    "function update_sys(Grid, Cell_list, Gridsize,Timesteps)\n",
    "    Cell_list_alltime =  Vector{Vector{Vector{Int64}}}(undef,0)           # super cell list which contains one cell_list per timestep \n",
    "    mov_vec = [[0,1],[0,-1],[1,0],[-1,0],[1,1],[-1,-1],[-1,1],[1,-1]]     #possible movement vectors to the next gridpoint\n",
    "    sequence_vec = collect(1:8)                                           # sequence_vec is used to acess the mov_vec\n",
    "    \n",
    "    \n",
    "    Cell_list_copy = deepcopy(Cell_list)                                  # make real copy (no reference) of Cell_list and push it into cell_list altime \n",
    "    push!(Cell_list_alltime,Cell_list_copy)\n",
    "    for t = 1:Timesteps\n",
    "        for (j,Cell) in  enumerate(Cell_list)\n",
    "            shuffle!(sequence_vec)                                        # use shuffle function from random to esure random movement of particles\n",
    "            for sque in sequence_vec\n",
    "                x_next = Cell[1] + mov_vec[sque][1]\n",
    "                y_next = Cell[2] + mov_vec[sque][2]\n",
    "                \n",
    "                if x_next >= 1 && x_next <= Gridsize && y_next >= 1 && y_next <= Gridsize    # check if gridpoint is out of bounds of grid\n",
    "                    if Grid[x_next,y_next] == 0 && Grid[Cell[1],Cell[2]] != 0                # check if target gridpoint is empty and sanity check if cell exists on previous gridpoint\n",
    "                        Grid[Cell[1],Cell[2]] = 0 \n",
    "                        Grid[x_next,y_next]  = j \n",
    "                        \n",
    "                        Cell[1] = x_next\n",
    "                        Cell[2] = y_next\n",
    "                        break\n",
    "                    end\n",
    "                end\n",
    "            end\n",
    "        end\n",
    "        Cell_list_copy = deepcopy(Cell_list)                                   # creating copy of cell list in order to avoid a pass by refernce. \n",
    "        push!(Cell_list_alltime,Cell_list_copy)\n",
    "    end\n",
    "    return(Cell_list_alltime)\n",
    "end"
   ]
  },
  {
   "cell_type": "code",
   "execution_count": 5,
   "id": "50478b66-f2f1-4b9f-a7fc-a2a3dc728787",
   "metadata": {},
   "outputs": [
    {
     "data": {
      "text/plain": [
       "save_settings (generic function with 1 method)"
      ]
     },
     "execution_count": 5,
     "metadata": {},
     "output_type": "execute_result"
    }
   ],
   "source": [
    "function convert_to_DF(cell_list_alltime)\n",
    "    cell_number = length(cell_list_alltime[1])\n",
    "    Data = DataFrame(timestep = ones(Int64,cell_number),id= collect(1:cell_number),\n",
    "        x = [i[1] for i in cell_list_alltime[1]],y = [i[2] for i in cell_list_alltime[1]])\n",
    "    for j in 2:length(cell_list_alltime)\n",
    "        append!(Data,DataFrame(timestep = ones(Int64,cell_number).*j,id= collect(1:cell_number),\n",
    "                x = [i[1] for i in cell_list_alltime[j]],y = [i[2] for i in cell_list_alltime[j]]))\n",
    "    end\n",
    "    return Data\n",
    "end\n",
    "\n",
    "function save_settings(Gridsize,Cell_number,Timesteps,Starting_config)\n",
    "    settings = Dict(\"gridsize\" => Gridsize, \"cell_number\" => Cell_number, \n",
    "        \"timesteps\" =>Timesteps, \"starting_config\" => Starting_config)\n",
    "    open(\"settings.txt\",\"w\") do file\n",
    "        print(file,settings)\n",
    "    end \n",
    "end"
   ]
  },
  {
   "cell_type": "code",
   "execution_count": 6,
   "id": "b146e144-6705-4d28-a9b6-ff0d149cfc94",
   "metadata": {},
   "outputs": [
    {
     "data": {
      "text/plain": [
       "animation_3D (generic function with 1 method)"
      ]
     },
     "execution_count": 6,
     "metadata": {},
     "output_type": "execute_result"
    }
   ],
   "source": [
    "function animation_2D(Data_gr,Gridsize) \n",
    "    t = Observable(1)\n",
    "    x = @lift(Data_gr[$t].:x)\n",
    "    y = @lift(Data_gr[$t].:y)\n",
    "    r = @lift((($x.-Gridsize/2).^2+($y.-Gridsize/2).^2).^(1/2))\n",
    "    titel = @lift(string($t))\n",
    "\n",
    "    set_theme!(theme_black())\n",
    "\n",
    "    fig6 = Figure(resolution = (1000,1000))\n",
    "    ax6 =Axis(fig6[1,1],title = @lift(\"timestep : $(round(Int64,$t))\"),titlesize = 35)\n",
    "    xlims!(ax6,0,Gridsize)\n",
    "    ylims!(ax6,0,Gridsize)\n",
    "    scatty6 = scatter!(ax6,x,y,color = r,colormap = :dense,label = \"particle\",marker = :circle,markersize = 15)\n",
    "\n",
    "    #hidedecorations!(ax6)\n",
    "    axislegend(ax6)\n",
    "    display(fig6)\n",
    "    return t,fig6\n",
    "end\n",
    "\n",
    "function animation_3D(Data_gr,Gridsize) \n",
    "    # make sure that camera flight is not too fast\n",
    "    if length(Data_gr) >= 1000\n",
    "        len = length(Data_gr)\n",
    "    else\n",
    "        len = 1000\n",
    "    end\n",
    "    t = Observable(1)\n",
    "    \n",
    "    x = @lift(Data_gr[$t].:x)\n",
    "    y = @lift(Data_gr[$t].:y)\n",
    "    r = @lift((($x.-Gridsize/2).^2+($y.-Gridsize/2).^2).^(1/2))\n",
    "    titel = @lift(string($t))\n",
    "    # define the camara angle\n",
    "    elevations = range(start = -2π,stop = 2π, length = len)\n",
    "    azimuths = range(start = 0,stop = 2π, length = len)\n",
    "    z = zeros(length(Data_gr[1].:x))\n",
    "    set_theme!(theme_black())\n",
    "\n",
    "    fig7 = Figure(resolution = (2000,2000))\n",
    "    ax7 =Axis3(fig7[1,1],\n",
    "        title = @lift(\"timestep : $(round(Int64,$t))\"),\n",
    "        elevation =@lift(elevations[$t])  , azimuth = @lift(azimuths[$t]),\n",
    "        viewmode = :fit,\n",
    "        titlesize = 35,protrusions = (0, 0, 0, 40)\n",
    "        )   \n",
    "\n",
    "    xlims!(ax7,0,Gridsize)\n",
    "    ylims!(ax7,0,Gridsize)\n",
    "    zlims!(-Gridsize/2,Gridsize/2)\n",
    "\n",
    "    scatty7 = scatty = meshscatter!(ax7,x,y,z,markersize = 2.5,color = r,\n",
    "        colormap = :diverging_gkr_60_10_c40_n256\n",
    "        ,label = \"particle\")\n",
    "    #hidedecorations!(ax7)\n",
    "    display(fig7)\n",
    "    return t,fig7\n",
    "end"
   ]
  },
  {
   "cell_type": "code",
   "execution_count": 7,
   "id": "bc9c71d1-b1ba-40e8-bfd5-b963504ea8c3",
   "metadata": {},
   "outputs": [
    {
     "data": {
      "text/plain": [
       "save_animation (generic function with 1 method)"
      ]
     },
     "execution_count": 7,
     "metadata": {},
     "output_type": "execute_result"
    }
   ],
   "source": [
    "function run_animation(T,Timesteps)\n",
    "    @async for i in 2:1:Timesteps\n",
    "        T[] = T[]+1\n",
    "        sleep(0.005)\n",
    "    end\n",
    "    T[] = 1\n",
    "end\n",
    "\n",
    "function save_animation(T,Fig,Data_gr)\n",
    "    record(Fig, \"beautiful2.mp4\",1:length(Data_gr); framerate = 30) do i\n",
    "    T[] = i\n",
    "    end\n",
    "end"
   ]
  },
  {
   "cell_type": "markdown",
   "id": "031a9b93-e51c-4aa1-8296-d65918ec0425",
   "metadata": {},
   "source": [
    "### <p style='color: green'>easy</p>"
   ]
  },
  {
   "cell_type": "markdown",
   "id": "3d50ecea-eafb-4c67-853d-3ec286e767bb",
   "metadata": {},
   "source": [
    "#### Exercise 1 \n",
    " Make some simulations for very small and very big systems and admire the beautiful animations.\n",
    "#### Solution 1 "
   ]
  },
  {
   "cell_type": "code",
   "execution_count": 9,
   "id": "08cbbd38-9006-4af1-8d72-27f786158cb9",
   "metadata": {},
   "outputs": [
    {
     "data": {
      "text/plain": [
       "1"
      ]
     },
     "execution_count": 9,
     "metadata": {},
     "output_type": "execute_result"
    }
   ],
   "source": [
    "gridsize = 50                               \n",
    "cell_number = 10                         \n",
    "timesteps = 200                           \n",
    "starting_config = \"square\"\n",
    "\n",
    "grid, cell_list = create_objects(gridsize, cell_number)\n",
    "grid, cell_list, cell_number = populate_sys!(grid, cell_list, starting_config,gridsize, cell_number)\n",
    "cell_all_2 = update_sys(grid,cell_list,gridsize,timesteps)\n",
    "data2 = convert_to_DF(cell_all_2)\n",
    "data_gr= groupby(data2,:timestep);\n",
    "\n",
    "t, fig = animation_2D(data_gr, gridsize)\n",
    "run_animation(t, timesteps) "
   ]
  },
  {
   "cell_type": "markdown",
   "id": "a6cc2856-ac63-4078-a248-0cb85b2408e0",
   "metadata": {},
   "source": [
    "Decreased the sleep time to 0.005 s, in the run animation function, to make the animation faster. Careful in executing the cell below, it needs ~ 8 GB of free memory. "
   ]
  },
  {
   "cell_type": "code",
   "execution_count": 10,
   "id": "72835ae2-09b6-44f2-90f7-aef491ecfbc4",
   "metadata": {},
   "outputs": [
    {
     "data": {
      "text/plain": [
       "1"
      ]
     },
     "execution_count": 10,
     "metadata": {},
     "output_type": "execute_result"
    }
   ],
   "source": [
    "gridsize = 500                               \n",
    "cell_number = 20000                         \n",
    "timesteps = 1000                           \n",
    "starting_config = \"square\"\n",
    "\n",
    "grid, cell_list = create_objects(gridsize, cell_number)\n",
    "grid, cell_list, cell_number = populate_sys!(grid, cell_list, starting_config,gridsize, cell_number)\n",
    "cell_all_2 = update_sys(grid,cell_list,gridsize,timesteps)\n",
    "data2 = convert_to_DF(cell_all_2)\n",
    "data_gr= groupby(data2,:timestep);\n",
    "\n",
    "t, fig = animation_3D(data_gr, gridsize)\n",
    "run_animation(t, timesteps) "
   ]
  },
  {
   "cell_type": "markdown",
   "id": "6db6c781-2b3c-4c7d-80bc-3f1d942aaa25",
   "metadata": {},
   "source": [
    "#### Exercise 2\n",
    "The color scheme used in the 3D animation is not very friendly to people with a red-green deficiency. Change that to a more friendly color scheme. If you don't remember where to find a list of the available color schemes, take a second look at the plotting chapter of this course. \n",
    "\n",
    "#### Solution 2 "
   ]
  },
  {
   "cell_type": "code",
   "execution_count": 10,
   "id": "e9f1e730",
   "metadata": {},
   "outputs": [],
   "source": [
    "import ColorSchemes as co"
   ]
  },
  {
   "cell_type": "code",
   "execution_count": 11,
   "id": "b28a8363-de39-42ac-bc43-4a60bea0b0a9",
   "metadata": {},
   "outputs": [
    {
     "data": {
      "text/plain": [
       "animation_3D (generic function with 1 method)"
      ]
     },
     "execution_count": 11,
     "metadata": {},
     "output_type": "execute_result"
    }
   ],
   "source": [
    "function animation_3D(Data_gr,Gridsize) \n",
    "    # make sure that camera flight is not too fast\n",
    "    if length(Data_gr) >= 1000\n",
    "        len = length(Data_gr)\n",
    "    else\n",
    "        len = 1000\n",
    "    end\n",
    "    t = Observable(1)\n",
    "    \n",
    "    x = @lift(Data_gr[$t].:x)\n",
    "    y = @lift(Data_gr[$t].:y)\n",
    "    r = @lift((($x.-Gridsize/2).^2+($y.-Gridsize/2).^2).^(1/2))\n",
    "    titel = @lift(string($t))\n",
    "    # define the camara angle\n",
    "    elevations = range(start = -2π,stop = 2π, length = len)\n",
    "    azimuths = range(start = 0,stop = 2π, length = len)\n",
    "    z = zeros(length(Data_gr[1].:x))\n",
    "    set_theme!(theme_black())\n",
    "\n",
    "    fig7 = Figure(resolution = (2000,2000))\n",
    "    ax7 =Axis3(fig7[1,1],\n",
    "        title = @lift(\"timestep : $(round(Int64,$t))\"),\n",
    "        elevation =@lift(elevations[$t])  , azimuth = @lift(azimuths[$t]),\n",
    "        viewmode = :fit,\n",
    "        titlesize = 35,protrusions = (0, 0, 0, 40)\n",
    "        )   \n",
    "\n",
    "    xlims!(ax7,0,Gridsize)\n",
    "    ylims!(ax7,0,Gridsize)\n",
    "    zlims!(-Gridsize/2,Gridsize/2)\n",
    "\n",
    "    scatty7 = scatty = meshscatter!(ax7,x,y,z,markersize = 2.5,color = r,\n",
    "        \n",
    "    \n",
    "        ##choose the twilight scheme \n",
    "        \n",
    "        \n",
    "        colormap = :twilight\n",
    "        ,label = \"particle\")\n",
    "    #hidedecorations!(ax7)\n",
    "    display(fig7)\n",
    "    return t,fig7\n",
    "end"
   ]
  },
  {
   "cell_type": "code",
   "execution_count": 12,
   "id": "c07ae9b2-e29e-4b89-ab36-22d5487586d6",
   "metadata": {},
   "outputs": [
    {
     "data": {
      "text/plain": [
       "1"
      ]
     },
     "execution_count": 12,
     "metadata": {},
     "output_type": "execute_result"
    }
   ],
   "source": [
    "gridsize = 200                               \n",
    "cell_number = 1000                        \n",
    "timesteps = 1000                           \n",
    "starting_config = \"square\"\n",
    "\n",
    "grid, cell_list = create_objects(gridsize, cell_number)\n",
    "grid, cell_list, cell_number = populate_sys!(grid, cell_list, starting_config,gridsize, cell_number)\n",
    "cell_all_2 = update_sys(grid,cell_list,gridsize,timesteps)\n",
    "data2 = convert_to_DF(cell_all_2)\n",
    "data_gr= groupby(data2,:timestep);\n",
    "\n",
    "t, fig = animation_3D(data_gr, gridsize)\n",
    "run_animation(t, timesteps) "
   ]
  },
  {
   "cell_type": "markdown",
   "id": "c9de4020-a9c1-483b-8d4b-233c94104c56",
   "metadata": {},
   "source": [
    "#### Exercise 3\n",
    " Use the `save_animation()` function to save your favorite simulation as a video.  \n",
    "#### Solution 3 "
   ]
  },
  {
   "cell_type": "code",
   "execution_count": 13,
   "id": "b97f8429-fbca-44c1-9d9c-aa270fac91ee",
   "metadata": {},
   "outputs": [
    {
     "data": {
      "text/plain": [
       "\"beautiful2.mp4\""
      ]
     },
     "execution_count": 13,
     "metadata": {},
     "output_type": "execute_result"
    }
   ],
   "source": [
    "gridsize = 50                               \n",
    "cell_number = 10                         \n",
    "timesteps = 200                           \n",
    "starting_config = \"square\"\n",
    "\n",
    "grid, cell_list = create_objects(gridsize, cell_number)\n",
    "grid, cell_list, cell_number = populate_sys!(grid, cell_list, starting_config,gridsize, cell_number)\n",
    "cell_all_2 = update_sys(grid,cell_list,gridsize,timesteps)\n",
    "data2 = convert_to_DF(cell_all_2)\n",
    "CSV.write(\"beautiful.csv\", data2)\n",
    "data_gr= groupby(data2,:timestep);\n",
    "save_settings(gridsize, cell_number, timesteps, starting_config)\n",
    "\n",
    "t, fig = animation_2D(data_gr, gridsize)\n",
    "save_animation(t,fig, data_gr) "
   ]
  },
  {
   "cell_type": "markdown",
   "id": "78278e0e-0568-4760-8882-80a947bcb491",
   "metadata": {},
   "source": [
    "### <p style='color: orange'>medium</p>"
   ]
  },
  {
   "cell_type": "markdown",
   "id": "9af1ce48-b823-44ee-b3da-ee5f356de50e",
   "metadata": {},
   "source": [
    "#### Exercise 4\n",
    " Define a new parameter `name` which should be part of the name of all created files of the simulation (csv, settingsfile, video). Change all involved functions accordingly.\n",
    " \n",
    " #### Solution 4 "
   ]
  },
  {
   "cell_type": "markdown",
   "id": "53edb782-50ec-4fc4-8e2b-daf9a3a59d1e",
   "metadata": {},
   "source": [
    "The `save_animation()` function, the `save_settings()` and `CSV.write()` all should take the new parameter `name` as input instead of a hardcoded `String` as a filename.   "
   ]
  },
  {
   "cell_type": "code",
   "execution_count": 14,
   "id": "61020e5f-d508-4cab-b8fe-21d1a85e3be0",
   "metadata": {},
   "outputs": [
    {
     "data": {
      "text/plain": [
       "save_settings (generic function with 2 methods)"
      ]
     },
     "execution_count": 14,
     "metadata": {},
     "output_type": "execute_result"
    }
   ],
   "source": [
    "# modify save_animation and save_settings\n",
    "function save_animation(T,Fig,Data_gr, Name)\n",
    "    record(Fig, \"$(Name).mp4\",1:length(Data_gr); framerate = 30) do i\n",
    "    T[] = i\n",
    "    end\n",
    "end\n",
    "\n",
    "\n",
    "function save_settings(Gridsize,Cell_number,Timesteps,Starting_config, Name)\n",
    "    settings = Dict(\"gridsize\" => Gridsize, \"cell_number\" => Cell_number, \n",
    "        \"timesteps\" =>Timesteps, \"starting_config\" => Starting_config)\n",
    "    open(\"$(Name).txt\",\"w\") do file\n",
    "        print(file,settings)\n",
    "    end \n",
    "end"
   ]
  },
  {
   "cell_type": "code",
   "execution_count": 15,
   "id": "53f9fe30-06ac-45d9-bd79-6178640ee53c",
   "metadata": {},
   "outputs": [
    {
     "data": {
      "text/plain": [
       "\"sim_with_name.mp4\""
      ]
     },
     "execution_count": 15,
     "metadata": {},
     "output_type": "execute_result"
    }
   ],
   "source": [
    "gridsize = 50                               \n",
    "cell_number = 100                         \n",
    "timesteps = 200                           \n",
    "starting_config = \"square\"\n",
    "name = \"sim_with_name\"\n",
    "\n",
    "grid, cell_list = create_objects(gridsize, cell_number)\n",
    "grid, cell_list, cell_number = populate_sys!(grid, cell_list, \"starting_config\",gridsize, cell_number)\n",
    "cell_all_2 = update_sys(grid,cell_list,gridsize,timesteps)\n",
    "data2 = convert_to_DF(cell_all_2)\n",
    "save_settings(gridsize, cell_number, timesteps, starting_config, name)\n",
    "CSV.write(\"$(name).csv\",data2)\n",
    "data_gr= groupby(data2,:timestep);\n",
    "\n",
    "t, fig = animation_2D(data_gr, gridsize)\n",
    "save_animation(t,fig, data_gr, name) "
   ]
  },
  {
   "cell_type": "markdown",
   "id": "11f7f019-c8eb-4c5e-97b2-0b88edcf0c13",
   "metadata": {},
   "source": [
    "#### Exercise 5\n",
    "\n",
    "Normally you wouldn't put such long function definitions into a jupyter notebook and then use them in the same jupyter notebook below. Typically, you would put them into an external file and import them at the beginning. Take a look how `include()` [works](https://docs.julialang.org/en/v1/manual/code-loading/). Create a `test.jl` file with an example function written by you and include it into a jupyter notebook and execute it there.   \n",
    "\n",
    "#### Solution 5\n"
   ]
  },
  {
   "cell_type": "code",
   "execution_count": 16,
   "id": "b753df25-2336-4b67-a9e8-ece6ba1b0114",
   "metadata": {},
   "outputs": [
    {
     "name": "stdout",
     "output_type": "stream",
     "text": [
      "Beer Beer Beer\n"
     ]
    }
   ],
   "source": [
    "include(\"test.jl\")\n",
    "i_love(\"Beer\")"
   ]
  },
  {
   "cell_type": "markdown",
   "id": "a192fc3e-9d6e-4037-b9b3-f5dd720c36e9",
   "metadata": {
    "tags": []
   },
   "source": [
    "#### Exercise 6\n",
    "Put all the functions defined here into a `random_walk.jl` file include them into a new juypter notebook called `executor.ipynb` and run the simulation and animation there. \n",
    "#### Solution 6"
   ]
  },
  {
   "cell_type": "markdown",
   "id": "461822db-4cfb-4c45-b470-26051a2218b5",
   "metadata": {},
   "source": [
    "Look at `executor.ipynb` and `random_walk.jl` this and the next exercises are solved there. "
   ]
  },
  {
   "cell_type": "code",
   "execution_count": null,
   "id": "f48dcb31-3a94-41f3-aeef-ea5d65bde42c",
   "metadata": {},
   "outputs": [],
   "source": []
  }
 ],
 "metadata": {
  "kernelspec": {
   "display_name": "Julia 1.9.0",
   "language": "julia",
   "name": "julia-1.9"
  },
  "language_info": {
   "file_extension": ".jl",
   "mimetype": "application/julia",
   "name": "julia",
   "version": "1.9.0"
  }
 },
 "nbformat": 4,
 "nbformat_minor": 5
}
