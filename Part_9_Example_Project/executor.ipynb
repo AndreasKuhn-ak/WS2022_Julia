{
 "cells": [
  {
   "cell_type": "markdown",
   "id": "04d6092a-6822-4d63-898c-ac80635df693",
   "metadata": {},
   "source": [
    "#### Exercise 6\n",
    "Put all the functions defined here into a `random_walk.jl` file include them into a new juypter notebook called `executor.ipynb` and run the simulation and animation there. \n",
    "#### Solution 6"
   ]
  },
  {
   "cell_type": "code",
   "execution_count": 1,
   "id": "07fed36d-5221-4742-9b32-57689ad82df3",
   "metadata": {},
   "outputs": [
    {
     "data": {
      "text/plain": [
       "convert_to_DF (generic function with 1 method)"
      ]
     },
     "metadata": {},
     "output_type": "display_data"
    }
   ],
   "source": [
    "include(\"random_walk.jl\")"
   ]
  },
  {
   "cell_type": "code",
   "execution_count": 2,
   "id": "4ea7ee9b-1e89-450e-b2b9-89d86b87f0e4",
   "metadata": {},
   "outputs": [
    {
     "data": {
      "text/plain": [
       "1"
      ]
     },
     "metadata": {},
     "output_type": "display_data"
    }
   ],
   "source": [
    "gridsize = 210                               \n",
    "particle_number = 1000                         \n",
    "timesteps = 400                           \n",
    "starting_config = \"square\"\n",
    "name = \"executor_sim\"\n",
    "\n",
    "grid, particle_list = create_objects(gridsize, particle_number)\n",
    "grid, particle_list, particle_number = populate_sys!(grid, particle_list, starting_config,gridsize, particle_number)\n",
    "particle_all_2 = update_sys(grid,particle_list,gridsize,timesteps)\n",
    "data2 = convert_to_DF(particle_all_2)\n",
    "save_settings(gridsize, particle_number, timesteps, starting_config, name)\n",
    "CSV.write(\"$(name).csv\",data2)\n",
    "data_gr= groupby(data2,:timestep);\n",
    "\n",
    "t, fig = animation_2D(data_gr, gridsize)\n",
    "run_animation(t,timesteps)"
   ]
  },
  {
   "cell_type": "markdown",
   "id": "2221fcda-8850-45c5-acee-231da6f6f74c",
   "metadata": {},
   "source": [
    "#### Exercise 7\n",
    "Change the movement of the particles by changing the `update_sys()` function to `update_sys_bias()` in `random_walk.jl`. Remove one of the possible movement vectors on the grid to give them a bias in a certain direction. How does the result change for long time spans? Save a video of your changed simulation. \n",
    "\n",
    "Hint: If you are changing a `.jl` you have to include it again, so that the changes are active in the Julia session. \n",
    "#### Solution 7"
   ]
  },
  {
   "cell_type": "markdown",
   "id": "5d737506-4474-4156-96b8-1a64bf6a77ea",
   "metadata": {},
   "source": [
    "Look at `random_walk.jl`. There the function `update_sys_bias()` is defined. "
   ]
  },
  {
   "cell_type": "code",
   "execution_count": 3,
   "id": "6c666ddf-ebbc-4080-903c-79cf5e51b7e3",
   "metadata": {},
   "outputs": [
    {
     "data": {
      "text/plain": [
       "\"biased_movement.mp4\""
      ]
     },
     "metadata": {},
     "output_type": "display_data"
    }
   ],
   "source": [
    "gridsize = 210                               \n",
    "particle_number = 1000                         \n",
    "timesteps = 1000                           \n",
    "starting_config = \"square\"\n",
    "name = \"biased_movement\"\n",
    "\n",
    "grid, particle_list = create_objects(gridsize, particle_number)\n",
    "grid, particle_list, particle_number = populate_sys!(grid, particle_list, starting_config,gridsize, particle_number)\n",
    "particle_all_2 = update_sys_bias(grid,particle_list,gridsize,timesteps)\n",
    "data2 = convert_to_DF(particle_all_2)\n",
    "save_settings(gridsize, particle_number, timesteps, starting_config, name)\n",
    "CSV.write(\"$(name).csv\",data2)\n",
    "data_gr= groupby(data2,:timestep);\n",
    "\n",
    "t, fig = animation_2D(data_gr, gridsize)\n",
    "save_animation(t,fig, data_gr, name) "
   ]
  },
  {
   "cell_type": "markdown",
   "id": "b2d39d4f-30ed-47c5-90a7-7a7a802e09f9",
   "metadata": {},
   "source": [
    "Compared to the unbiased random walk, the particles move very clearly in the opposite direction of the missing mov_vec.  "
   ]
  },
  {
   "cell_type": "markdown",
   "id": "491b29f6-eef3-4925-896c-50de1fbc4d3b",
   "metadata": {},
   "source": [
    "#### Exercise 8\n",
    "The starting configuration in a square is not very realistic, add another option in the `populate_sys!` that puts the particles into a circle. \n",
    "#### Solution 8"
   ]
  },
  {
   "cell_type": "markdown",
   "id": "ae67d87e-96b5-41bf-9208-0936adf31260",
   "metadata": {},
   "source": [
    "Look at `random_walk.jl` to see the changes in the `populate_sys!()` function."
   ]
  },
  {
   "cell_type": "code",
   "execution_count": 4,
   "id": "50dfcb9d-fc99-4b8c-95b4-10e7c30e73bf",
   "metadata": {},
   "outputs": [
    {
     "data": {
      "text/plain": [
       "1"
      ]
     },
     "metadata": {},
     "output_type": "display_data"
    }
   ],
   "source": [
    "gridsize = 210                               \n",
    "particle_number = 1000                         \n",
    "timesteps = 1000                           \n",
    "starting_config = \"circle\"\n",
    "name = \"executor_sim\"\n",
    "\n",
    "grid, particle_list = create_objects(gridsize, particle_number)\n",
    "grid, particle_list, particle_number = populate_sys!(grid, particle_list, starting_config,gridsize, particle_number)\n",
    "particle_all_2 = update_sys(grid,particle_list,gridsize,timesteps)\n",
    "data2 = convert_to_DF(particle_all_2)\n",
    "save_settings(gridsize, particle_number, timesteps, starting_config, name)\n",
    "CSV.write(\"$(name).csv\",data2)\n",
    "data_gr= groupby(data2,:timestep);\n",
    "\n",
    "t, fig = animation_2D(data_gr, gridsize)\n",
    "run_animation(t,timesteps)\n",
    "#save_animation(t,fig, data_gr, name) "
   ]
  },
  {
   "cell_type": "markdown",
   "id": "88ebb0b3-06ce-49a2-a9f4-fab8c37b7178",
   "metadata": {},
   "source": [
    "### <p style='color: red'>Very hard - Only do when you want to punish yourself</p>"
   ]
  },
  {
   "cell_type": "markdown",
   "id": "bb64d2b3-17e5-446c-9118-89cd80c427b9",
   "metadata": {},
   "source": [
    "#### Exercise 9\n",
    "A typically way to quantify random walk is the mean squared displacement [(MSD)](https://en.wikipedia.org/wiki/Mean_squared_displacement). Make a simulation run with the following parameters: \n",
    "```julia\n",
    "gridsize = 1000                               \n",
    "particle_number = 1000                         \n",
    "timesteps = 5000                           \n",
    "starting_config = \"random\"\n",
    "name = \"msd\"\n",
    "```\n",
    "Use the created dataframe to calculate the MSD. Plot the MSD against time in a line plot and save it. What behaviour do you see and what is expected from a [random walk](https://en.wikipedia.org/wiki/Anomalous_diffusion)? \n",
    "#### Solution 9"
   ]
  },
  {
   "cell_type": "code",
   "execution_count": 5,
   "id": "4d2a5af6-c8c5-4a77-9e2f-ec5f7b0c3b03",
   "metadata": {},
   "outputs": [
    {
     "data": {
      "text/plain": [
       "\"msd.csv\""
      ]
     },
     "metadata": {},
     "output_type": "display_data"
    }
   ],
   "source": [
    "gridsize = 1000                               \n",
    "particle_number = 1000                         \n",
    "timesteps = 5000                           \n",
    "starting_config = \"random\"\n",
    "name = \"msd\"\n",
    "\n",
    "grid, particle_list = create_objects(gridsize, particle_number)\n",
    "grid, particle_list, particle_number = populate_sys!(grid, particle_list, starting_config,gridsize, particle_number)\n",
    "particle_all_2 = update_sys(grid,particle_list,gridsize,timesteps)\n",
    "data_msd = convert_to_DF(particle_all_2)\n",
    "save_settings(gridsize, particle_number, timesteps, starting_config, name)\n",
    "CSV.write(\"$(name).csv\",data_msd)"
   ]
  },
  {
   "cell_type": "code",
   "execution_count": 6,
   "id": "c6a843fb-9c53-45ef-bbd1-009160140403",
   "metadata": {},
   "outputs": [],
   "source": [
    "using DataFramesMeta, Chain, Statistics"
   ]
  },
  {
   "cell_type": "code",
   "execution_count": 7,
   "id": "9e64c36e-b861-4ae6-a177-b79777f513d0",
   "metadata": {},
   "outputs": [],
   "source": [
    "data_msd\n",
    "MSD = @chain data_msd begin\n",
    "    # splitt into individual particles\n",
    "    groupby(:id)\n",
    "    #calculate msd for every particle\n",
    "    @transform(:msd = (((:x.-:x[1]).^2+(:y.-:y[1]).^2)))\n",
    "    groupby(:timestep)\n",
    "    @combine(:msd = mean(:msd))\n",
    "end\n",
    ";"
   ]
  },
  {
   "cell_type": "code",
   "execution_count": 8,
   "id": "bd516af9-6c0d-499b-8fbc-e7fdb8b6462b",
   "metadata": {},
   "outputs": [],
   "source": [
    "fig1 = Figure()\n",
    "ax1 = Axis(fig1[1,1],xlabel = \"timesteps [τ]\", ylabel =\"MSD [r^2(τ)]\" ) \n",
    "lines!(ax1,MSD.timestep, MSD.msd)\n",
    "fig1"
   ]
  },
  {
   "cell_type": "markdown",
   "id": "36771d22-d936-4616-98c6-61b1f3a46269",
   "metadata": {},
   "source": [
    "The MSD is linear with respect to time, which means that normal diffusion occurs in our model. That means that this very simple model for random walk approximates the more complex Brownian motion or the continuous diffusion equation surprisingly well :).  "
   ]
  },
  {
   "cell_type": "code",
   "execution_count": 9,
   "id": "8353157c",
   "metadata": {},
   "outputs": [],
   "source": []
  },
  {
   "cell_type": "code",
   "execution_count": 10,
   "id": "8ea1ea45-f2d5-4b6c-9231-729ab257f9fd",
   "metadata": {},
   "outputs": [],
   "source": []
  },
  {
   "cell_type": "code",
   "execution_count": null,
   "id": "d7e12da7-ee40-47ba-b02a-fb9248758368",
   "metadata": {},
   "outputs": [],
   "source": []
  },
  {
   "cell_type": "code",
   "execution_count": null,
   "id": "c3b94d88-aaa0-4b4e-b430-7b712f637832",
   "metadata": {},
   "outputs": [],
   "source": []
  }
 ],
 "metadata": {
  "kernelspec": {
   "display_name": "Julia 1.9.2",
   "language": "julia",
   "name": "julia-1.9"
  },
  "language_info": {
   "file_extension": ".jl",
   "mimetype": "application/julia",
   "name": "julia",
   "version": "1.9.2"
  }
 },
 "nbformat": 4,
 "nbformat_minor": 5
}
